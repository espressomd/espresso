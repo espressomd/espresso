{
 "cells": [
  {
   "cell_type": "markdown",
   "metadata": {},
   "source": [
    "# Enhanced Diffusion\n",
    "\n",
    "Self-propelled particles behave differently from passive ones when it comes to their diffusivity. In particular, an active particle of a certain size violates the Stokes-Einstein relation, which states that the translational diffusion coefficient (of a sphere) is given by \n",
    "\n",
    "$$D = \\frac{k_{\\mathrm{B}}T}{6 \\pi \\eta R},$$\n",
    "\n",
    "where $k_{\\mathrm{B}}$ is Boltzmann's constant, $T$ the temperature, $\\eta$ is the viscosity, and $R$ is the radius. N.B. For a Langevin thermostat the friction $\\zeta \\equiv 6 \\pi \\eta R$ and the 'temperature' is given in units of $k_{\\mathrm{B}}$. If the self-propelled particle does not experience Brownian motion, it would move with a constant speed along a straight line. This means that its mean-squared displacement (MSD) is ballistic. Rotational reorientation due to Brownian collisions with the fluid, cause this self-propulsion-induced ballistic regime to transition into a diffusive regime, on a time governed by the rotational diffusion. Thus, when compared to its passive equivalent, the ballistic regime of the MSD is stretched considerably and the diffusivity is enhanced. Analysis of the equations of motion [@Howse_07] shows that the MSD is given by \n",
    "\n",
    "$$\\langle r^{2}(t) \\rangle = 6 D t + \\frac{v^{2} \\tau^{2}_{R}}{2} \\left[ \\frac{2 t}{\\tau^{2}_{R}} + \\exp\\left( \\frac{-2t}{\\tau^{2}_{R}} \\right) - 1 \\right],$$\n",
    "\n",
    "where $\\langle r^{2}(t) \\rangle$ is the MSD from time $t=0$, $v$ is the propulsion velocity, $\\tau^{2}_{R}$ is the rotational Brownian time, and $D$ is the translational diffusivity as in the Stokes-Einstein relation. For small times ($t \\ll \\tau_{R}$) the motion is ballistic \n",
    "\n",
    "$$\\langle r^{2}(t) \\rangle = 6 D t + v^{2} t^{2},$$\n",
    "\n",
    "while for long times ($t \\gg \\tau_{R}$) the motion is diffusive \n",
    "\n",
    "$$\\langle r^{2}(t) \\rangle = (6 D + v^{2}\\tau_{R}) t,$$\n",
    "\n",
    "with enhanced diffusion coefficient $D_{\\mathrm{eff}} = D + v^{2}\\tau_{R}/6$. Note that no matter the strength of the activity, provided it is some finite value, the crossover between ballistic motion and enhanced diffusion is controlled by the rotational diffusion time. One can, of course, also connect this increased diffusion with an effective temperature, using the Stokes-Einstein relation. However, this apparent equivalence can lead to problems when one then attempts to apply statistical mechanics to such systems at the effective temperature. That is, there is typically more to being out-of-equilibrium than can be captured by a simple remapping of equilibrium parameters."
   ]
  },
  {
   "cell_type": "markdown",
   "metadata": {},
   "source": [
    "# The enhanced diffusion tutorial"
   ]
  },
  {
   "cell_type": "code",
   "execution_count": 1,
   "metadata": {},
   "outputs": [],
   "source": [
    "from __future__ import print_function\n",
    "\n",
    "import numpy as np\n",
    "import matplotlib.pyplot as plt\n",
    "\n",
    "import espressomd\n",
    "from espressomd import assert_features\n",
    "from espressomd.observables import ParticlePositions, ParticleVelocities, ParticleAngularVelocities\n",
    "from espressomd.accumulators import Correlator"
   ]
  },
  {
   "cell_type": "code",
   "execution_count": 2,
   "metadata": {},
   "outputs": [],
   "source": [
    "required_features=[\"ENGINE\",\"ROTATION\"]\n",
    "assert_features(required_features)"
   ]
  },
  {
   "cell_type": "code",
   "execution_count": 3,
   "metadata": {},
   "outputs": [],
   "source": [
    "sampsteps  = 5000\n",
    "samplength = 1000\n",
    "tstep      = 0.01"
   ]
  },
  {
   "cell_type": "code",
   "execution_count": 4,
   "metadata": {},
   "outputs": [
    {
     "data": {
      "text/plain": [
       "<espressomd.particle_data.ParticleHandle at 0x7ff7a00693c8>"
      ]
     },
     "execution_count": 4,
     "metadata": {},
     "output_type": "execute_result"
    }
   ],
   "source": [
    "system = espressomd.System(box_l=[10.0, 10.0, 10.0])\n",
    "system.cell_system.skin = 0.3\n",
    "system.time_step = tstep\n",
    "\n",
    "# Use the Langevin thermostat (no hydrodynamics)\n",
    "system.thermostat.set_langevin(kT=1.0, gamma=1.0)\n",
    "\n",
    "# Place a single active particle (that can rotate freely! rotation=[1,1,1])\n",
    "system.part.add(pos=[5.0, 5.0, 5.0],rotation=[1,1,1])"
   ]
  },
  {
   "cell_type": "code",
   "execution_count": 5,
   "metadata": {},
   "outputs": [
    {
     "name": "stdout",
     "output_type": "stream",
     "text": [
      "Run 1, vel = 0.0\n",
      "Run 2, vel = 0.0\n",
      "Run 3, vel = 0.0\n",
      "Run 4, vel = 0.0\n",
      "Run 5, vel = 0.0\n",
      "Run 1, vel = 5.0\n",
      "Run 2, vel = 5.0\n",
      "Run 3, vel = 5.0\n",
      "Run 4, vel = 5.0\n",
      "Run 5, vel = 5.0\n"
     ]
    }
   ],
   "source": [
    "for vel in [0.0, 5.0]:\n",
    "    msds = []\n",
    "    vacfs = []\n",
    "    avacfs = []\n",
    "\n",
    "    for run in range(5):\n",
    "        print(\"Run {}, vel = {}\".format(run+1, vel))\n",
    "        # Set up a random seed (a new one for each run)\n",
    "        system.seed = np.random.randint(0,2**31-1)\n",
    "\n",
    "        # Set the particle's swimming velocity\n",
    "        system.part[0].swimming = { 'v_swim' : vel }\n",
    "\n",
    "        # Initialize the mean squared displacement (MSD) correlator\n",
    "        tmax = tstep*sampsteps\n",
    "\n",
    "        pos_id = ParticlePositions(ids=[0])\n",
    "        msd    = Correlator(obs1=pos_id,\n",
    "                            corr_operation=\"square_distance_componentwise\",\n",
    "                            delta_N=1,\n",
    "                            tau_max=tmax,\n",
    "                            tau_lin=16)\n",
    "        system.auto_update_accumulators.add(msd)\n",
    "\n",
    "        # Initialize the velocity auto-correlation function (VACF) correlator\n",
    "        vel_id = ParticleVelocities(ids=[0])\n",
    "        vacf   = Correlator(obs1=vel_id,\n",
    "                            corr_operation=\"scalar_product\",\n",
    "                            delta_N=1,\n",
    "                            tau_max=tmax,\n",
    "                            tau_lin=16)\n",
    "        system.auto_update_accumulators.add(vacf)\n",
    "\n",
    "        # Initialize the angular velocity auto-correlation function (AVACF) correlator\n",
    "        ang_id = ParticleAngularVelocities(ids=[0])\n",
    "        avacf  = Correlator(obs1=ang_id,\n",
    "                            corr_operation=\"scalar_product\",\n",
    "                            delta_N=1,\n",
    "                            tau_max=tmax,\n",
    "                            tau_lin=16)\n",
    "        system.auto_update_accumulators.add(avacf)\n",
    "\n",
    "        # Integrate 5,000,000 steps. This can be done in one go as well.\n",
    "        for i in range(sampsteps):\n",
    "            system.integrator.run(samplength)\n",
    "\n",
    "        # Finalize the correlators\n",
    "        system.auto_update_accumulators.remove(msd)\n",
    "        msd.finalize()\n",
    "        msds.append(msd.result())\n",
    "\n",
    "        system.auto_update_accumulators.remove(vacf)\n",
    "        vacf.finalize()\n",
    "        vacfs.append(vacf.result())\n",
    "\n",
    "        system.auto_update_accumulators.remove(avacf)\n",
    "        avacf.finalize()\n",
    "        avacfs.append(avacf.result())\n",
    "        \n",
    "    if vel == 0.0:\n",
    "        msd_passive = np.array(msds)\n",
    "        vacf_passive = np.array(vacfs)\n",
    "        avacf_passive = np.array(avacfs)\n",
    "    if vel != 0.0:\n",
    "        msd_active = np.array(msds)\n",
    "        vacf_active = np.array(vacfs)\n",
    "        avacf_active = np.array(avacfs)"
   ]
  },
  {
   "cell_type": "markdown",
   "metadata": {},
   "source": [
    "Here, the observable `pos_id` is set to the particle positions of the only particle in the simulation (with ID 0). Then an MSD correlation is created on the next line. Since the MSD is an auto-correlation function, we only require one entry for the observables, see the User Guide for additional information. The command `corr_operation` allows one to choose the type of correlation, in this case `\"square_distance_componentwise\"`, which gives the MSD for each component (x, y, and z). The time step internal in which to record samples `delta_N` is set next, followed by the value of the maximum time (`tmax`) over which the correlation is to be computed. This maximum can be set to the total integrated time. However, it is recommended --- as in the script --- not to do so, since this will give very limited sampling for the longest times (one or even zero samples). In the tutorial only a 1000th of the total run length is used for `tmax`, which means at least 1000 samples are gathered for the longest time in the correlation function. You can play with this parameter to see the effect on the quality of the sampling. The command `tau_lin=16` indicates that the intervals of sampling are chosen by the correlator according to an exponential distribution, see the User Guide.  Next the command\n",
    "\n",
    "```python\n",
    "system.auto_update_accumulators.add(msd)\n",
    "```\n",
    "\n",
    "lets ESPResSo know to start measuring the correlation function and to do so automatically during integration. After integration, the commands\n",
    "\n",
    "```python\n",
    "system.auto_update_accumulators.remove(msd)\n",
    "msd.finalize()\n",
    "```\n",
    "\n",
    "ensure that the auto updating is terminated and that any available information used to create the auto correlation. That is, information that has not yet been used is processed. Finally, the correlation allows you to write output to disk in a format that depends on the specific choice of correlation.\n",
    "\n",
    "With the above knowledge it should be easy to understand the partially functional Python script. It is a straightforward simulation of a single particle, which uses the correlator functionality of ESPResSo to determine the MSD and (angular) velocity auto-correlation function (A)VACF. The latter two are of interest, since we can infer that the swimming only affects the translational motion and not the rotational motion. They are given by\n",
    "\n",
    "$$\n",
    "\\begin{aligned}\n",
    "\\mathrm{VACF}(t) &= \\langle \\mathbf{v}(t) \\cdot \\mathbf{v}(t + \\tau) \\rangle_{\\tau}, \\\\\n",
    "\\mathrm{AVACF}(t) &= \\langle \\boldsymbol{\\omega}(t) \\cdot \\boldsymbol{\\omega}(t + \\tau) \\rangle_{\\tau} ,\n",
    "\\end{aligned}\n",
    "$$\n",
    "\n",
    "respectively. Here,$\\mathbf{v}$ is the velocity and $\\boldsymbol{\\omega}$ is the angular velocity, and the brackets $\\langle\\rangle_{\\tau}$ indicate time averaging over $\\tau$. The first task is to get the script up and running. Once you have done this, you will find that you can output a single measurement of the MSD and (A)VACF for a passive system (`vel=0.0`) or an active on (e.g., `vel=5.0`). You can plot these using Matplotlib, for instance. For the MSD there are three data entries, as the MSD is calculated in each direction (x, y, and z).\n",
    "\n",
    "Despite the long run length, the quality of the MSD and (A)VACF can be lacking. It is therefore recommended that you output 5 uncorrelated data files. The Python script is designed to facilitate you doing this. Once you have obtained this data for a velocity of `vel=0.0` (passive) and `vel=5.0` active particle, you can average over these and obtain a mean and standard error for your data. You will be pleased to find that indeed, there is enhanced diffusion for the active system and that the ballistic regime is stretched compared to the passive case, see below. Contrasting the passive and active AVACFs shows that the rotational properties are unaffected, as expected."
   ]
  },
  {
   "cell_type": "code",
   "execution_count": 6,
   "metadata": {},
   "outputs": [
    {
     "data": {
      "image/png": "[encoded data removed]",
      "text/plain": [
       "<matplotlib.figure.Figure at 0x7ff7a0051490>"
      ]
     },
     "metadata": {},
     "output_type": "display_data"
    }
   ],
   "source": [
    "plt.xscale(\"log\")\n",
    "plt.yscale(\"log\")\n",
    "plt.xlabel(\"$t$\")\n",
    "plt.ylabel(\"MSD\")\n",
    "mean = msd_passive.mean(axis=0)\n",
    "std = msd_passive.std(axis=0,ddof=1)\n",
    "plt.errorbar(mean[:,0],mean[:,2:].sum(axis=1),yerr=std[:,2:].sum(axis=1));\n",
    "mean = msd_active.mean(axis=0)\n",
    "std = msd_active.std(axis=0,ddof=1)\n",
    "plt.errorbar(mean[:,0],mean[:,2:].sum(axis=1),yerr=std[:,2:].sum(axis=1));"
   ]
  },
  {
   "cell_type": "code",
   "execution_count": 7,
   "metadata": {},
   "outputs": [
    {
     "data": {
      "image/png": "[encoded data removed]",
      "text/plain": [
       "<matplotlib.figure.Figure at 0x7ff7a0036c90>"
      ]
     },
     "metadata": {},
     "output_type": "display_data"
    }
   ],
   "source": [
    "plt.xscale(\"log\")\n",
    "plt.yscale(\"log\")\n",
    "plt.xlabel(\"$t$\")\n",
    "plt.ylabel(\"VACF\")\n",
    "mean = vacf_passive.mean(axis=0)\n",
    "std = vacf_passive.std(axis=0,ddof=1)\n",
    "plt.errorbar(mean[:,0],mean[:,2],yerr=std[:,2]);\n",
    "mean = vacf_active.mean(axis=0)\n",
    "std = vacf_active.std(axis=0,ddof=1)\n",
    "plt.errorbar(mean[:,0],mean[:,2],yerr=std[:,2]);"
   ]
  },
  {
   "cell_type": "code",
   "execution_count": 8,
   "metadata": {},
   "outputs": [
    {
     "data": {
      "image/png": "[encoded data removed]",
      "text/plain": [
       "<matplotlib.figure.Figure at 0x7ff780a43b10>"
      ]
     },
     "metadata": {},
     "output_type": "display_data"
    }
   ],
   "source": [
    "plt.xscale(\"log\")\n",
    "plt.yscale(\"log\")\n",
    "plt.xlabel(\"$t$\")\n",
    "plt.ylabel(\"AVACF\")\n",
    "mean = avacf_passive.mean(axis=0)\n",
    "std = avacf_passive.std(axis=0,ddof=1)\n",
    "plt.errorbar(mean[:,0],mean[:,2],yerr=std[:,2]);\n",
    "mean = avacf_active.mean(axis=0)\n",
    "std = avacf_active.std(axis=0,ddof=1)\n",
    "plt.errorbar(mean[:,0],mean[:,2],yerr=std[:,2]);"
   ]
  }
 ],
 "metadata": {
  "kernelspec": {
   "display_name": "Python 2",
   "language": "python",
   "name": "python2"
  },
  "language_info": {
   "codemirror_mode": {
    "name": "ipython",
    "version": 2
   },
   "file_extension": ".py",
   "mimetype": "text/x-python",
   "name": "python",
   "nbconvert_exporter": "python",
   "pygments_lexer": "ipython2",
   "version": "2.7.15rc1"
  }
 },
 "nbformat": 4,
 "nbformat_minor": 2
}
