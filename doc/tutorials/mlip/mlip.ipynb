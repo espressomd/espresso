{
 "cells": [
  {
   "cell_type": "markdown",
   "metadata": {},
   "source": [
    "# Machine-Learning Interatomic Potentials\n",
    "\n",
    "Running simulations with energies and forces from *ab initio* methods, such as DFT allows for higher accuracy and the investigation of different systems. E.g., *ab initio* MD can be used to study chemical reactions on an atomistic scale. With the recent advancments in machine-learning interatomic potentials (MLIPs) it is possible to scale up these types of simulations to large systems [allegro paper] and long simulation times [bmim paper] while retaining the accuracy of the underlying *ab initio* methods.\n",
    "\n",
    "In this tutorial you will use pre-trained MLIPs to run simulations within ESPResSo. There are many different MLIPs architectures and respective open-source python packages:\n",
    "- MACE\n",
    "- NequIP / allegro\n",
    "- Apax\n",
    "- DeepMD\n",
    "- TorchANI\n",
    "\n",
    "In this tutorial, we will focus on the MACE-MP-0 model, which has been trained on the materials project dataset and is able to accuratly predict energies and forces for many organic and inorganic systems.\n",
    "\n",
    "Most MLIPs provide a Python interface through the ASE package. ESPResSo also utilizes this interface, and thus we will have a quick overview of the ASE features. The main object used is the `ase.Atoms`, which represents a single frame of an atomistic simulation."
   ]
  },
  {
   "cell_type": "markdown",
   "metadata": {},
   "source": [
    "We can use "
   ]
  },
  {
   "cell_type": "code",
   "execution_count": 6,
   "metadata": {},
   "outputs": [],
   "source": [
    "import espressomd\n",
    "import ipsuite as ips\n",
    "import numpy as np\n",
    "import pandas as pd\n",
    "import pint\n",
    "import plotly.express as px\n",
    "import tqdm\n",
    "from espressomd.plugins.ase import ASEInterface\n",
    "from espressomd.zn import Visualizer\n",
    "from mace.calculators import mace_mp\n",
    "from rdkit2ase import smiles2atoms"
   ]
  },
  {
   "cell_type": "markdown",
   "metadata": {},
   "source": [
    "For MLIP the typical unit system is energies in eV, distances in Angstrom and time in fs and mass in atomic units. This is also the default unit system within ASE. We will use pint to ensure correct unit usage within espresso."
   ]
  },
  {
   "cell_type": "code",
   "execution_count": 7,
   "metadata": {},
   "outputs": [],
   "source": [
    "ureg = pint.UnitRegistry()\n",
    "boltmk = 1.380649e-23 * ureg.J / ureg.K\n",
    "boltmk = boltmk.to(ureg.eV / ureg.K)"
   ]
  },
  {
   "cell_type": "markdown",
   "metadata": {},
   "source": [
    "In this tutorial we will use SMILES representations and rdkit to generate starting structures. In this first part, we will look at a gas phase system of Ethanol, run a geometry optimization followed by a short MD simulation. First, let us instantiate our MLIP."
   ]
  },
  {
   "cell_type": "code",
   "execution_count": 8,
   "metadata": {},
   "outputs": [
    {
     "name": "stdout",
     "output_type": "stream",
     "text": [
      "Using Materials Project MACE for MACECalculator with /tikhome/fzills/.cache/mace/5yyxdm76\n",
      "Using float32 for MACECalculator, which is faster but less accurate. Recommended for MD. Use float64 for geometry optimization.\n"
     ]
    },
    {
     "name": "stderr",
     "output_type": "stream",
     "text": [
      "/data/fzills/miniconda3/envs/espresso/lib/python3.10/site-packages/mace/calculators/mace.py:128: FutureWarning: You are using `torch.load` with `weights_only=False` (the current default value), which uses the default pickle module implicitly. It is possible to construct malicious pickle data which will execute arbitrary code during unpickling (See https://github.com/pytorch/pytorch/blob/main/SECURITY.md#untrusted-models for more details). In a future release, the default value for `weights_only` will be flipped to `True`. This limits the functions that could be executed during unpickling. Arbitrary objects will no longer be allowed to be loaded via this mode unless they are explicitly allowlisted by the user via `torch.serialization.add_safe_globals`. We recommend you start setting `weights_only=True` for any use case where you don't have full control of the loaded file. Please open an issue on GitHub for any issues related to this experimental feature.\n",
      "  torch.load(f=model_path, map_location=device)\n"
     ]
    },
    {
     "name": "stdout",
     "output_type": "stream",
     "text": [
      "Default dtype float32 does not match model dtype float64, converting models to float32.\n"
     ]
    }
   ],
   "source": [
    "mace_mp_calc = mace_mp()"
   ]
  },
  {
   "cell_type": "markdown",
   "metadata": {},
   "source": [
    "We can now create our ASE atoms object and attach the aforementioned MLIP calculator to it. "
   ]
  },
  {
   "cell_type": "code",
   "execution_count": 9,
   "metadata": {},
   "outputs": [
    {
     "data": {
      "text/plain": [
       "Atoms(symbols='C2OH6', pbc=False, calculator=MACECalculator(...))"
      ]
     },
     "execution_count": 9,
     "metadata": {},
     "output_type": "execute_result"
    }
   ],
   "source": [
    "etoh = smiles2atoms(\"CCO\")\n",
    "etoh.calc = mace_mp_calc\n",
    "etoh"
   ]
  },
  {
   "cell_type": "markdown",
   "metadata": {},
   "source": [
    "We can now levarage the ase interface to compute energies and forces."
   ]
  },
  {
   "cell_type": "code",
   "execution_count": 10,
   "metadata": {},
   "outputs": [
    {
     "name": "stdout",
     "output_type": "stream",
     "text": [
      "-47.11187744140625 electron_volt\n",
      "[[-0.24490514397621155 0.0379762202501297 0.03378382325172424] [-0.27195578813552856 0.8330878019332886 0.14494556188583374] [1.3262779712677002 0.09577012062072754 -0.1421809196472168] [0.10953038930892944 0.20156031847000122 0.4934889078140259] [0.000935770571231842 0.327559232711792 -0.4345357418060303] [0.2787896990776062 -0.5502724051475525 -0.1073441356420517] [-0.06919784098863602 -0.2714897096157074 0.2776922285556793] [-0.13868796825408936 -0.1908503770828247 -0.3161454498767853] [-0.9907872676849365 -0.48334163427352905 0.050295814871788025]] electron_volt / angstrom\n"
     ]
    }
   ],
   "source": [
    "print(etoh.get_potential_energy() * ureg.eV)\n",
    "print(etoh.get_forces() * ureg.eV / ureg.angstrom)"
   ]
  },
  {
   "cell_type": "markdown",
   "metadata": {},
   "source": [
    "Now that we know how to compute the properties that interest us, it is time to plug it into espresso. We will create a box of arbitrary size, define a simulation time step of 0.5 fs to resolve the movement of the hydrogens and run a geometry optimization. For MLIP a good starting structure is still very important, because e.g. overlapping atoms can lead the models to produce entirely non-physical structures and \"explode\", because they often do not include any Lennard-Jones or other short ranged repulsion potentials but purely rely on the output of the neural network."
   ]
  },
  {
   "cell_type": "code",
   "execution_count": 11,
   "metadata": {},
   "outputs": [],
   "source": [
    "system = espressomd.System(box_l=[16] * 3)\n",
    "system.time_step = (\n",
    "    (0.05 * ureg.fs)\n",
    "    .to(((1 * ureg.u * ureg.angstrom**2) / ureg.electron_volt) ** 0.5)\n",
    "    .magnitude\n",
    ")\n",
    "system.cell_system.skin = 0.4"
   ]
  },
  {
   "cell_type": "markdown",
   "metadata": {},
   "source": [
    "We add the ASE structure to the espresso system and use the provided ASEInterface to go back to ASE, such that we can use the calculator to compute forces."
   ]
  },
  {
   "cell_type": "code",
   "execution_count": 12,
   "metadata": {},
   "outputs": [
    {
     "data": {
      "text/plain": [
       "Atoms(symbols='C2OH6', pbc=True, cell=[16.0, 16.0, 16.0], calculator=SinglePointCalculator(...))"
      ]
     },
     "execution_count": 12,
     "metadata": {},
     "output_type": "execute_result"
    }
   ],
   "source": [
    "for atom in etoh:\n",
    "    system.part.add(pos=atom.position, type=atom.number, mass=atom.mass)\n",
    "system.ase = ASEInterface(type_mapping={x: x for x in set(etoh.numbers)})\n",
    "system.ase.get()"
   ]
  },
  {
   "cell_type": "markdown",
   "metadata": {},
   "source": [
    "We will use the ZnDraw visualizer integrated with espresso to follow the simulation. To see the effect of the geometry optimization, we display the atomic forces."
   ]
  },
  {
   "cell_type": "code",
   "execution_count": 13,
   "metadata": {},
   "outputs": [
    {
     "name": "stdout",
     "output_type": "stream",
     "text": [
      "Starting ZnDraw server, this may take a few seconds\n"
     ]
    },
    {
     "name": "stdout",
     "output_type": "stream",
     "text": [
      "Showing ZnDraw at http://127.0.0.1:1234/token/5bc89467\n"
     ]
    },
    {
     "data": {
      "text/html": [
       "\n",
       "        <iframe\n",
       "            width=\"100%\"\n",
       "            height=\"700px\"\n",
       "            src=\"http://127.0.0.1:1234/token/5bc89467\"\n",
       "            frameborder=\"0\"\n",
       "            allowfullscreen\n",
       "            \n",
       "        ></iframe>\n",
       "        "
      ],
      "text/plain": [
       "<IPython.lib.display.IFrame at 0xb9a1c4f9690>"
      ]
     },
     "metadata": {},
     "output_type": "display_data"
    },
    {
     "data": {
      "text/plain": [
       "<espressomd.zn.Visualizer at 0xb9a1d7a4a00>"
      ]
     },
     "execution_count": 13,
     "metadata": {},
     "output_type": "execute_result"
    }
   ],
   "source": [
    "vis = Visualizer(system)\n",
    "vis.zndraw.config.scene.vectors = \"forces\"\n",
    "vis.zndraw.config.scene.simulation_box = False\n",
    "vis"
   ]
  },
  {
   "cell_type": "code",
   "execution_count": 14,
   "metadata": {},
   "outputs": [],
   "source": [
    "system.integrator.set_steepest_descent(f_max=0.1, gamma=4, max_displacement=0.001)"
   ]
  },
  {
   "cell_type": "code",
   "execution_count": 15,
   "metadata": {},
   "outputs": [
    {
     "name": "stderr",
     "output_type": "stream",
     "text": [
      "  0%|                                                                                           | 0/500 [00:00<?, ?it/s]"
     ]
    },
    {
     "name": "stderr",
     "output_type": "stream",
     "text": [
      "fmax: 0.126: 100%|████████████████████████████████████████████████████████████████████| 500/500 [00:15<00:00, 31.93it/s]\n"
     ]
    }
   ],
   "source": [
    "tbar = tqdm.trange(500, ncols=120)\n",
    "for idx in tbar:\n",
    "    forces = mace_mp_calc.get_forces(system.ase.get())\n",
    "    system.part.all().ext_force = forces\n",
    "    system.integrator.run(1)\n",
    "    vis.zndraw.append(system.ase.get())\n",
    "    tbar.set_description(f\"fmax: {np.linalg.norm(forces, axis=0).max():.3f}\")"
   ]
  },
  {
   "cell_type": "markdown",
   "metadata": {},
   "source": [
    "In this way, we can get ground state energies using MLIP and espresso. You can investigate different systems by altering the smiles representation."
   ]
  },
  {
   "cell_type": "markdown",
   "metadata": {},
   "source": [
    "### MD Simulations of Sulfuric Acid and Water"
   ]
  },
  {
   "cell_type": "markdown",
   "metadata": {},
   "source": [
    "What makes MLIP so attractive beyond their *ab initio* energy and force calculation accuracy, is the ability to describe chemical reactions. Observing chemical reactions in MD simulations requires overcoming the energy of the reaction barrier. Methods that aid this process are plentiful but beyond the scope of this tutorial. Therefore, we will look at the proton transfer from sulfuric acid to water which can be seen without biasing the simulation."
   ]
  },
  {
   "cell_type": "code",
   "execution_count": 16,
   "metadata": {},
   "outputs": [],
   "source": [
    "# clear the system for a fresh start\n",
    "system.part.clear()\n",
    "system.thermostat.turn_off()"
   ]
  },
  {
   "cell_type": "markdown",
   "metadata": {},
   "source": [
    "In this part of the tutorial, we generate two different molecular species - water and sulfuric acid - and use packmol to create a suitable starting structure. We will use the Python interface to packmol provided within IPSuite. IPSuite provides many tools used around MLIP training, evaluation and deployment."
   ]
  },
  {
   "cell_type": "code",
   "execution_count": 17,
   "metadata": {},
   "outputs": [],
   "source": [
    "water = smiles2atoms(\"O\")\n",
    "sulfuric_acid = smiles2atoms(\"OS(=O)(=O)O\")\n",
    "packmol = ips.nodes.Packmol(\n",
    "    data=[[water], [sulfuric_acid]], count=[100, 1], density=1000\n",
    ")"
   ]
  },
  {
   "cell_type": "code",
   "execution_count": 18,
   "metadata": {
    "scrolled": true
   },
   "outputs": [
    {
     "name": "stdout",
     "output_type": "stream",
     "text": [
      "2024-08-16 09:05:46,094 (INFO): estimated box size: [14.665660145847443, 14.665660145847443, 14.665660145847443]\n"
     ]
    },
    {
     "name": "stderr",
     "output_type": "stream",
     "text": [
      "INFO:ipsuite.configuration_generation.packmol:estimated box size: [14.665660145847443, 14.665660145847443, 14.665660145847443]\n"
     ]
    },
    {
     "name": "stdout",
     "output_type": "stream",
     "text": [
      "\n",
      "################################################################################\n",
      "\n",
      " PACKMOL - Packing optimization for the automated generation of\n",
      " starting configurations for molecular dynamics simulations.\n",
      " \n",
      "                                                              Version 20.14.0 \n",
      "\n",
      "################################################################################\n",
      "\n",
      "  Packmol must be run with: packmol < inputfile.inp \n",
      "\n",
      "  Userguide at: http://m3g.iqm.unicamp.br/packmol \n",
      "\n",
      "  Reading input file... (Control-C aborts)\n",
      "  Seed for random number generator:      1234567\n",
      "  Output file: mixture.xyz\n",
      "  Reading coordinate file: 0.xyz\n",
      "  Reading coordinate file: 1.xyz\n",
      "  Number of independent structures:            2\n",
      "  The structures are: \n",
      "  Structure            1 :Properties=species:S:1:pos:R:3 pbc=\"F F F\"(           3  atoms)\n",
      "  Structure            2 :Properties=species:S:1:pos:R:3 pbc=\"F F F\"(           7  atoms)\n",
      "  Maximum number of GENCAN loops for all molecule packing:          400\n",
      "  Total number of restrictions:            2\n",
      "  Distance tolerance:    2.0000000000000000     \n",
      "  Number of molecules of type            1 :          100\n",
      "  Number of molecules of type            2 :            1\n",
      "  Total number of atoms:          307\n",
      "  Total number of molecules:          101\n",
      "  Number of fixed molecules:            0\n",
      "  Number of free molecules:          101\n",
      "  Number of variables:          606\n",
      "  Total number of fixed atoms:            0\n",
      "  Maximum internal distance of type            1 :    1.5660709495077108     \n",
      "  Maximum internal distance of type            2 :    3.3971689232039579     \n",
      "  All atoms must be within these coordinates: \n",
      "   x: [   -998.39999999999998      ,    1001.6000000000000       ] \n",
      "   y: [   -999.17497560696415      ,    1000.8250243930358       ] \n",
      "   z: [   -1000.0000000000000      ,    1000.0000000000000       ] \n",
      "  If the system is larger than this, increase the sidemax parameter. \n",
      "\n",
      "################################################################################\n",
      "\n",
      "  Building initial approximation ... \n",
      "\n",
      "################################################################################\n",
      "\n",
      "  Adjusting initial point to fit the constraints \n",
      "\n",
      "--------------------------------------------------------------------------------\n",
      "\n",
      "--------------------------------------------------------------------------------\n",
      "\n",
      "  Molecules of type:            1\n",
      "\n",
      "  Packing:|0                                                             100%|\n",
      "          |******************************************\n",
      "\n",
      "  Restraint-only function value:    3.0224030174524474E-003\n",
      "  Maximum violation of the restraints:    2.2452888497408261E-003\n",
      "\n",
      "--------------------------------------------------------------------------------\n",
      "\n",
      "  Molecules of type:            2\n",
      "\n",
      "  Packing:|0                                                             100%|\n",
      "          |****************************\n",
      "\n",
      "  Restraint-only function value:    0.0000000000000000     \n",
      "  Maximum violation of the restraints:    0.0000000000000000     \n",
      "\n",
      "--------------------------------------------------------------------------------\n",
      "\n",
      "  Rescaling maximum and minimum coordinates... \n",
      "  Computing size of patches... \n",
      "  Add fixed molecules to permanent arrays... \n",
      "  Reseting center of mass... \n",
      "\n",
      "--------------------------------------------------------------------------------\n",
      "\n",
      "  Setting initial trial coordinates ... \n",
      "\n",
      "--------------------------------------------------------------------------------\n",
      "\n",
      "--------------------------------------------------------------------------------\n",
      "\n",
      "  Molecules of type:            1\n",
      "  Adjusting random positions to fit the constraints. \n",
      "  Packing:|0                                                             100%|\n",
      "          |\n",
      "  Restraint-only function value:    3.9383818552085822E-003\n",
      "  Maximum violation of the restraints:    2.1904501165163999E-003\n",
      "\n",
      "--------------------------------------------------------------------------------\n",
      "\n",
      "  Molecules of type:            2\n",
      "  Adjusting random positions to fit the constraints. \n",
      "  Packing:|0                                                             100%|\n",
      "          |\n",
      "  Restraint-only function value:    6.3809187910470703E-004\n",
      "  Maximum violation of the restraints:    6.3809187910470703E-004\n",
      "\n",
      "################################################################################\n",
      "\n",
      "  Objective function at initial point:    2155.3146895212276     \n",
      "\n",
      "################################################################################\n",
      "\n",
      "  Packing molecules of type:            1\n",
      "\n",
      "################################################################################\n",
      "\n",
      "\n",
      "--------------------------------------------------------------------------------\n",
      "\n",
      "  Starting GENCAN loop:            0\n",
      "  Scaling radii by:    1.1000000000000001     \n",
      "\n",
      "  Packing:|0                                                             100%|\n",
      "          |******************************************************************|\n",
      "          |********************************************************\n",
      "\n",
      "  Function value from last GENCAN loop: f = .23438E-01\n",
      "  Best function value before: f = .21366E+04\n",
      "  Improvement from best function value:    99.99 %\n",
      "  Improvement from last loop:    99.99 %\n",
      "  Maximum violation of target distance:     0.000000\n",
      "  Maximum violation of the constraints: .96825E-02\n",
      "  Current structure written to file: mixture.xyz\n",
      "--------------------------------------------------------------------------------\n",
      "  Packing solved for molecules of type           1\n",
      "  Objective function value:    2.3438350168187901E-002\n",
      "  Maximum violation of target distance:    0.0000000000000000     \n",
      "  Max. constraint violation:    9.6824512039296214E-003\n",
      "--------------------------------------------------------------------------------\n",
      "\n",
      "################################################################################\n",
      "\n",
      "  Packing molecules of type:            2\n",
      "\n",
      "################################################################################\n",
      "\n",
      "\n",
      "  Initial approximation is a solution. Nothing to do. \n",
      "\n",
      "  Current point written to file: mixture.xyz\n",
      "--------------------------------------------------------------------------------\n",
      "  Packing solved for molecules of type           2\n",
      "  Objective function value:    6.3809187910470703E-004\n",
      "  Maximum violation of target distance:    0.0000000000000000     \n",
      "  Max. constraint violation:    6.3809187910470703E-004\n",
      "--------------------------------------------------------------------------------\n",
      "\n",
      "################################################################################\n",
      "\n",
      "  Packing all molecules together \n",
      "\n",
      "################################################################################\n",
      "\n",
      "\n",
      "--------------------------------------------------------------------------------\n",
      "\n",
      "  Starting GENCAN loop:            0\n",
      "  Scaling radii by:    1.1000000000000001     \n",
      "\n",
      "  Packing:|0                                                             100%|\n",
      "          |******************************************************************|\n",
      "          |***********************************\n",
      "\n",
      "  Function value from last GENCAN loop: f = .20198E-01\n",
      "  Best function value before: f = .89623E+02\n",
      "  Improvement from best function value:    99.98 %\n",
      "  Improvement from last loop:    99.98 %\n",
      "  Maximum violation of target distance:     0.000000\n",
      "  Maximum violation of the constraints: .91697E-02\n",
      "\n",
      "################################################################################\n",
      "\n",
      "                                 Success! \n",
      "              Final objective function value: .20198E-01\n",
      "              Maximum violation of target distance:   0.000000\n",
      "              Maximum violation of the constraints: .91697E-02\n",
      "\n",
      "--------------------------------------------------------------------------------\n",
      "\n",
      "              Please cite this work if Packmol was useful: \n",
      "\n",
      "           L. Martinez, R. Andrade, E. G. Birgin, J. M. Martinez, \n",
      "         PACKMOL: A package for building initial configurations for\n",
      "                   molecular dynamics simulations. \n",
      "          Journal of Computational Chemistry, 30:2157-2164,2009.\n",
      "\n",
      "################################################################################\n",
      "\n",
      "  Solution written to file: mixture.xyz\n",
      "\n",
      "--------------------------------------------------------------------------------\n",
      "\n",
      "   Running time:    2.62140017E-02  seconds. \n",
      "\n",
      "--------------------------------------------------------------------------------\n",
      "\n",
      "\n"
     ]
    }
   ],
   "source": [
    "packmol.run()"
   ]
  },
  {
   "cell_type": "markdown",
   "metadata": {},
   "source": [
    "We will repeat the geometry optimization process. Now that we have a bulk structure, we need to set the correct cell vectors, which we also get from the ase structure we just created."
   ]
  },
  {
   "cell_type": "code",
   "execution_count": 19,
   "metadata": {},
   "outputs": [],
   "source": [
    "system.box_l = packmol.atoms[0].get_cell().diagonal()\n",
    "system.time_step = (\n",
    "    (0.05 * ureg.fs)\n",
    "    .to(((1 * ureg.u * ureg.angstrom**2) / ureg.electron_volt) ** 0.5)\n",
    "    .magnitude\n",
    ")\n",
    "system.cell_system.skin = 0.4"
   ]
  },
  {
   "cell_type": "code",
   "execution_count": 20,
   "metadata": {},
   "outputs": [],
   "source": [
    "system.ase = ASEInterface(type_mapping={x: x for x in set(packmol.atoms[0].numbers)})\n",
    "for atom in packmol.atoms[0]:\n",
    "    system.part.add(pos=atom.position, type=atom.number, mass=atom.mass)\n",
    "system.integrator.set_steepest_descent(f_max=0.1, gamma=4, max_displacement=0.001)"
   ]
  },
  {
   "cell_type": "markdown",
   "metadata": {},
   "source": [
    "We will reset ZnDraw and enable showing the box this time."
   ]
  },
  {
   "cell_type": "code",
   "execution_count": 21,
   "metadata": {
    "scrolled": true
   },
   "outputs": [
    {
     "data": {
      "text/plain": [
       "<espressomd.zn.Visualizer at 0xb9a1d7a4a00>"
      ]
     },
     "execution_count": 21,
     "metadata": {},
     "output_type": "execute_result"
    }
   ],
   "source": [
    "del vis.zndraw[:]\n",
    "vis.zndraw.config.scene.simulation_box = True\n",
    "vis"
   ]
  },
  {
   "cell_type": "code",
   "execution_count": 22,
   "metadata": {},
   "outputs": [
    {
     "name": "stderr",
     "output_type": "stream",
     "text": [
      "  0%|                                                                                           | 0/500 [00:00<?, ?it/s]"
     ]
    },
    {
     "name": "stderr",
     "output_type": "stream",
     "text": [
      "fmax: 1.810: 100%|████████████████████████████████████████████████████████████████████| 500/500 [01:07<00:00,  7.44it/s]\n"
     ]
    }
   ],
   "source": [
    "tbar = tqdm.trange(500, ncols=120)\n",
    "for _ in tbar:\n",
    "    atoms = system.ase.get()\n",
    "    atoms.calc = mace_mp_calc\n",
    "    system.part.all().ext_force = atoms.get_forces()\n",
    "    vis.zndraw.append(atoms)\n",
    "    system.integrator.run(1)\n",
    "    tbar.set_description(\n",
    "        f\"fmax: {np.linalg.norm(atoms.get_forces(), axis=0).max():.3f}\"\n",
    "    )"
   ]
  },
  {
   "cell_type": "markdown",
   "metadata": {},
   "source": [
    "Wit this minimized structure, we can now run an MD simulation.\n",
    "Let us highlight the two hydrogen atoms from the sulfuric acid, These are the particles we want to follow."
   ]
  },
  {
   "cell_type": "code",
   "execution_count": 23,
   "metadata": {},
   "outputs": [],
   "source": [
    "vis.zndraw.selection = [305, 306]"
   ]
  },
  {
   "cell_type": "code",
   "execution_count": 24,
   "metadata": {},
   "outputs": [],
   "source": [
    "# Langevin dynamics at 400 K\n",
    "system.integrator.set_vv()\n",
    "system.thermostat.set_langevin(kT=(400 * ureg.K * boltmk).magnitude, gamma=2, seed=42)"
   ]
  },
  {
   "cell_type": "code",
   "execution_count": 27,
   "metadata": {},
   "outputs": [
    {
     "name": "stderr",
     "output_type": "stream",
     "text": [
      "e_pot: -1485.783: 100%|█████████████████████████████████████████████████████████████| 5000/5000 [09:38<00:00,  8.64it/s]\n"
     ]
    }
   ],
   "source": [
    "tbar = tqdm.trange(5000, ncols=120)\n",
    "for idx in tbar:\n",
    "    atoms = system.ase.get()\n",
    "    atoms.calc = mace_mp_calc\n",
    "    system.part.all().ext_force = atoms.get_forces()\n",
    "    if idx % 5 == 0:\n",
    "        vis.zndraw.append(atoms)\n",
    "    system.integrator.run(1)\n",
    "    tbar.set_description(f\"e_pot: {atoms.get_potential_energy():.3f} eV\")"
   ]
  },
  {
   "cell_type": "markdown",
   "metadata": {},
   "source": [
    "We have visually observed the reaction of the hydrogen atoms. Let us now plot the distance from the hydrogens to sulfur from the sulfate ion we have generated."
   ]
  },
  {
   "cell_type": "code",
   "execution_count": null,
   "metadata": {},
   "outputs": [],
   "source": [
    "OH_1 = []\n",
    "OH_2 = []\n",
    "for atoms in vis.zndraw:\n",
    "    OH_1.append(atoms.get_distance(300, 305, mic=True))\n",
    "    OH_2.append(atoms.get_distance(304, 306, mic=True))\n",
    "\n",
    "df = pd.DataFrame({\"OH_1\": OH_1, \"OH_2\": OH_2})\n",
    "fig = px.line(df, y=[\"OH_1\", \"OH_2\"])"
   ]
  },
  {
   "cell_type": "markdown",
   "metadata": {},
   "source": [
    "We can attach the figure to the visualizer, such that we can see the trajectory and the distance side-by-side."
   ]
  },
  {
   "cell_type": "code",
   "execution_count": null,
   "metadata": {},
   "outputs": [],
   "source": [
    "vis.zndraw.figure = fig.to_json()"
   ]
  },
  {
   "cell_type": "markdown",
   "metadata": {},
   "source": [
    "## References\n",
    "\n",
    "- Batatia, I.; Benner, P.; Chiang, Y.; Elena, A. M.; Kovács, D. P.; Riebesell, J.; Advincula, X. R.; Asta, M.; Baldwin, W. J.; Bernstein, N.; Bhowmik, A.; Blau, S. M.; Cărare, V.; Darby, J. P.; De, S.; Della Pia, F.; Deringer, V. L.; Elijošius, R.; El-Machachi, Z.; Fako, E.; Ferrari, A. C.; Genreith-Schriever, A.; George, J.; Goodall, R. E. A.; Grey, C. P.; Han, S.; Handley, W.; Heenen, H. H.; Hermansson, K.; Holm, C.; Jaafar, J.; Hofmann, S.; Jakob, K. S.; Jung, H.; Kapil, V.; Kaplan, A. D.; Karimitari, N.; Kroupa, N.; Kullgren, J.; Kuner, M. C.; Kuryla, D.; Liepuoniute, G.; Margraf, J. T.; Magdău, I.-B.; Michaelides, A.; Moore, J. H.; Naik, A. A.; Niblett, S. P.; Norwood, S. W.; O’Neill, N.; Ortner, C.; Persson, K. A.; Reuter, K.; Rosen, A. S.; Schaaf, L. L.; Schran, C.; Sivonxay, E.; Stenczel, T. K.; Svahn, V.; Sutton, C.; van der Oord, C.; Varga-Umbrich, E.; Vegge, T.; Vondrák, M.; Wang, Y.; Witt, W. C.; Zills, F.; Csányi, G. A Foundation Model for Atomistic Materials Chemistry. arXiv December 29, 2023. https://doi.org/10.48550/arXiv.2401.00096.\n",
    "- Batatia, I.; Kovacs, D. P.; Simm, G.; Ortner, C.; Csanyi, G. MACE: Higher Order Equivariant Message Passing Neural Networks for Fast and Accurate Force Fields. In Advances in neural information processing systems; Koyejo, S., Mohamed, S., Agarwal, A., Belgrave, D., Cho, K., Oh, A., Eds.; Curran Associates, Inc., 2022; Vol. 35, pp 11423–11436. https://openreview.net/forum?id=YPpSngE-ZU.\n",
    "- Landrum, G.; Tosco, P.; Kelley, B.; Ric; Cosgrove, D.; sriniker; gedeck; Vianello, R.; NadineSchneider; Kawashima, E.; N, D.; Jones, G.; Dalke, A.; Cole, B.; Swain, M.; Turk, S.; AlexanderSavelyev; Vaucher, A.; Wójcikowski, M.; Take, I.; Probst, D.; Ujihara, K.; Scalfani, V. F.; godin,  guillaume; Lehtivarjo, J.; Pahl, A.; Walker, R.; Berenger, F.; jasondbiggs; strets123. Rdkit/Rdkit: 2023_03_2 (Q1 2023) Release, 2023. https://doi.org/10.5281/zenodo.8053810.\n",
    "- Martínez, L.; Andrade, R.; Birgin, E. G.; Martínez, J. M. PACKMOL: A Package for Building Initial Configurations for Molecular Dynamics Simulations. J Comput Chem 2009, 30 (13), 2157–2164. https://doi.org/10.1002/jcc.21224.\n",
    "- Zills, F.; Schäfer, M. R.; Segreto, N.; Kästner, J.; Holm, C.; Tovey, S. Collaboration on Machine-Learned Potentials with IPSuite: A Modular Framework for Learning-on-the-Fly. J. Phys. Chem. B 2024. https://doi.org/10.1021/acs.jpcb.3c07187."
   ]
  }
 ],
 "metadata": {
  "kernelspec": {
   "display_name": "Python 3 (ipykernel)",
   "language": "python",
   "name": "python3"
  },
  "language_info": {
   "codemirror_mode": {
    "name": "ipython",
    "version": 3
   },
   "file_extension": ".py",
   "mimetype": "text/x-python",
   "name": "python",
   "nbconvert_exporter": "python",
   "pygments_lexer": "ipython3",
   "version": "3.10.14"
  }
 },
 "nbformat": 4,
 "nbformat_minor": 4
}
