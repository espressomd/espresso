{
 "cells": [
  {
   "cell_type": "markdown",
   "metadata": {},
   "source": [
    "# Machine-Learning Interatomic Potentials\n",
    "\n",
    "Running simulations with energies and forces from *ab initio* methods, such as Density Functional Theory (DFT) allows for higher accuracy and the investigation of different systems. E.g., *ab initio* MD can be used to study chemical reactions on an atomistic scale. With the recent advancements in machine-learning interatomic potentials (MLIPs) it is possible to scale up these types of simulations to large systems [allegro paper] and long simulation times [bmim paper] while retaining the accuracy of the underlying *ab initio* methods.\n",
    "\n",
    "In this tutorial you will use pre-trained MLIPs to run simulations within ESPResSo. There are many different MLIPs architectures and respective open-source python packages:\n",
    "- MACE\n",
    "- NequIP / allegro\n",
    "- Apax\n",
    "- DeepMD\n",
    "- TorchANI\n",
    "\n",
    "In this tutorial, we will focus on the MACE-MP-0 model, which has been trained on the materials project dataset and is able to accurately predict energies and forces for many organic and inorganic systems.\n",
    "\n",
    "Most MLIPs provide a Python interface through the ASE package. ESPResSo also utilizes this interface, and thus we will have a quick overview of the ASE features. The main object used is the `ase.Atoms`, which represents a single frame of an atomistic simulation."
   ]
  },
  {
   "cell_type": "markdown",
   "metadata": {},
   "source": [
    "We can use "
   ]
  },
  {
   "cell_type": "code",
   "execution_count": null,
   "metadata": {},
   "outputs": [],
   "source": [
    "import espressomd\n",
    "import numpy as np\n",
    "import pandas as pd\n",
    "import pint\n",
    "import plotly.express as px\n",
    "import tqdm\n",
    "from espressomd.plugins.ase import ASEInterface\n",
    "from espressomd.zn import Visualizer\n",
    "from mace.calculators import mace_mp\n",
    "from rdkit2ase import smiles2atoms, pack"
   ]
  },
  {
   "cell_type": "markdown",
   "metadata": {},
   "source": [
    "For MLIP the typical unit system is energies in eV, distances in Angstrom, time in fs and mass in atomic units. This is also the default unit system within ASE. We will use pint to ensure correct unit usage within espresso."
   ]
  },
  {
   "cell_type": "code",
   "execution_count": null,
   "metadata": {},
   "outputs": [],
   "source": [
    "ureg = pint.UnitRegistry()\n",
    "boltmk = 1.380649e-23 * ureg.J / ureg.K\n",
    "boltmk = boltmk.to(ureg.eV / ureg.K)"
   ]
  },
  {
   "cell_type": "markdown",
   "metadata": {},
   "source": [
    "In this tutorial we will use Simplified Molecular Input Line Entry System (SMILES) representations and RDKit to generate starting structures.\n",
    "RDKit provides us with a powerful utilities to create 3D structures from these string representations of molecules.\n",
    "In this first part, we will look at a gas phase system of Ethanol, run a geometry optimization followed by a short MD simulation.\n",
    "We will start by instantiate our MLIP."
   ]
  },
  {
   "cell_type": "code",
   "execution_count": null,
   "metadata": {},
   "outputs": [],
   "source": [
    "mace_mp_calc = mace_mp()"
   ]
  },
  {
   "cell_type": "markdown",
   "metadata": {},
   "source": [
    "We can now create our ASE atoms object and attach the aforementioned MLIP calculator to it. "
   ]
  },
  {
   "cell_type": "code",
   "execution_count": null,
   "metadata": {},
   "outputs": [],
   "source": [
    "etoh = smiles2atoms(\"CCO\")\n",
    "etoh.calc = mace_mp_calc\n",
    "etoh"
   ]
  },
  {
   "cell_type": "markdown",
   "metadata": {},
   "source": [
    "We can now levarage the ase interface to compute energies and forces."
   ]
  },
  {
   "cell_type": "code",
   "execution_count": null,
   "metadata": {},
   "outputs": [],
   "source": [
    "print(etoh.get_potential_energy() * ureg.eV)\n",
    "print(etoh.get_forces() * ureg.eV / ureg.angstrom)"
   ]
  },
  {
   "cell_type": "markdown",
   "metadata": {},
   "source": [
    "Now that we know how to compute the properties that interest us, it is time to plug it into espresso. We will create a box of arbitrary size, define a simulation time step of 0.5 fs to resolve the movement of the hydrogens and run a geometry optimization. For MLIP a good starting structure is still very important, because e.g. overlapping atoms can lead the models to produce entirely non-physical structures and \"explode\", because they often do not include any Lennard-Jones or other short ranged repulsion potentials but purely rely on the output of the neural network."
   ]
  },
  {
   "cell_type": "code",
   "execution_count": null,
   "metadata": {},
   "outputs": [],
   "source": [
    "system = espressomd.System(box_l=[16] * 3)\n",
    "system.time_step = (\n",
    "    (0.05 * ureg.fs)\n",
    "    .to(((1 * ureg.u * ureg.angstrom**2) / ureg.electron_volt) ** 0.5)\n",
    "    .magnitude\n",
    ")\n",
    "system.cell_system.skin = 0.4"
   ]
  },
  {
   "cell_type": "markdown",
   "metadata": {},
   "source": [
    "We add the ASE structure to the espresso system and use the provided ASEInterface to go back to ASE, such that we can use the calculator to compute forces."
   ]
  },
  {
   "cell_type": "code",
   "execution_count": null,
   "metadata": {},
   "outputs": [],
   "source": [
    "for atom in etoh:\n",
    "    system.part.add(pos=atom.position, type=atom.number, mass=atom.mass)\n",
    "system.ase = ASEInterface(type_mapping={x: x for x in set(etoh.numbers)})\n",
    "system.ase.get()"
   ]
  },
  {
   "cell_type": "markdown",
   "metadata": {},
   "source": [
    "We will use the ZnDraw visualizer integrated with espresso to follow the simulation. To see the effect of the geometry optimization, we display the atomic forces."
   ]
  },
  {
   "cell_type": "code",
   "execution_count": null,
   "metadata": {},
   "outputs": [],
   "source": [
    "vis = Visualizer(system)\n",
    "vis.zndraw.config.scene.vectors = \"forces\"\n",
    "vis.zndraw.config.scene.vector_scale = 5\n",
    "vis.zndraw.config.scene.simulation_box = False\n",
    "vis"
   ]
  },
  {
   "cell_type": "code",
   "execution_count": null,
   "metadata": {},
   "outputs": [],
   "source": [
    "system.integrator.set_steepest_descent(f_max=0.1, gamma=4, max_displacement=0.001)"
   ]
  },
  {
   "cell_type": "code",
   "execution_count": null,
   "metadata": {},
   "outputs": [],
   "source": [
    "tbar = tqdm.trange(500, ncols=120)\n",
    "for idx in tbar:\n",
    "    forces = mace_mp_calc.get_forces(system.ase.get())\n",
    "    system.part.all().ext_force = forces\n",
    "    system.integrator.run(1)\n",
    "    vis.zndraw.append(system.ase.get())\n",
    "    tbar.set_description(f\"fmax: {np.linalg.norm(forces, axis=0).max():.3f}\")"
   ]
  },
  {
   "cell_type": "markdown",
   "metadata": {},
   "source": [
    "In this way, we can get ground state energies using MLIP and espresso. You can investigate different systems by altering the smiles representation."
   ]
  },
  {
   "cell_type": "markdown",
   "metadata": {},
   "source": [
    "### MD Simulations of Sulfuric Acid and Water"
   ]
  },
  {
   "cell_type": "markdown",
   "metadata": {},
   "source": [
    "What makes MLIP so attractive beyond their *ab initio* energy and force calculation accuracy, is the ability to describe chemical reactions. Observing chemical reactions in MD simulations requires overcoming the energy of the reaction barrier. Methods that aid this process are plentiful but beyond the scope of this tutorial. Therefore, we will look at the proton transfer from sulfuric acid to water which can be seen without biasing the simulation."
   ]
  },
  {
   "cell_type": "code",
   "execution_count": null,
   "metadata": {},
   "outputs": [],
   "source": [
    "# clear the system for a fresh start\n",
    "system.part.clear()\n",
    "system.thermostat.turn_off()"
   ]
  },
  {
   "cell_type": "markdown",
   "metadata": {},
   "source": [
    "In this part of the tutorial, we generate two different molecular species - water and sulfuric acid - and use packmol to create a suitable starting structure. We will use the Python interface to packmol provided within IPSuite. IPSuite provides many tools used around MLIP training, evaluation and deployment."
   ]
  },
  {
   "cell_type": "code",
   "execution_count": null,
   "metadata": {},
   "outputs": [],
   "source": [
    "water = smiles2atoms(\"O\")\n",
    "sulfuric_acid = smiles2atoms(\"OS(=O)(=O)O\")\n",
    "box_of_atoms = pack([[water], [sulfuric_acid]], [100, 1], density=1000)"
   ]
  },
  {
   "cell_type": "markdown",
   "metadata": {},
   "source": [
    "We will repeat the geometry optimization process. Now that we have a bulk structure, we need to set the correct cell vectors, which we also get from the ase structure we just created."
   ]
  },
  {
   "cell_type": "code",
   "execution_count": null,
   "metadata": {},
   "outputs": [],
   "source": [
    "system.box_l = box_of_atoms.get_cell().diagonal()\n",
    "system.time_step = (\n",
    "    (0.05 * ureg.fs)\n",
    "    .to(((1 * ureg.u * ureg.angstrom**2) / ureg.electron_volt) ** 0.5)\n",
    "    .magnitude\n",
    ")\n",
    "system.cell_system.skin = 0.4"
   ]
  },
  {
   "cell_type": "code",
   "execution_count": null,
   "metadata": {},
   "outputs": [],
   "source": [
    "system.ase = ASEInterface(type_mapping={x: x for x in set(box_of_atoms.numbers)})\n",
    "for atom in box_of_atoms:\n",
    "    system.part.add(pos=atom.position, type=atom.number, mass=atom.mass)\n",
    "system.integrator.set_steepest_descent(f_max=0.1, gamma=4, max_displacement=0.001)"
   ]
  },
  {
   "cell_type": "markdown",
   "metadata": {},
   "source": [
    "We will reset ZnDraw and enable showing the box this time."
   ]
  },
  {
   "cell_type": "code",
   "execution_count": null,
   "metadata": {
    "scrolled": true
   },
   "outputs": [],
   "source": [
    "del vis.zndraw[:]\n",
    "vis.zndraw.config.scene.simulation_box = True\n",
    "vis.zndraw.config.scene.vector_scale = 1\n",
    "vis"
   ]
  },
  {
   "cell_type": "code",
   "execution_count": null,
   "metadata": {},
   "outputs": [],
   "source": [
    "tbar = tqdm.trange(500, ncols=120)\n",
    "for _ in tbar:\n",
    "    atoms = system.ase.get()\n",
    "    atoms.calc = mace_mp_calc\n",
    "    system.part.all().ext_force = atoms.get_forces()\n",
    "    vis.zndraw.append(atoms)\n",
    "    system.integrator.run(1)\n",
    "    tbar.set_description(\n",
    "        f\"fmax: {np.linalg.norm(atoms.get_forces(), axis=0).max():.3f}\"\n",
    "    )"
   ]
  },
  {
   "cell_type": "markdown",
   "metadata": {},
   "source": [
    "Wit this minimized structure, we can now run an MD simulation.\n",
    "Let us highlight the two hydrogen atoms from the sulfuric acid, These are the particles we want to follow."
   ]
  },
  {
   "cell_type": "code",
   "execution_count": null,
   "metadata": {},
   "outputs": [],
   "source": [
    "vis.zndraw.selection = [305, 306]"
   ]
  },
  {
   "cell_type": "code",
   "execution_count": null,
   "metadata": {},
   "outputs": [],
   "source": [
    "# Langevin dynamics at 400 K\n",
    "system.integrator.set_vv()\n",
    "system.thermostat.set_langevin(kT=(400 * ureg.K * boltmk).magnitude, gamma=2, seed=42)"
   ]
  },
  {
   "cell_type": "code",
   "execution_count": null,
   "metadata": {},
   "outputs": [],
   "source": [
    "tbar = tqdm.trange(5000, ncols=120)\n",
    "for idx in tbar:\n",
    "    atoms = system.ase.get()\n",
    "    atoms.calc = mace_mp_calc\n",
    "    system.part.all().ext_force = atoms.get_forces()\n",
    "    if idx % 5 == 0:\n",
    "        vis.zndraw.append(atoms)\n",
    "    system.integrator.run(1)\n",
    "    tbar.set_description(f\"e_pot: {atoms.get_potential_energy():.3f} eV\")"
   ]
  },
  {
   "cell_type": "markdown",
   "metadata": {},
   "source": [
    "We have visually observed the reaction of the hydrogen atoms. Let us now plot the distance from the hydrogens to sulfur from the sulfate ion we have generated."
   ]
  },
  {
   "cell_type": "code",
   "execution_count": null,
   "metadata": {},
   "outputs": [],
   "source": [
    "OH_1 = []\n",
    "OH_2 = []\n",
    "for atoms in vis.zndraw:\n",
    "    OH_1.append(atoms.get_distance(300, 305, mic=True))\n",
    "    OH_2.append(atoms.get_distance(304, 306, mic=True))\n",
    "\n",
    "df = pd.DataFrame({\"OH_1\": OH_1, \"OH_2\": OH_2})\n",
    "fig = px.line(df, y=[\"OH_1\", \"OH_2\"])"
   ]
  },
  {
   "cell_type": "markdown",
   "metadata": {},
   "source": [
    "We can attach the figure to the visualizer, such that we can see the trajectory and the distance side-by-side."
   ]
  },
  {
   "cell_type": "code",
   "execution_count": null,
   "metadata": {},
   "outputs": [],
   "source": [
    "vis.zndraw.figure = fig.to_json()"
   ]
  },
  {
   "cell_type": "markdown",
   "metadata": {},
   "source": [
    "## References\n",
    "\n",
    "- Batatia, I.; Benner, P.; Chiang, Y.; Elena, A. M.; Kovács, D. P.; Riebesell, J.; Advincula, X. R.; Asta, M.; Baldwin, W. J.; Bernstein, N.; Bhowmik, A.; Blau, S. M.; Cărare, V.; Darby, J. P.; De, S.; Della Pia, F.; Deringer, V. L.; Elijošius, R.; El-Machachi, Z.; Fako, E.; Ferrari, A. C.; Genreith-Schriever, A.; George, J.; Goodall, R. E. A.; Grey, C. P.; Han, S.; Handley, W.; Heenen, H. H.; Hermansson, K.; Holm, C.; Jaafar, J.; Hofmann, S.; Jakob, K. S.; Jung, H.; Kapil, V.; Kaplan, A. D.; Karimitari, N.; Kroupa, N.; Kullgren, J.; Kuner, M. C.; Kuryla, D.; Liepuoniute, G.; Margraf, J. T.; Magdău, I.-B.; Michaelides, A.; Moore, J. H.; Naik, A. A.; Niblett, S. P.; Norwood, S. W.; O’Neill, N.; Ortner, C.; Persson, K. A.; Reuter, K.; Rosen, A. S.; Schaaf, L. L.; Schran, C.; Sivonxay, E.; Stenczel, T. K.; Svahn, V.; Sutton, C.; van der Oord, C.; Varga-Umbrich, E.; Vegge, T.; Vondrák, M.; Wang, Y.; Witt, W. C.; Zills, F.; Csányi, G. A Foundation Model for Atomistic Materials Chemistry. arXiv December 29, 2023. https://doi.org/10.48550/arXiv.2401.00096.\n",
    "- Batatia, I.; Kovacs, D. P.; Simm, G.; Ortner, C.; Csanyi, G. MACE: Higher Order Equivariant Message Passing Neural Networks for Fast and Accurate Force Fields. In Advances in neural information processing systems; Koyejo, S., Mohamed, S., Agarwal, A., Belgrave, D., Cho, K., Oh, A., Eds.; Curran Associates, Inc., 2022; Vol. 35, pp 11423–11436. https://openreview.net/forum?id=YPpSngE-ZU.\n",
    "- Landrum, G.; Tosco, P.; Kelley, B.; Ric; Cosgrove, D.; sriniker; gedeck; Vianello, R.; NadineSchneider; Kawashima, E.; N, D.; Jones, G.; Dalke, A.; Cole, B.; Swain, M.; Turk, S.; AlexanderSavelyev; Vaucher, A.; Wójcikowski, M.; Take, I.; Probst, D.; Ujihara, K.; Scalfani, V. F.; godin,  guillaume; Lehtivarjo, J.; Pahl, A.; Walker, R.; Berenger, F.; jasondbiggs; strets123. Rdkit/Rdkit: 2023_03_2 (Q1 2023) Release, 2023. https://doi.org/10.5281/zenodo.8053810.\n",
    "- Martínez, L.; Andrade, R.; Birgin, E. G.; Martínez, J. M. PACKMOL: A Package for Building Initial Configurations for Molecular Dynamics Simulations. J Comput Chem 2009, 30 (13), 2157–2164. https://doi.org/10.1002/jcc.21224.\n",
    "- Zills, F.; Schäfer, M. R.; Segreto, N.; Kästner, J.; Holm, C.; Tovey, S. Collaboration on Machine-Learned Potentials with IPSuite: A Modular Framework for Learning-on-the-Fly. J. Phys. Chem. B 2024. https://doi.org/10.1021/acs.jpcb.3c07187."
   ]
  }
 ],
 "metadata": {
  "kernelspec": {
   "display_name": "Python 3 (ipykernel)",
   "language": "python",
   "name": "python3"
  },
  "language_info": {
   "codemirror_mode": {
    "name": "ipython",
    "version": 3
   },
   "file_extension": ".py",
   "mimetype": "text/x-python",
   "name": "python",
   "nbconvert_exporter": "python",
   "pygments_lexer": "ipython3",
   "version": "3.10.14"
  }
 },
 "nbformat": 4,
 "nbformat_minor": 4
}
