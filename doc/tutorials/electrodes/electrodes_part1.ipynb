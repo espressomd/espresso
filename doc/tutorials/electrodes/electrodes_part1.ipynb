{
 "cells": [
  {
   "cell_type": "markdown",
   "id": "33419441",
   "metadata": {},
   "source": [
    "# Basic simulation of electrodes in ESPResSo part I: ion-pair in a narrow metallic slit-like confinement using ICC$^\\star$"
   ]
  },
  {
   "cell_type": "markdown",
   "id": "47450c9f",
   "metadata": {},
   "source": [
    "## Prerequisites\n",
    "\n",
    "To work with this tutorial, you should be familiar with the following topics:\n",
    "\n",
    "-  Setting up and running simulations in ESPResSo - creating particles,\n",
    "   incorporating interactions.\n",
    "   If you are unfamiliar with this, you can go through the tutorial\n",
    "   in the `lennard_jones` folder.\n",
    "-  Basic knowledge of classical electrostatics:\n",
    "   dipoles, surface and image charges\n",
    "-  Reduced units, as described in the **ESPResSo** [user guide](https://espressomd.github.io/doc/introduction.html#on-units)"
   ]
  },
  {
   "cell_type": "markdown",
   "id": "05f9c1ad",
   "metadata": {},
   "source": [
    "## Introduction\n",
    "\n",
    "This tutorial introduces some basic concepts for simulating charges close to an\n",
    "electrode interface using **ESPResSo**.\n",
    "In this first part, we focus on the interaction of a single ion pair confined in\n",
    "a narrow metallic slit pore using the ICC$^\\star$-algorithm\n",
    "<a href='#[1]'>[1]</a> for the computation of the surface polarization.\n",
    "Here, we verify the strong deviation from a Coulomb-like interaction:\n",
    "In metallic confinement, the ion pair interaction energy is screened\n",
    "exponentially due to the presence of induced charges on the slit walls.\n",
    "<a href='#[1]'>[2]</a>  "
   ]
  },
  {
   "cell_type": "markdown",
   "id": "02157443",
   "metadata": {},
   "source": [
    "## Theoretical Background \n",
    "\n",
    "The normal component of electric field across a surface dividing two dielectric\n",
    "media in presence of a surface charge density $\\sigma$ is discontinuous and follows as\n",
    "$(\\varepsilon_1\\vec{E}_1 - \\varepsilon_2\\vec{E}_2).\\hat{n}=-\\sigma(\\vec{r})$.\n",
    "This expression describes the jump in the electric field across the material\n",
    "interface going from a dielectric medium $\\varepsilon_1$ to another one,\n",
    "$\\varepsilon_2$.\n",
    "\n",
    "While in the case of non-polarizable materials ($\\varepsilon_1 = \\varepsilon_2 = 1$),\n",
    "this jump is only related to surface charges and the\n",
    "potential is continuous across the interface, for polarizable materials, the\n",
    "polarization field $\\vec{P}$ will also give a contribution. \n",
    "In order to solve for the electric field in presence of a jump of the dielectric constant\n",
    "across an interface, one must know the electric fields on both sides. \n",
    "\n",
    "Another approach is to replace this two-domain problem by an equivalent one\n",
    "without the explicit presence of the dielectric jump.\n",
    "This is achieved by introducing an additional fictitious charge, i.e. an induced\n",
    "charge density $\\sigma_{\\mathrm{ind}}$ on the surface. \n",
    "With this well known \"method of image charges\", it is sufficient to know the\n",
    "electric field on one side of the interface. \n",
    "**ESPResSo** provides the \"Induced Charge Calculation with fast Coulomb Solvers\"\n",
    "(ICC$^\\star$) algorithm <a href='#[1]'>[1]</a> which employs a  numerical scheme for solving the boundary integrals and the induced charge.   \n",
    "\n",
    "*Note*: Apart from ICC$^\\star$ that solves for image charges spatially resolved, **ESPResSo** offers the \"Electrostatic layer\n",
    "correction with image charges\" (ELC-IC) method <a href='#[3]'>[3]</a>, for\n",
    "planar 2D+h partially periodic systems with dielectric interfaces that accounts for laterally averaged surface charge.\n",
    "The tutorial on *Basic simulation of electrodes in ESPResSo part II*\n",
    "addresses this in detail."
   ]
  },
  {
   "cell_type": "markdown",
   "id": "a35caac8",
   "metadata": {},
   "source": [
    "### Green's function for charges in a dielectric slab\n",
    "\n",
    "The Green's function for two point charges in a dielectric slab can be solved\n",
    "analytically <a href='#[2]'>[2]</a>.\n",
    "In the metallic limit ($\\varepsilon_2 \\to\\infty$) the dielectric contrast is\n",
    "$$ \\Delta = \\frac{\\varepsilon_1 - \\varepsilon_2} {\\varepsilon_1 + \\varepsilon_2} = -1 .$$\n",
    "If the ions are placed in the center of a slab of width $w$ and a distance $r$\n",
    "away from each other, the Green's function accounting for all image charges\n",
    "simplifies to <a href='#[4]'>[4]</a> \n",
    "$$ 4 \\pi \\varepsilon_0 \\varepsilon_r w \\mathcal{G}(x) = \\sum_{n=-\\infty}^\\infty \\frac{-1^n}{\\sqrt{x^2+n^2}} ,$$\n",
    "where we have introduced the scaled separation $x = r/w$.\n",
    "\n",
    "For $x\\to 0$ the term for $n = 0$ dominates and one recovers\n",
    "$$ \\lim_{x\\to 0} 4 \\pi \\varepsilon_0 \\varepsilon_r w \\mathcal{G}(x) = \\frac{1}{x},$$\n",
    "which is the classical Coulomb law.\n",
    "Contrary, for large distances $x \\to \\infty$ one finds\n",
    "$$ \\lim_{x\\to \\infty} 4 \\pi \\varepsilon_0 \\varepsilon_r w \\mathcal{G}(x) = \\sqrt{\\frac{8}{x}} e^{-\\pi x},$$\n",
    "i.e. the interaction decays exponentially.\n",
    "Such screened electrostatic interactions might explain unusual features\n",
    "concerning the nano-confined ionic liquids employed for supercapacitors referred\n",
    "to 'super-ionic states'.\n",
    "\n",
    "We will explore this interaction numerically using ICC$^\\star$ in the following."
   ]
  },
  {
   "cell_type": "markdown",
   "id": "6c28ac46",
   "metadata": {},
   "source": [
    "## 2D+h periodic systems, dielectric interfaces and Induced Charge Computation with ICC$^\\star$\n",
    "\n",
    "Partially periodic ionic systems with dielectric interfaces are very often\n",
    "encountered in the study of energy materials or bio-macromolecular and membrane\n",
    "studies. \n",
    "These systems usually exhibit a confinement along one ($z$) direction, where the\n",
    "confining boundary or interface imposes a dielectric discontinuity, while the\n",
    "other $x$-$y$ directions are treated periodic. \n",
    "To investigate such a partially periodic system, we combine the efficient scaling behavior\n",
    "of three-dimensional mesh-based solvers (typically\n",
    "$\\mathcal{O}(N \\log N)$ for P3M) with the Electrostatic Layer Correction (ELC)\n",
    "<a href='#[3]'>[3]</a>.\n",
    "The latter corrects for the contributions from the periodic images in the\n",
    "constrained direction and its numerical cost grows linear with the number of\n",
    "point charges $N$, hence the performance overall depends on the underlying 3D\n",
    "Coulomb solver.\n",
    "The method relies on an empty vacuum slab in the simulation box in the\n",
    "$z$-direction perpendicular to slab.\n",
    "While in theory this can become relatively small (typically 10% of the box\n",
    "length), its choice in practice strongly affects the performance due to the\n",
    "tuning of the P3M parameters to obtain the desired accuracy.\n",
    "\n",
    "We furthermore employ ICC$^\\star$ to solve the Poisson equation for an\n",
    "inhomogeneous dieletric:\n",
    "$$ \\nabla (\\varepsilon \\nabla \\phi)=-4\\pi \\rho$$\n",
    "\n",
    "The image charge formalism can be derived as follows:\n",
    "- Integrate the latter expression at the boundary over an infinitesimally wide\n",
    "pillbox, which will give the induced surface charge in this infinitesimal\n",
    "segment as (Gauss law):\n",
    "$$q_{\\mathrm{ind}} = \\frac{1}{4\\pi} \\oint\\, dA\\, \\cdot \\varepsilon\\nabla \\phi = \\frac{A}{4\\pi}(\\varepsilon_1\\vec{E}_1 \\cdot \\hat{n}-\\varepsilon_2\\vec{E}_2 \\cdot\\hat{n})$$\n",
    "- The electric field in region 1 at the closest proximity of the interface, $\\vec{E}_{1}$,\n",
    "can be written as a sum of electric field contributions from the surface charge\n",
    "$\\sigma$ and the external electric field $\\vec{E}$:\n",
    "$$ \\vec{E}_{1} =\\vec{E} + 2\\pi/\\varepsilon_1\\sigma\\hat{n}  $$\n",
    "- Combining this with the previous expression, the induced charge can be written in terms of the dielectric mismatch $\\Delta$ and the electric field as:\n",
    "$$\\sigma = \\frac{\\varepsilon_1}{2\\pi} \\frac{\\varepsilon_1-\\varepsilon_2}{\\varepsilon_1+\\varepsilon_2}\\vec{E} \\cdot \\hat{n} =: \\frac{\\varepsilon_1}{2\\pi} \\Delta \\, \\vec{E} \\cdot \\hat{n}$$\n",
    "\n",
    "The basic idea of the ICC$^\\star$ formalism now is to employ a discretization\n",
    "of the surface by means of spatially fixed ICC particles.\n",
    "The charge of each ICC particle is not fixed but rather iterated using the\n",
    "expressions for $\\vec{E}_{1}$ and $\\sigma$ above until a self-consistent\n",
    "solution is found."
   ]
  },
  {
   "cell_type": "markdown",
   "id": "eafc3e67",
   "metadata": {},
   "source": [
    "##  1. System setup \n"
   ]
  },
  {
   "cell_type": "markdown",
   "id": "015f9df5",
   "metadata": {},
   "source": [
    "We first import all ESPResSo features and external modules."
   ]
  },
  {
   "cell_type": "code",
   "execution_count": null,
   "id": "553e6a9b",
   "metadata": {},
   "outputs": [],
   "source": [
    "import matplotlib.pyplot as plt\n",
    "import tqdm\n",
    "import numpy as np\n",
    "\n",
    "import espressomd\n",
    "import espressomd.electrostatics\n",
    "import espressomd.electrostatic_extensions\n",
    "\n",
    "espressomd.assert_features(['ELECTROSTATICS'])\n",
    "plt.rcParams.update({'font.size': 18})"
   ]
  },
  {
   "cell_type": "markdown",
   "id": "d0c56786",
   "metadata": {},
   "source": [
    "We need to define the system dimensions and some physical parameters related to\n",
    "length, time and energy scales of our system.\n",
    "All physical parameters are defined in reduced units of length ($\\sigma=1$;\n",
    "particle size), mass ($m=1$; particle mass), arbitrary time (we do not consider particle dynamics) and\n",
    "elementary charge ($e=1$).\n",
    "\n",
    "Another important length scale is the Bjerrum Length, which is the length at\n",
    "which the electrostatic energy between two elementary charges is comparable to\n",
    "the thermal energy $k_\\mathrm{B}T$.\n",
    "It is defined as\n",
    "$$\\ell_\\mathrm{B}=\\frac{1}{4\\pi\\varepsilon_0\\varepsilon_r k_\\mathrm{B}T}.$$\n",
    "\n",
    "In our case, if we choose the ion size ($\\sigma$) in simulation units to represent a\n",
    "typical value for mono-atomic salt, 0.3 nm in real units, then the\n",
    "Bjerrum length of water at room temperature, $\\ell_\\mathrm{B}=0.71 \\,\\mathrm{nm}$ is\n",
    "$\\ell_\\mathrm{B}\\sim 2$ in simulations units."
   ]
  },
  {
   "cell_type": "code",
   "execution_count": null,
   "id": "8778f289",
   "metadata": {},
   "outputs": [],
   "source": [
    "# Box dimensions\n",
    "# To construct a narrow slit Lz << (Lx , Ly)\n",
    "box_l_x = 100.\n",
    "box_l_y = 100.\n",
    "box_l_z = 5.\n",
    "\n",
    "# Additional space for ELC\n",
    "ELC_GAP = 6*box_l_z\n",
    "\n",
    "system = espressomd.System(box_l=[box_l_x, box_l_y, box_l_z + ELC_GAP])\n",
    "\n",
    "system.time_step = 0.01\n",
    "system.cell_system.skin = 0.4\n",
    "\n",
    "# Elementary charge \n",
    "q = 1.0  \n",
    "\n",
    "# Interaction parameters for P3M with ELC\n",
    "BJERRUM_LENGTH = 2.0        # Electrostatic prefactor passed to P3M ; prefactor=lB KBT/e2                \n",
    "ACCURACY = 1e-7             # P3M force accuracy      \n",
    "MAX_PW_ERROR = 1e-7         # maximum pairwise error in ELC\n",
    "ICC_EPSILON_DOMAIN = 1.     # epsilon inside the slit\n",
    "ICC_EPSILON_WALLS = 1e5     # epsilon outside the slit. Very large to mimic metal\n",
    "ICC_CONVERGENCE = 1e-3      # ICC numeric/performance parameters\n",
    "ICC_RELAXATION = 0.95\n",
    "ICC_MAX_ITERATIONS = 1000\n",
    "\n",
    "# Lennard-Jones parameters\n",
    "LJ_SIGMA = 1.0\n",
    "LJ_EPSILON = 1.0                \n",
    "\n",
    "# Particle parameters\n",
    "TYPES = {\"Cation\": 0, \"Anion\": 1  ,\"Electrodes\": 2}\n",
    "charges = {\"Cation\": q, \"Anion\": -q  }\n",
    "\n",
    "# Test particles to measure forces\n",
    "p1 = system.part.add(pos=[box_l_x/4.0, box_l_y/2.0, box_l_z/2.0], q=charges[\"Cation\"], fix=3*[True])\n",
    "p2 = system.part.add(pos=[3.0*box_l_x/4.0, box_l_y/2.0, box_l_z/2.0], q=charges[\"Anion\"], fix=3*[True])"
   ]
  },
  {
   "cell_type": "markdown",
   "id": "715b2e5c",
   "metadata": {},
   "source": [
    "### Setup of electrostatic interactions\n",
    "First, we define our 3D electrostatics solver (P3M)"
   ]
  },
  {
   "cell_type": "code",
   "execution_count": null,
   "id": "b00b4235",
   "metadata": {},
   "outputs": [],
   "source": [
    "p3m = espressomd.electrostatics.P3M(\n",
    "            prefactor=BJERRUM_LENGTH,\n",
    "            accuracy=ACCURACY,\n",
    "            check_neutrality=False,\n",
    "            mesh=[100, 100, 150],\n",
    "            cao=5\n",
    "        )"
   ]
  },
  {
   "cell_type": "markdown",
   "id": "20957c03",
   "metadata": {},
   "source": [
    "### Task\n",
    "\n",
    "* Set up [ELC](https://espressomd.github.io/doc/espressomd.html#espressomd.electrostatics.ELC) with ``p3m`` as its actor."
   ]
  },
  {
   "cell_type": "code",
   "execution_count": null,
   "id": "e5a52faf",
   "metadata": {},
   "outputs": [],
   "source": [
    "# SOLUTION CELL\n",
    "elc = espressomd.electrostatics.ELC(actor=p3m, gap_size=ELC_GAP, maxPWerror=MAX_PW_ERROR)"
   ]
  },
  {
   "cell_type": "code",
   "execution_count": null,
   "id": "3eec2580",
   "metadata": {},
   "outputs": [],
   "source": []
  },
  {
   "cell_type": "markdown",
   "id": "243166cf",
   "metadata": {},
   "source": [
    "Next, we set up the ICC particles on both electrodes"
   ]
  },
  {
   "cell_type": "code",
   "execution_count": null,
   "id": "93f09c66",
   "metadata": {},
   "outputs": [],
   "source": [
    "ICC_PARTCL_NUMBER_DENSITY = 1.\n",
    "icc_partcls_bottom = []\n",
    "icc_partcls_top = []"
   ]
  },
  {
   "cell_type": "markdown",
   "id": "23398839",
   "metadata": {},
   "source": [
    "### TASK\n",
    "\n",
    "* Using the (area) density of ICC particles defined in the cell above, calculate the x/y positions of the particles for a uniform, quadratic grid. \n",
    "* Add fixed particles on the electrodes. Make sure to use the correct ``type``. Give the top (bottom) plate a total charge of $+1$ ($-1$). \n",
    "* Store the created particles in lists ``icc_partcls_bottom``, ``icc_partcls_top``."
   ]
  },
  {
   "cell_type": "code",
   "execution_count": null,
   "id": "6d83e7e2",
   "metadata": {},
   "outputs": [],
   "source": [
    "# SOLUTION CELL\n",
    "line_density = np.sqrt(ICC_PARTCL_NUMBER_DENSITY)\n",
    "xs = np.linspace(0, system.box_l[0], num=int(round(system.box_l[0] * line_density)), endpoint=False)\n",
    "ys = np.linspace(0, system.box_l[1], num=int(round(system.box_l[1] * line_density)), endpoint=False)\n",
    "n_partcls_each_electrode = len(xs) * len(ys)\n",
    "\n",
    "# Bottom electrode\n",
    "for x in xs:\n",
    "    for y in ys:\n",
    "        icc_partcls_bottom.append(system.part.add(pos=[x, y, 0.], q=-1. / n_partcls_each_electrode,\n",
    "                                  type=TYPES[\"Electrodes\"], fix=3*[True]))\n",
    "# Top electrode\n",
    "for x in xs:\n",
    "    for y in ys:\n",
    "        icc_partcls_top.append(system.part.add(pos=[x, y, box_l_z], q=1. / n_partcls_each_electrode,\n",
    "                               type=TYPES[\"Electrodes\"], fix=3*[True]))"
   ]
  },
  {
   "cell_type": "code",
   "execution_count": null,
   "id": "24de69a4",
   "metadata": {},
   "outputs": [],
   "source": []
  },
  {
   "cell_type": "markdown",
   "id": "5326e038",
   "metadata": {},
   "source": [
    "### Task\n",
    "\n",
    "* Set ``elc`` as ``system.electrostatics.solver``\n",
    "* Create an [ICC object]((https://espressomd.github.io/doc/espressomd.html#espressomd.electrostatic_extensions.ICC) and set it as ``system.electrostatics.extension``\n",
    "\n",
    "### Hints\n",
    "\n",
    "* ICC variables are defined in the second code cell from the top.\n",
    "* Make sure to not mark our test particles ``p1`` and ``p2`` (with ids 0 and 1) as ICC particles."
   ]
  },
  {
   "cell_type": "code",
   "execution_count": null,
   "id": "11f1f197",
   "metadata": {},
   "outputs": [],
   "source": [
    "# SOLUTION CELL\n",
    "system.electrostatics.solver = elc\n",
    "\n",
    "n_icc_partcls = len(icc_partcls_top) + len(icc_partcls_bottom)\n",
    "\n",
    "# Common area, sigma and metallic epsilon\n",
    "icc_areas = 1. / ICC_PARTCL_NUMBER_DENSITY * np.ones(n_icc_partcls)\n",
    "icc_sigmas = np.zeros(n_icc_partcls)\n",
    "icc_epsilons = ICC_EPSILON_WALLS * np.ones(n_icc_partcls)\n",
    "icc_normals = np.repeat([[0, 0, 1], [0, 0, -1]], repeats=n_icc_partcls//2, axis=0)\n",
    "\n",
    "icc = espressomd.electrostatic_extensions.ICC(\n",
    "    first_id=min(system.part.select(type=TYPES[\"Electrodes\"]).id),\n",
    "    n_icc=n_icc_partcls,\n",
    "    convergence=ICC_CONVERGENCE,\n",
    "    relaxation=ICC_RELAXATION,\n",
    "    ext_field=[0, 0, 0],\n",
    "    max_iterations=ICC_MAX_ITERATIONS,\n",
    "    eps_out=ICC_EPSILON_DOMAIN,\n",
    "    normals=icc_normals,\n",
    "    areas=icc_areas,\n",
    "    sigmas=icc_sigmas,\n",
    "    epsilons=icc_epsilons\n",
    ")\n",
    "system.electrostatics.extension = icc"
   ]
  },
  {
   "cell_type": "code",
   "execution_count": null,
   "id": "48e114a8",
   "metadata": {},
   "outputs": [],
   "source": []
  },
  {
   "cell_type": "markdown",
   "id": "1937965b",
   "metadata": {},
   "source": [
    "## 2. Calculation of the forces"
   ]
  },
  {
   "cell_type": "code",
   "execution_count": null,
   "id": "e998bc15",
   "metadata": {},
   "outputs": [],
   "source": [
    "N_AXIAL_POINTS = 10\n",
    "r = np.logspace(0., box_l_z / 4., N_AXIAL_POINTS) \n",
    "elc_forces_axial = np.empty((N_AXIAL_POINTS, 2))\n",
    "n_icc_per_electrode = len(icc_partcls_top)\n",
    "\n",
    "p1.pos = [0., box_l_y / 2., box_l_z / 2.]\n",
    "\n",
    "for i in tqdm.trange(N_AXIAL_POINTS):\n",
    "    p2.pos = [r[i], box_l_y / 2., box_l_z / 2.]\n",
    "\n",
    "    system.integrator.run(0, recalc_forces=True)\n",
    "    elc_forces_axial[i, 0] = p1.f[0]\n",
    "    elc_forces_axial[i, 1] = p2.f[0]\n",
    "    \n",
    "    # reset ICC charges to ensure charge neutrality \n",
    "    for part in icc_partcls_top:\n",
    "        part.q = 1. / n_icc_per_electrode\n",
    "    for part in icc_partcls_bottom:\n",
    "        part.q = -1. / n_icc_per_electrode"
   ]
  },
  {
   "cell_type": "markdown",
   "id": "751d418b",
   "metadata": {},
   "source": [
    "## 3. Analysis and Interpretation of the data\n",
    "\n",
    "With this we can now compare the force between the two ions to the analytical prediction.\n",
    "To evaluate the infinite series we truncate at $n=1000$, which already is well converged."
   ]
  },
  {
   "cell_type": "code",
   "execution_count": null,
   "id": "8b3579ed",
   "metadata": {},
   "outputs": [],
   "source": [
    "def analytic_force_centered(r,w):\n",
    "    def summand(x, n):\n",
    "        return (-1)**n * x / (x**2 + n**2)**(3. / 2.)\n",
    "    \n",
    "    def do_sum(x):\n",
    "        limit = 1000\n",
    "        accumulator = 0.\n",
    "        for n in range(-limit + 1, limit + 1):\n",
    "            accumulator += summand(x, n)\n",
    "        return accumulator\n",
    "\n",
    "    x = r / w\n",
    "    prefactor = BJERRUM_LENGTH / w**2\n",
    "    F = do_sum(x) * prefactor\n",
    "    return F\n",
    "\n",
    "def coulomb_force(x):\n",
    "    prefactor = BJERRUM_LENGTH\n",
    "    E = prefactor / x**2\n",
    "    return E\n",
    "\n",
    "def exponential_force(r,w):\n",
    "    x = r / w\n",
    "    prefactor = BJERRUM_LENGTH\n",
    "    E = prefactor * np.sqrt(2.) * (1. / x)**(3. / 2.) * np.exp(-np.pi * x)\n",
    "    return E"
   ]
  },
  {
   "cell_type": "code",
   "execution_count": null,
   "id": "cb4dba95",
   "metadata": {},
   "outputs": [],
   "source": [
    "fig = plt.figure(figsize=(10, 6))\n",
    "\n",
    "x = np.logspace(-0.25, 1.45, 100)\n",
    "plt.plot(x / BJERRUM_LENGTH, analytic_force_centered(x, box_l_z), color='b', label=\"analytic\", marker='')\n",
    "plt.plot(x / BJERRUM_LENGTH, coulomb_force(x), color='g', ls='--', label='Coulomb')\n",
    "plt.plot(x / BJERRUM_LENGTH, exponential_force(x, box_l_z), color='r', ls='--', label='Exponential')\n",
    "\n",
    "plt.plot(r / BJERRUM_LENGTH, -elc_forces_axial[:,1], color='r', label=\"sim (p2)\", marker='o', ls='')\n",
    "plt.plot(r / BJERRUM_LENGTH, +elc_forces_axial[:,0], color='k', label=\"sim (p1)\", marker='x', ls='')\n",
    "\n",
    "plt.xlabel(r'$r \\, [\\ell_\\mathrm{B}]$')\n",
    "plt.ylabel(r'$F \\, [k_\\mathrm{B}T / \\sigma$]')\n",
    "plt.loglog()\n",
    "plt.legend()\n",
    "plt.show()"
   ]
  },
  {
   "cell_type": "markdown",
   "id": "bd5f4d61",
   "metadata": {},
   "source": [
    "## References\n",
    "\n",
    "<a id='[1]'></a>[1] Tyagi, S.; Süzen, M.; Sega, M.; Barbosa, M.; Kantorovich, S. S.; Holm, C. An Iterative, Fast, Linear-Scaling Method for Computing Induced Charges on Arbitrary Dielectric Boundaries. J. Chem. Phys. 2010, 132 (15), 154112. https://doi.org/10.1063/1.3376011.\n",
    " \n",
    "<a id='[2]'></a>[2] Kondrat, S.; Feng, G.; Bresme, F.; Urbakh, M.; Kornyshev, A. A. Theory and Simulations of Ionic Liquids in Nanoconfinement. Chem. Rev. 2023, 123 (10), 6668–6715. https://doi.org/10.1021/acs.chemrev.2c00728.\n",
    "\n",
    "<a id='[3]'></a>[3] Tyagi, S.; Arnold, A.; Holm, C. Electrostatic Layer Correction with Image Charges: A Linear Scaling Method to Treat Slab 2D+h Systems with Dielectric Interfaces. J. Chem. Phys. 2008, 129 (20), 204102. https://doi.org/10.1063/1.3021064.\n",
    "\n",
    "<a id='[4]'></a>[4] Loche, P.; Ayaz, C.; Wolde-Kidan, A.; Schlaich, A.; Netz, R. R. Universal and Nonuniversal Aspects of Electrostatics in Aqueous Nanoconfinement. J. Phys. Chem. B 2020, 124 (21), 4365–4371. https://doi.org/10.1021/acs.jpcb.0c01967."
   ]
  }
 ],
 "metadata": {
  "kernelspec": {
   "display_name": "Python 3",
   "language": "python",
   "name": "python3"
  },
  "language_info": {
   "codemirror_mode": {
    "name": "ipython",
    "version": 3
   },
   "file_extension": ".py",
   "mimetype": "text/x-python",
   "name": "python",
   "nbconvert_exporter": "python",
   "pygments_lexer": "ipython3",
   "version": "3.10.12"
  }
 },
 "nbformat": 4,
 "nbformat_minor": 5
}
