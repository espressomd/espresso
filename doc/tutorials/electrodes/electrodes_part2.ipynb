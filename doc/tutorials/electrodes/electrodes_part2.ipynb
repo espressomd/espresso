{
 "cells": [
  {
   "cell_type": "markdown",
   "id": "357a65e2",
   "metadata": {},
   "source": [
    "# Basic simulation of electrodes in ESPResSo part II: Electrolytic capacitor and Poisson–Boltzmann theory"
   ]
  },
  {
   "cell_type": "markdown",
   "id": "a90e9ca7",
   "metadata": {},
   "source": [
    "## Prerequisites\n",
    "\n",
    "To work with this tutorial, you should be familiar with the following topics:\n",
    "\n",
    "1. Setting up and running simulations in ESPResSo - creating particles,\n",
    "   incorporating interactions.\n",
    "   If you are unfamiliar with this, you can go through the tutorial\n",
    "   in the `lennard_jones` folder.\n",
    "2. Basic knowledge of classical electrostatics:\n",
    "   dipoles, surface and image charges.\n",
    "3. Reduced units and how to relate them to physical quantities, see the ESPResSo\n",
    "   [user guide](https://espressomd.github.io/doc/introduction.html#on-units)."
   ]
  },
  {
   "cell_type": "markdown",
   "id": "4c0ab2c6",
   "metadata": {},
   "source": [
    "## Introduction\n",
    "\n",
    "Ionic liquid (IL) based capacitors have long been established as promising\n",
    "candidates in the area of efficient energy storage devices due to their\n",
    "extraordinary capacitance, which is why they are also termed super-capacitors.\n",
    "Typically, in these setups a fluid consisting of mobile charge carriers is\n",
    "placed between two electrodes and thus gets polarized upon application of an\n",
    "external potential formic an electric double layer at the interfaces\n",
    "<a href='#[1]'>[1]</a>.\n",
    "Electric double-layer capacitors (EDLCs) can be constructed from electrodes of\n",
    "various geometries and materials where energy is stored by potential driven\n",
    "adsorption of counterions on the surface of the electrodes and forming the\n",
    "double layer. \n",
    "Thus, conducting, high surface area electrode materials can further maximize the\n",
    "energy per volume.\n",
    "\n",
    "In this tutorial we are going to investigate the ionic layer formation between\n",
    "two conducting dielectric walls in presence of an applied voltage using **ESPResSo**'s\n",
    "\"Electrostatic layer correction with image charges\" (ELC-IC) method\n",
    "<a href='#[1]'>[2]</a>.\n",
    "We employ a primitive model of an aqueous salt solution, where the solvent is\n",
    "treated implicitly as a homogeneous dielectric background.\n",
    "Thus, within the limits of a mean-field treatment and for not too small slit\n",
    "widths, we can compare our findings with the analytical Gouy–Chapmann\n",
    "solution for a single charged plane since additivity is assumed to hold if the\n",
    "potential of both walls is screened sufficiently.\n",
    "While this mean-field formalism properly describes the behavior of Coulomb\n",
    "fluids composed of monovalent ions at low concentrations in the vicinity of\n",
    "weakly charged interfaces, for strongly charged systems, where correlation and\n",
    "finite size effects begin to dominate, Poisson–Boltzmann theory falls\n",
    "inadequate.\n",
    "Our goal in this tutorial is to demonstrate how coarse grained implicit solvent\n",
    "simulations can corroborate on some of the approximations and hint on\n",
    "extensions/deviations.\n",
    "\n",
    "The inclusion of dielectric inhomogeneities appearing at the conducting\n",
    "interfaces demands to take into account image effects that involve the full\n",
    "solution of the Poisson equation.\n",
    "This is dealt with in a computationally cost-effective way using the ELC-IC method to\n",
    "treat the image charge effects in the presence of 2D dielectric bounding\n",
    "interfaces. "
   ]
  },
  {
   "cell_type": "markdown",
   "id": "7b1ef707",
   "metadata": {},
   "source": [
    "## Theoretical Background \n",
    "\n",
    "### Poisson–Boltzmann Theory\n",
    "\n",
    "Charged surfaces in contact with a liquid containing free charges (ions) attract\n",
    "oppositely charged ions that form a diffusive electric double layer. \n",
    "The competition between electrostatic interactions and entropy of ions in\n",
    "solution determines the exact distribution of mobile ions close to charged\n",
    "membranes.\n",
    "Gouy <a href='#[1]'>[3]</a> and Chapman <a href='#[1]'>[4]</a> derived in the\n",
    "early 20th century the analytic solution for the case of a single planar wall\n",
    "within the mean-field approximation of the Poisson–Boltzmann (PB) equation. \n",
    "We will use it to describe our two-electrode system, which is justified if the electrodes are \n",
    "so far apart that one surface does not influence the ion distribution in front of the other surface.\n",
    "\n",
    "In the case of a monovalent electrolyte, double integrating the PB equation and\n",
    "employing the corresponding boundary conditions for the charged plane located at\n",
    "$z=0$ yields the electrostatic potential:\n",
    "$$\\phi(z) = -2\\ln\\left[\n",
    "    \\frac{1-\\tanh(\\phi_\\mathrm{s}/4)e^{-\\kappa_\\mathrm{D} z}}\n",
    "         {1+\\tanh(\\phi_\\mathrm{s}/4)e^{-\\kappa_\\mathrm{D}z}}  \\right].$$ \n",
    "Here, $\\phi_\\mathrm{s}=\\phi(z=0)=$ const is the surface potential such\n",
    "that $\\phi(z\\rightarrow \\infty)=0$.\n",
    "$\\kappa_\\mathrm{D} = \\lambda_\\mathrm{D}^{-1}$ is the inverse Debye screening length given by\n",
    "$$ \\lambda_\\mathrm{D} = \\left(\\frac{\\varepsilon \\, k_{\\mathrm B} T}{\\sum_{j = 1}^N n_j^0 \\, q_j^2}\\right)^{1/2}, $$\n",
    "where $n_j^{(0)}$ and $q_j$ are the equilibrium number density and charge of the\n",
    "$j$-th ion species.\n",
    "For the monovalent salt this can conveniently be expressed in terms of the\n",
    "Bjerrum length $\\ell_\\mathrm{B}$ and the equilibrium salt concentration\n",
    "$\\rho^{(0)}=\\sum_j \\rho_j^{(0)}$,\n",
    "$$ \\lambda_{\\mathrm D} = \\left(4 \\pi \\, \\ell_\\mathrm{B} \\, \\rho^{(0)}/e\\right)^{-1/2} . $$\n",
    "\n",
    "The cationic and anionic density profiles then follow from the Boltzmann\n",
    "distribution as:\n",
    "$$n_{\\pm}(z)=n_\\pm^{(0)}\\left(\\frac{1\\pm\\gamma e^{-\\kappa_\\mathrm{D}z}}\n",
    "                                     {1\\mp\\gamma e^{-\\kappa_\\mathrm{D}z}} \\right)^2$$\n",
    "Here, $\\gamma$ is associated with the surface potential as\n",
    "$\\phi_\\mathrm{s}=-4\\tanh^{-1}(\\gamma)$.\n",
    "At large z, where the potential decays to zero, the ionic profiles tend to their\n",
    "bulk (reservoir) densities, $n_\\pm(z\\to\\infty) = n_\\pm^{(0)}$\n",
    "\n",
    "The relation between the surface potential and the surface charge induced on the\n",
    "electrode is given by the Grahame Equation <a href='#[1]'>[5]</a> :\n",
    "$$ \\sigma = \\sinh(\\phi_\\mathrm{s}/2) \\sqrt{\\frac{2 n_\\mathrm{b}}{\\pi \\ell_\\mathrm{B}}} $$\n",
    "The latter expression thus yields the differential capacitance\n",
    "$C=\\displaystyle\\frac{\\mathrm{d}\\sigma}{\\mathrm{d}\\phi_\\mathrm{s}}$ within the mean-field\n",
    "solution for non-overlapping double layers."
   ]
  },
  {
   "cell_type": "markdown",
   "id": "38ba2c5c",
   "metadata": {},
   "source": [
    "## ELC-IC for 2D+h periodic systems with dielectric interfaces\n",
    "\n",
    "In this tutorial we employ a parallel plate capacitor setup with constant\n",
    "potential boundary conditions which needs to be treated appropriately by the\n",
    "electrostatics solver.\n",
    "To simulate a two-dimensional partially periodic system, we combine the efficient\n",
    "scaling behavior of three-dimensional mesh-based solvers (typically\n",
    "$\\mathcal{O}(N \\log N)$ for P3M) with the Electrostatic Layer Correction (ELC)\n",
    "<a href='#[1]'>[1]</a>.\n",
    "The latter removes the contributions from the periodic images in the\n",
    "non-periodic direction and its numerical cost grows linear with the number of\n",
    "point charges $N$, hence the performance overall depends on the underlying 3D\n",
    "Coulomb solver.\n",
    "Furthermore, ELC can be extended straightforwardly to metallic boundary\n",
    "conditions (or any other dielectric contrast) by using the method of image charges,\n",
    "which is referred to as the “Electrostatic Layer Correction with Image Charges”\n",
    "(ELC-IC) approach used in this tutorial.\n",
    "\n",
    "A voltage difference can be applied between the electrodes by following\n",
    "considerations:\n",
    "The total potential drop $\\Delta \\phi$ across the simulated system is readily\n",
    "obtained from the ion distribution and integrating twice over the one-dimensional Poisson equation:\n",
    "$$-\\varepsilon_{0}\\varepsilon_{r}\\phi_\\mathrm{ind}(z)=\\iint_{0}^{z}\\rho(z^{\\prime})(z-z^{\\prime})dz^{\\prime}$$\n",
    "Here, the subscript 'ind' indicates that this is the potential due to the\n",
    "induced inhomogeneous charge distribution.\n",
    "In order to set up a constant potential difference $\\Delta \\phi$, a homogeneous\n",
    "electric field is superimposed such that\n",
    "$$ \\Delta \\phi = \\Delta \\phi_\\mathrm{ind} + \\Delta \\phi_\\mathrm{bat},$$\n",
    "where $\\Delta \\phi_\\mathrm{bat}$ corresponds to the potential of a (virtually)\n",
    "applied battery.\n",
    "In practice, the linear electric field in $E_z^\\mathrm{(bat)}=-\\phi_\\mathrm{bat}/L_z$\n",
    "in the $z$-direction normal to the surface that one needs to apply can be\n",
    "calculated straightforwardly, as the corresponding contribution from the induced\n",
    "charges is known:\n",
    "$$ E_z^\\mathrm{(ind)} = \\frac{1}{\\varepsilon_0 \\varepsilon_r L^2 L_z} P_z$$\n",
    "Here, $L$ denotes the lateral system size, $L_z$ the distance between the plates\n",
    "and $P_z = \\sum_i q_i z_i$ is the total dipole moment in $z$-direction due to\n",
    "the charges $q_i$.\n",
    "Then, to maintain $\\Delta \\phi$, a force $F_z^\\mathrm{bat} = q E_z^\\mathrm{(bat)}$\n",
    "is applied on all charges.\n",
    "Since ELC already calculates $P_z$, the constant potential correction requires no\n",
    "additional computational effort.\n",
    "\n",
    "*Note*: Apart from ELC-IC, **ESPResSo** also provides the ICC$^\\star$ method\n",
    "<a href='#[2]'>[2]</a> which employs an iterative numerical scheme with\n",
    "discretized surface particles to solve the boundary integrals at the dieletcric\n",
    "interface.\n",
    "The tutorial on *Basic simulation of electrodes in ESPResSo part I* addresses this\n",
    "in detail."
   ]
  },
  {
   "cell_type": "markdown",
   "id": "f128c80a",
   "metadata": {},
   "source": [
    "## 1. System setup \n",
    "\n",
    "First we import all ESPResSo features and external modules"
   ]
  },
  {
   "cell_type": "code",
   "execution_count": null,
   "id": "7661ce98",
   "metadata": {},
   "outputs": [],
   "source": [
    "import numpy as np\n",
    "import matplotlib.pyplot as plt\n",
    "import scipy.constants as constants\n",
    "import scipy.stats\n",
    "import tqdm\n",
    "\n",
    "import espressomd\n",
    "import espressomd.electrostatics\n",
    "import espressomd.electrostatic_extensions\n",
    "import espressomd.observables\n",
    "import espressomd.accumulators\n",
    "import espressomd.shapes\n",
    "\n",
    "espressomd.assert_features(['WCA', 'ELECTROSTATICS'])\n",
    "rng = np.random.default_rng(42)\n",
    "plt.rcParams.update({'font.size': 18})"
   ]
  },
  {
   "cell_type": "markdown",
   "id": "16cce457",
   "metadata": {},
   "source": [
    "We need to define system dimensions and some physical parameters related to\n",
    "length, time and energy scales of our system.\n",
    "As discussed in previous tutorials, all physical parameters are defined in terms\n",
    "of a length $\\sigma$, mass $m$ and time $t$ and unit of charge $q$.\n",
    "Since we are not explicitly interested in the dynamics of the system, we set the\n",
    "mass to $m=1$ (particle mass).\n",
    "For convenience, we choose the elementary charge as fundamental unit ($q=1e$)\n",
    "and $\\sigma = 1 \\,\\mathrm{nm}$.\n",
    "\n",
    "With this we can now define the fundamental parameters of our system:"
   ]
  },
  {
   "cell_type": "code",
   "execution_count": null,
   "id": "43ae6591",
   "metadata": {},
   "outputs": [],
   "source": [
    "# water at room temperature\n",
    "EPSILON_R = 78.4             # Relative dielectric constant of water\n",
    "TEMPERATURE = 300.0          # Temperature in Kelvin\n",
    "BJERRUM_LENGTH = constants.elementary_charge**2 / constants.nano / \\\n",
    "  (4 * np.pi * constants.epsilon_0 * EPSILON_R * constants.Boltzmann * TEMPERATURE)\n",
    "# BERRUM_LENGTH of water at room temperature is 0.71 nm; electrostatic prefactor passed to P3M KBT/e2                \n",
    "\n",
    "# Lennard-Jones parameters\n",
    "LJ_SIGMA = 0.3 # Particle size in nanometers\n",
    "LJ_EPSILON = 1.0\n",
    "\n",
    "CONCENTRATION = 1e-2 # desired concentration in mol/l\n",
    "DISTANCE = 10 # 10 Debye lengths\n",
    "N_IONPAIRS = 500\n",
    "\n",
    "POTENTIAL_DIFF = 5.0\n",
    "\n",
    "# Elementary charge \n",
    "q = 1.\n",
    "types = {\"Cation\": 0, \"Anion\": 1, \"Electrodes\": 2}\n",
    "charges = {\"Cation\": q, \"Anion\": -q}"
   ]
  },
  {
   "cell_type": "markdown",
   "id": "a3b0c640",
   "metadata": {},
   "source": [
    "### 1.1 Setting up the box dimensions and create system\n",
    "\n",
    "We want to make use of the optimal performance of **ESPResSo** in this tutorial,\n",
    "which is roughly at 1000 particles/core.\n",
    "Thus, we fixed above the number of ion pairs to `N_IONPAIRS = 500`.\n",
    "\n",
    "To be able to employ the analytical solution for the single plate also for the\n",
    "double layer capacitor setup, the two electrodes need to be sufficiently far\n",
    "away such that the additivity of the two surface potentials holds. In practice,\n",
    "a separation of $d=10\\lambda_\\mathrm{D}$ is a good choice, represented by \n",
    "`DISTANCE = 10`.\n",
    "\n",
    "Our choice of $c=10\\,\\mathrm{mmol}$ is a compromise between a sufficiently low\n",
    "concentration for the PB theory to hold and not too large distances $d$ such\n",
    "that the equilibration/diffusion of the ions is sufficiently fast\n",
    "(`CONCENTRATION = 1e-2`).\n",
    "\n",
    "Note that in order to obtain results that we can interpret easily, we explicitly\n",
    "set a unit system using nanometers as length-scale above.\n",
    "The corresponding ion size of about 0.3 nm is a\n",
    "typical value for a simple salt; this, however, is in sharp contrast to the\n",
    "mean-field assumption of point-like ions.\n",
    "The latter are not easily studied within Molecular Dynamics simulations due to\n",
    "the required small time steps and are better suited for Monte Carlo type\n",
    "simulations.\n",
    "We instead focus here on analyzing deviations from PB theory due to the finite\n",
    "ion size."
   ]
  },
  {
   "cell_type": "markdown",
   "id": "867de4db",
   "metadata": {},
   "source": [
    "**Task**\n",
    "\n",
    "* write a function \n",
    "`get_box_dimension(concentration, distance, n_ionpairs=N_IONPAIRS)`\n",
    "that returns the lateral and normal box lengths `box_l_xy` and `box_l_z` (in\n",
    "nanometers) for the given parameters.\n",
    "\n",
    "**Hint:** To account for the finite ion size and the wall interaction it is\n",
    "useful to define the effective separation $d^\\prime = d-2\\sigma$, such that the\n",
    "concentration is $\\rho = N/(A \\cdot d^\\prime)$."
   ]
  },
  {
   "cell_type": "code",
   "execution_count": null,
   "id": "5a65af0b",
   "metadata": {},
   "outputs": [],
   "source": [
    "# SOLUTION CELL\n",
    "def get_box_dimension(concentration, distance, n_ionpairs=N_IONPAIRS):\n",
    "    \"\"\"\n",
    "    For a given number of particles, determine the lateral area of the box\n",
    "    to match the desired concentration.\n",
    "    \"\"\"\n",
    "\n",
    "    # concentration is in mol/l, convert to 1/sigma**3\n",
    "    rho = concentration * (constants.Avogadro / constants.liter) * constants.nano**3\n",
    "    debye_length = (4. * np.pi * BJERRUM_LENGTH * rho * 2.)**(-1. / 2.) # desired Debye length in nm\n",
    "    l_z = distance * debye_length\n",
    "    \n",
    "    box_volume = n_ionpairs / rho\n",
    "    area = box_volume / (l_z - 2. * LJ_SIGMA) # account for finite ion size in density calculation\n",
    "    l_xy = np.sqrt(area)\n",
    "\n",
    "    return l_xy, l_z"
   ]
  },
  {
   "cell_type": "code",
   "execution_count": null,
   "id": "9b70bad1",
   "metadata": {},
   "outputs": [],
   "source": []
  },
  {
   "cell_type": "code",
   "execution_count": null,
   "id": "264d82af",
   "metadata": {},
   "outputs": [],
   "source": [
    "box_l_xy, box_l_z = get_box_dimension(CONCENTRATION, DISTANCE, N_IONPAIRS)\n",
    "\n",
    "# useful quantities for the following calculations\n",
    "DEBYE_LENGTH = box_l_z / DISTANCE # in units of nm\n",
    "rho = N_IONPAIRS / (box_l_xy * box_l_xy * box_l_z) # in units of 1/nm^3"
   ]
  },
  {
   "cell_type": "markdown",
   "id": "7aaec7a5",
   "metadata": {},
   "source": [
    "We now can create the **ESPResSo** system.\n",
    "\n",
    "Note that for ELC to work properly, we need to add a gap of `ELC_GAP` in the\n",
    "non-periodic direction.\n",
    "The precise value highly affects the performance due to the tuning of the P3M\n",
    "electrostatic solver.\n",
    "For $d=10\\lambda$ a gap value of $6 L_z$ is a good choice.\n",
    "\n",
    "We also set the time-step $dt = 0.01 \\tau$, which is limited by the choice of\n",
    "$\\sigma$ and $\\tau$ in the repulsive WCA interaction."
   ]
  },
  {
   "cell_type": "code",
   "execution_count": null,
   "id": "eb642f0f",
   "metadata": {},
   "outputs": [],
   "source": [
    "ELC_GAP = 6. * box_l_z\n",
    "system = espressomd.System(box_l=[box_l_xy, box_l_xy, box_l_z + ELC_GAP])\n",
    "system.time_step = 0.01"
   ]
  },
  {
   "cell_type": "markdown",
   "id": "df4888a5",
   "metadata": {},
   "source": [
    "### 1.2 Set up the double-layer capacitor\n",
    "\n",
    "We now set up an electrolyte solution made of monovalent cations and anions\n",
    "between two metallic electrodes at constant potential. \n",
    "\n",
    "#### 1.2.1 Electrode walls "
   ]
  },
  {
   "cell_type": "markdown",
   "id": "48abb259",
   "metadata": {},
   "source": [
    "**Task**\n",
    "\n",
    "* add two wall constraints at $z=0$ and $z=L_z$ to stop particles from\n",
    "crossing the boundaries and model the electrodes.\n",
    "Refer to \n",
    "[espressomd.constraints.ShapeBasedConstraint](https://espressomd.github.io/doc/espressomd.html#espressomd.constraints.ShapeBasedConstraint)\n",
    "and its\n",
    "[wall constraint](https://espressomd.github.io/doc/constraints.html?highlight=constraint#wall)\n",
    "in the documentation to set up constraints and the `types` dictionary for the\n",
    "particle type."
   ]
  },
  {
   "cell_type": "code",
   "execution_count": null,
   "id": "af3cb791",
   "metadata": {},
   "outputs": [],
   "source": [
    "# SOLUTION CELL\n",
    "# Bottom wall, normal pointing in the +z direction \n",
    "floor = espressomd.shapes.Wall(normal=[0, 0, 1])\n",
    "c1 = system.constraints.add(\n",
    "    particle_type=types[\"Electrodes\"], penetrable=False, shape=floor)\n",
    "\n",
    "# Top wall, normal pointing in the -z direction\n",
    "ceiling = espressomd.shapes.Wall(normal=[0, 0, -1], dist=-box_l_z)   \n",
    "c2 = system.constraints.add(\n",
    "    particle_type=types[\"Electrodes\"], penetrable=False, shape=ceiling)"
   ]
  },
  {
   "cell_type": "code",
   "execution_count": null,
   "id": "88ba5371",
   "metadata": {},
   "outputs": [],
   "source": []
  },
  {
   "cell_type": "markdown",
   "id": "a990659a",
   "metadata": {},
   "source": [
    "#### 1.2.2 Add particles for the ions\n",
    "\n",
    "**Task**\n",
    "\n",
    "* place ion pairs at random positions between the electrodes.\n",
    "\n",
    "Note, that unfavorable overlap can be avoided by placing the particles in the\n",
    "interval $[\\sigma, d-\\sigma]$ in the $z$-direction only."
   ]
  },
  {
   "cell_type": "code",
   "execution_count": null,
   "id": "5a62db5a",
   "metadata": {},
   "outputs": [],
   "source": [
    "# SOLUTION CELL\n",
    "offset = LJ_SIGMA # avoid unfavorable overlap at close distance to the walls\n",
    "init_part_btw_z1 = offset \n",
    "init_part_btw_z2 = box_l_z - offset\n",
    "ion_pos = np.empty((3), dtype=float)\n",
    "\n",
    "for i in range (N_IONPAIRS):\n",
    "    ion_pos[0] = rng.random(1) * system.box_l[0]\n",
    "    ion_pos[1] = rng.random(1) * system.box_l[1]\n",
    "    ion_pos[2] = rng.random(1) * (init_part_btw_z2 - init_part_btw_z1) + init_part_btw_z1\n",
    "    system.part.add(pos=ion_pos, type=types[\"Cation\"], q=charges[\"Cation\"])\n",
    "    \n",
    "for i in range (N_IONPAIRS):\n",
    "    ion_pos[0] = rng.random(1) * system.box_l[0]\n",
    "    ion_pos[1] = rng.random(1) * system.box_l[1]\n",
    "    ion_pos[2] = rng.random(1) * (init_part_btw_z2 - init_part_btw_z1) + init_part_btw_z1\n",
    "    system.part.add(pos=ion_pos, type=types[\"Anion\"], q=charges[\"Anion\"])"
   ]
  },
  {
   "cell_type": "code",
   "execution_count": null,
   "id": "dc4f8d89",
   "metadata": {},
   "outputs": [],
   "source": []
  },
  {
   "cell_type": "markdown",
   "id": "b95f1bba",
   "metadata": {},
   "source": [
    "#### 1.2.3 Add interactions:\n",
    "\n",
    "**Task**\n",
    "\n",
    "* For excluded volume interactions, add a WCA potential. \n",
    "\n",
    "Refer to the documentation to set up the\n",
    "[WCA interaction](https://espressomd.github.io/doc/espressomd.html#espressomd.interactions.WCAInteraction) \n",
    "under [Non-bonded](https://espressomd.github.io/doc/inter_non-bonded.html)\n",
    "section."
   ]
  },
  {
   "cell_type": "code",
   "execution_count": null,
   "id": "dacf9cc5",
   "metadata": {},
   "outputs": [],
   "source": [
    "# SOLUTION CELL\n",
    "for t1 in types.values():\n",
    "    for t2 in types.values():\n",
    "        system.non_bonded_inter[t1, t2].wca.set_params(epsilon=LJ_EPSILON, sigma=LJ_SIGMA)"
   ]
  },
  {
   "cell_type": "code",
   "execution_count": null,
   "id": "31de8dc6",
   "metadata": {},
   "outputs": [],
   "source": []
  },
  {
   "cell_type": "markdown",
   "id": "61700a87",
   "metadata": {},
   "source": [
    "For the (2D+h) electrostatic with dielectrics we choose the ELC-IC with P3M.\n",
    "\n",
    "Refer the documentation to set up\n",
    "[ELCIC with P3M](https://espressomd.github.io/doc/electrostatics.html#electrostatic-layer-correction-elc)\n",
    "under the [electrostatics](https://espressomd.github.io/doc/electrostatics.html)\n",
    "section. \n",
    "\n",
    "As later we will study different potential drops between the electrodes, write a\n",
    "function that sets up the electrostatic solver for a given value\n",
    "`POTENTIAL_DIFF.`\n",
    "This function will take care of tuning the P3M and ELC parameters.\n",
    "For our purposes, an accuracy of $10^{-3}$ is sufficient.\n",
    "\n",
    "**Task**\n",
    "\n",
    "* Write a function `setup_electrostatic_solver(potential_diff)` that\n",
    "returns the ELC instance."
   ]
  },
  {
   "cell_type": "code",
   "execution_count": null,
   "id": "2e566993",
   "metadata": {},
   "outputs": [],
   "source": [
    "# SOLUTION CELL\n",
    "\n",
    "def setup_electrostatic_solver(potential_diff):\n",
    "    delta_mid_top = -1.  # (Fully metallic case both -1)                 \n",
    "    delta_mid_bot = -1.\n",
    "    p3m_accuracy = 1e-3\n",
    "    elc_accuracy = 1e-3\n",
    "    p3m = espressomd.electrostatics.P3M(prefactor=BJERRUM_LENGTH,\n",
    "                                        accuracy=p3m_accuracy,\n",
    "                                        mesh=[12, 12, 48], # pinned for tuning reproducibility\n",
    "                                        cao=4, # pinned for tuning reproducibility\n",
    "                                        tune=True,\n",
    "                                        verbose=False)\n",
    "    elc = espressomd.electrostatics.ELC(actor=p3m,\n",
    "                                        gap_size=ELC_GAP,\n",
    "                                        const_pot=True,\n",
    "                                        pot_diff=potential_diff,\n",
    "                                        maxPWerror=elc_accuracy,\n",
    "                                        delta_mid_bot=delta_mid_bot,\n",
    "                                        delta_mid_top=delta_mid_top)\n",
    "    return elc"
   ]
  },
  {
   "cell_type": "markdown",
   "id": "5fed3232",
   "metadata": {},
   "source": [
    "## 2. Equilibration\n",
    "\n",
    "### 2.1 Steepest descent\n",
    "\n",
    "Before we can start the simulation, we need to remove the overlap between particles.\n",
    "For this, we use the steepest descent integrator."
   ]
  },
  {
   "cell_type": "code",
   "execution_count": null,
   "id": "7da4b3f6",
   "metadata": {},
   "outputs": [],
   "source": [
    "# Set up steepest descent integration\n",
    "system.integrator.set_steepest_descent(f_max=0., gamma=30., max_displacement=0.01)\n",
    "system.integrator.run(100)\n",
    "particle_forces = np.linalg.norm(system.part.all().f, axis=1)\n",
    "assert np.max(particle_forces) < 1."
   ]
  },
  {
   "cell_type": "markdown",
   "id": "abbfc272",
   "metadata": {},
   "source": [
    "### 2.2 Warmup\n",
    "\n",
    "We now switch to a Velocity Verlet integrator and set up a Langevin thermostat.\n",
    "Note, that we only analyze static properties, thus the damping and temperature chosen\n",
    "here only determine the simulation time towards the equilibrium distribution."
   ]
  },
  {
   "cell_type": "code",
   "execution_count": null,
   "id": "38137a83",
   "metadata": {},
   "outputs": [],
   "source": [
    "# Equilibration parameters\n",
    "system.time_step = 0.003 # this time step limits particle movement to ~5% sigma per integration step\n",
    "system.integrator.set_vv()\n",
    "system.thermostat.set_langevin(kT=1., gamma=2., seed=42)\n",
    "system.electrostatics.solver = setup_electrostatic_solver(POTENTIAL_DIFF)\n",
    "\n",
    "times = []\n",
    "e_kin = []\n",
    "for i in tqdm.trange(100):\n",
    "    energy = system.analysis.energy()\n",
    "    e_kin.append(energy['kinetic'])\n",
    "    times.append(system.time)\n",
    "    system.integrator.run(10)"
   ]
  },
  {
   "cell_type": "code",
   "execution_count": null,
   "id": "970825d8-6087-4b38-a39e-f67e718cbd6e",
   "metadata": {},
   "outputs": [],
   "source": [
    "# Plot the convergence of the total energy\n",
    "plt.figure(figsize=(10, 6))\n",
    "plt.plot(times, len(e_kin) * [N_IONPAIRS * 2 * 3. / 2.], label='heat bath')\n",
    "plt.plot(times, e_kin, label='kinetic energy')\n",
    "plt.xlabel('Simulation time')\n",
    "plt.ylabel('Energy')\n",
    "plt.legend()\n",
    "plt.show()"
   ]
  },
  {
   "cell_type": "markdown",
   "id": "1f1f7892",
   "metadata": {},
   "source": [
    "Convergence after $t \\sim 5$ time units."
   ]
  },
  {
   "cell_type": "markdown",
   "id": "9a22f6b5-33f9-4723-8e1c-41717cf6bb03",
   "metadata": {},
   "source": [
    "### 2.3 Equilibrate the ion distribution\n",
    "\n",
    "Now we let ions diffuse to the electrodes."
   ]
  },
  {
   "cell_type": "code",
   "execution_count": null,
   "id": "e35f031d-4188-4d70-8852-7ff3ce571904",
   "metadata": {},
   "outputs": [],
   "source": [
    "N_SAMPLES_EQUIL = 20\n",
    "STEPS_PER_EQUIL = 200\n",
    "\n",
    "system.thermostat.set_langevin(kT=1.0, gamma=0.1, seed=42)\n",
    "for tm in tqdm.trange(N_SAMPLES_EQUIL):\n",
    "    system.integrator.run(STEPS_PER_EQUIL)"
   ]
  },
  {
   "cell_type": "markdown",
   "id": "60271c57",
   "metadata": {},
   "source": [
    "## 3. Calculate and analyze ion profile\n",
    "\n",
    "### 3.1 Set up the density accumulators\n",
    "\n",
    "We now need to set up an \n",
    "[espressomd.observables.DensityProfile](https://espressomd.github.io/doc/espressomd.html#espressomd.observables.DensityProfile)\n",
    "observable to calculate the anion and cation density profiles.\n",
    "\n",
    "The time average is obtained through a\n",
    "[espressomd.accumulators.MeanVarianceCalculator](espressomd.accumulators.MeanVarianceCalculator).\n",
    "\n",
    "**Task**\n",
    "\n",
    "* Write a function `setup_densityprofile_accumulators(bin_width)` that returns the\n",
    "`bin_centers` and the accumulators for both ion species in the $z$-range $[0,d]$.\n",
    "Since we are not estimating errors in this tutorial, the choice of `delta_N` is\n",
    "rather arbitrary and does not affect the results. In practice, a typical value is\n",
    "`delta_N=20`."
   ]
  },
  {
   "cell_type": "code",
   "execution_count": null,
   "id": "22a22497",
   "metadata": {},
   "outputs": [],
   "source": [
    "# SOLUTION CELL\n",
    "def setup_densityprofile_accumulators(bin_width):\n",
    "    cations = system.part.select(type=types[\"Cation\"]) \n",
    "    anions = system.part.select(type=types[\"Anion\"])\n",
    "    n_z_bins = int(np.round((system.box_l[2] - ELC_GAP) / bin_width))\n",
    "    density_profile_cation = espressomd.observables.DensityProfile(\n",
    "        ids=cations.id, n_x_bins=1, n_y_bins=1, n_z_bins=n_z_bins, min_x=0, min_y=0, min_z=0,\n",
    "        max_x=system.box_l[0], max_y=system.box_l[1], max_z=system.box_l[2] - ELC_GAP)\n",
    "    density_accumulator_cation = espressomd.accumulators.MeanVarianceCalculator(\n",
    "        obs=density_profile_cation, delta_N=20)\n",
    "    density_profile_anion = espressomd.observables.DensityProfile(\n",
    "        ids=anions.id, n_x_bins=1, n_y_bins=1, n_z_bins=n_z_bins, min_x=0, min_y=0, min_z=0,\n",
    "        max_x=system.box_l[0], max_y=system.box_l[1], max_z=system.box_l[2] - ELC_GAP)\n",
    "    density_accumulator_anion = espressomd.accumulators.MeanVarianceCalculator(\n",
    "        obs=density_profile_anion, delta_N=20)\n",
    "    zs = density_profile_anion.bin_centers()[0, 0, :, 2]\n",
    "    return zs, density_accumulator_cation, density_accumulator_anion"
   ]
  },
  {
   "cell_type": "code",
   "execution_count": null,
   "id": "b9a7d815",
   "metadata": {},
   "outputs": [],
   "source": []
  },
  {
   "cell_type": "code",
   "execution_count": null,
   "id": "e9843a03",
   "metadata": {},
   "outputs": [],
   "source": [
    "zs, density_accumulator_cation, density_accumulator_anion = setup_densityprofile_accumulators(\n",
    "    bin_width=DEBYE_LENGTH / 10.)"
   ]
  },
  {
   "cell_type": "markdown",
   "id": "6db1f679",
   "metadata": {},
   "source": [
    "### 3.2 Run the simulation\n",
    "\n",
    "Now we take some measurement sampling the density profiles."
   ]
  },
  {
   "cell_type": "code",
   "execution_count": null,
   "id": "c218d24f",
   "metadata": {},
   "outputs": [],
   "source": [
    "N_SAMPLES_PROD = 20\n",
    "STEPS_PER_SAMPLE = 200\n",
    "\n",
    "# Add the accumulators\n",
    "system.auto_update_accumulators.add(density_accumulator_cation)\n",
    "system.auto_update_accumulators.add(density_accumulator_anion)\n",
    "\n",
    "for tm in tqdm.trange(N_SAMPLES_PROD):\n",
    "    system.integrator.run(STEPS_PER_SAMPLE)\n",
    "\n",
    "cation_profile_mean = density_accumulator_cation.mean()[0, 0, :]\n",
    "anion_profile_mean = density_accumulator_anion.mean()[0, 0, :]"
   ]
  },
  {
   "cell_type": "markdown",
   "id": "b20e4939",
   "metadata": {},
   "source": [
    "### Compare to analytical prediction\n",
    "\n",
    "Since we assume additivity, the total ion density follows from\n",
    "$$ \\rho (z) = \\rho_+(z) - \\rho_+ (d-z) + \\rho_-(z) - \\rho_-(d-z) .$$"
   ]
  },
  {
   "cell_type": "code",
   "execution_count": null,
   "id": "ad677e07",
   "metadata": {},
   "outputs": [],
   "source": [
    "def gouy_chapman_potential(x, debye_length, phi_0):\n",
    "    kappa = 1. / debye_length\n",
    "    return 2. * np.log((1. + np.tanh(1. / 4. * phi_0 * np.exp(-kappa * x))) \\\n",
    "                     / (1. - np.tanh(1. / 4. * phi_0 * np.exp(-kappa * x))))\n",
    "\n",
    "def gouy_chapman_density(x, c0, debye_length, phi_0):\n",
    "    phi = gouy_chapman_potential(x, debye_length, phi_0)\n",
    "    return c0 / 2. * np.exp(-phi)"
   ]
  },
  {
   "cell_type": "code",
   "execution_count": null,
   "id": "343d4b27",
   "metadata": {},
   "outputs": [],
   "source": [
    "fig, (ax1, ax2, ax3) = plt.subplots(figsize=(16, 4), nrows=1, ncols=3, sharey=True)\n",
    "fig.subplots_adjust(wspace=0)\n",
    "\n",
    "x = np.linspace(LJ_SIGMA, box_l_z-LJ_SIGMA, 100)\n",
    "anion_profile_analytic = (gouy_chapman_density(x, CONCENTRATION, DEBYE_LENGTH,-POTENTIAL_DIFF/2.) \\\n",
    "    + gouy_chapman_density(box_l_z-LJ_SIGMA-x, CONCENTRATION, DEBYE_LENGTH,POTENTIAL_DIFF/2.))/2.\n",
    "cation_profile_analytic = (gouy_chapman_density(x, CONCENTRATION, DEBYE_LENGTH,POTENTIAL_DIFF/2.) \\\n",
    "    + gouy_chapman_density(box_l_z-LJ_SIGMA-x, CONCENTRATION, DEBYE_LENGTH,-POTENTIAL_DIFF/2.))/2.\n",
    "\n",
    "ax1.set_title('Cation')\n",
    "ax2.set_title('Anion')\n",
    "ax3.set_title('Total')\n",
    "\n",
    "ax1.plot(x, cation_profile_analytic, label='analytic')\n",
    "ax2.plot(x, anion_profile_analytic, label='analytic')\n",
    "ax3.plot(x, cation_profile_analytic + anion_profile_analytic, label='analytic')\n",
    "\n",
    "ax1.plot(zs[1:-1], cation_profile_mean[1:-1], 'o', mfc='none', label='simulation')\n",
    "ax2.plot(zs[1:-1], anion_profile_mean[1:-1], 'o', mfc='none', label='simulation')\n",
    "ax3.plot(zs[1:-1], cation_profile_mean[1:-1] + anion_profile_mean[1:-1], 'o', mfc='none', label='simulation')\n",
    "\n",
    "ax1.legend(loc='upper center')\n",
    "ax2.legend(loc='upper center')\n",
    "ax3.legend(loc='upper center')\n",
    "\n",
    "ax2.set_xlabel(r'$z\\,\\mathrm{[nm]}$')\n",
    "ax1.set_ylabel(r'$\\rho(z)\\,\\mathrm{[mol/l]}$')\n",
    "plt.show()"
   ]
  },
  {
   "cell_type": "markdown",
   "id": "8c870e94",
   "metadata": {},
   "source": [
    "We see good agreement between our simulation and the meanfield solution of Guy and Chapman. Low density and reasonably low potential make the assumptions of the analytical approach justified."
   ]
  },
  {
   "cell_type": "markdown",
   "id": "78ee5747",
   "metadata": {},
   "source": [
    "We now check how well the surface charge agrees with Grahame's equation.\n",
    "To this end we calculate \n",
    "$$\\sigma = \\int_0^{d/2} \\rho(z) \\,\\mathrm{d}z .$$"
   ]
  },
  {
   "cell_type": "code",
   "execution_count": null,
   "id": "8e65a805",
   "metadata": {},
   "outputs": [],
   "source": [
    "sigma_left = np.sum((cation_profile_mean-anion_profile_mean)[:len(zs)//2]) * (zs[1] - zs[0])\n",
    "sigma_right = np.sum((cation_profile_mean-anion_profile_mean)[len(zs)//2:]) * (zs[1] - zs[0])\n",
    "\n",
    "def grahame_sigma(phi):\n",
    "    return np.sinh(phi / 4.) * np.sqrt(2. * rho / (np.pi * BJERRUM_LENGTH))\n",
    "\n",
    "sigma_grahame = grahame_sigma(POTENTIAL_DIFF)\n",
    "print(f'simulation: {sigma_right:.3f} e/nm^2')\n",
    "print(f'grahame:    {sigma_grahame:.3f} e/nm^2')\n",
    "print(f'relative deviation: {abs(1. - sigma_right/sigma_grahame) * 100.:.0f}%')"
   ]
  },
  {
   "cell_type": "markdown",
   "id": "d0de3b90",
   "metadata": {},
   "source": [
    "The electric field is readily obtained from the integral \n",
    "$$E(z) = \\int_0^{z} \\frac{1}{\\varepsilon_0 \\varepsilon_r} \\rho(z^\\prime) \\,\\mathrm{d}z^\\prime .$$"
   ]
  },
  {
   "cell_type": "code",
   "execution_count": null,
   "id": "8a6bd126",
   "metadata": {},
   "outputs": [],
   "source": [
    "# plot the electric field\n",
    "fig, ax = plt.subplots(figsize=(10, 6))\n",
    "\n",
    "dz_SI = (zs[1] - zs[0]) * constants.nano\n",
    "chargedensity = (cation_profile_mean - anion_profile_mean) * constants.elementary_charge / constants.nano**3 \n",
    "E_SI = 1. / (EPSILON_R * constants.epsilon_0) * np.cumsum(chargedensity * dz_SI)\n",
    "# integration constant: zero field in the center\n",
    "E_SI -= E_SI.min()\n",
    "E = E_SI / (constants.elementary_charge / (constants.Boltzmann * TEMPERATURE) / constants.nano)\n",
    "ax2 = plt.twinx()\n",
    "\n",
    "ax.plot(zs, E_SI)\n",
    "ax2.plot(zs, E)\n",
    "ax.set_xlabel(r'$z\\,\\mathrm{[nm]}$')\n",
    "ax.set_ylabel(r'$E_\\mathrm{ind}\\,\\mathrm{[V/m]}$')\n",
    "ax2.set_ylabel(r'$E_\\mathrm{ind}\\,\\mathrm{[(k_\\mathrm{B}T/e)/nm]}$')\n",
    "plt.show()"
   ]
  },
  {
   "cell_type": "markdown",
   "id": "365290da",
   "metadata": {},
   "source": [
    "We see that the electric field reduces to 0 in the middle of the channel, justifying the assumption that the two electrodes are far enough apart to not influence each other."
   ]
  },
  {
   "cell_type": "markdown",
   "id": "5f11c2b0",
   "metadata": {},
   "source": [
    "The electric potential can be calculated from $\\phi(z) = \\int_0^z -E(z^\\prime)\\,\\mathrm{d}z^\\prime$."
   ]
  },
  {
   "cell_type": "code",
   "execution_count": null,
   "id": "bf3506c3",
   "metadata": {},
   "outputs": [],
   "source": [
    "# plot the elecrostatic potential\n",
    "fig, ax = plt.subplots(figsize=(10, 6))\n",
    "ax2 = ax.twinx()\n",
    "phi_SI = -np.cumsum(E_SI * dz_SI)\n",
    "phi = phi_SI * (constants.elementary_charge / (constants.Boltzmann * TEMPERATURE))\n",
    "ax.plot(zs, phi_SI)\n",
    "ax.set_xlabel(r'$z\\,\\mathrm{[nm]}$')\n",
    "ax.set_ylabel(r'$\\phi\\,[V]$')\n",
    "ax2.set_ylabel(r'$\\phi\\,[k_\\mathrm{B}T/e]$')\n",
    "ax2.axhline(-5, ls='--', color='k')\n",
    "ax2.axhline(0, ls='--', color='k')\n",
    "ax.set_xlim(0, 10. * DEBYE_LENGTH)\n",
    "plt.show()"
   ]
  },
  {
   "cell_type": "code",
   "execution_count": null,
   "id": "3ff40269",
   "metadata": {},
   "outputs": [],
   "source": [
    "measured_potential_difference = -(phi[-1] - phi[0])\n",
    "print(f'applied voltage:  {POTENTIAL_DIFF:.2f} V')\n",
    "print(f'measured voltage: {measured_potential_difference:.2f} V')\n",
    "print(f'relative deviation: {abs(1. - measured_potential_difference / POTENTIAL_DIFF) * 100:.0f}%')"
   ]
  },
  {
   "cell_type": "markdown",
   "id": "ddc72205",
   "metadata": {},
   "source": [
    "## 4. Differential capacitance\n",
    "\n",
    "With the above knowledge, we can now assess the \n",
    "differential capacitance of the system, by changing the applied voltage\n",
    "difference and determining the corresponding surface charge density."
   ]
  },
  {
   "cell_type": "code",
   "execution_count": null,
   "id": "ae22f800",
   "metadata": {},
   "outputs": [],
   "source": [
    "sigma_vs_phi = []\n",
    "MIN_PHI = 0.5\n",
    "MAX_PHI = 10\n",
    "N_PHI = 7\n",
    "N_SAMPLES_EQUIL_CAP = 15\n",
    "N_SAMPLES_CAP = 5\n",
    "\n",
    "# sample from high to low potential to improve sampling\n",
    "for potential_diff in tqdm.tqdm(np.linspace(MIN_PHI, MAX_PHI, N_PHI)[::-1]):\n",
    "    system.auto_update_accumulators.clear()\n",
    "    system.electrostatics.solver = setup_electrostatic_solver(potential_diff)\n",
    "    system.integrator.run(N_SAMPLES_EQUIL_CAP * STEPS_PER_SAMPLE)\n",
    "    sigmas = []\n",
    "\n",
    "    for tm in range(N_SAMPLES_CAP):\n",
    "        zs, density_accumulator_cation, density_accumulator_anion = \\\n",
    "            setup_densityprofile_accumulators(bin_width=DEBYE_LENGTH / 10.)\n",
    "\n",
    "        system.auto_update_accumulators.clear()\n",
    "        system.auto_update_accumulators.add(density_accumulator_cation)\n",
    "        system.auto_update_accumulators.add(density_accumulator_anion)\n",
    "        system.integrator.run(STEPS_PER_SAMPLE)\n",
    "\n",
    "        cation_profile_mean = density_accumulator_cation.mean()[0, 0, :]\n",
    "        anion_profile_mean = density_accumulator_anion.mean()[0, 0, :]\n",
    "\n",
    "        sigmas.append(np.sum((cation_profile_mean - anion_profile_mean)[:int(len(zs) / 2.)]) * (zs[1] - zs[0]))\n",
    "\n",
    "    sigma_vs_phi.append([potential_diff, np.mean(sigmas), scipy.stats.sem(sigmas)]) "
   ]
  },
  {
   "cell_type": "code",
   "execution_count": null,
   "id": "82b62e62",
   "metadata": {},
   "outputs": [],
   "source": [
    "fig, ax = plt.subplots(figsize=(10, 6))\n",
    "sigma_vs_phi = np.array(sigma_vs_phi)\n",
    "x = np.linspace(0, sigma_vs_phi[:,0].max())\n",
    "phi_SI = sigma_vs_phi[:,0] / (constants.elementary_charge / (constants.Boltzmann * TEMPERATURE))\n",
    "plt.errorbar(-sigma_vs_phi[:,1] * constants.elementary_charge / constants.nano**2,\n",
    "             phi_SI, xerr=sigma_vs_phi[:,2] * scipy.constants.elementary_charge / scipy.constants.nano**2,\n",
    "             fmt='o',label='Simulation')\n",
    "plt.plot(grahame_sigma(x) * constants.elementary_charge / constants.nano**2,\n",
    "         x / (constants.elementary_charge / (constants.Boltzmann * TEMPERATURE)), label='Grahame')\n",
    "x = np.linspace(0, ax.get_ylim()[1])\n",
    "plt.plot(EPSILON_R * constants.epsilon_0 * x / 2. / (DEBYE_LENGTH * constants.nano), x, label='linear PB',\n",
    "         ls='--')\n",
    "plt.xlabel(r'$\\sigma\\,\\mathrm{[C/m^2]}$')\n",
    "plt.ylabel(r'$\\phi_\\mathrm{s}\\,\\mathrm{[V]}$')\n",
    "plt.legend()\n",
    "plt.show()"
   ]
  },
  {
   "cell_type": "markdown",
   "id": "85c325bc",
   "metadata": {},
   "source": [
    "For small potential drops, one observes the expected Poisson–Boltzmann behavior. It also agrees with the linearized solution $\\sigma(\\phi_\\mathrm{s}) = \\varepsilon_r\\varepsilon_0 \\frac{\\phi_\\mathrm{s}}{2 \\lambda_\\mathrm{D}}$.\n",
    "However, we observe already for potentials $\\sim 0.1\\,\\mathrm{V} = 4\\,k_\\mathrm{B}T / e$ a significant deviation which can be attributed to the fact that our ions are of finite size and thus the surface charge saturates."
   ]
  },
  {
   "cell_type": "markdown",
   "id": "2e97a52a",
   "metadata": {},
   "source": [
    "## References\n",
    "\n",
    "<a id='[1]'></a>[1] Conway, B. E. Electrochemical Supercapacitors; Springer US: Boston, MA, 1999. https://doi.org/10.1007/978-1-4757-3058-6.\n",
    "\n",
    "<a id='[2]'></a>[2] Tyagi, S.; Arnold, A.; Holm, C. Electrostatic Layer Correction with Image Charges: A Linear Scaling Method to Treat Slab 2D+h Systems with Dielectric Interfaces. J. Chem. Phys. 2008, 129 (20), 204102. https://doi.org/10.1063/1.3021064.\n",
    "\n",
    "<a id='[3]'></a>[3] Gouy, G. Constitution of the Electric Charge at the Surface of an Electrolyte. J. Phys. 1910, 9 (4), 457–467.\n",
    "\n",
    "<a id='[4]'></a>[4] Chapman, D. L. A Contribution to the Theory of Electrocapillarity. The London, Edinburgh, and Dublin Philosophical Magazine and Journal of Science 1913, 25 (148), 475. https://doi.org/10.1080/14786440408634187.\n",
    "\n",
    "<a id='[5]'></a>[5] Grahame, D. C. The Electrical Double Layer and the Theory of Electrocapillarity. Chem. Rev. 1947, 41 (3), 441–501. https://doi.org/10.1021/cr60130a002.\n",
    "\n",
    "<a id='[6]'></a>[6] Tyagi, S.; Süzen, M.; Sega, M.; Barbosa, M.; Kantorovich, S. S.; Holm, C. An Iterative, Fast, Linear-Scaling Method for Computing Induced Charges on Arbitrary Dielectric Boundaries. J. Chem. Phys. 2010, 132 (15), 154112. https://doi.org/10.1063/1.3376011."
   ]
  }
 ],
 "metadata": {
  "kernelspec": {
   "display_name": "Python 3",
   "language": "python",
   "name": "python3"
  },
  "language_info": {
   "codemirror_mode": {
    "name": "ipython",
    "version": 3
   },
   "file_extension": ".py",
   "mimetype": "text/x-python",
   "name": "python",
   "nbconvert_exporter": "python",
   "pygments_lexer": "ipython3",
   "version": "3.10.12"
  }
 },
 "nbformat": 4,
 "nbformat_minor": 5
}
