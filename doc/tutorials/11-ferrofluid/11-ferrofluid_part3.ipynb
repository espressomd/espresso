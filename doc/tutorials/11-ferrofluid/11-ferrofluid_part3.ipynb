{
 "cells": [
  {
   "cell_type": "markdown",
   "metadata": {},
   "source": [
    "# Ferrofluid - Part III "
   ]
  },
  {
   "cell_type": "markdown",
   "metadata": {},
   "source": [
    "## Table of Contents\n",
    "1. [Susceptibility with fluctuation formulas](#Susceptibility-with-fluctuation-formulas)\n",
    "    1. [Derivation of the fluctuation formular](#Derivation-of-the-fluctuation-formular)\n",
    "    2. [Simulation](#Simulation)\n",
    "2. [Magnetization curve of a 3D system](#Magnetization-curve-of-a-3D-system)"
   ]
  },
  {
   "cell_type": "markdown",
   "metadata": {},
   "source": [
    "**Remark**: The equilibration and sampling times used in this tutorial would be not sufficient for scientific  purposes, but they are long enough to get at least a qualitative insight of the behaviour of ferrofluids. They have been shortened so we achieve reasonable computation times for the purpose of a tutorial."
   ]
  },
  {
   "cell_type": "markdown",
   "metadata": {},
   "source": [
    "## Susceptibility with fluctuation formulas"
   ]
  },
  {
   "cell_type": "markdown",
   "metadata": {},
   "source": [
    "In this part we want to calculate estimators for the initial susceptibility, i.e. the susceptibility at zero external magnetic field. One could carry out several simulations with different external magnetic field strenghts and get the initial susceptibility by fitting a line to the results. We want to go a more elegant way by using fluctuation formulas known from statistical mechanics.\n",
    "In three dimensions the initial susceptibility $\\chi_{init}$ can be calculated with zero field simulations through\n",
    "\n",
    "\\begin{equation}\n",
    "    \\chi_{init} = \\frac{V \\cdot \\mu_0}{3 \\cdot k_B T} \\left( \\langle \\boldsymbol{M}^2 \\rangle - \\langle \\boldsymbol{M} \\rangle^2 \\right) = \\frac{\\mu_0}{3 \\cdot k_B T \\cdot V} \\left( \\langle \\boldsymbol{\\mu}^2 \\rangle - \\langle \\boldsymbol{\\mu} \\rangle^2 \\right)\n",
    "\\end{equation}\n",
    "\n",
    "where $\\boldsymbol{M}$ is the magnetization vector and $\\boldsymbol{\\mu}$ is the total magnetic dipole moment of the system. In direction $i$ it reads\n",
    "\n",
    "\\begin{equation}\n",
    "    M_i = \\frac{1}{V} \\Bigg\\langle \\sum_{j=1}^N \\tilde{\\mu}_j^i \\Bigg\\rangle\n",
    "\\end{equation}\n",
    "\n",
    "where $\\tilde{\\mu}_j^i$ is the $j$ th dipole moment in direction $i$."
   ]
  },
  {
   "cell_type": "markdown",
   "metadata": {},
   "source": [
    "### Derivation of the fluctuation formular"
   ]
  },
  {
   "cell_type": "markdown",
   "metadata": {},
   "source": [
    "We want to derive the fluctuation formula. We start with the definition of the magnetic susceptibility. In general this reads\n",
    "\n",
    "\\begin{equation}\n",
    "    \\chi \\equiv \\frac{\\partial}{\\partial H} \\langle M_{\\boldsymbol{H}} \\rangle\n",
    "\\end{equation}\n",
    "\n",
    "with $\\langle M_{\\boldsymbol{H}} \\rangle$ the ensemble averaged magnetization in direction of a homogeneous external magnetic field $\\boldsymbol{H}$.\n",
    "\n",
    "In thermal equilibrium the ensemble average of the magnetization reads\n",
    "\n",
    "\\begin{equation}\n",
    "    \\langle M_{\\boldsymbol{H}} \\rangle = \\frac{1}{V Z_c} \\left \\lbrack \\sum_{\\alpha} \\mu_{\\boldsymbol{H},\\alpha} e^{ -\\beta E_{\\alpha}(H=0) + \\beta\\mu_0\\mu_{\\boldsymbol{H},\\alpha}H }\\right \\rbrack\n",
    "\\end{equation}\n",
    "\n",
    "with $Z_c$ the canonical partition function, $E_{\\alpha}(H=0)$ the energy without an external magnetic field $\\boldsymbol{H}$, $\\beta$ the inverse thermal energy $\\frac{1}{k_BT}$, $\\mu_{\\boldsymbol{H},\\alpha}$ the total magnetic dipole moment of the system in direction of the external magnetic field $\\boldsymbol{H}$ in microstate $\\alpha$ and $V$ the system volume.\n",
    "\n",
    "Now we insert the magnetization $\\langle M_{\\boldsymbol{H}} \\rangle$ in the definition of the magnetic susceptibility $\\chi$ and let the derivative operate on the ensemble average. We get the fluctuation formular\n",
    "\n",
    "\\begin{equation}\n",
    "    \\chi = \\frac{\\beta\\mu_0}{V} \\left \\lbrack \\frac{1}{Z_c}\\sum_{\\alpha} \\mu_{\\alpha}^2~ e^{ -\\beta E_{\\alpha}(H=0) + \\beta\\mu_0\\mu_{\\boldsymbol{H},\\alpha}H } - \\frac{1}{Z_c}\\sum_{\\alpha} \\mu_{\\alpha}~ e^{ -\\beta E_{\\alpha}(H=0) + \\beta\\mu_0\\mu_{\\boldsymbol{H},\\alpha}H }~~ \\frac{1}{Z_c}\\sum_{\\alpha'}\\mu_{\\alpha'}~ e^{ -\\beta E_{\\alpha'}(H=0) + \\beta\\mu_0\\mu_{\\boldsymbol{H},\\alpha}H }\\right \\rbrack = \\frac{\\beta\\mu_0}{V} \\left \\lbrack \\langle \\mu_{\\boldsymbol{H}}^2 \\rangle - \\langle \\mu_{\\boldsymbol{H}} \\rangle^2 \\right \\rbrack = \\frac{\\beta\\mu_0}{V} \\left(\\Delta \\mu_{\\boldsymbol{H}}\\right)^2\n",
    "\\end{equation}\n",
    "\n",
    "At zero external magentic field ($H = 0$) there is no distinct direction for the system, so we can take the fluctuations $\\Delta \\mu$ in all directions and divide it by the dimension. Thus we can use more data points of our simulation for the average and get a more precise estimator for the susceptibility. Thus finally the fluctuation formula for the initial susceptibility in three dimensions reads\n",
    "\n",
    "\\begin{equation}\n",
    "    \\chi_{init} = \\frac{\\beta\\mu_0}{3V} \\left \\lbrack \\langle \\boldsymbol{\\mu}^2 \\rangle - \\langle \\boldsymbol{\\mu} \\rangle^2 \\right \\rbrack = \\frac{V\\beta\\mu_0}{3} \\left \\lbrack \\langle \\boldsymbol{M}^2 \\rangle - \\langle \\boldsymbol{M} \\rangle^2 \\right \\rbrack\n",
    "\\end{equation}\n",
    "\n",
    "where $\\boldsymbol{\\mu}$ and $\\boldsymbol{M}$ are defined above."
   ]
  },
  {
   "cell_type": "markdown",
   "metadata": {},
   "source": [
    "### Simulation"
   ]
  },
  {
   "cell_type": "markdown",
   "metadata": {},
   "source": [
    "In this part we want to consider a three dimensional ferrofluid system and compare our result for the initial susceptibility $\\chi_{init}$ with them of Ref. <a href='#[1]'>[1]</a>."
   ]
  },
  {
   "cell_type": "markdown",
   "metadata": {},
   "source": [
    "First we import all necessary packages and check for the required Espresso features"
   ]
  },
  {
   "cell_type": "code",
   "execution_count": null,
   "metadata": {},
   "outputs": [],
   "source": [
    "from __future__ import print_function\n",
    "\n",
    "import espressomd\n",
    "espressomd.assert_features('DIPOLES', 'LENNARD_JONES')\n",
    "\n",
    "from espressomd.magnetostatics import DipolarP3M\n",
    "import numpy as np"
   ]
  },
  {
   "cell_type": "markdown",
   "metadata": {},
   "source": [
    "Now we setting up all necessary simulation parameters"
   ]
  },
  {
   "cell_type": "code",
   "execution_count": null,
   "metadata": {},
   "outputs": [],
   "source": [
    "lj_sigma=1\n",
    "lj_epsilon=1\n",
    "lj_cut = 2**(1./6.) * lj_sigma\n",
    "\n",
    "# magnetic field constant\n",
    "mu_0 = 1.\n",
    "\n",
    "# Particles\n",
    "N = 1000\n",
    "\n",
    "# Volume fraction\n",
    "# phi = rho * 4. / 3. * np.pi * ( lj_sigma / 2 )**3.\n",
    "phi = 0.0262\n",
    "\n",
    "# Dipolar interaction parameter lambda = mu_0 m^2 /(4 pi sigma^3 kT)\n",
    "dip_lambda = 3.\n",
    "\n",
    "# Temperature\n",
    "kT =1.0\n",
    "\n",
    "# Friction coefficient\n",
    "gamma=1.0\n",
    "\n",
    "# Time step\n",
    "dt =0.02\n",
    "\n",
    "# box size 3d\n",
    "box_size = (N * np.pi * 4./3. * (lj_sigma / 2.)**3. / phi)**(1./3.)"
   ]
  },
  {
   "cell_type": "markdown",
   "metadata": {},
   "source": [
    "and the system, where we, as we did in **part I**, only commit the orientation of the dipole moment to the particles and take the magnitude into account in the prefactor of Dipolar P3M (for more details see **part I**). "
   ]
  },
  {
   "cell_type": "markdown",
   "metadata": {},
   "source": [
    "**Hint:**\n",
    "It should be noted that we seed both the Langevin thermostat and the random number generator of numpy. Latter means that the initial configuration of our system is the same every time this script is executed. As the time evolution of the system depends not solely on the Langevin thermostat but also on the numeric accuracy and DP3M (the tuned parameters are slightly different every time) it is only partly predefined. You can change the seeds to simulate with a different initial configuration and a guaranteed different time evolution."
   ]
  },
  {
   "cell_type": "code",
   "execution_count": null,
   "metadata": {
    "scrolled": true
   },
   "outputs": [],
   "source": [
    "system = espressomd.System(box_l=(box_size,box_size,box_size)) \n",
    "system.time_step = dt\n",
    "system.thermostat.set_langevin(kT=kT, gamma=gamma, seed=1)\n",
    "\n",
    "# Lennard Jones interaction\n",
    "system.non_bonded_inter[0,0].lennard_jones.set_params(epsilon=lj_epsilon,sigma=lj_sigma,cutoff=lj_cut, shift=\"auto\")\n",
    "\n",
    "# Random dipole moments\n",
    "np.random.seed(seed = 1)\n",
    "dip_phi = np.random.random((N,1)) *2. * np.pi\n",
    "dip_cos_theta = 2*np.random.random((N,1)) -1\n",
    "dip_sin_theta = np.sin(np.arccos(dip_cos_theta))\n",
    "dip = np.hstack((\n",
    "   dip_sin_theta *np.sin(dip_phi),\n",
    "   dip_sin_theta *np.cos(dip_phi),\n",
    "   dip_cos_theta))\n",
    "\n",
    "# Random positions in system volume\n",
    "pos = box_size * np.random.random((N,3))\n",
    "\n",
    "# Add particles\n",
    "system.part.add(pos=pos, rotation=N*[(1,1,1)], dip=dip)\n",
    "\n",
    "# Remove overlap between particles by means of the steepest descent method\n",
    "system.integrator.set_steepest_descent(\n",
    "    f_max=0,gamma=0.1,max_displacement=0.05)\n",
    "\n",
    "while system.analysis.energy()[\"total\"] > 5*kT*N:\n",
    "    system.integrator.run(20)\n",
    "\n",
    "# Switch to velocity Verlet integrator\n",
    "system.integrator.set_vv()\n",
    "\n",
    "# tune verlet list skin\n",
    "system.cell_system.skin = 0.8\n",
    "\n",
    "# Setup dipolar P3M\n",
    "accuracy = 5E-4\n",
    "system.actors.add(DipolarP3M(accuracy=accuracy,prefactor=dip_lambda*lj_sigma**3*kT))\n"
   ]
  },
  {
   "cell_type": "markdown",
   "metadata": {},
   "source": [
    "Now we equilibrate for a while"
   ]
  },
  {
   "cell_type": "code",
   "execution_count": null,
   "metadata": {
    "scrolled": true
   },
   "outputs": [],
   "source": [
    "print(\"Equilibration...\")\n",
    "equil_rounds = 10\n",
    "equil_steps = 1000\n",
    "for i in range(equil_rounds):\n",
    "  system.integrator.run(equil_steps)\n",
    "  print(\"Dipolar energy: %.2f\" % system.analysis.energy()[\"dipolar\"])\n",
    "  print(\"progress: {:6.2f} %\".format((float(i)+1)/equil_rounds * 100))\n",
    "print(\"Equilibration done\")"
   ]
  },
  {
   "cell_type": "markdown",
   "metadata": {},
   "source": [
    "As we need the magnetization of our system, we import <tt>MagneticDipoleMoment</tt> from <tt>observables</tt> which returns us the total dipole moment of the system which is the magnetization times the volume of the system."
   ]
  },
  {
   "cell_type": "code",
   "execution_count": null,
   "metadata": {},
   "outputs": [],
   "source": [
    "from espressomd.observables import MagneticDipoleMoment\n",
    "dipm_tot_calc = MagneticDipoleMoment(ids=system.part[:].id)"
   ]
  },
  {
   "cell_type": "markdown",
   "metadata": {},
   "source": [
    "Now we set the desired number of loops for the sampling"
   ]
  },
  {
   "cell_type": "code",
   "execution_count": null,
   "metadata": {},
   "outputs": [],
   "source": [
    "# Sampling\n",
    "loops = 2000"
   ]
  },
  {
   "cell_type": "markdown",
   "metadata": {},
   "source": [
    "and sample the first and second moment of the magnetization or total dipole moment, by averaging over all total dipole moments occuring during the simulation"
   ]
  },
  {
   "cell_type": "code",
   "execution_count": null,
   "metadata": {
    "scrolled": true
   },
   "outputs": [],
   "source": [
    "print('Sampling ...')\n",
    "# calculate initial total dipole moment\n",
    "dipm_tot_temp = dipm_tot_calc.calculate()\n",
    "\n",
    "# initiate variables for sum of first and second moment of total dipole moment\n",
    "dipm_tot_sum = dipm_tot_temp\n",
    "dipm_tot_2_sum = np.square(dipm_tot_temp)\n",
    "\n",
    "# sample dipole moment\n",
    "for i in range(loops):\n",
    "    system.integrator.run(10)\n",
    "    dipm_tot_temp = dipm_tot_calc.calculate()\n",
    "    \n",
    "    # add current dipole moment\n",
    "    dipm_tot_sum = np.sum((dipm_tot_sum, dipm_tot_temp), axis=0)\n",
    "    dipm_tot_2_sum = np.sum((dipm_tot_2_sum, np.square(dipm_tot_temp)), axis=0)\n",
    "    \n",
    "    # print progress only every 10th cycle\n",
    "    if (i+1)%10 == 0:\n",
    "        print(\"progress: {:6.2f} %\".format((float(i)+1)/loops * 100))\n",
    "    \n",
    "# calculate average first and second moment of total dipole moment\n",
    "dipm_tot = dipm_tot_sum / loops\n",
    "dipm_tot_2 = dipm_tot_2_sum / loops\n",
    "print(\"Sampling done\")"
   ]
  },
  {
   "cell_type": "markdown",
   "metadata": {},
   "source": [
    "For the estimator of the initial susceptibility $\\chi_{init}$ we need the magnitude of one single dipole moment"
   ]
  },
  {
   "cell_type": "code",
   "execution_count": null,
   "metadata": {},
   "outputs": [],
   "source": [
    "# dipole moment\n",
    "dipm = np.sqrt(dip_lambda*4*np.pi*lj_sigma**3.*kT / mu_0)\n",
    "print(\"dipm = {}\".format(dipm))"
   ]
  },
  {
   "cell_type": "markdown",
   "metadata": {},
   "source": [
    "Now we can calculate $\\chi_{init}$ from our simulation data"
   ]
  },
  {
   "cell_type": "code",
   "execution_count": null,
   "metadata": {},
   "outputs": [],
   "source": [
    "# susceptibility in 3d system\n",
    "chi = mu_0 /(system.volume() * 3. * kT) * ( np.sum(dipm_tot_2 * dipm**2.) - np.sum(np.square(dipm_tot * dipm)) )"
   ]
  },
  {
   "cell_type": "markdown",
   "metadata": {},
   "source": [
    "and print the result"
   ]
  },
  {
   "cell_type": "code",
   "execution_count": null,
   "metadata": {},
   "outputs": [],
   "source": [
    "print('chi = %.4f' % chi)"
   ]
  },
  {
   "cell_type": "markdown",
   "metadata": {},
   "source": [
    "Compared with the value $\\chi = 0.822 \\pm 0.017$ of Ref. <a href='#[1]'>[1]</a> (see table 1) it should be very similar."
   ]
  },
  {
   "cell_type": "markdown",
   "metadata": {},
   "source": [
    "Now we want to compare the result with the theoretical expectations.\n",
    "At first with the simple Langevin susceptibility"
   ]
  },
  {
   "cell_type": "code",
   "execution_count": null,
   "metadata": {},
   "outputs": [],
   "source": [
    "chi_L = 8. * dip_lambda * phi\n",
    "print('chi_L = %.4f' % chi_L)"
   ]
  },
  {
   "cell_type": "markdown",
   "metadata": {},
   "source": [
    "and at second with the more advanced one (see Ref. <a href='#[1]'>[1]</a> eq. (6)) which has a cubic accuracy in $\\chi_L$ and reads\n",
    "\n",
    "\\begin{equation}\n",
    "    \\chi = \\chi_L \\left( 1 + \\frac{\\chi_L}{3} + \\frac{\\chi_L^2}{144} \\right)\n",
    "\\end{equation}\n",
    "\n"
   ]
  },
  {
   "cell_type": "code",
   "execution_count": null,
   "metadata": {},
   "outputs": [],
   "source": [
    "chi_I = chi_L * ( 1 + chi_L / 3. + chi_L**2. / 144. )\n",
    "print('chi_I = %.4f' % chi_I)"
   ]
  },
  {
   "cell_type": "markdown",
   "metadata": {},
   "source": [
    "Both of them should be smaller than our result, but the second one should be closer to our one. The deviation of the theoretical results to our simulation result can be explained by the fact that in the Langevin model there are no interactions between the particles incorporated at all and the more advanced (mean-field-type) one of Ref. <a href='#[1]'>[1]</a> do not take occurring cluster formations into account but assumes a homogeneous distribution of the particles. For higher values of the volume fraction $\\phi$ and the dipolar interaction parameter $\\lambda$ the deviations will increase as the cluster formation will become more pronounced. "
   ]
  },
  {
   "cell_type": "markdown",
   "metadata": {},
   "source": [
    "## Magnetization curve of a 3D system"
   ]
  },
  {
   "cell_type": "markdown",
   "metadata": {},
   "source": [
    "At the end of this tutorial we now want to sample the magnetization curve of a three dimensional system and compare the results with analytical solutions. Again we will compare with the Langevin function but also with the approximation of Ref. <a href='#[2]'>[2]</a> (see also Ref. <a href='#[1]'>[1]</a> for the right coefficients) which takes the dipole-dipole interaction into account. For this approximation, which is a modified mean-field theory based on the pair correlation function, the Langevin parameter $\\alpha$ is replaced by\n",
    "\n",
    "\\begin{equation}\n",
    "    \\alpha' = \\alpha + \\chi_L~L(\\alpha) + \\frac{\\chi_L^{2}}{16} L(\\alpha) \\frac{d L(\\alpha)}{d\\alpha}\n",
    "\\end{equation}\n",
    "\n",
    "where $\\chi_L$ is the Langevin susceptibility\n",
    "\n",
    "\\begin{equation}\n",
    "   \\chi_L = \\frac{N}{V}\\frac{\\mu_0 \\mu^2}{3k_BT} = 8 \\cdot \\lambda \\cdot \\phi\n",
    "\\end{equation}"
   ]
  },
  {
   "cell_type": "markdown",
   "metadata": {},
   "source": [
    "Analogous to **part II** we start at zero external magnetic field and increase the external field successively. At every value of the external field we sample the total dipole moment which is propotional to the magnetization as we have a fixed volume."
   ]
  },
  {
   "cell_type": "markdown",
   "metadata": {},
   "source": [
    "First we create a list of values of the Langevin parameter $\\alpha$. As we already sampled the magnetization at zero external field in the last section, we take this value and continue with the sampling of an external field unequal zero"
   ]
  },
  {
   "cell_type": "code",
   "execution_count": null,
   "metadata": {},
   "outputs": [],
   "source": [
    "alphas = [0.25, 0.5, 1, 2, 3, 4, 8]"
   ]
  },
  {
   "cell_type": "markdown",
   "metadata": {},
   "source": [
    "Now for each value in this list we sample the total dipole moment / magnetization of the system for a while. Have in mind that we have only commited the orientation of the dipole moments to the particles. Thus we have to commit $H\\cdot \\mu$ as the external magnetic field to **ESPResSo**, where $\\mu$ is the magnitude of a single magnetic dipole moment."
   ]
  },
  {
   "cell_type": "markdown",
   "metadata": {},
   "source": [
    "As in **part II** we use the same system for every value of the Langevin parameter $\\alpha$. Thus we use that the system is already pre-equilibrated from the previous run so we save some equilibration time. For scientific purposes one would use a new system for every value for the Langevin parameter to ensure that the systems are independent and no correlation effects are measured. Also one would perform more than just one simulation for each value of $\\alpha$ to increase the precision of the results."
   ]
  },
  {
   "cell_type": "code",
   "execution_count": null,
   "metadata": {},
   "outputs": [],
   "source": [
    "# remove all constraints\n",
    "system.constraints.clear()\n",
    "\n",
    "# list of magnetization in field direction\n",
    "magnetization = []\n",
    "\n",
    "# append result for alpha=0 from previous chapter\n",
    "magnetization.append(np.average(dipm_tot))\n",
    "\n",
    "# number of loops for sampling\n",
    "loops_m = 500\n",
    "\n",
    "for alpha in alphas:\n",
    "    print(\"Sample for alpha = {}\".format(alpha))\n",
    "    H_dipm = (alpha*kT)\n",
    "    H_field = [H_dipm,0,0]\n",
    "    print(\"Set magnetic field constraint...\")\n",
    "    H_constraint = espressomd.constraints.HomogeneousMagneticField(H=H_field)\n",
    "    system.constraints.add(H_constraint)\n",
    "    print(\"done\")\n",
    "    \n",
    "    # Equilibration\n",
    "    print(\"Equilibration...\")\n",
    "    for i in range(equil_rounds):\n",
    "        system.integrator.run(equil_steps)\n",
    "        print(\"Dipolar energy: %.2f\" % system.analysis.energy()[\"dipolar\"])\n",
    "        print(\"progress: {:6.2f} %\".format((float(i)+1)/10 * 100))\n",
    "    print(\"Equlilibration done \\n\")\n",
    "    \n",
    "    # Sampling\n",
    "    print(\"Sampling...\")\n",
    "    magn_temp = 0\n",
    "    for i in range(loops_m):\n",
    "        system.integrator.run(20)\n",
    "        magn_temp += dipm_tot_calc.calculate()[0]\n",
    "        print(\"progress: {:6.2f} %\".format((float(i)+1)/loops_m * 100))\n",
    "    \n",
    "    # save average magnetization\n",
    "    magnetization.append(magn_temp / loops_m)\n",
    "    print(\"Sampling for alpha = {} done \\n\".format(alpha))\n",
    "    print(\"magnetizations = {}\".format(magnetization))\n",
    "    print(\"total progress: {:6.2f} %\\n\".format((float(alphas.index(alpha))+1)/len(alphas) * 100))\n",
    "    \n",
    "    # remove constraint\n",
    "    system.constraints.clear()\n",
    "print(\"Magnetization curve sampling done\")"
   ]
  },
  {
   "cell_type": "markdown",
   "metadata": {},
   "source": [
    "Now we define the Langevin function and the modified mean-field-approximation of the Langevin parameter of Ref. <a href='#[2]'>[2]</a>"
   ]
  },
  {
   "cell_type": "code",
   "execution_count": null,
   "metadata": {},
   "outputs": [],
   "source": [
    "# Langevin function\n",
    "def L(y):\n",
    "    return np.cosh(y)/np.sinh(y)-1/y"
   ]
  },
  {
   "cell_type": "code",
   "execution_count": null,
   "metadata": {},
   "outputs": [],
   "source": [
    "#  second order mean-field-model from Ref. [2]\n",
    "def alpha_mean_field(alpha, dip_lambda, phi):\n",
    "    chi = 8. * dip_lambda * phi\n",
    "    return alpha + chi * L(alpha) + chi**2. / 16. * L(alpha) * ( 1./(alpha**2.) - 1./((np.sinh(alpha))**2.) )"
   ]
  },
  {
   "cell_type": "markdown",
   "metadata": {},
   "source": [
    "We also want to plot the linear approximation at $\\alpha = 0$ to see for which values of $\\alpha$ this approximation holds. We use the initial susceptibility calculated in the first chapter of this part as the gradient. As we want the gradient of $M^*$ with respect to $\\alpha$ which fullfulls the relation\n",
    "\n",
    "\\begin{equation}\n",
    "    \\frac{\\partial M^*}{\\partial \\alpha} = \\frac{1}{M_{sat}}\\frac{\\partial M}{\\partial \\left( \\frac{\\mu_0\\mu}{k_BT} H\\right)} = \\frac{k_BT~V}{\\mu_0\\mu^2N}\\frac{\\partial M}{\\partial H} = \\frac{k_BT~V}{\\mu_0\\mu^2N}~\\chi\n",
    "\\end{equation}\n",
    "\n",
    "we have to scale our calculated initial susceptibility $\\chi_{init}$ by a factor to get it in our dimensionless units.\n",
    "\n",
    "Now we plot the resulting curves together with our simulation results and the linear approximation"
   ]
  },
  {
   "cell_type": "code",
   "execution_count": null,
   "metadata": {},
   "outputs": [],
   "source": [
    "import matplotlib.pyplot as plt"
   ]
  },
  {
   "cell_type": "code",
   "execution_count": null,
   "metadata": {},
   "outputs": [],
   "source": [
    "y = np.arange(0.01,10, 0.1, dtype=float).tolist()\n",
    "\n",
    "alphas.insert(0, 0.0)\n",
    "\n",
    "\n",
    "L_func = []\n",
    "L_mean_field = []\n",
    "init_susceptibility = []\n",
    "\n",
    "for i in y:\n",
    "    L_func.append(L(i))\n",
    "    L_mean_field.append(L(alpha_mean_field(i, dip_lambda, phi)))\n",
    "    init_susceptibility.append(i*system.volume()*kT/(N*mu_0*dipm**2)*chi)\n",
    "\n",
    "# devide all entries in the magnetization list by N to get the dimensionless magnetization\n",
    "magnetization_star = []\n",
    "for i in range(len(magnetization)):\n",
    "    magnetization_star.append(magnetization[i] / N)\n",
    "\n",
    "print('magnetization_star = {}'.format(magnetization_star))\n",
    "    \n",
    "    \n",
    "plt.figure(figsize=(10,10))\n",
    "plt.ylim(0, 1.)\n",
    "plt.xlabel(r'$\\alpha$', fontsize=20)\n",
    "plt.ylabel(r'$M^*$', fontsize=20)\n",
    "plt.plot(y, L_func, label='Langevin function')\n",
    "plt.plot(y, L_mean_field, label='modified mean-field-theory')\n",
    "plt.plot(alphas, magnetization_star, 'o', label='simulation results')\n",
    "plt.plot(y, init_susceptibility, label=r'linear approximation at $\\alpha = 0$')\n",
    "plt.legend(fontsize=20)\n",
    "plt.show()"
   ]
  },
  {
   "cell_type": "markdown",
   "metadata": {},
   "source": [
    "We can see that the magnetization curve where we used the Langevin parameter of the modified mean-field-theory is closer to our simulation results. Also we can clearly see that the linear approximation holds only for very small values of $\\alpha$.\n",
    "\n",
    "At this point is should be mentioned, that the modified mean-field-model assumes a spatially homogeneous system which is not the case at higher volume fractions $\\phi$ and dipolar interaction parameters $\\lambda$ as the particles form clusters. We can already see this with our simulation results as they visibly deviate from the modified mean-field-model.\n",
    "\n",
    "At sufficiently high volume fractions $\\phi$ and dipolar interaction parameters $\\lambda$ these clusters can be thus rigid, that simulation with normal methods are impossible as the relaxation times exceeds normal simulation times by far resulting in strongly correlated configurations and thus measurements."
   ]
  },
  {
   "cell_type": "markdown",
   "metadata": {},
   "source": [
    "<a id='[1]'></a>[1] Zuowei Wang, Christian Holm, and Hanns Walter Müller. “Molecular dynamics\n",
    "study on the equilibrium magnetization properties and structure of ferrofluids”. In:\n",
    "Phys. Rev. E 66 (2 Aug. 2002), p. 021405. doi: 10.1103/PhysRevE.66.021405.\n",
    "url: https://link.aps.org/doi/10.1103/PhysRevE.66.021405.\n",
    "\n",
    "<a id='[2]'></a>[2] Alexey O. Ivanov and Olga B. Kuznetsova. “Magnetic properties of dense ferrofluids:\n",
    "An influence of interparticle correlations”. In: Phys. Rev. E 64 (4 Sept. 2001),\n",
    "p. 041405. doi: 10.1103/PhysRevE.64.041405. url: https://link.aps.org/doi/10.1103/PhysRevE.64.041405."
   ]
  }
 ],
 "metadata": {
  "kernelspec": {
   "display_name": "Python 2",
   "language": "python",
   "name": "python2"
  },
  "language_info": {
   "codemirror_mode": {
    "name": "ipython",
    "version": 2
   },
   "file_extension": ".py",
   "mimetype": "text/x-python",
   "name": "python",
   "nbconvert_exporter": "python",
   "pygments_lexer": "ipython2",
   "version": "2.7.15rc1"
  }
 },
 "nbformat": 4,
 "nbformat_minor": 1
}
