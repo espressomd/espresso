{
 "cells": [
  {
   "cell_type": "markdown",
   "metadata": {},
   "source": [
    "# Ferrofluid - Part I"
   ]
  },
  {
   "cell_type": "markdown",
   "metadata": {},
   "source": [
    "## Table of Contents\n",
    "1. [Introduction](#Introduction)\n",
    "2. [The Model](#The-Model)\n",
    "3. [Structure of this tutorial](#Structure-of-this-tutorial)\n",
    "4. [Compiling ESPResSo for this Tutorial](#Compiling-ESPResSo-for-this-Tutorial)\n",
    "5. [A Monolayer-Ferrofluid System in ESPResSo](#A-Monolayer-Ferrofluid-System-in-ESPResSo)\n",
    "    1. [Setup](#Setup)\n",
    "    2. [Sampling](#Sampling)\n",
    "    3. [Sampling with animation](#Sampling-with-animation)\n",
    "    4. [Sampling without animation](#Sampling-without-animation)\n",
    "    5. [Cluster distribution](#Cluster-distribution)"
   ]
  },
  {
   "cell_type": "markdown",
   "metadata": {},
   "source": [
    "## Introduction"
   ]
  },
  {
   "cell_type": "markdown",
   "metadata": {},
   "source": [
    "Ferrofluids are colloidal suspensions of ferromagnetic single-domain particles in a liquid carrier. As the single particles contain only one magnetic domain, they can be seen as small permanent magnets. To prevent agglomeration of the particles, due to van-der-Waals or magnetic attraction, they are usually sterically or electrostatically stabilized (see <a href='#fig_1'>fig. 1</a>). Former is achieved by adsorption of long chain molecules onto the particle surface, latter by adsorption of charged coating particles. The size of the ferromagnetic particles are in the region of 10 nm. With the surfactant layer added they can reach a size of a few hundred nanometers. Have in mind that if we refer to the particle diameter $\\sigma$ we mean the diameter of the magnetic core plus two times the thickness of the surfactant layer.\n",
    "\n",
    "Some of the liquid properties, like the viscosity, the phase behavior or the optical birefringence can be altered via an external magnetic field or simply the fluid can be guided by such an\n",
    "field. Thus ferrofluids possess a wide range of biomedical applications like  magnetic drug\n",
    "targeting or magnetic thermoablation and technical applications like fine positioning systems or adaptive bearings and\n",
    "dampers.\n",
    "In <a href='#fig_2'>figure 2</a> the picture of a ferrofluid exposed to the magnetic field of an permanent magnet is shown. The famous energy minimizing thorn-like surface is clearly visible."
   ]
  },
  {
   "cell_type": "markdown",
   "metadata": {},
   "source": [
    "<a id='fig_1'></a><figure>\n",
    "<img src=\"figures/Electro-Steric_Stabilization.jpg\" style=\"float: center; width: 49%\">\n",
    "<center>\n",
    "<figcaption> Figure 1: Schematic representation of electrostatically stabilization (picture top) and steric stabilization (picture bottom) <a href='#[3]'>[3]</a>\n",
    "</figure>"
   ]
  },
  {
   "cell_type": "markdown",
   "metadata": {},
   "source": [
    "<a id='fig_2'></a><figure>\n",
    "<img src='figures/Ferrofluid_Magnet_under_glass_edit.jpg' alt='ferrofluid on glass plate under which a strong magnet is placed' style='width: 600px;'/>\n",
    "<center>\n",
    "<figcaption> Figure 2: Real Ferrofluid exposed to an external magnetic field (neodymium magnet) <a href='#[4]'>[4]</a>\n",
    "</figure>"
   ]
  },
  {
   "cell_type": "markdown",
   "metadata": {},
   "source": [
    "## The Model"
   ]
  },
  {
   "cell_type": "markdown",
   "metadata": {},
   "source": [
    "For simplicity in this tutorial we simulate spherical particles in a monodisperse ferrofluid system which means all particles have the same diameter $\\sigma$ and dipole moment $\\mu$. The point dipole moment is placed at the center of the particles and is constant both in magnitude and direction (in the coordinate system of the particle). This can be justified as the Néel relaxation times are usually negligible for the usual sizes of ferrofluid particles.\n",
    "Thus the magnetic interaction potential between two single particles is the dipole-dipole interaction potential which reads\n",
    "\n",
    "\\begin{equation*}\n",
    "\t\tu_{\\text{DD}}(\\vec{r}_{ij}, \\vec{\\mu}_i, \\vec{\\mu}_j) = \\gamma \\left(\\frac{\\vec{\\mu}_i \\cdot \\vec{\\mu}_j}{r_{ij}^3} - 3\\frac{(\\vec{\\mu}_i \\cdot \\vec{r}_{ij}) \\cdot (\\vec{\\mu}_j \\cdot \\vec{r}_{ij})}{r_{ij}^5}\\right)\n",
    "\\end{equation*}\n",
    "\n",
    "with $\\gamma = \\frac{\\mu_0}{4 \\pi}$ and $\\mu_0$ the vacuum permeability.\n",
    "\n",
    "For the steric interaction in this tutorial we use the purely repulsive Weeks-Chandler-Andersen (WCA) potential which is a Lennard-Jones potential with cut-off radius $r_{cut}$ at the minimum of the potential $r_{cut} = r_{min} = 2^{\\frac{1}{6}}\\cdot \\sigma$ and shifted by $\\epsilon_{ij}$ such that the potential is continuous at the cut-off radius. Thus the potential has the shape\n",
    "\n",
    "\\begin{equation*}\n",
    "\t\tu_{\\text{sr}}^{\\text{WCA}}(r_{ij}) = \\left\\{\n",
    "\t\t\\begin{array}{ll}\n",
    "\t\t4\\varepsilon_{\\text{lj}}\\left[ \\left( \\frac{\\sigma}{r_{ij}} \\right)^{12} - \\left( \\frac{\\sigma}{r_{ij}} \\right)^6 \\right] + \\varepsilon_{\\text{lj}} & r_{ij} < r_{cut} \\\\\n",
    "\t\t0 & r_{ij} \\geq r_{cut} \\\\\n",
    "\t\t\\end{array}\n",
    "\t\t\\right.\n",
    "\\end{equation*}\n",
    "\n",
    "where $r_{ij}$ are the distances between two particles.\n",
    "The purely repulsive character of the potential can be justified by the fact that the particles in real ferrofluids are sterically or electrostatically stabilized against agglomeration.\n",
    "\n",
    "The whole interaction potential reads\n",
    "\n",
    "\\begin{equation*}\n",
    "\t\tu(\\vec{r}_{ij}, \\vec{\\mu}_i, \\vec{\\mu}_j) = u_{\\text{sr}}(\\vec{r}_{ij}) + u_{\\text{DD}}(\\vec{r}_{ij}, \\vec{\\mu}_i, \\vec{\\mu}_j)\n",
    "\\end{equation*}\n",
    "\n",
    "The liquid carrier of the system is simulated through a Langevin thermostat.\n",
    "        \n",
    "For ferrofluid systems there are three important parameters. The first is the volume fraction in three dimensions or the area fraction in two dimensions or quasi two dimensions. The second is the dipolar interaction parameter $\\lambda$\n",
    "\n",
    "\\begin{equation}\n",
    "    \\lambda = \\frac{\\tilde{u}_{DD}}{u_T} = \\gamma \\frac{\\mu^2}{k_BT\\sigma^3}\n",
    "\\end{equation}\n",
    "\n",
    "where $u_{T} = k_BT$ is the thermal energy and $\\tilde{u}_{DD}$ is the absolute value of the dipole-dipole interaction energy at close contact (cc) and head-to-tail configuration (htt) (see <a href='#fig_4'>fig. 4</a>) per particle, i.e. in formulars it reads\n",
    "\n",
    "\\begin{equation}\n",
    "    \\tilde{u}_{DD} = \\frac{ \\left| u_{DD}^{\\text{htt, cc}} \\right| }{2}\n",
    "\\end{equation}\n",
    "\n",
    "The third parameter takes a possible external magnetic field into account and is called Langevin parameter $\\alpha$. It is the ratio between the energy of a dipole moment in the external magnetic field $B$ and the thermal energy\n",
    "\n",
    "\\begin{equation}\n",
    "    \\alpha = \\frac{\\mu_0 \\mu}{k_B T}B\n",
    "\\end{equation}\n",
    "\n"
   ]
  },
  {
   "cell_type": "markdown",
   "metadata": {},
   "source": [
    "<a id='fig_4'></a><figure>\n",
    "<img src='figures/headtotailconf.png' alt='schematic representation of head to tail configuration' style='width: 200px;'/>\n",
    "<center>\n",
    "<figcaption> Figure 4: Schematic representation of the head-to-tail configuration of two magnetic particles at close contact.\n",
    "</figure>"
   ]
  },
  {
   "cell_type": "markdown",
   "metadata": {},
   "source": [
    "## Structure of this tutorial"
   ]
  },
  {
   "cell_type": "markdown",
   "metadata": {},
   "source": [
    "The aim of this tutorial is to introduce the basic features of **ESPResSo** for ferrofluids or dipolar fluids in general. In **part I** and **part II** we will do this for a monolayer-ferrofluid, in **part III** for a three dimensional system. In **part I** we will examine the clusters which are present in all interesting ferrofluid systems. In **part II** we will examine the influence of the dipole-dipole-interaction on the magnetization curve of a ferrofluid. In **part III** we calculate estimators for the initial susceptibility using fluctuation formulas and sample the magnetization curve.\n",
    "\n",
    "We assume the reader is familiar with the basic concepts of Python and MD simulations."
   ]
  },
  {
   "cell_type": "markdown",
   "metadata": {},
   "source": [
    "**Remark**: The equilibration and sampling times used in this tutorial would be not sufficient for scientific  purposes, but they are long enough to get at least a qualitative insight of the behaviour of ferrofluids. They have been shortened so we achieve reasonable computation times for the purpose of a tutorial."
   ]
  },
  {
   "cell_type": "markdown",
   "metadata": {},
   "source": [
    "## Compiling ESPResSo for this Tutorial"
   ]
  },
  {
   "cell_type": "markdown",
   "metadata": {},
   "source": [
    "For this tutorial the following features of **ESPResSo** are needed"
   ]
  },
  {
   "cell_type": "markdown",
   "metadata": {},
   "source": [
    "```c++\n",
    "#define EXTERNAL_FORCES\n",
    "#define ROTATION\n",
    "#define DIPOLES\n",
    "#define LENNARD_JONES\n",
    "```"
   ]
  },
  {
   "cell_type": "markdown",
   "metadata": {},
   "source": [
    "Please uncomment them in the <tt>myconfig.hpp</tt> and compile **ESPResSo** using this <tt>myconfig.hpp</tt>."
   ]
  },
  {
   "cell_type": "markdown",
   "metadata": {},
   "source": [
    "## A Monolayer-Ferrofluid System in ESPResSo"
   ]
  },
  {
   "cell_type": "markdown",
   "metadata": {},
   "source": [
    "For interesting ferrofluid systems, where the fraction of ferromagnetic particles in the liquid carrier and their dipole moment are not vanishingly small, the ferromagnetic particles form clusters of different shapes and sizes. If the fraction and/or dipole moments are big enough the clusters can interconnect with each other and form a whole space occupying network.\n",
    "In this part we want to investigate the number of clusters as well as their shape and size in our simulated monolayer ferrofluid system. It should be noted that a monolayer is a quasi three dimensional system (q2D), i.e. two dimensional for the positions and three dimensional for the orientation of the dipole moments."
   ]
  },
  {
   "cell_type": "markdown",
   "metadata": {},
   "source": [
    "### Setup"
   ]
  },
  {
   "cell_type": "markdown",
   "metadata": {},
   "source": [
    "We start with checking for the presence of Espresso features and importing all necessary packages."
   ]
  },
  {
   "cell_type": "code",
   "execution_count": null,
   "metadata": {},
   "outputs": [],
   "source": [
    "import espressomd\n",
    "espressomd.assert_features('DIPOLES', 'LENNARD_JONES')\n",
    "\n",
    "from espressomd.magnetostatics import DipolarP3M\n",
    "from espressomd.magnetostatic_extensions import DLC\n",
    "\n",
    "from espressomd.cluster_analysis import ClusterStructure\n",
    "from espressomd.pair_criteria import DistanceCriterion\n",
    "\n",
    "\n",
    "import numpy as np"
   ]
  },
  {
   "cell_type": "markdown",
   "metadata": {},
   "source": [
    "Now we set up all simulation parameters. "
   ]
  },
  {
   "cell_type": "code",
   "execution_count": null,
   "metadata": {},
   "outputs": [],
   "source": [
    "# Lennard-Jones parameters\n",
    "lj_sigma = 1\n",
    "lj_epsilon = 1\n",
    "lj_cut = 2**(1./6.) * lj_sigma\n",
    "\n",
    "# Particles\n",
    "N = 1000\n",
    "\n",
    "# Area fraction of the mono-layer \n",
    "phi = 0.1\n",
    "\n",
    "# Dipolar interaction parameter lambda = mu_0 m^2 /(4 pi sigma^3 kT)\n",
    "dip_lambda = 4\n",
    "\n",
    "# Temperature\n",
    "kT =1.0\n",
    "\n",
    "# Friction coefficient\n",
    "gamma = 1.0\n",
    "\n",
    "# Time step\n",
    "dt = 0.01"
   ]
  },
  {
   "cell_type": "markdown",
   "metadata": {},
   "source": [
    "Note that we declared a <tt>lj_cut</tt>. This will be used as the cut-off radius of the Lennard-Jones potential to obtain a purely repulsive WCA potential.\n",
    "\n",
    "Now we setting up the system. The length of the simulation box is calculated using the desired area fraction and the area all particles occupy. Then we create the **ESPResSo** system and pass the simulation step. For the Verlet list skin parameter we use the build-in tuning algorithm of **ESPResSo**. After that we setting up the thermostat which is, in our case, a Langevin thermostat to simulate in an NVT ensemble. \n",
    "\n",
    "**Hint:**\n",
    "It should be noted that we seed the Langevin thermostat, thus the time evolution of the system is partly predefined. Partly because of the numeric accuracy and the automatic tuning algorithms of Dipolar P3M and DLC where the resulting parameters are slightly different every time. You can change the seed to get a guaranteed different time evolution."
   ]
  },
  {
   "cell_type": "code",
   "execution_count": null,
   "metadata": {},
   "outputs": [],
   "source": [
    "# System setup\n",
    "box_size = (N * np.pi * (lj_sigma/2.)**2 /phi)**0.5\n",
    "\n",
    "print(\"Box size\",box_size)\n",
    "# Note that the dipolar P3M and dipolar layer correction need a cubic\n",
    "# simulation box for technical reasons.\n",
    "system = espressomd.System(box_l=(box_size,box_size,box_size)) \n",
    "system.time_step = dt\n",
    "\n",
    "# tune verlet list skin\n",
    "system.cell_system.tune_skin(min_skin=0.4, max_skin=2., tol=0.2, int_steps=100)\n",
    "\n",
    "system.thermostat.set_langevin(kT=kT,gamma=gamma,seed=1)"
   ]
  },
  {
   "cell_type": "markdown",
   "metadata": {},
   "source": [
    "Now we set up the interaction between the particles as a non-bonded interaction and use the Lennard-Jones potential as the interaction potential. Here we use the above mentioned cut-off radius to get a purely repulsive interaction. "
   ]
  },
  {
   "cell_type": "code",
   "execution_count": null,
   "metadata": {},
   "outputs": [],
   "source": [
    "# Lennard-Jones interaction\n",
    "system.non_bonded_inter[0,0].lennard_jones.set_params(epsilon=lj_epsilon,sigma=lj_sigma,cutoff=lj_cut, shift=\"auto\")"
   ]
  },
  {
   "cell_type": "markdown",
   "metadata": {},
   "source": [
    "Now we generate random positions and orientations of the particles and their dipole moments. \n",
    "\n",
    "**Hint:**\n",
    "It should be noted that we seed the random number generator of numpy. Thus the initial configuration of our system is the same every time this script will be executed. You can change it to another one to simulate with a different initial configuration."
   ]
  },
  {
   "cell_type": "code",
   "execution_count": null,
   "metadata": {},
   "outputs": [],
   "source": [
    "# Random dipole moments\n",
    "np.random.seed(seed = 1)\n",
    "dip_phi = np.random.random((N,1)) *2. * np.pi\n",
    "dip_cos_theta = 2*np.random.random((N,1)) -1\n",
    "dip_sin_theta = np.sin(np.arccos(dip_cos_theta))\n",
    "dip = np.hstack((\n",
    "   dip_sin_theta *np.sin(dip_phi),\n",
    "   dip_sin_theta *np.cos(dip_phi),\n",
    "   dip_cos_theta))\n",
    "\n",
    "# Random positions in the monolayer\n",
    "pos = box_size* np.hstack((np.random.random((N,2)), np.zeros((N,1))))"
   ]
  },
  {
   "cell_type": "markdown",
   "metadata": {},
   "source": [
    "Now we add the particles with their positions and orientations to our system. Thereby we activate all degrees of freedom for the orientation of the dipole moments. As we want a two dimensional system we only allow the particles to translate in x- and y-direction and not in z-direction by using the <tt>fix</tt> argument."
   ]
  },
  {
   "cell_type": "code",
   "execution_count": null,
   "metadata": {},
   "outputs": [],
   "source": [
    "# Add particles\n",
    "system.part.add(pos=pos,rotation=N*[(1,1,1)],dip=dip,fix=N*[(0,0,1)])"
   ]
  },
  {
   "cell_type": "markdown",
   "metadata": {},
   "source": [
    "Be aware that we do not commit the magnitude of the magnetic dipole moments to the particles. As in our case all particles have the same dipole moment it is possible to rewrite the dipole-dipole interaction potential to\n",
    "\n",
    "\\begin{equation}\n",
    "    u_{\\text{DD}}(\\vec{r}_{ij}, \\vec{\\mu}_i, \\vec{\\mu}_j) =  \\gamma \\mu^2 \\left(\\frac{\\vec{\\hat{\\mu}}_i \\cdot \\vec{\\hat{\\mu}}_j}{r_{ij}^3} - 3\\frac{(\\vec{\\hat{\\mu}}_i \\cdot \\vec{r}_{ij}) \\cdot (\\vec{\\hat{\\mu}}_j \\cdot \\vec{r}_{ij})}{r_{ij}^5}\\right)\n",
    "\\end{equation}\n",
    "\n",
    "where $\\vec{\\hat{\\mu}}_i$ is the unit vector of the dipole moment $i$ and $\\mu$ is the magnitude of the dipole moments.\n",
    "Thus we can only commit the orientation of the dipole moment to the particles and take the magnitude into account when calculating the dipole-dipole interaction with Dipolar P3M if we commit the magnitude to Dipolar P3M together with the prefactor $\\gamma$ as a new prefactor\n",
    "\n",
    "\n",
    "\\begin{equation}\n",
    "    \\tilde{\\gamma} = \\gamma \\mu^2 = \\frac{\\mu_0}{4\\pi}\\mu^2 = \\lambda \\sigma^3 k_BT\n",
    "\\end{equation}\n",
    "\n",
    "\n",
    "Of course it would also be possible to commit the whole dipole moment vectors to every particle and let the prefactor of Dipolar P3M unchanged ($\\gamma$). In fact we have to do this if we want to simulate polydisperse systems."
   ]
  },
  {
   "cell_type": "markdown",
   "metadata": {},
   "source": [
    "Now we choose the steepest descent integrator to remove possible overlaps of the particles. Therefore we integrate until the energy of the whole system is lower than $5 k_BT$."
   ]
  },
  {
   "cell_type": "code",
   "execution_count": null,
   "metadata": {},
   "outputs": [],
   "source": [
    "# Remove overlap between particles by means of the steepest descent method\n",
    "system.integrator.set_steepest_descent(\n",
    "    f_max=0,gamma=0.1,max_displacement=0.05)\n",
    "\n",
    "while system.analysis.energy()[\"total\"] > 5*kT*N:\n",
    "    system.integrator.run(20)"
   ]
  },
  {
   "cell_type": "markdown",
   "metadata": {},
   "source": [
    "For the simulation of our system we choose the velocity Verlet integrator"
   ]
  },
  {
   "cell_type": "code",
   "execution_count": null,
   "metadata": {},
   "outputs": [],
   "source": [
    "# Switch to velocity Verlet integrator\n",
    "system.integrator.set_vv()"
   ]
  },
  {
   "cell_type": "markdown",
   "metadata": {},
   "source": [
    "To calculate the dipole-dipole interaction we use the Dipolar P3M method (see Ref. <a href='#[1]'>[1]</a>) which is based on the Ewald summation. By default the boundary conditions of the system are set to conducting which means the dielectric constant is set to infinity for the surrounding medium. As we want to simulate a two dimensional system we additionally use the dipolar layer correction (DLC) (see Ref. <a href='#[2]'>[2]</a>). As we add <tt>DipolarP3M</tt> to our system as an actor, a tuning function is started automatically which tries to find the optimal parameters for Dipolar P3M and prints them to the screen. The last line of the output is the value of the tuned skin."
   ]
  },
  {
   "cell_type": "code",
   "execution_count": null,
   "metadata": {
    "scrolled": true
   },
   "outputs": [],
   "source": [
    "# Setup dipolar P3M and dipolar layer correction\n",
    "dp3m = DipolarP3M(accuracy=5E-4,prefactor=dip_lambda*lj_sigma**3*kT)\n",
    "dlc = DLC(maxPWerror=1E-4, gap_size=box_size-lj_sigma)\n",
    "system.actors.add(dp3m)\n",
    "system.actors.add(dlc)\n",
    "\n",
    "# tune verlet list skin again\n",
    "system.cell_system.tune_skin(min_skin=0.4, max_skin=2., tol=0.2, int_steps=100)\n",
    "\n",
    "# print skin value\n",
    "print('tuned skin = {}'.format(system.cell_system.skin))"
   ]
  },
  {
   "cell_type": "markdown",
   "metadata": {},
   "source": [
    "Now we equilibrate the dipole-dipole interaction for some time"
   ]
  },
  {
   "cell_type": "code",
   "execution_count": null,
   "metadata": {
    "scrolled": true
   },
   "outputs": [],
   "source": [
    "# Equilibrate\n",
    "print(\"Equilibration...\")\n",
    "equil_rounds = 20\n",
    "equil_steps = 1000\n",
    "for i in range(equil_rounds):\n",
    "  system.integrator.run(equil_steps)\n",
    "  print(\"progress: {:3.0f}%, dipolar energy: {:9.2f}\".format(\n",
    "        (i + 1) * 100. / equil_rounds, system.analysis.energy()[\"dipolar\"]), end=\"\\r\")\n",
    "print(\"\\nEquilibration done\")"
   ]
  },
  {
   "cell_type": "markdown",
   "metadata": {},
   "source": [
    "As we are interested in the cluster sizes and the number of clusters we now set up the cluster analysis with the distance criterion that a particle is added to a cluster if the nearest neighbors are closer than $1.3\\cdot\\sigma_{lj}$."
   ]
  },
  {
   "cell_type": "code",
   "execution_count": null,
   "metadata": {},
   "outputs": [],
   "source": [
    "# Setup cluster analysis\n",
    "cs=ClusterStructure(pair_criterion=DistanceCriterion(cut_off=1.3*lj_sigma))"
   ]
  },
  {
   "cell_type": "markdown",
   "metadata": {},
   "source": [
    "## Sampling"
   ]
  },
  {
   "cell_type": "markdown",
   "metadata": {},
   "source": [
    "Now we sample our system for some time and do a cluster analysis in order to get an estimator of the cluster observables."
   ]
  },
  {
   "cell_type": "markdown",
   "metadata": {},
   "source": [
    "For the cluster analysis we create two empty lists. The first for the number of clusters and the second for their sizes."
   ]
  },
  {
   "cell_type": "code",
   "execution_count": null,
   "metadata": {},
   "outputs": [],
   "source": [
    "n_clusters = []\n",
    "cluster_sizes = []"
   ]
  },
  {
   "cell_type": "markdown",
   "metadata": {},
   "source": [
    "We sample over 100 loops"
   ]
  },
  {
   "cell_type": "code",
   "execution_count": null,
   "metadata": {},
   "outputs": [],
   "source": [
    "loops = 100"
   ]
  },
  {
   "cell_type": "markdown",
   "metadata": {},
   "source": [
    "As the system is two dimensional, we can simply do a scatter plot to get a visual representation of a system state. To get a better insight of how a ferrofluid system develops during time we will create a video of the development of our system during the sampling. If you only want to sample the system simply go to [Sampling without animation](#Sampling-without-animation)"
   ]
  },
  {
   "cell_type": "markdown",
   "metadata": {},
   "source": [
    "### Sampling with animation"
   ]
  },
  {
   "cell_type": "markdown",
   "metadata": {},
   "source": [
    "To get an animation of the system development we have to create a function which will save the video and embed it in an html string."
   ]
  },
  {
   "cell_type": "code",
   "execution_count": null,
   "metadata": {},
   "outputs": [],
   "source": [
    "import matplotlib.pyplot as plt\n",
    "import matplotlib.animation as animation\n",
    "from tempfile import NamedTemporaryFile\n",
    "import base64\n",
    "\n",
    "VIDEO_TAG = \"\"\"<video controls>\n",
    " <source src=\"data:video/x-m4v;base64,{0}\" type=\"video/mp4\">\n",
    " Your browser does not support the video tag.\n",
    "</video>\"\"\"\n",
    "\n",
    "def anim_to_html(anim):\n",
    "    if not hasattr(anim, '_encoded_video'):\n",
    "        with NamedTemporaryFile(suffix='.mp4') as f:\n",
    "            anim.save(f.name, fps=20, extra_args=['-vcodec', 'libx264'])\n",
    "            with open(f.name, \"rb\") as g:\n",
    "                video = g.read()\n",
    "        anim._encoded_video = base64.b64encode(video).decode('ascii')\n",
    "        plt.close(anim._fig)\n",
    "    return VIDEO_TAG.format(anim._encoded_video)\n",
    "\n",
    "animation.Animation._repr_html_ = anim_to_html\n",
    "\n",
    "def init():\n",
    "    # Set x and y range\n",
    "    ax.set_ylim(0, box_size)\n",
    "    ax.set_xlim(0, box_size)\n",
    "    xdata, ydata = [], []\n",
    "    part.set_data(xdata, ydata)\n",
    "    return part,\n",
    "\n",
    "def run(i):\n",
    "    # Run cluster analysis\n",
    "    cs.run_for_all_pairs()\n",
    "\n",
    "    # Gather statistics:\n",
    "    n_clusters.append(len(cs.clusters))\n",
    "    for c in cs.clusters:\n",
    "        cluster_sizes.append(c[1].size())\n",
    "    system.integrator.run(100)\n",
    "\n",
    "    # Save current system state as a plot\n",
    "    xdata, ydata = system.part[:].pos_folded[:,0], system.part[:].pos_folded[:,1]\n",
    "    ax.figure.canvas.draw()\n",
    "    part.set_data(xdata, ydata)\n",
    "    print(\"progress: {:3.0f}%\".format((i + 1) * 100. / loops), end=\"\\r\")\n",
    "    return part,"
   ]
  },
  {
   "cell_type": "markdown",
   "metadata": {},
   "source": [
    "Now we use the <tt>animation</tt> class of <tt>matplotlib</tt> to save snapshots of the system as frames of a video which is then displayed after the sampling is finished. Between two frames are 100 integration steps.\n",
    "\n",
    "In the video chain-like and ring-like clusters should be visible which are possibly connected via Y- and X-links to each other. Some monomers should be also present."
   ]
  },
  {
   "cell_type": "code",
   "execution_count": null,
   "metadata": {
    "scrolled": true
   },
   "outputs": [],
   "source": [
    "fig, ax = plt.subplots(figsize=(10,10))\n",
    "part, = ax.plot([],[], 'o')\n",
    "\n",
    "animation.FuncAnimation(fig, run, frames=loops, blit=True, interval=0, repeat=False, init_func=init)"
   ]
  },
  {
   "cell_type": "markdown",
   "metadata": {},
   "source": [
    "### Sampling without animation"
   ]
  },
  {
   "cell_type": "markdown",
   "metadata": {},
   "source": [
    "The following code just samples the system and do a cluster analysis every <tt>loops</tt> (100 by default) simulation steps."
   ]
  },
  {
   "cell_type": "code",
   "execution_count": null,
   "metadata": {
    "scrolled": true
   },
   "outputs": [],
   "source": [
    "for i in range(loops):\n",
    "    # Run cluster analysis\n",
    "    cs.run_for_all_pairs()\n",
    "\n",
    "    # Gather statistics:\n",
    "    n_clusters.append(len(cs.clusters))\n",
    "    for c in cs.clusters:\n",
    "        cluster_sizes.append(c[1].size())\n",
    "    system.integrator.run(100)\n",
    "    print(\"progress: {:3.0f}%\".format((float(i)+1)/loops * 100), end=\"\\r\")"
   ]
  },
  {
   "cell_type": "markdown",
   "metadata": {},
   "source": [
    "You may want to get a visualization of the current state of the system. For that we plot the particle positions folded to the simulation box using <tt>matplotlib</tt>."
   ]
  },
  {
   "cell_type": "code",
   "execution_count": null,
   "metadata": {},
   "outputs": [],
   "source": [
    "import matplotlib.pyplot as plt\n",
    "plt.figure(figsize=(10,10))\n",
    "plt.xlim(0, box_size)\n",
    "plt.ylim(0, box_size)\n",
    "plt.xlabel('x-position', fontsize=20)\n",
    "plt.ylabel('y-position', fontsize=20)\n",
    "plt.plot(system.part[:].pos_folded[:,0], system.part[:].pos_folded[:,1], 'o')\n",
    "plt.show()"
   ]
  },
  {
   "cell_type": "markdown",
   "metadata": {},
   "source": [
    "In the plot chain-like and ring-like clusters should be visible. Some of them are connected via Y- or X-links to each other. Also some monomers should be present."
   ]
  },
  {
   "cell_type": "markdown",
   "metadata": {},
   "source": [
    "## Cluster distribution"
   ]
  },
  {
   "cell_type": "markdown",
   "metadata": {},
   "source": [
    "After sampling our system for a while we now can calculate estimators for the the expectaion value of the cluster sizes and their distribution. Thus we calculate a histogram over all cluster sizes using the <tt>numpy</tt> function <tt>histogram</tt>."
   ]
  },
  {
   "cell_type": "markdown",
   "metadata": {},
   "source": [
    "<b>Note:</b> We want to get a histogram up to a cluster size of 19 particles. To not count clusters with size of 20 in our last bin (our bin for cluster size 19) we add an additional bin which we will not use in the following. This has to do with the way numpy defines the intervals between two bin edges. All but the last bin is half-open with the open border at the higher bin edge."
   ]
  },
  {
   "cell_type": "code",
   "execution_count": null,
   "metadata": {},
   "outputs": [],
   "source": [
    "size_dist=np.histogram(cluster_sizes,range=(2,21),bins=19)"
   ]
  },
  {
   "cell_type": "markdown",
   "metadata": {},
   "source": [
    "Now we can plot this histogram and should see an exponential decrease in the number of particles in a cluster along the size of a cluster, i.e. the number of monomers in it"
   ]
  },
  {
   "cell_type": "code",
   "execution_count": null,
   "metadata": {},
   "outputs": [],
   "source": [
    "plt.figure(figsize=(10,10))\n",
    "plt.grid()\n",
    "plt.xticks(range(0,20))\n",
    "plt.plot(size_dist[1][:-2],size_dist[0][:-1]/float(loops))\n",
    "plt.xlabel('size of clusters',fontsize=20)\n",
    "plt.ylabel('distribution',fontsize=20)\n",
    "plt.show()"
   ]
  },
  {
   "cell_type": "markdown",
   "metadata": {},
   "source": [
    "<a id='[1]'></a>[1] Juan J. Cerdà, V. Ballenegger, O. Lenz, and Ch. Holm. *P3M algorithm for dipolar interactions. *Journal of Chemical Physics, 129:234104, 2008.  \n",
    "<a id='[2]'></a>[2] A. Bródka. “Ewald summation method with electrostatic layer correction for\n",
    "interactions of point dipoles in slab geometry”. In: Chemical Physics Letters 400.1\n",
    "(2004), pp. 62–67. issn: 0009-2614. doi: https://doi.org/10.1016/j.cplett.\n",
    "2004.10.086. url: http://www.sciencedirect.com/science/article/pii/S0009261404016847."
   ]
  },
  {
   "cell_type": "markdown",
   "metadata": {},
   "source": [
    "Image sources:\n",
    "\n",
    "<a id='[3]'></a>[3] <a href=\"https://commons.wikimedia.org/wiki/User:Ayouril\">Ayouril</a>, <a href=\"https://commons.wikimedia.org/wiki/File:Electro-Steric_Stabilization.jpg\">Electro-Steric Stabilization</a>, <a href=\"https://creativecommons.org/licenses/by-sa/3.0/legalcode\" rel=\"license\">CC BY-SA 3.0</a> \n",
    "\n",
    "<a id='[4]'></a>[4] <a href=\"https://en.wikipedia.org/wiki/User:Gmaxwell\">Gregory F. Maxwell</a> &lt;<a href=\"mailto:gmaxwell@gmail.com\">gmaxwell@gmail.com</a>&gt; <a href=\"https://en.wikipedia.org/wiki/Pretty_Good_Privacy\">PGP</a>:<a href=\"http://pgp.nic.ad.jp/pks/lookup?op=vindex&amp;search=0xB0413BFA\">0xB0413BFA</a>, <a href=\"https://commons.wikimedia.org/wiki/File:Ferrofluid_Magnet_under_glass_edit.jpg#file\">Ferrofluid Magnet under glass edit</a>, <a href=\"https://creativecommons.org/licenses/by-sa/3.0/legalcode\" rel=\"license\">CC BY-SA 3.0</a> "
   ]
  }
 ],
 "metadata": {
  "kernelspec": {
   "display_name": "Python 3",
   "language": "python",
   "name": "python3"
  },
  "language_info": {
   "codemirror_mode": {
    "name": "ipython",
    "version": 3
   },
   "file_extension": ".py",
   "mimetype": "text/x-python",
   "name": "python",
   "nbconvert_exporter": "python",
   "pygments_lexer": "ipython3",
   "version": "3.6.8"
  }
 },
 "nbformat": 4,
 "nbformat_minor": 1
}
