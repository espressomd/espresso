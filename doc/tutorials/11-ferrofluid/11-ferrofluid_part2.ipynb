{
 "cells": [
  {
   "cell_type": "markdown",
   "metadata": {},
   "source": [
    "# Ferrofluid - Part II"
   ]
  },
  {
   "cell_type": "markdown",
   "metadata": {},
   "source": [
    "## Table of Contents\n",
    "1. [Applying an external magnetic field](#Applying-an-external-magnetic-field)\n",
    "2. [Magnetization curve](#Magnetization-curve)"
   ]
  },
  {
   "cell_type": "markdown",
   "metadata": {},
   "source": [
    "**Remark**: The equilibration and sampling times used in this tutorial would be not sufficient for scientific  purposes, but they are long enough to get at least a qualitative insight of the behaviour of ferrofluids. They have been shortened so we achieve reasonable computation times for the purpose of a tutorial."
   ]
  },
  {
   "cell_type": "markdown",
   "metadata": {},
   "source": [
    "## Applying an external magnetic field"
   ]
  },
  {
   "cell_type": "markdown",
   "metadata": {},
   "source": [
    "In this part we want to investigate the influence of an homogeneous external magnetic field exposed to a ferrofluid system."
   ]
  },
  {
   "cell_type": "markdown",
   "metadata": {},
   "source": [
    "We import all neccessary packages and check for the required Espresso features"
   ]
  },
  {
   "cell_type": "code",
   "execution_count": null,
   "metadata": {},
   "outputs": [],
   "source": [
    "import espressomd\n",
    "espressomd.assert_features('DIPOLES', 'LENNARD_JONES')\n",
    "\n",
    "from espressomd.magnetostatics import DipolarP3M\n",
    "from espressomd.magnetostatic_extensions import DLC\n",
    "\n",
    "import numpy as np"
   ]
  },
  {
   "cell_type": "markdown",
   "metadata": {},
   "source": [
    "and set up the simulation parameters where we introduce a new dimensionless parameter \n",
    "\n",
    "\\begin{equation}\n",
    "    \\alpha = \\frac{\\mu B}{k_BT} = \\frac{\\mu \\mu_0 H}{k_BT}\n",
    "\\end{equation}\n",
    "\n",
    "which is called **Langevin parameter**. We intentionally choose a relatively high volume fraction $\\phi$ and dipolar interaction parameter $\\lambda$ to clearly see the influence of the dipole-dipole interaction"
   ]
  },
  {
   "cell_type": "code",
   "execution_count": null,
   "metadata": {},
   "outputs": [],
   "source": [
    "# Lennard-Jones parameters\n",
    "lj_sigma = 1.\n",
    "lj_epsilon = 1.\n",
    "lj_cut = 2**(1./6.) * lj_sigma\n",
    "\n",
    "# Particles\n",
    "N = 700\n",
    "\n",
    "# Area fraction of the mono-layer \n",
    "phi = 0.06\n",
    "\n",
    "# Dipolar interaction parameter lambda = mu_0 m^2 /(4 pi sigma^3 kT)\n",
    "dip_lambda = 4.\n",
    "\n",
    "# Temperature\n",
    "kT = 1.0\n",
    "\n",
    "# Friction coefficient\n",
    "gamma = 1.0\n",
    "\n",
    "# Time step\n",
    "dt = 0.01\n",
    "\n",
    "# Langevin parameter alpha = mu_0 m H / kT\n",
    "alpha = 10.\n",
    "\n",
    "# vaccum permeability\n",
    "mu_0 = 1."
   ]
  },
  {
   "cell_type": "markdown",
   "metadata": {},
   "source": [
    "Now we set up the system, where we, as we did in **part I**, only commit the orientation of the dipole moment to the particles and take the magnitude into account in the prefactor of Dipolar P3M (for more details see **part I**). \n",
    "\n",
    "**Hint:**\n",
    "It should be noted that we seed both the Langevin thermostat and the random number generator of numpy. The latter means that the initial configuration of our system is the same every time this script will be executed. As the time evolution of the system depends not solely on the Langevin thermostat but also on the numeric accuracy and DP3M as well as DLC (the tuned parameters are slightly different every time) it is only partly predefined. You can change the seeds to simulate with a different initial configuration and a guaranteed different time evolution."
   ]
  },
  {
   "cell_type": "code",
   "execution_count": null,
   "metadata": {
    "scrolled": true
   },
   "outputs": [],
   "source": [
    "# System setup\n",
    "box_size = (N * np.pi * (lj_sigma/2.)**2. /phi)**0.5\n",
    "\n",
    "print(\"Box size\",box_size)\n",
    "# Note that the dipolar P3M and dipolar layer correction need a cubic\n",
    "# simulation box for technical reasons.\n",
    "system = espressomd.System(box_l=(box_size,box_size,box_size)) \n",
    "system.time_step = dt\n",
    "system.thermostat.set_langevin(kT=kT,gamma=gamma, seed=1)\n",
    "\n",
    "# Lennard-Jones interaction\n",
    "system.non_bonded_inter[0,0].lennard_jones.set_params(epsilon=lj_epsilon,sigma=lj_sigma,cutoff=lj_cut, shift=\"auto\")\n",
    "\n",
    "# Random dipole moments\n",
    "np.random.seed(seed = 1)\n",
    "dip_phi = np.random.random((N,1)) *2. * np.pi\n",
    "dip_cos_theta = 2*np.random.random((N,1)) -1\n",
    "dip_sin_theta = np.sin(np.arccos(dip_cos_theta))\n",
    "dip = np.hstack((\n",
    "   dip_sin_theta *np.sin(dip_phi),\n",
    "   dip_sin_theta *np.cos(dip_phi),\n",
    "   dip_cos_theta))\n",
    "\n",
    "# Random positions in the monolayer\n",
    "pos = box_size* np.hstack((np.random.random((N,2)), np.zeros((N,1))))\n",
    "\n",
    "# Add particles\n",
    "system.part.add(pos=pos,rotation=N*[(1,1,1)],dip=dip,fix=N*[(0,0,1)])\n",
    "\n",
    "# Remove overlap between particles by means of the steepest descent method\n",
    "system.integrator.set_steepest_descent(\n",
    "    f_max=0,gamma=0.1,max_displacement=0.05)\n",
    "\n",
    "while system.analysis.energy()[\"total\"] > 5*kT*N:\n",
    "    system.integrator.run(20)\n",
    "\n",
    "# Switch to velocity Verlet integrator\n",
    "system.integrator.set_vv()\n",
    "\n",
    "# tune verlet list skin\n",
    "system.cell_system.tune_skin(min_skin=0.4, max_skin=2., tol=0.2, int_steps=100)\n",
    "\n",
    "# Setup dipolar P3M and dipolar layer correction (DLC)\n",
    "dp3m = DipolarP3M(accuracy=5E-4,prefactor=dip_lambda*lj_sigma**3*kT)\n",
    "dlc = DLC(maxPWerror=1E-4, gap_size=box_size-lj_sigma)\n",
    "system.actors.add(dp3m)\n",
    "system.actors.add(dlc)\n",
    "\n",
    "# tune verlet list skin again\n",
    "system.cell_system.tune_skin(min_skin=0.4, max_skin=2., tol=0.2, int_steps=100)\n",
    "\n",
    "# print skin value\n",
    "print('tuned skin = {}'.format(system.cell_system.skin))"
   ]
  },
  {
   "cell_type": "markdown",
   "metadata": {},
   "source": [
    "We now apply the external magnetic field which is\n",
    "\n",
    "\\begin{equation}\n",
    "    B = \\mu_0 H = \\frac{\\alpha~k_BT}{\\mu}\n",
    "\\end{equation}\n",
    "\n",
    "As only the current orientation of the dipole moments, i.e. the unit vector of the dipole moments, is saved in the particle list but not their strength we have to commit $B\\cdot \\mu$ as the external magnetic field to **ESPResSo**.\n",
    "We applying the field in x-direction using the class <tt>constraints</tt> of **ESPResSo**"
   ]
  },
  {
   "cell_type": "code",
   "execution_count": null,
   "metadata": {},
   "outputs": [],
   "source": [
    "# magnetic field times dipole moment\n",
    "H_dipm = (alpha*kT)\n",
    "H_field = [H_dipm,0,0]\n",
    "print(\"Set magnetic field constraint...\")\n",
    "H_constraint = espressomd.constraints.HomogeneousMagneticField(H=H_field)\n",
    "system.constraints.add(H_constraint)"
   ]
  },
  {
   "cell_type": "markdown",
   "metadata": {},
   "source": [
    "and equilibrate the system for a while"
   ]
  },
  {
   "cell_type": "code",
   "execution_count": null,
   "metadata": {
    "scrolled": true
   },
   "outputs": [],
   "source": [
    "# Equilibrate\n",
    "print(\"Equilibration...\")\n",
    "equil_rounds = 10\n",
    "equil_steps = 200\n",
    "for i in range(equil_rounds):\n",
    "  system.integrator.run(equil_steps)\n",
    "  print(\"progress: {:3.0f}%, dipolar energy: {:9.2f}\".format(\n",
    "        (i + 1) * 100. / equil_rounds, system.analysis.energy()[\"dipolar\"]), end=\"\\r\")\n",
    "print(\"\\nEquilibration done\")"
   ]
  },
  {
   "cell_type": "markdown",
   "metadata": {},
   "source": [
    "Now we can visualize the current state and see that the particles mostly create chains oriented in the direction of the external magnetic field. Also some monomers should be present."
   ]
  },
  {
   "cell_type": "code",
   "execution_count": null,
   "metadata": {},
   "outputs": [],
   "source": [
    "import matplotlib.pyplot as plt"
   ]
  },
  {
   "cell_type": "code",
   "execution_count": null,
   "metadata": {},
   "outputs": [],
   "source": [
    "plt.figure(figsize=(10,10))\n",
    "plt.xlim(0, box_size)\n",
    "plt.ylim(0, box_size)\n",
    "plt.xlabel('x-position', fontsize=20)\n",
    "plt.ylabel('y-position', fontsize=20)\n",
    "plt.plot(system.part[:].pos_folded[:,0], system.part[:].pos_folded[:,1], 'o')\n",
    "plt.show()"
   ]
  },
  {
   "cell_type": "markdown",
   "metadata": {},
   "source": [
    "## Video of the development of the system"
   ]
  },
  {
   "cell_type": "markdown",
   "metadata": {},
   "source": [
    "You may want to get an insight of how the system develops in time. Thus we now create a function which will save a video and embed it in an html string to create a video of the systems development "
   ]
  },
  {
   "cell_type": "code",
   "execution_count": null,
   "metadata": {},
   "outputs": [],
   "source": [
    "import matplotlib.pyplot as plt\n",
    "import matplotlib.animation as animation\n",
    "from tempfile import NamedTemporaryFile\n",
    "import base64\n",
    "\n",
    "VIDEO_TAG = \"\"\"<video controls>\n",
    " <source src=\"data:video/x-m4v;base64,{0}\" type=\"video/mp4\">\n",
    " Your browser does not support the video tag.\n",
    "</video>\"\"\"\n",
    "\n",
    "def anim_to_html(anim):\n",
    "    if not hasattr(anim, '_encoded_video'):\n",
    "        with NamedTemporaryFile(suffix='.mp4') as f:\n",
    "            anim.save(f.name, fps=20, extra_args=['-vcodec', 'libx264'])\n",
    "            with open(f.name, \"rb\") as g:\n",
    "                video = g.read()\n",
    "        anim._encoded_video = base64.b64encode(video).decode('ascii')\n",
    "        plt.close(anim._fig)\n",
    "    return VIDEO_TAG.format(anim._encoded_video)\n",
    "\n",
    "animation.Animation._repr_html_ = anim_to_html\n",
    "\n",
    "def init():\n",
    "    # Set x and y range\n",
    "    ax.set_ylim(0, box_size)\n",
    "    ax.set_xlim(0, box_size)\n",
    "    xdata, ydata = [], []\n",
    "    part.set_data(xdata, ydata)\n",
    "    return part,\n",
    "\n",
    "def run(i):\n",
    "    system.integrator.run(50)\n",
    "\n",
    "    # Save current system state as a plot\n",
    "    xdata, ydata = system.part[:].pos_folded[:,0], system.part[:].pos_folded[:,1]\n",
    "    ax.figure.canvas.draw()\n",
    "    part.set_data(xdata, ydata)\n",
    "    print(\"progress: {:3.0f}%\".format(i + 1), end=\"\\r\")\n",
    "    return part,"
   ]
  },
  {
   "cell_type": "markdown",
   "metadata": {},
   "source": [
    "We now can start the sampling over the <tt>animation</tt> class of <tt>matplotlib</tt>"
   ]
  },
  {
   "cell_type": "code",
   "execution_count": null,
   "metadata": {
    "scrolled": true
   },
   "outputs": [],
   "source": [
    "fig, ax = plt.subplots(figsize=(10,10))\n",
    "part, = ax.plot([],[], 'o')\n",
    "\n",
    "animation.FuncAnimation(fig, run, frames=100, blit=True, interval=0, repeat=False, init_func=init)"
   ]
  },
  {
   "cell_type": "markdown",
   "metadata": {},
   "source": [
    "In the visualization video we can see that the single chains break and connect to each other during time. Also some monomers are present which break from and connect to chains. If you want to have some more frames, i.e. a longer video, just adjust the <tt>frames</tt> parameter in <tt>FuncAnimation</tt>."
   ]
  },
  {
   "cell_type": "markdown",
   "metadata": {},
   "source": [
    "## Magnetization curve"
   ]
  },
  {
   "cell_type": "markdown",
   "metadata": {},
   "source": [
    "An important observable of a ferrofluid system is the magnetization $M$ of the system in direction of an external magnetic field $H$\n",
    "\n",
    "\\begin{equation}\n",
    "    M = \\frac{\\sum_i \\mu_i^H}{V}\n",
    "\\end{equation}\n",
    "\n",
    "where the index $H$ means the component of $\\mu_i$ in direction of the external magnetic field $H$ and the sum runs over all particles.\n",
    "\n",
    "The magnetization plotted over the external field $H$ is called magnetization curve. For particles with non-interacting dipole moments there is an analytical solution\n",
    "\n",
    "\\begin{equation}\n",
    "    M = M_{sat}\\cdot L(\\alpha)\n",
    "\\end{equation}\n",
    "\n",
    "with $L(\\alpha)$ the Langevin function\n",
    "\n",
    "\\begin{equation}\n",
    "    L(\\alpha) = \\coth(\\alpha)-\\frac{1}{\\alpha}\n",
    "\\end{equation}\n",
    "\n",
    "and $\\alpha$ the Langevin parameter\n",
    "\n",
    "\\begin{equation}\n",
    "    \\alpha=\\frac{\\mu_0\\mu}{k_BT}H = \\frac{\\mu}{k_BT}B\n",
    "\\end{equation}\n",
    "\n",
    "$M_{sat}$ is the so called saturation magnetization which is the magnetization of a system where all dipole moments are aligned to each other. Thus it is the maximum of the magnetization. In our case all dipole moments are equal, thus\n",
    "\n",
    "\\begin{equation}\n",
    "    M_{sat} = \\frac{N\\cdot\\mu}{V}\n",
    "\\end{equation}\n",
    "\n",
    "\n",
    "For better compairability we now introduce a dimensionless magnetitzation\n",
    "\n",
    "\\begin{equation}\n",
    "    M^* = \\frac{M}{M_{sat}} = \\frac{\\sum_i \\mu_i^H}{N\\cdot \\mu}\n",
    "\\end{equation}\n",
    "\n",
    "Thus the analytical solution for non-interacting dipole moments $M^*$ is simply the Langevin function.\n",
    "\n",
    "For interacting dipole moments there are only approximations for the magnetization curve available. \n",
    "\n",
    "Here we want to use the approximation of Ref. <a href='#[1]'>[1]</a> for a quasi two dimenstional system, which reads with adjusted coefficients (Ref. <a href='#[1]'>[1]</a> used a different dipole-dipole interaction prefactor $\\gamma = 1$)\n",
    "\n",
    "\\begin{equation}\n",
    "    M_{||}^{q2D} = M_{sat} L(\\alpha) \\left( 1 + \\mu_0\\frac{1}{8} M_{sat} \\frac{d L(\\alpha)}{dB} \\right)\n",
    "\\end{equation}\n",
    "\n",
    "and\n",
    "\n",
    "\\begin{equation}\n",
    "    M_{\\perp}^{q2D} = M_{sat} L(\\alpha) \\left( 1 - \\mu_0\\frac{1}{4} M_{sat} \\frac{d L(\\alpha)}{dB} \\right)\n",
    "\\end{equation}\n",
    "\n",
    "\n",
    "\n",
    "for the magnetization with an external magnetic field parallel and perpendicular to the monolayer plane, respectively. Here the dipole-dipole interaction is approximated as a small perturbation and\n",
    "\n",
    "\\begin{equation}\n",
    "    \\frac{d L(\\alpha)}{dB} = \\left( \\frac{1}{\\alpha^2} - \\frac{1}{\\sinh^2(\\alpha)} \\right) \\cdot \\frac{\\mu}{k_BT}\n",
    "\\end{equation}\n",
    "\n",
    "By comparing the magnetization curve parallel $M_{||}^{q2D}$ and perpendicular $M_{\\perp}^{q2D}$ to the monolayer plane we can see that the magnetization is increased in the case of an external field parallel to the monolayer plane and decreased in the case of an external field perpendicular to the monolayer plane. The latter can be explaned by the fact that an orientation of all single dipole moments perpendicular to the monolayer plane results in a configuration with a repulsive dipole-dipole interaction as the particles have no freedome of movement in the direction perpendicular to the monolayer plane. This counteracts the magnetization perpendicular to the monolayer plane.\n",
    "\n",
    "\n",
    "We now want to use **ESPResSo** to get an estimation of how the magnetization curve is affected by the dipole-dipole interaction parallel and perpendicular to the monolayer plane and compare the results with the Langevin curve and the magnetization curves of Ref. <a href='#[1]'>[1]</a>."
   ]
  },
  {
   "cell_type": "markdown",
   "metadata": {},
   "source": [
    "For the sampling of the magnetization curve we set up a new system, where we decrease the dipolar interaction parameter $\\lambda$ drastically. We do this as we want to compare our results with the approximation of Ref. <a href='#[1]'>[1]</a> which is only valid for small dipole-dipole interaction between the particles (decreasing the volume fraction $\\phi$ would also be an appropriate choice). For smaller dipolar interaction parameters it is possible to increase the time step. We do this to get more uncorrelated measurements."
   ]
  },
  {
   "cell_type": "code",
   "execution_count": null,
   "metadata": {},
   "outputs": [],
   "source": [
    "# Dipolar interaction parameter lambda = mu_0 m^2 /(4 pi sigma^3 kT)\n",
    "dip_lambda = 1.\n",
    "\n",
    "# increase time step\n",
    "dt = 0.02\n",
    "\n",
    "# dipole moment\n",
    "dipm = np.sqrt(dip_lambda*4*np.pi*lj_sigma**3.*kT / mu_0)"
   ]
  },
  {
   "cell_type": "code",
   "execution_count": null,
   "metadata": {
    "scrolled": true
   },
   "outputs": [],
   "source": [
    "# remove all particles\n",
    "system.part[:].remove()\n",
    "\n",
    "\n",
    "# Random dipole moments\n",
    "dip_phi=np.random.random((N,1)) *2. * np.pi\n",
    "dip_cos_theta = 2*np.random.random((N,1)) -1\n",
    "dip_sin_theta = np.sin(np.arccos(dip_cos_theta))\n",
    "dip = np.hstack((\n",
    "   dip_sin_theta *np.sin(dip_phi),\n",
    "   dip_sin_theta *np.cos(dip_phi),\n",
    "   dip_cos_theta))\n",
    "\n",
    "# Random positions in the monolayer\n",
    "pos = box_size* np.hstack((np.random.random((N,2)), np.zeros((N,1))))\n",
    "\n",
    "# Add particles\n",
    "system.part.add(pos=pos,rotation=N*[(1,1,1)],dip=dip,fix=N*[(0,0,1)])\n",
    "\n",
    "# Remove overlap between particles by means of the steepest descent method\n",
    "system.integrator.set_steepest_descent(f_max=0,gamma=0.1,max_displacement=0.05)\n",
    "\n",
    "while system.analysis.energy()[\"total\"] > 5*kT*N:\n",
    "    system.integrator.run(20)\n",
    "\n",
    "# Switch to velocity Verlet integrator\n",
    "system.integrator.set_vv()\n",
    "\n",
    "# tune verlet list skin\n",
    "system.cell_system.tune_skin(min_skin=0.4, max_skin=2., tol=0.2, int_steps=100)\n",
    "\n",
    "# Setup dipolar P3M and dipolar layer correction\n",
    "system.actors.remove(dp3m)\n",
    "system.actors.remove(dlc)\n",
    "\n",
    "dp3m = DipolarP3M(accuracy=5E-4,prefactor=dip_lambda*lj_sigma**3*kT)\n",
    "dlc = DLC(maxPWerror=1E-4, gap_size=box_size-lj_sigma)\n",
    "\n",
    "system.actors.add(dp3m)\n",
    "system.actors.add(dlc)\n",
    "\n",
    "# tune verlet list skin again\n",
    "system.cell_system.tune_skin(min_skin=0.4, max_skin=2., tol=0.2, int_steps=100)"
   ]
  },
  {
   "cell_type": "markdown",
   "metadata": {},
   "source": [
    "To increase the perfomance we use the build-in function <tt>MagneticDipoleMoment</tt> to calculate the dipole  moment of the whole system. In our case this is only the orientation as we never commited the strength of the dipole moments to our particles. "
   ]
  },
  {
   "cell_type": "code",
   "execution_count": null,
   "metadata": {},
   "outputs": [],
   "source": [
    "from espressomd.observables import MagneticDipoleMoment\n",
    "dipm_tot = MagneticDipoleMoment(ids=system.part[:].id)"
   ]
  },
  {
   "cell_type": "markdown",
   "metadata": {},
   "source": [
    "We use the dimensionless Langevin parameter $\\alpha$ as the parameter for the external magnetic field. As the interesting part of the magnetization curve is the one for small external magnetic field strengths - for large external magnetic fields the magnetization goes into saturation in all cases - we increase the spacing between the Langevin parameters $\\alpha$ up to higher values and write them into a list"
   ]
  },
  {
   "cell_type": "code",
   "execution_count": null,
   "metadata": {},
   "outputs": [],
   "source": [
    "alphas = [0, 0.25, 0.5, 1, 2, 3, 4, 8]"
   ]
  },
  {
   "cell_type": "markdown",
   "metadata": {},
   "source": [
    "For both the magnetization perpendicular and parallel to the monolayer plane we use the same system for every value of the Langevin parameter $\\alpha$. Thus we use that the system is already more or less equilibrated from the previous run so we save some equilibration time. For scientific purposes one would use a new system for every value for the Langevin parameter to ensure that the systems are independent and no correlation effects are measured. Also one would perform more than just one simulation for each value of $\\alpha$ to increase the precision of the results."
   ]
  },
  {
   "cell_type": "markdown",
   "metadata": {},
   "source": [
    "Now we sample the magnetization for increasing $\\alpha$'s or increasing magnetic field in direction perpendicular to the monolayer plane"
   ]
  },
  {
   "cell_type": "code",
   "execution_count": null,
   "metadata": {},
   "outputs": [],
   "source": [
    "# sampling with magnetic field perpendicular to monolayer plane (in z-direction)\n",
    "\n",
    "# remove all constraints\n",
    "system.constraints.clear()\n",
    "\n",
    "# list of magnetization in field direction\n",
    "magnetization_perp = []\n",
    "\n",
    "# number of loops for sampling\n",
    "loops = 500\n",
    "\n",
    "for alpha in alphas:\n",
    "    print(\"Sampling for alpha = {}\".format(alpha))\n",
    "    H_dipm = (alpha*kT)\n",
    "    H_field = [0,0,H_dipm]\n",
    "    print(\"Set magnetic field constraint...\")\n",
    "    H_constraint = espressomd.constraints.HomogeneousMagneticField(H=H_field)\n",
    "    system.constraints.add(H_constraint)\n",
    "    print(\"done\\n\")\n",
    "    \n",
    "    # Equilibration\n",
    "    print(\"Equilibration...\")\n",
    "    for i in range(equil_rounds):\n",
    "        system.integrator.run(equil_steps)\n",
    "        print(\"progress: {:3.0f}%, dipolar energy: {:9.2f}\".format(\n",
    "              (i+1)*100./equil_rounds, system.analysis.energy()[\"dipolar\"]), end=\"\\r\")\n",
    "    print(\"\\nEqulilibration done\\n\")\n",
    "    \n",
    "    # Sampling\n",
    "    print(\"Sampling...\")\n",
    "    magn_temp = 0\n",
    "    for i in range(loops):\n",
    "        system.integrator.run(20)\n",
    "        magn_temp += dipm_tot.calculate()[2]\n",
    "        print(\"progress: {:3.0f}%\".format((i+1)*100./loops), end=\"\\r\")\n",
    "    print(\"\\n\")\n",
    "    \n",
    "    # save average magnetization\n",
    "    magnetization_perp.append(magn_temp / loops)\n",
    "    print(\"Sampling for alpha = {} done\\n\".format(alpha))\n",
    "    print(\"magnetizations = {}\".format(magnetization_perp))\n",
    "    print(\"total progress: {:5.1f}%\\n\".format((alphas.index(alpha)+1)*100./len(alphas)))\n",
    "    \n",
    "    # remove constraint\n",
    "    system.constraints.clear()\n",
    "print(\"Magnetization curve sampling done\")"
   ]
  },
  {
   "cell_type": "markdown",
   "metadata": {},
   "source": [
    "and now we sample the magnetization for increasing $\\alpha$'s or increasing magnetic field in direction parallel to the monolayer plane"
   ]
  },
  {
   "cell_type": "code",
   "execution_count": null,
   "metadata": {},
   "outputs": [],
   "source": [
    "# sampling with magnetic field parallel to monolayer plane (in x-direction)\n",
    "\n",
    "# remove all constraints\n",
    "system.constraints.clear()\n",
    "\n",
    "# list of magnetization in field direction\n",
    "magnetization_para = []\n",
    "\n",
    "# number of loops for sampling\n",
    "loops = 500\n",
    "\n",
    "for alpha in alphas:\n",
    "    print(\"Sample for alpha = {}\".format(alpha))\n",
    "    H_dipm = (alpha*kT)\n",
    "    H_field = [H_dipm,0,0]\n",
    "    print(\"Set magnetic field constraint...\")\n",
    "    H_constraint = espressomd.constraints.HomogeneousMagneticField(H=H_field)\n",
    "    system.constraints.add(H_constraint)\n",
    "    print(\"done\\n\")\n",
    "    \n",
    "    # Equilibration\n",
    "    print(\"Equilibration...\")\n",
    "    for i in range(equil_rounds):\n",
    "        system.integrator.run(equil_steps)\n",
    "        print(\"progress: {:3.0f}%, dipolar energy: {:9.2f}\".format(\n",
    "              (i+1)*100./equil_rounds, system.analysis.energy()[\"dipolar\"]), end=\"\\r\")\n",
    "    print(\"\\nEqulilibration done\\n\")\n",
    "    \n",
    "    # Sampling\n",
    "    print(\"Sampling...\")\n",
    "    magn_temp = 0\n",
    "    for i in range(loops):\n",
    "        system.integrator.run(20)\n",
    "        magn_temp += dipm_tot.calculate()[0]\n",
    "        print(\"progress: {:3.0f}%\".format((i+1)*100./loops), end=\"\\r\")\n",
    "    print(\"\\n\")\n",
    "    \n",
    "    # save average magnetization\n",
    "    magnetization_para.append(magn_temp / loops)\n",
    "    print(\"Sampling for alpha = {} done\\n\".format(alpha))\n",
    "    print(\"magnetizations = {}\".format(magnetization_para))\n",
    "    print(\"total progress: {:5.1f}%\\n\".format((alphas.index(alpha)+1)*100./len(alphas)))\n",
    "    \n",
    "    # remove constraint\n",
    "    system.constraints.clear()\n",
    "print(\"Magnetization curve sampling done\")"
   ]
  },
  {
   "cell_type": "markdown",
   "metadata": {},
   "source": [
    "Now we can compare the resulting magnetization curves with the Langevin curve and the more advanced ones of Ref. <a href='#[1]'>[1]</a> by plotting all of them in one figure. Thus first we import matplotlib if not already done"
   ]
  },
  {
   "cell_type": "code",
   "execution_count": null,
   "metadata": {},
   "outputs": [],
   "source": [
    "import matplotlib.pyplot as plt"
   ]
  },
  {
   "cell_type": "markdown",
   "metadata": {},
   "source": [
    "For the approximations of $ M_{||}^{q2D}$ and $ M_{\\perp}^{q2D}$ of Ref. <a href='#[1]'>[1]</a> we need the dipole moment of a single particle. Thus we calculate it from our dipolar interaction parameter $\\lambda$"
   ]
  },
  {
   "cell_type": "code",
   "execution_count": null,
   "metadata": {},
   "outputs": [],
   "source": [
    "# dipole moment\n",
    "dipm = np.sqrt(dip_lambda*4*np.pi*lj_sigma**3.*kT / mu_0)\n",
    "print('dipole moment = {}'.format(dipm))"
   ]
  },
  {
   "cell_type": "markdown",
   "metadata": {},
   "source": [
    "and the saturation magnetization by using\n",
    "\n",
    "\\begin{equation}\n",
    "    M_{sat} = \\rho \\mu = \\phi \\frac{4}{\\pi \\sigma^2} \\mu\n",
    "\\end{equation}\n",
    "thus"
   ]
  },
  {
   "cell_type": "code",
   "execution_count": null,
   "metadata": {},
   "outputs": [],
   "source": [
    "M_sat = phi * 4./np.pi * 1./(lj_sigma**2.) * dipm"
   ]
  },
  {
   "cell_type": "markdown",
   "metadata": {},
   "source": [
    "Further we need the derivation of the Langevin function after the external field B thus we define the function"
   ]
  },
  {
   "cell_type": "code",
   "execution_count": null,
   "metadata": {},
   "outputs": [],
   "source": [
    "def dL_dB(alpha):\n",
    "    return (1./(alpha**2.) - 1./((np.sinh(alpha))**2.)) * dipm / (kT)"
   ]
  },
  {
   "cell_type": "markdown",
   "metadata": {},
   "source": [
    "Now we define the approximated magnetization curves parallel and perpendicular to the monolayer plane"
   ]
  },
  {
   "cell_type": "code",
   "execution_count": null,
   "metadata": {},
   "outputs": [],
   "source": [
    "# approximated magnetization curve for a field parallel to the monolayer plane\n",
    "def magnetization_approx_para(phi, alpha):\n",
    "    return L(alpha) * ( 1. + mu_0/8. * M_sat * dL_dB(alpha) )"
   ]
  },
  {
   "cell_type": "code",
   "execution_count": null,
   "metadata": {},
   "outputs": [],
   "source": [
    "# approximated magnetization curve for a field perpendicular to the monolayer plane\n",
    "def magnetization_approx_perp(phi, alpha):\n",
    "    return L(alpha) * ( 1. - mu_0/4. * M_sat * dL_dB(alpha) )"
   ]
  },
  {
   "cell_type": "markdown",
   "metadata": {},
   "source": [
    "Now we define the Langevin function"
   ]
  },
  {
   "cell_type": "code",
   "execution_count": null,
   "metadata": {},
   "outputs": [],
   "source": [
    "# Langevin function\n",
    "def L(x):\n",
    "    return (np.cosh(x)/np.sinh(x)) - 1./x"
   ]
  },
  {
   "cell_type": "markdown",
   "metadata": {},
   "source": [
    "and plot the three theoretical curves together with our simulation results"
   ]
  },
  {
   "cell_type": "code",
   "execution_count": null,
   "metadata": {
    "scrolled": false
   },
   "outputs": [],
   "source": [
    "# list of the values for alpha (x-axis)\n",
    "x = np.arange(0.01,9, 0.1, dtype=float).tolist()\n",
    "\n",
    "\n",
    "L_func = []\n",
    "L_perp = []\n",
    "L_para = []\n",
    "for i in x:\n",
    "    L_func.append(L(i))\n",
    "    L_perp.append(magnetization_approx_perp(phi, i))\n",
    "    L_para.append(magnetization_approx_para(phi, i))\n",
    "    \n",
    "\n",
    "# devide all entries in the magnetization list by N to get the dimensionless magnetization\n",
    "magnetization_perp_star = []\n",
    "magnetization_para_star = []\n",
    "for i in range(len(magnetization_para)):\n",
    "    magnetization_perp_star.append(magnetization_perp[i] / N)\n",
    "    magnetization_para_star.append(magnetization_para[i] / N)\n",
    "\n",
    "\n",
    "\n",
    "plt.figure(figsize=(10,10))\n",
    "plt.xlabel(r'$\\alpha$', fontsize=20)\n",
    "plt.ylabel(r'$M^*$', fontsize=20)\n",
    "plt.plot(x, L_func, label='Langevin function')\n",
    "plt.plot(x, L_perp, label='q2D approximation $\\perp$')\n",
    "plt.plot(x, L_para, label='q2D approximation ||')\n",
    "plt.plot(alphas, magnetization_perp_star, 'o', label='simulation results $\\perp$')\n",
    "plt.plot(alphas, magnetization_para_star, 'o', label='simulation results ||')\n",
    "plt.legend(fontsize=20)\n",
    "plt.show()"
   ]
  },
  {
   "cell_type": "markdown",
   "metadata": {},
   "source": [
    "We can see that the simulation results are better represented by the curves of Ref. <a href='#[1]'>[1]</a> compared to the Langevin function. This was to be expected as the Langevin function is the magnetization curve of the real three dimenstional system without dipole-dipole interaction. We can also see that the magnetization is smaller in the case of an external magnetic field perpendicular to the monolayer plane compared to the parallel case.\n",
    "\n",
    "Feel free to experiment with different dipolar interaction parameters $\\lambda$ up to around 4 and different area fractions $\\phi$ up to around 0.4. For higher values the here used simple sampling method is not applicable as the particles form clusters of very high relaxation times exceeding normal simulation times by far. Therefore more advanced methods are necessary to increase the sampling performance.\n",
    "\n",
    "It should also be noted that perhaps thereby one has to decrease the time step as for higher values of the dipolar interaction parameter and the area fraction the interaction between the particles is stronger."
   ]
  },
  {
   "cell_type": "markdown",
   "metadata": {},
   "source": [
    "<a id='[1]'></a>[1] Tamás Kristóf and István Szalai. “Magnetic properties in monolayers of a model\n",
    "polydisperse ferrofluid”. In: Phys. Rev. E 72 (4 Oct. 2005), p. 041105. doi: 10.1103/PhysRevE.72.041105.\n",
    "url: https://link.aps.org/doi/10.1103/PhysRevE.72.041105."
   ]
  }
 ],
 "metadata": {
  "kernelspec": {
   "display_name": "Python 3",
   "language": "python",
   "name": "python3"
  },
  "language_info": {
   "codemirror_mode": {
    "name": "ipython",
    "version": 3
   },
   "file_extension": ".py",
   "mimetype": "text/x-python",
   "name": "python",
   "nbconvert_exporter": "python",
   "pygments_lexer": "ipython3",
   "version": "3.6.8"
  }
 },
 "nbformat": 4,
 "nbformat_minor": 1
}
