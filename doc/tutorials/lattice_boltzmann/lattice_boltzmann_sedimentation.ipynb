{
 "cells": [
  {
   "cell_type": "markdown",
   "id": "71969a58",
   "metadata": {},
   "source": [
    "# Sedimentation in a fluid"
   ]
  },
  {
   "cell_type": "markdown",
   "id": "cfd5131a",
   "metadata": {},
   "source": [
    "The purpose of this tutorial is to demonstrate how hydrodynamic interactions can have a dramatic impact\n",
    "on the overall dynamics of a molecular system. We will set up a simple semi-two-dimensional system of\n",
    "sedimenting particles and simulate their interaction with a solvent.\n",
    "\n",
    "In the first scenario, Langevin dynamics (LD) will model the friction from a \"simple\" implicit solvent.\n",
    "Although LD in general doesn't fully model an implicit solvent due to the lack of contribution\n",
    "for electrostatic screening and the hydrophobic effect, these limitations won't affect this particular\n",
    "simulation, since we represent the sediment particles as electrically neutral and fully solvated beads.\n",
    "\n",
    "LD adds two extra terms to Newton's second law, which account for the friction and\n",
    "random collisions from a solvent:\n",
    "\n",
    "\\begin{equation}\n",
    "m_i \\dot{v}_i(t) = f_i(t) - \\gamma v_i(t) + \\sqrt{2\\gamma k_{\\mathrm{B}} T} \\cdot \\eta_i(t)\n",
    "\\end{equation}\n",
    "\n",
    "with $m_i$, $v_i(t)$, $f_i(t)$ the mass, velocity and forces acting on particle $i$ at time $t$,\n",
    "$\\gamma$ the dampening constant, $k_{\\mathrm{B}}$ the Boltzmann constant, $T$ the temperature,\n",
    "$\\eta_i(t)$ a random uniform number drawn for particle $i$ at time $t$.\n",
    "The second term in the right-hand side is responsible for drag due to friction with the solvent,\n",
    "while the third term is responsible for heat exchange due to collisions with the solvent.\n",
    "This method doesn't capture hydrodynamic effects, since the particles only interact with each\n",
    "other via their inter-atomic potentials; when two particles are further away than their\n",
    "potential cutoff, they cannot interact.\n",
    "\n",
    "In the second scenario, we will use the lattice-Boltzmann (LB) method to model the solvent using\n",
    "a grid-based solver for the Navier-Stokes equation in the limit of a low Reynolds number.\n",
    "Particle–fluid interaction is achieved through momentum exchange via frictional coupling:\n",
    "\n",
    "\\begin{equation}\n",
    "m_i \\dot{v}_i(t) = f_i(t) - \\gamma \\left( v_i(t) - u(x_i(t), t) \\right) + \\sqrt{2\\gamma k_{\\mathrm{B}} T} \\cdot \\eta_i(t)\n",
    "\\end{equation}\n",
    "\n",
    "with $u(x_i(t), t)$ the interpolated fluid velocity at the position of the particle.\n",
    "The frictional term is also back-propagated to the nearest nodes of the LB fluid.\n",
    "While computationally more demanding, this method recovers hydrodynamic effects, i.e. particles\n",
    "in close proximity influence each other due to coupling with the fluid inbetween them, even when\n",
    "their separation distance exceeds the inter-atomic potential cutoff. In addition, the fluid can\n",
    "develop a macroscopic flow field, in which case all particles will influence each other over\n",
    "large distances.\n",
    "\n",
    "We will compare both scenarios by generating a video of the sedimentation dynamics.\n",
    "To make the effect more clearly visible, we will not couple the particles and fluid to\n",
    "a thermal bath."
   ]
  },
  {
   "cell_type": "markdown",
   "id": "f336eb5e",
   "metadata": {},
   "source": [
    "## System setup"
   ]
  },
  {
   "cell_type": "code",
   "execution_count": null,
   "id": "a27b6288",
   "metadata": {},
   "outputs": [],
   "source": [
    "import espressomd\n",
    "import espressomd.lb\n",
    "import espressomd.shapes\n",
    "import espressomd.observables\n",
    "import espressomd.accumulators\n",
    "\n",
    "espressomd.assert_features([\"LENNARD_JONES\", \"WALBERLA\"])\n",
    "\n",
    "# imports for data handling, plotting, and progress bar\n",
    "import tqdm\n",
    "import numpy as np\n",
    "import matplotlib.pyplot as plt"
   ]
  },
  {
   "cell_type": "markdown",
   "id": "6d83932b",
   "metadata": {},
   "source": [
    "The initial particles positions will be chosen to form a two-dimensional hexagonal Bravais lattice structure.\n",
    "The spacing we use is large enough for the particles not to interact initially. If particles were positioned\n",
    "closer, they would rearrange to minimize the interaction energy, breaking up the initial structure.\n",
    "\n",
    "We setup the simulation box such that the particle structure is periodically repeated in $x$-direction."
   ]
  },
  {
   "cell_type": "code",
   "execution_count": null,
   "id": "67f02130",
   "metadata": {},
   "outputs": [],
   "source": [
    "def hexagonal_lattice(n_rows, parts_per_row, spacing):\n",
    "    positions = np.array([[x + 0.12 + (0.5 if y % 2 == 1 else 0),\n",
    "                           y * np.sqrt(3) / 2, 0]\n",
    "                          for x in range(parts_per_row)\n",
    "                          for y in range(n_rows)]) * spacing\n",
    "    return positions"
   ]
  },
  {
   "cell_type": "markdown",
   "id": "dcffadfe",
   "metadata": {},
   "source": [
    "Now, we are ready to define the system parameters and initialize the simulation system."
   ]
  },
  {
   "cell_type": "code",
   "execution_count": null,
   "id": "a11dc489",
   "metadata": {},
   "outputs": [],
   "source": [
    "# WCA potential parameters\n",
    "lj_sigma = 1.\n",
    "lj_epsilon = 1.\n",
    "lj_cutoff = 2**(1. / 6.) * lj_sigma\n",
    "\n",
    "# lattice spacing and number of lattice rows to use\n",
    "spacing = lj_cutoff\n",
    "n_rows = 10\n",
    "\n",
    "# system size in units of lattice spacing\n",
    "n_height = 50\n",
    "n_width = 20\n",
    "n_depth = 2\n",
    "\n",
    "# resulting box geometry\n",
    "box_height = n_height * spacing\n",
    "box_width = n_width * spacing\n",
    "box_depth = n_depth * spacing\n",
    "\n",
    "# system setup\n",
    "system = espressomd.System(box_l=[box_width, box_height, box_depth])\n",
    "system.time_step = 0.01\n",
    "system.cell_system.skin = 0.4\n",
    "\n",
    "# add non-bonded WCA interaction\n",
    "system.non_bonded_inter[0, 0].lennard_jones.set_params(\n",
    "    epsilon=lj_epsilon, sigma=lj_sigma, cutoff=lj_cutoff, shift=\"auto\")"
   ]
  },
  {
   "cell_type": "markdown",
   "id": "778f55ca",
   "metadata": {},
   "source": [
    "We add a wall constraint on bottom and top of the simulation box, respectively.\n",
    "\n",
    "**Exercise:**\n",
    "* set up two wall constraints ``wall_shape_b`` (bottom) and ``wall_shape_t`` (top) in the *xz*-plane\n",
    "  at a distance of 1 unit from the top and bottom sides of the box\n",
    "  ([user guide](https://espressomd.github.io/doc/espressomd.html#espressomd.shapes.Wall))\n",
    "* add these two shapes to the system constraints using particle type 0\n",
    "  ([user guide](https://espressomd.github.io/doc/constraints.html#adding-shape-based-constraints-to-the-system))"
   ]
  },
  {
   "cell_type": "code",
   "execution_count": null,
   "id": "71a2590a",
   "metadata": {},
   "outputs": [],
   "source": [
    "# SOLUTION CELL\n",
    "# create wall shapes bottom (b) and top (t)\n",
    "wall_shape_b = espressomd.shapes.Wall(normal=[0, 1, 0], dist=1)\n",
    "wall_shape_t = espressomd.shapes.Wall(\n",
    "    normal=[0, -1, 0], dist=-(box_height - 1))\n",
    "\n",
    "# add wall constraints\n",
    "for wall_shape in [wall_shape_b, wall_shape_t]:\n",
    "    system.constraints.add(shape=wall_shape, particle_type=0)"
   ]
  },
  {
   "cell_type": "code",
   "execution_count": null,
   "id": "106acffb",
   "metadata": {},
   "outputs": [],
   "source": []
  },
  {
   "cell_type": "markdown",
   "id": "ea4057cc",
   "metadata": {},
   "source": [
    "We will now calculate the particle initial positions and introduce a small crystalline defect to\n",
    "help break the symmetry of the system.\n",
    "We will also configure an external force acting on all particles, which models the effect of gravity."
   ]
  },
  {
   "cell_type": "code",
   "execution_count": null,
   "id": "f807527b",
   "metadata": {},
   "outputs": [],
   "source": [
    "# gravitational force\n",
    "f_gravity = [0., -3., 0.]\n",
    "\n",
    "# number of frames in the output trajectory\n",
    "sampling_steps = 700\n",
    "\n",
    "# lattice positions\n",
    "initial_positions = hexagonal_lattice(n_rows, n_width, spacing)\n",
    "\n",
    "# introduce a small imperfection in the initial lattice structure\n",
    "initial_positions[99, 0] += 0.15 * spacing\n",
    "initial_positions[109, 0] -= 0.15 * spacing\n",
    "\n",
    "# shift initial positions to the top\n",
    "y_max = np.amax(initial_positions[:, 1])\n",
    "initial_positions += (box_height - 1 - lj_cutoff) - y_max\n",
    "initial_positions = np.remainder(initial_positions, np.copy(system.box_l))\n",
    "\n",
    "# total number of particles\n",
    "n_parts = n_rows * n_width\n",
    "assert initial_positions.shape == (n_parts, 3)"
   ]
  },
  {
   "cell_type": "markdown",
   "id": "dc44d3b3",
   "metadata": {},
   "source": [
    "## Langevin dynamics\n",
    "\n",
    "In this scenario, we will sample the sedimentation dynamics using the Langevin thermostat.\n",
    "\n",
    "**Exercise:**\n",
    "* set up an unthermalized Langevin thermostat to add a purely frictional term to the equations\n",
    "  of motion with $\\gamma=15$\n",
    "  ([user guide](https://espressomd.github.io/doc/integration.html#langevin-thermostat))"
   ]
  },
  {
   "cell_type": "code",
   "execution_count": null,
   "id": "55960560",
   "metadata": {},
   "outputs": [],
   "source": [
    "# SOLUTION CELL\n",
    "system.thermostat.set_langevin(kT=0., gamma=15., seed=12)"
   ]
  },
  {
   "cell_type": "code",
   "execution_count": null,
   "id": "4fd712ff",
   "metadata": {},
   "outputs": [],
   "source": []
  },
  {
   "cell_type": "markdown",
   "id": "f093b544",
   "metadata": {},
   "source": [
    "We can now sample the particle positions as a function of time.\n",
    "We will use a particle observable and an accumulator to record the trajectory."
   ]
  },
  {
   "cell_type": "code",
   "execution_count": null,
   "id": "5d578efc",
   "metadata": {},
   "outputs": [],
   "source": [
    "parts = system.part.add(pos=initial_positions, ext_force=[f_gravity] * n_parts)\n",
    "obs_particle_pos = espressomd.observables.ParticlePositions(ids=list(range(n_parts)))\n",
    "acc_particle_pos = espressomd.accumulators.TimeSeries(obs=obs_particle_pos, delta_N=1)\n",
    "\n",
    "system.integrator.run(0)\n",
    "\n",
    "for step in tqdm.tqdm(range(sampling_steps)):\n",
    "    acc_particle_pos.update()\n",
    "    system.integrator.run(25)\n",
    "\n",
    "data_ld = np.remainder(np.reshape(acc_particle_pos.time_series(), (-1, n_parts, 3)), system.box_l)"
   ]
  },
  {
   "cell_type": "markdown",
   "id": "c9b747b7",
   "metadata": {},
   "source": [
    "We will now disable the thermostat, reset the particles to their initial positions and zero out particle velocities."
   ]
  },
  {
   "cell_type": "code",
   "execution_count": null,
   "id": "9f1bcb2a",
   "metadata": {},
   "outputs": [],
   "source": [
    "parts.pos = initial_positions\n",
    "parts.v = [0, 0, 0]\n",
    "system.thermostat.turn_off()"
   ]
  },
  {
   "cell_type": "markdown",
   "id": "72b4c682",
   "metadata": {},
   "source": [
    "## Hydrodynamics"
   ]
  },
  {
   "cell_type": "markdown",
   "id": "53d59163",
   "metadata": {},
   "source": [
    "In this scenario, we want to sample the same system coupled to a lattice-Boltzmann fluid.\n",
    "\n",
    "**Exercise:**\n",
    "* create an unthermalized lattice-Boltzmann object with viscosity 1, density 1, grid size equal to\n",
    "  ``spacing`` and LB time step equal to the MD time step and add this object to the system\n",
    "  ([user guide](https://espressomd.github.io/doc/lb.html#setting-up-a-lb-fluid))\n",
    "* activate particle coupling to the fluid by setting the LB thermostat with $\\gamma=15$\n",
    "  ([user guide](https://espressomd.github.io/doc/lb.html#coupling-lb-to-a-md-simulation))"
   ]
  },
  {
   "cell_type": "code",
   "execution_count": null,
   "id": "76113ae5",
   "metadata": {},
   "outputs": [],
   "source": [
    "# SOLUTION CELL\n",
    "lbf = espressomd.lb.LBFluidWalberla(agrid=spacing,\n",
    "                                    density=1.,\n",
    "                                    kinematic_viscosity=1.,\n",
    "                                    tau=system.time_step, kT=0.)\n",
    "system.lb = lbf\n",
    "system.thermostat.set_lb(LB_fluid=lbf, gamma=15., seed=0)"
   ]
  },
  {
   "cell_type": "code",
   "execution_count": null,
   "id": "e92214c9",
   "metadata": {},
   "outputs": [],
   "source": []
  },
  {
   "cell_type": "markdown",
   "id": "ca56c3a4",
   "metadata": {},
   "source": [
    "The wall constraints that were previously added now have to be registered as LB boundaries.\n",
    "\n",
    "**Exercise:**\n",
    "* convert the wall shapes to LB boundaries and add them to the system list of LB boundaries\n",
    "  ([user guide](https://espressomd.github.io/doc/lb.html#setting-up-boundary-conditions))"
   ]
  },
  {
   "cell_type": "code",
   "execution_count": null,
   "id": "a1da7cc2",
   "metadata": {},
   "outputs": [],
   "source": [
    "# SOLUTION CELL\n",
    "# add LB boundaries\n",
    "for wall_shape in [wall_shape_b, wall_shape_t]:\n",
    "    lbf.add_boundary_from_shape(wall_shape)"
   ]
  },
  {
   "cell_type": "code",
   "execution_count": null,
   "id": "b05ea198",
   "metadata": {},
   "outputs": [],
   "source": []
  },
  {
   "cell_type": "markdown",
   "id": "b2a4deaf",
   "metadata": {},
   "source": [
    "We will plot the fluid flow field in the final video using 2D vectors.\n",
    "To this end, we need to record the fluid trajectory with the same frequency as the particle positions.\n",
    "\n",
    "**Exercise:**\n",
    "* create a LB velocity profile in Cartesian coordinates\n",
    "  ([user guide](https://espressomd.github.io/doc/espressomd.html#espressomd.observables.LBVelocityProfile))\n",
    "* register that observable in a time series accumulator named ``acc_lb_vel``\n",
    "  ([user guide](https://espressomd.github.io/doc/analysis.html#time-series))\n",
    "\n",
    "**Hints:**\n",
    "* the velocity observable takes parameters in MD units, not LB units\n",
    "* there is no fluid inside the top an bottom boundaries, therefore the number of bins for the *y*-axis\n",
    "  is smaller than ``n_height`` by 2 units (parameters ``min_y`` and ``max_y`` are also affected)\n",
    "* use ``n_z_bins=1`` to average the velocity along the *z*-direction\n",
    "* for ``sampling_delta_*`` and ``sampling_offset_*``, use ``spacing`` and ``0.5 * spacing`` respectively"
   ]
  },
  {
   "cell_type": "code",
   "execution_count": null,
   "id": "a18ee853",
   "metadata": {},
   "outputs": [],
   "source": [
    "# SOLUTION CELL\n",
    "obs_lb_vel = espressomd.observables.LBVelocityProfile(\n",
    "    n_x_bins=n_width,\n",
    "    n_y_bins=n_height - 2,  # skip data inside the LB boundaries (top and bottom walls)\n",
    "    n_z_bins=1,             # averaged velocity along the z-direction\n",
    "    min_x=0.0,\n",
    "    min_y=spacing,\n",
    "    min_z=0.0,\n",
    "    max_x=system.box_l[0],\n",
    "    max_y=system.box_l[1] - spacing,\n",
    "    max_z=system.box_l[2],\n",
    "    sampling_delta_x=spacing,\n",
    "    sampling_delta_y=spacing,\n",
    "    sampling_delta_z=spacing,\n",
    "    sampling_offset_x=0.5 * spacing,\n",
    "    sampling_offset_y=0.5 * spacing,\n",
    "    sampling_offset_z=0.5 * spacing,\n",
    "    allow_empty_bins=True)\n",
    "acc_lb_vel = espressomd.accumulators.TimeSeries(obs=obs_lb_vel, delta_N=1)"
   ]
  },
  {
   "cell_type": "code",
   "execution_count": null,
   "id": "8f4c3326",
   "metadata": {},
   "outputs": [],
   "source": []
  },
  {
   "cell_type": "markdown",
   "id": "31e5cc87",
   "metadata": {},
   "source": [
    "We can now sample the particle positions and fluid velocity as a function of time."
   ]
  },
  {
   "cell_type": "code",
   "execution_count": null,
   "id": "c01e143e",
   "metadata": {},
   "outputs": [],
   "source": [
    "obs_particle_pos = espressomd.observables.ParticlePositions(ids=list(range(n_parts)))\n",
    "acc_particle_pos = espressomd.accumulators.TimeSeries(obs=obs_particle_pos, delta_N=1)\n",
    "\n",
    "for step in tqdm.tqdm(range(sampling_steps)):\n",
    "    acc_lb_vel.update()\n",
    "    acc_particle_pos.update()\n",
    "    system.integrator.run(25)\n",
    "\n",
    "data_lb = np.remainder(np.reshape(acc_particle_pos.time_series(), (-1, n_parts, 3)), system.box_l)\n",
    "data_flowfield = acc_lb_vel.time_series()[:, :, :, 0, 0:2]"
   ]
  },
  {
   "cell_type": "markdown",
   "id": "f225cd58",
   "metadata": {},
   "source": [
    "## Visualization\n",
    "\n",
    "Now let's visualize the data. First some imports and definitions for inline visualization."
   ]
  },
  {
   "cell_type": "code",
   "execution_count": null,
   "id": "db083422",
   "metadata": {},
   "outputs": [],
   "source": [
    "import matplotlib.animation as animation\n",
    "import matplotlib.quiver\n",
    "import tempfile\n",
    "import base64\n",
    "\n",
    "VIDEO_TAG = \"\"\"<video controls>\n",
    " <source src=\"data:video/x-m4v;base64,{0}\" type=\"video/mp4\">\n",
    " Your browser does not support the video tag.\n",
    "</video>\"\"\"\n",
    "\n",
    "# set ignore 'divide' and 'invalid' errors\n",
    "# these occur when plotting the flowfield containing a zero velocity\n",
    "np.seterr(divide='ignore', invalid='ignore')\n",
    "\n",
    "def anim_to_html(anim):\n",
    "    if not hasattr(anim, '_encoded_video'):\n",
    "        with tempfile.NamedTemporaryFile(suffix='.mp4') as f:\n",
    "            anim.save(f.name, fps=20, extra_args=['-vcodec', 'libx264'])\n",
    "            with open(f.name, \"rb\") as g:\n",
    "                video = g.read()\n",
    "        anim._encoded_video = base64.b64encode(video).decode('ascii')\n",
    "        plt.close(anim._fig)\n",
    "    return VIDEO_TAG.format(anim._encoded_video)\n",
    "\n",
    "animation.Animation._repr_html_ = anim_to_html"
   ]
  },
  {
   "cell_type": "markdown",
   "id": "7fefebcb",
   "metadata": {},
   "source": [
    "And now the actual visualization code.\n",
    "\n",
    "Note: if Jupyter encapsulates the video in a scrollable area, click on the ``Out[]:`` text to the left of\n",
    "the output cell to toggle auto-scrolling off. This can also be achieved by hitting the key combination\n",
    "Shift+O after highlighting the output cell."
   ]
  },
  {
   "cell_type": "code",
   "execution_count": null,
   "id": "d67242dd",
   "metadata": {
    "scrolled": false
   },
   "outputs": [],
   "source": [
    "# setup figure and prepare axes\n",
    "fig = plt.figure(figsize=(2 * 5, 5 / box_width * box_height))\n",
    "gs = fig.add_gridspec(1, 2, wspace=0.1)\n",
    "ax1 = plt.subplot(gs[0])\n",
    "ax2 = plt.subplot(gs[1], sharey=ax1)\n",
    "\n",
    "ax1.set_title(\"Langevin\")\n",
    "ax1.set_xlim((0, box_width))\n",
    "ax1.set_ylim((0, box_height))\n",
    "\n",
    "ax2.set_title(\"LB Fluid\")\n",
    "ax2.set_xlim((0, box_width))\n",
    "ax2.set_ylim((0, box_height))\n",
    "\n",
    "# draw walls\n",
    "for ax in [ax1, ax2]:\n",
    "    ax.hlines((1, box_height-1), 0, box_width, color=\"gray\")\n",
    "\n",
    "# create meshgrid for quiver plot\n",
    "xs = np.array([x for x in range(n_width)]) * spacing\n",
    "ys = np.array([y for y in range(1, n_height-1)]) * spacing\n",
    "X, Y = np.meshgrid(xs, ys)\n",
    "\n",
    "# create a transposed flow field for quiver plot\n",
    "data_flowfield_t = np.transpose(data_flowfield, axes=(0, 2, 1, 3))\n",
    "\n",
    "# set quiver scale (fraction of the highest velocity in the XY plane)\n",
    "lb_vel_max = np.sum(np.square(data_flowfield), axis=-1)\n",
    "quiver_scale = np.sqrt(np.max(lb_vel_max))\n",
    "\n",
    "def plot_lb_vel(ax, X, Y, flowfield, t, scale):\n",
    "    return ax.quiver(X, Y,\n",
    "                     flowfield[t, :, :, 0],\n",
    "                     flowfield[t, :, :, 1],\n",
    "                     scale_units=\"xy\", scale=scale)\n",
    "\n",
    "# initialize plot objects\n",
    "lb_ff = plot_lb_vel(ax2, X, Y, data_flowfield_t, 0, quiver_scale)\n",
    "lb_particles, = ax2.plot([], [], 'o')\n",
    "ld_particles, = ax1.plot([], [], 'o')\n",
    "\n",
    "def draw_frame(t):\n",
    "    # manually remove Quivers from ax2\n",
    "    for artist in ax2.get_children():\n",
    "        if isinstance(artist, matplotlib.quiver.Quiver):\n",
    "            artist.remove()\n",
    "\n",
    "    # draw new quivers\n",
    "    lb_ff = plot_lb_vel(ax2, X, Y, data_flowfield_t, t, quiver_scale)\n",
    "\n",
    "    # draw particles\n",
    "    ld_particles.set_data(data_ld[t, :, 0], data_ld[t, :, 1])\n",
    "    lb_particles.set_data(data_lb[t, :, 0], data_lb[t, :, 1])\n",
    "\n",
    "    return [ld_particles, lb_particles, lb_ff]\n",
    "\n",
    "animation.FuncAnimation(fig, draw_frame, frames=sampling_steps, blit=True, interval=0, repeat=False)"
   ]
  }
 ],
 "metadata": {
  "kernelspec": {
   "display_name": "Python 3",
   "language": "python",
   "name": "python3"
  },
  "language_info": {
   "codemirror_mode": {
    "name": "ipython",
    "version": 3
   },
   "file_extension": ".py",
   "mimetype": "text/x-python",
   "name": "python",
   "nbconvert_exporter": "python",
   "pygments_lexer": "ipython3",
   "version": "3.9.12"
  }
 },
 "nbformat": 4,
 "nbformat_minor": 5
}
