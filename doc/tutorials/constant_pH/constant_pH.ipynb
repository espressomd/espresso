{
 "cells": [
  {
   "cell_type": "markdown",
   "id": "ac4ec17f",
   "metadata": {},
   "source": [
    "# The constant-pH ensemble method for acid-base reactions"
   ]
  },
  {
   "cell_type": "markdown",
   "id": "d28d86e7",
   "metadata": {},
   "source": [
    "## Expected prior knowledge\n",
    "\n",
    "To work with this tutorial, you should be familiar with the following topics:\n",
    "* Setting up and running simulations in ESPResSo - creating particles, interactions, electrostatics\n",
    "* Basic knowledge of chemistry, chemical reaction equilibria and specifically acid-base equilibria\n",
    "* Thermodynamics, especially chemical potentials and activities\n",
    "* Reduced units, as described in the [ESPResSo user guide](https://espressomd.github.io/doc/introduction.html#on-units)"
   ]
  },
  {
   "cell_type": "markdown",
   "id": "1bf00c68",
   "metadata": {},
   "source": [
    "## Introduction\n",
    "\n",
    "This tutorial introduces the basic features for simulating titratable systems via the constant $\\mathrm{pH}$ method.\n",
    "It is one of the methods implemented within the Reaction Ensemble module for simulating systems which involve chemical reaction equilibria. It is a Monte Carlo method designed to model an acid-base ionization reaction at a prescribed value of solution $\\mathrm{pH}$.\n",
    "\n",
    "To start with, consider a homogeneous aqueous solution of a titratable acidic species $\\mathrm{HA}$ that can dissociate in a reaction\n",
    "$$\\mathrm{HA} \\Leftrightarrow \\mathrm{A}^- + \\mathrm{H}^+ ,$$\n",
    "characterized by the equilibrium constant $\\mathrm{p}K_{\\mathrm{A}} = -\\log_{10} K_{\\mathrm{A}}$\n",
    "\n",
    "The ionization degree $\\alpha$ is defined as the fraction of ionized form of the acid $\\mathrm{A}$, relative to its total amount, given by the sum of both, ionized and non-ionized form. By introducing $N_{\\mathrm{A}} = N_{\\mathrm{HA}} + N_{\\mathrm{A}^-}$ as the total number of titratable groups in solution, we can express the degree of dissociation $\\alpha$ as:\n",
    "\n",
    "$$\\alpha = \\dfrac{ N_{\\mathrm{A}^-} }{N_{\\mathrm{HA}} + N_{\\mathrm{A}^-}} = \\dfrac{ N_{\\mathrm{A}^-} }{ N_{\\mathrm{A}} }.$$\n",
    "\n",
    "The ionization degree is one of the key quantities that can be used to describe the acid-base equilibrium. Usually, the goal of the simulation is to predict the value of $\\alpha$ under given conditions in a complex system with interactions."
   ]
  },
  {
   "cell_type": "markdown",
   "id": "160bd8a5",
   "metadata": {},
   "source": [
    "### The chemical equilibrium and reaction constant\n",
    "\n",
    "The equilibrium reaction constant describes the chemical equilibrium of a given reaction. The values of equilibrium constants for various reactions can be found in tables. The equilibrium constant of dissociation of a weak acid is conventionally called the acidity constant, and it is defined as\n",
    "$$\n",
    "K_{\\mathrm{A}} = \\frac{a_{\\mathrm{H}^+} a_{\\mathrm{A}^-} } {a_{\\mathrm{HA}}}\n",
    "$$\n",
    "where $a_i$ is the activity of species $i$. The activity $a_i$ is related to the chemical potential $\\mu_i$ and to the concentration $c_i$\n",
    "$$\n",
    "\\mu_i = \\mu_i^\\mathrm{\\ominus} + k_{\\mathrm{B}}T \\ln a_i\n",
    "\\,,\\qquad\n",
    "a_i = \\frac{c_i \\gamma_i}{c^{\\ominus}}\\,,\n",
    "$$\n",
    "where $\\gamma_i$ is the activity coefficient, and $c^{\\ominus}$ is the (arbitrary) reference concentration, often chosen to be the standard concentration, $c^{\\ominus} = 1\\,\\mathrm{mol/L}$, and $\\mu_i^\\mathrm{\\ominus}$ is the chemical potential in the reference state.\n",
    "Note that $K_{\\mathrm{A}}$ is a dimensionless quantity.\n",
    "Its numerical value depends on the choice of $c^{\\ominus}$ but the thermodynamics is independent of this choice.\n",
    "The activity coefficient, $\\gamma_i$, accounts for the effect of interactions on the chemical potential.\n",
    "Therefore, by definition, $\\gamma_i=1$ for an ideal system, whereas for an interacting system $\\gamma_i$ is a non-trivial function of the interactions. For an ideal system we can rewrite $K_{\\mathrm{A}}$ in terms of equilibrium concentrations of the reacting species\n",
    "$$\n",
    "K_{\\mathrm{A}} \\overset{\\mathrm{ideal}}{=} \\frac{c_{\\mathrm{H}^+} c_{\\mathrm{A}^-} } {c_{\\mathrm{HA}} c^{\\ominus}}\n",
    "$$\n",
    "\n",
    "In the chemical literature, the ionization degree is usually expressed in terms of the concentrations\n",
    "$$\n",
    "\\alpha \n",
    "= \\frac{N_{\\mathrm{A}^-}}{N_{\\mathrm{HA}} + N_{\\mathrm{A}^-}}\n",
    "= \\frac{c_{\\mathrm{A}^-}}{c_{\\mathrm{HA}}+c_{\\mathrm{A}^-}}\n",
    "= \\frac{c_{\\mathrm{A}^-}}{c_{\\mathrm{A}}}\n",
    "$$\n",
    "where $c_{\\mathrm{A}}=c_{\\mathrm{HA}}+c_{\\mathrm{A}^-}$ is the total (analytical) concentration of titratable acid groups, irrespective of their ionization state.\n",
    "Then, we can characterize the acid-base ionization equilibrium using the ionization degree and $\\mathrm{pH}$, defined as\n",
    "$$\n",
    "\\mathrm{pH} = -\\log_{10} a_{\\mathrm{H^{+}}} \\overset{\\mathrm{ideal}}{=} -\\log_{10} (c_{\\mathrm{H^{+}}} / c^{\\ominus})\n",
    "$$\n",
    "Note that the second equality is valid only in the ideal case.\n",
    "Substituting for the ionization degree and $\\mathrm{pH}$ into the expression for $K_{\\mathrm{A}}$ we obtain the Henderson-Hasselbalch equation\n",
    "$$\n",
    "\\mathrm{pH}-\\mathrm{p}K_{\\mathrm{A}} = \\log_{10} \\frac{\\alpha}{1-\\alpha}\n",
    "$$\n",
    "One implication of the Henderson-Hasselbalch equation is that at a fixed $\\mathrm{pH}$ value the ionization degree of an ideal acid is independent of concentration. Another implication is that the degree of ionization depends only on the difference, $\\mathrm{pH}-\\mathrm{p}K_{\\mathrm{A}}$ but not on the absolute values of $\\mathrm{p}K_{\\mathrm{A}}$ and $\\mathrm{pH}$ alone.\n",
    "Therefore, for an ideal system, the ionization degree $\\alpha$ can be obtained from the equation via the following function:"
   ]
  },
  {
   "cell_type": "code",
   "execution_count": null,
   "id": "76c9dbf1",
   "metadata": {},
   "outputs": [],
   "source": [
    "# ionization degree alpha calculated from the Henderson-Hasselbalch equation for an ideal system\n",
    "def ideal_alpha(pH, pK):\n",
    "    return 1. / (1 + 10**(pK - pH))"
   ]
  },
  {
   "cell_type": "markdown",
   "id": "7910719e",
   "metadata": {},
   "source": [
    "### The constant pH method\n",
    "\n",
    "The constant $\\mathrm{pH}$ method <a href='#[Reed1992]'>[Reed1992]</a> has been designed to simulate an acid-base ionization reaction at a given $\\mathrm{pH}$. It assumes that $\\mathrm{pH}$ in the system is constant, independent of the ionization degree. In a real solution, the ionization reaction generates an $\\mathrm{H^+}$ ion, that immediately reacts with the buffer that has been added to the solution in order to keep the $\\mathrm{pH}$ (approximately) constant. Effectively, the net reaction can be written as \n",
    "$$\\mathrm{HA} \\Leftrightarrow \\mathrm{A}^- + \\mathrm{B}^+ ,$$\n",
    "where we use $\\mathrm{B}^+$ to denote a generic neutralizing counterion that could be either the $\\mathrm{H}^+$ ion, or another cation that is generated by the reaction of the $\\mathrm{H}^+$ ion with the buffer.\n",
    "In the literature, this counterion is often denoted as $\\mathrm{H^+}$, however, this may lead to confusion because then the actual number of $\\mathrm{H^+}$ ions in the box does not correspond to their concentration implied by the fixed value of the $\\mathrm{pH}$.\n",
    "\n",
    "In ESPResSo, the forward step of the ionization reaction (from left to right) is implemented by \n",
    "changing the chemical identity (particle type) of a randomly selected $\\mathrm{HA}$ particle to $\\mathrm{A}^-$, and inserting another particle that represents a neutralizing counterion. In the reverse direction (from right to left), the chemical identity (particle type) of a randomly selected $\\mathrm{A}^{-}$ is changed to $\\mathrm{HA}$, and a randomly selected $\\mathrm{B}^+$ is deleted from the simulation box. The probability of proposing the  forward reaction step is $P_\\mathrm{for}=N_\\mathrm{HA}/N_\\mathrm{A}$, and probability of proposing the reverse step is $P_\\mathrm{rev}=N_\\mathrm{A^{-}}/N_\\mathrm{A} = 1 - P_\\mathrm{for}$. The trial move is accepted with the acceptance probability\n",
    "\n",
    "$$ P_{\\mathrm{acc}} = \\operatorname{min}\\left(1, \\exp(-\\beta \\Delta E_\\mathrm{pot} \\pm \\ln(10) \\cdot (\\mathrm{pH - p}K_A) ) \\right)$$\n",
    "\n",
    "Here $\\Delta E_\\text{pot}$ is the potential energy change due to the reaction, while $\\text{pH - p}K_\\mathrm{A}$ is an input parameter. \n",
    "The signs $\\pm 1$ correspond to the forward and reverse direction of the ionization reaction, respectively. "
   ]
  },
  {
   "cell_type": "markdown",
   "id": "9677c09d",
   "metadata": {},
   "source": [
    "## Simulation setup\n",
    "\n",
    "First we import all necessary modules including ESPResSo for simulations and others for convenience."
   ]
  },
  {
   "cell_type": "code",
   "execution_count": null,
   "id": "6dd0c277",
   "metadata": {},
   "outputs": [],
   "source": [
    "%matplotlib inline\n",
    "import matplotlib.pyplot as plt\n",
    "plt.rcParams.update({'font.size': 18})\n",
    "\n",
    "import numpy as np\n",
    "import pint  # module for working with units and dimensions\n",
    "import time\n",
    "\n",
    "import espressomd\n",
    "espressomd.assert_features(['WCA', 'ELECTROSTATICS'])\n",
    "import espressomd.electrostatics\n",
    "import espressomd.reaction_methods\n",
    "import espressomd.polymer\n",
    "import espressomd.zn\n",
    "from espressomd.interactions import HarmonicBond"
   ]
  },
  {
   "cell_type": "markdown",
   "id": "8a744f51",
   "metadata": {},
   "source": [
    "The package [pint](https://pint.readthedocs.io/en/stable/) is intended to make handling of physical quantities with different units easy. You simply create an instance of [`pint.UnitRegistry`](https://pint.readthedocs.io/en/stable/developers_reference.html#pint.UnitRegistry) and access its unit definitions and automatic conversions. For more information or a quick introduction please look at the [pint-documentation](https://pint.readthedocs.io/en/stable/) or [pint-tutorials](https://pint.readthedocs.io/en/stable/tutorial.html#tutorial)."
   ]
  },
  {
   "cell_type": "code",
   "execution_count": null,
   "id": "c8e15834",
   "metadata": {},
   "outputs": [],
   "source": [
    "ureg = pint.UnitRegistry()"
   ]
  },
  {
   "cell_type": "markdown",
   "id": "65800134",
   "metadata": {},
   "source": [
    "The inputs that we need to define our system in the simulation include\n",
    "\n",
    "* temperature `TEMPERATURE`\n",
    "* relative permittivity of water `WATER_PERMITTIVITY`\n",
    "* Bjerrum length `BJERRUM_LENGTH` \n",
    "* concentration of the titratable units `C_ACID`\n",
    "* system size (given by the number of titratable units) `N_ACID`\n",
    "* concentration of added salt `C_SALT`\n",
    "* dissociation constant `pK`\n",
    "* `pH`\n",
    "* types of non-bonded interactions we want to use \n",
    "* particle types `TYPES` and charges `CHARGES` and their mapping to espresso"
   ]
  },
  {
   "cell_type": "markdown",
   "id": "a896dbe6",
   "metadata": {},
   "source": [
    "### Set the reduced units of energy and length\n",
    "\n",
    "We start by setting the desired temperature $T$ using the variable `TEMPERATURE`, particle size $\\sigma$ using the variable `PARTICLE_SIZE` and the relative permittivity $\\varepsilon_{\\mathrm{r}}$ of the aqueous medium at this temperature, using the variable `WATER_PERMITTIVITY`.\n",
    "\n",
    "Another important length scale is the `BJERRUM_LENGTH` which has the physical meaning of the distance, at which the interaction energy between two elementary charges is equal to $k_{\\mathrm{B}}T$:\n",
    "$$ l_{\\mathrm{B}} = \\frac{e^2}{4\\pi \\varepsilon_0 \\varepsilon_{\\mathrm{r}} k_{\\mathrm{B}} T} $$\n",
    "\n",
    "Next, we use the above values to define the conversion factors between the values of input parameters in the SI units and the reduced units of length and energy that ESPResSo requires as inputs.\n",
    "\n",
    "In coarse-grained models of aqueous solutions, it is customary to set the size of ions to approximately $\\sigma = 0.355\\,\\mathrm{nm}$, that corresponds to one half of Bjerrum length in water at room temperature $l_{\\mathrm{B}} =0.71\\,\\mathrm{nm}$.\n",
    "We choose the ion size, $\\sigma = 0.355\\,\\mathrm{nm}$, as the unit of length, which we conveniently do by defining a new unit using the pint module.\n",
    "Then, the Bjerrum length should attain the value of 2.0 in the reduced units.\n",
    "The ratio of Bjerrum length to other important length scales in the system is an important parameter that determines the relative strength of the electrostatic interactions.\n",
    "Furthermore, we choose the thermal energy $k_{\\mathrm{B}}T$ as the unit of energy, and the elementary charge $e$ as the unit of charge.\n",
    "\n",
    "When calculating the Bjerrum length in the script, it is convenient to convert the computed value to $\\mathrm{nm}$ using pint, because then it is easier to use in further calculations."
   ]
  },
  {
   "cell_type": "code",
   "execution_count": null,
   "id": "ba76b35b",
   "metadata": {},
   "outputs": [],
   "source": [
    "TEMPERATURE = 298 * ureg.K\n",
    "WATER_PERMITTIVITY = 78.5 # at 298 K\n",
    "KT = TEMPERATURE * ureg.k_B\n",
    "PARTICLE_SIZE = 0.355 * ureg.nm\n",
    "BJERRUM_LENGTH = (ureg.e**2 / (4 * ureg.pi * ureg.eps0 * WATER_PERMITTIVITY * KT)).to('nm')\n",
    "\n",
    "ureg.define(f'reduced_energy = {TEMPERATURE} * boltzmann_constant')\n",
    "ureg.define(f'reduced_length = {PARTICLE_SIZE}')\n",
    "ureg.define(f'reduced_charge = 1*e')\n",
    "\n",
    "# store the values of some parameters in dimensionless reduced units, that will be later passed to ESPResSo\n",
    "KT_REDUCED = KT.to('reduced_energy').magnitude\n",
    "BJERRUM_LENGTH_REDUCED = BJERRUM_LENGTH.to('reduced_length').magnitude\n",
    "PARTICLE_SIZE_REDUCED = PARTICLE_SIZE.to('reduced_length').magnitude\n",
    "\n",
    "print(\"KT = {KT.to('reduced_energy'):4.3f}\")\n",
    "print(\"PARTICLE_SIZE = {PARTICLE_SIZE.to('reduced_length'):4.3f}\")\n",
    "print(\"BJERRUM_LENGTH = {BJERRUM_LENGTH.to('reduced_length'):4.3f}\")"
   ]
  },
  {
   "cell_type": "markdown",
   "id": "e2424a62",
   "metadata": {},
   "source": [
    "### Set the key physical parameters that uniquely define the system\n",
    "\n",
    "We want to simulate a solution of polyelectrolyte chains composed of weak acidic groups. \n",
    "The chains are characterized by the number of acidic groups, their $\\mathrm{p}K_{\\mathrm{A}}$ and their concentration in the solution.\n",
    "The polyelectrolytes are dissolved in an aqueous solution of NaCl, further characterized by the salt concentration and by the $\\mathrm{pH}$ value.\n",
    "\n",
    "To specify the system properties, we to define the total number of titratable units `N_ACID`, their concentration `C_ACID` and the salt concentration `C_SALT`. We set the dissociation constant of the acid to $\\mathrm{p}K_\\mathrm{A}=4.88$, that is the acidity constant of propionic acid. The structure of propionic acid resembles the repeating unit of poly(acrylic acid), the most commonly used weak polyacid."
   ]
  },
  {
   "cell_type": "code",
   "execution_count": null,
   "id": "d1b40278",
   "metadata": {},
   "outputs": [],
   "source": [
    "# Parameters that define properties of the system\n",
    "N_ACID = 20\n",
    "C_ACID = 1e-3 * ureg.molar\n",
    "C_SALT = 2 * C_ACID\n",
    "pKa = 4.88  # acidity constant\n",
    "pKw = 14.0  # autoprotolysis constant of water"
   ]
  },
  {
   "cell_type": "markdown",
   "id": "8f2cf0bb",
   "metadata": {},
   "source": [
    "#### Set the range of parameters that we want to vary\n",
    "We will simulate multiple $\\mathrm{pH}$ values, where the range is determined by the parameters `OFFSET` and `NUM_PHS`.\n",
    "The titration curve of the ideal system is symmetric around $\\mathrm{pH} = \\mathrm{p}K_{\\mathrm{A}}$ but the titration curve of the non-ideal system is shifted to higher $\\mathrm{pH}$ values. Therefore, we apply the offset asymmetrically."
   ]
  },
  {
   "cell_type": "code",
   "execution_count": null,
   "id": "64498150",
   "metadata": {},
   "outputs": [],
   "source": [
    "# Number of pH values that we want to sample\n",
    "NUM_PHS = 15  # number of pH values\n",
    "OFFSET = 2.0  # range of pH values to be used = pKa +/- offset\n",
    "\n",
    "pHmin = pKa - 0.5 * OFFSET  # lowest pH value to be used\n",
    "pHmax = pKa + 1.5 * OFFSET  # highest pH value to be used\n",
    "pHs = np.linspace(pHmin, pHmax, NUM_PHS)  # list of pH values"
   ]
  },
  {
   "cell_type": "markdown",
   "id": "bceb15bc",
   "metadata": {},
   "source": [
    "#### Choose which interactions should be activated\n",
    "\n",
    "Here we decide what kind of non-bonded interactions we want to use. By setting `USE_WCA` to `True` the script below creates WCA-interactions between all particles. Setting `USE_ELECTROSTATICS` to `True` will result in electrostatic interactions being turned on. Using electrostatic interactions and differently charged particles always has to be coupled with a short-range-repulsion-interaction, commonly a WCA-interaction.\n",
    "\n",
    "To be able to compare our results to the analytical solutions for ideal systems and to obtain results very quickly, we begin with all non-bonded interactions turned off. In the next runs, we will add the steric repulsion and electrostatic interactions to observe their effect on the ionization.\n",
    "\n",
    "Because it is an interactive tutorial, we want it to be completed within few minutes. Therefore, we choose the Debye-Hückel potential for electrostatics by default. It produces results that are similar to the full electrostatics calculated by the P3M method but we gain about a factor of 5 in the simulation runtime. In this way, we sacrifice accuracy for speed. It's definitely not recommended for production simulations."
   ]
  },
  {
   "cell_type": "code",
   "execution_count": null,
   "id": "bd64c859",
   "metadata": {},
   "outputs": [],
   "source": [
    "# Simulate an interacting system with steric repulsion (Warning: it will be slower than without WCA!)\n",
    "USE_WCA = True\n",
    "# Simulate an interacting system with electrostatics \n",
    "USE_ELECTROSTATICS = False\n",
    "# By default, we use the Debye-Huckel potential because it allows short runtime of the tutorial\n",
    "# You can also use the P3M method for full electrostatics (Warning: it will be much slower than DH!)\n",
    "USE_P3M = False\n",
    "\n",
    "if USE_ELECTROSTATICS:\n",
    "    assert USE_WCA, \"Use electrostatics only with a short-range repulsive potential. Otherwise, singularity occurs at zero distance.\""
   ]
  },
  {
   "cell_type": "markdown",
   "id": "72a9d84e",
   "metadata": {},
   "source": [
    "#### Set the number of samples to be collected\n",
    "\n",
    "For the error analysis we specify the number of blocks `N_BLOCKS` and the desired number of samples per block `DESIRED_BLOCK_SIZE`. From that we can estimate the total number of statistically independent samples that we want to collect `NUM_SAMPLES`. Note that samples collected in our simulations are not really statistically independent, so the actual number of independent samples is always lower than `NUM_SAMPLES`. \n",
    "Therefore, the actual number of independent samples depends on the properties of the simulated system and needs to be estimated at the end of the simulation.\n",
    "We keep the number of samples rather low, so that the tutorial completes fast. If you want to obtain data with a better statistical quality, we encourage you to increase the number of samples."
   ]
  },
  {
   "cell_type": "code",
   "execution_count": null,
   "id": "c02606b8",
   "metadata": {
    "scrolled": true
   },
   "outputs": [],
   "source": [
    "N_BLOCKS = 16  # number of block to be used in data analysis\n",
    "DESIRED_BLOCK_SIZE = 10  # desired number of samples per block\n",
    "\n",
    "PROB_INTEGRATION = 0.6 # Probability of running MD integration after the reaction move. \n",
    "# This parameter changes the speed of convergence but not the limiting result\n",
    "# to which the simulation converges\n",
    "\n",
    "# number of reaction samples per each pH value\n",
    "NUM_SAMPLES = int(N_BLOCKS * DESIRED_BLOCK_SIZE)"
   ]
  },
  {
   "cell_type": "markdown",
   "id": "09b83acd",
   "metadata": {},
   "source": [
    "#### Calculate the dependent parameters\n",
    "After setting all system parameters that can be chosen independently, we calculate additional parameters that are uniquely defined by the choices above and will be used as direct inputs for ESPResSo.\n",
    "\n",
    "From both the specified concentration and number of titratable units we can calculate the box volume `BOX_V`. With our choice of a cubic simulation box we can subsequently determine the box length `BOX_L`.\n",
    "Once the box volume is fixed, the chosen salt concentration and the box volume determine the number of additional salt ion pairs `N_SALT` that should be present in the system.\n",
    "\n",
    "We also calculate the Debye length using the semi-empirical formula from equation 14.36 in chapter 14 of <a href='#[Israelachvili2011]'>[Israelachvili2011]</a>: $\\lambda_{\\mathrm{D}} [\\mathrm{nm}] = \\kappa^{-1} [\\mathrm{nm}] = 0.304/\\sqrt{I(\\mathrm{[M]})} $"
   ]
  },
  {
   "cell_type": "code",
   "execution_count": null,
   "id": "422098fe",
   "metadata": {},
   "outputs": [],
   "source": [
    "BOX_V = (N_ACID / (ureg.avogadro_constant * C_ACID)).to(\"nm^3\")\n",
    "BOX_L = np.cbrt(BOX_V)\n",
    "BOX_L_REDUCED = BOX_L.to('reduced_length').magnitude\n",
    "\n",
    "KAPPA = np.sqrt(C_SALT.to('mol/L').magnitude) / 0.304 / ureg.nm\n",
    "KAPPA_REDUCED = KAPPA.to('1/reduced_length').magnitude\n",
    "print(f\"KAPPA = {KAPPA:.3f}\")\n",
    "print(f\"KAPPA_REDUCED = {KAPPA_REDUCED:.3f}\")\n",
    "print(f\"Debye_length: {1. / KAPPA:.2f} = {(1. / KAPPA).to('reduced_length'):.2f}\")\n",
    "\n",
    "N_SALT = int((C_SALT * BOX_V * ureg.avogadro_constant))\n",
    "print(\"Calculated values:\")\n",
    "print(f\"BOX_L = {BOX_L:.3g} = {BOX_L.to('reduced_length'):.3g}\")\n",
    "print(f\"BOX_V  = {BOX_V:.3g} = {BOX_V.to('reduced_length^3'):.3g}\")\n",
    "print(f\"N_SALT = {N_SALT}\")"
   ]
  },
  {
   "cell_type": "markdown",
   "id": "83067f8d",
   "metadata": {},
   "source": [
    "#### Set the particle types and charges\n",
    "\n",
    "Finally we have to set the particle types we want to simulate and their mapping to ESPResSo-particle-types, as well as particle charges."
   ]
  },
  {
   "cell_type": "code",
   "execution_count": null,
   "id": "ca876c27",
   "metadata": {},
   "outputs": [],
   "source": [
    "# particle types of different species\n",
    "TYPES = {\n",
    "    \"HA\": 0,\n",
    "    \"A\": 1,\n",
    "    \"B\": 2,\n",
    "    \"Na\": 3,\n",
    "    \"Cl\": 4,\n",
    "}\n",
    "# particle charges of different species\n",
    "CHARGES = {\n",
    "    \"HA\": (0 * ureg.e).to(\"reduced_charge\").magnitude,\n",
    "    \"A\": (-1 * ureg.e).to(\"reduced_charge\").magnitude,\n",
    "    \"B\": (+1 * ureg.e).to(\"reduced_charge\").magnitude,\n",
    "    \"Na\": (+1 * ureg.e).to(\"reduced_charge\").magnitude,\n",
    "    \"Cl\": (-1 * ureg.e).to(\"reduced_charge\").magnitude,\n",
    "}"
   ]
  },
  {
   "cell_type": "markdown",
   "id": "5118d349",
   "metadata": {},
   "source": [
    "### Initialize the ESPResSo system\n",
    "\n",
    "When initializing the ESPResSo system, some required parameters must be set.\n",
    "\n",
    "* `box_l` defines the edge length of the cubic simulation box\n",
    "* `time_step` defines the integration step of the MD integration.\n",
    "* `skin` defines the properties of the cell system that do not affect the results but may affect the speed of the calculation, see [user guide](https://espressomd.github.io/doc/system_setup.html?highlight=skin#global-properties) for more details.\n",
    "* `seed` defines the seed of the random number generator used by the ESPResSo system"
   ]
  },
  {
   "cell_type": "code",
   "execution_count": null,
   "id": "698200f1",
   "metadata": {
    "scrolled": true
   },
   "outputs": [],
   "source": [
    "system = espressomd.System(box_l=[BOX_L_REDUCED] * 3)\n",
    "system.time_step = 0.01\n",
    "system.cell_system.skin = 2.0\n",
    "np.random.seed(seed=10)  # initialize the random number generator in numpy"
   ]
  },
  {
   "cell_type": "markdown",
   "id": "1f23634b",
   "metadata": {},
   "source": [
    "### Set up particles and bonded-interactions\n",
    "\n",
    "After defining the simulation parameters, we set up the system that we want to simulate. It is a polyelectrolyte chain with some added salt that is used to control the ionic strength of the solution. \n",
    "\n",
    "First we define the parameters of bonds connecting the polymer particles and add the bonded interaction type to the system.\n",
    "Then we create the particles. Bonded particle positions of a linear polymer can be created via the [`espressomd.polymer.linear_polymer_positions`](https://espressomd.github.io/doc/espressomd.html#espressomd.polymer.linear_polymer_positions), for more details see corresponding [section in the documentation](https://espressomd.github.io/doc/particles.html#setting-up-polymer-chains). Finally we add the $\\mathrm{B}^+$-ions to the system, followed by adding the salt-ion pairs to the system."
   ]
  },
  {
   "cell_type": "code",
   "execution_count": null,
   "id": "04feb53f",
   "metadata": {},
   "outputs": [],
   "source": [
    "# we need to define bonds before creating polymers\n",
    "hb = HarmonicBond(k=30, r_0=1.0)\n",
    "system.bonded_inter.add(hb)\n",
    "\n",
    "# create the polymer positions\n",
    "polymers = espressomd.polymer.linear_polymer_positions(n_polymers=1,\n",
    "                                                       beads_per_chain=N_ACID,\n",
    "                                                       bond_length=0.9, \n",
    "                                                       seed=23)\n",
    "\n",
    "# add the polymer particles composed of ionizable acid groups, initially in the ionized state\n",
    "for polymer in polymers:\n",
    "    prev_particle = None\n",
    "    for position in polymer:\n",
    "        p = system.part.add(pos=position, type=TYPES[\"A\"], q=CHARGES[\"A\"])\n",
    "        if prev_particle:\n",
    "            p.add_bond((hb, prev_particle))\n",
    "        prev_particle = p\n",
    "\n",
    "# add the corresponding number of H+ ions\n",
    "system.part.add(pos=np.random.random((N_ACID, 3)) * BOX_L_REDUCED,\n",
    "                type=[TYPES[\"B\"]] * N_ACID,\n",
    "                q=[CHARGES[\"B\"]] * N_ACID)\n",
    "\n",
    "# add salt ion pairs\n",
    "system.part.add(pos=np.random.random((N_SALT, 3)) * BOX_L_REDUCED,\n",
    "                type=[TYPES[\"Na\"]] * N_SALT,\n",
    "                q=[CHARGES[\"Na\"]] * N_SALT)\n",
    "system.part.add(pos=np.random.random((N_SALT, 3)) * BOX_L_REDUCED,\n",
    "                type=[TYPES[\"Cl\"]] * N_SALT,\n",
    "                q=[CHARGES[\"Cl\"]] * N_SALT)\n",
    "\n",
    "print(f\"The system contains {len(system.part)} particles\")"
   ]
  },
  {
   "cell_type": "markdown",
   "id": "e16b96c1",
   "metadata": {},
   "source": [
    "### Set up non-bonded-interactions\n",
    "\n",
    "If the WCA interaction has been enabled via the `USE_WCA` flag, we activate it for each possible pair of particle types in the system. Afterwards we relax the initial overlaps using the steepest-descent integrator. Then we add the Langevin thermostat to the system and let the system relax further by running `1000` integration steps of the Langevin dynamics.\n",
    "\n",
    "After the initial relaxation we set the electrostatic interactions between the particles if it has been enabled via the `USE_ELECTROSTATICS` flag. For electrostatics can use either the Debye-Hückel `DH` algorithm or the `P3M` algorithm. The `DH` algorithm is based on the Debye-Hückel approximation, the assumptions of which are not satisfied in our simulated system. However, it runs much faster than the `P3M` algorithm, and the approximate result closely resembles the correct one. Therefore, the `DH` algorithm should not be used in production simulations. By using the `DH` algorithm in this tutorial, we sacrifice the accuracy for speed.\n",
    "To obtain an accurate result, we can use the `P3M` algorithm using `accuracy` of $10^{-3}$ as an acceptable tradeoff between accuracy and performance. For production runs it might be necessary to use a lower value of `accuracy`, depending on the simulated system.\n",
    "\n",
    "By default, ESPResSo uses the regular decomposition cell system to speed up the calculation of short-range interactions. However, for a system with small number of particles and without electrostatics, it runs faster with `n_square` cell system. See the [user guide](https://espressomd.github.io/doc/system_setup.html#n-squared) for additional details on the cell systems."
   ]
  },
  {
   "cell_type": "code",
   "execution_count": null,
   "id": "c28c10f8",
   "metadata": {},
   "outputs": [],
   "source": [
    "if USE_WCA:\n",
    "    # set the WCA interaction between all particle pairs\n",
    "    wca_sigma = 1.0\n",
    "    wca_epsilon = 1.0\n",
    "    for type_1 in TYPES.values():\n",
    "        for type_2 in TYPES.values():\n",
    "            if type_1 >= type_2:\n",
    "                system.non_bonded_inter[type_1, type_2].wca.set_params(epsilon=wca_epsilon, sigma=wca_sigma)\n",
    "\n",
    "    # relax the overlaps with steepest descent\n",
    "    mass = 1.0\n",
    "    FMAX = 0.01 * wca_sigma * mass / system.time_step**2\n",
    "\n",
    "    system.integrator.set_steepest_descent(\n",
    "        f_max=FMAX,\n",
    "        gamma=0.1,\n",
    "        max_displacement=0.1)\n",
    "\n",
    "    system.integrator.run(5000)\n",
    "    assert np.all(np.abs(system.part.all().f)<FMAX), \"Overlap removal did not converge!\"\n",
    "\n",
    "    # to switch back to velocity Verlet\n",
    "    system.integrator.set_vv()\n",
    "\n",
    "# add thermostat and short integration to let the system relax further\n",
    "system.thermostat.set_langevin(kT=KT_REDUCED, gamma=1.0, seed=7)\n",
    "system.integrator.run(1000)\n",
    "\n",
    "if USE_ELECTROSTATICS:\n",
    "    COULOMB_PREFACTOR=BJERRUM_LENGTH_REDUCED * KT_REDUCED\n",
    "    if USE_P3M:\n",
    "        coulomb = espressomd.electrostatics.P3M(prefactor=COULOMB_PREFACTOR,\n",
    "                                                accuracy=1e-3)\n",
    "    else:\n",
    "        coulomb = espressomd.electrostatics.DH(prefactor=COULOMB_PREFACTOR,\n",
    "                                               kappa=KAPPA_REDUCED,\n",
    "                                               r_cut=1. / KAPPA_REDUCED)\n",
    "\n",
    "    system.electrostatics.solver = coulomb\n",
    "else:\n",
    "    # this speeds up the simulation of dilute systems with small particle numbers\n",
    "    system.cell_system.set_n_square()"
   ]
  },
  {
   "cell_type": "markdown",
   "id": "22c08f03",
   "metadata": {},
   "source": [
    "### Set up the constant pH ensemble using the reaction ensemble module"
   ]
  },
  {
   "cell_type": "markdown",
   "id": "631c1c01",
   "metadata": {},
   "source": [
    "After the particles have been added to the system we initialize the `espressomd.reaction_methods`. The parameters to set are:\n",
    "\n",
    "* `kT` specifies the $k_\\mathrm{B}T$ value which is used as the inverse-temperature in the Boltzmann-factor to calculate the probabilities for the insertion.\n",
    "* `exclusion_range` specifies the distance around particles already existing in the system, where new particles will not be inserted. This ensures that there are no big overlaps with the newly inserted particles, so that MD integration does not crash. The value of the exclusion range does not affect the limiting result, however, it affects the convergence and the stability of the integration. For interacting systems, exclusion range should be comparable to the particle size. For non-interacting systems, we can set the exclusion range to $0.0$.\n",
    "\n",
    "* `seed` for the random number generator (RNG) is an arbitrary number that defines the starting point in the RNG sequence. Using the same seed should yield reproducible simualtion results if the same RNG implementation is used. When running multiple copies of the same simulation, each of them should use a different seed.\n",
    "\n",
    "**Exercise:**\n",
    "\n",
    "* Use [`espressomd.reaction_methods.ConstantpHEnsemble`](https://espressomd.github.io/doc/espressomd.html#espressomd.reaction_methods.ConstantpHEnsemble) to create an instance of the reaction-ensemble constant $\\mathrm{pH}$-method called `RE`"
   ]
  },
  {
   "cell_type": "code",
   "execution_count": null,
   "id": "2b994257",
   "metadata": {},
   "outputs": [],
   "source": [
    "# SOLUTION CELL\n",
    "exclusion_range = PARTICLE_SIZE_REDUCED if USE_WCA else 0.0\n",
    "RE = espressomd.reaction_methods.ConstantpHEnsemble(\n",
    "    kT=KT_REDUCED,\n",
    "    exclusion_range=exclusion_range,\n",
    "    seed=77,\n",
    "    constant_pH=2  # temporary value\n",
    ")\n",
    "RE.set_non_interacting_type(type=len(TYPES)) # this parameter helps speed up the calculation in an interacting system"
   ]
  },
  {
   "cell_type": "code",
   "execution_count": null,
   "id": "d3b2554d",
   "metadata": {},
   "outputs": [],
   "source": []
  },
  {
   "cell_type": "markdown",
   "id": "88f3bcda",
   "metadata": {},
   "source": [
    "The next step is to define the chemical reaction. The order of species in the lists of reactants and products is very important for ESPResSo because it determines which particles are created or deleted in the reaction move. Specifically, identity of the first species in the list of reactants is changed to the first species in the list of products, the second reactant species is changed to the second product species, and so on. If the reactant list has more species than the product list, then excess reactant species are deleted from the system. If the product list has more species than the reactant list, then the excess product species are created and randomly placed inside the simulation box. This convention is especially important if some of the species belong to a chain-like molecule, so that they cannot be inserted at an arbitrary position."
   ]
  },
  {
   "cell_type": "markdown",
   "id": "06e51a82",
   "metadata": {},
   "source": [
    "**Exercise:**\n",
    "\n",
    "* Use [`espressomd.reaction_methods.ConstantpHEnsemble.add_reaction()`](https://espressomd.github.io/doc/espressomd.html#espressomd.reaction_methods.ConstantpHEnsemble.add_reaction) to add the reaction; remember to use the variables that were set up above for the reaction constant and the particle types and charges\n",
    "\n",
    "\n",
    "***Hint:*** Make sure to place `TYPES[\"HA\"]` and `TYPES[\"A\"]` as first elements in the `reactant_types` and `product_types` lists respectively"
   ]
  },
  {
   "cell_type": "code",
   "execution_count": null,
   "id": "96395eb9",
   "metadata": {
    "scrolled": false
   },
   "outputs": [],
   "source": [
    "# SOLUTION CELL\n",
    "RE.add_reaction(\n",
    "    gamma=10**(-pKa),\n",
    "    reactant_types=[TYPES[\"HA\"]],\n",
    "    product_types=[TYPES[\"A\"], TYPES[\"B\"]],\n",
    "    default_charges={TYPES[\"HA\"]: CHARGES[\"HA\"],\n",
    "                     TYPES[\"A\"]: CHARGES[\"A\"],\n",
    "                     TYPES[\"B\"]: CHARGES[\"B\"]}\n",
    ")"
   ]
  },
  {
   "cell_type": "code",
   "execution_count": null,
   "id": "41566274",
   "metadata": {},
   "outputs": [],
   "source": []
  },
  {
   "cell_type": "markdown",
   "id": "ad9817c9",
   "metadata": {},
   "source": [
    "In the example above, the order of reactants and products ensures that identity of $\\mathrm{HA}$ is changed to $\\mathrm{A^{-}}$ and vice versa, while $\\mathrm{B^{+}}$ is inserted/deleted in the reaction move. \n",
    "\n",
    "If we had used the reverse the order of products in our reaction (i.e. from `product_types=[TYPES[\"A\"], TYPES[\"B\"]]` to `product_types=[TYPES[\"B\"], TYPES[\"A\"]]`), then the identity $\\mathrm{HA}$ would be changed to $\\mathrm{B^{+}}$, while $\\mathrm{A^{-}}$ would be inserted/deleted at a random position in the box. Therefore $\\mathrm{B^{+}}$ would become a part of the polymer chain whereas $\\mathrm{A^{-}}$ would become a free ion. "
   ]
  },
  {
   "cell_type": "markdown",
   "id": "253d05ee",
   "metadata": {},
   "source": [
    "## Run the simulations\n",
    "\n",
    "Finally, we can perform simulations at different $\\mathrm{pH}$ values. To do so in a single loop, we need to equilibrate the simulated system each time when we change the $\\mathrm{pH}$, before collecting the samples."
   ]
  },
  {
   "cell_type": "markdown",
   "id": "034fd91b",
   "metadata": {},
   "source": [
    "**Exercise:**\n",
    "\n",
    "* Write a function called `equilibrate_reaction()` that performs the equilibration of the $\\mathrm{pH}$ value by performing reaction moves in the system by calling [`RE.reaction()`](https://espressomd.github.io/doc/espressomd.html#espressomd.reaction_methods.ReactionAlgorithm.reaction).\n",
    "\n",
    "***Hint:*** To ensure sufficient equilibration of the reaction, one should use a number of steps,  `reaction_steps`, that is greater than the number of titratable acid groups in the system, `N_ACID`."
   ]
  },
  {
   "cell_type": "code",
   "execution_count": null,
   "id": "36523af6",
   "metadata": {},
   "outputs": [],
   "source": [
    "# SOLUTION CELL\n",
    "def equilibrate_reaction(reaction_steps=1):\n",
    "    RE.reaction(steps=reaction_steps)"
   ]
  },
  {
   "cell_type": "code",
   "execution_count": null,
   "id": "7ebb25e5",
   "metadata": {},
   "outputs": [],
   "source": []
  },
  {
   "cell_type": "markdown",
   "id": "cd417295-bab3-46a5-a574-fc60d06371a5",
   "metadata": {},
   "source": [
    "We will initialize ZnDraw to visualize the simulation for increasing pH values:"
   ]
  },
  {
   "cell_type": "code",
   "execution_count": null,
   "id": "04dd303c",
   "metadata": {
    "scrolled": false
   },
   "outputs": [],
   "source": [
    "color = {TYPES[\"HA\"]: \"#7fc454\", #green\n",
    "         TYPES[\"A\"]: \"#225204\", #dark green\n",
    "         TYPES[\"B\"]: \"#fca000\", #orange\n",
    "         TYPES[\"Na\"]: \"#ff0000\", #red\n",
    "         TYPES[\"Cl\"]: \"#030ffc\" #blue\n",
    "        }\n",
    "radii = {TYPES[\"HA\"]: 2,\n",
    "         TYPES[\"A\"]: 2,\n",
    "         TYPES[\"B\"]: 2,\n",
    "         TYPES[\"Na\"]: 2,\n",
    "         TYPES[\"Cl\"]: 2\n",
    "        }\n",
    "\n",
    "vis = espressomd.zn.Visualizer(system, colors=color, radii=radii)\n",
    "vis.update()"
   ]
  },
  {
   "cell_type": "markdown",
   "id": "07daa583",
   "metadata": {},
   "source": [
    "After the system has been equilibrated, the integration/sampling loop follows.\n",
    "\n",
    "**Exercise:**\n",
    "\n",
    "* Write a function called `perform_sampling()` that implements the sampling loop\n",
    "\n",
    "* The function should take the following parameters:\n",
    " * an integer `type_A` that contains the particle type that should be followed when sampling the composition\n",
    " * an integer `num_samples` that determines the number of sampling steps to be performed\n",
    " * a numpy array `num_As`, such that `len(num_As) == num_samples` which will be used to store the time series of the instantaneous values of $N_{\\mathrm{A^{-}}}$\n",
    " * a float `reaction_steps` that determines the number of reactions to be performed\n",
    "\n",
    "\n",
    "* The function should perform the following tasks:\n",
    " * sample the composition fluctuations using reaction moves of the constant $\\mathrm{pH}$ algorithm by calling [`RE.reaction()`](https://espressomd.github.io/doc/espressomd.html#espressomd.reaction_methods.ReactionAlgorithm.reaction)\n",
    " * sample the configuration space using the Langevin dynamics (LD) integration\n",
    " * perform the reaction moves at each sampling step\n",
    " * perform the LD integration in each sampling step with the probability `PROB_INTEGRATION`, and only if the interactions have been activated\n",
    " * after each sampling step, save the current number of particles of type $\\mathrm{A^-}$ in the array `num_As` for later analysis\n",
    "\n",
    "***Hint:***\n",
    "* the value of `reaction_steps` in each sampling step should be comparable to the number of titratable groups (`N_ACID`) in the system\n",
    "* the number of LD integration steps should be at least `1000`\n",
    "* the number of particles of a certain type can be obtained via the function [`espressomd.system.System.number_of_particles()`](https://espressomd.github.io/doc/espressomd.html#espressomd.system.System.number_of_particles)"
   ]
  },
  {
   "cell_type": "code",
   "execution_count": null,
   "id": "6816aa4d",
   "metadata": {},
   "outputs": [],
   "source": [
    "# SOLUTION CELL\n",
    "def perform_sampling(type_A, num_samples, num_As:np.ndarray, reaction_steps,\n",
    "                     prob_integration=0.5, integration_steps=1000):\n",
    "    for i in range(num_samples):\n",
    "        if USE_WCA and np.random.random() < prob_integration:\n",
    "            for _ in range(integration_steps):\n",
    "                system.integrator.run(1)\n",
    "            global vis\n",
    "            vis.update()\n",
    "        # we should do at least one reaction attempt per reactive particle\n",
    "        RE.reaction(steps=reaction_steps)\n",
    "        num_As[i] = system.number_of_particles(type=type_A)"
   ]
  },
  {
   "cell_type": "code",
   "execution_count": null,
   "id": "4b6ebb99",
   "metadata": {},
   "outputs": [],
   "source": []
  },
  {
   "cell_type": "markdown",
   "id": "eabceb5b",
   "metadata": {},
   "source": [
    "Finally we have everything together to run our simulations. We set the $\\mathrm{pH}$ value in [`RE.constant_pH`](https://espressomd.github.io/doc/espressomd.html#espressomd.reaction_methods.ConstantpHEnsemble.constant_pH) and use our `equilibrate_reaction` function to equilibrate the system. After that the samplings are performed with our `perform_sampling` function."
   ]
  },
  {
   "cell_type": "code",
   "execution_count": null,
   "id": "b1489ea7",
   "metadata": {},
   "outputs": [],
   "source": [
    "# empty numpy array as a placeholder for collecting the data\n",
    "num_As_at_each_pH = -np.ones((len(pHs), NUM_SAMPLES))  # number of A- species observed at each sample\n",
    "\n",
    "# run a productive simulation and collect the data\n",
    "print(f\"Simulated pH values: {pHs}\")\n",
    "for ipH, pH in enumerate(pHs):\n",
    "    print(f\"Run pH {pH:.2f} ...\")\n",
    "    RE.constant_pH = pH  # set new pH value\n",
    "    start_time = time.time()\n",
    "    equilibrate_reaction(reaction_steps=N_ACID + 1)  # pre-equilibrate the reaction to the new pH value\n",
    "    perform_sampling(type_A=TYPES[\"A\"],\n",
    "                     num_samples=NUM_SAMPLES, \n",
    "                     num_As=num_As_at_each_pH[ipH, :],\n",
    "                     reaction_steps=N_ACID + 1,\n",
    "                     prob_integration=PROB_INTEGRATION)  # perform sampling / run production simulation\n",
    "    runtime = (time.time() - start_time) * ureg.s\n",
    "    print(f\"runtime: {runtime:.2g};\",\n",
    "          f\"measured number of A-: {np.mean(num_As_at_each_pH[ipH]):.2f}\", \n",
    "          f\"(ideal: {N_ACID * ideal_alpha(pH, pKa):.2f})\", \n",
    "          )\n",
    "print(\"\\nDONE\")"
   ]
  },
  {
   "cell_type": "markdown",
   "id": "c652f949",
   "metadata": {},
   "source": [
    "## Results\n",
    "\n",
    "Now we plot our results and compare them to the analytical results obtained from the Henderson-Hasselbalch equation. Since our simulation is a stochastic process, its outputs are random numbers that may change with each run. However, in the limit of infinite simulation time, they converge to one specific value, that is the ensemble average. For a meaningful comparison of simulation results with the theory, it is necessary to supply the estimates of the ensemble averages as well as the estimates of their statistical error. Differences between the simulation and theory can be considered significant only if they are greater than the estimated statistical error.\n",
    "\n",
    "### Statistical analysis of the data\n",
    "\n",
    "The molecular simulation produces a time series of the observables, that \n",
    "constitute a Markov chain. It is a sequence of realizations of a random process, where\n",
    "the next value in the sequence depends on the preceding one. Therefore,\n",
    "the subsequent values are correlated. To estimate statistical error of the averages\n",
    "determined in the simulation, one needs to correct for the correlations.\n",
    "\n",
    "Here, we will use a rudimentary way of correcting for correlations, termed the binning method.\n",
    "We refer the reader to specialized literature for a more sophisticated discussion, for example <a href='#[Janke2002]'>[Janke2002]</a>. The general idea is to group a long sequence of correlated values into a rather small number of blocks, and compute an average per each block. If the blocks are big enough, they\n",
    "can be considered uncorrelated, and one can apply the formula for standard error of the mean of uncorrelated values. If the number of blocks is small, then they are uncorrelated but the obtained error estimate has a high uncertainty. If the number of blocks is high, then they are too short to be uncorrelated, and the obtained error estimates are systematically lower than the correct value. Therefore, the method works well only if the sample size is much greater than the autocorrelation time, so that it can be divided into a sufficient number of mutually uncorrelated blocks."
   ]
  },
  {
   "cell_type": "code",
   "execution_count": null,
   "id": "5793ceb1",
   "metadata": {},
   "outputs": [],
   "source": [
    "# statistical analysis of the results\n",
    "def block_analyze(input_data, n_blocks=16):\n",
    "    data = np.asarray(input_data)\n",
    "    block = 0\n",
    "    # this number of blocks is recommended by Janke as a reasonable compromise\n",
    "    # between the conflicting requirements on block size and number of blocks\n",
    "    block_size = int(data.shape[1] / n_blocks)\n",
    "    print(f\"block_size: {block_size}\")\n",
    "    # initialize the array of per-block averages\n",
    "    block_average = np.zeros((n_blocks, data.shape[0]))\n",
    "    # calculate averages per each block\n",
    "    for block in range(n_blocks):\n",
    "        block_average[block] = np.average(data[:, block * block_size: (block + 1) * block_size], axis=1)\n",
    "    # calculate the average and average of the square\n",
    "    av_data = np.average(data, axis=1)\n",
    "    av2_data = np.average(data * data, axis=1)\n",
    "    # calculate the variance of the block averages\n",
    "    block_var = np.var(block_average, axis=0)\n",
    "    # calculate standard error of the mean\n",
    "    err_data = np.sqrt(block_var / (n_blocks - 1))\n",
    "    # estimate autocorrelation time using the formula given by Janke\n",
    "    # this assumes that the errors have been correctly estimated\n",
    "    tau_data = np.zeros(av_data.shape)\n",
    "    for val in range(av_data.shape[0]):\n",
    "        if av_data[val] == 0:\n",
    "            # unphysical value marks a failure to compute tau\n",
    "            tau_data[val] = -1.0\n",
    "        else:\n",
    "            tau_data[val] = 0.5 * block_size * n_blocks / (n_blocks - 1) * block_var[val] \\\n",
    "                / (av2_data[val] - av_data[val] * av_data[val])\n",
    "    return av_data, err_data, tau_data, block_size"
   ]
  },
  {
   "cell_type": "markdown",
   "id": "03bbe514",
   "metadata": {},
   "source": [
    "Now, we use the above function to calculate the average number of particles of type $\\mathrm{A^-}$ and estimate  its statistical error and autocorrelation time.\n",
    "Then we use these values to calculate the degree of ionization $\\alpha$ by dividing the number of particles of type $\\mathrm{A^-}$ by the number of titratable units `N_ACID`. Finally, we plot the degree of ionization $\\alpha$  as a function of the $\\mathrm{pH}$."
   ]
  },
  {
   "cell_type": "code",
   "execution_count": null,
   "id": "3b8ea33f",
   "metadata": {
    "scrolled": false
   },
   "outputs": [],
   "source": [
    "# estimate the statistical error and the autocorrelation time using the formula given by Janke\n",
    "av_num_As, err_num_As, tau, block_size = block_analyze(num_As_at_each_pH, N_BLOCKS)\n",
    "print(f\"av = {av_num_As}\")\n",
    "print(f\"err = {err_num_As}\")\n",
    "print(f\"tau = {tau}\")\n",
    "\n",
    "# calculate the average ionization degree\n",
    "av_alpha = av_num_As / N_ACID\n",
    "err_alpha = err_num_As / N_ACID\n",
    "\n",
    "# plot the simulation results compared with the ideal titration curve\n",
    "plt.figure(figsize=(10, 6), dpi=80)\n",
    "plt.errorbar(pHs - pKa, av_alpha, err_alpha, marker='o', linestyle='none',\n",
    "             label=r\"simulation\")\n",
    "pHs2 = np.linspace(pHmin, pHmax, num=50)\n",
    "plt.plot(pHs2 - pKa, ideal_alpha(pHs2, pKa), label=r\"Henderson-Hasselbalch\")\n",
    "plt.xlabel(r'$\\mathrm{pH} - \\mathrm{p}K_{\\mathrm{A}}$', fontsize=16)\n",
    "plt.ylabel(r'$\\alpha$', fontsize=16)\n",
    "plt.legend(fontsize=16)\n",
    "plt.show()"
   ]
  },
  {
   "cell_type": "markdown",
   "id": "8115f2cd",
   "metadata": {},
   "source": [
    "The simulation results for the non-interacting case match very well with the analytical solution of Henderson-Hasselbalch equation. There are only minor deviations, and the estimated errors are small too. This situation will change when we introduce interactions.\n",
    "\n",
    "It is useful to check whether the estimated errors are consistent with the assumptions that were used to obtain them. To do this, we follow <a href='#[Janke2002]'>[Janke2002]</a> to estimate the number of uncorrelated samples per block, and check whether each block contains a sufficient number of uncorrelated samples (we choose 10 uncorrelated samples per block as the threshold value).\n",
    "\n",
    "Intentionally, we made our simulation slightly too short, so that it does not produce enough uncorrelated samples. We encourage the reader to vary the number of blocks or the number of samples to see how the estimated error changes with these parameters."
   ]
  },
  {
   "cell_type": "code",
   "execution_count": null,
   "id": "cd73fbbb",
   "metadata": {
    "scrolled": false
   },
   "outputs": [],
   "source": [
    "# check if the blocks contain enough data for reliable error estimates\n",
    "print(f\"uncorrelated samples per block:\\nblock_size/tau = {block_size / tau}\")\n",
    "threshold = 10  # block size should be much greater than the correlation time\n",
    "if np.any(block_size / tau < threshold):\n",
    "    print(f\"\\nWarning: some blocks may contain less than {threshold} uncorrelated samples.\"\n",
    "          \"\\nYour error estimated may be unreliable.\"\n",
    "          \"\\nPlease, check them using a more sophisticated method or run a longer simulation.\")\n",
    "    print(f\"? block_size/tau > threshold ? : {block_size / tau > threshold}\")\n",
    "else:\n",
    "    print(f\"\\nAll blocks seem to contain more than {threshold} uncorrelated samples.\"\n",
    "          \"Error estimates should be OK.\")"
   ]
  },
  {
   "cell_type": "markdown",
   "id": "5fa9f088",
   "metadata": {},
   "source": [
    "To look in more detail at the statistical accuracy, it is useful to plot the deviations from the analytical result. This provides another way to check the consistency of error estimates. In the case of non-interacting system, the simulation should exactly reproduce the Henderson-Hasselbalch equation. In such case, about 68% of the results should be within one error bar from the analytical result, whereas about 95% of the results should be within two times the error bar. Indeed, if you plot the deviations by running the script below, you should observe that most of the results are within one error bar from the analytical solution, a smaller fraction  of the results is slightly further than one error bar, and one or two might be about two error bars apart. Again, this situation changes when we activate interactions because the ionization of the interacting system deviates from the Henderson-Hasselbalch equation."
   ]
  },
  {
   "cell_type": "code",
   "execution_count": null,
   "id": "9585afa3",
   "metadata": {
    "scrolled": false
   },
   "outputs": [],
   "source": [
    "# plot the deviations from the ideal result\n",
    "plt.figure(figsize=(10, 6), dpi=80)\n",
    "ylim = np.amax(abs(av_alpha - ideal_alpha(pHs, pKa)))\n",
    "plt.ylim((-1.5 * ylim, 1.5 * ylim))\n",
    "plt.errorbar(pHs - pKa, av_alpha - ideal_alpha(pHs, pKa),\n",
    "             err_alpha, marker='o', linestyle='none', label=r\"simulation\")\n",
    "plt.plot(pHs - pKa, 0.0 * ideal_alpha(pHs, pKa), label=r\"Henderson-Hasselbalch\")\n",
    "plt.xlabel(r'$\\mathrm{pH} - \\mathrm{p}K_{\\mathrm{A}}$', fontsize=16)\n",
    "plt.ylabel(r'$\\alpha - \\alpha_{ideal}$', fontsize=16)\n",
    "plt.legend(fontsize=16)\n",
    "plt.show()"
   ]
  },
  {
   "cell_type": "markdown",
   "id": "8b982f07",
   "metadata": {},
   "source": [
    "### The Neutralizing Ion $\\mathrm{B^+}$\n",
    "Up to now we did not discuss the chemical nature the neutralizer $\\mathrm{B^+}$.\n",
    "It is not obvious how the chemical nature of the $\\mathrm{B^+}$ ion should be interpreted in a coarse-grained model, where water molecules and $\\mathrm{H^+}$ ions are not represented explicitly.\n",
    "Now, we address this issue using some specific examples.\n",
    "\n",
    "In the simplest case, if we add an acidic polymer to pure water that has $\\mathrm{pH} = 7$, some of the acid groups dissociate and release $\\mathrm{H^+}$ ions into the solution. The $\\mathrm{pH}$ decreases to a value that depends on $\\mathrm{p}K_{\\mathrm{A}}$ and on the concentration of ionizable groups. Now, three ionic species are present in the solution: $\\mathrm{H^+}$, $\\mathrm{A^-}$, and $\\mathrm{OH^-}$.  \n",
    "In this case the $\\mathrm{B^+}$ ions generated in our implementation of the reaction correspond to the $\\mathrm{H^+}$ ions. The $\\mathrm{H^+}$ act as the counter-ions, neutralizing both the $\\mathrm{A^-}$ and the $\\mathrm{OH^-}$ ions. At acidic $\\mathrm{pH}$ there are only very few $\\mathrm{OH^-}$ ions and nearly all $\\mathrm{H^+}$ ions act as neutralizer for the $\\mathrm{A^-}$ ions. Therefore, the concentration of $\\mathrm{B^+}$ is very close to the concentration of $\\mathrm{H^+}$ in the real aqueous solution. Only very few $\\mathrm{OH^-}$ ions, and the $\\mathrm{H^+}$ ions needed to neutralize them, are missing in the simulation box, when compared to the real solution.\n",
    "\n",
    "To achieve a more acidic $\\mathrm{pH}$ (with the same $\\mathrm{p}K_{\\mathrm{A}}$ and polymer concentration), we need to add an acid to the system. We can do that by adding a strong acid, such as $\\mathrm{HCl}$ or $\\mathrm{HNO}_3$. We will denote this acid by a generic name $\\mathrm{HX}$ to emphasize that in general its anion can be different from the salt anion $\\mathrm{Cl^{-}}$. Now, there are 4 ionic species in the solution:  $\\mathrm{H^+}$, $\\mathrm{A^-}$, $\\mathrm{OH^-}$, and $\\mathrm{X^-}$ ions. By the same argument as before, the $\\mathrm{B^+}$ ions again correspond to the $\\mathrm{H^+}$ ions. The $\\mathrm{H^+}$ ions neutralize the $\\mathrm{A^-}$, $\\mathrm{OH^-}$, and the $\\mathrm{X^-}$ ions. Because the concentration of $\\mathrm{X^-}$ is not negligible, the concentration of $\\mathrm{B^+}$ in the simulation box differs from the $\\mathrm{H^+}$ concentration in the real solution. Now, many more ions are missing in the simulation box, as compared to the real solution: Few $\\mathrm{OH^-}$ ions, many $\\mathrm{X^-}$ ions, and all the $\\mathrm{H^+}$ ions that neutralize them.\n",
    "\n",
    "To achieve a neutral $\\mathrm{pH}$ we need to add some base to the system to neutralize the polymer.\n",
    "In the simplest case we add an alkali metal hydroxide, such as $\\mathrm{NaOH}$ or $\\mathrm{KOH}$, that we will generically denote as $\\mathrm{MOH}$. Now, there are 4 ionic species in the solution:  $\\mathrm{H^+}$, $\\mathrm{A^-}$, $\\mathrm{OH^-}$, and $\\mathrm{M^+}$. In such situation, we can not clearly attribute a specific chemical identity to the $\\mathrm{B^+}$ ions. However, only very few $\\mathrm{H^+}$ and $\\mathrm{OH^-}$ ions are present in the system at $\\mathrm{pH} = 7$. Therefore, we can make the approximation that at this $\\mathrm{pH}$, all $\\mathrm{A^-}$ are neutralized by the $\\mathrm{M^+}$ ions, and the $\\mathrm{B^+}$ correspond to $\\mathrm{M^+}$. Then, the concentration of $\\mathrm{B^+}$ also corresponds to the concentration of $\\mathrm{M^+}$ ions. Now, again only few ions are missing in the simulation box, as compared to the real solution: Few $\\mathrm{OH^-}$ ions, and few $\\mathrm{H^+}$ ions.\n",
    "\n",
    "To achieve a basic $\\mathrm{pH}$ we need to add even more base to the system to neutralize the polymer.\n",
    "Again, there are 4 ionic species in the solution:  $\\mathrm{H^+}$, $\\mathrm{A^-}$, $\\mathrm{OH^-}$, and $\\mathrm{M^+}$ and we can not clearly attribute a specific chemical identity to the $\\mathrm{B^+}$ ions. Because only very few $\\mathrm{H^+}$ ions should be present in the solution, we can make the approximation that at this $\\mathrm{pH}$, all $\\mathrm{A^-}$ ions are neutralized by the $\\mathrm{M^+}$ ions, and therefore $\\mathrm{B^+}$ ions in the simulation correspond to $\\mathrm{M^+}$ ions in the real solution. Because additional $\\mathrm{M^+}$ ions in the real solution neutralize the $\\mathrm{OH^-}$ ions, the concentration of $\\mathrm{B^+}$ does not correspond to the concentration of $\\mathrm{M^+}$ ions. Now, again many ions are missing in the simulation box, as compared to the real solution: Few $\\mathrm{H^+}$ ions, many $\\mathrm{OH^-}$ ions, and a comparable amount of the $\\mathrm{M^+}$ ions.\n",
    "\n",
    "To further illustrate this subject, we compare the concentration of the neutralizer ion $\\mathrm{B^+}$ calculated in the simulation with the expected number of ions of each species. At a given $\\mathrm{pH}$ and $\\mathrm{p}K_{\\mathrm{A}}$ we can calculate the expected degree of ionization from the Henderson-Hasselbalch equation. Then we apply the electroneutrality condition \n",
    "$$c_\\mathrm{A^-} + c_\\mathrm{OH^-} + c_\\mathrm{X^-} = c_\\mathrm{H^+} + c_\\mathrm{M^+}$$\n",
    "where we use either $c_\\mathrm{X^-}=0$ or $c_\\mathrm{M^+}=0$ because we always only add extra acid or base, but never both. Adding both would be equivalent to adding extra salt $\\mathrm{MX}$.\n",
    "We obtain the concentrations of $\\mathrm{OH^-}$ and $\\mathrm{H^+}$ from the input $\\mathrm{pH}$ value, and substitute them to the electroneutrality equation to obtain\n",
    "$$\\alpha c_\\mathrm{acid} + 10^{-(\\mathrm{p}K_{\\mathrm{w}} - \\mathrm{pH})} + 10^{-\\mathrm{pH}} = c_\\mathrm{M^+} - c_\\mathrm{X^-}$$\n",
    "Depending on whether the left-hand side of this equation is positive or negative we know whether we should add $\\mathrm{M^+}$ or $\\mathrm{X^-}$ ions."
   ]
  },
  {
   "cell_type": "code",
   "execution_count": null,
   "id": "33b09ef4",
   "metadata": {
    "scrolled": false
   },
   "outputs": [],
   "source": [
    "# average concentration of B+ is the same as the concentration of A-\n",
    "av_c_Bplus = av_alpha * C_ACID\n",
    "err_c_Bplus = err_alpha * C_ACID  # error in the average concentration\n",
    "\n",
    "full_pH_range = np.linspace(2, 12, 100)\n",
    "ideal_c_Aminus = ideal_alpha(full_pH_range, pKa) * C_ACID\n",
    "ideal_c_OH = np.power(10.0, -(pKw - full_pH_range))*ureg.molar\n",
    "ideal_c_H = np.power(10.0, -full_pH_range)*ureg.molar\n",
    "# ideal_c_M is calculated from electroneutrality\n",
    "ideal_c_M = (ideal_c_Aminus + ideal_c_OH - ideal_c_H)\n",
    "\n",
    "# plot the simulation results compared with the ideal results of the cations\n",
    "plt.figure(figsize=(10, 6), dpi=80)\n",
    "plt.errorbar(pHs,\n",
    "             av_c_Bplus.magnitude,\n",
    "             err_c_Bplus.magnitude,\n",
    "             marker='o', c=\"tab:blue\", linestyle='none',\n",
    "             label=r\"measured $c_{\\mathrm{B^+}}$\", zorder=2)\n",
    "plt.plot(full_pH_range, \n",
    "         ideal_c_H.magnitude, \n",
    "         c=\"tab:green\",\n",
    "         label=r\"ideal $c_{\\mathrm{H^+}}$\", \n",
    "         zorder=0)\n",
    "plt.plot(full_pH_range[np.nonzero(ideal_c_M.magnitude > 0.)], \n",
    "         ideal_c_M.magnitude[np.nonzero(ideal_c_M.magnitude > 0.)], \n",
    "         c=\"tab:orange\",\n",
    "         label=r\"ideal $c_{\\mathrm{M^+}}$\", \n",
    "         zorder=0)\n",
    "plt.plot(full_pH_range, \n",
    "         ideal_c_Aminus.magnitude, \n",
    "         c=\"tab:blue\", \n",
    "         ls=(0, (5, 5)),\n",
    "         label=r\"ideal $c_{\\mathrm{A^-}}$\", \n",
    "         zorder=1)\n",
    "plt.yscale(\"log\")\n",
    "plt.ylim(5e-6,1e-2)\n",
    "plt.xlabel('input pH', fontsize=16)\n",
    "plt.ylabel(r'concentration $c$ $[\\mathrm{mol/L}]$', fontsize=16)\n",
    "plt.legend(fontsize=16)\n",
    "plt.show()"
   ]
  },
  {
   "cell_type": "markdown",
   "id": "9e1f5fea",
   "metadata": {},
   "source": [
    "The plot shows that at intermediate $\\mathrm{pH}$ the concentration of $\\mathrm{B^+}$ ions is approximately equal to the concentration of $\\mathrm{M^+}$ ions. Only at one specific $\\mathrm{pH}$ the concentration of $\\mathrm{B^+}$ ions is equal to the concentration of $\\mathrm{H^+}$ ions. This is the $\\mathrm{pH}$ one obtains when dissolving the weak acid $\\mathrm{A}$ in pure water.\n",
    "\n",
    "In an ideal system, the ions missing in the simulation have no effect on the ionization degree. In an interacting system, the presence of ions in the box affects the properties of other parts of the system. Therefore, in an interacting system this discrepancy is harmless only at intermediate $\\mathrm{pH}$. The effect of the small ions on the rest of the system can be estimated from the overall the ionic strength.\n",
    "$$ I = \\frac{1}{2}\\sum_i c_i z_i^2 $$"
   ]
  },
  {
   "cell_type": "code",
   "execution_count": null,
   "id": "002ca2b0",
   "metadata": {},
   "outputs": [],
   "source": [
    "ideal_c_X = -(ideal_c_Aminus + ideal_c_OH - ideal_c_H)\n",
    "\n",
    "ideal_ionic_strength = 0.5 * \\\n",
    "    (ideal_c_X + ideal_c_M + ideal_c_H + ideal_c_OH + 2 * C_SALT)\n",
    "# in constant-pH simulation ideal_c_Aminus = ideal_c_Bplus\n",
    "cpH_ionic_strength = 0.5 * (ideal_c_Aminus + 2 * C_SALT)\n",
    "cpH_ionic_strength_measured = 0.5 * (av_c_Bplus + 2 * C_SALT)\n",
    "cpH_error_ionic_strength_measured = 0.5 * err_c_Bplus\n",
    "\n",
    "plt.figure(figsize=(10, 6), dpi=80)\n",
    "plt.errorbar(pHs,\n",
    "             cpH_ionic_strength_measured.magnitude,\n",
    "             cpH_error_ionic_strength_measured.magnitude,\n",
    "             c=\"tab:blue\",\n",
    "             linestyle='none', marker='o',\n",
    "             label=r\"measured\", zorder=3)\n",
    "plt.plot(full_pH_range,\n",
    "         cpH_ionic_strength.magnitude,\n",
    "         c=\"tab:blue\",\n",
    "         ls=(0, (5, 5)),\n",
    "         label=r\"constant-pH\", zorder=2)\n",
    "plt.plot(full_pH_range,\n",
    "         ideal_ionic_strength.magnitude,\n",
    "         c=\"tab:orange\",\n",
    "         linestyle='-',\n",
    "         label=r\"Henderson-Hasselbalch\", zorder=1)\n",
    "\n",
    "plt.ylim(1.8e-3,3e-3)\n",
    "plt.xlabel('input pH', fontsize=16)\n",
    "plt.ylabel(r'Ionic Strength [$\\mathrm{mol/L}$]', fontsize=16)\n",
    "plt.legend(fontsize=16)\n",
    "plt.show()"
   ]
  },
  {
   "cell_type": "markdown",
   "id": "ca4a6e56",
   "metadata": {},
   "source": [
    "We see that the ionic strength in the simulation box significantly deviates from the ionic strength of the real solution only at high or low $\\mathrm{pH}$ value. If the $\\mathrm{p}K_{\\mathrm{A}}$ value is sufficiently large, then the deviation at very low $\\mathrm{pH}$ can also be neglected because then the polymer is uncharged in the region where the ionic strength is not correctly represented in the constant-$\\mathrm{pH}$ simulation. At a high $\\mathrm{pH}$ the ionic strength will have an effect on the weak acid, because then it is fully charged. The $\\mathrm{pH}$ range in which the constant-$\\mathrm{pH}$ method uses approximately the right ionic strength depends on salt concentration, weak acid concentration and the $\\mathrm{p}K_{\\mathrm{A}}$ value. See also <a href='#[Landsgesell2019]'>[Landsgesell2019]</a> for a more detailed discussion of this issue, and its consequences.\n"
   ]
  },
  {
   "cell_type": "markdown",
   "id": "7c63f293",
   "metadata": {},
   "source": [
    "## Suggested problems for further work\n",
    "\n",
    "* Try changing the concentration of ionizable species in the non-interacting system. You should observe that it does not affect the obtained titration.\n",
    "\n",
    "* Try changing the number of samples and the number of particles to see how the estimated error and the number of uncorrelated samples will change. Be aware that if the number of uncorrelated samples is low, the error estimation is too optimistic.\n",
    "\n",
    "* Try running the same simulations with steric repulsion and then again with electrostatic interactions. Observe how the ionization equilibrium is affected by various interactions. Warning: simulations with electrostatics are much slower. If you want to obtain your results more quickly, then decrease the number of $\\mathrm{pH}$ values."
   ]
  },
  {
   "cell_type": "markdown",
   "id": "ebb94b70",
   "metadata": {},
   "source": [
    "## References\n",
    "\n",
    "<span id='[Janke2002]'></span>[Janke2002] Janke W. Statistical Analysis of Simulations: Data Correlations and Error Estimation,\n",
    "In Quantum Simulations of Complex Many-Body Systems: From Theory to Algorithms, Lecture Notes,\n",
    "J. Grotendorst, D. Marx, A. Muramatsu (Eds.), John von Neumann Institute for Computing, Jülich,\n",
    "NIC Series, Vol. 10, ISBN 3-00-009057-6, pp. 423-445, 2002, [link](https://www.physik.uni-leipzig.de/~janke/Paper/nic10_423_2002.pdf).<br>\n",
    "<span id='[Landsgesell2019]'></span>[Landsgesell2019] Landsgesell, J.; Nová, L.; Rud, O.; Uhlík, F.; Sean, D.; Hebbeker, P.; Holm, C.; Košovan, P. Simulations of Ionization Equilibria in Weak Polyelectrolyte Solutions and Gels. Soft Matter 2019, 15 (6), 1155–1185, doi:[10.1039/C8SM02085J](https://doi.org/10.1039/C8SM02085J).<br>\n",
    "<span id='[Reed1992]'></span>[Reed1992] Reed, C. E.; Reed, W. F. Monte Carlo Study of Titration of Linear Polyelectrolytes. The Journal of Chemical Physics 1992, 96 (2), 1609–1620, doi:[10.1063/1.462145](https://doi.org/10.1063/1.462145).<br>\n",
    "<span id='[Smith1994]'></span>[Smith1994] Smith, W. R.; Triska, B. The Reaction Ensemble Method for the Computer Simulation of Chemical and Phase Equilibria. I. Theory and Basic Examples. The Journal of Chemical Physics 1994, 100 (4), 3019–3027, doi:[10.1063/1.466443](https://doi.org/10.1063/1.466443).<br>\n",
    "<span id='[Israelachvili2011]'></span>[Israelachvili2011] Israelachvili, J. N. Intermolecular and Surface Forces, Third Edition, 2011, Academic Press, ISBN 978-0-12-391927-4, doi:[10.1016/C2011-0-05119-0](https://doi.org/10.1016/C2011-0-05119-0)."
   ]
  }
 ],
 "metadata": {
  "interpreter": {
   "hash": "31f2aee4e71d21fbe5cf8b01ff0e069b9275f58929596ceb00d14d90e3e16cd6"
  },
  "kernelspec": {
   "display_name": "Python 3 (ipykernel)",
   "language": "python",
   "name": "python3"
  },
  "language_info": {
   "codemirror_mode": {
    "name": "ipython",
    "version": 3
   },
   "file_extension": ".py",
   "mimetype": "text/x-python",
   "name": "python",
   "nbconvert_exporter": "python",
   "pygments_lexer": "ipython3",
   "version": "3.10.6"
  }
 },
 "nbformat": 4,
 "nbformat_minor": 5
}
