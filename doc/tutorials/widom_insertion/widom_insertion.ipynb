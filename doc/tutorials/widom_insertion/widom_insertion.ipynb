{
 "cells": [
  {
   "cell_type": "markdown",
   "id": "594eb0fc",
   "metadata": {},
   "source": [
    "# Excess Chemical Potential of a Salt Solution: Widom Particle Insertion Method\n",
    "\n",
    "## Table of Contents\n",
    "* [Introduction](#Introduction)\n",
    "* [Widom Particle Insertion Method](#Widom-Particle-Insertion-Method)\n",
    "* [The Simulated System: Aqueous NaCl solution](#The-Simulated-System:-Aqueous-NaCl-solution)\n",
    "* [Simulation Setup](#Simulation-Setup)\n",
    "* [Production Run and Comparison with Analytical Theory](#Production-Run-and-Comparison-with-Analytical-Theory)\n",
    "* [Further Exercises](#Further-Exercises)\n",
    "* [References](#References)"
   ]
  },
  {
   "cell_type": "markdown",
   "id": "d9b12191",
   "metadata": {},
   "source": [
    "## Introduction\n",
    "\n",
    "The combination of Monte Carlo and Molecular Dynamic simulations offers many possibilities beyond using each technique solely on their own.\n",
    "In general, MD simulations are restricted to relatively small time scales and, depending on the modeled interactions, to rather small particle numbers as well.\n",
    "However, they have the advantage of computing collective particle movements with the correct dynamics.\n",
    "The time between two MD steps is bound by the fastest motion of the system of interest (for all-atom MD, those are atomic vibrations).\n",
    "\n",
    "MC simulations, on the other hand, do not have such limitations.\n",
    "Even nonphysical moves can be considered, still leading to results with correct thermodynamic properties.\n",
    "However, no valuable information of the system dynamics can be obtained.\n",
    "The combination of MD and MC moves allows us to mimic any ensemble.\n",
    "\n",
    "In this tutorial, you will compute the excess chemical potential of a monovalent salt solution by using a combination of MD and MC techniques.\n",
    "For this purpose, you will learn about the Widom particle insertion method <a href='#[1]'>[1]</a> and how it can be used in ESPResSo.\n",
    "The chemical potential is important for simulating chemical equilibria and systems where particles can be exchanged with an external reservoir, which is too large to be simulated explicitly, or between two subsystems."
   ]
  },
  {
   "cell_type": "markdown",
   "id": "c3552a73",
   "metadata": {},
   "source": [
    "## Widom Particle Insertion Method\n",
    "\n",
    "In a pure MD simulation, there is no direct way to access the chemical potential, since it is related to changes in the particle number that is typically fixed.\n",
    "In 1963, Widom proposed a MC scheme to measure the chemical potential in a system using trial particle insertions <a href='#[1]'>[1]</a>.\n",
    "\n",
    "The chemical potential for species $\\alpha$ is defined as\n",
    "\\begin{equation}\n",
    "  \\mu_{\\alpha} = \\left(\\frac{\\partial G}{\\partial N_\\alpha} \\right)_{p,T,N_{\\beta\\neq\\alpha}} = \\left(\\frac{\\partial F}{\\partial N_\\alpha}\\right)_{V,T,N_{\\beta\\neq\\alpha}} \\quad ,\\tag{1}\n",
    "  \\label{eq:chem_pot_def}\n",
    "\\end{equation}\n",
    "and corresponds to the difference in the Helmholtz free energy $F$ or Gibbs free energy $G$ when adding or removing one particle in the system.\n",
    "\n",
    "The canonical partition function is defined as\n",
    "\\begin{equation}\n",
    "  Z(N,V,T)=\\frac{V^N}{\\Lambda^{3N}N!} \\int_{\\left[0,1\\right]^{3N}}\\exp\\left(-\\beta U\\left(\\left\\{\\boldsymbol{s}^i\\right\\}\\right)\\right)\\,\\mathrm{d}\\boldsymbol{s}^1\\ldots\\mathrm{d}\\boldsymbol{s}^N  \\quad ,\\tag{2}\n",
    "  \\label{eq:partition_function}\n",
    "\\end{equation}\n",
    "where V is the volume, $\\Lambda=h/\\sqrt{2\\pi m k_\\mathrm{B}T}$ the thermal wavelength, $\\beta$ the inverse temperature, $U$ the interaction potential and $\\boldsymbol{s}^i$ the rescaled (dimensionless) particle coordinates.\n",
    "\n",
    "The Helmholtz free energy $F$ can be computed from the partition function: $F=-k_BT\\ln\\left(Z(N,V,T)\\right)$.\n",
    "For sufficiently large N, the following relation approximates the chemical potential:\n",
    "\\begin{align}\n",
    "  \\mu & = -k_\\mathrm{B}T \\ln\\left(\\frac{Z(N+1,V,T)}{Z(N,V,T)}\\right) \\label{eq:mu_limit_largeN}\\\\\n",
    "      & = \\mu_\\textrm{ideal}+\\mu_\\textrm{ex} \\nonumber\\\\\n",
    "      & = - k_\\mathrm{B}T\\ln\\left(\\frac{V}{\\Lambda^{3}(N+1)}\\right)+\\mu_\\textrm{ex}\\, , \\nonumber\\tag{3}\n",
    "\\end{align}\n",
    "where $\\mu_\\textrm{ideal}$ depends only on the density of the system, so it is a constant for systems with different interactions but the same particle density.\n",
    "The interesting part is the excess chemical potential $\\mu_\\textrm{ex}$, which can be expressed in a form involving a canonical average:\n",
    "\\begin{equation}\n",
    "  \\mu-\\mu_\\textrm{ideal}=\\mu_\\textrm{ex}=-k_\\mathrm{B}T\\ln\\left(\\int_{\\left[0,1\\right]^{3}}\\langle\\exp(-\\beta\\Delta U)\\rangle\\,\\mathrm{d}\\boldsymbol{s}^{N+1}\\right)\\quad .\\tag{4}\n",
    "  \\label{eq:mu_ex}\n",
    "\\end{equation}\n",
    "\n",
    "In the above expression, $\\Delta U$ is the energy difference of the system before and after the insertion of an additional particle (\"test particle\") into the system, and $\\langle...\\rangle$ is the canonical average for a system with $N$ particles.\n",
    "The expression thus suggests that the excess chemical potential can be computed using the following procedure.\n",
    "The canonical average $\\langle\\exp(-\\beta\\Delta U)\\rangle$ can be computed by inserting a test particle into many different configurations of the system (sampled according to the canonical distribution) and then averaging the associated Boltzmann factor $\\exp(-\\beta\\Delta U)$.\n",
    "Note that this canonical average can be computed using either MC or canonical MD, in the following we will use Langevin MD for this task.\n",
    "The integral over $\\boldsymbol{s}^{N+1}$ corresponds to an average over different insertion positions of the test particle and can be calculated using a brute-force MC approach by simply inserting test particles at many different (random) trial positions for each sampled state of the system."
   ]
  },
  {
   "cell_type": "markdown",
   "id": "ac118d95",
   "metadata": {},
   "source": [
    "## The Simulated System: Aqueous NaCl solution\n",
    "\n",
    "The system under consideration here consists of $N$ monovalent ion pairs in an implicit solvent with $\\varepsilon_{\\mathrm{r}} = 78$, which is a simple model (\"restricted primitive model\") for an aqueous salt solution of e.g. NaCl.\n",
    "A Weeks–Chandler–Andersen potential is used to avoid particles overlapping one another.\n",
    "In the unit system employed in the simulation, the following parameters will be used:\n",
    "\n",
    "\\begin{align*}\n",
    "\\lambda_b=2.0\\,,\\quad k_BT=1.0\\,,\\quad z_i=1.0\\,,\\quad N=N_i=50\n",
    "\\end{align*}\n",
    "\n",
    "Since the investigated system is a monovalent salt, the concentrations (and thus, densities) of positive and negative ions are the same.\n",
    "The Widom insertion method can be used to calculate the excess chemical potential for this system.\n",
    "However, we cannot calculate the excess chemical potential of a single ion (a quantitity that is also not accessible in experiments) but only that of an ion pair, which is given by\n",
    "\\begin{align}\n",
    " \\mu_\\textrm{ex}^\\textrm{pair} = \\mu_\\textrm{ex}^+ + \\mu_\\textrm{ex}^- =\n",
    "  \\mu-\\mu_\\textrm{ideal}=\\mu_\\textrm{ex}=-k_BT\\ln\\left(\\int_{\\left[0,1\\right]^{6}}\\langle\\exp(-\\beta\\Delta U)\\rangle \\mathrm{d}\\boldsymbol{s}_{+}^{N+1}\\mathrm{d}\\boldsymbol{s}_{-}^{N+1}\\right).\\tag{5}\n",
    "\\end{align}\n",
    "Inserting ion pairs ensures the overall electroneutrality of the system and prevents a diverging electrostatic energy."
   ]
  },
  {
   "cell_type": "markdown",
   "id": "0b9eceeb",
   "metadata": {},
   "source": [
    "# Simulation Setup\n",
    "\n",
    "In a first step, we import the required **ESPResSo** features as well as some additional python modules:"
   ]
  },
  {
   "cell_type": "code",
   "execution_count": null,
   "id": "9bcc0534",
   "metadata": {},
   "outputs": [],
   "source": [
    "import espressomd\n",
    "import espressomd.electrostatics\n",
    "import espressomd.reaction_methods\n",
    "\n",
    "espressomd.assert_features([\"ELECTROSTATICS\", \"P3M\", \"WCA\"])\n",
    "\n",
    "import tqdm\n",
    "import numpy as np\n",
    "%matplotlib inline\n",
    "import matplotlib.pyplot as plt\n",
    "\n",
    "np.random.seed(42)\n",
    "plt.rcParams.update({\"font.size\": 18})"
   ]
  },
  {
   "cell_type": "markdown",
   "id": "f8855713",
   "metadata": {},
   "source": [
    "Next, we define the simulation units and set the parameters which define our system and the interactions:"
   ]
  },
  {
   "cell_type": "code",
   "execution_count": null,
   "id": "9159f7df",
   "metadata": {},
   "outputs": [],
   "source": [
    "# we assume a reduced unit system where the elementary charge,\n",
    "# the thermal energy and the WCA length scale (sigma) are all unity\n",
    "sigma = 3.55e-10 # sigma in SI units\n",
    "avo = 6.022e+23 # Avogadro's number in SI units\n",
    "PREF = 1 / (10**3 * avo * sigma**3) # prefactor to mol/L\n",
    "BJERRUM_LENGTH = 2.0\n",
    "\n",
    "# Weeks-Chandler-Andersen interaction\n",
    "LJ_EPSILON = 1.0\n",
    "LJ_SIGMA = 1.0\n",
    "\n",
    "# Langevin thermostat\n",
    "KT = 1.0\n",
    "GAMMA = 1.0\n",
    "\n",
    "# number of salt ion pairs\n",
    "N_ION_PAIRS = 50\n",
    "MASS=1.0\n",
    "\n",
    "# particle types and charges\n",
    "types = {\n",
    "    \"Xplus\": 1, # Positive ions\n",
    "    \"Xminus\": 2, # Negative ions\n",
    "}\n",
    "\n",
    "charges = {\n",
    "    \"Xplus\": 1.0,\n",
    "    \"Xminus\": -1.0,\n",
    "}"
   ]
  },
  {
   "cell_type": "markdown",
   "id": "de1ba199",
   "metadata": {},
   "source": [
    "Now we are ready to set up the system. Because we will need to rescale the simulation box, we will initially only set up the short-range interactions.\n",
    "\n",
    "**Exercise:**\n",
    "\n",
    "* Set up a system with box length $10\\,\\sigma$, integrator time step $\\Delta t=0.01 \\,\\tau$ ($\\tau$ is the Lennard-Jones timescale, i.e. equal to 1 in the employed unit system) and Verlet skin width of $\\delta = 0.4\\sigma$\n",
    "* Add a total of ``N_ION_PAIRS`` ion pairs at random positions to the simulation box\n",
    "* Add a WCA interaction (purely repulsive Lennard-Jones interaction) between the particles\n",
    "\n",
    "**Hints:**\n",
    "* Refer to the documentation to find out how to set up the WCA interaction ([Non-bonded Interactions](https://espressomd.github.io/doc/inter_non-bonded.html))"
   ]
  },
  {
   "cell_type": "code",
   "execution_count": null,
   "id": "01214ecf",
   "metadata": {},
   "outputs": [],
   "source": [
    "# SOLUTION CELL\n",
    "box_l_init = 10.0\n",
    "\n",
    "system = espressomd.System(box_l=3 * [box_l_init])\n",
    "\n",
    "system.time_step = 0.01\n",
    "system.cell_system.skin = 0.4\n",
    "\n",
    "system.part.add(pos=np.random.rand(N_ION_PAIRS, 3) * box_l_init,\n",
    "                type=[types[\"Xplus\"]] * N_ION_PAIRS,\n",
    "                q=[charges[\"Xplus\"]] * N_ION_PAIRS)\n",
    "system.part.add(pos=np.random.rand(N_ION_PAIRS, 3) * box_l_init,\n",
    "                type=[types[\"Xminus\"]] * N_ION_PAIRS,\n",
    "                q=[charges[\"Xminus\"]] * N_ION_PAIRS)\n",
    "\n",
    "for i in types:\n",
    "    for j in types:\n",
    "        system.non_bonded_inter[types[i], types[j]].wca.set_params(epsilon=LJ_EPSILON, sigma=LJ_SIGMA)"
   ]
  },
  {
   "cell_type": "code",
   "execution_count": null,
   "id": "151457b2",
   "metadata": {},
   "outputs": [],
   "source": []
  },
  {
   "cell_type": "markdown",
   "id": "9e50455c",
   "metadata": {},
   "source": [
    "**Exercise:**\n",
    "\n",
    "* Implement a function ``system_setup(c_salt_SI)`` that takes the desired salt concentration ``c_salt_SI`` in SI-units (mol/l) as an argument and rescales the simulation box accordingly\n",
    "* Afterwards, the function should also add the P3M actor to account for electrostatic interactions\n",
    "\n",
    "**Hints:**\n",
    "\n",
    "* Use the prefactor ``PREF`` defined above to convert the concentration from SI-units to the unit system employed in the simulation\n",
    "* An accuracy of $10^{-3}$ for the P$^3$M should be enough for this exercise"
   ]
  },
  {
   "cell_type": "code",
   "execution_count": null,
   "id": "6a4f050e",
   "metadata": {},
   "outputs": [],
   "source": [
    "# SOLUTION CELL\n",
    "ci_params = {}  # optional P3M parameters constraints\n",
    "\n",
    "def system_setup(c_salt_SI):\n",
    "    print(f\"Salt concentration: {c_salt_SI:.12g} mol/l\", flush=True)\n",
    "    c_salt_sim = c_salt_SI / PREF\n",
    "    box_length = np.cbrt(N_ION_PAIRS / c_salt_sim)\n",
    "    \n",
    "    # rescale box\n",
    "    system.change_volume_and_rescale_particles(d_new=box_length)\n",
    "    print(\"Rescaled the simulation box.\", flush=True)\n",
    "    \n",
    "    # add P3M\n",
    "    p3m = espressomd.electrostatics.P3M(prefactor=BJERRUM_LENGTH, accuracy=1e-3, **ci_params)\n",
    "    system.electrostatics.solver = p3m"
   ]
  },
  {
   "cell_type": "code",
   "execution_count": null,
   "id": "a3b8fbd5",
   "metadata": {},
   "outputs": [],
   "source": []
  },
  {
   "cell_type": "markdown",
   "id": "ebdd16fe",
   "metadata": {},
   "source": [
    "**Exercise:**\n",
    "\n",
    "* Implement a function ``warmup()`` that removes potential overlaps between particles with 10000 steps of the steepest descent integrator and performs a warmup integration with 100 loops of 100 simulation steps\n",
    "\n",
    "**Hints:**\n",
    "\n",
    "* keep in mind that after the overlaps have been removed, the integrator should be switched\n",
    "  back to Velocity-Verlet with the Langevin thermostat (using ``GAMMA`` and ``KT``)\n",
    "  in order to perform a warmup integration\n",
    "* to show the progression of ``for`` loops, use the syntax ``for i in tqdm.tqdm(range(100))``"
   ]
  },
  {
   "cell_type": "code",
   "execution_count": null,
   "id": "fb551bde",
   "metadata": {},
   "outputs": [],
   "source": [
    "# SOLUTION CELL\n",
    "def warmup():\n",
    "    FMAX = 0.01 * LJ_SIGMA * MASS / system.time_step**2\n",
    "\n",
    "    system.integrator.set_steepest_descent(\n",
    "        f_max=FMAX,\n",
    "        gamma=1e-3,\n",
    "        max_displacement=0.01)\n",
    "    print(\"Remove overlaps...\", flush=True)\n",
    "    system.integrator.run(5000)\n",
    "    assert np.all(np.abs(system.part.all().f) < FMAX), \"Overlap removal did not converge!\"\n",
    "\n",
    "    system.integrator.set_vv()\n",
    "    system.thermostat.set_langevin(kT=KT, gamma=GAMMA, seed=42)\n",
    "\n",
    "    print(\"Running warmup integration...\", flush=True)\n",
    "    for i in tqdm.tqdm(range(100)):\n",
    "        system.integrator.run(100)"
   ]
  },
  {
   "cell_type": "code",
   "execution_count": null,
   "id": "09f05a53",
   "metadata": {},
   "outputs": [],
   "source": []
  },
  {
   "cell_type": "markdown",
   "id": "ca69b646",
   "metadata": {},
   "source": [
    "**Exercise:**\n",
    "\n",
    "* Add the functionality to perform Widom insertion moves. Make sure that you always insert an ion pair in order to conserve the system electroneutrality.\n",
    "\n",
    "**Hints:**\n",
    "\n",
    "* Refer to the documentation to find out how to set up Widom particle insertion ([Widom Insertion](https://espressomd.github.io/doc/reaction_methods.html#widom-insertion-for-homogeneous-systems))"
   ]
  },
  {
   "cell_type": "code",
   "execution_count": null,
   "id": "ec709bf2",
   "metadata": {},
   "outputs": [],
   "source": [
    "# SOLUTION CELL\n",
    "# add reaction for Widom particle insertion\n",
    "widom = espressomd.reaction_methods.WidomInsertion(kT=KT, seed=42)\n",
    "widom.add_reaction(reactant_types=[], reactant_coefficients=[],\n",
    "                   product_types=[types[\"Xplus\"], types[\"Xminus\"]], product_coefficients=[1, 1],\n",
    "                   default_charges={types[\"Xplus\"]: charges[\"Xplus\"], types[\"Xminus\"]: charges[\"Xminus\"]})\n",
    "widom.set_non_interacting_type(type=len(types) + 1)"
   ]
  },
  {
   "cell_type": "code",
   "execution_count": null,
   "id": "45109fb7",
   "metadata": {},
   "outputs": [],
   "source": []
  },
  {
   "cell_type": "markdown",
   "id": "502e56c7",
   "metadata": {},
   "source": [
    "**Exercise:**\n",
    "\n",
    "* Implement a function ``calculate_excess_chemical_potential(n_md_steps, n_mc_steps, sample_size)``\n",
    "  that performs ``n_mc_steps`` Widom particle insertions every ``n_md_steps`` MD steps in a loop\n",
    "  that repeats ``sample_size`` times and returns the chemical potential and its error as a tuple via\n",
    "  [widom.calculate_excess_chemical_potential()](https://espressomd.github.io/doc/espressomd.html#espressomd.reaction_methods.WidomInsertion.calculate_excess_chemical_potential)\n",
    "* Implement a function ``system_teardown()`` that removes the electrostatics solver and turns off the thermostat"
   ]
  },
  {
   "cell_type": "code",
   "execution_count": null,
   "id": "f19ffb83",
   "metadata": {},
   "outputs": [],
   "source": [
    "# SOLUTION CELL\n",
    "def calculate_excess_chemical_potential(n_md_steps, n_mc_steps, sample_size):\n",
    "    potential_energy_samples = []\n",
    "\n",
    "    print(\"Sampling...\", flush=True)\n",
    "    for i in tqdm.tqdm(range(sample_size)):\n",
    "        system.integrator.run(n_md_steps)\n",
    "        for j in range(n_mc_steps):\n",
    "            e_pot = widom.calculate_particle_insertion_potential_energy(reaction_id=0)\n",
    "            potential_energy_samples.append(e_pot)\n",
    "\n",
    "    excess_chemical_potential, error_excess_chemical_potential = \\\n",
    "        widom.calculate_excess_chemical_potential(\n",
    "            particle_insertion_potential_energy_samples=potential_energy_samples)\n",
    "    print(f\"Excess chemical potential: {excess_chemical_potential:.4g}\\n\", flush=True)\n",
    "\n",
    "    return excess_chemical_potential, error_excess_chemical_potential\n",
    "\n",
    "def system_teardown():\n",
    "    system.electrostatics.clear()\n",
    "    system.thermostat.turn_off()"
   ]
  },
  {
   "cell_type": "code",
   "execution_count": null,
   "id": "52971154",
   "metadata": {},
   "outputs": [],
   "source": []
  },
  {
   "cell_type": "markdown",
   "id": "dcc9cf9e",
   "metadata": {},
   "source": [
    "# Production Run and Comparison with Analytical Theory"
   ]
  },
  {
   "cell_type": "markdown",
   "id": "6d0073ff",
   "metadata": {},
   "source": [
    "Now we are ready to perform measurements of the excess chemical potential using the Widom particle insertion method.\n",
    "We will perform chemical potential measurements using the Widom method at different salt concentrations $c_{\\mathrm{salt}}\\in\\left\\{0.003\\,\\mathrm{M},\\,0.01\\,\\mathrm{M},\\, 0.03\\,\\mathrm{M},\\,0.1\\,\\mathrm{M},\\, 0.3\\,\\mathrm{M}\\right\\}$"
   ]
  },
  {
   "cell_type": "code",
   "execution_count": null,
   "id": "9ab4422e",
   "metadata": {},
   "outputs": [],
   "source": [
    "salt_concentrations = np.array([0.003, 0.01, 0.03, 0.1, 0.3])\n",
    "excess_chemical_potentials = []\n",
    "sample_size = 250\n",
    "import time\n",
    "start = time.time()\n",
    "for c_salt_SI in salt_concentrations:\n",
    "    system_setup(c_salt_SI)\n",
    "    warmup()\n",
    "    mu_ex = calculate_excess_chemical_potential(n_md_steps=100, n_mc_steps=100, sample_size=sample_size)\n",
    "    excess_chemical_potentials.append(mu_ex)\n",
    "    system_teardown()\n",
    "excess_chemical_potentials = np.asarray(excess_chemical_potentials)\n",
    "end = time.time()\n",
    "print(f\"Elapsed time: {(end - start) / 60:.1f} min\", flush=True)"
   ]
  },
  {
   "cell_type": "markdown",
   "id": "a1638b90",
   "metadata": {},
   "source": [
    "We will now plot the measured excess chemical potential as a function of $c_{\\mathrm{salt}}$ using\n",
    "a logarithmically scaled x-axis.\n",
    "\n",
    "**Exercise:**\n",
    "\n",
    "* Explain the observed behaviour qualitatively\n",
    "* How do you expect the excess chemical potential to behave in the limit $c_{\\mathrm{salt}}\\rightarrow 0$ mol/l?"
   ]
  },
  {
   "cell_type": "code",
   "execution_count": null,
   "id": "07901af4",
   "metadata": {},
   "outputs": [],
   "source": [
    "fig = plt.figure(figsize=(10, 8))\n",
    "plt.errorbar(salt_concentrations,\n",
    "             excess_chemical_potentials[:, 0],\n",
    "             yerr=excess_chemical_potentials[:, 1],\n",
    "             linestyle=\"none\", marker=\"o\", markersize=5., capsize=5.,\n",
    "             label=r\"Widom method\")\n",
    "plt.xlabel(r\"salt concentration $c_{\\mathrm{salt}}$ (mol/l)\")\n",
    "plt.ylabel(r\"excess chemical potential $\\mu_{\\mathrm{ex}}$ ($k_{\\mathrm{B}}T$)\")\n",
    "plt.xscale(\"log\")\n",
    "plt.xlim((2e-3, 0.6))\n",
    "plt.ylim((-0.8, 0.0))\n",
    "plt.legend()\n",
    "plt.show()"
   ]
  },
  {
   "cell_type": "markdown",
   "id": "07b08603",
   "metadata": {},
   "source": [
    "There is a number of analytical and phenomenological theories to describe\n",
    "the excess chemical potential of salt solutions using analytical expressions <a href='#[2]'>[2]</a>,\n",
    "using the property that $\\mu_{\\textrm{ex}} = k_{\\mathrm{B}}T \\ln{\\gamma_{\\pm}}$,\n",
    "with $\\gamma_{\\pm}$ the mean activity coefficient of the salt.\n",
    "Examples are the extended Debye-Hückel (DH) equation,\n",
    "\n",
    "\\begin{equation}\n",
    "\\mu_{\\textrm{ex}}^{\\textrm{DH}}=-2\\cdot k_{\\mathrm{B}}T\\cdot \\ln{10} \\cdot \\frac{A \\sqrt{c_{\\mathrm{salt}}/c^{\\ominus}}}{1+B\\sqrt{c_{\\mathrm{salt}}/c^{\\ominus}}}\n",
    "\\end{equation}\n",
    "\n",
    "for ionic strengths up to 0.01 mol/l, and the Davies equation,\n",
    "\n",
    "\\begin{equation}\n",
    "\\mu_{\\textrm{ex}}^{\\textrm{Davies}}=-2\\cdot k_{\\mathrm{B}}T\\cdot \\ln{10} \\cdot A \\cdot\\left(\\frac{\\sqrt{c_{\\mathrm{salt}}/c^{\\ominus}}}{1+\\sqrt{c_{\\mathrm{salt}}/c^{\\ominus}}}-C\\cdot c_{\\mathrm{salt}}/c^{\\ominus}\\right)\n",
    "\\end{equation}\n",
    "\n",
    "which results from an empirical extension of the Debye-Hückel theory for ionic strengths up to 1 mol/l,\n",
    "with $c^{\\ominus} = 1$ mol/l the standard concentration, and parameters\n",
    "$A = 1.82 \\cdot 10^{6} (\\varepsilon_0 \\varepsilon_{\\mathrm{r}} T)^{-3/2} \\simeq 0.509$,\n",
    "$B \\simeq 1.0$ and $C = 0.2$ in reduced units for NaCl in an aqueous solution at 25°C.\n",
    "\n",
    "**Exercise:**\n",
    "\n",
    "* Compare your simulation results with the Debye-Hückel theory and the Davies equation by plotting all three curves in a single plot\n",
    "\n",
    "**Hint:**\n",
    "\n",
    "* re-use the code from the previous figure\n",
    "* create a logarithmic concentration range from $10^{-4}$ to $10^{0}$ mol/l with ``np.logspace(-4, 0.0, num=500, base=10)`` to plot the analytical solutions"
   ]
  },
  {
   "cell_type": "code",
   "execution_count": null,
   "id": "7bfae353",
   "metadata": {},
   "outputs": [],
   "source": [
    "# SOLUTION CELL\n",
    "def davies_equation(c_salt):\n",
    "    A = 0.509\n",
    "    C = 0.2\n",
    "    mu_ex = - 2 * np.log(10) * A * (np.sqrt(c_salt) / (1 + np.sqrt(c_salt)) - C * c_salt)\n",
    "    return mu_ex\n",
    "\n",
    "def dh_equation(c_salt):\n",
    "    A = 0.509\n",
    "    B = 1.0\n",
    "    mu_ex = - 2 * np.log(10) * (A * np.sqrt(c_salt) / (1 + B * np.sqrt(c_salt)))\n",
    "    return mu_ex\n",
    "\n",
    "concentration_range = np.logspace(-4, 0.0, num=500, base=10)\n",
    "\n",
    "fig = plt.figure(figsize=(10, 8))\n",
    "plt.plot(concentration_range, davies_equation(concentration_range),\n",
    "         label=r\"Davies equation\", color=\"r\")\n",
    "plt.plot(concentration_range, dh_equation(concentration_range),\n",
    "         label=r\"Debye-Hückel equation\", color=\"black\", linestyle=\"dashed\")\n",
    "plt.errorbar(salt_concentrations,\n",
    "             excess_chemical_potentials[:, 0],\n",
    "             yerr=excess_chemical_potentials[:, 1],\n",
    "             linestyle=\"none\", marker=\"o\", markersize=5., capsize=5.,\n",
    "             label=r\"Widom method\")\n",
    "plt.xlabel(r\"salt concentration $c_{\\mathrm{salt}}$ (mol/l)\")\n",
    "plt.ylabel(r\"excess chemical potential $\\mu_{\\mathrm{ex}}$ ($k_{\\mathrm{B}}T$)\")\n",
    "plt.xscale(\"log\")\n",
    "plt.xlim((2e-3, 0.6))\n",
    "plt.ylim((-0.8, 0.0))\n",
    "plt.legend()\n",
    "plt.show()"
   ]
  },
  {
   "cell_type": "code",
   "execution_count": null,
   "id": "c2a8b8a3",
   "metadata": {},
   "outputs": [],
   "source": []
  },
  {
   "cell_type": "markdown",
   "id": "66f8b9b2",
   "metadata": {},
   "source": [
    "# Further Exercises\n",
    "\n",
    "1. Derive equation (4) starting from the canonical partition function.\n",
    "2. What problems would you run into if you tried to use the Widom insertion method with large molecules (e.g. polymers) as test particles?"
   ]
  },
  {
   "cell_type": "markdown",
   "id": "b5889126",
   "metadata": {},
   "source": [
    "# References"
   ]
  },
  {
   "cell_type": "markdown",
   "id": "fe0581dd",
   "metadata": {},
   "source": [
    "<a id='[1]'></a>[1] B. Widom. Some topics in the theory of fluids. Journal of Chemical Physics, 39:2808, 1963, doi:[10.1063/1.1734110](https://doi.org/10.1063/1.1734110).  \n",
    "\n",
    "<a id='[2]'></a>[2] P. Atkins, J. de Paula and J. Keeler. Atkins' Physical Chemistry, 11<sup>th</sup> edition, Volume 3: Molecular Thermodynamics and Kinetics, Chapter 5F.4: The activities of ions, pp. 205–208. Oxford University Press, 2019, ISBN: 978-0-19-882-336-0.  "
   ]
  }
 ],
 "metadata": {
  "kernelspec": {
   "display_name": "Python 3",
   "language": "python",
   "name": "python3"
  },
  "language_info": {
   "codemirror_mode": {
    "name": "ipython",
    "version": 3
   },
   "file_extension": ".py",
   "mimetype": "text/x-python",
   "name": "python",
   "nbconvert_exporter": "python",
   "pygments_lexer": "ipython3",
   "version": "3.8.10"
  }
 },
 "nbformat": 4,
 "nbformat_minor": 5
}
