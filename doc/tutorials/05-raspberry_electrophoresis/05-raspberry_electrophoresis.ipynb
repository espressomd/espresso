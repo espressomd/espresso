{
 "cells": [
  {
   "cell_type": "markdown",
   "metadata": {},
   "source": [
    "# Tutorial 5: Raspberry Electrophoresis"
   ]
  },
  {
   "cell_type": "markdown",
   "metadata": {},
   "source": [
    "## 1 Tutorial Outline\n",
    "\n",
    "Welcome to the raspberry electrophoresis **ESPResSo** tutorial! This tutorial assumes some basic knowledge of **ESPResSo**.\n",
    "The first step is compiling **ESPResSo** with the appropriate flags, as listed in Sec. 2.\n",
    "The tutorial starts by discussing how to build a colloid out of a series of MD beads. These particles typically\n",
    "resemble a raspberry as can be seen in Fig. 1. After covering the construction of a raspberry colloid, we then\n",
    "briefly discuss the inclusion of hydrodynamic interactions via a lattice-Boltzmann fluid. Finally we will cover\n",
    "including ions via the restrictive primitive model (hard sphere ions) and the addition of an electric field\n",
    "to measure the electrokinetic properties. this script will run a raspberry electrophoresis simulation and write the time and position of the colloid out to a file named <tt>posVsTime.dat</tt> in the same directory.\n",
    "A sample set of data is included in the file <tt>posVsTime_sample.dat</tt>."
   ]
  },
  {
   "cell_type": "markdown",
   "metadata": {},
   "source": [
    "## 2 Compiling ESPResSo for this Tutorial\n",
    "\n",
    "The first thing to do with any **ESPResSo** project is to compile **ESPResSo** with all of the necessary features.\n",
    "The following <tt>myconfig.hpp</tt> example contains all of the flags needed for running the accompanying Python script.\n",
    "Please compile **ESPResSo** using this <tt>myconfig.hpp</tt> before starting this tutorial.\n",
    "\n",
    "```c++\n",
    "#define ELECTROSTATICS\n",
    "#define ROTATION\n",
    "#define ROTATIONAL_INERTIA\n",
    "#define EXTERNAL_FORCES\n",
    "#define MASS\n",
    "#define VIRTUAL_SITES_RELATIVE\n",
    "#define LENNARD_JONES\n",
    "```"
   ]
  },
  {
   "cell_type": "markdown",
   "metadata": {},
   "source": [
    "## 3 Global MD Variables\n",
    "\n",
    "The first thing to do in any **ESPResSo** simulation is to import our espressomd features and set a few global simulation parameters:"
   ]
  },
  {
   "cell_type": "code",
   "execution_count": null,
   "metadata": {},
   "outputs": [],
   "source": [
    "import espressomd\n",
    "espressomd.assert_features([\"ELECTROSTATICS\", \"ROTATION\", \"ROTATIONAL_INERTIA\", \"EXTERNAL_FORCES\",\n",
    "                            \"MASS\", \"VIRTUAL_SITES_RELATIVE\", \"CUDA\", \"LENNARD_JONES\"])\n",
    "from espressomd import interactions\n",
    "from espressomd import electrostatics\n",
    "from espressomd import lb\n",
    "from espressomd.virtual_sites import VirtualSitesRelative\n",
    "\n",
    "import sys\n",
    "import numpy as np\n",
    "\n",
    "\n",
    "# Print enabled features\n",
    "print(espressomd.features())\n",
    "\n",
    "# System parameters\n",
    "#############################################################\n",
    "box_l = 40.  # size of the simulation box\n",
    "\n",
    "skin = 0.3  # Skin parameter for the Verlet lists\n",
    "time_step = 0.01\n",
    "eq_tstep = 0.001\n",
    "\n",
    "n_cycle = 1000\n",
    "integ_steps = 150\n",
    "\n",
    "# Interaction parameters (Lennard-Jones for raspberry)\n",
    "#############################################################\n",
    "radius_col = 3.\n",
    "harmonic_radius = 3.0\n",
    "\n",
    "# the subscript c is for colloid and s is for salt (also used for the surface beads)\n",
    "eps_ss = 1.   # LJ epsilon between the colloid's surface particles.\n",
    "sig_ss = 1.   # LJ sigma between the colloid's surface particles.\n",
    "eps_cs = 48.  # LJ epsilon between the colloid's central particle and surface particles.\n",
    "sig_cs = radius_col  # LJ sigma between the colloid's central particle and surface particles (colloid's radius).\n",
    "a_eff = 0.32  # effective hydrodynamic radius of a bead due to the discreteness of LB.\n",
    "\n",
    "# System setup\n",
    "#############################################################\n",
    "system = espressomd.System(box_l=[box_l] * 3)\n",
    "system.set_random_state_PRNG()\n",
    "system.time_step = time_step"
   ]
  },
  {
   "cell_type": "markdown",
   "metadata": {},
   "source": [
    "The parameter <tt>box_l</tt> sets the size of the simulation box. In general, one should check for finite\n",
    "size effects which can be surprisingly large in simulations using hydrodynamic interactions. They\n",
    "also generally scale as <tt>box_l</tt>$^{-1}$ or <tt>box_l</tt>$^{-3}$ depending on the transport mechanism\n",
    "which sometimes allows for the infinite box limit to be extrapolated to, instead of using an\n",
    "excessively large simulation box. As a rule of thumb, the box size should be five times greater than the characteristic\n",
    "length scale of the object. Note that this example uses a small box \n",
    "to provide a shorter simulation time.\n",
    "\n"
   ]
  },
  {
   "cell_type": "code",
   "execution_count": null,
   "metadata": {},
   "outputs": [],
   "source": [
    "system.cell_system.skin = skin"
   ]
  },
  {
   "cell_type": "markdown",
   "metadata": {},
   "source": [
    "The skin is used for constructing\n",
    "the Verlet lists and is purely an optimization parameter. Whatever value provides the fastest\n",
    "integration speed should be used. For the type of simulations covered in this tutorial, this value turns out\n",
    "to be <tt>skin</tt>$\\ \\approx 0.3$."
   ]
  },
  {
   "cell_type": "code",
   "execution_count": null,
   "metadata": {},
   "outputs": [],
   "source": [
    "system.periodicity = [1, 1, 1]"
   ]
  },
  {
   "cell_type": "markdown",
   "metadata": {},
   "source": [
    "The <tt>periodicity</tt> parameter indicates that the system is periodic in all three\n",
    "dimensions. Note that the lattice-Boltzmann algorithm requires periodicity in all three directions (although\n",
    "this can be modified using boundaries, a topic not covered in this tutorial). "
   ]
  },
  {
   "cell_type": "markdown",
   "metadata": {},
   "source": [
    "## 4 Setting up the Raspberry\n",
    "\n",
    "Setting up the raspberry is a non-trivial task. The main problem lies in creating a relatively\n",
    "uniform distribution of beads on the surface of the colloid. In general one should take about 1 bead per lattice-Boltzmann grid\n",
    "point on the surface to ensure that there are no holes in the surface. The behavior of the colloid can be further improved by placing\n",
    "beads inside the colloid, though this is not done in this example script. In our example\n",
    "we first define a harmonic interaction causing the surface beads to be attracted\n",
    "to the center, and a Lennard-Jones interaction preventing the beads from entering the colloid. There is also a Lennard-Jones\n",
    "potential between the surface beads to get them to distribute evenly on the surface. \n"
   ]
  },
  {
   "cell_type": "code",
   "execution_count": null,
   "metadata": {},
   "outputs": [],
   "source": [
    "# the LJ potential with the central bead keeps all the beads from simply collapsing into the center\n",
    "system.non_bonded_inter[1, 0].lennard_jones.set_params(\n",
    "    epsilon=eps_cs, sigma=sig_cs,\n",
    "    cutoff=sig_cs * np.power(2., 1. / 6.), shift=\"auto\")\n",
    "# the LJ potential (WCA potential) between surface beads causes them to be roughly equidistant on the\n",
    "# colloid surface\n",
    "system.non_bonded_inter[1, 1].lennard_jones.set_params(\n",
    "    epsilon=eps_ss, sigma=sig_ss,\n",
    "    cutoff=sig_ss * np.power(2., 1. / 6.), shift=\"auto\")\n",
    "\n",
    "# the harmonic potential pulls surface beads towards the central colloid bead\n",
    "col_center_surface_bond = interactions.HarmonicBond(k=3000., r_0=harmonic_radius)\n",
    "system.bonded_inter.add(col_center_surface_bond)"
   ]
  },
  {
   "cell_type": "markdown",
   "metadata": {},
   "source": [
    "We set up the central bead and the other beads are initialized at random positions on the surface of the colloid. The beads are then allowed to relax using\n",
    "an integration loop where the forces between the beads are capped. \n"
   ]
  },
  {
   "cell_type": "code",
   "execution_count": null,
   "metadata": {},
   "outputs": [],
   "source": [
    "# for the warmup we use a Langevin thermostat with an extremely low temperature and high friction coefficient\n",
    "# such that the trajectories roughly follow the gradient of the potential while not accelerating too much\n",
    "system.thermostat.set_langevin(kT=0.00001, gamma=40., seed=42)\n",
    "\n",
    "print(\"# Creating raspberry\")\n",
    "center = system.box_l / 2 \n",
    "colPos = center\n",
    "\n",
    "# Charge of the colloid\n",
    "q_col = -40\n",
    "# Number of particles making up the raspberry (surface particles + the central particle).\n",
    "n_col_part = int(4 * np.pi * np.power(radius_col, 2) + 1)\n",
    "\n",
    "# Place the central particle \n",
    "system.part.add(id=0, pos=colPos, type=0, q=q_col, fix=(1, 1, 1),\n",
    "                rotation=(1, 1, 1))  # Create central particle\n",
    "\n",
    "# Create surface beads uniformly distributed over the surface of the central particle\n",
    "for i in range(1, n_col_part):\n",
    "    colSurfPos = np.random.randn(3)\n",
    "    colSurfPos = colSurfPos / np.linalg.norm(colSurfPos) * radius_col + colPos\n",
    "    system.part.add(id=i, pos=colSurfPos, type=1)\n",
    "    system.part[i].add_bond((col_center_surface_bond, 0))\n",
    "print(\"# Number of colloid beads = {}\".format(n_col_part))\n",
    "\n",
    "# Relax bead positions. The LJ potential with the central bead combined with the\n",
    "# harmonic bond keep the monomers roughly radius_col away from the central bead. The LJ\n",
    "# between the surface beads cause them to distribute more or less evenly on the surface.\n",
    "system.force_cap = 1000\n",
    "system.time_step = eq_tstep\n",
    "\n",
    "print(\"Relaxation of the raspberry surface particles\")\n",
    "for i in range(n_cycle):\n",
    "    system.integrator.run(integ_steps)\n",
    "\n",
    "# Restore time step\n",
    "system.time_step = time_step"
   ]
  },
  {
   "cell_type": "markdown",
   "metadata": {},
   "source": [
    "The best way to ensure a relatively uniform distribution\n",
    "of the beads on the surface is to simply take a look at a VMD snapshot of the system after this integration. Such a snapshot is shown in Fig. 1."
   ]
  },
  {
   "cell_type": "markdown",
   "metadata": {},
   "source": [
    "<figure>\n",
    "    <img src='figures/raspberry_snapshot.png' alt='missing' style=\"width: 600px;\"/>\n",
    "    <center>\n",
    "    <figcaption>Figure 1: A snapshot of the simulation consisting of positive salt ions (yellow spheres), negative salt ions (grey spheres) and surface beads (blue spheres). There is also a central bead in the middle of the colloid bearing a large negative  charge.</figcaption>\n",
    "    </center>\n",
    "</figure>"
   ]
  },
  {
   "cell_type": "markdown",
   "metadata": {},
   "source": [
    "In order to make the colloid perfectly round, we now adjust the bead's positions to be exactly <tt>radius_col</tt> away\n",
    "from the central bead."
   ]
  },
  {
   "cell_type": "code",
   "execution_count": null,
   "metadata": {},
   "outputs": [],
   "source": [
    "# this loop moves the surface beads such that they are once again exactly radius_col away from the center\n",
    "# For the scalar distance, we use system.distance() which considers periodic boundaires\n",
    "# and the minimum image convention\n",
    "colPos = system.part[0].pos\n",
    "for p in system.part[1:]:\n",
    "    p.pos = (p.pos - colPos) / np.linalg.norm(system.distance(p, system.part[0])) * radius_col + colPos\n",
    "    p.pos = (p.pos - colPos) / np.linalg.norm(p.pos - colPos) * radius_col + colPos"
   ]
  },
  {
   "cell_type": "markdown",
   "metadata": {},
   "source": [
    "Now that the beads are arranged in the shape of a raspberry, the surface beads are made virtual particles\n",
    "using the VirtualSitesRelative scheme. This converts the raspberry to a rigid body\n",
    "in which the surface particles follow the translation and rotation of the central particle.\n",
    "Newton's equations of motion are only integrated for the central particle.\n",
    "It is given an appropriate mass and moment of inertia tensor (note that the inertia tensor\n",
    "is given in the frame in which it is diagonal.)"
   ]
  },
  {
   "cell_type": "code",
   "execution_count": null,
   "metadata": {},
   "outputs": [],
   "source": [
    "# Select the desired implementation for virtual sites\n",
    "system.virtual_sites = VirtualSitesRelative(have_velocity=True)\n",
    "# Setting min_global_cut is necessary when there is no interaction defined with a range larger than\n",
    "# the colloid such that the virtual particles are able to communicate their forces to the real particle\n",
    "# at the center of the colloid\n",
    "system.min_global_cut = radius_col\n",
    "\n",
    "# Calculate the center of mass position (com) and the moment of inertia (momI) of the colloid\n",
    "com = np.average(system.part[1:].pos, 0)  # system.part[:].pos returns an n-by-3 array\n",
    "momI = 0\n",
    "for i in range(n_col_part):\n",
    "    momI += np.power(np.linalg.norm(com - system.part[i].pos), 2)\n",
    "\n",
    "# note that the real particle must be at the center of mass of the colloid because of the integrator\n",
    "print(\"\\n# moving central particle from {} to {}\".format(system.part[0].pos, com))\n",
    "system.part[0].fix = 0, 0, 0\n",
    "system.part[0].pos = com\n",
    "system.part[0].mass = n_col_part\n",
    "system.part[0].rinertia = np.ones(3) * momI\n",
    "\n",
    "# Convert the surface particles to virtual sites related to the central particle\n",
    "# The id of the central particles is 0, the ids of the surface particles start at 1.\n",
    "for p in system.part[1:]:\n",
    "    p.vs_auto_relate_to(0)"
   ]
  },
  {
   "cell_type": "markdown",
   "metadata": {},
   "source": [
    "## 5 Inserting Counterions and Salt Ions\n",
    "\n",
    "Next we insert enough ions at random positions (outside the radius of the colloid) with opposite charge to the colloid such that the system is electro-neutral. In addition, ions\n",
    "of both signs are added to represent the salt in the solution."
   ]
  },
  {
   "cell_type": "code",
   "execution_count": null,
   "metadata": {},
   "outputs": [],
   "source": [
    "print(\"# Adding the positive ions\")\n",
    "salt_rho = 0.001  # Number density of ions\n",
    "volume = system.volume()\n",
    "N_counter_ions = int(round((volume * salt_rho) + abs(q_col)))\n",
    "\n",
    "i = 0\n",
    "while i < N_counter_ions:\n",
    "    pos = np.random.random(3) * system.box_l\n",
    "    # make sure the ion is placed outside of the colloid\n",
    "    if (np.power(np.linalg.norm(pos - center), 2) > np.power(radius_col, 2) + 1):\n",
    "        system.part.add(pos=pos, type=2, q=1)\n",
    "        i += 1\n",
    "\n",
    "print(\"# Added {} positive ions\".format(N_counter_ions))\n",
    "\n",
    "print(\"\\n# Adding the negative ions\")\n",
    "\n",
    "N_co_ions = N_counter_ions - abs(q_col)\n",
    "i = 0\n",
    "while i < N_co_ions:\n",
    "    pos = np.random.random(3) * system.box_l\n",
    "    # make sure the ion is placed outside of the colloid\n",
    "    if (np.power(np.linalg.norm(pos - center), 2) > np.power(radius_col, 2) + 1):\n",
    "        system.part.add(pos=pos, type=3, q=-1)\n",
    "        i += 1\n",
    "\n",
    "print(\"# Added {} negative ions\".format(N_co_ions))"
   ]
  },
  {
   "cell_type": "markdown",
   "metadata": {},
   "source": [
    "We then check that charge neutrality is maintained"
   ]
  },
  {
   "cell_type": "code",
   "execution_count": null,
   "metadata": {},
   "outputs": [],
   "source": [
    "# Check charge neutrality\n",
    "assert np.abs(np.sum(system.part[:].q)) < 1E-10"
   ]
  },
  {
   "cell_type": "markdown",
   "metadata": {},
   "source": [
    "A WCA potential acts between all of the ions. This potential represents a purely repulsive\n",
    "version of the Lennard-Jones potential, which approximates hard spheres of diameter $\\sigma$. The ions also interact through a WCA potential\n",
    "with the central bead of the colloid, using an offset of around $\\mathrm{radius\\_col}-\\sigma +a_\\mathrm{grid}/2$. This makes\n",
    "the colloid appear as a hard sphere of radius roughly $\\mathrm{radius\\_col}+a_\\mathrm{grid}/2$ to the ions, which is approximately equal to the\n",
    "hydrodynamic radius of the colloid"
   ]
  },
  {
   "cell_type": "code",
   "execution_count": null,
   "metadata": {},
   "outputs": [],
   "source": [
    "# WCA interactions for the ions, essentially giving them a finite volume\n",
    "system.non_bonded_inter[0, 2].lennard_jones.set_params(\n",
    "    epsilon=eps_ss, sigma=sig_ss,\n",
    "    cutoff=sig_ss * pow(2., 1. / 6.), shift=\"auto\", offset=sig_cs - 1 + a_eff)\n",
    "system.non_bonded_inter[0, 3].lennard_jones.set_params(\n",
    "    epsilon=eps_ss, sigma=sig_ss,\n",
    "    cutoff=sig_ss * pow(2., 1. / 6.), shift=\"auto\", offset=sig_cs - 1 + a_eff)\n",
    "system.non_bonded_inter[2, 2].lennard_jones.set_params(\n",
    "    epsilon=eps_ss, sigma=sig_ss,\n",
    "    cutoff=sig_ss * pow(2., 1. / 6.), shift=\"auto\")\n",
    "system.non_bonded_inter[2, 3].lennard_jones.set_params(\n",
    "    epsilon=eps_ss, sigma=sig_ss,\n",
    "    cutoff=sig_ss * pow(2., 1. / 6.), shift=\"auto\")\n",
    "system.non_bonded_inter[3, 3].lennard_jones.set_params(\n",
    "    epsilon=eps_ss, sigma=sig_ss,\n",
    "    cutoff=sig_ss * pow(2., 1. / 6.), shift=\"auto\")"
   ]
  },
  {
   "cell_type": "markdown",
   "metadata": {},
   "source": [
    "After inserting the ions, again a short integration is performed with a force cap to\n",
    "prevent strong overlaps between the ions."
   ]
  },
  {
   "cell_type": "code",
   "execution_count": null,
   "metadata": {},
   "outputs": [],
   "source": [
    "print(\"\\n# Equilibrating the ions (without electrostatics):\")\n",
    "# Langevin thermostat for warmup before turning on the LB.\n",
    "temperature = 1.0\n",
    "system.thermostat.set_langevin(kT=temperature, gamma=1.)\n",
    "\n",
    "print(\"Removing overlap between ions\")\n",
    "ljcap = 100\n",
    "CapSteps = 100\n",
    "for i in range(CapSteps):\n",
    "    system.force_cap = ljcap\n",
    "    system.integrator.run(integ_steps)\n",
    "    ljcap += 5\n",
    "\n",
    "system.force_cap = 0"
   ]
  },
  {
   "cell_type": "markdown",
   "metadata": {},
   "source": [
    "## 6 Electrostatics\n",
    "\n",
    "Electrostatics are simulated using the Particle-Particle Particle-Mesh (P3M) algorithm. In **ESPResSo** this can be added to the simulation rather trivially:"
   ]
  },
  {
   "cell_type": "code",
   "execution_count": null,
   "metadata": {},
   "outputs": [],
   "source": [
    "# Turning on the electrostatics\n",
    "# Note: Production runs would typically use a target accuracy of 10^-4\n",
    "print(\"\\n# p3m starting...\")\n",
    "bjerrum = 2.\n",
    "p3m = electrostatics.P3M(prefactor=bjerrum * temperature, accuracy=0.001)\n",
    "system.actors.add(p3m)\n",
    "print(\"# p3m started!\")"
   ]
  },
  {
   "cell_type": "markdown",
   "metadata": {},
   "source": [
    "Generally a Bjerrum length of $2$ is appropriate when using WCA interactions with $\\sigma=1$, since a typical ion has a radius of $0.35\\ \\mathrm{nm}$, while the Bjerrum\n",
    "length in water is around $0.7\\ \\mathrm{nm}$.\n",
    "\n",
    "The external electric field is simulated by simply adding a constant force equal to the simulated field times the particle charge. Generally the electric field is set to $0.1$ in MD units,\n",
    "which is the maximum field before the response becomes nonlinear. Smaller fields are also possible, but the required simulation time is considerably larger. Sometimes, Green-Kubo methods\n",
    "are also used, but these are generally only feasible in cases where there is either no salt or a very low salt concentration."
   ]
  },
  {
   "cell_type": "code",
   "execution_count": null,
   "metadata": {},
   "outputs": [],
   "source": [
    "Efield = np.array((0.1, 0, 0)) # an electric field of 0.1 is the upper limit of the linear response regime for this model\n",
    "for p in system.part:\n",
    "    p.ext_force = p.q * Efield"
   ]
  },
  {
   "cell_type": "markdown",
   "metadata": {},
   "source": [
    "## 7 Lattice-Boltzmann\n",
    "\n",
    "Before creating the LB fluid it is a good idea to set all of the particle velocities to zero.\n",
    "This is necessary to set the total momentum of the system to zero. Failing to do so will lead to an unphysical drift of the system, which\n",
    "will change the values of the measured velocities."
   ]
  },
  {
   "cell_type": "code",
   "execution_count": null,
   "metadata": {},
   "outputs": [],
   "source": [
    "system.part[:].v = (0, 0, 0)"
   ]
  },
  {
   "cell_type": "markdown",
   "metadata": {},
   "source": [
    "The important parameters for the LB fluid are the density, the viscosity, the time step,\n",
    "and the friction coefficient used to couple the particle motion to the fluid.\n",
    "The time step should generally be comparable to the MD time step. While\n",
    "large time steps are possible, a time step of $0.01$ turns out to provide more reasonable values for the root mean squared particle velocities. Both density and viscosity\n",
    "should be around $1$, while the friction should be set around $20.$ The grid spacing should be comparable to the ions' size."
   ]
  },
  {
   "cell_type": "code",
   "execution_count": null,
   "metadata": {},
   "outputs": [],
   "source": [
    "lb=espressomd.lb.LBFluidGPU(kT=temperature, seed=42, dens=1., visc=3., agrid=1., tau=system.time_step)\n",
    "system.actors.add(lb)\n"
   ]
  },
  {
   "cell_type": "markdown",
   "metadata": {},
   "source": [
    "A logical way of picking a specific set of parameters is to choose them such that the hydrodynamic radius of an ion roughly matches its physical radius determined by the\n",
    "WCA potential ($R=0.5\\sigma$). Using the following equation:\n",
    "\n",
    "\\begin{equation}\n",
    "\\frac{1}{\\Gamma}=\\frac{1}{6\\pi \\eta R_{\\mathrm{H0}}}=\\frac{1}{\\Gamma_0} \n",
    "+\\frac{1}{g\\eta a} \n",
    " \\label{effectiveGammaEq}\n",
    "\\end{equation}\n",
    "\n",
    "one can see that the set of parameters grid spacing $a=1\\sigma$, fluid density $\\rho=1$, a \n",
    "kinematic viscosity of $\\nu=3 $ and a friction of $\\Gamma_0=50$ leads to a hydrodynamic radius\n",
    "of approximately $0.5\\sigma$.\n",
    "\n",
    "The last step is to first turn off all other thermostats, followed by turning on the LB thermostat. The temperature is typically set to 1, which is equivalent to setting\n",
    "$k_\\mathrm{B}T=1$ in molecular dynamics units."
   ]
  },
  {
   "cell_type": "code",
   "execution_count": null,
   "metadata": {},
   "outputs": [],
   "source": [
    "system.thermostat.turn_off()\n",
    "system.thermostat.set_lb(LB_fluid=lb, seed=123, gamma=20.0)"
   ]
  },
  {
   "cell_type": "markdown",
   "metadata": {},
   "source": [
    "## 8 Simulating Electrophoresis\n",
    "\n",
    "Now the main simulation can begin! The only important thing is to make sure the system has enough time to equilibrate. There are two separate equilibration times: 1) the time for the ion distribution to stabilize, and 2) the time\n",
    "needed for the fluid flow profile to equilibrate. In general, the ion distribution equilibrates fast, so the needed warmup time is largely determined by the fluid relaxation time, which can be calculated via $\\tau_\\mathrm{relax} = \\mathrm{box\\_length}^2/\\nu$. This means for a box of size 40 with a kinematic viscosity of 3 as in our example script, the relaxation time is $\\tau_\\mathrm{relax} = 40^2/3 = 533 \\tau_\\mathrm{MD}$, or 53300 integration steps. In general it is a good idea to run for many relaxation times before starting to use the simulation results for averaging observables. To be on the safe side $10^6$ integration steps is a reasonable equilibration time. Please feel free to modify the provided script and try and get some interesting results!"
   ]
  },
  {
   "cell_type": "code",
   "execution_count": null,
   "metadata": {},
   "outputs": [],
   "source": [
    "# Reset the simulation clock\n",
    "system.time = 0\n",
    "initial_pos = system.part[0].pos\n",
    "num_iterations = 1000\n",
    "num_steps_per_iteration = 1000\n",
    "posVsTime = open('posVsTime.dat', 'w')  # file where the raspberry position will be written\n",
    "\n",
    "for i in range(num_iterations):\n",
    "    system.integrator.run(num_steps_per_iteration)\n",
    "    pos = system.part[0].pos - initial_pos\n",
    "    posVsTime.write(\"%.2f %.4f %.4f %.4f\\n\" % (system.time, pos[0], pos[1], pos[2]))\n",
    "    posVsTime.flush()\n",
    "    print(\"# time: {:.0f}, col_pos: {}\".format(system.time, pos))\n",
    "\n",
    "posVsTime.close()\n",
    "\n",
    "print(\"\\n# Finished\")"
   ]
  }
 ],
 "metadata": {
  "kernelspec": {
   "display_name": "Python 2",
   "language": "python",
   "name": "python2"
  },
  "language_info": {
   "codemirror_mode": {
    "name": "ipython",
    "version": 2
   },
   "file_extension": ".py",
   "mimetype": "text/x-python",
   "name": "python",
   "nbconvert_exporter": "python",
   "pygments_lexer": "ipython2",
   "version": "2.7.12"
  }
 },
 "nbformat": 4,
 "nbformat_minor": 1
}
