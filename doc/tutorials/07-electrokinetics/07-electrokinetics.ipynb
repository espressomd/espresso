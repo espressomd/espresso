{
 "cells": [
  {
   "cell_type": "markdown",
   "metadata": {},
   "source": [
    "# Tutorial 7: Electrokinetics"
   ]
  },
  {
   "cell_type": "markdown",
   "metadata": {},
   "source": [
    "## Table of Contents\n",
    "1. [Introduction](#Introduction)\n",
    "2. [Theoretical Background](#Theoretical-Background)\n",
    "   1. [The Electrokinetic Equations](#The-Electrokinetic-Equations)\n",
    "   2. [EOF in the Slit Pore Geometry](#EOF-in-the-Slit-Pore-Geometry)\n",
    "3. [Simulation using ESPResSo](#Simulation-using_ESPResSo)\n",
    "   1. [Setting up ESPResSo](#Setting-up-ESPResSo)\n",
    "   2. [Mapping SI and Simulation Units](#Mapping-SI-and-Simulation-Units)\n",
    "   3. [Setting up the slit pore system](#Setting-up-the-slit-pore-system)\n",
    "4. [References](#References)\n",
    "    "
   ]
  },
  {
   "cell_type": "markdown",
   "metadata": {},
   "source": [
    "## Introduction\n",
    "\n",
    "In recent years the lattice-Boltzmann method (LBM) has proven itself to be a viable way to introduce hydrodynamic interactions into coarse-grained MD simulations with moderate computational cost.\n",
    "The success of the GPU LBM implementation in ESPResSo and similar developments in other software packages created demand for further developments in this area.\n",
    "ESPResSo features two such algorithms, namely ELECTROHYDRODYNAMICS, and ELECTROKINETICS (EK).\n",
    "Both of these make use of the LBM and extend it to coarse-grain not only the solvent molecules but also ionic solutes.\n",
    "ELECTROHYDRODYNAMICS does so using a slip layer coupling for charged particles valid in the thin Debye layer (large salt concentration) limit [1], while EK explicitly treats the ionic solutes in a continuum fashion and is valid for a wide range of salt concentrations [2-4].\n",
    "\n",
    "### Tutorial Outline\n",
    "\n",
    "To make our first steps using ELECTROKINETICS we will work on one of the few systems for which analytic solutions for the electrokinetic equations exist: the slip pore geometry with a counterion-only electrolyte.\n",
    "The same slit pore system is also treated in the LBM tutorial, but there, the ionic species were modeled as explicit particles.\n",
    "For this system, the two approaches lead to exactly the same results [5].\n",
    "Differences became significant for multivalent ions, very high salt concentrations, and very high surface charge, since then the mean-field approach the EK employs, is basically solving the Poisson-Nernst-Planck formalism plus the Navier-Stokes equation on a lattice.\n",
    "This leads to significantly different results from explicit ion approaches [6-8].\n",
    "This tutorial is mainly divided into two sections.\n",
    "* **Theoretical Background** introduces the electrokinetic equations and the analytical solution for the slit pore system.\n",
    "* **Simulation using ESPResSo** deals exclusively with the simulation. \n",
    "\n",
    "If you already know about simple diffusion-migration-advection equations, continuum electrostatics, and Navier-Stokes, then you can skip the first section."
   ]
  },
  {
   "cell_type": "markdown",
   "metadata": {},
   "source": [
    "## Theoretical Background\n"
   ]
  },
  {
   "cell_type": "markdown",
   "metadata": {},
   "source": [
    "### The Electrokinetic Equations\n",
    "\n",
    "In the following, we will derive the equations modeling the time evolution of the concentrations of dissolved species as well as the solvent in the standard electrokinetic model.\n",
    "We do so, neglecting the salt ions' contribution to the overall mass density, which allows us to treat the dynamics of the ions and the fluid separately [8].\n",
    "The solvent fluid will be modeled using the Navier-Stokes equations while we use a set of diffusion-migration-advection equations for the ionic species.\n"
   ]
  },
  {
   "cell_type": "markdown",
   "metadata": {},
   "source": [
    "#### Ionic Species\n",
    "\n",
    "The description starts with the ionic species' concentrations $c_{k}(\\vec{r}, t)$ (number density) and the associated flux densities $\\vec{j}_{k}(\\vec{r}, t)$, for which mass conservation holds\n",
    "\n",
    "\\begin{equation}\n",
    "\\label{eq:model_continuity}\n",
    "\\partial_{t} c_{k} = -\\nabla \\cdot\\vec{j}_{k} . \n",
    "\\end{equation}\n",
    "\n",
    "Here $\\vec{r}$ denotes the spatial coordinate and $t$ the time, while $k$ enumerates the ionic species.\n",
    "The fluxes are caused by diffusion (due to density variations and external forces) and advection.\n",
    "\n",
    "The advective contribution to the flux is given by\n",
    "\n",
    "\\begin{equation}\n",
    "\\label{eq:adv_flux}\n",
    "\\vec{j}_{k}^{\\mathrm{adv.}} = c_{k} \\vec{u} ,\n",
    "\\end{equation}\n",
    "\n",
    "where $\\vec{u}(\\vec{r}, t)$ denotes the fluid velocity (advective velocity).\n",
    "This equation models advection as a simple co-movement of the dissolved ions with the surrounding fluid.\n",
    "All inertial effects of the ions are neglected.\n",
    "\n",
    "The diffusive behavior of the ions is best described in a reference frame co-moving with the local advective velocity $\\vec{u}$.\n",
    "We assume that the species' relative fluxes instantaneously relax to a local equilibrium.\n",
    "This assumption allows us to derive the diffusive fluxes from a local free-energy density, which we define as\n",
    "\n",
    "\\begin{equation}\n",
    "\\label{eq:model_free_energy}\n",
    "f \\big( c_{k}(\\vec{r}) \\big) = \\sum_{k} \\underbrace{k_{\\mathrm{B}}T c_{k}(\\vec{r}) \\left[ \\log \\left\\lbrace \\Lambda_{k}^{3} c_{k}(\\vec{r}) \\right\\rbrace - 1 \\right] }_{\\mathrm{ideal~gas~contribution}} + \\underbrace{z_{k} e c_{k}(\\vec{r}) \\Phi(\\vec{r})}_{\\mathrm{electrostatic~contribution}} ,\n",
    "\\end{equation}\n",
    "\n",
    "with the $\\Lambda_{k}$ the species' thermal de Broglie wavelengths, $z_{k}$ their valencies, and $\\Phi(\\vec{r})$ the electrostatic potential.\n",
    "This free-energy density consists of only an ideal-gas and an electrostatic contribution.\n",
    "The same assumptions form the basis of Poisson-Boltzmann (PB) theory.\n",
    "Hence, the limitations of this model are the same as those of PB.\n",
    "That means this model applies to monovalent ions at low to intermediate densities and surface charges [6,7,11,12].\n",
    "\n",
    "The species' chemical potentials $\\mu_{k}$ implied by the free-energy density read\n",
    "\n",
    "\\begin{equation}\n",
    "\\label{eq:chempot}\n",
    "\\mu_{k}(\\vec{r}) = \\delta_{c_k} f(c_{k}\\big( \\vec r ) \\big) = k_{\\mathrm{B}}T \\log(\\Lambda_{k}^{3} c_{k}(\\vec{r})) + z_{k} e \\Phi(\\vec{r}) .\n",
    "\\end{equation}\n",
    "\n",
    "This in turn allows us to formulate the first-order approximation to the thermodynamic driving force as the gradient of the chemical potential, which we use to define an expression for the diffusive flux\n",
    "\n",
    "\\begin{equation}\n",
    "\\begin{aligned}\n",
    "\\label{eq:model_jdiff}\n",
    "\\vec{j}_{k}^{\\mathrm{diff}} &= \\xi_{k} \\left( -c_{k} \\nabla \\mu_{k} \\right) = -k_{\\mathrm{B}}T \\xi_{k} \\nabla c_{k} - \\xi_{k} z_{k} e c_{k} \\nabla\\Phi \\\\\n",
    "& = -D_{k} \\nabla c_{k} - \\xi_{k} z_{k} e c_{k} \\nabla \\Phi . \n",
    "\\end{aligned}\n",
    "\\end{equation}\n",
    "\n",
    "Here, $\\xi_{k}$ and $D_{k}$ denote the mobility and the diffusion coefficient of species $k$, which are related by the Einstein-Smoluchowski relation $D_{k} / \\xi_{k} = k_{\\mathrm{B}}T$ [12,13].\n",
    "\n",
    "Finally, the total number density flux combining effects of diffusion and advection reads\n",
    "\n",
    "\\begin{equation}\n",
    "\\label{eq:model_fluxes}\n",
    "\\vec{j}_{k} = \\vec{j}_{k}^{\\mathrm{diff}} + \\vec{j}_{k}^{\\mathrm{adv.}} = -D_{k} \\nabla c_{k} - \\xi_{k} z_{k} e c_{k} \\nabla \\Phi + c_{k} \\vec{u} , \n",
    "\\end{equation}\n",
    "\n",
    "where the first term represents Fick's law of diffusion in the absence of an external potential, the second term gives the additional flux due to an external (in this case electrostatic) potential, and the last term introduces the influence of the motion of the underlying solvent."
   ]
  },
  {
   "cell_type": "markdown",
   "metadata": {},
   "source": [
    "#### Electrostatics\n",
    "\n",
    "The dynamics of the charged species in a typical micro- or nanofluidic system are slow compared to the relaxation of the electromagnetic fields.\n",
    "This allows us to use stationary equations to model electromagnetic effects.\n",
    "We further assume that the modeled species do not carry permanent magnetic dipoles and that electric currents in the system are small.\n",
    "Under these conditions, the full set of Maxwell's equations reduces to the Poisson equation\n",
    "\n",
    "\\begin{equation}\n",
    "\\label{eq:model_poisson}\n",
    "\\nabla^2 \\Phi = - \\frac{1}{\\varepsilon} \\sum_{k} z_{k} e c_{k} = -4 \\pi l_\\mathrm{B} k_{\\mathrm{B}}T \\sum_{k} z_{k} c_{k} . \n",
    "\\end{equation}\n",
    "\n",
    "Here $\\varepsilon = \\varepsilon_{0} \\varepsilon_r$ denotes the product of the vacuum permittivity $\\varepsilon_{0}$ with the relative permittivity of the solvent $\\varepsilon_r$.\n",
    "We have also used the Bjerrum-length\n",
    "\n",
    "\\begin{equation}\n",
    "\\label{eq:lbjerr}\n",
    "l_\\mathrm{B} = \\frac{e^{2}}{4 \\pi \\varepsilon k_{\\mathrm{B}}T}.\n",
    "\\end{equation}\n",
    "\n",
    "Finally, we have assumed that the permittivity is spatially homogeneous, since this will allow us to use efficient spectral methods to solve this equation.\n"
   ]
  },
  {
   "cell_type": "markdown",
   "metadata": {},
   "source": [
    "#### Hydrodynamics\n",
    "\n",
    "As said before, since the ionic species' contribute at most a few percent to the overall mass, we can safely approximate the overall fluid's mass by the mass of the solvent (typically water) and model the solvents velocity field $\\vec{u}(\\vec{r}, t)$ using the Navier-Stokes equations for an isotropic, incompressible Newtonian fluid\n",
    "\n",
    "\\begin{align}\n",
    "\\label{eq:NS}\n",
    "\\rho \\big( \\partial_t \\vec{u} + \\left(\\vec{u} \\cdot \\nabla \\right) \\vec{u} \\big) &= -\\nabla p_H + \\eta \\nabla^{2} \\vec{u} + \\vec{f} ,\\\\\n",
    "\\nabla \\cdot \\vec u &= 0 .\n",
    "\\end{align}\n",
    "\n",
    "where $p_H$ denotes the hydrostatic pressure, $\\eta$ the shear viscosity, $\\rho$ the density of the fluid, and $\\vec{f}$ an external body force density.\n",
    "For the assumption of incompressibility to hold, the Mach number needs to be small &ndash; a condition that is fulfilled for micro- and nanofluidic systems with flow velocities on the order of &mu;m/s.\n",
    "\n",
    "Earlier we assumed that the ions' velocity relative to the fluid instantaneously relaxes to a stationary state and that this stationary velocity is given by the product of their mobility and the force exerted on them.\n",
    "For this state to be stationary, all the momentum transferred into the ions by the external force needs to be dissipated into the fluid immediately.\n",
    "From this we can conclude that the force density acting on the fluid must read\n",
    "\n",
    "\\begin{equation}\n",
    "\\label{eq:forcedens}\n",
    "\\vec{f} = \\sum_{k} \\vec{j}^\\mathrm{diff}_k / \\xi_{k} = -\\sum_{k} (k_\\mathrm{B}T \\nabla c_{k} + z_{k} e c_{k} \\nabla \\Phi) .\n",
    "\\end{equation}\n",
    "\n",
    "Summarizing, the set of electrokinetic equations we solve is given by\n",
    "\n",
    "\\begin{align}\n",
    "\\vec{j}_{k} ={}& -D_{k} \\nabla c_{k} - \\xi_{k} z_{k} e c_{k} \\nabla \\Phi + c_{k} \\vec{u} ,\\label{eq:flux}\\\\\n",
    "\\partial_{t} c_{k} ={}& -\\nabla \\cdot\\vec{j}_{k} ,\\label{eq:conti}\\\\\n",
    "\\nabla^2 \\Phi ={}& -4 \\pi l_b k_\\mathrm{B}T \\textstyle\\sum_{k} z_{k} c_{k} ,\\label{eq:poisson}\\\\\n",
    "\\rho \\big( \\partial_t \\vec{u} + (\\vec{u} \\cdot \\nabla ) \\vec{u} \\big) ={}& -\\nabla p_H + \\eta \\nabla^{2} \\vec{u} - \\textstyle\\sum_{k} (k_\\mathrm{B}T \\nabla c_{k} + z_{k} e c_{k} \\nabla \\Phi) ,\\label{eq:ns}\\\\\n",
    "\\nabla \\cdot \\vec{u} ={}& 0 .\\label{eq:incomp}\n",
    "\\end{align}"
   ]
  },
  {
   "cell_type": "markdown",
   "metadata": {},
   "source": [
    "### EOF in the Slit Pore Geometry\n",
    "\n",
    "The slit pore system depicted in Fig. 1 consists of two like charged parallel plates of infinite extent, confining a solution of water and the plates' counterions.\n",
    "\n",
    "<figure>\n",
    "    <img src='figures/schlitzpore_3d.png' alt='missing' style=\"width: 500px;\"/>\n",
    "    <center>\n",
    "    <figcaption>Figure 1: Slit pore system and coordinate system used for the analytical calculations.</figcaption>\n",
    "    </center>\n",
    "</figure>\n",
    "\n",
    "Due to the net neutrality of the system and the translational symmetry in directions parallel to the plates, the potential outside the two plates must be constant.\n",
    "This means that using periodic or non-periodic boundary conditions makes no difference.\n",
    "As the system is in equilibrium in the normal direction, the electrokinetic equations for this dimension reduce to the Poisson-Boltzmann equation for the electrostatic potential, which reads\n",
    "\\begin{align}\n",
    "\t\\partial_x^2 \\Phi(x) = -4 \\pi \\, k_\\mathrm{B}T \\, l_\\mathrm{B} \\, ze \\, c_0 \\cdot \\exp{\\left(-\\frac{ze\\Phi(x)}{k_\\mathrm{B}T}\\right)} \\; ,\n",
    "\\end{align}\n",
    "where $x$ denotes the direction normal to the plates.\n",
    "The constant $c_0$ has to be chosen such that charge neutrality is fulfilled.\n",
    "Multiplying by $2 \\partial_x \\Phi(x)$ and applying the inverse chain rule further reduces the equation to first order.\n",
    "Subsequent separation of variables yields the solution\n",
    "\\begin{align}\n",
    "  \\Phi(x) = -\\frac{k_\\mathrm{B}T}{ze} \\cdot \\log \\left[ \\frac{C^2}{8 \\pi \\, k_\\mathrm{B}T \\, l_\\mathrm{B}} \\cdot \\cos^{-2}\\left( \\frac{zeC}{2 k_\\mathrm{B}T} \\cdot x\\right) \\right], \\quad \\left| \\frac{zeC}{2 k_\\mathrm{B}T} \\cdot x \\right| < \\frac \\pi 2\\; . \\label{eq:validation_pb_counterions}\n",
    "\\end{align}\n",
    "Refer to [5] for details on this calculation.\n",
    "Knowing that the counterion density $c$ resembles a Boltzmann distribution in the potential $ze \\Phi$ leads to the expression\n",
    "\\begin{align}\n",
    "  c(x) = \\frac{C^2}{8 \\pi \\, k_\\mathrm{B}T \\, l_\\mathrm{B}} \\cdot \\cos^{-2} \\left( \\frac{zeC}{2 k_\\mathrm{B}T} \\cdot x \\right) \\; . \\label{eq:validation_pb_density}\n",
    "\\end{align}\n",
    "The constant $C$ is determined by fixing the number of counterions or requiring the E-field to vanish outside the volume contained by the plates.\n",
    "Both yields\n",
    "\\begin{align}\n",
    "  C \\cdot \\tan \\left( \\frac{zed}{4 k_\\mathrm{B}T} \\cdot C \\right) = -4 \\pi \\, k_\\mathrm{B}T \\, l_\\mathrm{B} \\sigma \\; ,\n",
    "\\end{align}\n",
    "where $d$ denotes the distance between the plates and $\\sigma$ their (constant) surface charge density.\n",
    "\n",
    "Applying an electric field along one of the directions parallel to the plates does not influence the charge distribution in the normal direction, which allows us to write down the hydrodynamic equations for the parallel direction.\n",
    "After eliminating all terms from the Navier-Stokes Equations, which vanish due to symmetry, we are left with\n",
    "\\begin{align}\n",
    "  \\frac{\\partial_x^2 v_y(x)}{\\partial x^2} = -\\frac{q E C^2}{8 \\, k_\\mathrm{B}T \\, l_\\mathrm{B} \\, \\eta} \\cdot \\cos^{-2} \\left( \\frac{qC}{2 k_\\mathrm{B}T} \\cdot x \\right) \\; ,\n",
    "\\end{align}\n",
    "which yields, by means of simple integration and the application of no-slip boundary conditions\n",
    "\\begin{align}\n",
    "  v_y(x) = \\frac{E}{2 \\pi \\, l_\\mathrm{B} \\, \\eta \\, ze} \\cdot \\log \\left[ \\frac{\\cos \\left( \\frac{zeC}{2 k_\\mathrm{B}T} \\cdot x \\right)}{\\cos \\left( \\frac{zeC}{2 k_\\mathrm{B}T} \\cdot \\frac d 2 \\right)} \\right] \\; .\n",
    "\\end{align}\n",
    "\n",
    "With this tutorial comes a Python script <tt>eof_analytical.py</tt>, which evaluates all these expressions on the same grid as is used in the upcoming simulation."
   ]
  },
  {
   "cell_type": "markdown",
   "metadata": {},
   "source": [
    "## Simulation using ESPResSo"
   ]
  },
  {
   "cell_type": "markdown",
   "metadata": {},
   "source": [
    "### Setting up ESPResSo\n",
    "\n",
    "To use the electrokinetics solver in ESPResSo enable the features <tt>ELECTROKINETICS</tt> and <tt>EK_BOUNDARIES</tt> during the build process."
   ]
  },
  {
   "cell_type": "markdown",
   "metadata": {},
   "source": [
    "### Mapping SI and Simulation Units\n",
    "\n",
    "ESPResSo does not predefine any unit system.\n",
    "This makes it more flexible but also requires us to spend some thought on the conversion from SI units to simulation units and back.\n",
    "Since most first time users have trouble with this, we will go through that process in detail here.\n",
    "\t\n",
    "Important to note is that ESPResSo's unit system is nothing more than a rescaled variant of the SI system.\n",
    "All physical formulas you are used to in the SI system remain valid and you can use them to find relations between your units.\n",
    "Let's start by choosing a unit of length.\n",
    "Since we are going to deal with Debye layers with extensions of nanometers, a sensible choice is\n",
    "\n",
    "\\begin{align*}\n",
    "[x]=1\\mathrm{nm}.\n",
    "\\end{align*}\n",
    "\n",
    "The involved energies are of the magnitude of $k_{\\mathrm{B}}T$.\n",
    "We will simulate our system at room temperature ($300\\mathrm{K}$), hence we use as unit of energy\n",
    "\\begin{align*}\n",
    "[E]=k_\\mathrm{B}\\cdot300\\mathrm{K}\\approx 4.14 \\cdot 10^{-21}\\mathrm{J}.\n",
    "\\end{align*}\n",
    "\n",
    "By default ESPResSo has no concept for particle masses (but the feature can be activated).\n",
    "That means all particle masses are assumed to be $1\\,[\\mathrm{m}]$, which forces us to use the particle mass as mass unit.\n",
    "For this simulation we use the mass of sodium ions, which is\n",
    "\\begin{align*}\n",
    "[m]=23\\mathrm{u}\\approx 3.82\\cdot 10^{-26}\\mathrm{kg}.\n",
    "\\end{align*}\n",
    "\n",
    "For the relation\n",
    "\\begin{align*}\n",
    "E=\\frac 1 2 mv^2\n",
    "\\end{align*}\n",
    "\n",
    "to hold, the unit of time has to be defined so that\n",
    "\\begin{align*}\n",
    "[E]=[m]\\cdot\\frac{[x]^2}{[t]^2}.\n",
    "\\end{align*}\n",
    "\n",
    "From that we get the missing unit of time\n",
    "\\begin{align*}\n",
    "[t]=[x]\\cdot\\sqrt{\\frac{[m]}{[E]}}=1\\mathrm{nm}\\cdot\\sqrt{\\frac{23\\mathrm{u}}{k_B\\cdot 300\\mathrm{K}}}\\approx 3.03760648\\cdot 10^{-12}\\mathrm{s}\\approx 3.04\\mathrm{ps}.\n",
    "\\end{align*}\n",
    "\n",
    "The last unit we need is the one of charge.\n",
    "We choose it to be the elementary charge\n",
    "\\begin{align*}\n",
    "[q]=e\\approx 1.60\\cdot 10^{-19}\\mathrm{C}.\n",
    "\\end{align*}\n",
    "\n",
    "We now have all the units necessary to convert our simulation parameters."
   ]
  },
  {
   "cell_type": "markdown",
   "metadata": {},
   "source": [
    "|parameter |value (SI units) | value (simulation units)|\n",
    "|:---------|----------------:|------------------------:|\n",
    "|channel width $d$ | $50\\mathrm{nm}$ | $50\\mathrm{[x]}$|\n",
    "|thermal energy $k_B T$ | $k_B\\cdot300\\mathrm{K}$ | $1\\mathrm{[E]}$|\n",
    "|Bjerrum length $l_B$ | $0.7095\\mathrm{nm}$ | $0.7095\\mathrm{[x]}$|\n",
    "|counterion charge $q$ | $1e$ | $1\\mathrm{[q]}$|\n",
    "|counterion diffusion coefficient $D$ | $2.0\\cdot 10^{-9}\\mathrm{m^2/s}$ | $0.006075\\mathrm{[x]^2/[t]}$|\n",
    "|solvent density $\\rho$ | $1.0\\cdot 10^{3}\\mathrm{kg/m^3}$ | $26.18\\mathrm{[m]/[x]^3}$|\n",
    "|solvent dynamic viscosity $\\eta$ | $1.0\\cdot 10^{-3}\\mathrm{Pa}\\mathrm{s}$ | $79.53\\mathrm{[m]/([x][t])}$|\n",
    "|external electric field $E$ | $2.585\\cdot 10^{6}\\mathrm{V/m}$ | $0.1\\mathrm{[E]/([q][x])}$|\n"
   ]
  },
  {
   "cell_type": "markdown",
   "metadata": {},
   "source": [
    "ESPResSo determines the strength of the electrostatic interactions via the Bjerrum-length $l_\\mathrm{B}$.\n",
    "That is the length for which the electrostatic interaction energy of two elementary charges equals the thermal energy\n",
    "\n",
    "\\begin{align*}\n",
    "k_\\mathrm{B} T=\\frac{e^2}{4\\pi\\varepsilon_0\\varepsilon_r}\\cdot\\frac 1 {l_\\mathrm{B}}.\n",
    "\\end{align*}\n",
    "\n",
    "This yields for water at $300K$ with $\\varepsilon_r = 78.54$, a Bjerrum length of $l_\\mathrm{B}\\approx 0.7095\\mathrm{nm}$."
   ]
  },
  {
   "cell_type": "markdown",
   "metadata": {},
   "source": [
    "### Setting up the slit pore system\n",
    "\n",
    "The script for this simulation comes with this tutorial and is called <tt>eof_electrokinetics.py</tt>.\n",
    "All used commands are documented in the User's Guide in the section called **Electrokinetics**.\n",
    "\n",
    "We first set up a periodic simulation box of the desired dimensions.\n",
    "Note that the dimensions are, of course, given in simulation units."
   ]
  },
  {
   "cell_type": "code",
   "execution_count": null,
   "metadata": {},
   "outputs": [],
   "source": [
    "# Initializing espresso modules and the numpy package\n",
    "import numpy as np\n",
    "import espressomd\n",
    "espressomd.assert_features(['CUDA', 'ELECTROKINETICS'])\n",
    "from espressomd import System, electrokinetics, shapes, ekboundaries\n",
    "\n",
    "# Set the slit pore geometry where the width is the non-periodic part of the geometry\n",
    "# the padding is used to ensure that there is no field outside the slit since the \n",
    "# electrostatics is used with a 3D periodic FFT solver.\n",
    "\n",
    "box_y = 6\n",
    "box_z = 6\n",
    "width = 50\n",
    "\n",
    "padding = 1\n",
    "box_x = width + 2 * padding\n",
    "\n",
    "system = System(box_l = [box_x, box_y, box_z])"
   ]
  },
  {
   "cell_type": "markdown",
   "metadata": {},
   "source": [
    "We then store all the parameters we calculated earlier.\n",
    "At this point, these parameters only reside in Python variables.\n",
    "They will only be used by ESPResSo once they are being passed to the respective initialization functions."
   ]
  },
  {
   "cell_type": "code",
   "execution_count": null,
   "metadata": {},
   "outputs": [],
   "source": [
    "# Set the electrokinetic parameters\n",
    "\n",
    "agrid = 1.0\n",
    "dt = 0.2\n",
    "kT = 1.0\n",
    "bjerrum_length = 0.7095\n",
    "D = 0.006075\n",
    "valency = 1.0\n",
    "viscosity_dynamic = 79.53\n",
    "density_water = 26.15\n",
    "sigma = -0.05\n",
    "ext_force_density = [0.0, 0.1, 0.0]"
   ]
  },
  {
   "cell_type": "markdown",
   "metadata": {},
   "source": [
    "Before we initialize the actual electrokinetics algorithm, we need to set the time step and some other parameters that are not actually used, but would otherwise lead to error messages."
   ]
  },
  {
   "cell_type": "code",
   "execution_count": null,
   "metadata": {},
   "outputs": [],
   "source": [
    "# Set the simulation parameters\n",
    "\n",
    "system.time_step = dt\n",
    "system.cell_system.skin = 0.2\n",
    "system.thermostat.turn_off()\n",
    "integration_length = int(2e4)"
   ]
  },
  {
   "cell_type": "markdown",
   "metadata": {},
   "source": [
    "We can now set up the electrokinetics algorithm.\n",
    "All functionality pertaining to this algorithm is available through the <tt>electrokinetics</tt> submodule of <tt>espressomd</tt>.\n",
    "Please note that the fluid viscosity is specified as a kinematic viscosity, which is the dynamic viscosity divided by the fluid density.\n",
    "The kinematic viscosity is also required if you initialize the pure lattice-Boltzmann method.\n"
   ]
  },
  {
   "cell_type": "code",
   "execution_count": null,
   "metadata": {},
   "outputs": [],
   "source": [
    "# Set up the (LB) electrokinetics fluid\n",
    "viscosity_kinematic = viscosity_dynamic / density_water\n",
    "ek = electrokinetics.Electrokinetics(agrid=agrid,\n",
    "                                     lb_density=density_water,\n",
    "                                     viscosity=viscosity_kinematic,\n",
    "                                     friction=1.0,\n",
    "                                     T=kT,\n",
    "                                     prefactor=bjerrum_length)"
   ]
  },
  {
   "cell_type": "markdown",
   "metadata": {},
   "source": [
    "The value of the friction parameter in the previous setup command is irrelevant, since we don't include any explicit particles in our simulation, but it's needed to pass the sanity check of the LB.\n",
    "\n",
    "Next, we set up the individual ionic species.\n",
    "In this case, we only set up one species of positively charged counterions.\n",
    "The charge density is chosen in such a way, that it will cancel out the charges of the walls which are being inserted in the step afterwards.\n",
    "After setting up the species, we have to add it to the electrokinetics instance. "
   ]
  },
  {
   "cell_type": "code",
   "execution_count": null,
   "metadata": {},
   "outputs": [],
   "source": [
    "# Set up the charged and neutral species\n",
    "density_counterions = -2.0 * sigma / width\n",
    "counterions = electrokinetics.Species(density=density_counterions,\n",
    "                                      D=D,\n",
    "                                      valency=valency,\n",
    "                                      ext_force_density=ext_force_density)\n",
    "\n",
    "ek.add_species(counterions)"
   ]
  },
  {
   "cell_type": "markdown",
   "metadata": {},
   "source": [
    "The <tt>EKBoundary</tt> command takes the keyword <tt>charge_density</tt> and the numerical charge density in simulation units as arguments.\n",
    "The <tt>shape</tt> keyword takes an instance of a shape, which is provided by the <tt>shapes</tt> submodule and is the same as for the <tt>LBBoundary</tt> command.\n",
    "Here we initialize two charged <tt>Wall</tt> boundaries.\n",
    "To initialize the boundaries, we have to add them to the <tt>ekboundaries</tt> instance of the system class.\n",
    "Finally, we initialize the electrokinetics algorithm with our setup by adding the electrokinetics instance as an actor to the system."
   ]
  },
  {
   "cell_type": "code",
   "execution_count": null,
   "metadata": {},
   "outputs": [],
   "source": [
    "# Set up the walls confining the fluid\n",
    "ek_wall_left = ekboundaries.EKBoundary(charge_density=sigma / agrid,\n",
    "                                       shape=shapes.Wall(normal=[1, 0, 0], dist=padding)) \n",
    "ek_wall_right = ekboundaries.EKBoundary(charge_density=sigma / agrid,\n",
    "                                        shape=shapes.Wall(normal=[-1, 0, 0], dist=-(padding + width)))\n",
    "\n",
    "system.ekboundaries.add(ek_wall_left)\n",
    "system.ekboundaries.add(ek_wall_right)\n",
    "\n",
    "system.actors.add(ek)"
   ]
  },
  {
   "cell_type": "markdown",
   "metadata": {},
   "source": [
    "After setting up the system, we integrate a sufficient number of time steps to relax the system into the stationary state and output the counterion density profile, the velocity profile, and the shear stress.\n",
    "Since this system has translational symmetry in the x- and y-direction, we iterate over a line in the z direction and use the <tt>species[node].quantity</tt> command, to output local quantities.\n",
    "You can instead also use the <tt>electrokinetics.print_vtk_quantity</tt> command to output the whole field at once in a ParaView-compatible format.\n",
    "\n",
    "Density and velocity are not the only fields available for output.\n",
    "Please refer to the User's Guide for all available options."
   ]
  },
  {
   "cell_type": "code",
   "execution_count": null,
   "metadata": {},
   "outputs": [],
   "source": [
    "# Integrate the system\n",
    "for i in range(100):\n",
    "    system.integrator.run(integration_length)\n",
    "    print(\"integration step: %03i\"%i, end=\"\\r\")\n",
    "\n",
    "print(\"Integration finished.\")\n",
    "\n",
    "# Output\n",
    "position_list = []\n",
    "density_list = []\n",
    "velocity_list = []\n",
    "pressure_xy_list = []\n",
    "\n",
    "for i in range(int(box_x / agrid)):\n",
    "    if (i * agrid >= padding) and (i*agrid < box_x - padding):\n",
    "        position = i * agrid - padding - width / 2.0 + agrid / 2.0\n",
    "        position_list.append(position)\n",
    "\n",
    "        # density\n",
    "        density_list.append(counterions[i,\n",
    "                                        box_y/(2 * agrid),\n",
    "                                        box_z/(2 * agrid)].density)\n",
    "\n",
    "        # velocity\n",
    "        velocity_list.append(ek[i ,\n",
    "                                box_y/(2 * agrid),\n",
    "                                box_z/(2 * agrid)].velocity[1])\n",
    "\n",
    "        # xz component pressure tensor\n",
    "        pressure_xy_list.append(ek[i,\n",
    "                                   box_y/(2 * agrid),\n",
    "                                   box_z/(2 * agrid)].pressure[0, 1])\n",
    "\n",
    "np.savetxt(\"eof_electrokinetics.dat\",\n",
    "           np.column_stack((position_list,\n",
    "                            density_list,\n",
    "                            velocity_list,\n",
    "                            pressure_xy_list)),\n",
    "           header=\"#position calculated_density calculated_velocity calculated_pressure_xy\")"
   ]
  },
  {
   "cell_type": "markdown",
   "metadata": {},
   "source": [
    "With this tutorial also came a Python matplotlib script <tt>plot.py</tt>.\n",
    "If everything went well, running this script with Python from a folder containing the output files <tt>eof_analytical.dat</tt> and <tt>eof_electrokinetics.dat</tt> should produce the result shown in Figure 2.\n",
    "\n",
    "<figure>\n",
    "    <img src='figures/profiles.png' alt='missing' style=\"width: 600px;\"/>\n",
    "    <center>\n",
    "    <figcaption>Figure 2: Profiles along the direction perpendicular to the slit pore walls for the counterion density, fluid velocity, and fluid shear stress.</figcaption>\n",
    "    </center>\n",
    "</figure>"
   ]
  },
  {
   "cell_type": "markdown",
   "metadata": {},
   "source": [
    "## References\n",
    "\n",
    "[1] O. A. Hickey, C. Holm, J. L. Harden and G. W. Slater *Implicit Method for Simulating Electrohydrodynamics of Polyelectrolytes* Physical Review Letters, 2010  \n",
    "[2] F. Capuani, I. Pagonabarraga and D. Frenkel *Discrete solution of the electrokinetic equations* The Journal of Chemical Physics, 2004  \n",
    "[3] G. Rempfer *A Lattice based Model for Electrokinetics* Master's thesis, University of Stuttgart, 2013  \n",
    "[4] G. Rempfer, G. B. Davies, C. Holm and J. de Graaf *Reducing spurious flow in simulations of electrokinetic phenomena* The Journal of Chemical Physics, 2016  \n",
    "[5] G. Rempfer *Lattice-Boltzmann simulations in complex geometries* Bachelor's thesis, University of Stuttgart, Institute for Computational Physics, 2010  \n",
    "[6] M. Deserno and C. Holm and S. May, *Fraction of Condensed Counterions around a Charged Rod: Comparison of Poisson-Boltzmann Theory and Computer Simulations* Macromolecules, 2000  \n",
    "[7] C. Holm, P. K&eacute;kicheff and R. Podgornik *Electrostatic Effects in Soft Matter and Biophysics* Kluwer Academic Publishers, 2001  \n",
    "[8] M. Deserno and C. Holm *Cell-model and Poisson-Boltzmann-theory: A brief introduction* Electrostatic Effects in Soft Matter and Biophysics, Kluwer Academic Publishers, 2001  \n",
    "[9] J de Graaf., G. Rempfer and C. Holm *Diffusiophoretic Self-Propulsion for Partially Catalytic Spherical Colloids* IEEE T. Nanobiosci., 2014  \n",
    "[10] M. Deserno *Counterion condensation for rigid linear polyelectrolytes* Universit&auml;t Mainz, 2000  \n",
    "[11] J. de Graaf, N Boon, M Dijkstra and R. van Roij *Electrostatic interactions between Janus particles* The Journal of Chemical Physics, 2012   \n",
    "[12] A. Einstein *&Uuml;ber die von der molekularkinetischen Theorie der W&auml;rme geforderte Bewegung von in ruhenden Fl&uuml;ssigkeiten suspendierten Teilchen* Annalen der Physik, 1905  \n",
    "[13] M. von Smoluchowski *Zur kinetischen Theorie der Brownschen Molekularbewegung und der Suspensionen* Annalen der Physik, 1906  \n"
   ]
  }
 ],
 "metadata": {
  "kernelspec": {
   "display_name": "Python 3",
   "language": "python",
   "name": "python3"
  },
  "language_info": {
   "codemirror_mode": {
    "name": "ipython",
    "version": 3
   },
   "file_extension": ".py",
   "mimetype": "text/x-python",
   "name": "python",
   "nbconvert_exporter": "python",
   "pygments_lexer": "ipython3",
   "version": "3.6.8"
  }
 },
 "nbformat": 4,
 "nbformat_minor": 2
}
