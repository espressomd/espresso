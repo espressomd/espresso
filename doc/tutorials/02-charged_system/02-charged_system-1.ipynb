{
 "cells": [
  {
   "cell_type": "markdown",
   "metadata": {},
   "source": [
    "# Tutorial 2: A Simple Charged System, Part 1"
   ]
  },
  {
   "cell_type": "markdown",
   "metadata": {},
   "source": [
    "## 1 Introduction\n",
    "\n",
    "This tutorial introduces some of the basic features of **ESPResSo** for charged systems by constructing a simulation script for a simple salt crystal. In the subsequent task, we use a more realistic force-field for a NaCl crystal. Finally, we introduce constraints and 2D-Electrostatics to simulate a molten salt in a parallel plate capacitor. We assume that the reader is familiar with the basic concepts of Python and MD simulations.  Compile **ESPResSo** with the following features in your <tt>myconfig.hpp</tt> to be set throughout the whole tutorial:\n",
    "\n",
    "```c++\n",
    "#define EXTERNAL_FORCES\n",
    "#define MASS\n",
    "#define ELECTROSTATICS\n",
    "#define LENNARD_JONES\n",
    "```"
   ]
  },
  {
   "cell_type": "markdown",
   "metadata": {},
   "source": [
    "## 2 Basic Set Up\n",
    "\n",
    "The script for the tutorial can be found in your build directory at <tt>/doc/tutorials/02-charged_system/scripts/nacl.py</tt>.\n",
    "We start by importing numpy, pyplot, espressomd and setting up the simulation parameters:"
   ]
  },
  {
   "cell_type": "code",
   "execution_count": null,
   "metadata": {},
   "outputs": [],
   "source": [
    "from espressomd import System, electrostatics\n",
    "import espressomd\n",
    "import numpy\n",
    "import matplotlib.pyplot as plt\n",
    "plt.ion()\n",
    "\n",
    "# Print enabled features\n",
    "required_features = [\"EXTERNAL_FORCES\", \"MASS\", \"ELECTROSTATICS\", \"LENNARD_JONES\"]\n",
    "espressomd.assert_features(required_features)\n",
    "print(espressomd.features())\n",
    "\n",
    "# System Parameters\n",
    "n_part = 200\n",
    "n_ionpairs = n_part / 2\n",
    "density = 0.5\n",
    "time_step = 0.01\n",
    "temp = 1.0\n",
    "gamma = 1.0\n",
    "l_bjerrum = 7.0\n",
    "\n",
    "num_steps_equilibration = 1000\n",
    "num_configs = 500\n",
    "integ_steps_per_config = 1000\n",
    "\n",
    "# Particle Parameters\n",
    "types       = {\"Anion\":          0, \"Cation\": 1}\n",
    "numbers     = {\"Anion\": n_ionpairs, \"Cation\": n_ionpairs}\n",
    "charges     = {\"Anion\":       -1.0, \"Cation\": 1.0}\n",
    "lj_sigmas   = {\"Anion\":        1.0, \"Cation\": 1.0}\n",
    "lj_epsilons = {\"Anion\":        1.0, \"Cation\": 1.0}\n",
    "\n",
    "WCA_cut = 2.**(1. / 6.)\n",
    "lj_cuts     = {\"Anion\":  WCA_cut * lj_sigmas[\"Anion\"],\n",
    "               \"Cation\": WCA_cut * lj_sigmas[\"Cation\"]}"
   ]
  },
  {
   "cell_type": "markdown",
   "metadata": {},
   "source": [
    "These variables do not change anything in the simulation engine, but\n",
    "are just standard Python variables. They are used to increase the\n",
    "readability and flexibility of the script. The box length is not a\n",
    "parameter of this simulation, it is calculated from the number of\n",
    "particles and the system density. This allows to change the parameters\n",
    "later easily, e.g. to simulate a bigger system.\n",
    "We use dictionaries for all particle related parameters, which is less error-prone and\n",
    "readable as we will see later when we actually need the values. The parameters here define a purely repulsive, \n",
    "equally sized, monovalent salt.\n",
    "\n",
    "The simulation engine itself is modified by changing the\n",
    "<tt>espressomd.System()</tt> properties. We create an instance <tt>system</tt> and\n",
    "set the box length, periodicity and time step. The skin depth <tt>skin</tt> \n",
    "is a parameter for the link--cell system which tunes its\n",
    "performance, but shall not be discussed here."
   ]
  },
  {
   "cell_type": "code",
   "execution_count": null,
   "metadata": {},
   "outputs": [],
   "source": [
    "# Setup System\n",
    "box_l = (n_part / density)**(1. / 3.)\n",
    "system = System(box_l=[box_l, box_l, box_l])\n",
    "system.seed = 42\n",
    "system.periodicity = [True, True, True]\n",
    "system.time_step = time_step\n",
    "system.cell_system.skin = 0.3"
   ]
  },
  {
   "cell_type": "markdown",
   "metadata": {},
   "source": [
    "We now fill this simulation box with particles at random positions, using type and charge from our dictionaries.\n",
    "Using the length of the particle list <tt>system.part</tt> for the id, we make sure that our particles are numbered consecutively.\n",
    "The particle type is used to link non-bonded interactions to a certain group of particles."
   ]
  },
  {
   "cell_type": "code",
   "execution_count": null,
   "metadata": {},
   "outputs": [],
   "source": [
    "for i in range(int(n_ionpairs)):\n",
    "    system.part.add(id=len(system.part), type=types[\"Anion\"],\n",
    "                    pos=numpy.random.random(3) * box_l, q=charges[\"Anion\"])\n",
    "for i in range(int(n_ionpairs)):\n",
    "    system.part.add(id=len(system.part), type=types[\"Cation\"],\n",
    "                    pos=numpy.random.random(3) * box_l, q=charges[\"Cation\"])"
   ]
  },
  {
   "cell_type": "markdown",
   "metadata": {},
   "source": [
    "Before we can really start the simulation, we have to specify the\n",
    "interactions between our particles. We already defined the Lennard-Jones parameters at the beginning,\n",
    "what is left is to specify the combination rule and to iterate over particle type pairs. For simplicity, \n",
    "we implement only the *Lorentz-Berthelot* rules. \n",
    "We pass our interaction pair to <tt>system.non_bonded_inter[\\*,\\*]</tt> and set the \n",
    "pre-calculated LJ parameters <tt>epsilon</tt>, <tt>sigma</tt> and <tt>cutoff</tt>. With <tt>shift=\"auto\"</tt>,\n",
    "we shift the interaction potential to the cutoff so that $U_\\mathrm{LJ}(r_\\mathrm{cutoff})=0$."
   ]
  },
  {
   "cell_type": "code",
   "execution_count": null,
   "metadata": {},
   "outputs": [],
   "source": [
    "def combination_rule_epsilon(rule, eps1, eps2):\n",
    "    if rule == \"Lorentz\":\n",
    "        return (eps1 * eps2)**0.5\n",
    "    else:\n",
    "        return ValueError(\"No combination rule defined\")\n",
    "\n",
    "def combination_rule_sigma(rule, sig1, sig2):\n",
    "    if rule == \"Berthelot\":\n",
    "        return (sig1 + sig2) * 0.5\n",
    "    else:\n",
    "        return ValueError(\"No combination rule defined\")\n",
    "\n",
    "# Lennard-Jones interactions parameters\n",
    "for s in [[\"Anion\", \"Cation\"], [\"Anion\", \"Anion\"], [\"Cation\", \"Cation\"]]:\n",
    "    lj_sig = combination_rule_sigma(\"Berthelot\", lj_sigmas[s[0]], lj_sigmas[s[1]])\n",
    "    lj_cut = combination_rule_sigma(\"Berthelot\", lj_cuts[s[0]], lj_cuts[s[1]])\n",
    "    lj_eps = combination_rule_epsilon(\"Lorentz\", lj_epsilons[s[0]], lj_epsilons[s[1]])\n",
    "\n",
    "    system.non_bonded_inter[types[s[0]], types[s[1]]].lennard_jones.set_params(\n",
    "        epsilon=lj_eps, sigma=lj_sig, cutoff=lj_cut, shift=\"auto\")"
   ]
  },
  {
   "cell_type": "markdown",
   "metadata": {},
   "source": [
    "## 3 Equilibration\n",
    "\n",
    "With randomly positioned particles, we most likely have huge overlap and the strong repulsion will\n",
    "cause the simulation to crash. The next step in our script therefore is a suitable LJ equilibration.\n",
    "This is known to be a tricky part of a simulation and several approaches exist to reduce the particle overlap.\n",
    "Here, we use the steepest descent algorithm and cap the maximal particle displacement per integration step\n",
    "to 1% of sigma.\n",
    "We use <tt>system.analysis.min_dist()</tt> to get the minimal distance between all particles pairs. This value\n",
    "is used to stop the minimization when particles are far away enough from each other. At the end, we activate the\n",
    "Langevin thermostat for our NVT ensemble with temperature <tt>temp</tt> and friction coefficient <tt>gamma</tt>."
   ]
  },
  {
   "cell_type": "code",
   "execution_count": null,
   "metadata": {},
   "outputs": [],
   "source": [
    "# Lennard-Jones Equilibration\n",
    "max_sigma = max(lj_sigmas.values())\n",
    "min_dist = 0.0\n",
    "system.minimize_energy.init(f_max=0, gamma=10.0, max_steps=10,\n",
    "                            max_displacement=max_sigma * 0.01)\n",
    "\n",
    "while min_dist < max_sigma:\n",
    "    min_dist = system.analysis.min_dist([types[\"Anion\"], types[\"Cation\"]],\n",
    "                                        [types[\"Anion\"], types[\"Cation\"]])\n",
    "    system.minimize_energy.minimize()\n",
    "\n",
    "# Set thermostat\n",
    "system.thermostat.set_langevin(kT=temp, gamma=gamma, seed=42)"
   ]
  },
  {
   "cell_type": "markdown",
   "metadata": {},
   "source": [
    "**ESPResSo** uses so-called <tt>actors</tt> for electrostatics, magnetostatics and hydrodynamics. This ensures that unphysical combinations of algorithms are\n",
    "avoided, for example simultaneous usage of two electrostatic interactions.\n",
    "Adding an actor to the system also activates the method and calls necessary\n",
    "initialization routines. Here, we define a P$^3$M object with parameters Bjerrum\n",
    "length and rms force error. This automatically starts a\n",
    "tuning function which tries to find optimal parameters for P$^3$M and prints them\n",
    "to the screen:"
   ]
  },
  {
   "cell_type": "code",
   "execution_count": null,
   "metadata": {},
   "outputs": [],
   "source": [
    "p3m = electrostatics.P3M(prefactor=l_bjerrum * temp,\n",
    "                         accuracy=1e-3)\n",
    "system.actors.add(p3m)"
   ]
  },
  {
   "cell_type": "markdown",
   "metadata": {},
   "source": [
    "Before the production part of the simulation, we do a quick temperature \n",
    "equilibration. For the output, we gather all energies with <tt>system.analysis.energy()</tt>, calculate the \"current\" temperature from the ideal part and print it to the screen along with the total and Coulomb energies. Note that for the ideal gas the temperature is given via $1/2 m \\sqrt{\\langle v^2 \\rangle}=3/2 k_BT$, where $\\langle \\cdot \\rangle$ denotes the ensemble average. Calculating some kind of \"current temperature\" via $T_\\text{cur}=\\frac{m}{3 k_B} \\sqrt{ v^2 }$ won't produce the temperature in the system. Only when averaging the squared velocities first one would obtain the temperature for the ideal gas. $T$ is a fixed quantity and does not fluctuate in the canonical ensemble.\n",
    "\n",
    "We integrate for a certain amount of steps with <tt>system.integrator.run(100)</tt>."
   ]
  },
  {
   "cell_type": "code",
   "execution_count": null,
   "metadata": {},
   "outputs": [],
   "source": [
    "# Temperature Equilibration\n",
    "system.time = 0.0\n",
    "for i in range(int(num_steps_equilibration / 50)):\n",
    "    energy = system.analysis.energy()\n",
    "    temp_measured = energy['kinetic'] / ((3.0 / 2.0) * n_part)\n",
    "    print(\"t={0:.1f}, E_total={1:.2f}, E_coulomb={2:.2f},T={3:.4f}\"\n",
    "          .format(system.time, energy['total'], energy['coulomb'], temp_measured), end='\\r')\n",
    "    system.integrator.run(200)\n",
    "\n",
    "print()"
   ]
  },
  {
   "cell_type": "markdown",
   "metadata": {},
   "source": [
    "<figure>\n",
    "<img src='figures/salt.png' alt='missing' style=\"width: 300px;\"/>\n",
    "<center>\n",
    "<figcaption>Figure 1: VMD Snapshot of the Salt System</figcaption>\n",
    "</center>\n",
    "</figure>"
   ]
  },
  {
   "cell_type": "markdown",
   "metadata": {},
   "source": [
    "## 4 Running the Simulation\n",
    "\n",
    "Now we can integrate the particle trajectories for a couple of time\n",
    "steps. Our integration loop basically looks like the equilibration:"
   ]
  },
  {
   "cell_type": "code",
   "execution_count": null,
   "metadata": {},
   "outputs": [],
   "source": [
    "# Integration\n",
    "system.time = 0.0\n",
    "for i in range(num_configs):\n",
    "    energy = system.analysis.energy()\n",
    "    temp_measured = energy['kinetic'] / ((3.0 / 2.0) * n_part)\n",
    "    print(\"progress={:.0f}%, t={:.1f}, E_total={:.2f}, E_coulomb={:.2f}, T={:.4f}\"\n",
    "          .format((i + 1) * 100. / num_configs, system.time, energy['total'],\n",
    "                  energy['coulomb'], temp_measured), end='\\r')\n",
    "    system.integrator.run(integ_steps_per_config)\n",
    "\n",
    "    # Internally append particle configuration\n",
    "    system.analysis.append()\n",
    "\n",
    "print()"
   ]
  },
  {
   "cell_type": "markdown",
   "metadata": {},
   "source": [
    "Additionally, we append all particle configurations in the core with <tt>system.analysis.append()</tt> for a very convenient analysis later on."
   ]
  },
  {
   "cell_type": "markdown",
   "metadata": {},
   "source": [
    "## 5 Analysis\n",
    "\n",
    "Now, we want to calculate the averaged radial distribution functions\n",
    "$g_{++}(r)$ and $g_{+-}(r)$ with the <tt>rdf()</tt> command from <tt>system.analysis</tt>: "
   ]
  },
  {
   "cell_type": "code",
   "execution_count": null,
   "metadata": {},
   "outputs": [],
   "source": [
    "# Analysis\n",
    "# Calculate the averaged rdfs\n",
    "rdf_bins = 100\n",
    "r_min = 0.0\n",
    "r_max = system.box_l[0] / 2.0\n",
    "r, rdf_00 = system.analysis.rdf(rdf_type='<rdf>',\n",
    "                                type_list_a=[types[\"Anion\"]],\n",
    "                                type_list_b=[types[\"Anion\"]],\n",
    "                                r_min=r_min,\n",
    "                                r_max=r_max,\n",
    "                                r_bins=rdf_bins)\n",
    "r, rdf_01 = system.analysis.rdf(rdf_type='<rdf>',\n",
    "                                type_list_a=[types[\"Anion\"]],\n",
    "                                type_list_b=[types[\"Cation\"]],\n",
    "                                r_min=r_min,\n",
    "                                r_max=r_max,\n",
    "                                r_bins=rdf_bins)"
   ]
  },
  {
   "cell_type": "markdown",
   "metadata": {},
   "source": [
    "The shown <tt>rdf()</tt> commands return the radial distribution functions for\n",
    "equally and oppositely charged particles for specified radii and number of bins. \n",
    "In this case, we calculate the averaged rdf of the stored\n",
    "configurations, denoted by the chevrons in <tt>rdf_type='$<\\mathrm{rdf}>$'</tt>. Using <tt>rdf_type='rdf'</tt> would simply calculate the rdf of the current particle\n",
    "configuration. The results are two NumPy arrays containing the $r$ and $g(r)$\n",
    "values. We can then write the data into a file with standard python output routines."
   ]
  },
  {
   "cell_type": "code",
   "execution_count": null,
   "metadata": {},
   "outputs": [],
   "source": [
    "with open('rdf.data', 'w') as rdf_fp:\n",
    "    for i in range(rdf_bins):\n",
    "        rdf_fp.write(\"%1.5e %1.5e %1.5e\\n\" % (r[i], rdf_00[i], rdf_01[i]))"
   ]
  },
  {
   "cell_type": "markdown",
   "metadata": {},
   "source": [
    "Finally we can plot the two radial distribution functions using pyplot."
   ]
  },
  {
   "cell_type": "code",
   "execution_count": null,
   "metadata": {},
   "outputs": [],
   "source": [
    "# Plot the distribution functions\n",
    "plt.figure(figsize=(10, 6), dpi=80)\n",
    "plt.plot(r[:], rdf_00[:], label='Na$-$Na')\n",
    "plt.plot(r[:], rdf_01[:], label='Na$-$Cl')\n",
    "plt.xlabel('$r$', fontsize=20)\n",
    "plt.ylabel('$g(r)$', fontsize=20)\n",
    "plt.legend(fontsize=20)\n",
    "plt.show()"
   ]
  },
  {
   "cell_type": "markdown",
   "metadata": {},
   "source": [
    "## 6 Task - Real Units\n",
    "\n",
    "So far, the system has arbitrary units and is not connected to any real physical system.\n",
    "Simulate a proper NaCl crystal with the force field parameter taken from [1]:\n",
    "\n",
    "| Ion | $q/\\mathrm{e}$ | $\\sigma/\\mathrm{\\mathring{A}}$ | $(\\epsilon/\\mathrm{k_B})/\\mathrm{K}$ | $m/\\mathrm{u}$ |\n",
    "| -------------  | ------------- |------------- |------------- |------------- |\n",
    "| Na | +1 | 2.52  | 17.44   | 22.99  |\n",
    "| Cl | -1 | 3.85  | 192.45  | 35.453 |\n",
    "\n",
    "Use the following system parameters:\n",
    "\n",
    "| Parameter | Value |\n",
    "| --- | --- |\n",
    "| Temperature | $298\\ \\mathrm{K}$ | \n",
    "| Fiction Coeff. | $ 10\\ \\mathrm{ps}^{-1}$ | \n",
    "| Density | $1.5736\\ \\mathrm{u \\mathring{A}}^{-3}$ |\n",
    "| Bjerrum Length (298 K) | $439.2\\ \\mathrm{\\mathring{A}}$ | \n",
    "| Time Step | $2\\ \\mathrm{fs}$ |\n",
    "\n",
    "\n",
    "To make your life easier, don't try to equilibrate randomly positioned particles,\n",
    "but set them up in a crystal structure close to equilibrium. If you do it right,\n",
    "you don't even need the Lennard-Jones equilibration. \n",
    "To speed things up, don't go further than 1000 particles and use a P$^3$M accuracy of $10^{-2}$.\n",
    "Your RDF should look like the plot in figure 2. If you get stuck,\n",
    "you can look at the solution script <tt>/doc/tutorials/02-charged_system/scripts/nacl_units.py</tt> (or <tt>nacl_units_vis.py</tt> with visualization)."
   ]
  },
  {
   "cell_type": "markdown",
   "metadata": {},
   "source": [
    "<figure>\n",
    "    <img src='figures/nacl_units.jpg' alt='missing' style=\"width: 600px;\"/>\n",
    "    <center>\n",
    "    <figcaption>Figure 2: Snapshot and RDF of the parameterized NaCl crystal.</figcaption>\n",
    "    </center>\n",
    "</figure>"
   ]
  },
  {
   "cell_type": "markdown",
   "metadata": {},
   "source": [
    "## References\n",
    "\n",
    "[1] R. Fuentes-Azcatl and M. Barbosa, *Sodium Chloride, NaCl/$\\epsilon$ : New Force Field*, J. Phys. Chem. B, 2016, 120(9), pp 2460-2470."
   ]
  }
 ],
 "metadata": {
  "kernelspec": {
   "display_name": "Python 3",
   "language": "python",
   "name": "python3"
  },
  "language_info": {
   "codemirror_mode": {
    "name": "ipython",
    "version": 3
   },
   "file_extension": ".py",
   "mimetype": "text/x-python",
   "name": "python",
   "nbconvert_exporter": "python",
   "pygments_lexer": "ipython3",
   "version": "3.6.8"
  }
 },
 "nbformat": 4,
 "nbformat_minor": 1
}
