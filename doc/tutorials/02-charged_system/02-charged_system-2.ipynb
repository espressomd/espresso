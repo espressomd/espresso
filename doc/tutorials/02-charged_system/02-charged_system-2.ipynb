{
 "cells": [
  {
   "cell_type": "markdown",
   "metadata": {},
   "source": [
    "# Tutorial 2: A Simple Charged System, Part 2"
   ]
  },
  {
   "cell_type": "markdown",
   "metadata": {},
   "source": [
    "## 7 2D Electrostatics and Constraints\n",
    "\n",
    "In this section, we use the parametrized NaCl system from the last task to simulate a molten salt in a\n",
    "parallel plate capacitor with and without applied electric field. We have to extend our simulation by several aspects:"
   ]
  },
  {
   "cell_type": "markdown",
   "metadata": {},
   "source": [
    "### Confinement\n",
    "\n",
    "**ESPResSo** features a number of basic shapes like cylinders, walls or spheres to simulate confined systems.\n",
    "Here, we use two walls at $z = 0$ and $z = L_z$ for the parallel plate setup ($L_z$: box length in $z$-direction)"
   ]
  },
  {
   "cell_type": "markdown",
   "metadata": {},
   "source": [
    "### 2D-Electrostatics\n",
    "\n",
    "**ESPResSo** also has a number of ways to account for the unwanted electrostatic interaction in the now non-periodic $z$-dimension.\n",
    "We use the 3D-periodic P$^3$M algorithm in combination with the Electrostatic Layer Correction (ELC). \n",
    "ELC subtracts the forces caused by the periodic images in the $z$-dimension. Another way would be to use the explicit 2D-electrostatics algorithm\n",
    "MMM2D, also available in **ESPResSo**."
   ]
  },
  {
   "cell_type": "markdown",
   "metadata": {},
   "source": [
    "### Electric Field\n",
    "\n",
    "The simple geometry of the system allows us to treat an electric field in $z$-direction as a homogeneous force.\n",
    "Note that we use inert walls here and don't take into account the dielectric contrast caused by metal electrodes."
   ]
  },
  {
   "cell_type": "markdown",
   "metadata": {},
   "source": [
    "### Parameters\n",
    "\n",
    "For our molten NaCl, we use a temperature $100 \\ \\mathrm{K}$ above the melting point ($1198.3 \\ \\mathrm{K}$) \n",
    "and an approximated density of $\\rho = 1.1138 \\ \\mathrm{u \\mathring{A}}$$^{-3}$ found in [1].\n",
    "\n",
    "Let's walk through the python script. We need additional imports for the wall shapes and the ELC algorithm:"
   ]
  },
  {
   "cell_type": "code",
   "execution_count": null,
   "metadata": {},
   "outputs": [],
   "source": [
    "from espressomd import System, electrostatics, electrostatic_extensions\n",
    "from espressomd.shapes import Wall\n",
    "import espressomd\n",
    "import numpy"
   ]
  },
  {
   "cell_type": "markdown",
   "metadata": {},
   "source": [
    "If we target a liquid system, we should not set up the particles in a lattice, \n",
    "as this introduces unwanted structure in the starting configuration.\n",
    "We define our system size by the number of particles and the density.\n",
    "The system parameters lead to the following values:"
   ]
  },
  {
   "cell_type": "code",
   "execution_count": null,
   "metadata": {},
   "outputs": [],
   "source": [
    "required_features = [\"EXTERNAL_FORCES\", \"MASS\", \"ELECTROSTATICS\", \"LENNARD_JONES\"]\n",
    "espressomd.assert_features(required_features)\n",
    "print(espressomd.features())\n",
    "\n",
    "# System parameters\n",
    "n_part = 1000\n",
    "n_ionpairs = n_part / 2\n",
    "density = 1.1138\n",
    "time_step = 0.001823\n",
    "temp = 1198.3\n",
    "gamma = 50\n",
    "#l_bjerrum = 0.885^2 * e^2/(4*pi*epsilon_0*k_B*T)\n",
    "l_bjerrum = 130878.0 / temp\n",
    "wall_margin = 0.5\n",
    "Ez = 0\n",
    "\n",
    "num_steps_equilibration = 3000\n",
    "num_configs = 200\n",
    "integ_steps_per_config = 100"
   ]
  },
  {
   "cell_type": "markdown",
   "metadata": {},
   "source": [
    "We save the force field parameters in python dictionaries, now with parameters for the walls:"
   ]
  },
  {
   "cell_type": "code",
   "execution_count": null,
   "metadata": {},
   "outputs": [],
   "source": [
    "# Particle parameters\n",
    "types       = {\"Cl\":          0, \"Na\": 1, \"Electrode\": 2}\n",
    "numbers     = {\"Cl\": n_ionpairs, \"Na\": n_ionpairs}\n",
    "charges     = {\"Cl\":       -1.0, \"Na\": 1.0}\n",
    "lj_sigmas   = {\"Cl\":       3.85, \"Na\": 2.52,  \"Electrode\": 3.37}\n",
    "lj_epsilons = {\"Cl\":     192.45, \"Na\": 17.44, \"Electrode\": 24.72}\n",
    "\n",
    "lj_cuts     = {\"Cl\":        3.0 * lj_sigmas[\"Cl\"],\n",
    "               \"Na\":        3.0 * lj_sigmas[\"Na\"],\n",
    "               \"Electrode\": 3.0 * lj_sigmas[\"Electrode\"]}\n",
    "\n",
    "masses      = {\"Cl\":  35.453, \"Na\": 22.99, \"Electrode\": 12.01}"
   ]
  },
  {
   "cell_type": "markdown",
   "metadata": {},
   "source": [
    "To finally calculate the box size, we take into account the diameter of the electrode interaction.\n",
    "Additionally, ELC needs a particle-free gap in the $z$-direction behind the wall."
   ]
  },
  {
   "cell_type": "code",
   "execution_count": null,
   "metadata": {},
   "outputs": [],
   "source": [
    "# Setup System\n",
    "box_l = (n_ionpairs * sum(masses.values()) / density)**(1. / 3.)\n",
    "box_z = box_l + 2.0 * (lj_sigmas[\"Electrode\"] + wall_margin)\n",
    "elc_gap = box_z * 0.15\n",
    "system = System(box_l=[box_l, box_l, box_z + elc_gap])\n",
    "system.seed = 42\n",
    "box_volume = numpy.prod([box_l, box_l, box_z])\n",
    "\n",
    "system.periodicity = [1, 1, 1]\n",
    "system.time_step = time_step\n",
    "system.cell_system.skin = 0.3\n",
    "system.thermostat.set_langevin(kT=temp, gamma=gamma, seed=42)"
   ]
  },
  {
   "cell_type": "markdown",
   "metadata": {},
   "source": [
    "In the next snippet, we add the walls to our system. Our constraint takes two arguments: \n",
    "First the <tt>shape</tt>, in our case a simple plane defined by its normal vector and the distance from the origin, \n",
    "second the <tt>particle_type</tt>, which is used to set up the interaction between particles and constraints."
   ]
  },
  {
   "cell_type": "code",
   "execution_count": null,
   "metadata": {},
   "outputs": [],
   "source": [
    "# Walls\n",
    "system.constraints.add(shape=Wall(dist=wall_margin, normal=[0, 0, 1]),\n",
    "                       particle_type=types[\"Electrode\"])\n",
    "system.constraints.add(shape=Wall(dist=-(box_z - wall_margin), normal=[0, 0, -1]),\n",
    "                       particle_type=types[\"Electrode\"])"
   ]
  },
  {
   "cell_type": "markdown",
   "metadata": {},
   "source": [
    "Now we place the particles at random position without overlap with the walls:"
   ]
  },
  {
   "cell_type": "code",
   "execution_count": null,
   "metadata": {},
   "outputs": [],
   "source": [
    "# Place particles\n",
    "for i in range(int(n_ionpairs)):\n",
    "    p = numpy.random.random(3) * box_l\n",
    "    p[2] += lj_sigmas[\"Electrode\"]\n",
    "    system.part.add(id=len(system.part), type=types[\"Cl\"],\n",
    "                    pos=p, q=charges[\"Cl\"], mass=masses[\"Cl\"])\n",
    "for i in range(int(n_ionpairs)):\n",
    "    p = numpy.random.random(3) * box_l\n",
    "    p[2] += lj_sigmas[\"Electrode\"]\n",
    "    system.part.add(id=len(system.part), type=types[\"Na\"],\n",
    "                    pos=p, q=charges[\"Na\"], mass=masses[\"Na\"])"
   ]
  },
  {
   "cell_type": "markdown",
   "metadata": {},
   "source": [
    "The scheme to set up the Lennard-Jones interaction is the same as before, \n",
    "extended by the Electrode-Ion interactions:"
   ]
  },
  {
   "cell_type": "code",
   "execution_count": null,
   "metadata": {},
   "outputs": [],
   "source": [
    "# Lennard-Jones interactions parameters\n",
    "\n",
    "def combination_rule_epsilon(rule, eps1, eps2):\n",
    "    if rule == \"Lorentz\":\n",
    "        return (eps1 * eps2)**0.5\n",
    "    else:\n",
    "        return ValueError(\"No combination rule defined\")\n",
    "\n",
    "def combination_rule_sigma(rule, sig1, sig2):\n",
    "    if rule == \"Berthelot\":\n",
    "        return (sig1 + sig2) * 0.5\n",
    "    else:\n",
    "        return ValueError(\"No combination rule defined\")\n",
    "\n",
    "for s in [[\"Cl\", \"Na\"], [\"Cl\", \"Cl\"], [\"Na\", \"Na\"],\n",
    "          [\"Na\", \"Electrode\"], [\"Cl\", \"Electrode\"]]:\n",
    "    lj_sig = combination_rule_sigma(\"Berthelot\",\n",
    "                                    lj_sigmas[s[0]], lj_sigmas[s[1]])\n",
    "    lj_cut = combination_rule_sigma(\"Berthelot\",\n",
    "                                    lj_cuts[s[0]], lj_cuts[s[1]])\n",
    "    lj_eps = combination_rule_epsilon(\"Lorentz\",\n",
    "                                      lj_epsilons[s[0]], lj_epsilons[s[1]])\n",
    "\n",
    "    system.non_bonded_inter[types[s[0]], types[s[1]]].lennard_jones.set_params(\n",
    "        epsilon=lj_eps, sigma=lj_sig, cutoff=lj_cut, shift=\"auto\")"
   ]
  },
  {
   "cell_type": "markdown",
   "metadata": {},
   "source": [
    "Next is the Lennard-Jones Equilibration: Here we use an alternative way to get rid of the overlap: **ESPResSo** features a routine for energy\n",
    "minimization with similar features as in the manual implementation used before. Basically it \n",
    "caps the forces and limits the displacement during integration."
   ]
  },
  {
   "cell_type": "code",
   "execution_count": null,
   "metadata": {},
   "outputs": [],
   "source": [
    "energy = system.analysis.energy()\n",
    "print(\"Before Minimization: E_total=\", energy['total'])\n",
    "system.minimize_energy.init(f_max=10, gamma=10, max_steps=2000,\n",
    "                            max_displacement=0.1)\n",
    "system.minimize_energy.minimize()\n",
    "energy = system.analysis.energy()\n",
    "print(\"After Minimization: E_total=\", energy['total'])"
   ]
  },
  {
   "cell_type": "markdown",
   "metadata": {},
   "source": [
    "As described, we use P$^3$M in combination with ELC to account for the 2D-periodicity. \n",
    "ELC is also added to the <tt>actors</tt> of the system and takes *gap size* and *maximum\n",
    "pairwise errors* as arguments."
   ]
  },
  {
   "cell_type": "code",
   "execution_count": null,
   "metadata": {},
   "outputs": [],
   "source": [
    "# Tuning Electrostatics\n",
    "p3m = electrostatics.P3M(prefactor=l_bjerrum * temp,\n",
    "                         accuracy=1e-2)\n",
    "system.actors.add(p3m)\n",
    "elc = electrostatic_extensions.ELC(gap_size=elc_gap,\n",
    "                                   maxPWerror=1e-3)\n",
    "system.actors.add(elc)"
   ]
  },
  {
   "cell_type": "markdown",
   "metadata": {},
   "source": [
    "For now, our electric field is zero, but we want to switch it on later.\n",
    "Here we run over all particles and set an external force on the charges caused \n",
    "by the field:"
   ]
  },
  {
   "cell_type": "code",
   "execution_count": null,
   "metadata": {},
   "outputs": [],
   "source": [
    "for p in system.part:\n",
    "    p.ext_force = [0, 0, Ez * p.q]"
   ]
  },
  {
   "cell_type": "markdown",
   "metadata": {},
   "source": [
    "This is followed by our standard temperature equilibration:"
   ]
  },
  {
   "cell_type": "code",
   "execution_count": null,
   "metadata": {},
   "outputs": [],
   "source": [
    "# Temperature Equilibration\n",
    "system.time = 0.0\n",
    "for i in range(int(num_steps_equilibration / 100)):\n",
    "    energy = system.analysis.energy()\n",
    "    temp_measured = energy['kinetic'] / ((3.0 / 2.0) * n_part)\n",
    "    print(\"progress={:.0f}%, t={:.1f}, E_total={:.2f}, E_coulomb={:.2f}, T={:.4f}\"\n",
    "          .format(i * 100. / int(num_steps_equilibration / 100 - 1), system.time,\n",
    "                  energy['total'], energy['coulomb'], temp_measured), end='\\r')\n",
    "    system.integrator.run(100)\n",
    "\n",
    "print()"
   ]
  },
  {
   "cell_type": "markdown",
   "metadata": {},
   "source": [
    "In the integration loop, we like to measure the density profile for both ion species along the $z$-direction.\n",
    "We use a simple histogram analysis to accumulate the density data. Integration takes a while."
   ]
  },
  {
   "cell_type": "code",
   "execution_count": null,
   "metadata": {},
   "outputs": [],
   "source": [
    "# Integration\n",
    "bins = 100\n",
    "z_dens_na = numpy.zeros(bins)\n",
    "z_dens_cl = numpy.zeros(bins)\n",
    "system.time = 0.0\n",
    "cnt = 0\n",
    "\n",
    "for i in range(num_configs):\n",
    "    print('progress: {:>3.0f}%'.format(i * 100. / num_configs), end='\\r')\n",
    "    energy = system.analysis.energy()\n",
    "    temp_measured = energy['kinetic'] / ((3.0 / 2.0) * n_part)\n",
    "    system.integrator.run(integ_steps_per_config)\n",
    "\n",
    "    for p in system.part:\n",
    "        bz = int(p.pos[2] / box_z * bins)\n",
    "        if p.type == types[\"Na\"]:\n",
    "            z_dens_na[bz] += 1.0\n",
    "        elif p.type == types[\"Cl\"]:\n",
    "            z_dens_cl[bz] += 1.0\n",
    "    cnt += 1\n",
    "\n",
    "print('progress: 100%')"
   ]
  },
  {
   "cell_type": "markdown",
   "metadata": {},
   "source": [
    "Finally, we calculate the average, normalize the data with the bin volume and save it to\n",
    "a file using NumPy's <tt>savetxt</tt> command."
   ]
  },
  {
   "cell_type": "code",
   "execution_count": null,
   "metadata": {},
   "outputs": [],
   "source": [
    "# Analysis\n",
    "\n",
    "# Average / Normalize with Volume\n",
    "z_dens_na /= (cnt * box_volume / bins)\n",
    "z_dens_cl /= (cnt * box_volume / bins)\n",
    "z_values = numpy.linspace(0, box_l, num=bins)\n",
    "res = numpy.column_stack((z_values, z_dens_na, z_dens_cl))\n",
    "numpy.savetxt(\"z_density.data\", res,\n",
    "              header=\"#z rho_na(z) rho_cl(z)\")"
   ]
  },
  {
   "cell_type": "markdown",
   "metadata": {},
   "source": [
    "Finally we can plot the density of the ions."
   ]
  },
  {
   "cell_type": "code",
   "execution_count": null,
   "metadata": {},
   "outputs": [],
   "source": [
    "import matplotlib.pyplot as plt\n",
    "plt.ion()\n"
   ]
  },
  {
   "cell_type": "code",
   "execution_count": null,
   "metadata": {},
   "outputs": [],
   "source": [
    "plt.figure(figsize=(10, 6), dpi=80)\n",
    "plt.plot(z_values, z_dens_na, label='Na')\n",
    "plt.plot(z_values, z_dens_cl, label='Cl')\n",
    "plt.xlabel('$z$-axis $(\\\\mathrm{\\\\AA})$', fontsize=20)\n",
    "plt.ylabel('Density $(\\\\mathrm{u\\\\AA}^{-3})$', fontsize=20)\n",
    "plt.legend(fontsize=16)\n",
    "plt.show()"
   ]
  },
  {
   "cell_type": "markdown",
   "metadata": {},
   "source": [
    "The resulting density plot is very noisy due to insufficient sampling, but should show a slight depletion of the smaller Na atoms\n",
    "at the walls. Now try to put in an electric field that represents an applied voltage of $15 \\ \\mathrm{V}$ between the walls and compare the results.\n",
    "The density data should show strong layering at the walls, decaying towards the system center.\n",
    "The complete script is at <tt>/doc/tutorials/02-charged_system/scripts/nacl_units_confined.py.</tt>\n",
    "In the interactive script <tt>nacl_units_confined_vis.py</tt>, you can increase/decrease the electric field with the keys *u/j* (at your own risk)."
   ]
  },
  {
   "cell_type": "markdown",
   "metadata": {},
   "source": [
    "<figure>\n",
    "    <img src='figures/nacl_units_confined.jpg' alt='missing' style=\"width: 800px;\"/>\n",
    "    <center>\n",
    "    <figcaption>Figure 4: Snapshot and densities along the $z$-axis with applied electric field for the ion species.</figcaption>\n",
    "    </center>\n",
    "</figure>"
   ]
  },
  {
   "cell_type": "markdown",
   "metadata": {},
   "source": [
    "## References\n",
    "\n",
    "[1] Janz, G. J., Thermodynamic and Transport Properties of Molten Salts: Correlation Equations for Critically Evaluated Density, Surface Tension, Electrical Conductance, and Viscosity Data, *J. Phys. Chem. Ref. Data, 17*, Suppl. 2, 1988"
   ]
  }
 ],
 "metadata": {
  "kernelspec": {
   "display_name": "Python 3",
   "language": "python",
   "name": "python3"
  },
  "language_info": {
   "codemirror_mode": {
    "name": "ipython",
    "version": 3
   },
   "file_extension": ".py",
   "mimetype": "text/x-python",
   "name": "python",
   "nbconvert_exporter": "python",
   "pygments_lexer": "ipython3",
   "version": "3.6.8"
  }
 },
 "nbformat": 4,
 "nbformat_minor": 1
}
