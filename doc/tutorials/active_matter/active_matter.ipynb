{
 "cells": [
  {
   "cell_type": "markdown",
   "metadata": {},
   "source": [
    "# Active Matter\n",
    "## Table of Contents\n",
    "1. [Introduction](#Introduction)\n",
    "2. [Active particles](#Active-particles)\n",
    "3. [Enhanced Diffusion](#Enhanced-Diffusion)\n",
    "5. [Rectification](#Rectification)\n",
    "6. [Hydrodynamics of self-propelled particles](#Hydrodynamics-of-self-propelled-particles)\n",
    "8. [Further reading](#Further-reading)"
   ]
  },
  {
   "cell_type": "markdown",
   "metadata": {},
   "source": [
    "## Introduction\n",
    "In this tutorial we explore the ways to simulate self-propulsion in the\n",
    "simulation software package **ESPResSo**. We consider three examples that illustrate\n",
    "the properties of these systems. First, we study the concept of enhanced\n",
    "diffusion of a self-propelled particle. Second, we investigate rectification in\n",
    "an asymmetric geometry. Finally, we determine the flow field around a\n",
    "self-propelled particle using lattice-Boltzmann simulations (LB). These three\n",
    "subsections should give insight into the basics of simulating active matter\n",
    "with **ESPResSo**. This tutorial assumes basic knowledge of Python and **ESPResSo**,\n",
    "as well as the use of lattice-Boltzmann within **ESPResSo**. It is therefore\n",
    "recommended to go through the relevant tutorials first, before attempting this one."
   ]
  },
  {
   "cell_type": "markdown",
   "metadata": {},
   "source": [
    "## Active particles\n",
    "\n",
    "Active matter is a term that describes a class of systems, in which energy is\n",
    "constantly consumed to perform work. These systems are therefore highly\n",
    "out-of-equilibrium (thermodynamically) and (can) thus defy description using\n",
    "the standard framework of statistical mechanics. Active systems are, however,\n",
    "ubiquitous. On our length scale, we encounter flocks of\n",
    "birds, schools of fish, and, of course, humans;\n",
    "on the mesoscopic level examples are found in bacteria, sperm, and algae;\n",
    "and on the nanoscopic level, transport along the cytoskeleton is achieved by\n",
    "myosin motors. This exemplifies the range of length scales\n",
    "which the field of active matter encompasses, as well as its diversity. Recent\n",
    "years have seen a huge increase in studies into systems consisting of\n",
    "self-propelled particles, in particular artificial ones in the colloidal\n",
    "regime.\n",
    "These self-propelled colloids show promise as physical model systems for\n",
    "complex biological behavior (bacteria moving collectively) and could be used to\n",
    "answer fundamental questions concerning out-of-equilibrium statistical\n",
    "physics.\n",
    "Simulations can also play an important role in this regard, as the\n",
    "parameters are more easily tunable and the results ‘cleaner’ than in\n",
    "experiments. The above should give you some idea of the importance of\n",
    "the field of active matter and why you should be interested in\n",
    "performing simulations in it."
   ]
  },
  {
   "cell_type": "markdown",
   "metadata": {},
   "source": [
    "### Active Particles in **ESPResSo**\n",
    "\n",
    "The <tt>ENGINE</tt> feature offers intuitive syntax for adding self-propulsion to\n",
    "a particle. The propulsion will occur along the vector that defines the\n",
    "orientation of the particle (henceforth referred to as ‘director’). In **ESPResSo**\n",
    "the orientation of the particle is defined by a quaternion; this in turn\n",
    "defines a rotation matrix that acts on the particle's initial orientation\n",
    "(along the z-axis), which then defines the particles current orientation\n",
    "through the matrix-oriented vector.\n",
    "Within the <tt>ENGINE</tt> feature there are two ways of setting up a self-propelled\n",
    "particle, with and without hydrodynamic interactions. The particle without\n",
    "hydrodynamic interactions will be discussed first, as it is the simplest case."
   ]
  },
  {
   "cell_type": "markdown",
   "metadata": {},
   "source": [
    "### Self-Propulsion without Hydrodynamics\n",
    "\n",
    "For this type of self-propulsion the Langevin thermostat can be used. The\n",
    "Langevin thermostat imposes a velocity-dependent friction on a particle.\n",
    "When a constant force is applied along the director,\n",
    "the friction causes the particle to attain a terminal velocity, due to the balance\n",
    "of driving and friction force, see <a href='#fig:balance'>Fig.&nbsp;1</a>. The exponent with\n",
    "which the particle's velocity relaxes towards this value depends on the\n",
    "strength of the friction and the mass of the particle. The <tt>ENGINE</tt>\n",
    "feature implies that rotation of the particles (the <tt>ROTATION</tt> feature) is\n",
    "compiled into **ESPResSo**. The particle can thus reorient due to external torques or\n",
    "due to thermal fluctuations, whenever the rotational degrees of freedom are\n",
    "thermalized. Note that the rotation of the particles has to be enabled\n",
    "explicitly via their <tt>ROTATION</tt> property. This ‘engine’ building block can\n",
    "be connected to other particles, *e.g.*, via the virtual sites (rigid\n",
    "body) to construct complex self-propelled objects.\n",
    "\n",
    "<a id='fig:balance'></a>\n",
    "<figure><img src=\"figures/friction.svg\" style=\"float: center; width: 40%\"/>\n",
    "<center>\n",
    "<figcaption>Fig. 1: A balance of the driving force in the\n",
    "direction defined by the ‘director’ unit vector and the friction due to\n",
    "the Langevin thermostat results in a constant terminal\n",
    "velocity.</figcaption>\n",
    "</center>\n",
    "</figure>"
   ]
  },
  {
   "cell_type": "markdown",
   "metadata": {},
   "source": [
    "## Enhanced Diffusion"
   ]
  },
  {
   "cell_type": "markdown",
   "metadata": {},
   "source": [
    "First we import the necessary modules, define the parameters and set up the system."
   ]
  },
  {
   "cell_type": "code",
   "execution_count": null,
   "metadata": {},
   "outputs": [],
   "source": [
    "import tqdm\n",
    "import numpy as np\n",
    "import espressomd.observables\n",
    "import espressomd.accumulators\n",
    "import matplotlib.pyplot as plt\n",
    "plt.rcParams.update({'font.size': 18})\n",
    "%matplotlib inline\n",
    "\n",
    "\n",
    "espressomd.assert_features(\n",
    "    [\"ENGINE\", \"ROTATION\", \"MASS\", \"ROTATIONAL_INERTIA\", \"CUDA\"])"
   ]
  },
  {
   "cell_type": "code",
   "execution_count": null,
   "metadata": {},
   "outputs": [],
   "source": [
    "ED_PARAMS = {'time_step': 0.01,\n",
    "             'box_l': 3*[10.],\n",
    "             'skin': 0.4,\n",
    "             'active_velocity': 5,\n",
    "             'kT': 1,\n",
    "             'gamma': 1,\n",
    "             'gamma_rotation': 1,\n",
    "             'mass': 0.1,\n",
    "             'rinertia': 3*[1.],\n",
    "             'corr_tmax': 100}\n",
    "ED_N_SAMPLING_STEPS = 5000000"
   ]
  },
  {
   "cell_type": "code",
   "execution_count": null,
   "metadata": {},
   "outputs": [],
   "source": [
    "system = espressomd.System(box_l=ED_PARAMS['box_l'])\n",
    "system.cell_system.skin = ED_PARAMS['skin']\n",
    "system.time_step = ED_PARAMS['time_step']"
   ]
  },
  {
   "cell_type": "markdown",
   "metadata": {
    "solution2": "hidden",
    "solution2_first": true
   },
   "source": [
    "### Exercise\n",
    "* Set up a [Langevin thermostat](https://espressomd.github.io/doc/espressomd.html#espressomd.thermostat.Thermostat.set_langevin) for translation and rotation of the particles."
   ]
  },
  {
   "cell_type": "markdown",
   "metadata": {
    "solution2": "hidden"
   },
   "source": [
    "```python\n",
    "system.thermostat.set_langevin(kT=ED_PARAMS['kT'],\n",
    "                               gamma=ED_PARAMS['gamma'],\n",
    "                               gamma_rotation=ED_PARAMS['gamma_rotation'],\n",
    "                               seed=42)\n",
    "```"
   ]
  },
  {
   "cell_type": "code",
   "execution_count": null,
   "metadata": {},
   "outputs": [],
   "source": []
  },
  {
   "cell_type": "markdown",
   "metadata": {},
   "source": [
    "The configuration for the Langevin-based swimming is exposed as an attribute of\n",
    "the <tt>ParticleHandle</tt> class of **ESPResSo**, which represents a particle in the\n",
    "simulation. You can either set up the self-propulsion during the creation of a\n",
    "particle or at a later stage."
   ]
  },
  {
   "cell_type": "markdown",
   "metadata": {
    "solution2": "hidden",
    "solution2_first": true
   },
   "source": [
    "### Exercise\n",
    "* Set up one active and one passive particle, call them `part_act` and `part_pass` (Hint: see [the docs](https://espressomd.github.io/doc/espressomd.html#espressomd.particle_data.ParticleHandle.swimming))\n",
    "* Use `ED_PARAMS` for the necessary parameters"
   ]
  },
  {
   "cell_type": "markdown",
   "metadata": {
    "solution2": "hidden"
   },
   "source": [
    "```python\n",
    "part_act = system.part.add(pos=[5.0, 5.0, 5.0], swimming={'v_swim': ED_PARAMS['active_velocity']},\n",
    "                           mass=ED_PARAMS['mass'], rotation=3 * [True], rinertia=ED_PARAMS['rinertia'])\n",
    "part_pass = system.part.add(pos=[5.0, 5.0, 5.0],\n",
    "                            mass=ED_PARAMS['mass'], rotation=3 * [True], rinertia=ED_PARAMS['rinertia'])\n",
    "```"
   ]
  },
  {
   "cell_type": "code",
   "execution_count": null,
   "metadata": {},
   "outputs": [],
   "source": []
  },
  {
   "cell_type": "markdown",
   "metadata": {},
   "source": [
    "Next we set up three **ESPResSo** correlators for the Mean Square Displacement (MSD), Velocity Autocorrelation Function (VACF) and the Angular Velocity Autocorrelation Function (AVACF)."
   ]
  },
  {
   "cell_type": "code",
   "execution_count": null,
   "metadata": {},
   "outputs": [],
   "source": [
    "pos_obs = espressomd.observables.ParticlePositions(\n",
    "    ids=[part_act.id, part_pass.id])\n",
    "msd = espressomd.accumulators.Correlator(obs1=pos_obs,\n",
    "                                         corr_operation=\"square_distance_componentwise\",\n",
    "                                         delta_N=1,\n",
    "                                         tau_max=ED_PARAMS['corr_tmax'],\n",
    "                                         tau_lin=16)\n",
    "system.auto_update_accumulators.add(msd)\n",
    "\n",
    "vel_obs = espressomd.observables.ParticleVelocities(\n",
    "    ids=[part_act.id, part_pass.id])\n",
    "vacf = espressomd.accumulators.Correlator(obs1=vel_obs,\n",
    "                                          corr_operation=\"componentwise_product\",\n",
    "                                          delta_N=1,\n",
    "                                          tau_max=ED_PARAMS['corr_tmax'],\n",
    "                                          tau_lin=16)\n",
    "system.auto_update_accumulators.add(vacf)\n",
    "\n",
    "ang_obs = espressomd.observables.ParticleAngularVelocities(\n",
    "    ids=[part_act.id, part_pass.id])\n",
    "avacf = espressomd.accumulators.Correlator(obs1=ang_obs,\n",
    "                                           corr_operation=\"componentwise_product\",\n",
    "                                           delta_N=1,\n",
    "                                           tau_max=ED_PARAMS['corr_tmax'],\n",
    "                                           tau_lin=16)\n",
    "system.auto_update_accumulators.add(avacf)"
   ]
  },
  {
   "cell_type": "markdown",
   "metadata": {},
   "source": [
    "No more setup needed! We can run the simulation and plot our observables."
   ]
  },
  {
   "cell_type": "code",
   "execution_count": null,
   "metadata": {},
   "outputs": [],
   "source": [
    "for i in tqdm.tqdm(range(100)):\n",
    "    system.integrator.run(int(ED_N_SAMPLING_STEPS/100))"
   ]
  },
  {
   "cell_type": "code",
   "execution_count": null,
   "metadata": {},
   "outputs": [],
   "source": [
    "system.auto_update_accumulators.remove(msd)\n",
    "msd.finalize()\n",
    "system.auto_update_accumulators.remove(vacf)\n",
    "vacf.finalize()\n",
    "system.auto_update_accumulators.remove(avacf)\n",
    "avacf.finalize()"
   ]
  },
  {
   "cell_type": "code",
   "execution_count": null,
   "metadata": {},
   "outputs": [],
   "source": [
    "taus_msd = msd.lag_times()\n",
    "msd_result = msd.result()\n",
    "msd_result = np.sum(msd_result, axis=2)\n",
    "\n",
    "taus_vacf = vacf.lag_times()\n",
    "vacf_result = np.sum(vacf.result(), axis=2)\n",
    "\n",
    "taus_avacf = avacf.lag_times()\n",
    "avacf_result = np.sum(avacf.result(), axis=2)"
   ]
  },
  {
   "cell_type": "code",
   "execution_count": null,
   "metadata": {},
   "outputs": [],
   "source": [
    "fig_msd = plt.figure(figsize=(10, 6))\n",
    "plt.plot(taus_msd, msd_result[:, 0], label='active')\n",
    "plt.plot(taus_msd, msd_result[:, 1], label='passive')\n",
    "plt.xlim((taus_msd[1], None))\n",
    "plt.loglog()\n",
    "plt.xlabel('t')\n",
    "plt.ylabel('MSD(t)')\n",
    "plt.legend()\n",
    "plt.show()"
   ]
  },
  {
   "cell_type": "markdown",
   "metadata": {},
   "source": [
    "The Mean Square Displacement of an active particle is characterized by a longer ballistic regime and an increased diffusion coefficient for longer lag times. In the overdamped limit it is given by\n",
    "\n",
    "$$\n",
    "\\langle r^{2}(t) \\rangle = 6 D t + \\frac{v^{2} \\tau^{2}_{R}}{2} \\left[ \\frac{2 t}{\\tau^{2}_{R}} + \\exp\\left( \\frac{-2t}{\\tau^{2}_{R}} \\right) - 1 \\right],\n",
    "$$\n",
    "where $\\tau_{R} = \\frac{8\\pi\\eta R^{3}}{k_{B} T}$ is the characteristic time scale for rotational diffusion and $ D = \\frac{k_B T}{\\gamma}$ is the translational diffusion coefficient.\n",
    "\n",
    "For small times ($t \\ll \\tau_{R}$) the motion is ballistic\n",
    "\n",
    "$$\\langle r^{2}(t) \\rangle = 6 D t + v^{2} t^{2},$$\n",
    "\n",
    "while for long times ($t \\gg \\tau_{R}$) the motion is diffusive\n",
    "\n",
    "$$\\langle r^{2}(t) \\rangle = (6 D + v^{2}\\tau_{R}) t.$$\n",
    "\n",
    "Note that no matter the strength of the activity, provided it is some finite value, the crossover between ballistic motion and enhanced diffusion is controlled by the rotational diffusion time.\n",
    "\n",
    "The passive particle also displays a crossover from a ballistic to a diffusive motion. However, the crossover time $\\tau_{C}=\\frac{m}{\\gamma}$ is not determined by the rotational motion but instead by the mass of the particles. \n",
    "    \n",
    "From the longterm MSD of the active particles we can define an effective diffusion coefficient $D_{\\mathrm{eff}} = D + v^{2}\\tau_{R}/6$. One can, of course, also connect this increased diffusion with an effective temperature. However, this apparent equivalence can lead to problems when one then attempts to apply statistical mechanics to such systems at the effective temperature. That is, there is typically more to being out-of-equilibrium than can be captured by a simple remapping of equilibrium parameters, as we will see in the second part of the tutorial."
   ]
  },
  {
   "cell_type": "markdown",
   "metadata": {},
   "source": [
    "From the autocorrelation functions of the velocity and the angular velocity we can see that the activity does not influence the rotational diffusion. Yet the directed motion for $t<\\tau_{R}$ leads to an enhanced correlation of the velocity."
   ]
  },
  {
   "cell_type": "code",
   "execution_count": null,
   "metadata": {},
   "outputs": [],
   "source": [
    "def acf_stable_regime(x, y):\n",
    "    \"\"\"\n",
    "    Remove the noisy tail in autocorrelation functions of finite time series.\n",
    "    \"\"\"\n",
    "    cut = np.argmax(y <= 0.) - 2\n",
    "    assert cut >= 1\n",
    "    return (x[1:cut], y[1:cut])"
   ]
  },
  {
   "cell_type": "code",
   "execution_count": null,
   "metadata": {},
   "outputs": [],
   "source": [
    "fig_vacf = plt.figure(figsize=(10, 6))\n",
    "plt.plot(*acf_stable_regime(taus_vacf, vacf_result[:, 0]), label='active')\n",
    "plt.plot(*acf_stable_regime(taus_vacf, vacf_result[:, 1]), label='passive')\n",
    "plt.xlim((taus_vacf[1], None))\n",
    "plt.loglog()\n",
    "plt.xlabel('t')\n",
    "plt.ylabel('VACF(t)')\n",
    "plt.legend()\n",
    "plt.show()"
   ]
  },
  {
   "cell_type": "code",
   "execution_count": null,
   "metadata": {},
   "outputs": [],
   "source": [
    "fig_avacf = plt.figure(figsize=(10, 6))\n",
    "plt.plot(*acf_stable_regime(taus_avacf, avacf_result[:, 0]), label='active')\n",
    "plt.plot(*acf_stable_regime(taus_avacf, avacf_result[:, 1]), label='passive')\n",
    "plt.xlim((taus_avacf[1], None))\n",
    "plt.loglog()\n",
    "plt.xlabel('t')\n",
    "plt.ylabel('AVACF(t)')\n",
    "plt.legend()\n",
    "plt.show()"
   ]
  },
  {
   "cell_type": "markdown",
   "metadata": {},
   "source": [
    "Before we go to the second part, it is important to clear the state of the system."
   ]
  },
  {
   "cell_type": "code",
   "execution_count": null,
   "metadata": {},
   "outputs": [],
   "source": [
    "def clear_system(system):\n",
    "    system.part.clear()\n",
    "    system.thermostat.turn_off()\n",
    "    system.constraints.clear()\n",
    "    system.auto_update_accumulators.clear()\n",
    "    system.time = 0."
   ]
  },
  {
   "cell_type": "code",
   "execution_count": null,
   "metadata": {},
   "outputs": [],
   "source": [
    "clear_system(system)"
   ]
  },
  {
   "cell_type": "markdown",
   "metadata": {},
   "source": [
    "## Rectification"
   ]
  },
  {
   "cell_type": "markdown",
   "metadata": {},
   "source": [
    "In the second part of this tutorial you will consider the ‘rectifying’ properties of certain\n",
    "asymmetric geometries on active systems. Rectification can be best understood by\n",
    "considering a system of passive particles first. In an equilibrium system,\n",
    "for which the particles are confined to an asymmetric box with hard walls, we know that the\n",
    "particle density is homogeneous throughout. However, in an out-of-equilibrium setting one can have a\n",
    "heterogeneous distribution of particles, which limits the applicability of an\n",
    "‘effective’ temperature description."
   ]
  },
  {
   "cell_type": "markdown",
   "metadata": {},
   "source": [
    "The geometry we will use is a cylindrical system with a funnel dividing\n",
    "two halves of the box as shown in <a href='#fig:geometry'>Fig.&nbsp;2</a>.\n",
    "\n",
    "<a id='fig:geometry'></a>\n",
    "<figure><img src=\"figures/geometry.svg\" style=\"float: center; width: 75%\"/>\n",
    "<center>\n",
    "<figcaption>Fig. 2: Sketch of the rectifying geometry which we\n",
    "simulate for this tutorial.</figcaption>\n",
    "</center>\n",
    "</figure>"
   ]
  },
  {
   "cell_type": "code",
   "execution_count": null,
   "metadata": {},
   "outputs": [],
   "source": [
    "import espressomd.shapes\n",
    "import espressomd.math"
   ]
  },
  {
   "cell_type": "code",
   "execution_count": null,
   "metadata": {},
   "outputs": [],
   "source": [
    "RECT_PARAMS = {'length': 100,\n",
    "               'radius': 20,\n",
    "               'funnel_inner_radius': 3,\n",
    "               'funnel_angle': np.pi / 4.0,\n",
    "               'funnel_thickness': 0.1,\n",
    "               'n_particles': 500,\n",
    "               'active_velocity': 7,\n",
    "               'time_step': 0.01,\n",
    "               'wca_sigma': 0.5,\n",
    "               'wca_epsilon': 0.1,\n",
    "               'skin': 0.4,\n",
    "               'kT': 0.1,\n",
    "               'gamma': 1.,\n",
    "               'gamma_rotation': 1}\n",
    "\n",
    "RECT_STEPS_PER_SAMPLE = 100\n",
    "RECT_N_SAMPLES = 500\n",
    "\n",
    "TYPES = {'particles': 0,\n",
    "         'boundaries': 1}\n",
    "\n",
    "box_l = np.array(\n",
    "    [RECT_PARAMS['length'], 2*RECT_PARAMS['radius'], 2*RECT_PARAMS['radius']])\n",
    "system.box_l = box_l\n",
    "system.cell_system.skin = RECT_PARAMS['skin']\n",
    "system.time_step = RECT_PARAMS['time_step']\n",
    "system.thermostat.set_langevin(\n",
    "    kT=RECT_PARAMS['kT'], gamma=RECT_PARAMS['gamma'], gamma_rotation=RECT_PARAMS['gamma_rotation'], seed=42)"
   ]
  },
  {
   "cell_type": "code",
   "execution_count": null,
   "metadata": {},
   "outputs": [],
   "source": [
    "cylinder = espressomd.shapes.Cylinder(\n",
    "    center=0.5 * box_l,\n",
    "    axis=[1, 0, 0], radius=RECT_PARAMS['radius'], length=RECT_PARAMS['length'], direction=-1)\n",
    "system.constraints.add(shape=cylinder, particle_type=TYPES['boundaries'])\n",
    "\n",
    "# Setup walls\n",
    "wall = espressomd.shapes.Wall(dist=0, normal=[1, 0, 0])\n",
    "system.constraints.add(shape=wall, particle_type=TYPES['boundaries'])\n",
    "\n",
    "wall = espressomd.shapes.Wall(dist=-RECT_PARAMS['length'], normal=[-1, 0, 0])\n",
    "system.constraints.add(shape=wall, particle_type=TYPES['boundaries'])"
   ]
  },
  {
   "cell_type": "code",
   "execution_count": null,
   "metadata": {},
   "outputs": [],
   "source": [
    "funnel_length = (RECT_PARAMS['radius']-RECT_PARAMS['funnel_inner_radius']\n",
    "                 )/np.tan(RECT_PARAMS['funnel_angle'])"
   ]
  },
  {
   "cell_type": "markdown",
   "metadata": {
    "solution2": "hidden",
    "solution2_first": true
   },
   "source": [
    "### Exercise \n",
    "* Using `funnel_length` and the geometric parameters in `RECT_PARAMS`, set up the funnel cone (Hint: [Conical Frustum](https://espressomd.github.io/doc/espressomd.html#espressomd.shapes.HollowConicalFrustum))"
   ]
  },
  {
   "cell_type": "markdown",
   "metadata": {
    "solution2": "hidden"
   },
   "source": [
    "```python\n",
    "ctp = espressomd.math.CylindricalTransformationParameters(\n",
    "    axis=[1, 0, 0], center=box_l/2.)\n",
    "\n",
    "hollow_cone = espressomd.shapes.HollowConicalFrustum(\n",
    "    cyl_transform_params=ctp,\n",
    "    r1=RECT_PARAMS['funnel_inner_radius'], r2=RECT_PARAMS['radius'],\n",
    "    thickness=RECT_PARAMS['funnel_thickness'],\n",
    "    length=funnel_length,\n",
    "    direction=1)\n",
    "system.constraints.add(shape=hollow_cone, particle_type=TYPES['boundaries'])\n",
    "```"
   ]
  },
  {
   "cell_type": "code",
   "execution_count": null,
   "metadata": {},
   "outputs": [],
   "source": []
  },
  {
   "cell_type": "markdown",
   "metadata": {
    "solution2": "hidden",
    "solution2_first": true
   },
   "source": [
    "### Exercise\n",
    "* Set up a WCA potential between the walls and the particles using the parameters in `RECT_PARAMS`"
   ]
  },
  {
   "cell_type": "markdown",
   "metadata": {
    "solution2": "hidden"
   },
   "source": [
    "```python\n",
    "system.non_bonded_inter[TYPES['particles'], TYPES['boundaries']].wca.set_params(\n",
    "    epsilon=RECT_PARAMS['wca_epsilon'], sigma=RECT_PARAMS['wca_sigma'])\n",
    "```"
   ]
  },
  {
   "cell_type": "code",
   "execution_count": null,
   "metadata": {},
   "outputs": [],
   "source": []
  },
  {
   "cell_type": "markdown",
   "metadata": {},
   "source": [
    "**ESPResSo** uses quaternions to describe the rotational state of particles. Here we provide a convenience method to calculate quaternions from spherical coordinates."
   ]
  },
  {
   "cell_type": "markdown",
   "metadata": {
    "solution2": "hidden",
    "solution2_first": true
   },
   "source": [
    "### Exercise\n",
    "* Place an equal number of swimming particles (the total number should be `RECT_PARAMS['n_particles']`) in the left and the right part of the box such that the center of mass is exactly in the middle. (Hint: Particles do not interact so you can put multiple in the same position)\n",
    "* Particles must be created with a random [orientation](https://espressomd.github.io/doc/particles.html#rotational-degrees-of-freedom-and-particle-anisotropy)"
   ]
  },
  {
   "cell_type": "markdown",
   "metadata": {
    "solution2": "hidden"
   },
   "source": [
    "```python\n",
    "for i in range(RECT_PARAMS['n_particles']):\n",
    "    pos = box_l / 2\n",
    "    pos[0] += (-1)**i * 0.25 * RECT_PARAMS['length']\n",
    "\n",
    "    # http://mathworld.wolfram.com/SpherePointPicking.html\n",
    "    theta = np.arccos(2. * np.random.random() - 1)\n",
    "    phi = 2. * np.pi * np.random.random()\n",
    "    director = [np.sin(theta) * np.cos(phi),\n",
    "                np.sin(theta) * np.cos(phi),\n",
    "                np.cos(theta)]\n",
    "\n",
    "    system.part.add(pos=pos, swimming={'v_swim': RECT_PARAMS['active_velocity']},\n",
    "                    director=director, rotation=3*[True])\n",
    "```"
   ]
  },
  {
   "cell_type": "code",
   "execution_count": null,
   "metadata": {},
   "outputs": [],
   "source": []
  },
  {
   "cell_type": "code",
   "execution_count": null,
   "metadata": {},
   "outputs": [],
   "source": [
    "com_deviations = list()\n",
    "times = list()"
   ]
  },
  {
   "cell_type": "markdown",
   "metadata": {
    "solution2": "hidden",
    "solution2_first": true
   },
   "source": [
    "### Exercise\n",
    "* Run the simulation using ``RECT_N_SAMPLES`` and ``RECT_STEPS_PER_SAMPLE`` and calculate the deviation of the center of mass from the center of the box in each sample step. (Hint: [Center of mass](https://espressomd.github.io/doc/espressomd.html#espressomd.galilei.GalileiTransform.system_CMS))\n",
    "* Save the result and the corresponding time of the system in the lists given above."
   ]
  },
  {
   "cell_type": "markdown",
   "metadata": {
    "solution2": "hidden"
   },
   "source": [
    "```python\n",
    "for _ in tqdm.tqdm(range(RECT_N_SAMPLES)):\n",
    "    system.integrator.run(RECT_STEPS_PER_SAMPLE)\n",
    "    com_deviations.append(system.galilei.system_CMS()[0] - 0.5 * box_l[0])\n",
    "    times.append(system.time)\n",
    "```"
   ]
  },
  {
   "cell_type": "code",
   "execution_count": null,
   "metadata": {
    "scrolled": true
   },
   "outputs": [],
   "source": []
  },
  {
   "cell_type": "code",
   "execution_count": null,
   "metadata": {},
   "outputs": [],
   "source": [
    "def moving_average(data, window_size):\n",
    "    return np.convolve(data, np.ones(window_size), 'same') / window_size"
   ]
  },
  {
   "cell_type": "code",
   "execution_count": null,
   "metadata": {},
   "outputs": [],
   "source": [
    "smoothing_window = 10\n",
    "com_smoothed = moving_average(com_deviations, smoothing_window)\n",
    "fig_rect = plt.figure(figsize=(10, 6))\n",
    "plt.plot(times[smoothing_window:-smoothing_window],\n",
    "         com_smoothed[smoothing_window:-smoothing_window])\n",
    "plt.xlabel('t')\n",
    "plt.ylabel('center of mass deviation')\n",
    "plt.show()"
   ]
  },
  {
   "cell_type": "markdown",
   "metadata": {},
   "source": [
    "Even though the potential energy inside the geometry is 0 in every part of the accessible region, the active particles are clearly not Boltzmann distributed (homogenous density). Instead, they get funneled into the right half, showing the inapplicability of equilibrium statistical mechanics."
   ]
  },
  {
   "cell_type": "code",
   "execution_count": null,
   "metadata": {},
   "outputs": [],
   "source": [
    "clear_system(system)"
   ]
  },
  {
   "cell_type": "markdown",
   "metadata": {},
   "source": [
    "## Hydrodynamics of self-propelled particles"
   ]
  },
  {
   "cell_type": "markdown",
   "metadata": {},
   "source": [
    "In situations where hydrodynamic interactions between swimmers or swimmers and\n",
    "objects are of importance, we use the lattice-Boltzmann (LB) to propagate the\n",
    "fluid's momentum diffusion. We recommend the GPU-based variant of LB in **ESPResSo**,\n",
    "since it is much faster. Moreover, the current implementation of the CPU\n",
    "self-propulsion is limited to one CPU. This is because the ghost-node structure\n",
    "of the **ESPResSo** cell-list code does not allow for straightforward MPI parallellization\n",
    "of the swimmer objects across several CPUs.\n",
    "\n",
    "Of particular importance for self-propulsion at low Reynolds number is the fact\n",
    "that active systems (bacteria, sperm, algae, but also artificial chemically\n",
    "powered swimmers) are force free. That is, the flow field around one of these\n",
    "objects does not contain a monopolar (Stokeslet) contribution. In the case of a\n",
    "sperm cell, see <a href='#fig:pusher-puller'>Fig.&nbsp;3</a>(a), the reasoning is as follows.\n",
    "The whip-like tail pushes against the fluid and the fluid pushes against the\n",
    "tail, at the same time the head experiences drag, pushing against the fluid and\n",
    "being pushed back against by the fluid. This ensures that both the swimmer and\n",
    "the fluid experience no net force. However, due to the asymmetry of the\n",
    "distribution of forces around the swimmer, the fluid flow still causes net\n",
    "motion. When there is no net force on the fluid, the lowest-order multipole\n",
    "that can be present is a hydrodynamic dipole. Since a dipole has an\n",
    "orientation, there are two types of swimmer: pushers and pullers. The\n",
    "distinction is made by whether the particle pulls fluid in from the front and\n",
    "back, and pushes it out towards its side (puller), or vice versa (pusher), see\n",
    "<a href='#fig:pusher-puller'>Fig.&nbsp;3</a>(c,d).\n",
    "\n",
    "<a id='fig:pusher-puller'></a>\n",
    "<figure><img src=\"figures/pusher-puller.svg\" style=\"float: center; width: 75%\"/>\n",
    "<center>\n",
    "<figcaption>Fig. 3: (a) Illustration of a sperm cell modeled\n",
    "using our two-point swimmer code. The head is represented by a solid particle,\n",
    "on which a force is acting (black arrow). In the fluid a counter force is\n",
    "applied (white arrow). This generates a pusher-type particle. (b) Illustration\n",
    "of the puller-type Chlamydomonas algae, also represented by our two-point\n",
    "swimmer. (c,d) Sketch of the flow-lines around the swimmers: (c) pusher and (d)\n",
    "puller.</figcaption>\n",
    "</center>\n",
    "</figure>"
   ]
  },
  {
   "cell_type": "markdown",
   "metadata": {},
   "source": [
    "For the setup of the swimming particles with hydrodynamics we cannot use the `v_swim` argument anymore because it is not trivial to determine the friction acting on the particle. Instead, we have to provide the keys `f_swim` and `dipole_length`. Together they determine what the dipole strength and the terminal velocity of the swimmer is.\n",
    "One should be careful, however, the `dipole_length` should be at least one\n",
    "grid spacing, since use is made of the LB interpolation scheme. If the length\n",
    "is less than one grid spacing, you can easily run into discretization artifacts\n",
    "or cause the particle not to move. This dipole length together with the\n",
    "director and the keyword <tt>pusher/puller</tt> determines where the counter\n",
    "force on the fluid is applied to make the system force free, see\n",
    "<a href='#fig:pusher-puller'>Fig.&nbsp;3</a>(a) for an illustration of the setup. That is to\n",
    "say, a force of magnitude `f_swim` is applied to the particle (leading\n",
    "to a Stokeslet in the fluid, due to friction) and a counter force is applied to\n",
    "compensate for this in the fluid (resulting in an extended dipole flow field,\n",
    "due to the second monopole). For a puller the counter force is applied in front\n",
    "of the particle and for a pusher it is in the back\n",
    "(<a href='#fig:pusher-puller'>Fig.&nbsp;3</a>(b)).\n",
    "\n",
    "Finally, there are a few caveats to the swimming setup with hydrodynamic\n",
    "interactions. First, the stability of this algorithm is governed by the\n",
    "stability limitations of the LB method. Second, since the particle is\n",
    "essentially a point particle, there is no rotation caused by the fluid\n",
    "flow, *e.g.*, a swimmer in a Poiseuille flow. If the thermostat is\n",
    "switched on, the rotational degrees of freedom will also be thermalized, but\n",
    "there is still no contribution of rotation due to ‘external’ flow fields.\n",
    "It is recommended to use an alternative means of obtaining rotations in your LB\n",
    "swimming simulations. For example, by constructing a [raspberry\n",
    "particle](https://espressomd.github.io/doc/particles.html#rigid-arrangements-of-particles)."
   ]
  },
  {
   "cell_type": "code",
   "execution_count": null,
   "metadata": {},
   "outputs": [],
   "source": [
    "import espressomd.lb"
   ]
  },
  {
   "cell_type": "code",
   "execution_count": null,
   "metadata": {},
   "outputs": [],
   "source": [
    "HYDRO_PARAMS = {'box_l': 3*[25],\n",
    "                'time_step': 0.01,\n",
    "                'skin': 1,\n",
    "                'agrid': 1,\n",
    "                'dens': 1,\n",
    "                'visc': 1,\n",
    "                'gamma': 1,\n",
    "                'mass': 5,\n",
    "                'dipole_length': 2,\n",
    "                'active_force': 0.1,\n",
    "                'mode': 'pusher'}\n",
    "\n",
    "HYDRO_N_STEPS = 2000\n",
    "\n",
    "system.box_l = HYDRO_PARAMS['box_l']\n",
    "system.cell_system.skin = HYDRO_PARAMS['skin']\n",
    "system.time_step = HYDRO_PARAMS['time_step']\n",
    "system.min_global_cut = HYDRO_PARAMS['dipole_length']"
   ]
  },
  {
   "cell_type": "markdown",
   "metadata": {
    "solution2": "hidden",
    "solution2_first": true
   },
   "source": [
    "### Exercise\n",
    "* Using `HYDRO_PARAMS`, set up a lattice-Boltzmann fluid and activate it as a thermostat (Hint: [lattice-Boltzmann](https://espressomd.github.io/doc/lb.html#lattice-boltzmann))"
   ]
  },
  {
   "cell_type": "markdown",
   "metadata": {
    "solution2": "hidden"
   },
   "source": [
    "```python\n",
    "lbf = espressomd.lb.LBFluidGPU(agrid=HYDRO_PARAMS['agrid'], dens=HYDRO_PARAMS['dens'],\n",
    "                               visc=HYDRO_PARAMS['visc'], tau=HYDRO_PARAMS['time_step'])\n",
    "system.actors.add(lbf)\n",
    "system.thermostat.set_lb(LB_fluid=lbf, gamma=HYDRO_PARAMS['gamma'], seed=42)\n",
    "```"
   ]
  },
  {
   "cell_type": "code",
   "execution_count": null,
   "metadata": {},
   "outputs": [],
   "source": []
  },
  {
   "cell_type": "code",
   "execution_count": null,
   "metadata": {},
   "outputs": [],
   "source": [
    "box_l = np.array(HYDRO_PARAMS['box_l'])\n",
    "pos = box_l/2.\n",
    "pos[2] = -10."
   ]
  },
  {
   "cell_type": "markdown",
   "metadata": {
    "solution2": "hidden",
    "solution2_first": true
   },
   "source": [
    "### Exercise\n",
    "* Using `HYDRO_PARAMS`, place particle at `pos` that swims in `z`-direction. The particle handle should be called `particle`."
   ]
  },
  {
   "cell_type": "markdown",
   "metadata": {
    "solution2": "hidden"
   },
   "source": [
    "```python\n",
    "particle = system.part.add(\n",
    "    pos=pos, mass=HYDRO_PARAMS['mass'], rotation=3*[False],\n",
    "    swimming={'f_swim': HYDRO_PARAMS['active_force'],\n",
    "              'mode': HYDRO_PARAMS['mode'],\n",
    "              'dipole_length': HYDRO_PARAMS['dipole_length']})\n",
    "```"
   ]
  },
  {
   "cell_type": "code",
   "execution_count": null,
   "metadata": {},
   "outputs": [],
   "source": []
  },
  {
   "cell_type": "code",
   "execution_count": null,
   "metadata": {},
   "outputs": [],
   "source": [
    "system.integrator.run(HYDRO_N_STEPS)"
   ]
  },
  {
   "cell_type": "code",
   "execution_count": null,
   "metadata": {},
   "outputs": [],
   "source": [
    "vels = np.squeeze(lbf[:, int(system.box_l[1]/2), :].velocity)\n",
    "vel_abs = np.linalg.norm(vels, axis=2)\n",
    "\n",
    "lb_shape = lbf.shape\n",
    "xs, zs = np.meshgrid(np.linspace(0.5, box_l[0] - 0.5, num=lb_shape[0]),\n",
    "                     np.linspace(0.5, box_l[2] - 0.5, num=lb_shape[2]))\n",
    "\n",
    "fig_vels, ax_vels = plt.subplots(figsize=(10, 6))\n",
    "im = plt.pcolormesh(vel_abs.T, cmap='YlOrRd')\n",
    "plt.quiver(xs, zs, vels[:, :, 0].T, vels[:, :, 2].T, angles='xy', scale=0.005)\n",
    "circ = plt.Circle(particle.pos_folded[[0, 2]], 0.5, color='blue')\n",
    "ax_vels.add_patch(circ)\n",
    "ax_vels.set_aspect('equal')\n",
    "plt.xlabel('x')\n",
    "plt.ylabel('z')\n",
    "cb = plt.colorbar(im, label=r'$|v_{\\mathrm{fluid}}|$')\n",
    "plt.show()"
   ]
  },
  {
   "cell_type": "markdown",
   "metadata": {},
   "source": [
    "We can also export the particle and fluid data to ``.vtk`` format to display the results with a visualization software like ParaView."
   ]
  },
  {
   "cell_type": "code",
   "execution_count": null,
   "metadata": {},
   "outputs": [],
   "source": [
    "lbf.write_vtk_velocity('./fluid.vtk')\n",
    "system.part.writevtk('./particle.vtk')"
   ]
  },
  {
   "cell_type": "markdown",
   "metadata": {},
   "source": [
    "The result of such a visualization could look like <a href='#fig:flow_field'>Fig.&nbsp;4</a>."
   ]
  },
  {
   "cell_type": "markdown",
   "metadata": {},
   "source": [
    "<a id='fig:flow_field'></a>\n",
    "<figure><img src=\"figures/flow_field.svg\" style=\"float: center; width: 40%\"/>\n",
    "<center>\n",
    "<figcaption>Fig. 4: Snapshot of the flow field around a pusher particle visualized with ParaView.</figcaption>\n",
    "</center>\n",
    "</figure>"
   ]
  },
  {
   "cell_type": "markdown",
   "metadata": {},
   "source": [
    "## Further reading\n",
    "\n",
    "<a id='[1]'></a>[1] M. Ballerini, N. Cabibbo, R. Candelier, A. Cavagna, E. Cisbani, I. Giardina, V. Lecomte, A. Orlandi, G. Parisi, A. Procaccini, M. Viale, and V. Zdravkovic. Interaction ruling animal collective behavior depends on topological rather than metric distance: Evidence from a field study. *Proc. Natl. Acad. Sci.*, 105:1232, 2008.  \n",
    "<a id='[2]'></a>[2] Y. Katz, K. Tunstrøm, C.C. Ioannou, C. Huepe, and I.D. Couzin. Inferring the structure and dynamics of interactions in schooling fish. *Proc. Nat. Acad. Sci.*, 108(46):18720, 2011.  \n",
    "<a id='[3]'></a>[3] D. Helbing, I. Farkas, and T. Vicsek. Simulating dynamical features of escape panic. *Nature*, 407:487, 2000.  \n",
    "<a id='[4]'></a>[4] J. Zhang, W. Klingsch, A. Schadschneider, and A. Seyfried. Experimental study of pedestrian flow through a T-junction. In V. V. Kozlov, A. P. Buslaev, A. S. Bugaev, M. V. Yashina, A. Schadschneider, and M. Schreckenberg, editors, *Traffic and Granular Flow ’11*, page 241. Springer (Berlin/Heidelberg), 2013.  \n",
    "<a id='[5]'></a>[5] J.L. Silverberg, M. Bierbaum, J.P. Sethna, and I. Cohen. Collective motion of humans in mosh and circle pits at heavy metal concerts. *Phys. Rev. Lett.*, 110:228701, 2013.  \n",
    "<a id='[6]'></a>[6] A. Sokolov, I.S. Aranson, J.O. Kessler, and R.E. Goldstein. Concentration dependence of the collective dynamics of swimming bacteria. *Phys. Rev. Lett.*, 98:158102, 2007.  \n",
    "<a id='[7]'></a>[7] J. Schwarz-Linek, C. Valeriani, A. Cacciuto, M. E. Cates, D. Marenduzzo, A. N. Morozov, and W. C. K. Poon. Phase separation and rotor self-assembly in active particle suspensions. *Proc. Nat. Acad. Sci.*, 109:4052, 2012.  \n",
    "<a id='[8]'></a>[8] M. Reufer, R. Besseling, J. Schwarz-Linek, V.A. Martinez, A.N. Morozov, J. Arlt, D. Trubitsyn, F.B. Ward, and W.C.K. Poon. Switching of swimming modes in magnetospirillium gryphiswaldense. *Biophys. J.*, 106:37, 2014.  \n",
    "<a id='[9]'></a>[9] D.M. Woolley. Motility of spermatozoa at surfaces. *Reproduction*, 126:259, 2003.  \n",
    "<a id='[10]'></a>[10] I.H. Riedel, K. Kruse, and J. Howard. A self-organized vortex array of hydrodynamically entrained sperm cells. *Science*, 309(5732):300, 2005.  \n",
    "<a id='[11]'></a>[11] R. Ma, G.S. Klindt, I.H. Riedel-Kruse, F. Jülicher, and B.M. Friedrich. Active phase and amplitude fluctuations of flagellar beating. *Phys. Rev. Lett.*, 113:048101, 2014.  \n",
    "<a id='[12]'></a>[12] M. Polin, I. Tuval, K. Drescher, J.P. Gollub, and R.E. Goldstein. Chlamydomonas swims with two “gears” in a eukaryotic version of run-and-tumble locomotion. *Science*, 325:487, 2009.  \n",
    "<a id='[13]'></a>[13] V.F. Geyer, F. Jülicher, J. Howard, and B.M. Friedrich. Cell-body rocking is a dominant mechanism for flagellar synchronization in a swimming alga. *Proc. Nat. Acad. Sci.*, 110:18058, 2013.  \n",
    "<a id='[14]'></a>[14] D. Mizuno, C. Tardin, C.F. Schmidt, and F.C. MacKintosh. Nonequilibrium mechanics of active cytoskeletal networks. *Science*, 315:370, 2007.  \n",
    "<a id='[15]'></a>[15] R.F. Ismagilov, A. Schwartz, N. Bowden, and G.M. Whitesides. Autonomous movement and self-assembly. *Angew. Chem. Int. Ed.*, 41:652, 2002.  \n",
    "<a id='[16]'></a>[16] W. F. Paxton, K. C. Kistler, C. C. Olmeda, A. Sen, S. K. St. Angelo, Y. Cao, T. E. Mallouk, P. E. Lammert, and V. H. Crespi. Catalytic nanomotors: Autonomous movement of striped nanorods. *J. Am. Chem. Soc.*, 126:13424, 2004.  \n",
    "<a id='[17]'></a>[17] Y. Wang, R. M. Hernandez, D. J. Bartlett, J. M. Bingham, T. R. Kline, A. Sen, and T. E. Mallouk. Bipolar electrochemical mechanism for the propulsion of catalytic nanomotors in hydrogen peroxide solutions. *Langmuir*, 22:10451, 2006.  \n",
    "<a id='[18]'></a>[18] A. Brown and W. Poon. Ionic effects in self-propelled Pt-coated Janus swimmers. *Soft Matter*, 10:4016–4027, 2014.  \n",
    "<a id='[19]'></a>[19] S. Ebbens, D.A. Gregory, G. Dunderdale, J.R. Howse, Y. Ibrahim, T.B. Liverpool, and R. Golestanian. Electrokinetic effects in catalytic platinum-insulator Janus swimmers. *Euro. Phys. Lett.*, 106:58003, 2014.  \n",
    "<a id='[20]'></a>[20] S. Ebbens, M.-H. Tu, J. R. Howse, and R. Golestanian. Size dependence of the propulsion velocity for catalytic Janus-sphere swimmers. *Phys. Rev. E*, 85:020401, 2012.  \n",
    "<a id='[21]'></a>[21] J. R. Howse, R. A. L. Jones, A. J. Ryan, T. Gough, R. Vafabakhsh, and R. Golestanian. Self-motile colloidal particles: From directed propulsion to random walk. *Phys. Rev. Lett.*, 99:048102, 2007.  \n",
    "<a id='[22]'></a>[22] L. F. Valadares, Y.-G. Tao, N. S. Zacharia, V. Kitaev, F. Galembeck, R. Kapral, and G. A. Ozin. Catalytic nanomotors: Self-propelled sphere dimers. *Small*, 6:565, 2010.  \n",
    "<a id='[23]'></a>[23] J. Simmchen, V. Magdanz, S. Sanchez, S. Chokmaviroj, D. Ruiz-Molina, A. Baeza, and O.G. Schmidt. Effect of surfactants on the performance of tubular and spherical micromotors – a comparative study. *RSC Adv.*, 4:20334, 2014.  \n",
    "<a id='[24]'></a>[24] H.-R. Jiang, N. Yoshinaga, and M. Sano. Active motion of a Janus particle by self-thermophoresis in a defocused laser beam. *Phys.* *Rev. Lett.*, 105:268302, 2010.  \n",
    "<a id='[25]'></a>[25] L. Baraban, R. Streubel, D. Makarov, L. Han, D. Karnaushenko, O. G. Schmidt, and G. Cuniberti. Fuel-free locomotion of Janus motors: Magnetically induced thermophoresis. *ACS Nano*, 7:1360, 2013.  \n",
    "<a id='[26]'></a>[26] I. Buttinoni, G. Volpe, F. Kümmel, G. Volpe, and C. Bechinger. Active Brownian motion tunable by light. *J. Phys.: Condens. Matter*, 24:284129, 2012.  \n",
    "<a id='[27]'></a>[27] A. A. Solovev, Y. Mei, E. Bermúdez Ureña, G. Huang, and O. G. Schmidt. Catalytic microtubular jet engines self-propelled by accumulated gas bubbles. *Small*, 5:1688, 2009.  \n",
    "<a id='[28]'></a>[28] Y. Mei, A. A. Solovev, S. Sanchez, and O. G. Schmidt. Rolled-up nanotech on polymers: from basic perception to self-propelled catalytic microengines. *Chem. Soc. Rev.*, 40:2109, 2011.  \n",
    "<a id='[29]'></a>[29] M.E. Cates. Diffusive transport without detailed balance in motile bacteria: does microbiology need statistical physics? *Rep. Prog.* *Phys.*, 75:042601, 2012.  \n",
    "<a id='[30]'></a>[30] M.E. Cates and J. Tailleur. Motility-induced phase separation. *Annu. Rev. Condens. Matter Phys.*, 6:219, 2015.  \n",
    "<a id='[31]'></a>[31] A. Arnold et al. Espresso user guide. *User Guide: ESPResSo git repository*, 3.4-dev-1404-g32d3874:1, 2015.  \n",
    "<a id='[32]'></a>[32] H. J. Limbach, A. Arnold, B. A. Mann, and C. Holm. ESPResSo – an extensible simulation package for research on soft matter systems. *Comp. Phys. Comm.*, 174:704, 2006.  \n",
    "<a id='[33]'></a>[33] A. Arnold, O. Lenz, S. Kesselheim, R. Weeber, F. Fahrenberger, D. Roehm, P. Košovan, and C. Holm. ESPResSo 3.1 — Molecular dynamics software for coarse-grained models. In M. Griebel and M. A. Schweitzer, editors, *Meshfree Methods for Partial Differential* *Equations VI*, volume 89 of *Lecture Notes in Computational Science and Engineering*. Springer, 2013.  \n",
    "<a id='[34]'></a>[34] S. E. Ilse, C. Holm, and J. de Graaf. Surface roughness stabilizes the clustering of self-propelled triangles. *The Journal of Chemical Physics*, 145(13):134904, 2016.  \n",
    "<a id='[35]'></a>[35] V. Lobaskin and B. Dünweg. A new model of simulating colloidal dynamics. *New J. Phys.*, 6:54, 2004.  \n",
    "<a id='[36]'></a>[36] A. Chatterji and J. Horbach. Combining molecular dynamics with lattice Boltzmann: A hybrid method for the simulation of (charged) colloidal systems. *J. Chem. Phys.*, 122:184903, 2005.  \n",
    "<a id='[37]'></a>[37] L.P. Fischer, T. Peter, C. Holm, and J. de Graaf. The raspberry model for hydrodynamic interactions revisited. I. Periodic arrays of spheres and dumbbells. *J. Chem. Phys.*, 143:084107, 2015.  \n",
    "<a id='[38]'></a>[38] J. de Graaf, T. Peter, L.P. Fischer, and C. Holm. The raspberry model for hydrodynamic interactions revisited. II. The effect of confinement. *J. Chem. Phys.*, 143:084108, 2015.  \n",
    "<a id='[39]'></a>[39] J. de Graaf, A. JTM Mathijssen, M. Fabritius, H. Menke, C. Holm, and T. N Shendruk. Understanding the onset of oscillatory swimming in microchannels. *Soft Matter*, 12(21):4704–4708, 2016.  \n",
    "<a id='[40]'></a>[40] A. Einstein. Eine neue Bestimmung der Moleküldimension. *Ann. Phys.*, 19:289, 1906.  \n",
    "<a id='[42]'></a>[42] I. Berdakin, Y. Jeyaram, V.V. Moshchalkov, L. Venken, S. Dierckx, S.J. Vanderleyden, A.V. Silhanek, C.A. Condat, and V.I. Marconi. Influence of swimming strategy on microorganism separation by asymmetric obstacles. *Phys. Rev. E*, 87:052702, 2013.  \n",
    "<a id='[43]'></a>[43] I. Berdakin, A.V. Silhanek, H.N. Moyano, V.I. Marconi, and C.A. Condat. Quantifying the sorting efficiency of self-propelled run-and-tumble swimmers by geometrical ratchets. *Central Euro. J. Phys.*, 12:1653, 2013.  \n",
    "<a id='[44]'></a>[44] S.E. Spagnolie and E. Lauga. Hydrodynamics of self-propulsion near a boundary: predictions and accuracy of far-field approximations. *J. Fluid Mech.*, 700:105, 2012.  \n",
    "<a id='[45]'></a>[45] A. Morozov and D. Marenduzzo. Enhanced diffusion of tracer particles in dilute bacterial suspensions. *Soft Matter*, 10:2748, 2014.  \n",
    "<a id='[46]'></a>[46] A. Zöttl and H. Stark. Hydrodynamics determines collective motion and phase behavior of active colloids in quasi-two-dimensional confinement. *Phys. Rev. Lett.*, 112:118101, 2014."
   ]
  }
 ],
 "metadata": {
  "kernelspec": {
   "display_name": "Python 3",
   "language": "python",
   "name": "python3"
  },
  "language_info": {
   "codemirror_mode": {
    "name": "ipython",
    "version": 3
   },
   "file_extension": ".py",
   "mimetype": "text/x-python",
   "name": "python",
   "nbconvert_exporter": "python",
   "pygments_lexer": "ipython3",
   "version": "3.8.5"
  }
 },
 "nbformat": 4,
 "nbformat_minor": 2
}
