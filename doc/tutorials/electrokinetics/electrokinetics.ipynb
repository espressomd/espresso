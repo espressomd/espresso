{
 "cells": [
  {
   "cell_type": "markdown",
   "id": "594dd6d4",
   "metadata": {},
   "source": [
    "# Electrokinetics\n",
    "### Table of contents\n",
    "1. [Introduction](#1.-Introduction)\n",
    "2. [Advection-Diffusion in 2D](#2.-Advection-Diffusion-equation-in-2D)\n",
    "3. [Electroosmotic flow](#3.-Electroosmotic-flow)\n",
    "4. [Reaction in turbulent flow](#4.-Reaction-in-turbulent-flow)"
   ]
  },
  {
   "cell_type": "markdown",
   "id": "c6fb9224",
   "metadata": {},
   "source": [
    "## 1. Introduction"
   ]
  },
  {
   "cell_type": "markdown",
   "id": "2f74f4f3",
   "metadata": {},
   "source": [
    "In this tutorial we're looking at the electrokinetics feature of ESPResSo, which allows us to describe the motion of potentially charged chemical species solvated in a fluid on a continuum level. The govering equations for the solvent are known as the Poisson-Nernst-Planck equations, which is the combination of the electrostatic Poisson equation and the dynamics of the chemical species described by the Nernst-Planck equation. For the advection we solve the incompressible Navier-Stokes equation. The total set of equations is given by\n",
    "\n",
    "\\begin{aligned}\n",
    "\\partial_{t} n_{i} &= - \\vec{\\nabla} \\cdot \\vec{j}_{i} \\\\\n",
    "\\vec{j}_{i} &= - D_{i} \\vec{\\nabla} n_{i} - \\frac{z_{i} e}{k_{B} T} n_{i} \\vec{\\nabla} \\phi + n_{i} \\vec{u} \\\\\n",
    "\\Delta \\phi &= \\frac{1}{4 \\pi \\varepsilon_{0} \\varepsilon_{\\mathrm{r}}} \\sum_{i} z_{i} e n_{i} \\\\\n",
    "\\rho (\\partial_{t} \\vec{u} + (\\vec{u} \\cdot \\vec{\\nabla}) \\vec{u}) &= - \\vec{\\nabla} p + \\eta \\Delta \\vec{u} + \\sum_{i} \\frac{k_{B} T}{D_{i}} \\vec{j}_{i} + \\vec{f}_{\\mathrm{ext}} \\\\\n",
    "\\vec{\\nabla} \\cdot \\vec{u} &= 0,\n",
    "\\end{aligned}\n",
    "\n",
    "where $n_{i}$ denotes the ion density of species $i$, $\\vec{j}_{i}$ the density flux, $D_{i}$ the diffusion coefficient, $z_{i}$ the valency, $e$ the elementary charge, $k_{B}$ the Boltzmann constant, $T$ the temperature, $\\phi$ the electrostatic potential, $\\varepsilon_{0}$ the vacuum permittivity, $\\varepsilon_{\\mathrm{r}}$ the relative permittivity, $\\rho$ the fluid density, $\\vec{u}$ the fluid velocity, $p$ the hydrostatic pressure, $\\eta$ the dynamic viscosity, and $\\vec{f}_{\\mathrm{ext}}$ an external force density."
   ]
  },
  {
   "cell_type": "markdown",
   "id": "4e0abda7",
   "metadata": {},
   "source": [
    "# 2. Advection-Diffusion equation in 2D"
   ]
  },
  {
   "cell_type": "markdown",
   "id": "192c4793",
   "metadata": {},
   "source": [
    "The first system that is simulated in this tutorial is the simple advection-diffusion of a drop of uncharged chemical species in a constant velocity field. To keep the computation time small, we restrict ourselves to a 2D problem, but the algorithm is also capable of solving the 3D advection-diffusion equation. Furthermore, we can also skip solving the electrostatic Poisson equation, since there are is no charged species present. The equations we solve thus reduce to\n",
    "\n",
    "\\begin{equation}\n",
    "\\partial_{t} n = D \\Delta n - \\vec{\\nabla} \\cdot (\\vec{v} n).\n",
    "\\end{equation}\n",
    "\n",
    "The fundamental solution of this partial diffential equation can be found analytically in the case of a constant velocity field $\\vec{v}$ and a constant diffusion coefficient $D$. For a $d$-dimensional system, the solution of an initally infinitessimaly small droplet at the origin can be written as\n",
    "\n",
    "\\begin{equation}\n",
    "n(\\vec{x},t) = \\frac{1}{(4 \\pi D t)^{d/2}} \\exp \\left( - \\frac{(\\vec{x} - \\vec{v} t)^2}{4 D t} \\right).\n",
    "\\end{equation}\n",
    "\n",
    "After importing the necessary packages, we start by defining the necessary parameters for the simulation."
   ]
  },
  {
   "cell_type": "code",
   "execution_count": null,
   "id": "36a4e973",
   "metadata": {},
   "outputs": [],
   "source": [
    "import espressomd\n",
    "import espressomd.lb\n",
    "import espressomd.electrokinetics\n",
    "import espressomd.shapes\n",
    "\n",
    "espressomd.assert_features([\"WALBERLA\", \"WALBERLA_FFT\"])\n",
    "\n",
    "import tqdm\n",
    "import numpy as np\n",
    "\n",
    "import scipy.optimize\n",
    "\n",
    "import matplotlib as mpl\n",
    "import matplotlib.pyplot as plt\n",
    "import matplotlib.animation as animation\n",
    "import matplotlib.quiver\n",
    "\n",
    "import tempfile\n",
    "import base64\n",
    "\n",
    "plt.rcParams.update({'font.size': 16})"
   ]
  },
  {
   "cell_type": "code",
   "execution_count": null,
   "id": "f69ffd36",
   "metadata": {},
   "outputs": [],
   "source": [
    "BOX_L = [80, 80, 1] \n",
    "AGRID = 1.0\n",
    "DIFFUSION_COEFFICIENT = 0.06\n",
    "TAU = 1.0\n",
    "EXT_FORCE_DENSITY = [0, 0, 0]\n",
    "FLUID_DENSITY = 1.0\n",
    "FLUID_VISCOSITY = 1.\n",
    "FLUID_VELOCITY = [0.04, 0.04, 0.0]\n",
    "KT = 1.0\n",
    "\n",
    "RUN_TIME = 400"
   ]
  },
  {
   "cell_type": "code",
   "execution_count": null,
   "id": "a3f477c1",
   "metadata": {},
   "outputs": [],
   "source": [
    "system = espressomd.System(box_l=BOX_L)\n",
    "system.time_step = TAU\n",
    "system.cell_system.skin = 0.4"
   ]
  },
  {
   "cell_type": "markdown",
   "id": "61278eec",
   "metadata": {},
   "source": [
    "We use a lattice Boltzmann flow field with constant velocity for advection.\n",
    "Note that we have to set ``kT=0.0`` here to avoid random fluctuations in the flow velocity."
   ]
  },
  {
   "cell_type": "code",
   "execution_count": null,
   "id": "7c581b2d",
   "metadata": {},
   "outputs": [],
   "source": [
    "lattice = espressomd.lb.LatticeWalberla(n_ghost_layers=1, agrid=AGRID)\n",
    "lbf = espressomd.lb.LBFluidWalberla(\n",
    "                lattice=lattice, density=FLUID_DENSITY, kinematic_viscosity=FLUID_VISCOSITY,\n",
    "                tau=TAU, ext_force_density=EXT_FORCE_DENSITY, kT=0.0, seed=42)\n",
    "lbf[:, :, :].velocity = FLUID_VELOCITY\n",
    "system.lb = lbf"
   ]
  },
  {
   "cell_type": "markdown",
   "id": "14c5a43a",
   "metadata": {},
   "source": [
    "To use the electrokinetics-algorithm in ESPResSo, one needs to create an instance of the `EKContainer`-object and pass it a time step `tau` and Poisson solver `solver`.\n",
    "Since our species is uncharged, we don't need to solve the electrostatic Poisson equation, so we can use the placeholder-class, which is called `EKNone`."
   ]
  },
  {
   "cell_type": "code",
   "execution_count": null,
   "id": "75ea3046",
   "metadata": {},
   "outputs": [],
   "source": [
    "eksolver = espressomd.electrokinetics.EKNone(lattice=lattice)\n",
    "system.ekcontainer = espressomd.electrokinetics.EKContainer(tau=TAU, solver=eksolver)"
   ]
  },
  {
   "cell_type": "markdown",
   "id": "e55f53bd",
   "metadata": {},
   "source": [
    "Now, we can add diffusive species to the container to integrate their dynamics."
   ]
  },
  {
   "cell_type": "markdown",
   "id": "ad79ba7d",
   "metadata": {},
   "source": [
    "# Exercise:\n",
    "- Create an instance of the [`espressomd.electrokinetics.EKSpecies`]() and add it to the system with [`system.ekcontainer.add()`](https://espressomd.github.io/doc/espressomd.html#espressomd.electrokinetics.EKContainer.add). \n",
    "\n",
    "# Hint:\n",
    "- Use the variables `DIFFUSION_COEFFICIENT`, `KT` and `TAU` defined above.\n",
    "- Enable both `advection` and `friction_coupling`.\n",
    "- Make sure to initialize the `density` with 0.0, and disable electrostatics by setting `valency` to 0.0 as well."
   ]
  },
  {
   "cell_type": "code",
   "execution_count": null,
   "id": "f98a90f0",
   "metadata": {},
   "outputs": [],
   "source": [
    "# SOLUTION CELL\n",
    "species = espressomd.electrokinetics.EKSpecies(\n",
    "    lattice=lattice, density=0.0, kT=KT,\n",
    "    diffusion=DIFFUSION_COEFFICIENT, valency=0.0,\n",
    "    advection=True, friction_coupling=True,\n",
    "    ext_efield=[0., 0., 0.], tau=TAU)\n",
    "system.ekcontainer.add(species)"
   ]
  },
  {
   "cell_type": "code",
   "execution_count": null,
   "id": "a05467d1",
   "metadata": {},
   "outputs": [],
   "source": []
  },
  {
   "cell_type": "markdown",
   "id": "7d8eeb11",
   "metadata": {},
   "source": [
    "To compare our simulation to the fundamental solution of the advection-diffusion equation, we need to approximate a delta-droplet, which can be achieved by having a non-zero density only at the center of the domain."
   ]
  },
  {
   "cell_type": "code",
   "execution_count": null,
   "id": "471a4b0d",
   "metadata": {},
   "outputs": [],
   "source": [
    "system.ekcontainer[0][BOX_L[0] // 2, BOX_L[1] // 2, 0].density = 1.0"
   ]
  },
  {
   "cell_type": "markdown",
   "id": "e58359bf",
   "metadata": {},
   "source": [
    "Now everything is set and we can finally run the simulation by running the integrator."
   ]
  },
  {
   "cell_type": "code",
   "execution_count": null,
   "id": "bb7f3fa0",
   "metadata": {},
   "outputs": [],
   "source": [
    "system.integrator.run(RUN_TIME)"
   ]
  },
  {
   "cell_type": "markdown",
   "id": "07db0e0f",
   "metadata": {},
   "source": [
    "For comparison, we prepare the analytical solution and show the 2D-density as well as a slice through the center of the droplet."
   ]
  },
  {
   "cell_type": "code",
   "execution_count": null,
   "id": "f81bdd03",
   "metadata": {},
   "outputs": [],
   "source": [
    "def calc_gaussian(pos: np.ndarray, time: int, D: float):\n",
    "    dim = pos.shape[-1]\n",
    "    return (4 * np.pi * D * time)**(-dim / 2) * np.exp(-np.sum(np.square(pos), axis=-1) / (4 * D * time))\n",
    "\n",
    "pos = np.zeros((*BOX_L[:2], 2))\n",
    "xpos = np.arange(-BOX_L[0] // 2, BOX_L[0] // 2)\n",
    "ypos = np.arange(-BOX_L[1] // 2, BOX_L[1] // 2)\n",
    "\n",
    "pos[..., 1], pos[..., 0] = np.meshgrid(xpos, ypos)\n",
    "\n",
    "# add the advection shift\n",
    "pos -= np.asarray(FLUID_VELOCITY[:2]) * RUN_TIME * TAU\n",
    "\n",
    "analytic_density = calc_gaussian(pos=pos, time=RUN_TIME * TAU, D=DIFFUSION_COEFFICIENT)"
   ]
  },
  {
   "cell_type": "code",
   "execution_count": null,
   "id": "ecb571a7",
   "metadata": {},
   "outputs": [],
   "source": [
    "fig, (ax1, ax2) = plt.subplots(ncols=2, nrows=1, figsize=(15, 7))\n",
    "\n",
    "ax1.imshow(system.ekcontainer[0][:, :, 0].density, origin=\"lower\", vmin=0, vmax=6e-3)\n",
    "ax1.set_title(\"simulation\")\n",
    "\n",
    "imshow = ax2.imshow(analytic_density, origin=\"lower\", vmin=0, vmax=6e-3)\n",
    "ax2.set_title(\"analytic\")\n",
    "fig.colorbar(imshow, ax=[ax1, ax2], shrink=0.8)\n",
    "plt.show()"
   ]
  },
  {
   "cell_type": "code",
   "execution_count": null,
   "id": "3b340b5f",
   "metadata": {},
   "outputs": [],
   "source": [
    "values_diagonal = np.diagonal(system.ekcontainer[0][:, :, 0].density)\n",
    "analytic_diagonal = np.diagonal(analytic_density)\n",
    "positions_diagonal = np.arange(len(values_diagonal)) * np.sqrt(2) * AGRID\n",
    "\n",
    "def gaussian_kernel(x, magnitude, mu, sigma):\n",
    "    return magnitude * np.exp(-(x - mu)**2 / (2 * sigma**2))\n",
    "\n",
    "popt, pcov = scipy.optimize.curve_fit(gaussian_kernel, positions_diagonal, analytic_diagonal, p0=[0.05,70,5.])\n",
    "positions_analytic = np.concatenate([[positions_diagonal[0]],\n",
    "                                     np.linspace(popt[1] - 5 * popt[2], popt[1] + 5 * popt[2], 120),\n",
    "                                    [positions_diagonal[-1]]])\n",
    "values_analytic = gaussian_kernel(positions_analytic, *popt)\n",
    "\n",
    "fig = plt.figure(figsize=(8, 5))\n",
    "ax = fig.gca()\n",
    "ax.plot(positions_diagonal, values_diagonal, \"o\", mfc=\"none\", label=\"simulation\")\n",
    "ax.plot(positions_analytic, values_analytic, label=\"analytic\")\n",
    "\n",
    "ax.set_xlabel(\"position\")\n",
    "ax.set_ylabel(\"density\")\n",
    "\n",
    "plt.legend()\n",
    "plt.show()"
   ]
  },
  {
   "cell_type": "markdown",
   "id": "af461df0",
   "metadata": {},
   "source": [
    "From the plot one can see that the position of the density-peak matches well. However, one also sees that the droplet in the simulation has spread more than it should. The reason is that the discretization used for the advection term introduces an artifical, additional diffusion to the system. This is a fundamental limitation of the algorithm, which is why it cannot be applied to pure advection problems."
   ]
  },
  {
   "cell_type": "markdown",
   "id": "f2d218ef",
   "metadata": {},
   "source": [
    "# 3. Electroosmotic flow"
   ]
  },
  {
   "cell_type": "markdown",
   "id": "58a2b410",
   "metadata": {},
   "source": [
    "The next system in this tutorial is a simple slit pore, as shown in Figure 1. It consists of an infinite plate capacitor with an electrolytic solution trapped in between the plates. The plates of the capactior carry a constant surface charge and the counterions are solvated in the liquid. \n",
    "\n",
    "Charge attraction will cause the ions to accumulate near the surfaces, forming a characteristic ion density profile, which can be calculated analytically using the Poisson-Boltzmann equation. Since the system has translational symmetry in the directions parallel to the plates, the equations for parallel and orthogonal direction decouple. This means that applying an external electric field in a direction parallel to the plates will not change the distribution of the ions along the orthogonal direction. It will however cause motion of the ions and consequently the fluid: The characteristic flow profile of electroosmotic flow.\n",
    "\n",
    "<a id=\"fig_1\"></a><figure>\n",
    "<img src=\"figures/schlitzpore_3d.png\" style=\"float: center; width: 60%\">\n",
    "<center>\n",
    "<figcaption>Figure 1: Slit pore system and coordinate system used for the analytical calculations.</figcaption>\n",
    "</center>\n",
    "</figure>"
   ]
  },
  {
   "cell_type": "markdown",
   "id": "6178d589",
   "metadata": {},
   "source": [
    "### Analytical solution\n",
    "\n",
    "Due to the symmetries of the system, it effectively reduces to a 1D problem along the orthogonal axis. The system can be described by the Poisson-Boltzmann equation:\n",
    "\n",
    "$$\n",
    "\\partial_{x}^2 \\phi(x) = \\frac{1}{\\varepsilon_{0} \\varepsilon_{\\mathrm{r}}} \\sum_{i} z_{i} e n_{i}(x) \\exp \\left( -\\frac{z_{i} e \\phi(x)}{k_{\\mathrm{B}} T} \\right)\n",
    "$$\n",
    "\n",
    "where $x$ is the normal-direction of the plates. Since we will only simulate a single ion species, the counterions, the sum only has a single summand. The solution for the potential is then given by:\n",
    "\n",
    "$$\n",
    "\\phi(x) = -\\frac{k_{B}T}{z e} \\log \\left[ \\frac{C^2 \\varepsilon_{0} \\varepsilon_{\\mathrm{r}}}{2 k_{B}T } \\cos^{-2} \\left( \\frac{z e C}{2 k_{B} T} x \\right) \\right], \\qquad \\text{with } \\left\\| \\frac{z e C}{2 k_{B} T} \\right\\| < \\frac{\\pi}{2},\n",
    "$$\n",
    "\n",
    "where $C$ is an integration constant that is to be determined by the boundary conditions. The ion density follows then from the potential as\n",
    "\n",
    "$$\n",
    "n(x) = \\frac{C^2 \\varepsilon_{0} \\varepsilon_{\\mathrm{r}}}{2 k_{B}T} \\cos^{-2} \\left( \\frac{z e C}{2 k_{B} T} x \\right).\n",
    "$$\n",
    "\n",
    "To find the integration constant we use fact that the total system has to be charge neutral, i.e., the total charge on the plates is counterbalanced by the counterions. This leads to the following equation\n",
    "\n",
    "$$\n",
    "C \\tan \\left( \\frac{z e d}{4 k_{B} T} C \\right) = - \\frac{e^2}{\\varepsilon_{0} \\varepsilon_{\\mathrm{r}}} \\sigma,\n",
    "$$\n",
    "\n",
    "where $\\sigma$ is the surface charge density of the plates. This is a transcendental equation, which must be solved numerically to find $C$. \n",
    "\n",
    "The electric field is applied in the $y$-direction, parallel to the plates.\n",
    "Fluid flow is described by the incompressible Navier-Stokes equation, which due to the symmetries of the system reduces to the one-dimensional problem\n",
    "\n",
    "$$\n",
    "\\frac{\\partial^2 v_{y}(x)}{\\partial x^2} = - \\frac{\\varepsilon_{0} \\varepsilon_{\\mathrm{r}} z e E C^2}{2 k_{B}T \\eta} \\cos^{-2}\\left( \\frac{q C}{2 k_{B} T} x \\right).\n",
    "$$\n",
    "\n",
    "This equation can be solved analytically and the solution is given by\n",
    "\n",
    "$$\n",
    "v_{y}(x) = \\frac{2 \\varepsilon_{0} \\varepsilon_{\\mathrm{r}} k_{B} T E}{\\eta z e} \\log \\left( \\frac{\\cos \\left( \\displaystyle\\frac{z e C}{2 k_{B} T} x \\right)}{\\cos \\left( \\displaystyle\\frac{z e C}{2 k_{B} T} \\frac{d}{2} \\right)} \\right),\n",
    "$$\n",
    "\n",
    "where $d$ denotes the distance between the two plates. Finally, the shear-stress of this problem is given by\n",
    "\n",
    "$$\n",
    "\\sigma(x) = \\mu \\frac{\\partial v_{y}(x)}{\\partial x}\n",
    "$$"
   ]
  },
  {
   "cell_type": "markdown",
   "id": "0d16a45d",
   "metadata": {},
   "source": [
    "### Numerical solution\n",
    "\n",
    "We start by resetting the system and defining the necessary parameters."
   ]
  },
  {
   "cell_type": "code",
   "execution_count": null,
   "id": "71b3226b",
   "metadata": {},
   "outputs": [],
   "source": [
    "system.ekcontainer = None\n",
    "system.lb = None"
   ]
  },
  {
   "cell_type": "code",
   "execution_count": null,
   "id": "606c2a43",
   "metadata": {},
   "outputs": [],
   "source": [
    "AGRID = 1.0\n",
    "TAU = 1.0\n",
    "KT = 2.0\n",
    "PERMITTIVITY = 0.28\n",
    "DIFFUSION_COEFFICIENT = 0.25\n",
    "VALENCY = 1.0\n",
    "VISCOSITY_DYNAMIC = 0.5\n",
    "DENSITY_FLUID = 1.0\n",
    "SURFACE_CHARGE_DENSITY = -0.05\n",
    "EXT_FORCE_DENSITY = [0.0, 0.01, 0.0]\n",
    "\n",
    "SINGLE_PRECISION = False\n",
    "\n",
    "padding = 1\n",
    "WIDTH = 126\n",
    "BOX_L = [(WIDTH + 2 * padding) * AGRID, 1, 1]\n",
    "\n",
    "system.cell_system.skin = 0.4\n",
    "system.box_l = BOX_L\n",
    "system.time_step = TAU\n",
    "\n",
    "RUN_TIME = 200"
   ]
  },
  {
   "cell_type": "markdown",
   "id": "2cc6c6f8",
   "metadata": {},
   "source": [
    "We can now set up the electrokinetics algorithm as in the first part of the tutorial, starting with the LB-method."
   ]
  },
  {
   "cell_type": "code",
   "execution_count": null,
   "id": "071a0e13",
   "metadata": {},
   "outputs": [],
   "source": [
    "lattice = espressomd.lb.LatticeWalberla(agrid=AGRID, n_ghost_layers=1)"
   ]
  },
  {
   "cell_type": "code",
   "execution_count": null,
   "id": "7b6c06dc",
   "metadata": {},
   "outputs": [],
   "source": [
    "viscosity_kinematic = VISCOSITY_DYNAMIC / DENSITY_FLUID\n",
    "lbf = espressomd.lb.LBFluidWalberla(lattice=lattice, density=DENSITY_FLUID,\n",
    "                                    kinematic_viscosity=viscosity_kinematic,\n",
    "                                    tau=TAU, single_precision=SINGLE_PRECISION)\n",
    "system.lb = lbf"
   ]
  },
  {
   "cell_type": "markdown",
   "id": "970b52a5",
   "metadata": {},
   "source": [
    "Since our species are going to carry a charge now, we need to solve the full electrostatic problem. For that, we have to specify an actual solver."
   ]
  },
  {
   "cell_type": "markdown",
   "id": "4b290c32",
   "metadata": {},
   "source": [
    "# Exercise: \n",
    "- Set up a Poisson solver for the electrostatic interaction and use it to create an instance of the [EKContainer](https://espressomd.github.io/doc/espressomd.html#espressomd.electrokinetics.EKContainer) \n",
    "- Attach the container to the [`system.ekcontainer`](https://espressomd.github.io/doc/espressomd.html#espressomd.system.System.ekcontainer).\n",
    "\n",
    "# Hint:\n",
    "- Use an [EKFFT](https://espressomd.github.io/doc/espressomd.html#espressomd.electrokinetics.EKFFT)-object as the Poisson-solver."
   ]
  },
  {
   "cell_type": "code",
   "execution_count": null,
   "id": "b8353ef1",
   "metadata": {},
   "outputs": [],
   "source": [
    "# SOLUTION CELL\n",
    "eksolver = espressomd.electrokinetics.EKFFT(lattice=lattice, permittivity=PERMITTIVITY,\n",
    "                                            single_precision=SINGLE_PRECISION)\n",
    "system.ekcontainer = espressomd.electrokinetics.EKContainer(tau=TAU, solver=eksolver)"
   ]
  },
  {
   "cell_type": "code",
   "execution_count": null,
   "id": "8b14c431",
   "metadata": {},
   "outputs": [],
   "source": []
  },
  {
   "cell_type": "markdown",
   "id": "895a81e1",
   "metadata": {},
   "source": [
    "To simulate the system, we will use two different ion species: The counterions are propagated in the fluid. The second species will be used to describe the surface charge on the plates and therefore has to be stationary (i.e. no advection, no diffusion)."
   ]
  },
  {
   "cell_type": "code",
   "execution_count": null,
   "id": "8f1809a2",
   "metadata": {},
   "outputs": [],
   "source": [
    "ekspecies = espressomd.electrokinetics.EKSpecies(lattice=lattice, density=0.0, kT=KT, diffusion=DIFFUSION_COEFFICIENT, valency=VALENCY, advection=True, friction_coupling=True, ext_efield=EXT_FORCE_DENSITY, single_precision=SINGLE_PRECISION, tau=TAU)\n",
    "system.ekcontainer.add(ekspecies)\n",
    "\n",
    "ekwallcharge = espressomd.electrokinetics.EKSpecies(lattice=lattice, density=0.0, kT=KT, diffusion=0., valency=-VALENCY, advection=False, friction_coupling=False, ext_efield=[0, 0, 0], single_precision=SINGLE_PRECISION, tau=TAU)\n",
    "system.ekcontainer.add(ekwallcharge)"
   ]
  },
  {
   "cell_type": "markdown",
   "id": "c8e5ae3c",
   "metadata": {},
   "source": [
    "Now we set the initial conditions for the ion densities. The counterions will be initialized with a homogeneous distribution, excluding the cells used as boundaries. The surface charge density is homogeneously distributed in the boundary cells."
   ]
  },
  {
   "cell_type": "code",
   "execution_count": null,
   "id": "994236fc",
   "metadata": {},
   "outputs": [],
   "source": [
    "density_counterions = -2.0 * SURFACE_CHARGE_DENSITY / VALENCY / WIDTH\n",
    "ekspecies[padding:-padding, :, :].density = density_counterions\n",
    "\n",
    "ekspecies[:padding, :, :].density = 0.0\n",
    "ekspecies[-padding:, :, :].density = 0.0\n",
    "\n",
    "ekwallcharge[:padding, :, :].density = -SURFACE_CHARGE_DENSITY / VALENCY / padding\n",
    "ekwallcharge[-padding:, :, :].density = -SURFACE_CHARGE_DENSITY / VALENCY / padding"
   ]
  },
  {
   "cell_type": "markdown",
   "id": "c2cb78ce",
   "metadata": {},
   "source": [
    "We now have to specify the boundary conditions. For this, we use ESPResSo's`shapes`."
   ]
  },
  {
   "cell_type": "code",
   "execution_count": null,
   "id": "c9b7f9c6",
   "metadata": {},
   "outputs": [],
   "source": [
    "wall_left = espressomd.shapes.Wall(normal=[1, 0, 0], dist=padding)\n",
    "wall_right = espressomd.shapes.Wall(normal=[-1, 0, 0], dist=-(padding + WIDTH))"
   ]
  },
  {
   "cell_type": "markdown",
   "id": "29a08da2",
   "metadata": {},
   "source": [
    "At both of them we specify no-flux and zero-density boundary conditions for the counterions. Furthermore, we set a no-slip boundary condition for the fluid."
   ]
  },
  {
   "cell_type": "markdown",
   "id": "08b6386b",
   "metadata": {},
   "source": [
    "# Exercise\n",
    "At both walls, set\n",
    "\n",
    "- No-flux boundary conditions for the counterions (``ekspecies``)\n",
    "- Zero-density boundary conditions for the counterions\n",
    "- No-slip boundary conditions for the fluid (``lbf``)\n",
    "\n",
    "# Hints\n",
    "\n",
    "- Use the shapes defined above and ``add_boundary_from_shape`` for [EK species](https://espressomd.github.io/doc/espressomd.html#espressomd.electrokinetics.EKSpecies.add_boundary_from_shape) and [LB fluids](https://espressomd.github.io/doc/espressomd.html#espressomd.lb.LBFluidWalberla.add_boundary_from_shape)"
   ]
  },
  {
   "cell_type": "code",
   "execution_count": null,
   "id": "2cd50ab9",
   "metadata": {},
   "outputs": [],
   "source": [
    "# SOLUTION CELL\n",
    "for wall in (wall_left, wall_right):\n",
    "    ekspecies.add_boundary_from_shape(shape=wall, value=[0., 0., 0.], boundary_type=espressomd.electrokinetics.FluxBoundary)\n",
    "    ekspecies.add_boundary_from_shape(shape=wall, value=0.0, boundary_type=espressomd.electrokinetics.DensityBoundary)\n",
    "    lbf.add_boundary_from_shape(shape=wall, velocity=[0., 0., 0.])"
   ]
  },
  {
   "cell_type": "code",
   "execution_count": null,
   "id": "3502fb6a",
   "metadata": {},
   "outputs": [],
   "source": []
  },
  {
   "cell_type": "markdown",
   "id": "2486b696",
   "metadata": {},
   "source": [
    "Now we can finally integrate the system and extract the ion density profile, the fluid velocity profile as well as the pressure-tensor profile."
   ]
  },
  {
   "cell_type": "code",
   "execution_count": null,
   "id": "b4426bfe",
   "metadata": {
    "scrolled": true
   },
   "outputs": [],
   "source": [
    "for i in tqdm.trange(80):\n",
    "    system.integrator.run(RUN_TIME)"
   ]
  },
  {
   "cell_type": "code",
   "execution_count": null,
   "id": "0a9c1aa2",
   "metadata": {},
   "outputs": [],
   "source": [
    "mid_y = int(system.box_l[1] / (2 * AGRID))\n",
    "mid_z = int(system.box_l[2] / (2 * AGRID))\n",
    "density_eof = ekspecies[padding:-padding, mid_y, mid_z].density\n",
    "velocity_eof = lbf[padding:-padding, mid_y, mid_z].velocity[:, 1]\n",
    "pressure_tensor_eof = lbf[padding:-padding, mid_y, mid_z].pressure_tensor[:, 0, 1]\n",
    "\n",
    "positions = (np.arange(len(density_eof)) - WIDTH / 2 + 0.5) * AGRID"
   ]
  },
  {
   "cell_type": "markdown",
   "id": "62087ea3",
   "metadata": {},
   "source": [
    "For comparison, we calculate the analytic solution"
   ]
  },
  {
   "cell_type": "code",
   "execution_count": null,
   "id": "ba5959a0",
   "metadata": {},
   "outputs": [],
   "source": [
    "def transcendental_equation(c, distance, kT, sigma, valency, permittivity) -> float:\n",
    "    elementary_charge = 1.0\n",
    "    return c * np.tan(valency * elementary_charge * distance / (4 * kT) * c) + sigma / permittivity\n",
    "\n",
    "solution = scipy.optimize.fsolve(func=transcendental_equation, x0=0.001, args=(WIDTH, KT, SURFACE_CHARGE_DENSITY, VALENCY, PERMITTIVITY))\n",
    "\n",
    "\n",
    "def eof_density(x, c, permittivity, elementary_charge, valency, kT):\n",
    "    return c**2 * permittivity / (2 * kT) / (np.cos(valency * elementary_charge * c / (2 * kT) * x))**2\n",
    "\n",
    "def eof_velocity(x, c, permittivity, elementary_charge, valency, kT, ext_field, distance, viscosity):\n",
    "    return 2 * kT * ext_field * permittivity / (viscosity * elementary_charge * valency) * np.log(np.cos(valency * elementary_charge * c / (2 * kT) * x) / np.cos(valency * elementary_charge * c / (2 * kT) * distance / 2))\n",
    "\n",
    "def eof_pressure_tensor(x, c, elementary_charge, valency, kT, ext_field, permittivity):\n",
    "    return permittivity * ext_field * c * np.tan(valency * elementary_charge * c / (2 * kT) * x)"
   ]
  },
  {
   "cell_type": "code",
   "execution_count": null,
   "id": "6406c3d3",
   "metadata": {},
   "outputs": [],
   "source": [
    "analytic_density_eof = eof_density(x=positions, c=solution, permittivity=PERMITTIVITY, elementary_charge=1.0, valency=VALENCY, kT=KT)\n",
    "analytic_velocity_eof = eof_velocity(x=positions, c=solution, permittivity=PERMITTIVITY, elementary_charge=1.0, valency=VALENCY, kT=KT, ext_field=EXT_FORCE_DENSITY[1], distance=WIDTH, viscosity=VISCOSITY_DYNAMIC)\n",
    "analytic_pressure_tensor_eof = eof_pressure_tensor(x=positions, c=solution, elementary_charge=1.0, valency=VALENCY, kT=KT, ext_field=EXT_FORCE_DENSITY[1], permittivity=PERMITTIVITY)"
   ]
  },
  {
   "cell_type": "code",
   "execution_count": null,
   "id": "d23e8b5b",
   "metadata": {},
   "outputs": [],
   "source": [
    "fig1 = plt.figure(figsize=(16, 4.5))\n",
    "fig1.suptitle(\"electroosmotic flow\")\n",
    "\n",
    "ax = fig1.add_subplot(131)\n",
    "ax.plot(positions, density_eof, \"o\", mfc=\"none\", markevery=0.015, label=\"simulation\")\n",
    "ax.plot(positions, analytic_density_eof, label=\"analytic\")\n",
    "ax.set_xlabel(\"x-position\")\n",
    "ax.set_ylabel(\"Counter-ion density\")\n",
    "ax.ticklabel_format(axis=\"y\", style=\"scientific\", scilimits=(0, 0))\n",
    "ax.legend(loc=\"best\")\n",
    "\n",
    "ax = fig1.add_subplot(132)\n",
    "ax.plot(positions, velocity_eof, \"o\", mfc=\"none\", markevery=0.015, label=\"simulation\")\n",
    "ax.plot(positions, analytic_velocity_eof, label=\"analytic\")\n",
    "ax.set_xlabel(\"x-position\")\n",
    "ax.set_ylabel(\"Fluid velocity\")\n",
    "ax.ticklabel_format(axis=\"y\", style=\"scientific\", scilimits=(0, 0))\n",
    "ax.legend(loc=\"best\")\n",
    "\n",
    "ax = fig1.add_subplot(133)\n",
    "ax.plot(positions, pressure_tensor_eof, \"o\", mfc=\"none\", markevery=0.015, label=\"simulation\")\n",
    "ax.plot(positions, analytic_pressure_tensor_eof, label=\"analytic\")\n",
    "ax.set_xlabel(\"x-position\")\n",
    "ax.set_ylabel(\"Fluid shear stress xz\")\n",
    "ax.ticklabel_format(axis=\"y\", style=\"scientific\", scilimits=(0, 0))\n",
    "ax.legend(loc=\"best\")\n",
    "\n",
    "plt.tight_layout()\n",
    "plt.show()"
   ]
  },
  {
   "cell_type": "markdown",
   "id": "a58fcfee",
   "metadata": {},
   "source": [
    "In the plots one can see that the analytic solution for the electroosmotic flow matches the simulation very well. "
   ]
  },
  {
   "cell_type": "markdown",
   "id": "66a80321",
   "metadata": {},
   "source": [
    "### Comparison to pressure-driven flow\n",
    "We can compare electroosmotic flow to pressure-driven flow. For this, we turn off the external electric field and enable a constant external force density on the fluid."
   ]
  },
  {
   "cell_type": "code",
   "execution_count": null,
   "id": "7a23c6f5",
   "metadata": {},
   "outputs": [],
   "source": [
    "EXT_FORCE_DENSITY = [0.0, 0.000004, 0.0]\n",
    "\n",
    "ekspecies.ext_efield = [0.0, 0.0, 0.0]\n",
    "lbf.ext_force_density = EXT_FORCE_DENSITY"
   ]
  },
  {
   "cell_type": "code",
   "execution_count": null,
   "id": "3c101827",
   "metadata": {
    "scrolled": true
   },
   "outputs": [],
   "source": [
    "for i in tqdm.trange(70):\n",
    "    system.integrator.run(RUN_TIME)"
   ]
  },
  {
   "cell_type": "code",
   "execution_count": null,
   "id": "f12326b5",
   "metadata": {},
   "outputs": [],
   "source": [
    "density_pressure = ekspecies[padding:-padding, mid_y, mid_z].density\n",
    "velocity_pressure = lbf[padding:-padding, mid_y, mid_z].velocity[:, 1]\n",
    "pressure_tensor_pressure = lbf[padding:-padding, mid_y, mid_z].pressure_tensor[:, 0, 1]"
   ]
  },
  {
   "cell_type": "markdown",
   "id": "c33cf2dc",
   "metadata": {},
   "source": [
    "The analytic solution for pressure-driven flow between two infinite parallel plates is known as the Poiseuille flow."
   ]
  },
  {
   "cell_type": "code",
   "execution_count": null,
   "id": "9c7f9f9f",
   "metadata": {},
   "outputs": [],
   "source": [
    "def pressure_velocity(x, distance, ext_field, viscosity):\n",
    "    return ext_field / (2 * viscosity) * (distance**2 / 4 - x**2)\n",
    "\n",
    "def pressure_pressure_tensor(x, ext_field):\n",
    "    return ext_field * x"
   ]
  },
  {
   "cell_type": "code",
   "execution_count": null,
   "id": "13dd28d8",
   "metadata": {},
   "outputs": [],
   "source": [
    "analytic_velocity_pressure = pressure_velocity(x=positions, distance=WIDTH, ext_field=EXT_FORCE_DENSITY[1], viscosity=VISCOSITY_DYNAMIC)\n",
    "analytic_pressure_tensor_pressure = pressure_pressure_tensor(x=positions, ext_field=EXT_FORCE_DENSITY[1])"
   ]
  },
  {
   "cell_type": "code",
   "execution_count": null,
   "id": "5bed1384",
   "metadata": {},
   "outputs": [],
   "source": [
    "fig1 = plt.figure(figsize=(16, 4.5))\n",
    "fig1.suptitle(\"pressure-driven flow\")\n",
    "\n",
    "ax = fig1.add_subplot(131)\n",
    "ax.plot(positions, density_pressure, \"o\", mfc=\"none\", markevery=0.015, label=\"simulation\")\n",
    "ax.plot(positions, analytic_density_eof, label=\"analytic\")\n",
    "ax.set_xlabel(\"x-position\")\n",
    "ax.set_ylabel(\"counter-ion density\")\n",
    "ax.ticklabel_format(axis=\"y\", style=\"scientific\", scilimits=(0, 0))\n",
    "ax.legend(loc=\"best\")\n",
    "\n",
    "ax = fig1.add_subplot(132)\n",
    "ax.plot(positions, velocity_pressure, \"o\", mfc=\"none\", markevery=0.015, label=\"simulation\")\n",
    "ax.plot(positions, analytic_velocity_pressure, label=\"analytic\")\n",
    "ax.set_xlabel(\"x-position\")\n",
    "ax.set_ylabel(\"fluid velocity\")\n",
    "ax.ticklabel_format(axis=\"y\", style=\"scientific\", scilimits=(0, 0))\n",
    "ax.legend(loc=\"best\")\n",
    "\n",
    "ax = fig1.add_subplot(133)\n",
    "ax.plot(positions, pressure_tensor_pressure, \"o\", mfc=\"none\", markevery=0.015, label=\"simulation\")\n",
    "ax.plot(positions, analytic_pressure_tensor_pressure, label=\"analytic\")\n",
    "ax.set_xlabel(\"x-position\")\n",
    "ax.set_ylabel(\"fluid shear stress xz\")\n",
    "ax.ticklabel_format(axis=\"y\", style=\"scientific\", scilimits=(0, 0))\n",
    "ax.legend(loc=\"best\")\n",
    "\n",
    "plt.tight_layout()\n",
    "plt.show()"
   ]
  },
  {
   "cell_type": "markdown",
   "id": "1b00267e",
   "metadata": {},
   "source": [
    "As one can again see, the body force on the fluid did non alter the ion-density profile.\n",
    "However, because the force now applies homogeneously on the whole fluid, the flow profile looks parabolic."
   ]
  },
  {
   "cell_type": "markdown",
   "id": "30e2df44",
   "metadata": {},
   "source": [
    "To see the difference between the two types of flows, we plot the simulation data together in one plot."
   ]
  },
  {
   "cell_type": "code",
   "execution_count": null,
   "id": "ca814e80",
   "metadata": {
    "scrolled": true
   },
   "outputs": [],
   "source": [
    "fig1 = plt.figure(figsize=(16, 4.5))\n",
    "fig1.suptitle(\"electroosmotic vs. pressure-driven flow comparison\")\n",
    "\n",
    "ax = fig1.add_subplot(131)\n",
    "ax.plot(positions, density_eof, \"o\", mfc=\"none\", ms=4, markevery=0.015, label=\"eof\")\n",
    "ax.plot(positions, density_pressure, \"o\", mfc=\"none\", markevery=0.015, label=\"pressure\")\n",
    "ax.set_xlabel(\"x-position\")\n",
    "ax.set_ylabel(\"counter-ion density\")\n",
    "ax.ticklabel_format(axis=\"y\", style=\"scientific\", scilimits=(0, 0))\n",
    "ax.legend(loc=\"best\")\n",
    "\n",
    "ax = fig1.add_subplot(132)\n",
    "ax.plot(positions, velocity_eof, \"o\", mfc=\"none\", markevery=0.015, label=\"eof\")\n",
    "ax.plot(positions, velocity_pressure, \"o\", mfc=\"none\", markevery=0.015, label=\"pressure\")\n",
    "ax.set_xlabel(\"x-position\")\n",
    "ax.set_ylabel(\"fluid velocity\")\n",
    "ax.ticklabel_format(axis=\"y\", style=\"scientific\", scilimits=(0, 0))\n",
    "ax.legend(loc=\"best\")\n",
    "\n",
    "ax = fig1.add_subplot(133)\n",
    "ax.plot(positions, pressure_tensor_eof, \"o\", mfc=\"none\", markevery=0.015, label=\"eof\")\n",
    "ax.plot(positions, pressure_tensor_pressure, \"o\", mfc=\"none\", markevery=0.015, label=\"pressure\")\n",
    "ax.set_xlabel(\"x-position\")\n",
    "ax.set_ylabel(\"fluid shear stress xz\")\n",
    "ax.ticklabel_format(axis=\"y\", style=\"scientific\", scilimits=(0, 0))\n",
    "ax.legend(loc=\"best\")\n",
    "\n",
    "plt.tight_layout()\n",
    "plt.show()"
   ]
  },
  {
   "cell_type": "markdown",
   "id": "7882c507",
   "metadata": {},
   "source": [
    "Looking at the fluid velocity plot, one can see that the electroosmotic flow profile flattens significantly faster towards the center of the channel when compared to the pressure driven flow. The reason for this is the accumulation of the counterion-density towards the oppositely charged plates. Here, the driving electric field causes the highest force on the fluid, which decays towards the center of the channel. In contrast, the Poiseuille-flow is driven by a constant, uniform driving force."
   ]
  },
  {
   "cell_type": "markdown",
   "id": "5d5b8ded",
   "metadata": {},
   "source": [
    "# 4. Reaction in turbulent flow"
   ]
  },
  {
   "cell_type": "markdown",
   "id": "0f3280a6",
   "metadata": {},
   "source": [
    "To showcase the reaction feature of our electrokinetics algorithm, we simulate a simple reaction in complex flow.\n",
    "For this, we choose a geometry of rigid cylinders.\n",
    "At large flow velocities, a [Kármán vortex street](https://en.wikipedia.org/wiki/K%C3%A1rm%C3%A1n_vortex_street), i.e., a repeating pattern of swirling vorticies behind the obstacle, develops.\n",
    " \n",
    "To this flow, we will add several species undergoing advection-diffusion, which is dominated by the downstream fluid flow in the channel.\n",
    "The reaction will be included as a bulk-reaction, which means that the reaction can happen anywhere, the only requirement is that both species are present in the same lattice cell. When the reaction occurs, parts of the reactant species will turn into the product. How much of the species will transform within each timestep is determined by the respective reaction rate and the overall structure of the reaction.\n",
    "\n",
    "We start again by resetting the system and defining parameters."
   ]
  },
  {
   "cell_type": "code",
   "execution_count": null,
   "id": "b0de9bf5",
   "metadata": {},
   "outputs": [],
   "source": [
    "system.ekcontainer = None\n",
    "system.lb = None"
   ]
  },
  {
   "cell_type": "code",
   "execution_count": null,
   "id": "f180a9d2",
   "metadata": {},
   "outputs": [],
   "source": [
    "BOX_L = [80, 32, 1] \n",
    "AGRID = 1.0\n",
    "DIFFUSION_COEFFICIENT = 0.01\n",
    "TAU = 0.03\n",
    "EXT_FORCE_DENSITY = [0.6, 0, 0]\n",
    "OBSTACLE_RADIUS = 6\n",
    "\n",
    "DENSITY_FLUID = 0.5\n",
    "VISCOSITY_KINEMATIC = 2.0\n",
    "KT = 1.0\n",
    "\n",
    "TOTAL_FRAMES = 50\n",
    "\n",
    "system.time_step = TAU\n",
    "system.cell_system.skin = 0.4\n",
    "system.box_l = BOX_L"
   ]
  },
  {
   "cell_type": "code",
   "execution_count": null,
   "id": "8883964f",
   "metadata": {},
   "outputs": [],
   "source": [
    "lattice = espressomd.lb.LatticeWalberla(n_ghost_layers=1, agrid=AGRID)\n",
    "lbf = espressomd.lb.LBFluidWalberla(\n",
    "                lattice=lattice, density=DENSITY_FLUID, kinematic_viscosity=VISCOSITY_KINEMATIC,\n",
    "                tau=TAU, ext_force_density=EXT_FORCE_DENSITY, kT=KT, seed=42)\n",
    "system.lb = lbf\n",
    "system.thermostat.set_lb(LB_fluid=lbf, seed=42)\n",
    "eksolver = espressomd.electrokinetics.EKNone(lattice=lattice)\n",
    "system.ekcontainer = espressomd.electrokinetics.EKContainer(tau=TAU, solver=eksolver)"
   ]
  },
  {
   "cell_type": "markdown",
   "id": "83b3763a",
   "metadata": {},
   "source": [
    "Now we can focus on the reactions. In this tutorial we choose the simple case of $A + B \\rightarrow C$, which means that equal parts of the educt species $A$ and $B$ can turn into the product species $C$.\n",
    "ESPResSo distinguishes between educts and products by the sign of their respective stoechiometric coefficients, where educts have negative coefficients and products positive coefficients. Intuitively this can be understood that when a reaction happens, the density of the educts will decrease, hence the stoechiometric coefficient is negative. \n",
    "\n",
    "The reaction rate constant $r$ is the rate at which the reaction happens. The order $O_i$ for a species $i$ specifies to which order the reaction depends on the density of that species. Positive orders mean that the reaction is faster the more density of this species is present, for negative orders the reaction slows down with higher density.\n",
    "In general, this process can be written as $\\Gamma = r \\left[ A \\right]^{O_A} \\left[ B \\right]^{O_B} \\left[ C \\right]^{O_C}$, where $\\Gamma$ is known as the reaction rate. This is sometimes also called the [rate equation](https://en.wikipedia.org/wiki/Rate_equation).\n",
    "\n",
    "For our specific simulation this means that all stoechiometric coefficients are $-1$ for the educts and $+1$ for the product. We choose the order of the educts as $1$ and the order of the product as $0$. This means that the more amount of both educts is present, the more will react and the amount of product present won't have an influence."
   ]
  },
  {
   "cell_type": "code",
   "execution_count": null,
   "id": "80b66ddf",
   "metadata": {},
   "outputs": [],
   "source": [
    "REACTION_RATE_CONSTANT = 2.5\n",
    "EDUCT_COEFFS = [-1, -1]\n",
    "EDUCT_ORDERS = [1,1]\n",
    "PRODUCT_COEFFS = [1]\n",
    "PRODUCT_ORDERS = [0]"
   ]
  },
  {
   "cell_type": "markdown",
   "id": "5573021f",
   "metadata": {},
   "source": [
    "We create each involved species and directly specify their boundary-conditions for the domain-boundaries. We set the initial density of the species to 0 and also add Dirichlet boundary conditions of zero density at both the inlet and the outlet of the system."
   ]
  },
  {
   "cell_type": "code",
   "execution_count": null,
   "id": "5e514b85",
   "metadata": {},
   "outputs": [],
   "source": [
    "educt_species = []\n",
    "product_species = []\n",
    "reactants = []\n",
    "for coeff, order in zip(EDUCT_COEFFS, EDUCT_ORDERS):\n",
    "    species = espressomd.electrokinetics.EKSpecies(\n",
    "        lattice=lattice, density=0.0, kT=KT,\n",
    "        diffusion=DIFFUSION_COEFFICIENT, valency=0.0,\n",
    "        advection=True, friction_coupling=True,\n",
    "        ext_efield=[0., 0., 0.], tau=TAU)\n",
    "    system.ekcontainer.add(species)\n",
    "    reactants.append(\n",
    "        espressomd.electrokinetics.EKReactant(\n",
    "            ekspecies=species,\n",
    "            stoech_coeff=coeff,\n",
    "            order=order))\n",
    "    educt_species.append(species)\n",
    "    species[0,:,:].density_boundary = espressomd.electrokinetics.DensityBoundary(0.0)\n",
    "    species[-1,:,:].density_boundary = espressomd.electrokinetics.DensityBoundary(0.0)\n",
    "\n",
    "for coeff, order in zip(PRODUCT_COEFFS, PRODUCT_ORDERS):\n",
    "    species = espressomd.electrokinetics.EKSpecies(\n",
    "        lattice=lattice, density=0.0, diffusion=DIFFUSION_COEFFICIENT,\n",
    "        kT=KT, valency=0.0, advection=True, friction_coupling=True,\n",
    "        ext_efield=[0., 0., 0.], tau=TAU)\n",
    "    system.ekcontainer.add(species)\n",
    "    reactants.append(\n",
    "        espressomd.electrokinetics.EKReactant(\n",
    "            ekspecies=species,\n",
    "            stoech_coeff=coeff,\n",
    "            order=order))\n",
    "    product_species.append(species)\n",
    "    species[0,:,:].density_boundary = espressomd.electrokinetics.DensityBoundary(0.0)\n",
    "    species[-1,:,:].density_boundary = espressomd.electrokinetics.DensityBoundary(0.0)"
   ]
  },
  {
   "cell_type": "markdown",
   "id": "1b533530",
   "metadata": {},
   "source": [
    "# Exercise:\n",
    "- Create an instance of [`EKBulkReaction`](https://espressomd.github.io/doc/espressomd.html#espressomd.electrokinetics.EKBulkReaction) using the previously created `reactants` and activate the reaction by adding it to [`system.ekcontainer.reactions`](https://espressomd.github.io/doc/espressomd.html#espressomd.electrokinetics.EKContainer.reactions).\n"
   ]
  },
  {
   "cell_type": "code",
   "execution_count": null,
   "id": "94ce97c1",
   "metadata": {},
   "outputs": [],
   "source": [
    "# SOLUTION CELL\n",
    "reaction = espressomd.electrokinetics.EKBulkReaction(\n",
    "    reactants=reactants, coefficient=REACTION_RATE_CONSTANT, lattice=lattice, tau=TAU)\n",
    "\n",
    "system.ekcontainer.reactions.add(reaction)"
   ]
  },
  {
   "cell_type": "code",
   "execution_count": null,
   "id": "0d50af30",
   "metadata": {},
   "outputs": [],
   "source": []
  },
  {
   "cell_type": "markdown",
   "id": "2b6cac10",
   "metadata": {},
   "source": [
    "The next thing to add to the system is the cylindrical obstacles, which act as the boundaries for the Kármán vortices to form. These are placed close to the inlet of the system and also act as impenetrable boundaries for the species.\n",
    "Since ESPResSo uses periodic boundary conditions, we need to add a total of three cylinders to the system, which will form two complete cylinders in the periodic system."
   ]
  },
  {
   "cell_type": "code",
   "execution_count": null,
   "id": "418bcd31",
   "metadata": {},
   "outputs": [],
   "source": [
    "cylinder_centers = [\n",
    "    [BOX_L[0] // 10, 0, 1],\n",
    "    [BOX_L[0] // 10, BOX_L[1] // 2, 1],\n",
    "    [BOX_L[0] // 10, BOX_L[1], 1],    \n",
    "]\n",
    "\n",
    "shape_cylinder = []\n",
    "for cylinder_center in cylinder_centers:\n",
    "    shape_cylinder.append(espressomd.shapes.Cylinder(\n",
    "        center=cylinder_center,\n",
    "        axis=[0, 0, 1],\n",
    "        length=BOX_L[2],\n",
    "        radius=OBSTACLE_RADIUS,\n",
    "    ))\n",
    "\n",
    "for shape in shape_cylinder:\n",
    "    lbf.add_boundary_from_shape(shape)\n",
    "    for spec in (*educt_species, *product_species):\n",
    "        spec.add_boundary_from_shape(shape, value=[0,0,0], boundary_type=espressomd.electrokinetics.FluxBoundary)\n",
    "        spec.add_boundary_from_shape(shape, value=0., boundary_type=espressomd.electrokinetics.DensityBoundary)"
   ]
  },
  {
   "cell_type": "markdown",
   "id": "128652bd",
   "metadata": {},
   "source": [
    "Up to this point there is no species present anywhere in the system and also no way for it to enter the system. Since the reaction is irreversible in our setup, we need to introduce some density of both the educt species to the system.\n",
    "For that we set two additional Dirichlet boundary conditions (sources) in the domain, where we fix the species' density to a constant, non-zero value. The sources are placed some distance apart such that the reaction happens further downstream when diffusion mixes the two species."
   ]
  },
  {
   "cell_type": "code",
   "execution_count": null,
   "id": "d4fae62a",
   "metadata": {},
   "outputs": [],
   "source": [
    "source_boundary = espressomd.electrokinetics.DensityBoundary(10.0)\n",
    "source_x_pos = BOX_L[1] // 20\n",
    "\n",
    "educt_species[0][source_x_pos,BOX_L[1]//4-1:BOX_L[1]//4+1,:].density_boundary = source_boundary\n",
    "educt_species[1][source_x_pos,3*(BOX_L[1]//4)-1:3*(BOX_L[1]//4)+1,:].density_boundary = source_boundary"
   ]
  },
  {
   "cell_type": "markdown",
   "id": "9f8b9ac6",
   "metadata": {},
   "source": [
    "With this, the system is now finally complete and we can start the integration. To see the system evolve, we will render a movie from the timeseries of the system. For that we have to setup some helper functions for the plotting, which are beyond the scope of this tutorial."
   ]
  },
  {
   "cell_type": "code",
   "execution_count": null,
   "id": "aa053843",
   "metadata": {},
   "outputs": [],
   "source": [
    "VIDEO_TAG = \"\"\"<video controls>\n",
    " <source src=\"data:video/x-m4v;base64,{0}\" type=\"video/mp4\">\n",
    " Your browser does not support the video tag.\n",
    "</video>\"\"\"\n",
    "\n",
    "# set ignore 'divide' and 'invalid' errors\n",
    "# these occur when plotting the flowfield containing a zero velocity\n",
    "np.seterr(divide='ignore', invalid='ignore')\n",
    "\n",
    "def anim_to_html(anim):\n",
    "    if not hasattr(anim, '_encoded_video'):\n",
    "        with tempfile.NamedTemporaryFile(suffix='.mp4') as f:\n",
    "            anim.save(f.name, fps=20, extra_args=['-vcodec', 'libx264'])\n",
    "            with open(f.name, \"rb\") as g:\n",
    "                video = g.read()\n",
    "        anim._encoded_video = base64.b64encode(video).decode('ascii')\n",
    "        plt.close(anim._fig)\n",
    "    return VIDEO_TAG.format(anim._encoded_video)\n",
    "\n",
    "animation.Animation._repr_html_ = anim_to_html"
   ]
  },
  {
   "cell_type": "code",
   "execution_count": null,
   "id": "caa469e0",
   "metadata": {},
   "outputs": [],
   "source": [
    "get_colormap = mpl.colormaps.get_cmap if hasattr(mpl.colormaps, \"get_cmap\") else mpl.cm.get_cmap\n",
    "box_width = lattice.shape[1]\n",
    "box_height = lattice.shape[0]\n",
    "\n",
    "boundary_mask = lbf[:, :, 0].boundary != None\n",
    "\n",
    "cmap = get_colormap(\"viridis\").copy()\n",
    "cmap.set_bad(color=\"gray\")\n",
    "cmap_quiver = get_colormap(\"binary\").copy()\n",
    "cmap_quiver.set_bad(color=\"gray\")\n",
    "\n",
    "# setup figure and prepare axes\n",
    "fig = plt.figure(figsize=(9.8, 5.5))\n",
    "imshow_kwargs = {\"origin\": \"upper\", \"extent\": (0, BOX_L[1], BOX_L[0], 0)}\n",
    "gs = fig.add_gridspec(1, 4, wspace=0.1)\n",
    "ax1 = plt.subplot(gs[0])\n",
    "ax2 = plt.subplot(gs[1], sharey=ax1)\n",
    "ax3 = plt.subplot(gs[2], sharey=ax1)\n",
    "ax4 = plt.subplot(gs[3], sharey=ax1)\n",
    "ax1.set_yticks(np.arange(0, 80 + 1, 16))\n",
    "ax1.set_xticks(np.arange(0, 32 + 1, 16))\n",
    "ax2.set_xticks(np.arange(0, 32 + 1, 16))\n",
    "ax3.set_xticks(np.arange(0, 32 + 1, 16))\n",
    "ax4.set_xticks(np.arange(0, 32 + 1, 16))\n",
    "\n",
    "# set the background color for the quiver plot\n",
    "bg_colors = np.copy(boundary_mask).astype(float)\n",
    "bg_colors[boundary_mask] = np.NaN\n",
    "ax4.imshow(bg_colors, cmap=cmap_quiver, **imshow_kwargs)\n",
    "\n",
    "for ax, title in zip(\n",
    "    [ax1, ax2, ax3, ax4],\n",
    "    [\"educt 1\", \"educt 2\", \"product\", \"fluid velocity\"]\n",
    "):\n",
    "    ax.set_title(title)\n",
    "    ax.set_xlim((0, box_width))\n",
    "    ax.set_ylim((0, box_height))\n",
    "\n",
    "# create meshgrid for quiver plot subsampled by a factor 2\n",
    "xs = np.arange(0, box_width, 2)\n",
    "ys = np.arange(0, box_height, 2)\n",
    "X, Y = np.meshgrid(xs, ys)\n",
    "\n",
    "flowfield = lbf[:, :, 0].velocity[::2, ::2, :]\n",
    "quiver = ax4.quiver(X + 1., Y + 1., flowfield[..., 1], flowfield[..., 0], scale=100)\n",
    "fig.subplots_adjust(left=0.025, bottom=0.075, right=0.975, top=0.925, wspace=0.0125)\n",
    "\n",
    "progress_bar = tqdm.tqdm(total=TOTAL_FRAMES)\n",
    "\n",
    "def draw_frame(frame):\n",
    "    system.integrator.run(50)\n",
    "    \n",
    "    flowfield = np.copy(lbf[:, :, 0].velocity)\n",
    "    e1 = np.copy(educt_species[0][:, :, 0].density)\n",
    "    e2 = np.copy(educt_species[1][:, :, 0].density)\n",
    "    p = np.copy(product_species[0][:, :, 0].density)\n",
    "    \n",
    "    # apply the mask for the boundary\n",
    "    e1[boundary_mask] = np.NaN\n",
    "    e2[boundary_mask] = np.NaN\n",
    "    p[boundary_mask] = np.NaN\n",
    "    flowfield[boundary_mask] = np.NaN\n",
    "\n",
    "    ax1.imshow(e1, cmap=cmap, vmin=0., vmax=source_boundary.density, **imshow_kwargs)\n",
    "    ax2.imshow(e2, cmap=cmap, vmin=0., vmax=source_boundary.density, **imshow_kwargs)\n",
    "    ax3.imshow(p, cmap=cmap, vmin=0., vmax=source_boundary.density, **imshow_kwargs)\n",
    "    quiver.set_UVC((flowfield[::2, ::2, 1] + flowfield[1::2, 1::2, 1]) / 2.,\n",
    "                   (flowfield[::2, ::2, 0] + flowfield[1::2, 1::2, 0]) / 2.)\n",
    "    \n",
    "    progress_bar.update()\n",
    "\n",
    "\n",
    "animation.FuncAnimation(fig, draw_frame, frames=range(TOTAL_FRAMES), interval=300)"
   ]
  },
  {
   "cell_type": "markdown",
   "id": "52005dba",
   "metadata": {},
   "source": [
    "Looking at the movie of the species densities one can see that the fluid flow advects the educt species from their source locations past the cylinders into the system. Here, they start to mix and react, such that the product forms.\n",
    "The vortex street behind the obstacles enhances mixing through fluid turbulence. The density of the product then increases towards the outflow-location of the channel, where it is deleted because of our zero-density boundary condition."
   ]
  }
 ],
 "metadata": {
  "kernelspec": {
   "display_name": "Python 3",
   "language": "python",
   "name": "python3"
  },
  "language_info": {
   "codemirror_mode": {
    "name": "ipython",
    "version": 3
   },
   "file_extension": ".py",
   "mimetype": "text/x-python",
   "name": "python",
   "nbconvert_exporter": "python",
   "pygments_lexer": "ipython3",
   "version": "3.10.12"
  }
 },
 "nbformat": 4,
 "nbformat_minor": 5
}
