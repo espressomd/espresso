{
 "cells": [
  {
   "cell_type": "markdown",
   "id": "a8830f68",
   "metadata": {},
   "source": [
    "# Raspberry Electrophoresis"
   ]
  },
  {
   "cell_type": "markdown",
   "id": "b7351e9d",
   "metadata": {},
   "source": [
    "## Introduction\n",
    "\n",
    "Welcome to the raspberry electrophoresis **ESPResSo** tutorial! This tutorial assumes some basic knowledge of **ESPResSo**.\n",
    "\n",
    "Electrophoresis denotes the process when charged colloids or macromolecules move through a fluid in an electric field. Charged colloids with a total surface charge $q$ are surrounded by a diffuse layer of ions whith equal but opposite charge $\\approx -q$, as shown in Fig. 1. The colloid's overall charge including the ion shell is therefore close to zero. An external electric field of magnitude $E$ pulls the colloid and its surrounding ion shell in opposite directions, so that the overall force on the colloid is much smaller than one would intuitively expect, i.e. $F \\ll |qE|$. Instead, the electric field causes the colloid and the ion shell to move relative to each other, allowing the colloid to *slip* through the surrounding ion shell. Hydrodynamic friction resists the relative motion of the colloid and the ion shell. Modelling electrophoresis therefore requires not only electrostatic interactions but also hydrodynamic interactions.\n",
    "\n",
    "The first step is compiling **ESPResSo** with the appropriate flags, as listed in Sec. 2.\n",
    "The tutorial starts by discussing how to build a colloid out of several MD beads. These particles typically\n",
    "resemble a raspberry as can be seen in Fig. 1. After covering the construction of a raspberry colloid, we then\n",
    "briefly discuss the inclusion of hydrodynamic interactions via a lattice-Boltzmann fluid. Finally we will cover\n",
    "including ions via the restrictive primitive model (hard sphere ions) and the addition of an electric field\n",
    "to measure the electrokinetic properties. This script will run a raspberry electrophoresis simulation and write the time and position of the colloid out to a file named <tt>posVsTime.dat</tt> in the same directory.\n",
    "A sample set of data is included in the file <tt>posVsTime_sample.dat</tt>."
   ]
  },
  {
   "cell_type": "markdown",
   "id": "c45298fe",
   "metadata": {},
   "source": [
    "## Compiling ESPResSo for this tutorial\n",
    "\n",
    "To run this tutorial, you will need to enable the following features in the `myconfig.hpp` file when compiling **ESPResSo**:\n",
    "\n",
    "```c++\n",
    "#define ELECTROSTATICS\n",
    "#define ROTATION\n",
    "#define ROTATIONAL_INERTIA\n",
    "#define EXTERNAL_FORCES\n",
    "#define MASS\n",
    "#define VIRTUAL_SITES_RELATIVE\n",
    "#define LENNARD_JONES\n",
    "```\n",
    "\n",
    "These features are enabled in the default configuration, so if you have not created your own `myconfig.hpp`, all of these options should already be active. To be able to use the GPU accelerated lattice-Boltzmann algorithm, CUDA should be activated, as explained in the [user guide](https://espressomd.github.io/doc/installation.html#options-and-variables)."
   ]
  },
  {
   "cell_type": "markdown",
   "id": "8f30343a",
   "metadata": {},
   "source": [
    "## Global MD variables\n",
    "\n",
    "The first thing to do in any **ESPResSo** simulation is to import our espressomd features and set a few global simulation parameters:"
   ]
  },
  {
   "cell_type": "code",
   "execution_count": null,
   "id": "bd4f80ba",
   "metadata": {},
   "outputs": [],
   "source": [
    "import espressomd\n",
    "import espressomd.interactions\n",
    "import espressomd.electrostatics\n",
    "import espressomd.lb\n",
    "import espressomd.zn\n",
    "\n",
    "import sys\n",
    "import tqdm\n",
    "import logging\n",
    "logging.basicConfig(level=logging.INFO, stream=sys.stdout)\n",
    "\n",
    "espressomd.assert_features([\"ELECTROSTATICS\", \"ROTATION\", \"ROTATIONAL_INERTIA\", \"EXTERNAL_FORCES\",\n",
    "                            \"MASS\", \"VIRTUAL_SITES_RELATIVE\", \"LENNARD_JONES\", \"WALBERLA\"])\n",
    "\n",
    "import numpy as np\n",
    "%matplotlib inline\n",
    "import matplotlib.pyplot as plt\n",
    "plt.rcParams.update({'font.size': 18})\n",
    "\n",
    "# System parameters\n",
    "#############################################################\n",
    "box_l = 40.  # size of the simulation box\n",
    "\n",
    "skin = 0.3  # Skin parameter for the Verlet lists\n",
    "time_step = 0.01\n",
    "\n",
    "integ_steps = 150\n",
    "\n",
    "temperature = 1.0\n",
    "\n",
    "# Interaction parameters (Lennard-Jones for raspberry)\n",
    "#############################################################\n",
    "radius_col = 3.\n",
    "harmonic_radius = 3.0\n",
    "\n",
    "# the subscript c is for colloid and s is for salt (also used for the surface beads)\n",
    "eps_ss = 1.   # LJ epsilon between the colloid's surface particles.\n",
    "sig_ss = 1.   # LJ sigma between the colloid's surface particles.\n",
    "eps_cs = 48.  # LJ epsilon between the colloid's central particle and surface particles.\n",
    "sig_cs = radius_col  # LJ sigma between the colloid's central particle and surface particles (colloid's radius).\n",
    "a_eff = 0.32  # effective hydrodynamic radius of a bead due to the discreteness of LB.\n",
    "\n",
    "# Ion types\n",
    "#############################################################\n",
    "TYPE_CENTRAL = 0\n",
    "TYPE_SURFACE = 1\n",
    "TYPE_CATIONS = 2\n",
    "TYPE_ANIONS  = 3\n",
    "\n",
    "# System setup\n",
    "#############################################################\n",
    "system = espressomd.System(box_l=[box_l] * 3)\n",
    "system.time_step = time_step"
   ]
  },
  {
   "cell_type": "markdown",
   "id": "2d20207b",
   "metadata": {},
   "source": [
    "The parameter <tt>box_l</tt> sets the size of the simulation box. In general, one should check for finite\n",
    "size effects which can be surprisingly large in simulations using hydrodynamic interactions. They\n",
    "also generally scale as <tt>box_l</tt>$^{-1}$ or <tt>box_l</tt>$^{-3}$ depending on the transport mechanism\n",
    "which sometimes allows for the infinite box limit to be extrapolated to, instead of using an\n",
    "excessively large simulation box. As a rule of thumb, the box size should be five times greater than the characteristic\n",
    "length scale of the object. Note that this example uses a small box \n",
    "to provide a shorter simulation time.\n",
    "\n"
   ]
  },
  {
   "cell_type": "code",
   "execution_count": null,
   "id": "3b34fa56",
   "metadata": {},
   "outputs": [],
   "source": [
    "system.cell_system.skin = skin"
   ]
  },
  {
   "cell_type": "markdown",
   "id": "63adf49d",
   "metadata": {},
   "source": [
    "The skin is used for constructing\n",
    "the Verlet lists and is purely an optimization parameter. Whatever value provides the fastest\n",
    "integration speed should be used. For the type of simulations covered in this tutorial, this value turns out\n",
    "to be <tt>skin</tt>$\\ \\approx 0.3$."
   ]
  },
  {
   "cell_type": "code",
   "execution_count": null,
   "id": "ada95860",
   "metadata": {},
   "outputs": [],
   "source": [
    "system.periodicity = [True, True, True]"
   ]
  },
  {
   "cell_type": "markdown",
   "id": "5ae0da81",
   "metadata": {},
   "source": [
    "The <tt>periodicity</tt> parameter indicates that the system is periodic in all three\n",
    "dimensions. Note that the lattice-Boltzmann algorithm requires periodicity in all three directions (although\n",
    "this can be modified using boundaries, a topic not covered in this tutorial). "
   ]
  },
  {
   "cell_type": "markdown",
   "id": "ef1cb65e",
   "metadata": {},
   "source": [
    "## Setting up the raspberry\n",
    "\n",
    "Setting up the raspberry is a non-trivial task. The main problem lies in creating a relatively\n",
    "uniform distribution of beads on the surface of the colloid. In general one should take about 1 bead per lattice-Boltzmann grid\n",
    "point on the surface to ensure that there are no holes in the surface. The behavior of the colloid can be further improved by placing\n",
    "beads inside the colloid, though this is not done in this example script (for further reading see <a href='#[1]'>[1]</a>). In our example\n",
    "we first define a harmonic interaction causing the surface beads to be attracted\n",
    "to the center, and a Lennard-Jones interaction preventing the beads from entering the colloid. There is also a Lennard-Jones\n",
    "potential between the surface beads to get them to distribute evenly on the surface. \n"
   ]
  },
  {
   "cell_type": "code",
   "execution_count": null,
   "id": "ebcce8d0",
   "metadata": {},
   "outputs": [],
   "source": [
    "# the LJ potential with the central bead keeps all the beads from simply collapsing into the center\n",
    "system.non_bonded_inter[TYPE_SURFACE, TYPE_CENTRAL].wca.set_params(epsilon=eps_cs, sigma=sig_cs)\n",
    "# the LJ potential (WCA potential) between surface beads causes them to be roughly equidistant on the\n",
    "# colloid surface\n",
    "system.non_bonded_inter[TYPE_SURFACE, TYPE_SURFACE].wca.set_params(epsilon=eps_ss, sigma=sig_ss)\n",
    "\n",
    "# the harmonic potential pulls surface beads towards the central colloid bead\n",
    "col_center_surface_bond = espressomd.interactions.HarmonicBond(k=3000., r_0=harmonic_radius)\n",
    "system.bonded_inter.add(col_center_surface_bond)"
   ]
  },
  {
   "cell_type": "markdown",
   "id": "a1aa821d",
   "metadata": {},
   "source": [
    "We set up the central bead and the other beads are initialized at random positions on the surface of the colloid. The beads are then allowed to relax using\n",
    "an integration loop where the forces between the beads are capped. \n"
   ]
  },
  {
   "cell_type": "code",
   "execution_count": null,
   "id": "6b85a02a",
   "metadata": {},
   "outputs": [],
   "source": [
    "center = system.box_l / 2\n",
    "colPos = center\n",
    "\n",
    "# Charge of the colloid\n",
    "q_col = -40\n",
    "# Number of particles making up the raspberry (surface particles + the central particle).\n",
    "n_col_part = int(4 * np.pi * np.power(radius_col, 2) + 1)\n",
    "logging.info(f\"Number of colloid beads = {n_col_part}\")\n",
    "\n",
    "# Place the central particle\n",
    "central_part = system.part.add(pos=colPos, type=TYPE_CENTRAL, q=q_col,\n",
    "                               fix=(True, True, True), rotation=(True, True, True))"
   ]
  },
  {
   "cell_type": "markdown",
   "id": "f11390b7",
   "metadata": {},
   "source": [
    "#### Exercise\n",
    "Add `n_col_part-1` particles of type `TYPE_SURFACE` to the system and store the returned particle slice in `surface_parts` (see the [user guide](https://espressomd.github.io/doc/particles.html#adding-particles) section on how to add several particles at once). The particles shall be at random positions with a distance of exactly `radius_col` from the colloid's center at `col_pos`."
   ]
  },
  {
   "cell_type": "code",
   "execution_count": null,
   "id": "bb7490e5",
   "metadata": {},
   "outputs": [],
   "source": [
    "# SOLUTION CELL\n",
    "# Create surface beads uniformly distributed over the surface of the central particle\n",
    "colSurfPos = np.random.uniform(low=-1, high=1, size=(n_col_part - 1, 3))\n",
    "colSurfPos = colSurfPos / np.linalg.norm(colSurfPos, axis=1)[:, np.newaxis] * radius_col + colPos\n",
    "colSurfTypes = np.full(n_col_part - 1, TYPE_SURFACE)\n",
    "surface_parts = system.part.add(pos=colSurfPos, type=colSurfTypes)"
   ]
  },
  {
   "cell_type": "code",
   "execution_count": null,
   "id": "1b3eaf27",
   "metadata": {},
   "outputs": [],
   "source": []
  },
  {
   "cell_type": "code",
   "execution_count": null,
   "id": "3fc4bf66",
   "metadata": {},
   "outputs": [],
   "source": [
    "# Relax bead positions. The LJ potential with the central bead combined with the\n",
    "# harmonic bond keep the monomers roughly radius_col away from the central bead. The LJ\n",
    "# between the surface beads cause them to distribute more or less evenly on the surface.\n",
    "# We use a gradient descent algorithm with an additional constraint for surface particles.\n",
    "system.integrator.set_steepest_descent(f_max=0, gamma=30, max_displacement=0.01 * sig_ss)\n",
    "\n",
    "def constrain_surface_particles():\n",
    "    # This loop moves the surface beads such that they are once again exactly radius_col\n",
    "    # away from the center. For the scalar distance, we use system.distance() which\n",
    "    # considers periodic boundaries and the minimum image convention\n",
    "    colPos = central_part.pos\n",
    "    for p in surface_parts:\n",
    "        p.pos = (p.pos - colPos) / np.linalg.norm(system.distance(p, central_part)) * radius_col + colPos\n",
    "        p.pos = (p.pos - colPos) / np.linalg.norm(p.pos - colPos) * radius_col + colPos\n",
    "\n",
    "logging.info(\"Relaxation of the raspberry surface particles\")\n",
    "for _ in range(100):\n",
    "    system.integrator.run(50)\n",
    "    constrain_surface_particles()\n",
    "    force_max = np.max(np.linalg.norm(system.part.all().f, axis=1))\n",
    "    logging.info(f\"maximal force: {force_max:.1f}\")\n",
    "    if force_max < 10.:\n",
    "        break\n",
    "\n",
    "system.integrator.set_vv()"
   ]
  },
  {
   "cell_type": "markdown",
   "id": "8f226bfb",
   "metadata": {},
   "source": [
    "The best way to ensure a relatively uniform distribution\n",
    "of the beads on the surface is to simply take a look at a VMD snapshot of the system after this integration. Such a snapshot is shown in Fig. 1."
   ]
  },
  {
   "cell_type": "markdown",
   "id": "809451b3",
   "metadata": {},
   "source": [
    "<figure>\n",
    "    <img src='figures/raspberry_snapshot.png' alt='missing' style=\"width: 600px;\"/>\n",
    "    <center>\n",
    "    <figcaption>Figure 1: A snapshot of the simulation consisting of positive salt ions (yellow spheres), negative salt ions (grey spheres) and surface beads (blue spheres). There is also a central bead in the middle of the colloid bearing a large negative  charge.</figcaption>\n",
    "    </center>\n",
    "</figure>"
   ]
  },
  {
   "cell_type": "markdown",
   "id": "478a2301",
   "metadata": {},
   "source": [
    "Now that the beads are arranged in the shape of a raspberry, the surface beads need to be set up as virtual particles\n",
    "using the `VirtualSitesRelative` scheme. This converts the raspberry to a rigid body\n",
    "in which the surface particles follow the translation and rotation of the central particle,\n",
    "and transfer the interpolated LB momentum back to the central particle.\n",
    "Newton's equations of motion are only integrated for the central particle.\n",
    "It is given an appropriate mass and moment of inertia tensor (note that the inertia tensor\n",
    "is given in the frame in which it is diagonal.)"
   ]
  },
  {
   "cell_type": "code",
   "execution_count": null,
   "id": "8673addb",
   "metadata": {},
   "outputs": [],
   "source": [
    "# Setting min_global_cut is necessary when there is no interaction defined with a range larger than\n",
    "# the colloid such that the virtual particles are able to communicate their forces to the real particle\n",
    "# at the center of the colloid\n",
    "system.min_global_cut = radius_col"
   ]
  },
  {
   "cell_type": "markdown",
   "id": "aedcee67",
   "metadata": {},
   "source": [
    "#### Exercise\n",
    "* Compute the center of mass of all particles in `surface_parts` and store its position in the variable `com`.\n",
    "* Compute the moment of inertia of the particles in `surface_parts` using the previously computed `com`, and store it in the variable `momI`. *Hint:* we assume that the colloid is spherically symmetric. Therefore it suffices to compute a scalar value. Each particle has a mass of 1."
   ]
  },
  {
   "cell_type": "code",
   "execution_count": null,
   "id": "1da1f3a8",
   "metadata": {},
   "outputs": [],
   "source": [
    "# SOLUTION CELL\n",
    "# Calculate the center of mass position (com) and the moment of inertia (momI) of the colloid\n",
    "com = np.average(surface_parts.pos, 0)  # surface_parts.pos returns an n-by-3 array\n",
    "momI = 0\n",
    "for p in surface_parts:\n",
    "    momI += np.power(np.linalg.norm(com - p.pos), 2)"
   ]
  },
  {
   "cell_type": "code",
   "execution_count": null,
   "id": "9c67994d",
   "metadata": {},
   "outputs": [],
   "source": []
  },
  {
   "cell_type": "code",
   "execution_count": null,
   "id": "079c5bc6",
   "metadata": {},
   "outputs": [],
   "source": [
    "# note that the real particle must be at the center of mass of the colloid because of the integrator\n",
    "logging.info(f\"Moving central particle from {central_part.pos} to {com}\")\n",
    "central_part.fix = [False, False, False]\n",
    "central_part.pos = com\n",
    "central_part.mass = n_col_part\n",
    "central_part.rinertia = np.ones(3) * momI\n",
    "\n",
    "# Convert the surface particles to virtual sites related to the central particle\n",
    "# The id of the central particles is 0, the ids of the surface particles start at 1.\n",
    "for p in surface_parts:\n",
    "    p.vs_auto_relate_to(central_part, couple_to_lb=True)"
   ]
  },
  {
   "cell_type": "markdown",
   "id": "dd11e968",
   "metadata": {},
   "source": [
    "## Inserting counterions and salt ions\n",
    "\n",
    "Next we insert enough ions at random positions (outside the radius of the colloid) with opposite charge to the colloid such that the system is electro-neutral. In addition, ions\n",
    "of both signs are added to represent the salt in the solution."
   ]
  },
  {
   "cell_type": "code",
   "execution_count": null,
   "id": "408ad5ac",
   "metadata": {},
   "outputs": [],
   "source": [
    "salt_rho = 0.001  # Number density of ions\n",
    "volume = system.volume()\n",
    "N_counter_ions = int(round(volume * salt_rho + abs(q_col)))\n",
    "\n",
    "i = 0\n",
    "while i < N_counter_ions:\n",
    "    pos = np.random.random(3) * system.box_l\n",
    "    # make sure the ion is placed outside of the colloid\n",
    "    if np.linalg.norm(pos - center) > radius_col + 1:\n",
    "        system.part.add(pos=pos, type=TYPE_CATIONS, q=1)\n",
    "        i += 1\n",
    "\n",
    "logging.info(f\"Added {N_counter_ions} positive ions\")\n",
    "\n",
    "N_co_ions = N_counter_ions - abs(q_col)\n",
    "i = 0\n",
    "while i < N_co_ions:\n",
    "    pos = np.random.random(3) * system.box_l\n",
    "    # make sure the ion is placed outside of the colloid\n",
    "    if np.linalg.norm(pos - center) > radius_col + 1:\n",
    "        system.part.add(pos=pos, type=TYPE_ANIONS, q=-1)\n",
    "        i += 1\n",
    "\n",
    "logging.info(f\"Added {N_co_ions} negative ions\")"
   ]
  },
  {
   "cell_type": "markdown",
   "id": "284ad461",
   "metadata": {},
   "source": [
    "We then check that charge neutrality is maintained"
   ]
  },
  {
   "cell_type": "code",
   "execution_count": null,
   "id": "604c15cf",
   "metadata": {},
   "outputs": [],
   "source": [
    "# Check charge neutrality\n",
    "assert np.abs(np.sum(system.part.all().q)) < 1E-10"
   ]
  },
  {
   "cell_type": "markdown",
   "id": "220c84e9",
   "metadata": {},
   "source": [
    "A WCA potential acts between all of the ions. This potential represents a purely repulsive\n",
    "version of the Lennard-Jones potential, which approximates hard spheres of diameter $\\sigma$. The ions also interact through a WCA potential\n",
    "with the central bead of the colloid, using an offset of around $\\mathrm{radius\\_col}-\\sigma +a_{\\mathrm{grid}}/2$. This makes\n",
    "the colloid appear as a hard sphere of radius roughly $\\mathrm{radius\\_col}+a_{\\mathrm{grid}}/2$ to the ions, which is approximately equal to the\n",
    "hydrodynamic radius of the colloid"
   ]
  },
  {
   "cell_type": "code",
   "execution_count": null,
   "id": "6042c8b3",
   "metadata": {},
   "outputs": [],
   "source": [
    "# WCA interactions for the ions, essentially giving them a finite volume\n",
    "system.non_bonded_inter[TYPE_CENTRAL, TYPE_CATIONS].lennard_jones.set_params(\n",
    "    epsilon=eps_ss, sigma=sig_ss,\n",
    "    cutoff=sig_ss * pow(2., 1. / 6.), shift=\"auto\", offset=sig_cs - 1 + a_eff)\n",
    "system.non_bonded_inter[TYPE_CENTRAL, TYPE_ANIONS].lennard_jones.set_params(\n",
    "    epsilon=eps_ss, sigma=sig_ss,\n",
    "    cutoff=sig_ss * pow(2., 1. / 6.), shift=\"auto\", offset=sig_cs - 1 + a_eff)\n",
    "system.non_bonded_inter[TYPE_CATIONS, TYPE_CATIONS].wca.set_params(epsilon=eps_ss, sigma=sig_ss)\n",
    "system.non_bonded_inter[TYPE_CATIONS, TYPE_ANIONS].wca.set_params(epsilon=eps_ss, sigma=sig_ss)\n",
    "system.non_bonded_inter[TYPE_ANIONS,  TYPE_ANIONS].wca.set_params(epsilon=eps_ss, sigma=sig_ss)"
   ]
  },
  {
   "cell_type": "markdown",
   "id": "e4d0aeee",
   "metadata": {},
   "source": [
    "After inserting the ions, again a short integration is performed with a force cap to\n",
    "prevent strong overlaps between the ions."
   ]
  },
  {
   "cell_type": "code",
   "execution_count": null,
   "id": "a9b6d2ed",
   "metadata": {},
   "outputs": [],
   "source": [
    "# Langevin thermostat for warmup before turning on the LB.\n",
    "system.time_step = time_step / 10\n",
    "system.thermostat.set_langevin(kT=temperature, gamma=1., seed=42)\n",
    "\n",
    "logging.info(\"Removing overlap between ions\")\n",
    "ljcap = 100\n",
    "for _ in range(100):\n",
    "    system.force_cap = ljcap\n",
    "    system.integrator.run(integ_steps)\n",
    "    ljcap += 5\n",
    "\n",
    "system.force_cap = 0\n",
    "system.time_step = time_step"
   ]
  },
  {
   "cell_type": "markdown",
   "id": "e4e070f0",
   "metadata": {},
   "source": [
    "## Electrostatics\n",
    "\n",
    "Electrostatics are simulated using the Particle-Particle Particle-Mesh (P3M) algorithm. In **ESPResSo** this can be added to the simulation rather trivially:"
   ]
  },
  {
   "cell_type": "code",
   "execution_count": null,
   "id": "cf35d2e3",
   "metadata": {},
   "outputs": [],
   "source": [
    "# Turning on the electrostatics\n",
    "# Note: Production runs would typically use a target accuracy of 10^-4\n",
    "logging.info(\"Tuning P3M parameters...\")\n",
    "bjerrum = 2.\n",
    "p3m = espressomd.electrostatics.P3M(prefactor=bjerrum * temperature, accuracy=0.001)\n",
    "system.electrostatics.solver = p3m\n",
    "logging.info(\"Tuning complete\")"
   ]
  },
  {
   "cell_type": "markdown",
   "id": "9bc36feb",
   "metadata": {},
   "source": [
    "Generally a Bjerrum length of $2$ is appropriate when using WCA interactions with $\\sigma=1$, since a typical ion has a radius of $0.35\\ \\mathrm{nm}$, while the Bjerrum\n",
    "length in water is around $0.7\\ \\mathrm{nm}$.\n",
    "\n",
    "The external electric field is simulated by simply adding a constant force equal to the simulated field times the particle charge. Generally the electric field is set to $0.1$ in MD units,\n",
    "which is the maximum field before the response becomes nonlinear. Smaller fields are also possible, but the required simulation time is considerably larger. Sometimes, Green-Kubo methods\n",
    "are also used, but these are generally only feasible in cases where there is either no salt or a very low salt concentration."
   ]
  },
  {
   "cell_type": "markdown",
   "id": "f90e931d",
   "metadata": {},
   "source": [
    "#### Exercise\n",
    "Add an external force $F=q\\vec{E}$ to every particle according to its charge, where the electric field is $\\vec{E}=\\begin{pmatrix} 0.1 \\\\ 0 \\\\ 0 \\end{pmatrix}$."
   ]
  },
  {
   "cell_type": "code",
   "execution_count": null,
   "id": "52446ef2",
   "metadata": {},
   "outputs": [],
   "source": [
    "# SOLUTION CELL\n",
    "E = 0.1  # an electric field of 0.1 is the upper limit of the linear response regime for this model\n",
    "Efield = np.array([E, 0, 0])\n",
    "for p in system.part:\n",
    "    p.ext_force = p.q * Efield"
   ]
  },
  {
   "cell_type": "code",
   "execution_count": null,
   "id": "a4e3dc56",
   "metadata": {},
   "outputs": [],
   "source": []
  },
  {
   "cell_type": "markdown",
   "id": "d04105af",
   "metadata": {},
   "source": [
    "## Lattice-Boltzmann\n",
    "\n",
    "Before creating the LB fluid it is a good idea to set all of the particle velocities to zero.\n",
    "This is necessary to set the total momentum of the system to zero. Failing to do so will lead to an unphysical drift of the system, which\n",
    "will change the values of the measured velocities."
   ]
  },
  {
   "cell_type": "code",
   "execution_count": null,
   "id": "f99df805",
   "metadata": {},
   "outputs": [],
   "source": [
    "system.part.all().v = (0, 0, 0)"
   ]
  },
  {
   "cell_type": "markdown",
   "id": "eaed3edf",
   "metadata": {},
   "source": [
    "The important parameters for the LB fluid are the density, the viscosity, the time step,\n",
    "and the friction coefficient used to couple the particle motion to the fluid.\n",
    "The time step should generally be comparable to the MD time step. While\n",
    "large time steps are possible, a time step of $0.01$ turns out to provide more reasonable values for the root mean squared particle velocities. Both density and viscosity\n",
    "should be around $1$, while the friction should be set around $20$. The grid spacing should be comparable to the ions' size."
   ]
  },
  {
   "cell_type": "code",
   "execution_count": null,
   "id": "37185f8e",
   "metadata": {},
   "outputs": [],
   "source": [
    "lb = espressomd.lb.LBFluidWalberla(kT=temperature, seed=42,\n",
    "                                   density=1., kinematic_viscosity=3.,\n",
    "                                   agrid=1., tau=system.time_step)"
   ]
  },
  {
   "cell_type": "markdown",
   "id": "2fce673e",
   "metadata": {},
   "source": [
    "A logical way of picking a specific set of parameters is to choose them such that the hydrodynamic radius of an ion roughly matches its physical radius determined by the\n",
    "WCA potential ($R=0.5\\sigma$). Using the following equation:\n",
    "\n",
    "\\begin{equation}\n",
    "\\frac{1}{\\Gamma}=\\frac{1}{6\\pi \\eta R_{\\mathrm{H0}}}=\\frac{1}{\\Gamma_0} \n",
    "+\\frac{1}{g\\eta a} \n",
    "\\end{equation}\n",
    "\n",
    "one can see that the set of parameters grid spacing $a=1\\sigma$, fluid density $\\rho=1$, a \n",
    "kinematic viscosity of $\\nu=3 $ and a friction of $\\Gamma_0=50$ leads to a hydrodynamic radius\n",
    "of approximately $0.5\\sigma$.\n",
    "\n",
    "The last step is to first turn off all other thermostats, followed by turning on the LB thermostat. The temperature is typically set to 1, which is equivalent to setting\n",
    "$k_\\mathrm{B}T=1$ in molecular dynamics units."
   ]
  },
  {
   "cell_type": "code",
   "execution_count": null,
   "id": "b5a73643",
   "metadata": {},
   "outputs": [],
   "source": [
    "system.thermostat.turn_off()\n",
    "system.lb = lb\n",
    "system.thermostat.set_lb(LB_fluid=lb, seed=123, gamma=20.0)"
   ]
  },
  {
   "cell_type": "markdown",
   "id": "a7388457-8c1b-4839-bfc6-e34778ae9511",
   "metadata": {},
   "source": [
    "## Visualization"
   ]
  },
  {
   "cell_type": "markdown",
   "id": "f3deb299-de31-4901-8f65-0ff06112232c",
   "metadata": {},
   "source": [
    "We use the ZnDraw visualizer and run our simulation for a few steps in order to get an idea what is happening in our system:"
   ]
  },
  {
   "cell_type": "code",
   "execution_count": null,
   "id": "c24f4ee4-2a6a-46ff-ba89-4f6c7f7fb227",
   "metadata": {},
   "outputs": [],
   "source": [
    "# Initializing ZnDraw visualizer\n",
    "colors = {\n",
    "    TYPE_CENTRAL: \"#fca000\", #orange\n",
    "    TYPE_SURFACE: \"#7fc454\", #green\n",
    "    TYPE_CATIONS: \"#ff0000\", #red\n",
    "    TYPE_ANIONS: \"#030ffc\" #blue\n",
    "    }\n",
    "radii = {\n",
    "    TYPE_CENTRAL: sig_ss/2,\n",
    "    TYPE_SURFACE: sig_ss/2,\n",
    "    TYPE_CATIONS: sig_ss/2,\n",
    "    TYPE_ANIONS: sig_ss/2\n",
    "    }\n",
    "arrows_config = {'colormap': [[-0.5, 0.9, 0.5], [-0.0, 0.9, 0.5]],\n",
    "                 'normalize': True,\n",
    "                 'colorrange': [0, 1],\n",
    "                 'scale_vector_thickness': True,\n",
    "                 'opacity': 1.0}\n",
    "\n",
    "lbfield = espressomd.zn.LBField(system, step_x=2, step_y=2, step_z=5, scale=0.3)\n",
    "vis = espressomd.zn.Visualizer(system, colors=colors, radii=radii, folded=True, vector_field=lbfield)\n",
    "\n",
    "for _ in range(50):\n",
    "    system.integrator.run(10)\n",
    "    vis.update()"
   ]
  },
  {
   "cell_type": "markdown",
   "id": "f848c501",
   "metadata": {},
   "source": [
    "## Simulating electrophoresis\n",
    "\n",
    "Now the main simulation can begin! The only important thing is to make sure the system has enough time to equilibrate. There are two separate equilibration times: 1) the time for the ion distribution to stabilize, and 2) the time\n",
    "needed for the fluid flow profile to equilibrate. In general, the ion distribution equilibrates fast, so the needed warmup time is largely determined by the fluid relaxation time, which can be calculated via $\\tau_\\mathrm{relax} = \\mathrm{box\\_length}^2/\\nu$. This means for a box of size 40 with a kinematic viscosity of 3 as in our example script, the relaxation time is $\\tau_\\mathrm{relax} = 40^2/3 = 533 \\tau_\\mathrm{MD}$, or 53300 integration steps. In general it is a good idea to run for many relaxation times before starting to use the simulation results for averaging observables. To be on the safe side $10^6$ integration steps is a reasonable equilibration time. Please feel free to modify the provided script and try and get some interesting results!"
   ]
  },
  {
   "cell_type": "code",
   "execution_count": null,
   "id": "32ec13f3",
   "metadata": {},
   "outputs": [],
   "source": [
    "# Reset the simulation clock\n",
    "system.time = 0\n",
    "initial_pos = central_part.pos\n",
    "num_iterations = 1000\n",
    "num_steps_per_iteration = 1000\n",
    "with open('posVsTime.dat', 'w') as f:  # file where the raspberry trajectory will be written to\n",
    "    for _ in tqdm.tqdm(range(num_iterations)):\n",
    "        system.integrator.run(num_steps_per_iteration)\n",
    "        vis.update()\n",
    "        pos = central_part.pos - initial_pos\n",
    "        f.write(f\"{system.time:.2f} {pos[0]:.4f} {pos[1]:.4f} {pos[2]:.4f}\\n\")\n",
    "\n",
    "logging.info(\"Finished\")"
   ]
  },
  {
   "cell_type": "markdown",
   "id": "698a65ca",
   "metadata": {},
   "source": [
    "The above code cell saves the trajectory of the raspberry into the file `posVsTime.dat`. For this purpose, the particle's `pos` member should be used, as opposed to its `pos_folded` member, which returns the particle's position folded back into the simulation box. In systems with periodic boundary conditions, particles can \"leave\" the simulation box. When a particle leaves the box, one of its periodic images enters the box from the opposite side, so it might appear that the particle never leaves the box. The truth, however, is that particles *can* leave the simulation box and therefore, their coordinates can end up outside of it. `pos` returns these \"true\" coordinates. On the other hand, `pos_folded` returns the position folded back into the simulation box, which is used to compute interactions between particles, and also for visualization of the simulation box.\n",
    "Since the process of folding the particle position back into the simulation box destroys the information on how far it has actually travelled, `pos` needs to be used to obtain a particle's trajectory.\n",
    "\n",
    "Finally, we plot the raspberry trajectory with <tt>matplotlib</tt>:"
   ]
  },
  {
   "cell_type": "code",
   "execution_count": null,
   "id": "ca15453e",
   "metadata": {},
   "outputs": [],
   "source": [
    "from mpl_toolkits.mplot3d import Axes3D\n",
    "\n",
    "trajectory_file = 'posVsTime.dat'\n",
    "trajectory = np.loadtxt(trajectory_file)[:, 1:4]\n",
    "# optional: trajectory smoothing with a running average\n",
    "N = 6\n",
    "trajectory = np.array(\n",
    "    [np.convolve(trajectory[:, i], np.ones((N,)) / N, mode='valid') for i in range(3)])\n",
    "# calculate bounding box (cubic box to preserve scaling)\n",
    "trajectory_range = np.max(trajectory, axis=1) - np.min(trajectory, axis=1)\n",
    "mid_range = np.median(trajectory, axis=1)\n",
    "max_range = 1.01 * np.max(np.abs(trajectory_range))\n",
    "bbox = np.array([mid_range - max_range / 2, mid_range + max_range / 2])\n",
    "# 3D plot\n",
    "fig = plt.figure(figsize=(9, 6))\n",
    "ax = fig.add_subplot(111, projection='3d')\n",
    "ax.set_xlabel('X axis')\n",
    "ax.set_ylabel('Y axis')\n",
    "ax.set_zlabel('Z axis')\n",
    "ax.set_xlim(*bbox[:, 0])\n",
    "ax.set_ylim(*bbox[:, 1])\n",
    "ax.set_zlim(*bbox[:, 2])\n",
    "ax.text(*trajectory[:, 0], '\\u2190 start', 'y')\n",
    "ax.scatter(*trajectory[:, 0])\n",
    "ax.plot(*trajectory)\n",
    "plt.tight_layout()\n",
    "plt.rcParams.update({'font.size': 14})"
   ]
  },
  {
   "cell_type": "markdown",
   "id": "d504b45c",
   "metadata": {},
   "source": [
    "## References\n",
    "<a id='[1]'></a>[1] Lukas P. Fischer et al. <a href=\"https://doi.org/10.1063/1.4928502\">The raspberry model for hydrodynamic interactions revisited. I. Periodic arrays of spheres and dumbbells</a>, J. Chem. Phys. **143**, 084107 (2015)"
   ]
  }
 ],
 "metadata": {
  "kernelspec": {
   "display_name": "Python 3",
   "language": "python",
   "name": "python3"
  },
  "language_info": {
   "codemirror_mode": {
    "name": "ipython",
    "version": 3
   },
   "file_extension": ".py",
   "mimetype": "text/x-python",
   "name": "python",
   "nbconvert_exporter": "python",
   "pygments_lexer": "ipython3",
   "version": "3.8.10"
  }
 },
 "nbformat": 4,
 "nbformat_minor": 5
}
