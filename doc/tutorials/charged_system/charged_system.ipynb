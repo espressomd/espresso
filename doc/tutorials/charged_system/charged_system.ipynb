{
 "cells": [
  {
   "cell_type": "markdown",
   "id": "b3844439",
   "metadata": {},
   "source": [
    "# A Charged System: Counterion Condensation\n",
    "\n",
    "## Table of contents\n",
    "* [Introduction](#Introduction)\n",
    "* [System setup](#System-setup)\n",
    "* [First run and observable setup](#First-run-and-observable-setup)\n",
    "* [Production run and analysis](#Production-run-and-analysis)\n",
    "* [Overcharging by added salt](#Overcharging-by-added-salt)\n",
    "\n"
   ]
  },
  {
   "cell_type": "markdown",
   "id": "c7a006eb",
   "metadata": {},
   "source": [
    "## Introduction\n",
    "\n",
    "In this tutorial, we simulate a charged system consisting of a fixed charged rod with ions around it. This setup represents a simplified model for polyelectrolyte gels. We will investigate the condensation of ions onto the oppositely charged rod and compare the results to a meanfield analytical solution obtained from Poisson−Boltzmann (PB) theory.\n",
    "Finally we will go beyond the expected applicability of PB and add concentrated additional salt ions to observe an overcharging effect.\n",
    "\n",
    "The tutorial follows \"Deserno, Markus, Christian Holm, and Sylvio May. \"Fraction of condensed counterions around a charged rod: Comparison of Poisson−Boltzmann theory and computer simulations. Macromolecules 33.1 (2000): 199-206, [10.1021/ma990897o](https://doi.org/10.1021/ma990897o)\". We refer to that publication for further reading."
   ]
  },
  {
   "cell_type": "code",
   "execution_count": null,
   "id": "05ee17a4",
   "metadata": {},
   "outputs": [],
   "source": [
    "import espressomd\n",
    "import espressomd.electrostatics\n",
    "import espressomd.observables\n",
    "import espressomd.accumulators\n",
    "import espressomd.math\n",
    "\n",
    "espressomd.assert_features(['ELECTROSTATICS', 'P3M', 'WCA'])\n",
    "\n",
    "import tqdm\n",
    "import numpy as np\n",
    "import scipy.optimize\n",
    "%matplotlib inline\n",
    "import matplotlib.pyplot as plt\n",
    "\n",
    "np.random.seed(41)\n",
    "plt.rcParams.update({'font.size': 18})"
   ]
  },
  {
   "cell_type": "markdown",
   "id": "4b5777fe",
   "metadata": {},
   "source": [
    "# System setup\n",
    "\n",
    "After importing the necessary **ESPResSo** features and external modules, we define a cubic system geometry and some physical parameters (which define our unit system)."
   ]
  },
  {
   "cell_type": "code",
   "execution_count": null,
   "id": "158ac15b",
   "metadata": {},
   "outputs": [],
   "source": [
    "# system parameters\n",
    "ROD_LENGTH = 50\n",
    "BJERRUM_LENGTH = 1.0\n",
    "\n",
    "# we assume a unit system where the elementary charge and the thermal energy are both 1\n",
    "system = espressomd.System(box_l=3 * [ROD_LENGTH])\n",
    "KT = 1.\n",
    "Q_E = 1.\n",
    "\n",
    "system.time_step = 0.01\n",
    "system.cell_system.skin = 0.4"
   ]
  },
  {
   "cell_type": "markdown",
   "id": "4f46ba70",
   "metadata": {},
   "source": [
    "We will build the charged rod from individual particles that are fixed in space. With this, we can use the particle-based electrostatics methods of **ESPResSo**. For analysis, we give the rod particles a different type than the counterions."
   ]
  },
  {
   "cell_type": "code",
   "execution_count": null,
   "id": "6f6fc8b9",
   "metadata": {},
   "outputs": [],
   "source": [
    "# interaction parameters\n",
    "WCA_EPSILON = 1.0\n",
    "ION_DIAMETER = 1.0\n",
    "ROD_RADIUS = 1.0\n",
    "# particle types\n",
    "ROD_TYPE = 1\n",
    "COUNTERION_TYPE = 2"
   ]
  },
  {
   "cell_type": "markdown",
   "id": "ae520dd7",
   "metadata": {},
   "source": [
    "**Exercise:**\n",
    "\n",
    "* Setup the purely repulsive Weeks-Chandler-Anderson (WCA) interaction ([Non-bonded Interactions](https://espressomd.github.io/doc/inter_non-bonded.html)) between the ions and between the ions and the rod particles. Use the parameters introduced in the cell above.\n",
    "\n",
    "**Hints:**\n",
    "* The WCA potential uses the same parameters as the Lennard-Jones potential, but the cutoff and shift are calculated automatically\n",
    "* Use the Lorentz combining rule (arithmetic mean) to determine the ``sigma`` parameter of the interaction between the rod particles and the ions"
   ]
  },
  {
   "cell_type": "code",
   "execution_count": null,
   "id": "0b77ac12",
   "metadata": {},
   "outputs": [],
   "source": [
    "# SOLUTION CELL\n",
    "# ion-ion interaction\n",
    "system.non_bonded_inter[COUNTERION_TYPE, COUNTERION_TYPE].wca.set_params(\n",
    "    epsilon=WCA_EPSILON, sigma=ION_DIAMETER)\n",
    "\n",
    "# ion-rod interaction\n",
    "system.non_bonded_inter[COUNTERION_TYPE, ROD_TYPE].wca.set_params(\n",
    "    epsilon=WCA_EPSILON, sigma=ION_DIAMETER / 2. + ROD_RADIUS)"
   ]
  },
  {
   "cell_type": "code",
   "execution_count": null,
   "id": "7260152b",
   "metadata": {},
   "outputs": [],
   "source": []
  },
  {
   "cell_type": "markdown",
   "id": "ec702d20",
   "metadata": {},
   "source": [
    "Now we need to place the particles in the box\n",
    "\n",
    "**Exercise:**\n",
    "* Implement a function to place the rod particles along the $x_3$ axis in the middle of the simulation box and the ions randomly distributed \n",
    "* Use the signature ``setup_rod_and_counterions(system, ion_valency, counterion_type, rod_charge_dens, N_rod_beads, rod_type) ``\n",
    "* Determine the number of counterions from the condition of neutrality for the whole system (the rod should be positive, the counterions negative)\n",
    "* Assign the rod particles and counterions their correct ``type``\n",
    "* Give the counterions a charge ``q`` according to their ``ion_valency``\n",
    "* Give the rod particles a charge such that the ``rod_charge_dens`` is uniformly distributed along the ``N_rod_beads`` individual particles\n",
    "* Fix the rod particles in space so they do not get moved if forces act upon them\n",
    "* Return the newly created counterion particles\n",
    "\n",
    "**Hints:**\n",
    "* Look into [espresso particle properties](https://espressomd.github.io/doc/espressomd.html?#module-espressomd.particle_data) to find the keywords to set charges and to fix particles\n",
    "* use np.random.random() to generate the counterion positions"
   ]
  },
  {
   "cell_type": "code",
   "execution_count": null,
   "id": "b1899c20",
   "metadata": {},
   "outputs": [],
   "source": [
    "# SOLUTION CELL\n",
    "def setup_rod_and_counterions(system, ion_valency, counterion_type,\n",
    "                              rod_charge_dens, N_rod_beads, rod_type):\n",
    "\n",
    "    # calculate charge of the single rod beads\n",
    "    rod_length = system.box_l[2]\n",
    "    total_rod_charge = rod_charge_dens * rod_length\n",
    "    rod_charge_per_bead = total_rod_charge / N_rod_beads\n",
    "\n",
    "    # number of counterions\n",
    "    N_ions = int(total_rod_charge / ion_valency)\n",
    "\n",
    "    rod_zs = np.linspace(0, rod_length, num=N_rod_beads, endpoint=False)\n",
    "    rod_positions = np.column_stack(([system.box_l[0] / 2.] * N_rod_beads,\n",
    "                                     [system.box_l[1] / 2.] * N_rod_beads,\n",
    "                                     rod_zs))\n",
    "\n",
    "    system.part.add(pos=rod_positions, type=[rod_type] * N_rod_beads,\n",
    "                    q=[rod_charge_per_bead] * N_rod_beads,\n",
    "                    fix=[3 * [True]] * N_rod_beads)\n",
    "\n",
    "    ion_positions = np.random.random((N_ions, 3)) * system.box_l\n",
    "\n",
    "    counter_ions = system.part.add(pos=ion_positions, type=[\n",
    "                                   counterion_type] * N_ions, q=[-ion_valency] * N_ions)\n",
    "\n",
    "    return counter_ions"
   ]
  },
  {
   "cell_type": "code",
   "execution_count": null,
   "id": "3af0776e",
   "metadata": {},
   "outputs": [],
   "source": []
  },
  {
   "cell_type": "code",
   "execution_count": null,
   "id": "4600cd7e",
   "metadata": {},
   "outputs": [],
   "source": [
    "COUNTERION_VALENCY = 1\n",
    "ROD_CHARGE_DENS = 2\n",
    "\n",
    "# number of beads that make up the rod\n",
    "N_rod_beads = int(ROD_LENGTH / ROD_RADIUS)\n",
    "\n",
    "setup_rod_and_counterions(system, COUNTERION_VALENCY, COUNTERION_TYPE,\n",
    "                          ROD_CHARGE_DENS, N_rod_beads, ROD_TYPE)\n",
    "\n",
    "# check that the particle setup was done correctly\n",
    "assert abs(sum(system.part.all().q)) < 1e-10\n",
    "assert np.all(system.part.select(type=ROD_TYPE).fix)"
   ]
  },
  {
   "cell_type": "markdown",
   "id": "ae2fdc12",
   "metadata": {},
   "source": [
    "Now we set up the electrostatics method to calculate the forces and energies from the long-range Coulomb interaction.\n",
    "**ESPResSo** uses so-called <tt>solvers</tt> for electrostatics, magnetostatics and hydrodynamics.\n",
    "They are attached to system slots in such a way that unphysical combinations of algorithms are avoided,\n",
    "for example simultaneous usage of two electrostatics solvers.\n",
    "Adding an actor to the system also activates the method and calls necessary initialization routines.\n",
    "Here, we define a P$^3$M object using the Bjerrum length and rms force error.\n",
    "This automatically starts a tuning function which tries to find optimal parameters for P$^3$M and prints them to the screen.\n",
    "For more details, see the user guide chapter on [Electrostatics](https://espressomd.github.io/doc/electrostatics.html)."
   ]
  },
  {
   "cell_type": "code",
   "execution_count": null,
   "id": "57ee902f",
   "metadata": {},
   "outputs": [],
   "source": [
    "p3m_params = {'prefactor': KT * BJERRUM_LENGTH * Q_E**2,\n",
    "              'accuracy': 1e-3}"
   ]
  },
  {
   "cell_type": "markdown",
   "id": "bbe4b687",
   "metadata": {},
   "source": [
    "For the accuracy, **ESPResSo** estimates the relative error in the force calculation introduced by the approximations of $P^3M$.\n",
    "We choose a relatively poor accuracy (large value) for this tutorial to make it run faster.\n",
    "For your own production simulations you should reduce that number."
   ]
  },
  {
   "cell_type": "markdown",
   "id": "3b387784",
   "metadata": {},
   "source": [
    "**Exercise:**\n",
    "* Set up a ``p3m`` instance and add it to the ``electrostatics`` slot of the system"
   ]
  },
  {
   "cell_type": "code",
   "execution_count": null,
   "id": "78d1c835",
   "metadata": {},
   "outputs": [],
   "source": [
    "# SOLUTION CELL\n",
    "p3m = espressomd.electrostatics.P3M(**p3m_params)\n",
    "system.electrostatics.solver = p3m"
   ]
  },
  {
   "cell_type": "code",
   "execution_count": null,
   "id": "b04cdad5",
   "metadata": {},
   "outputs": [],
   "source": []
  },
  {
   "cell_type": "markdown",
   "id": "742af77e",
   "metadata": {},
   "source": [
    "Before we can start the simulation, we need to remove the overlap between particles to avoid large forces which would crash the simulation.\n",
    "For this, we use the steepest descent integrator with a relative convergence criterion for forces and energies."
   ]
  },
  {
   "cell_type": "code",
   "execution_count": null,
   "id": "6ed2ce87",
   "metadata": {},
   "outputs": [],
   "source": [
    "def remove_overlap(system, sd_params):\n",
    "    # Removes overlap by steepest descent until forces or energies converge\n",
    "    # Set up steepest descent integration\n",
    "    system.integrator.set_steepest_descent(f_max=0,\n",
    "                                           gamma=sd_params['damping'],\n",
    "                                           max_displacement=sd_params['max_displacement'])\n",
    "\n",
    "    # Initialize integrator to obtain initial forces\n",
    "    system.integrator.run(0)\n",
    "    maxforce = np.max(np.linalg.norm(system.part.all().f, axis=1))\n",
    "    energy = system.analysis.energy()['total']\n",
    "\n",
    "    i = 0\n",
    "    while i < sd_params['max_steps'] // sd_params['emstep']:\n",
    "        prev_maxforce = maxforce\n",
    "        prev_energy = energy\n",
    "        system.integrator.run(sd_params['emstep'])\n",
    "        maxforce = np.max(np.linalg.norm(system.part.all().f, axis=1))\n",
    "        relforce = np.abs((maxforce - prev_maxforce) / prev_maxforce)\n",
    "        energy = system.analysis.energy()['total']\n",
    "        relener = np.abs((energy - prev_energy) / prev_energy)\n",
    "        if i > 1 and (i + 1) % 4 == 0:\n",
    "            print(f\"minimization step: {(i+1)*sd_params['emstep']:4.0f}\"\n",
    "                  f\"    max. rel. force change:{relforce:+3.3e}\"\n",
    "                  f\"    rel. energy change:{relener:+3.3e}\")\n",
    "        if relforce < sd_params['f_tol'] or relener < sd_params['e_tol']:\n",
    "            break\n",
    "        i += 1\n",
    "\n",
    "    system.integrator.set_vv()"
   ]
  },
  {
   "cell_type": "code",
   "execution_count": null,
   "id": "299f819f",
   "metadata": {},
   "outputs": [],
   "source": [
    "STEEPEST_DESCENT_PARAMS = {'f_tol': 1e-2,\n",
    "                           'e_tol': 1e-5,\n",
    "                           'damping': 30,\n",
    "                           'max_steps': 10000,\n",
    "                           'max_displacement': 0.01,\n",
    "                           'emstep': 10}\n",
    "\n",
    "remove_overlap(system, STEEPEST_DESCENT_PARAMS)"
   ]
  },
  {
   "cell_type": "markdown",
   "id": "add6aeef",
   "metadata": {},
   "source": [
    "After the overlap is removed, we activate a thermostat to simulate the system at a given temperature."
   ]
  },
  {
   "cell_type": "code",
   "execution_count": null,
   "id": "58b97cdf",
   "metadata": {},
   "outputs": [],
   "source": [
    "LANGEVIN_PARAMS = {'kT': KT,\n",
    "                   'gamma': 0.5,\n",
    "                   'seed': 42}\n",
    "system.thermostat.set_langevin(**LANGEVIN_PARAMS)"
   ]
  },
  {
   "cell_type": "markdown",
   "id": "d190ecda",
   "metadata": {},
   "source": [
    "## First run and observable setup\n",
    "\n",
    "Before running the simulations to obtain the histograms, we need to decide how long we need to equilibrate the system. For this we plot the total energy vs the time steps."
   ]
  },
  {
   "cell_type": "code",
   "execution_count": null,
   "id": "cefbbc86",
   "metadata": {},
   "outputs": [],
   "source": [
    "energies = []\n",
    "STEPS_PER_SAMPLE_FIRST_RUN = 10\n",
    "N_SAMPLES_FIRST_RUN = 1000\n",
    "for i in range(N_SAMPLES_FIRST_RUN):\n",
    "    system.integrator.run(STEPS_PER_SAMPLE_FIRST_RUN)\n",
    "    energies.append(system.analysis.energy()['total'])"
   ]
  },
  {
   "cell_type": "code",
   "execution_count": null,
   "id": "8c119bd2",
   "metadata": {},
   "outputs": [],
   "source": [
    "# plot time in time_steps so we can judge the number of warmup steps\n",
    "ts = np.arange(0, N_SAMPLES_FIRST_RUN) * STEPS_PER_SAMPLE_FIRST_RUN\n",
    "plt.figure(figsize=(10, 7))\n",
    "plt.plot(ts, energies)\n",
    "plt.xlabel('time steps')\n",
    "plt.ylabel('system total energy')\n",
    "plt.show()"
   ]
  },
  {
   "cell_type": "code",
   "execution_count": null,
   "id": "32945c22",
   "metadata": {},
   "outputs": [],
   "source": [
    "WARMUP_STEPS = 5000\n",
    "STEPS_PER_SAMPLE = 100"
   ]
  },
  {
   "cell_type": "markdown",
   "id": "43906d11",
   "metadata": {},
   "source": [
    "Now we are ready to implement the observable calculation. As we are interested in the condensation of counterions on the rod, the physical quantity of interest is the density of charges $\\rho(r)$ around the rod, where $r$ is the distance from the rod. We need many samples to calculate the density from histograms.\n",
    "\n",
    "From the last tutorial you should already be familiar with the concepts of observables and accumulators in **ESPResSo**. We will use the [CylindricalDensityProfile](https://espressomd.github.io/doc/espressomd.html#espressomd.observables.CylindricalDensityProfile) observable and the [MeanVarianceCalculator](https://espressomd.github.io/doc/espressomd.html#espressomd.accumulators.MeanVarianceCalculator) accumulator\n",
    "\n",
    "**Exercise:**\n",
    "\n",
    "* Write a function ``setup_profile_calculation(system, delta_N, ion_types, r_min, n_radial_bins)`` to create observables for $\\rho(r)$\n",
    "* ``delta_N`` is the number of integration steps between observable calculation\n",
    "* ``ion_types`` is a list of types for which the radial distances should be calculated. For the moment we only have counterions, but later we will also add additional salt ions for which we would also like to calculate the density\n",
    "* return a a dictionary of the accumulators ``radial_distances[counterion_type] = <accumulator>`` and the edges of the bins\n",
    "\n",
    "**Hints:**\n",
    "* Use ``system.part.select(type=...)`` to get only the particles of a specific type\n",
    "* The azimuthal angle and the $x_3$ position are irrelevant, so you need only one big bin for these coordinates"
   ]
  },
  {
   "cell_type": "code",
   "execution_count": null,
   "id": "81590f8c",
   "metadata": {},
   "outputs": [],
   "source": [
    "# SOLUTION CELL\n",
    "def setup_profile_calculation(system, delta_N, ion_types, r_min, n_radial_bins):\n",
    "    radial_profile_accumulators = {}\n",
    "    ctp = espressomd.math.CylindricalTransformationParameters(center = np.array(system.box_l) / 2.,\n",
    "                                                              axis = [0, 0, 1],\n",
    "                                                              orientation = [1, 0, 0])\n",
    "    for ion_type in ion_types:\n",
    "        ion_ids = system.part.select(type=ion_type).id\n",
    "        radial_profile_obs = espressomd.observables.CylindricalDensityProfile(\n",
    "            ids=ion_ids,\n",
    "            transform_params = ctp,\n",
    "            n_r_bins=n_radial_bins,\n",
    "            min_r=r_min,\n",
    "            min_z=-system.box_l[2] / 2.,\n",
    "            max_r=system.box_l[0] / 2.,\n",
    "            max_z=system.box_l[2] / 2.)\n",
    "\n",
    "        bin_edges = radial_profile_obs.bin_edges()\n",
    "\n",
    "        radial_profile_acc = espressomd.accumulators.MeanVarianceCalculator(\n",
    "            obs=radial_profile_obs, delta_N=delta_N)\n",
    "        system.auto_update_accumulators.add(radial_profile_acc)\n",
    "\n",
    "        radial_profile_accumulators[ion_type] = radial_profile_acc\n",
    "\n",
    "    return radial_profile_accumulators, bin_edges"
   ]
  },
  {
   "cell_type": "code",
   "execution_count": null,
   "id": "167532ae",
   "metadata": {},
   "outputs": [],
   "source": []
  },
  {
   "cell_type": "code",
   "execution_count": null,
   "id": "bb69fe23",
   "metadata": {},
   "outputs": [],
   "source": [
    "r_min = ROD_RADIUS + ION_DIAMETER / 2.\n",
    "r_max = system.box_l[0] / 2.\n",
    "N_RADIAL_BINS = 200\n",
    "radial_profile_accs, bin_edges = setup_profile_calculation(\n",
    "    system, STEPS_PER_SAMPLE, [COUNTERION_TYPE], r_min, N_RADIAL_BINS)\n",
    "assert isinstance(\n",
    "    radial_profile_accs[COUNTERION_TYPE], espressomd.accumulators.MeanVarianceCalculator)\n",
    "assert len(bin_edges) == N_RADIAL_BINS + 1"
   ]
  },
  {
   "cell_type": "markdown",
   "id": "9b3ba2e8",
   "metadata": {},
   "source": [
    "To run the simulation with different parameters, we need a way to reset the system and return it to an empty state before setting it up again.\n",
    "\n",
    "**Exercise:**\n",
    "* Write a function ``clear_system(system)`` that\n",
    "    * turns off the thermostat\n",
    "    * removes all particles\n",
    "    * removes the electrostatics solver\n",
    "    * removes all accumulators added to the auto-update-list\n",
    "    * resets the system clock\n",
    "\n",
    "**Hints:**\n",
    "* The relevant parts of the documentation can be found here:\n",
    "[Thermostats](https://espressomd.github.io/doc/integration.html#thermostats),\n",
    "[ParticleList](https://espressomd.github.io/doc/espressomd.html#espressomd.particle_data.ParticleList),\n",
    "[Electrostatics](https://espressomd.github.io/doc/electrostatics.html),\n",
    "[AutoUpdateAccumulators](https://espressomd.github.io/doc/espressomd.html#espressomd.accumulators.AutoUpdateAccumulators),\n",
    "[System properties](https://espressomd.github.io/doc/espressomd.html#module-espressomd.system)"
   ]
  },
  {
   "cell_type": "code",
   "execution_count": null,
   "id": "9615f768",
   "metadata": {},
   "outputs": [],
   "source": [
    "# SOLUTION CELL\n",
    "def clear_system(system):\n",
    "    system.thermostat.turn_off()\n",
    "    system.part.clear()\n",
    "    system.electrostatics.clear()\n",
    "    system.auto_update_accumulators.clear()\n",
    "    system.time = 0."
   ]
  },
  {
   "cell_type": "code",
   "execution_count": null,
   "id": "d850bed8",
   "metadata": {},
   "outputs": [],
   "source": []
  },
  {
   "cell_type": "code",
   "execution_count": null,
   "id": "a65bcd23",
   "metadata": {},
   "outputs": [],
   "source": [
    "clear_system(system)"
   ]
  },
  {
   "cell_type": "markdown",
   "id": "459fd605",
   "metadata": {},
   "source": [
    "## Production run and analysis\n",
    "Now we are finally ready to run the simulations and produce the data we can compare to the Poisson-Boltzmann predictions. First we define the parameters and then loop over them."
   ]
  },
  {
   "cell_type": "code",
   "execution_count": null,
   "id": "9049f459",
   "metadata": {},
   "outputs": [],
   "source": [
    "runs = [{'params': {'counterion_valency': 2, 'rod_charge_dens': 1},\n",
    "         'histogram': None},\n",
    "        {'params': {'counterion_valency': 1, 'rod_charge_dens': 2},\n",
    "         'histogram': None}\n",
    "        ]\n",
    "N_SAMPLES = 1500"
   ]
  },
  {
   "cell_type": "markdown",
   "id": "be2b297f",
   "metadata": {},
   "source": [
    "For longer simulation runs it will be convenient to have a progress bar"
   ]
  },
  {
   "cell_type": "code",
   "execution_count": null,
   "id": "4b873263",
   "metadata": {},
   "outputs": [],
   "source": [
    "def integrate_system(system, n_steps):\n",
    "    for i in tqdm.trange(100):\n",
    "        system.integrator.run(n_steps // 100)\n"
   ]
  },
  {
   "cell_type": "markdown",
   "id": "86d353c7",
   "metadata": {},
   "source": [
    "**Exercise:**\n",
    "* Run the simulation for the parameters given above and save the histograms in the corresponding dictionary for analysis\n",
    "\n",
    "**Hints:**\n",
    "* Don't forget to clear the system before setting up the system with a new set of parameters\n",
    "* Don't forget to add a new ``p3m`` instance after each change of parameters. If we reuse the p3m that was tuned before, likely the desired accuracy will not be achieved. \n",
    "* Extract the radial density profile from the accumulator via ``.mean()``"
   ]
  },
  {
   "cell_type": "code",
   "execution_count": null,
   "id": "c7575e93",
   "metadata": {},
   "outputs": [],
   "source": [
    "# SOLUTION CELL\n",
    "for run in runs:\n",
    "    clear_system(system)\n",
    "    setup_rod_and_counterions(\n",
    "        system, run['params']['counterion_valency'], COUNTERION_TYPE,\n",
    "        run['params']['rod_charge_dens'], N_rod_beads, ROD_TYPE)\n",
    "    p3m = espressomd.electrostatics.P3M(**p3m_params)\n",
    "    system.electrostatics.solver = p3m\n",
    "    remove_overlap(system, STEEPEST_DESCENT_PARAMS)\n",
    "    system.thermostat.set_langevin(**LANGEVIN_PARAMS)\n",
    "    print('', end='', flush=True)\n",
    "    integrate_system(system, WARMUP_STEPS)\n",
    "    radial_profile_accs, bin_edges = setup_profile_calculation(\n",
    "        system, STEPS_PER_SAMPLE, [COUNTERION_TYPE], r_min, N_RADIAL_BINS)\n",
    "    integrate_system(system, N_SAMPLES * STEPS_PER_SAMPLE)\n",
    "\n",
    "    run['histogram'] = radial_profile_accs[COUNTERION_TYPE].mean()\n",
    "    print(f'simulation for parameters {run[\"params\"]} done\\n')"
   ]
  },
  {
   "cell_type": "code",
   "execution_count": null,
   "id": "9a2891d9",
   "metadata": {},
   "outputs": [],
   "source": []
  },
  {
   "cell_type": "markdown",
   "id": "5930693d",
   "metadata": {},
   "source": [
    "**Question**\n",
    "* Why does the second simulation take much longer than the first one?"
   ]
  },
  {
   "cell_type": "markdown",
   "id": "a877bbd9",
   "metadata": {},
   "source": [
    "The rod charge density is doubled, so the total charge of the counterions needs to be doubled, too. Since their valency is only half of the one in the first run, there will be four times more counterions in the second run."
   ]
  },
  {
   "cell_type": "markdown",
   "id": "05e52489",
   "metadata": {},
   "source": [
    "We plot the density of counterions around the rod as the normalized integrated radial counterion charge distribution function $P(r)$, meaning the integrated probability to find an amount of charge within the radius $r$. We express the rod charge density $\\lambda$ in terms of the dimensionless Manning parameter $\\xi = \\lambda l_B / e$ where $l_B$ is the Bjerrum length and $e$ the elementary charge"
   ]
  },
  {
   "cell_type": "code",
   "execution_count": null,
   "id": "dbae04f1",
   "metadata": {},
   "outputs": [],
   "source": [
    "# With the notion of P(r) the probability to find the charge up to r,\n",
    "# we only use the right side of the bin edges for plotting\n",
    "rs = bin_edges[1:, 0, 0, 0]\n",
    "\n",
    "fig, ax = plt.subplots(figsize=(10, 7))\n",
    "for run in runs:\n",
    "    hist = np.array(run['histogram'][:, 0, 0])\n",
    "    # The CylindricalDensityProfile normalizes the bin values by the bin size.\n",
    "    # We want the 'raw' distribution (number of ions within a radius)\n",
    "    # so we need to multiply by the radii\n",
    "    hist = hist * rs\n",
    "    cum_hist = np.cumsum(hist)\n",
    "    cum_hist /= cum_hist[-1]\n",
    "    manning_xi = run['params']['rod_charge_dens'] * BJERRUM_LENGTH / Q_E\n",
    "    ax.plot(rs, cum_hist, label=rf'$\\xi ={manning_xi}, \\nu = {run[\"params\"][\"counterion_valency\"]}$')\n",
    "ax.set_xscale('log')\n",
    "ax.legend()\n",
    "plt.xlabel('r')\n",
    "plt.ylabel('P(r)')\n",
    "plt.show()"
   ]
  },
  {
   "cell_type": "markdown",
   "id": "a235b93c",
   "metadata": {},
   "source": [
    "In the semilogarithmic plot we see an inflection point of the cumulative charge distribution which is the indicator for ion condensation. To compare to the meanfield approach of PB, we calculate the solution of the analytical expressions given in [10.1021/ma990897o](https://doi.org/10.1021/ma990897o)"
   ]
  },
  {
   "cell_type": "code",
   "execution_count": null,
   "id": "468cec09",
   "metadata": {},
   "outputs": [],
   "source": [
    "def eq_to_solve_for_gamma(gamma, manning_parameter, rod_radius, max_radius):\n",
    "    # eq 7 - eq 6 from 10.1021/ma990897o\n",
    "    return gamma * np.log(max_radius / rod_radius) - np.arctan(1 / gamma) + np.arctan((1 - manning_parameter) / gamma)\n",
    "\n",
    "\n",
    "def calc_manning_radius(gamma, max_radius):\n",
    "    # eq 7 from 10.1021/ma990897o\n",
    "    return max_radius * np.exp(-np.arctan(1. / gamma) / gamma)\n",
    "\n",
    "\n",
    "def calc_PB_probability(r, manning_parameter, gamma, manning_radius):\n",
    "    # eq 8 and 9 from 10.1021/ma990897o\n",
    "    return 1. / manning_parameter + gamma / manning_parameter * np.tan(gamma * np.log(r / manning_radius))"
   ]
  },
  {
   "cell_type": "markdown",
   "id": "83934b8c",
   "metadata": {},
   "source": [
    "For multivalent counterions, the manning parameter $\\xi$ has to be multiplied by the valency $\\nu$. The result depends only on the product of ``rod_charge_dens`` and ``ion_valency``, so we only need one curve"
   ]
  },
  {
   "cell_type": "code",
   "execution_count": null,
   "id": "06a2c566",
   "metadata": {},
   "outputs": [],
   "source": [
    "rod_charge_density = runs[0]['params']['rod_charge_dens']\n",
    "ion_valency = runs[0]['params']['counterion_valency']\n",
    "manning_parameter_times_valency = BJERRUM_LENGTH * rod_charge_density * ion_valency\n",
    "\n",
    "gamma = scipy.optimize.fsolve(eq_to_solve_for_gamma, 1, args=(\n",
    "    manning_parameter_times_valency, r_min, r_max))\n",
    "manning_radius = calc_manning_radius(gamma, r_max)\n",
    "\n",
    "PB_probability = calc_PB_probability(\n",
    "    rs, manning_parameter_times_valency, gamma, manning_radius)\n",
    "\n",
    "ax.plot(rs, PB_probability, label=rf'PB $\\xi \\cdot \\nu$ = {manning_parameter_times_valency}')\n",
    "ax.legend()\n",
    "ax.set_xscale('log')\n",
    "fig"
   ]
  },
  {
   "cell_type": "markdown",
   "id": "09f03daa",
   "metadata": {},
   "source": [
    "We see that overall agreement is quite good, but the deviations from the PB solution get stronger the more charged the ions are.\n",
    "Poisson Boltzmann makes two simplifying assumptions: Particles are points and there are no correlations between the particles. Both is not given in the simulation. Excluded volume effects can only lower the density, but we see in the figure that the simulated density is always larger that the calculated one. This means that correlation effects cause the discrepancy."
   ]
  },
  {
   "cell_type": "markdown",
   "id": "d5deb375",
   "metadata": {},
   "source": [
    "## Overcharging by added salt\n",
    "\n",
    "Above simulations were performed for a system where all ions come from dissociation off the polyelectrolyte. We can also investigate systems where there are additional salt ions present."
   ]
  },
  {
   "cell_type": "code",
   "execution_count": null,
   "id": "0ee33efc",
   "metadata": {},
   "outputs": [],
   "source": [
    "def add_salt(system, anion_params, cation_params):\n",
    "\n",
    "    N_anions = anion_params['number']\n",
    "    N_cations = cation_params['number']\n",
    "\n",
    "    anion_positions = np.random.random((N_anions, 3)) * system.box_l\n",
    "    cation_positions = np.random.random((N_cations, 3)) * system.box_l\n",
    "\n",
    "    anions = system.part.add(pos=anion_positions, type=[anion_params['type']] * N_anions,\n",
    "                             q=[-anion_params['valency']] * N_anions)\n",
    "    cations = system.part.add(pos=cation_positions, type=[cation_params['type']] * N_cations,\n",
    "                              q=[cation_params['valency']] * N_cations)\n",
    "\n",
    "    return anions, cations"
   ]
  },
  {
   "cell_type": "code",
   "execution_count": null,
   "id": "5fdbdcee",
   "metadata": {},
   "outputs": [],
   "source": [
    "ANION_PARAMS = {'type': 3,\n",
    "                'valency': 2,\n",
    "                'number': 150}\n",
    "CATION_PARAMS = {'type': 4,\n",
    "                 'valency': 2,\n",
    "                 'number': 150}\n",
    "ROD_LENGTH = 10\n",
    "N_rod_beads = int(ROD_LENGTH / ROD_RADIUS)\n",
    "ROD_CHARGE_DENS = 1\n",
    "COUNTERION_VALENCY = 1\n",
    "\n",
    "STEPS_PER_SAMPLE_SALT = 20\n",
    "N_SAMPLES_SALT = 1500\n",
    "N_RADIAL_BINS = 100\n",
    "\n",
    "all_ion_types = [COUNTERION_TYPE, ANION_PARAMS['type'], CATION_PARAMS['type']]"
   ]
  },
  {
   "cell_type": "code",
   "execution_count": null,
   "id": "8c327569",
   "metadata": {},
   "outputs": [],
   "source": [
    "# set interactions of salt with the rod and all ions\n",
    "for salt_type in [ANION_PARAMS['type'], CATION_PARAMS['type']]:\n",
    "    system.non_bonded_inter[salt_type, ROD_TYPE].wca.set_params(\n",
    "        epsilon=WCA_EPSILON, sigma=ION_DIAMETER / 2. + ROD_RADIUS)\n",
    "    for ion_type in all_ion_types:\n",
    "        system.non_bonded_inter[salt_type, ion_type].wca.set_params(\n",
    "            epsilon=WCA_EPSILON, sigma=ION_DIAMETER)"
   ]
  },
  {
   "cell_type": "code",
   "execution_count": null,
   "id": "953f34fd",
   "metadata": {},
   "outputs": [],
   "source": [
    "clear_system(system)\n",
    "system.box_l = 3 * [ROD_LENGTH]\n",
    "counterions = setup_rod_and_counterions(\n",
    "    system, COUNTERION_VALENCY, COUNTERION_TYPE,\n",
    "    ROD_CHARGE_DENS, N_rod_beads, ROD_TYPE)\n",
    "anions, cations = add_salt(system, ANION_PARAMS, CATION_PARAMS)\n",
    "assert abs(sum(anions.q) + sum(cations.q)) < 1e-10\n",
    "\n",
    "p3m = espressomd.electrostatics.P3M(**p3m_params)\n",
    "system.electrostatics.solver = p3m\n",
    "remove_overlap(system, STEEPEST_DESCENT_PARAMS)\n",
    "system.thermostat.set_langevin(**LANGEVIN_PARAMS)\n",
    "print('', end='', flush=True)\n",
    "integrate_system(system, WARMUP_STEPS)\n",
    "radial_profile_accs, bin_edges = setup_profile_calculation(\n",
    "    system, STEPS_PER_SAMPLE_SALT, all_ion_types, r_min, N_RADIAL_BINS)\n",
    "integrate_system(system, N_SAMPLES_SALT * STEPS_PER_SAMPLE_SALT)"
   ]
  },
  {
   "cell_type": "code",
   "execution_count": null,
   "id": "9207d735",
   "metadata": {},
   "outputs": [],
   "source": [
    "rs = bin_edges[1:, 0, 0, 0]\n",
    "cum_hists = {}\n",
    "for ion_type in all_ion_types:\n",
    "    hist = radial_profile_accs[ion_type].mean()\n",
    "    hist = hist[:, 0, 0] * rs\n",
    "    cum_hist = np.cumsum(hist)\n",
    "    cum_hist /= cum_hist[-1]\n",
    "    cum_hists[ion_type] = cum_hist"
   ]
  },
  {
   "cell_type": "markdown",
   "id": "ea8dc78c",
   "metadata": {},
   "source": [
    "**Exercise:**\n",
    "* Use the cumulative histograms from the cell above to create the cumulative charge histogram of the total ion charge\n",
    "\n",
    "**Hints**\n",
    "* You need to account for the fact that the cumulative histograms are all normalized, but the total charge of each ion type is different"
   ]
  },
  {
   "cell_type": "code",
   "execution_count": null,
   "id": "535dafec",
   "metadata": {},
   "outputs": [],
   "source": [
    "# SOLUTION CELL\n",
    "counterion_charge = sum(counterions.q)\n",
    "anion_charge = sum(anions.q)\n",
    "cation_charge = sum(cations.q)\n",
    "charge_hist = counterion_charge * cum_hists[COUNTERION_TYPE] + \\\n",
    "    anion_charge * cum_hists[ANION_PARAMS['type']] + \\\n",
    "    cation_charge * cum_hists[CATION_PARAMS['type']]"
   ]
  },
  {
   "cell_type": "code",
   "execution_count": null,
   "id": "88f39052",
   "metadata": {},
   "outputs": [],
   "source": []
  },
  {
   "cell_type": "code",
   "execution_count": null,
   "id": "518b7a64",
   "metadata": {},
   "outputs": [],
   "source": [
    "charge_hist /= charge_hist[-1]\n",
    "fig2, ax2 = plt.subplots(figsize=(10, 7))\n",
    "ax2.plot(rs, charge_hist)\n",
    "ax2.set_xscale('linear')\n",
    "plt.xlabel('r')\n",
    "plt.ylabel('P(r)')\n",
    "plt.show()"
   ]
  },
  {
   "cell_type": "markdown",
   "id": "685514f1",
   "metadata": {},
   "source": [
    "You should observe a strong overcharging effect, where ions accumulate close to the rod."
   ]
  }
 ],
 "metadata": {
  "kernelspec": {
   "display_name": "Python 3",
   "language": "python",
   "name": "python3"
  },
  "language_info": {
   "codemirror_mode": {
    "name": "ipython",
    "version": 3
   },
   "file_extension": ".py",
   "mimetype": "text/x-python",
   "name": "python",
   "nbconvert_exporter": "python",
   "pygments_lexer": "ipython3",
   "version": "3.8.10"
  }
 },
 "nbformat": 4,
 "nbformat_minor": 5
}
