{
 "cells": [
  {
   "cell_type": "markdown",
   "id": "e49baad8",
   "metadata": {},
   "source": [
    "# Introductory Tutorial: Lennard-Jones Liquid"
   ]
  },
  {
   "cell_type": "markdown",
   "id": "00300907",
   "metadata": {},
   "source": [
    "## Table of Contents\n",
    "1. [Introduction](#Introduction)\n",
    "2. [Background](#Background)\n",
    "3. [The Lennard-Jones Potential](#The-Lennard-Jones-Potential)\n",
    "4. [Units](#Units)\n",
    "5. [First steps](#First-steps)\n",
    "6. [Overview of a simulation script](#Overview-of-a-simulation-script)\n",
    "    1. [System setup](#System-setup)\n",
    "    2. [Placing and accessing particles](#Placing-and-accessing-particles)\n",
    "    3. [Setting up non-bonded interactions](#Setting-up-non-bonded-interactions)\n",
    "    4. [Energy minimization](#Energy-minimization)\n",
    "    5. [Choosing the thermodynamic ensemble, thermostat](#Choosing-the-thermodynamic-ensemble,-thermostat)\n",
    "    6. [Integrating equations of motion and taking manual measurements](#Integrating-equations-of-motion-and-taking-manual-measurements)\n",
    "    7. [Automated data collection](#Automated-data-collection)\n",
    "7. [Further Exercises](#Further-Exercises)\n",
    "    1. [Binary Lennard-Jones Liquid](#Binary-Lennard-Jones-Liquid)\n",
    "8. [References](#References)\n"
   ]
  },
  {
   "cell_type": "markdown",
   "id": "ee0dec3c",
   "metadata": {},
   "source": [
    "## Introduction\n",
    "\n",
    "Welcome to the basic ESPResSo tutorial!\n",
    "\n",
    "In this tutorial, you will learn, how to use the ESPResSo package for your \n",
    "research. We will cover the basics of ESPResSo, i.e., how to set up and modify a physical system, how to run a simulation, and how to load, save and analyze the produced simulation data.\n",
    "\n",
    "More advanced features and algorithms available in the ESPResSo package are \n",
    "described in additional tutorials."
   ]
  },
  {
   "cell_type": "markdown",
   "id": "0de56c40",
   "metadata": {},
   "source": [
    "## Background\n",
    "\n",
    "Research on Soft Condensed Matter has brought the needs for having a flexible, extensible, reliable, and efficient (parallel) molecular simulation package. For this reason ESPResSo (Extensible Simulation Package for Research on Soft Matter Systems) <a href='#[1]'>[1]</a> has been developed at the Max Planck Institute for Polymer Research, Mainz, and at the Institute for Computational Physics at the University of Stuttgart in  the group of Prof. Dr. Christian Holm <a href='#[2]'>[2,3]</a>. The ESPResSo package is a flexible and extensible simulation package. It is specifically developed for coarse-grained molecular dynamics (MD) simulation of polyelectrolytes but is not necessarily limited to this. For example, it could also be used to simulate granular media. ESPResSo has been nominated for the Heinz-Billing-Preis for Scientific Computing in 2003 <a href='#[4]'>[4]</a>.\n",
    "\n",
    "## Prior knowledge\n",
    "\n",
    "* Basics on thermodynamics and statistical mechanics.\n",
    "* Basics on coarse-grained simulation methods: molecular dynamics and Langevin dynamics.\n",
    "* Correlation functions.\n",
    "* Pair structure and radial distribution function."
   ]
  },
  {
   "cell_type": "markdown",
   "id": "964097b5",
   "metadata": {},
   "source": [
    "## The Lennard-Jones Potential\n",
    "\n",
    "A pair  of  neutral  atoms  or  molecules  is  subject  to  two  distinct  forces  in  the  limit  of large separation and small separation:  an attractive force at long ranges (van der Waals force, or dispersion force) and a repulsive force at short ranges (the result of overlapping electron  orbitals,  referred  to  as  Pauli  repulsion  from  the Pauli  exclusion principle). The Lennard-Jones potential (also  referred  to  as  the  LJ potential, 6-12 potential  or, less commonly, 12-6 potential) is a simple mathematical model that represents this behavior. It  was  proposed  in  1924  by  John  Lennard-Jones. The  LJ  potential  is  of  the  form\n",
    "\n",
    "\\begin{equation}\n",
    "V(r) = 4\\epsilon \\left[ \\left( \\dfrac{\\sigma}{r} \\right)^{12} - \\left( \\dfrac{\\sigma}{r} \\right)^{6} \\right]\n",
    "\\end{equation}\n",
    "\n",
    "where $\\epsilon$ is the depth of the potential well, providing a measure of the attraction strength, $\\sigma$ is the (finite) distance at which the inter-particle potential is zero and $r$ is the distance between the particles. The $\\left(\\frac{1}{r}\\right)^{12}$ term describes repulsion and the $\\left(\\frac{1}{r}\\right)^{6}$  term describes attraction. The Lennard-Jones potential is an\n",
    "approximation. The form of the repulsion term has no theoretical justification; the repulsion force should depend exponentially on the distance, but the inverse power form of the repulsion term of the LJ formula is more convenient due to the ease and efficiency of computing $r^{12}$ as the square of $r^6$.\n",
    "\n",
    "In simulations, the LJ potential is typically cut off beyond a specified distance $r_{\\mathrm{cut}}$, i.e. the potential is zero for distances larger than the cutoff distance. Also an additional potential shift $c_{\\mathrm{shift}}$ can be added:\n",
    "\n",
    "\\begin{equation}\n",
    "V(r) = \\begin{cases}4\\epsilon \\left[ \\left( \\dfrac{\\sigma}{r} \\right)^{12} - \\left( \\dfrac{\\sigma}{r} \\right)^{6} \\right] + c_{\\mathrm{shift}} && 0<r\\leq r_{\\mathrm{cut}} \\\\ 0 && r > r_{\\mathrm{cut}} \\end{cases}\n",
    "\\end{equation}\n",
    "\n",
    "For example, the LJ potential could be cut off at $r_{\\mathrm{cut}}=2^{1/6}\\sigma$, which corresponds to the location of the potential minimum. One can then shift the potential up by $c_{\\mathrm{shift}}=\\epsilon$ to make it continuous, resulting in a purely repulsive version of the LJ potential, commonly known as the [Weeks–Chandler–Andersen potential](https://espressomd.github.io/doc/inter_non-bonded.html#weeks-chandler-andersen-interaction). Another common choice for the cutoff is $r_{\\mathrm{cut}}=2.5\\sigma$, beyond which the potential is consistently $|V(r>r_{\\mathrm{cut}})| < 0.02 \\epsilon$. In this case, $c_{\\mathrm{shift}}$ is chosen such that the potential is continuous at $r_{\\mathrm{cut}}$. The main advantage of this truncated version of the LJ potential is that it is  significantly cheaper computationally, while the error due to the missing tail is negligible.\n",
    "\n",
    "Originally LJ has been introduced to describe Van der Waals interactions in molecular systems, but nowadays it is often used to represent generic particles in coarse-grained simulations, such as polymer systems. "
   ]
  },
  {
   "cell_type": "code",
   "execution_count": null,
   "id": "45a548bd",
   "metadata": {},
   "outputs": [],
   "source": [
    "import numpy as np\n",
    "%matplotlib inline\n",
    "import matplotlib.pyplot as plt\n",
    "plt.rcParams.update({'font.size': 18})\n",
    "\n",
    "def lj_pot(x, epsilon, sigma, r_cut, c_shift=0.0):\n",
    "    pot = 4.0 * epsilon * ((sigma / x)**12 - (sigma / x)**6) + c_shift\n",
    "    pot[x > r_cut] = 0.\n",
    "    return pot\n",
    "\n",
    "epsilon = 1.0  # energy in units of k_BT\n",
    "sigma = 1.0    # distance in units of sigma\n",
    "\n",
    "xs = np.linspace(0.5, 3, 100)\n",
    "ys_lj = lj_pot(xs, epsilon, sigma, r_cut=xs[-1])\n",
    "ys_WCA = lj_pot(xs, epsilon, sigma, r_cut=2**(1/6) * sigma, c_shift=epsilon)\n",
    "\n",
    "fig = plt.figure(figsize=(10, 6))\n",
    "plt.plot(xs, ys_lj, label='LJ')\n",
    "plt.plot(xs, ys_WCA, label='WCA')\n",
    "plt.axhline(y=0, color='grey')\n",
    "plt.xlabel(\"$r/\\sigma$\")\n",
    "plt.ylabel(\"$V(r)/(k_{\\mathrm{B}}T)$\")\n",
    "plt.legend()\n",
    "plt.ylim(-1.5, 2.5)\n",
    "plt.show()"
   ]
  },
  {
   "cell_type": "markdown",
   "id": "8b1c8d97",
   "metadata": {},
   "source": [
    "## Units\n",
    "\n",
    "Novice users must understand that ESPResSo has no fixed unit system. The unit \n",
    "system is set by the user. Conventionally, reduced units are employed. For instance, the potential can be expressed in units of $k_{\\mathrm{B}}T$:\n",
    "$$V^*(r^*)=\\beta V(r^*) = 4\\epsilon^* \\left[ \\left( \\dfrac{1}{r^*} \\right)^{12} - \\left( \\dfrac{1}{r^*} \\right)^{6} \\right]$$\n",
    "with $\\beta=(k_{\\mathrm{B}}T)^{-1}$, $\\epsilon^*=\\beta\\epsilon$ and $r^*=r/\\sigma$. We have used $\\sigma$ as unit of distance.\n",
    "\n",
    "For more information on units, please check the [documentation on units](https://espressomd.github.io/doc/introduction.html#on-units)."
   ]
  },
  {
   "cell_type": "markdown",
   "id": "b246851e",
   "metadata": {},
   "source": [
    "## Lennard-Jones fluid\n",
    "In the following simulations, we are going to model a single-species Lennard-Jones fluid at constant number of particles $N$, density $\\rho=\\frac{N}{V}$ and temperature $T$. Depending on the chosen parameters, the system might  present different phase behavior, leading to solid, liquid and gas phases. Simulations will allow us to characterize these different phases structurally by means of the radial distribution function. \n",
    "\n",
    "For a more detailed discussion on simulation results about phase diagrams of Lennard-Jones fluids, see <a href='#[5]'>[5]</a>."
   ]
  },
  {
   "cell_type": "markdown",
   "id": "9d3191ec",
   "metadata": {},
   "source": [
    "## First steps\n",
    "\n",
    "What is ESPResSo? It is an extensible, efficient Molecular Dynamics package specially powerful on simulating charged systems. In depth information about the package can be found in the relevant sources <a href='#[1]'>[1,4,2,3]</a>.\n",
    "\n",
    "ESPResSo consists of two components. The simulation engine is written in C++ for the sake of computational efficiency. The steering or control level is interfaced to the kernel via an interpreter of the Python scripting languages.\n",
    "\n",
    "The kernel performs all computationally demanding tasks. Before all, integration of Newton's equations of motion, including calculation of energies and forces. It also takes care of internal organization of data, storing the data about particles, communication between different processors or cells of the cell-system.\n",
    "\n",
    "The scripting interface (Python) is used to setup the system (particles, boundary conditions, interactions etc.), control the simulation, run analysis, and store and load results. The user has at hand the full reliability and functionality of the scripting language. For instance, it is possible to use the SciPy package for analysis and PyPlot for plotting.\n",
    "With a certain overhead in efficiency, it can also be used to reject/accept new configurations in combined MD/MC schemes. In principle, any parameter which is accessible from the scripting level can be changed at any moment of runtime. In this way methods like thermodynamic integration become readily accessible.\n",
    "\n",
    "_Note: This tutorial assumes that you already have a working ESPResSo\n",
    "installation on your system. If this is not the case, please consult the first chapters of the user's guide for [installation instructions](https://espressomd.github.io/doc/installation.html#installation)._"
   ]
  },
  {
   "cell_type": "markdown",
   "id": "b174a451",
   "metadata": {},
   "source": [
    "## Overview of a simulation script\n",
    "\n",
    "Typically, a simulation script consists of the following parts:\n",
    "\n",
    "* System setup (box geometry, thermodynamic ensemble, integrator parameters)\n",
    "* Placing the particles\n",
    "* Setup of interactions between particles\n",
    "* Equilibration (bringing the system into a state suitable for measurements)\n",
    "* Integration loop (propagate the system in time and record measurements)"
   ]
  },
  {
   "cell_type": "markdown",
   "id": "ad5a4030",
   "metadata": {},
   "source": [
    "### System setup\n",
    "\n",
    "The functionality of ESPResSo for python is provided via a python module called ``espressomd``. At the beginning of the simulation script, it has to be imported."
   ]
  },
  {
   "cell_type": "code",
   "execution_count": null,
   "id": "5e93710a",
   "metadata": {},
   "outputs": [],
   "source": [
    "import espressomd\n",
    "import espressomd.observables\n",
    "import espressomd.accumulators\n",
    "import espressomd.analyze\n",
    "import espressomd.visualizer_zndraw as visual\n",
    "required_features = [\"LENNARD_JONES\"]\n",
    "espressomd.assert_features(required_features)"
   ]
  },
  {
   "cell_type": "markdown",
   "id": "9134f428",
   "metadata": {},
   "source": [
    "The function ``espressomd.assert_features()`` expects a list of features as argument and checks they are available in the ESPResSo executable. If a required feature is missing, the program will print an error message and halt. To compile ESPResSo with a different set of features, see the [documentation on features](https://espressomd.github.io/doc/installation.html#features)."
   ]
  },
  {
   "cell_type": "code",
   "execution_count": null,
   "id": "2e33ba73",
   "metadata": {},
   "outputs": [],
   "source": [
    "import scipy.optimize\n",
    "np.random.seed(42)\n",
    "\n",
    "# System parameters\n",
    "N_PART = 200\n",
    "DENSITY = 0.75\n",
    "\n",
    "BOX_L = np.power(N_PART / DENSITY, 1.0 / 3.0) * np.ones(3)"
   ]
  },
  {
   "cell_type": "markdown",
   "id": "1060ad04",
   "metadata": {},
   "source": [
    "The next step would be to create an instance of the System class. This instance is used as a handle to the simulation system. At any time, only one instance of the System class can exist."
   ]
  },
  {
   "cell_type": "markdown",
   "id": "1079982f",
   "metadata": {},
   "source": [
    "**Exercise:**\n",
    "\n",
    "* Create an instance of an espresso system and store it in a variable called <tt>system</tt>;\n",
    "  use <tt>BOX_L</tt> as box length.\n",
    "\n",
    "See [ESPResSo documentation](https://espressomd.github.io/doc/system_setup.html) and [module documentation](https://espressomd.github.io/doc/espressomd.html#module-espressomd.system)."
   ]
  },
  {
   "cell_type": "code",
   "execution_count": null,
   "id": "a8636f21",
   "metadata": {},
   "outputs": [],
   "source": [
    "# SOLUTION CELL\n",
    "system = espressomd.System(box_l=BOX_L)"
   ]
  },
  {
   "cell_type": "code",
   "execution_count": null,
   "id": "13275327",
   "metadata": {},
   "outputs": [],
   "source": []
  },
  {
   "cell_type": "code",
   "execution_count": null,
   "id": "1678565d",
   "metadata": {
    "code_folding": []
   },
   "outputs": [],
   "source": [
    "# Test solution of Exercise 1\n",
    "assert isinstance(system, espressomd.System)"
   ]
  },
  {
   "cell_type": "markdown",
   "id": "ee31215c",
   "metadata": {},
   "source": [
    "It can be used to store and manipulate the crucial system parameters like the time step and the size of the simulation box (<tt>time_step</tt>, and <tt>box_l</tt>)."
   ]
  },
  {
   "cell_type": "code",
   "execution_count": null,
   "id": "608e275e",
   "metadata": {},
   "outputs": [],
   "source": [
    "SKIN = 0.4\n",
    "TIME_STEP = 0.01\n",
    "\n",
    "system.time_step = TIME_STEP\n",
    "system.cell_system.skin = SKIN"
   ]
  },
  {
   "cell_type": "markdown",
   "id": "b432b7ae",
   "metadata": {},
   "source": [
    "The parameter ``SKIN`` affects how often the Verlet lists will be updated. This parameter does not influence the physics of the simulation. It can however have a significant impact on the performance of the simulation. Depending on system parameters such as density and temperature, the optimal ``SKIN`` parameter can vary considerably. Please be aware that ESPResSo implements the function [``tune_skin()``](https://espressomd.github.io/doc/espressomd.html#espressomd.cell_system.CellSystem.tune_skin) that automatically tunes ``SKIN`` for optimal performance.\n",
    "\n",
    "### Placing and accessing particles\n",
    "\n",
    "Particles in the simulation can be added and accessed via the <tt>part</tt> property of the System class. Individual  particles should be referred to by the particle handle returned upon creation. You can also retrieve them by an integer id, e.g. <tt>system.part.by_id(0)</tt>. If <tt>id</tt> is unspecified when creating a particle, an unused particle id is automatically assigned. It  is  also possible to use common python iterators and slicing operations to add or access several particles at once.\n",
    "\n",
    "Particles can be grouped into several types, so that, e.g., a binary fluid can be simulated. Particle types are identified by integer ids, which are set via the particles' <tt>type</tt> attribute. If it is not specified, zero is implied."
   ]
  },
  {
   "cell_type": "markdown",
   "id": "63abbb11",
   "metadata": {},
   "source": [
    "<!-- **Exercise:** -->\n",
    "\n",
    "* Create <tt>N_PART</tt> particles at random positions, store their handles in a variable called ``particles``.\n",
    "\n",
    "  Use [system.part.add()](https://espressomd.github.io/doc/espressomd.html#espressomd.particle_data.ParticleList).\n",
    "  \n",
    "  Use an (<tt>N_PART</tt> x 3) array for positions.\n",
    "  Use <tt>np.random.random()</tt> to generate random numbers."
   ]
  },
  {
   "cell_type": "code",
   "execution_count": null,
   "id": "0e4f59b3",
   "metadata": {},
   "outputs": [],
   "source": [
    "# SOLUTION CELL\n",
    "particles = system.part.add(type=[0] * N_PART, pos=np.random.random((N_PART, 3)) * system.box_l)"
   ]
  },
  {
   "cell_type": "code",
   "execution_count": null,
   "id": "655d49e6",
   "metadata": {},
   "outputs": [],
   "source": []
  },
  {
   "cell_type": "code",
   "execution_count": null,
   "id": "2f2f53ee",
   "metadata": {},
   "outputs": [],
   "source": [
    "# Test that now we have indeed N_PART particles in the system\n",
    "assert len(system.part) == N_PART"
   ]
  },
  {
   "cell_type": "markdown",
   "id": "b2f887a1",
   "metadata": {},
   "source": [
    "The particle properties can be accessed using standard numpy slicing syntax:"
   ]
  },
  {
   "cell_type": "code",
   "execution_count": null,
   "id": "fd3176d9",
   "metadata": {},
   "outputs": [],
   "source": [
    "# Access position of a single particle\n",
    "print(f\"position of particle with id 0: {system.part.by_id(0).pos}\")\n",
    "\n",
    "# Iterate over the first five particles for the purpose of demonstration.\n",
    "first_five = system.part.by_ids(range(5))\n",
    "for p in first_five:\n",
    "    print(f\"id {p.id} position: {p.pos}\")\n",
    "    print(f\"id {p.id} velocity: {p.v}\")\n",
    "\n",
    "# Obtain particle positions for the particles created until now\n",
    "cur_pos = particles.pos"
   ]
  },
  {
   "cell_type": "markdown",
   "id": "96de4a92",
   "metadata": {},
   "source": [
    "You can also get all particles using ``system.part.all()``, but ``particles`` already contains all particles that are in the simulation so far."
   ]
  },
  {
   "cell_type": "markdown",
   "id": "eca3a2cd",
   "metadata": {},
   "source": [
    "Many objects in ESPResSo have a string representation, and thus can be displayed via python's <tt>print</tt> function:"
   ]
  },
  {
   "cell_type": "code",
   "execution_count": null,
   "id": "3af53b21",
   "metadata": {},
   "outputs": [],
   "source": [
    "print(system.part.by_id(0))"
   ]
  },
  {
   "cell_type": "markdown",
   "id": "e118ebf2",
   "metadata": {},
   "source": [
    "### Setting up non-bonded interactions\n",
    "\n",
    "Non-bonded interactions act between all particles of a given combination of particle types. In this tutorial, we use the Lennard-Jones non-bonded interaction. First we define the LJ parameters"
   ]
  },
  {
   "cell_type": "code",
   "execution_count": null,
   "id": "b56c6f99",
   "metadata": {},
   "outputs": [],
   "source": [
    "# use LJ units: EPS=SIG=1\n",
    "LJ_EPS = 1.0\n",
    "LJ_SIG = 1.0\n",
    "LJ_CUT = 2.5 * LJ_SIG"
   ]
  },
  {
   "cell_type": "markdown",
   "id": "61a87a94",
   "metadata": {},
   "source": [
    "In a periodic system, it is in general not straightforward to calculate all non-bonded interactions. As mentioned earlier in the text, usually a cutoff distance $r_{\\mathrm{cut}}$ is applied for infinite-range potentials like Lennard-Jones, such that $V(r>r_{\\mathrm{cut}}) = 0$. The potential can be shifted to zero at the cutoff value to ensure continuity using the <tt>shift='auto'</tt> option of [espressomd.interactions.LennardJonesInteraction](https://espressomd.github.io/doc/espressomd.html#espressomd.interactions.LennardJonesInteraction).\n",
    "For comparison with the fundamental work on MD simulations of LJ systems <a href='#[7]'>[7]</a>, we do NOT shift the potential to zero at the cutoff in this tutorial and instead correct for the long-range error $V_{\\mathrm{lr}}$ later. However, it is strongly recommended to implement <tt>shift='auto'</tt> in any other case to ensure continuity of the potential!\n",
    "\n",
    "To avoid spurious self-interactions of particles with their periodic images one usually forces that the shortest box length is at least twice the cutoff distance:"
   ]
  },
  {
   "cell_type": "code",
   "execution_count": null,
   "id": "6df16ff1",
   "metadata": {},
   "outputs": [],
   "source": [
    "assert (BOX_L - 2 * SKIN > LJ_CUT).all()"
   ]
  },
  {
   "cell_type": "markdown",
   "id": "ca573cca",
   "metadata": {},
   "source": [
    "**Exercise:**\n",
    "\n",
    "* Setup a Lennard-Jones interaction with $\\epsilon=$<tt>LJ_EPS</tt> and $\\sigma=$<tt>LJ_SIG</tt> that is cut at $r_{\\mathrm{cut}}=$<tt>LJ_CUT</tt>$\\times\\sigma$ and not shifted.\n",
    "  \n",
    "**Hint:** \n",
    "* Have a look at the [documentation on non-bonded interactions](https://espressomd.github.io/doc/inter_non-bonded.html)"
   ]
  },
  {
   "cell_type": "code",
   "execution_count": null,
   "id": "65054f30",
   "metadata": {},
   "outputs": [],
   "source": [
    "# SOLUTION CELL\n",
    "system.non_bonded_inter[0, 0].lennard_jones.set_params(\n",
    "    epsilon=LJ_EPS, sigma=LJ_SIG, cutoff=LJ_CUT, shift=0)"
   ]
  },
  {
   "cell_type": "code",
   "execution_count": null,
   "id": "91ac5e57",
   "metadata": {},
   "outputs": [],
   "source": []
  },
  {
   "cell_type": "markdown",
   "id": "5e6332fb",
   "metadata": {},
   "source": [
    "### Energy minimization\n",
    "\n",
    "In many cases, including this tutorial, particles are initially placed randomly in the simulation box. It is therefore possible that particles overlap, resulting in a huge repulsive force between them. In this case, integrating the equations of motion would not be numerically stable. Hence, it is necessary to remove possible overlaps. This is typically done by performing a steepest descent minimization of the potential energy until a maximal force criterion is reached.\n",
    "\n",
    "**Note:**\n",
    "Making sure a system is properly equilibrated highly depends on the system details.\n",
    "In most cases a relative convergence criterion on the forces and/or energies works well but you might have to make sure that the total force is smaller than a threshold value <tt>f_max</tt> at the end of the minimization.\n",
    "Depending on the simulated system, other strategies might be necessary, such as simulating with a small time step or with capped forces."
   ]
  },
  {
   "cell_type": "code",
   "execution_count": null,
   "id": "bdc3bb16",
   "metadata": {},
   "outputs": [],
   "source": [
    "# suitable minimization parameters for this LJ system\n",
    "F_TOL = 1e-2\n",
    "DAMPING = 30\n",
    "MAX_STEPS = 10000\n",
    "MAX_DISPLACEMENT = 0.01 * LJ_SIG\n",
    "EM_STEP = 10"
   ]
  },
  {
   "cell_type": "markdown",
   "id": "b560a981",
   "metadata": {},
   "source": [
    "**Exercise:**\n",
    "\n",
    "* Use [<tt>espressomd.integrate.set_steepest_descent</tt>](https://espressomd.github.io/doc/integration.html#steepest-descent) to relax the initial configuration.\n",
    "  Use a maximal displacement $\\vec{r}_{\\mathrm{max}}$ of <tt>MAX_DISPLACEMENT</tt>.\n",
    "  The particle displacement is related to the particle force via a damping constant $\\gamma$, such that $\\vec{r}(t + dt) = \\vec{r}(t) + \\min(\\gamma \\vec{F}(t), \\vec{r}_{\\mathrm{max}})$. Use a damping constant  <tt>gamma = DAMPING</tt>.\n",
    "* Use the relative change of the system maximal force as a convergence criterion.\n",
    "  Check the documentation [<tt>espressomd.particle_data</tt> module](https://espressomd.github.io/doc/espressomd.html#module-espressomd.particle_data) to obtain the forces.\n",
    "  The steepest descent has converged if the relative force change between two rounds of minimizations is less than the threshold value <tt>F_TOL</tt>. Note that by default [<tt>espressomd.integrate.set_steepest_descent</tt>](https://espressomd.github.io/doc/espressomd.html#espressomd.integrate.SteepestDescent) will halt when the system maximal force is less than some value <tt>f_max</tt>. When a custom convergence criterion is implemented, as it is the case here, the default convergence criterion needs to be disabled by setting <tt>f_max=0</tt>.\n",
    "* Break the minimization loop after a maximal number of <tt>MAX_STEPS</tt> steps or if convergence is achieved.\n",
    "  Check for convergence every <tt>EMSTEP</tt> steps.\n",
    "\n",
    "***Hint:*** To obtain the initial forces one has to initialize the integrator using <tt>integ_steps=0</tt>, i.e. call <tt>system.integrator.run(0)</tt> before accessing the force array."
   ]
  },
  {
   "cell_type": "code",
   "execution_count": null,
   "id": "191c8dc8",
   "metadata": {},
   "outputs": [],
   "source": [
    "# SOLUTION CELL\n",
    "# Set up steepest descent integration\n",
    "system.integrator.set_steepest_descent(f_max=0,  # use a relative convergence criterion only\n",
    "                                       gamma=DAMPING,\n",
    "                                       max_displacement=MAX_DISPLACEMENT)\n",
    "\n",
    "# Initialize integrator to obtain initial forces\n",
    "system.integrator.run(0)\n",
    "old_force = np.max(np.linalg.norm(system.part.all().f, axis=1))\n",
    "\n",
    "\n",
    "while system.time / system.time_step < MAX_STEPS:\n",
    "    system.integrator.run(EM_STEP)\n",
    "    force = np.max(np.linalg.norm(system.part.all().f, axis=1))\n",
    "    rel_force = np.abs((force - old_force) / old_force)\n",
    "    print(f'rel. force change: {rel_force:.2e}')\n",
    "    if rel_force < F_TOL:\n",
    "        break\n",
    "    old_force = force"
   ]
  },
  {
   "cell_type": "code",
   "execution_count": null,
   "id": "62f80d15",
   "metadata": {},
   "outputs": [],
   "source": []
  },
  {
   "cell_type": "code",
   "execution_count": null,
   "id": "2a8debc0",
   "metadata": {},
   "outputs": [],
   "source": [
    "# reset clock\n",
    "system.time = 0."
   ]
  },
  {
   "cell_type": "markdown",
   "id": "e4351d0b",
   "metadata": {},
   "source": [
    "### Choosing the thermodynamic ensemble, thermostat\n",
    "\n",
    "Simulations can be carried out in different thermodynamic ensembles such as\n",
    "NVE (particle **N**umber, **V**olume, **E**nergy),\n",
    "NVT (particle **N**umber, **V**olume, **T**emperature) or isotropic\n",
    "NpT (particle **N**umber, **p**ressure, **T**emperature).\n",
    "\n",
    "In this tutorial, we use a NVT ensemble with the Langevin thermostat."
   ]
  },
  {
   "cell_type": "code",
   "execution_count": null,
   "id": "af768ec5",
   "metadata": {},
   "outputs": [],
   "source": [
    "# Parameters for the Langevin thermostat\n",
    "# reduced temperature T* = k_B T / LJ_EPS\n",
    "TEMPERATURE = 0.827  # value from Tab. 1 in [7]\n",
    "GAMMA = 1.0"
   ]
  },
  {
   "cell_type": "markdown",
   "id": "946930a2",
   "metadata": {},
   "source": [
    "**Exercise:**\n",
    "\n",
    "* Use <tt>system.integrator.set_vv()</tt> to use a Velocity Verlet integration scheme and\n",
    "  <tt>system.thermostat.set_langevin()</tt> to turn on the Langevin thermostat. Set the reduced temperature to ``TEMPERATURE`` and the solvent friction coefficient to ``GAMMA``. Initialize the random number generator of the thermostat with an integer seed.\n",
    "  \n",
    "The Langevin thermostat maintains the system temperature at a constant value by mimicking the effect of an implicit solvent with large heat capacity that acts as a heat reservoir. This is achieved by introducing both a friction term and a stochastic term in the Newton's equations of motion (for details see the [documentation on thermostats](https://espressomd.github.io/doc/integration.html#langevin-thermostat))."
   ]
  },
  {
   "cell_type": "code",
   "execution_count": null,
   "id": "9e8e7ea7",
   "metadata": {},
   "outputs": [],
   "source": [
    "# SOLUTION CELL\n",
    "system.integrator.set_vv()\n",
    "system.thermostat.set_langevin(kT=TEMPERATURE, gamma=GAMMA, seed=42)"
   ]
  },
  {
   "cell_type": "code",
   "execution_count": null,
   "id": "42c573df",
   "metadata": {},
   "outputs": [],
   "source": []
  },
  {
   "cell_type": "markdown",
   "id": "0a979258",
   "metadata": {},
   "source": [
    "### Integrating equations of motion and taking manual measurements\n",
    "\n",
    "Now, we integrate the equations of motion and take measurements of relevant quantities."
   ]
  },
  {
   "cell_type": "code",
   "execution_count": null,
   "id": "28880161",
   "metadata": {
    "code_folding": []
   },
   "outputs": [],
   "source": [
    "# Integration parameters\n",
    "STEPS_PER_SAMPLE = 20\n",
    "N_SAMPLES = 1000\n",
    "\n",
    "times = np.zeros(N_SAMPLES)\n",
    "e_total = np.zeros_like(times)\n",
    "e_kin = np.zeros_like(times)\n",
    "T_inst = np.zeros_like(times)"
   ]
  },
  {
   "cell_type": "markdown",
   "id": "070abeaf",
   "metadata": {},
   "source": [
    "**Exercise:**\n",
    "\n",
    "* Integrate the system and measure the total and kinetic energy. Take ``N_SAMPLES`` measurements every ``STEPS_PER_SAMPLE`` integration steps. Notice that the total simulated time in LJ units is given by the product <tt>N_SAMPLES</tt> $\\times$ <tt>STEPS_PER_SAMPLE</tt> $\\times$ <tt>TIME_STEP</tt>.\n",
    "* Calculate the total and kinetic energies using the analysis method [<tt>system.analysis.energy()</tt>](https://espressomd.github.io/doc/espressomd.html#module-espressomd.analyze).\n",
    "* Use the containers ``times``, ``e_total`` and ``e_kin`` from the cell above to store the time series.\n",
    "* From the simulation results, calculate the kinetic temperature $T_{\\mathrm{inst}} = 2/3 \\times E_{\\mathrm{kin}}$ / <tt>N_PART</tt>."
   ]
  },
  {
   "cell_type": "code",
   "execution_count": null,
   "id": "fd9402b3",
   "metadata": {},
   "outputs": [],
   "source": [
    "# SOLUTION CELL\n",
    "vis = visual.Visualizer(system)\n",
    "for i in range(N_SAMPLES):\n",
    "    times[i] = system.time\n",
    "    energy = system.analysis.energy()\n",
    "    e_total[i] = energy['total']\n",
    "    e_kin[i] = energy['kinetic']\n",
    "    system.integrator.run(STEPS_PER_SAMPLE)\n",
    "    vis.update()\n",
    "T_inst = 2. / 3. * e_kin / N_PART"
   ]
  },
  {
   "cell_type": "code",
   "execution_count": null,
   "id": "c53290b6",
   "metadata": {},
   "outputs": [],
   "source": []
  },
  {
   "cell_type": "code",
   "execution_count": null,
   "id": "aaef92c3",
   "metadata": {},
   "outputs": [],
   "source": [
    "plt.figure(figsize=(10, 6))\n",
    "plt.plot(times, T_inst, label='$T_{\\\\mathrm{inst}}$')\n",
    "plt.plot(times, [TEMPERATURE] * len(times), label='$T$ set by thermostat')\n",
    "plt.legend()\n",
    "plt.xlabel('t')\n",
    "plt.ylabel('T')\n",
    "plt.show()"
   ]
  },
  {
   "cell_type": "markdown",
   "id": "374b9a32",
   "metadata": {},
   "source": [
    "Since the ensemble average $\\langle E_{\\mathrm{kin}}\\rangle=3/2 N k_B T$ is related to the temperature,\n",
    "we may compute the actual temperature of the system via $k_B T= 2/(3N) \\langle E_{\\mathrm{kin}}\\rangle$.\n",
    "Note the *thermodynamic* temperature $T$ is fixed and does not fluctuate in the NVT ensemble!\n",
    "The *kinetic* temperature calculated via $T_{\\mathrm{inst}} = 2/(3N) E_{\\mathrm{kin}}$ (without ensemble averaging)\n",
    "is allowed to fluctuate, but it is not the temperature of the system ($T = \\langle T_{\\mathrm{inst}} \\rangle$)."
   ]
  },
  {
   "cell_type": "markdown",
   "id": "30cd6329",
   "metadata": {},
   "source": [
    "In the first simulation run, we picked ``STEPS_PER_SAMPLE`` arbitrarily. To ensure proper statistics, we will subsample the time series to reduce correlation between consecutive measurements. In order to do this, we first have to remove the beginning of the time series, because the system was out of equilibrium. The time to reach equilibrium depends on the thermostat friction coefficient gamma and can be determined visually from the plot."
   ]
  },
  {
   "cell_type": "code",
   "execution_count": null,
   "id": "1faa4fa3",
   "metadata": {},
   "outputs": [],
   "source": [
    "# Use only the data where the system is at equilibrium\n",
    "equilibration_time = 15\n",
    "e_total = e_total[times > equilibration_time]\n",
    "e_kin = e_kin[times > equilibration_time]\n",
    "times = times[times > equilibration_time]\n",
    "times -= times[0]"
   ]
  },
  {
   "cell_type": "markdown",
   "id": "66340c8e",
   "metadata": {},
   "source": [
    "Notice that <tt>equilibration_time</tt> is not known *a priori*. It has to be found by trial and error for the given set of input parameters.\n",
    "\n",
    "### Autocorrelation function and correlation time\n",
    "\n",
    "In simulations, the knowledge of the time evolution of the particle positions and velocities allows for the calculation of autocorrelation functions and autocorrelation time. \n",
    "\n",
    "Correlation functions are useful to quantify how microscopic observables at different positions or times of a system are related one another. One particular example is the equilibrium velocity autocorrelation function\n",
    "$$C(\\tau)=\\langle {\\bf v}(0)\\cdot{\\bf v}(\\tau)\\rangle,$$\n",
    "that relates the velocities at different times along an equilibrium trajectory <a href='#[8]'>[8]</a>. Time correlation functions are typically decaying functions in fluid systems, whose decay is characterized by the so-called correlation time $\\xi$. We say that two samples of a given system taken at time $t'$ and $t''$, respectively, are uncorrelated for a certain observable $X$, if $t'-t''\\gg \\xi_X $.\n",
    "\n",
    "The ESPResSo module <tt>espressomd.analyze</tt> provides a function to compute the autocorrelation of time series. By means of [<tt>espressomd.analyze.autocorrelation(X)</tt>](https://espressomd.github.io/doc/espressomd.html#espressomd.analyze.autocorrelation), it is possible to calculate the unnormalized autocorrelation function of an observable $X$ measured at time $t$ with constant time step for lag times $\\tau$. This method neither subtracts the mean value nor normalizes by the variance of the provided time series."
   ]
  },
  {
   "cell_type": "code",
   "execution_count": null,
   "id": "7af26ea6",
   "metadata": {},
   "outputs": [],
   "source": [
    "def autocor(x):\n",
    "    x = np.asarray(x)\n",
    "    mean = np.mean(x)\n",
    "    var = np.var(x)\n",
    "    xp = x - mean\n",
    "    corr = espressomd.analyze.autocorrelation(xp) / var\n",
    "    return corr\n",
    "\n",
    "\n",
    "def fit_correlation_time(data, ts):\n",
    "    data = np.asarray(data)\n",
    "    data /= data[0]\n",
    "\n",
    "    def fitfn(t, t_corr): return np.exp(-t / t_corr)\n",
    "    popt, pcov = scipy.optimize.curve_fit(fitfn, ts, data)\n",
    "    return popt[0]"
   ]
  },
  {
   "cell_type": "markdown",
   "id": "966dcf9c",
   "metadata": {},
   "source": [
    "**Exercise**\n",
    "* Calculate the autocorrelation of the total energy (store in ``e_total_autocor``). Calculate the correlation time $\\xi$ (``corr_time``). Calculate a quantity ``steps_per_subsample`` that represents the number of integration steps necessary to advance the simulation time by $3\\xi$. This is a conservative quantity that will help us subsample the time series in such a way that the correlation between two consecutive samples is small ($e^{-3} \\simeq 5\\%$).\n",
    "\n",
    "The value ``steps_per_subsample`` is somewhat arbitrary and was chosen as a trade-off between accuracy and simulation runtime for the purpose of this tutorial. In a research project, you would run simulations for a lot longer and increase the time between subsamples to reduce the residual correlation even further. Please refer to the Error Analysis tutorial for an in-depth discussion of time series autocorrelation."
   ]
  },
  {
   "cell_type": "code",
   "execution_count": null,
   "id": "764038ae",
   "metadata": {},
   "outputs": [],
   "source": [
    "# SOLUTION CELL\n",
    "e_total_autocor = autocor(e_total)\n",
    "corr_time = fit_correlation_time(e_total_autocor[:100], times[:100])\n",
    "steps_per_subsample = int(np.ceil(3 * corr_time / system.time_step))"
   ]
  },
  {
   "cell_type": "code",
   "execution_count": null,
   "id": "94fc76b6",
   "metadata": {},
   "outputs": [],
   "source": []
  },
  {
   "cell_type": "code",
   "execution_count": null,
   "id": "66c516f2",
   "metadata": {},
   "outputs": [],
   "source": [
    "print(f'steps_per_subsample = {steps_per_subsample}')"
   ]
  },
  {
   "cell_type": "markdown",
   "id": "2915cacd",
   "metadata": {},
   "source": [
    "We plot the autocorrelation function and the fit to visually confirm a roughly exponential decay"
   ]
  },
  {
   "cell_type": "code",
   "execution_count": null,
   "id": "8ad5927d",
   "metadata": {},
   "outputs": [],
   "source": [
    "plt.figure(figsize=(10, 6))\n",
    "plt.plot(times[1:], e_total_autocor[1:], label='data')\n",
    "plt.plot(times[1:], np.exp(-times[1:] / corr_time), label='exponential fit')\n",
    "plt.plot(2 * [steps_per_subsample * system.time_step],\n",
    "         [min(e_total_autocor), 1], label='subsampling interval')\n",
    "plt.ylim(top=1.2, bottom=-0.15)\n",
    "plt.legend()\n",
    "plt.xscale('log')\n",
    "plt.xlabel('t')\n",
    "plt.ylabel('total energy autocorrelation')\n",
    "plt.show()"
   ]
  },
  {
   "cell_type": "markdown",
   "id": "44c1172a",
   "metadata": {},
   "source": [
    "In order to obtain equilibrium properties, we need to consider ensemble-averaged quantities. Assuming that the simulation is an ergodic process, averaging over uncorrelated samples would provide equilibrium results."
   ]
  },
  {
   "cell_type": "markdown",
   "id": "9634848b",
   "metadata": {},
   "source": [
    "**Exercise**:\n",
    "* Calculate the mean and standard error of the mean potential energy per particle using the formula for uncorrelated samples (define ``mean_pot_energy`` and ``SEM_pot_energy``).\n",
    "\n",
    "**Hint**\n",
    "* You know how many steps are between samples in ``e_total`` and how many steps are between subsamples. So you have to figure out how many samples to skip."
   ]
  },
  {
   "cell_type": "code",
   "execution_count": null,
   "id": "d07a547f",
   "metadata": {},
   "outputs": [],
   "source": [
    "# SOLUTION CELL\n",
    "subsample_step = int(np.ceil(steps_per_subsample / STEPS_PER_SAMPLE))\n",
    "pot_energies = (e_total - e_kin)[::subsample_step] / N_PART\n",
    "mean_pot_energy = np.mean(pot_energies)\n",
    "SEM_pot_energy = np.std(pot_energies) / np.sqrt(len(pot_energies))"
   ]
  },
  {
   "cell_type": "code",
   "execution_count": null,
   "id": "3e4a203c",
   "metadata": {},
   "outputs": [],
   "source": []
  },
  {
   "cell_type": "code",
   "execution_count": null,
   "id": "f5689773",
   "metadata": {},
   "outputs": [],
   "source": [
    "print(f'mean potential energy = {mean_pot_energy:.2f} +/- {SEM_pot_energy:.2f}')"
   ]
  },
  {
   "cell_type": "markdown",
   "id": "3b9f8f6f",
   "metadata": {},
   "source": [
    "For comparison to literature values we need to account for the error made by the LJ truncation.\n",
    "For an isotropic system one can assume that the density is homogeneous behind the cutoff, which allows to calculate the so-called long-range corrections to the energy and pressure:\n",
    "$$V_{\\mathrm{lr}} = \\frac{1}{2} \\rho \\int_{r_{\\mathrm{cut}}}^\\infty 4 \\pi r^2 g(r) V(r) \\,\\mathrm{d}r$$\n",
    "Using that the [radial distribution function](https://en.wikipedia.org/wiki/Radial_distribution_function) $g(r)=1$ for $r>r_{\\mathrm{cut}}$  one obtains\n",
    "$$V_{\\mathrm{lr}} = -\\frac{8}{3}\\pi  \\rho \\epsilon \\sigma^3 \\left[\\frac{1}{3} \\left(\\frac{\\sigma}{r_{\\mathrm{cut}}}\\right)^9 - \\left(\\frac{\\sigma}{r_{\\mathrm{cut}}}\\right)^3 \\right].$$\n",
    "Similarly, a long-range contribution to the pressure can be derived <a href='#[6]'>[6]</a>."
   ]
  },
  {
   "cell_type": "code",
   "execution_count": null,
   "id": "bb07e953",
   "metadata": {},
   "outputs": [],
   "source": [
    "tail_energy_per_particle = 8. / 3. * np.pi * DENSITY * LJ_EPS * \\\n",
    "    LJ_SIG**3 * (1. / 3. * (LJ_SIG / LJ_CUT)**9 - (LJ_SIG / LJ_CUT)**3)\n",
    "mean_pot_energy_corrected = mean_pot_energy + tail_energy_per_particle\n",
    "print(f'corrected mean potential energy = {mean_pot_energy_corrected:.2f}')"
   ]
  },
  {
   "cell_type": "markdown",
   "id": "2d675bda",
   "metadata": {},
   "source": [
    "This value differs quite strongly from the uncorrected one but agrees well with the literature value $U^i = -5.38$ given in Table 1 of Ref. <a href='#[7]'>[7]</a>."
   ]
  },
  {
   "cell_type": "markdown",
   "id": "be8d3071",
   "metadata": {},
   "source": [
    "### Automated data collection\n",
    "\n",
    "As we have seen, it is easy to manually extract information from an ESPResSo simulation, but it can get quite tedious. Therefore, ESPResSo provides a number of data collection tools to make life easier (and less error-prone). We will now demonstrate those with the calculation of the radial distribution function."
   ]
  },
  {
   "cell_type": "markdown",
   "id": "8ab7a5c6",
   "metadata": {},
   "source": [
    "[Observables](https://espressomd.github.io/doc/analysis.html#using-observables) extract properties from the particles and calculate some quantity with it, e.g. the center of mass, the total energy or a histogram.\n",
    "\n",
    "[Accumulators](https://espressomd.github.io/doc/analysis.html#accumulators) allow the calculation of observables while running the system and then doing further analysis. Examples are a simple time series or more advanced methods like correlators.\n",
    "For our purposes we need an accumulator that calculates the average of the RDF samples."
   ]
  },
  {
   "cell_type": "code",
   "execution_count": null,
   "id": "f5432ffa",
   "metadata": {},
   "outputs": [],
   "source": [
    "# Parameters for the radial distribution function\n",
    "BIN_WIDTH = 0.05\n",
    "R_MIN = 0.0\n",
    "R_MAX = system.box_l[0] / 2.0\n",
    "N_BINS = int((R_MAX-R_MIN)/BIN_WIDTH)"
   ]
  },
  {
   "cell_type": "markdown",
   "id": "c950b4ce",
   "metadata": {},
   "source": [
    "**Exercise**\n",
    "* Instantiate a [RDF](https://espressomd.github.io/doc/espressomd.html#espressomd.observables.RDF) observable\n",
    "* Instantiate a [MeanVarianceCalculator](https://espressomd.github.io/doc/analysis.html#mean-variance-calculator) accumulator to track the RDF over time. Samples should be taken every ``steps_per_subsample`` steps.\n",
    "* Add the accumulator to the [auto_update_accumulators](https://espressomd.github.io/doc/espressomd.html#espressomd.accumulators.AutoUpdateAccumulators) of the system for automatic updates"
   ]
  },
  {
   "cell_type": "code",
   "execution_count": null,
   "id": "f70b7883",
   "metadata": {},
   "outputs": [],
   "source": [
    "# SOLUTION CELL\n",
    "rdf_obs = espressomd.observables.RDF(ids1=system.part.all().id, min_r=R_MIN, max_r=R_MAX, n_r_bins=N_BINS)\n",
    "rdf_acc = espressomd.accumulators.MeanVarianceCalculator(obs=rdf_obs, delta_N=steps_per_subsample)\n",
    "system.auto_update_accumulators.add(rdf_acc)"
   ]
  },
  {
   "cell_type": "code",
   "execution_count": null,
   "id": "8de0795a",
   "metadata": {},
   "outputs": [],
   "source": []
  },
  {
   "cell_type": "markdown",
   "id": "51edfcf1",
   "metadata": {},
   "source": [
    "Now we don't need an elaborate integration loop anymore, instead the RDFs are calculated and accumulated automatically."
   ]
  },
  {
   "cell_type": "code",
   "execution_count": null,
   "id": "db0713b2",
   "metadata": {},
   "outputs": [],
   "source": [
    "system.integrator.run(N_SAMPLES * steps_per_subsample)"
   ]
  },
  {
   "cell_type": "markdown",
   "id": "88c5b87e",
   "metadata": {},
   "source": [
    "**Exercise**\n",
    "* Get the mean RDF (define ``rdf``) from the accumulator\n",
    "* Get the histogram bin centers (define ``rs``) from the observable"
   ]
  },
  {
   "cell_type": "code",
   "execution_count": null,
   "id": "9845e4a9",
   "metadata": {},
   "outputs": [],
   "source": [
    "# SOLUTION CELL\n",
    "rdf = rdf_acc.mean()\n",
    "rs = rdf_obs.bin_centers()"
   ]
  },
  {
   "cell_type": "code",
   "execution_count": null,
   "id": "18a10a12",
   "metadata": {},
   "outputs": [],
   "source": []
  },
  {
   "cell_type": "code",
   "execution_count": null,
   "id": "205cf0a2",
   "metadata": {},
   "outputs": [],
   "source": [
    "fig, ax = plt.subplots(figsize=(10, 7))\n",
    "ax.plot(rs, rdf, label='simulated')\n",
    "plt.legend()\n",
    "plt.xlabel('r')\n",
    "plt.ylabel('RDF')\n",
    "plt.show()"
   ]
  },
  {
   "cell_type": "markdown",
   "id": "719b7f21",
   "metadata": {},
   "source": [
    "We now plot the experimental radial distribution.\n",
    "Empirical radial distribution functions have been determined for pure fluids <a href='#[9]'>[9]</a>, mixtures <a href='#[10]'>[10]</a> and confined fluids <a href='#[11]'>[11]</a>. We will compare our distribution $g(r)$ to the theoretical distribution $g(r^*, \\rho^*, T^*)$ of a pure fluid <a href='#[9]'>[9]</a>."
   ]
  },
  {
   "cell_type": "code",
   "execution_count": null,
   "id": "ace06c01",
   "metadata": {},
   "outputs": [],
   "source": [
    "# comparison to literature\n",
    "def calc_literature_rdf(rs, temperature, density, LJ_eps, LJ_sig):\n",
    "    T_star = temperature / LJ_eps\n",
    "    rho_star = density * LJ_sig**3\n",
    "\n",
    "    # expression of the factors Pi from Equations 2-8 with coefficients qi from Table 1\n",
    "    # expression for a,g\n",
    "    def P(q1, q2, q3, q4, q5, q6, q7, q8, q9): return \\\n",
    "        q1 + q2 * np.exp(-q3 * T_star) + q4 * np.exp(-q5 * T_star) + q6 / rho_star + q7 / rho_star**2 \\\n",
    "        + q8 * np.exp(-q3 * T_star) / rho_star**3 + q9 * \\\n",
    "        np.exp(-q5 * T_star) / rho_star**4\n",
    "    a = P(9.24792, -2.64281, 0.133386, -1.35932, 1.25338,\n",
    "          0.45602, -0.326422, 0.045708, -0.0287681)\n",
    "    g = P(0.663161, -0.243089, 1.24749, -2.059, 0.04261,\n",
    "          1.65041, -0.343652, -0.037698, 0.008899)\n",
    "\n",
    "    # expression for c,k\n",
    "    def P(q1, q2, q3, q4, q5, q6, q7, q8): return \\\n",
    "        q1 + q2 * np.exp(-q3 * T_star) + q4 * rho_star + q5 * rho_star**2 + q6 * rho_star**3 \\\n",
    "        + q7 * rho_star**4 + q8 * rho_star**5\n",
    "    c = P(-0.0677912, -1.39505, 0.512625, 36.9323, -\n",
    "          36.8061, 21.7353, -7.76671, 1.36342)\n",
    "    k = P(16.4821, -0.300612, 0.0937844, -61.744,\n",
    "          145.285, -168.087, 98.2181, -23.0583)\n",
    "\n",
    "    # expression for b,h\n",
    "    def P(q1, q2, q3): return q1 + q2 * np.exp(-q3 * rho_star)\n",
    "    b = P(-8.33289, 2.1714, 1.00063)\n",
    "    h = P(0.0325039, -1.28792, 2.5487)\n",
    "\n",
    "    # expression for d,l\n",
    "    def P(q1, q2, q3, q4): return q1 + q2 * \\\n",
    "        np.exp(-q3 * rho_star) + q4 * rho_star\n",
    "    d = P(-26.1615, 27.4846, 1.68124, 6.74296)\n",
    "    l = P(-6.7293, -59.5002, 10.2466, -0.43596)\n",
    "\n",
    "    # expression for s\n",
    "    def P(q1, q2, q3, q4, q5, q6, q7, q8): return \\\n",
    "        (q1 + q2 * rho_star + q3 / T_star + q4 / T_star**2 + q5 / T_star**3) \\\n",
    "        / (q6 + q7 * rho_star + q8 * rho_star**2)\n",
    "    s = P(1.25225, -1.0179, 0.358564, -0.18533,\n",
    "          0.0482119, 1.27592, -1.78785, 0.634741)\n",
    "\n",
    "    # expression for m\n",
    "    def P(q1, q2, q3, q4, q5, q6): return \\\n",
    "        q1 + q2 * np.exp(-q3 * T_star) + q4 / T_star + \\\n",
    "        q5 * rho_star + q6 * rho_star**2\n",
    "    m = P(-5.668, -3.62671, 0.680654, 0.294481, 0.186395, -0.286954)\n",
    "\n",
    "    # expression for n\n",
    "    def P(q1, q2, q3): return q1 + q2 * np.exp(-q3 * T_star)\n",
    "    n = P(6.01325, 3.84098, 0.60793)\n",
    "\n",
    "    # fitted expression (=theoretical curve)\n",
    "    # slightly more than 1 to smooth out the discontinuity in the range [1.0, 1.02]\n",
    "    theo_rdf_cutoff = 1.02\n",
    "\n",
    "    theo_rdf = 1 + 1 / rs**2 * (np.exp(-(a * rs + b)) * np.sin(c * rs + d)\n",
    "                                + np.exp(-(g * rs + h)) * np.cos(k * rs + l))\n",
    "    theo_rdf[np.nonzero(rs <= theo_rdf_cutoff)] = \\\n",
    "        s * np.exp(-(m * rs + n)**4)[np.nonzero(rs <= theo_rdf_cutoff)]\n",
    "    return theo_rdf"
   ]
  },
  {
   "cell_type": "code",
   "execution_count": null,
   "id": "937ac145",
   "metadata": {},
   "outputs": [],
   "source": [
    "theo_rdf = calc_literature_rdf(rs, TEMPERATURE, DENSITY, LJ_EPS, LJ_SIG)"
   ]
  },
  {
   "cell_type": "code",
   "execution_count": null,
   "id": "a13fe69d",
   "metadata": {},
   "outputs": [],
   "source": [
    "ax.plot(rs, theo_rdf, label='literature')\n",
    "ax.legend()\n",
    "fig"
   ]
  },
  {
   "cell_type": "markdown",
   "id": "28c0f073",
   "metadata": {},
   "source": [
    "## Further Exercises"
   ]
  },
  {
   "cell_type": "markdown",
   "id": "7fabe279",
   "metadata": {},
   "source": [
    "### Binary Lennard-Jones Liquid\n",
    "\n",
    "A two-component Lennard-Jones liquid can be simulated by placing particles of two types (0 and 1) into the system. Depending on the Lennard-Jones parameters, the two components either mix or separate.\n",
    "\n",
    "1. Modify the code such that half of the particles are of <tt>type=1</tt>. Type 0 is implied for the remaining particles.\n",
    "2. Specify Lennard-Jones interactions between type 0 particles with other type 0 particles, type 1 particles with other type 1 particles, and type 0 particles with type 1 particles (set parameters for <tt>system.non_bonded_inter[i,j].lennard_jones</tt> where <tt>{i,j}</tt> can be <tt>{0,0}</tt>, <tt>{1,1}</tt>, and <tt>{0,1}</tt>. Use the same Lennard-Jones parameters for interactions within a component, but use a different <tt>lj_cut_mixed</tt> parameter for the cutoff of the Lennard-Jones interaction between particles of type 0 and particles of type 1. Set this parameter to $2^{\\frac{1}{6}}\\sigma$ to get de-mixing or to $2.5\\sigma$ to get mixing between the two components.\n",
    "3. Record the radial distribution functions separately for particles of type 0 around particles of type 0, type 1 around particles of type 1, and type 0 around particles of type 1. This can be done by changing the <tt>ids1</tt>/<tt>ids2</tt> arguments of the <tt>espressomd.observables.RDF</tt> command. You can record all three radial distribution functions in a single simulation. It is also possible to write them as several columns into a single file.\n",
    "4. Plot the radial distribution functions for all three combinations of particle types. The mixed case will differ significantly, depending on your choice of <tt>lj_cut_mixed</tt>. Explain these differences."
   ]
  },
  {
   "cell_type": "markdown",
   "id": "acc09276",
   "metadata": {},
   "source": [
    "## References\n",
    "\n",
    "<a id='[1]'></a>[1] <a href=\"https://espressomd.org\">https://espressomd.org</a>  \n",
    "<a id='[2]'></a>[2] H. J. Limbach, A. Arnold, B. Mann and C. Holm. ESPResSo: An extensible simulation package for research on soft matter systems. *Computer Physics Communications*, 174(9):704–727, 2006. <small>DOI:</small><a href=\"https://doi.org/10.1016/j.cpc.2005.10.005\">10.1016/j.cpc.2005.10.005</a>  \n",
    "<a id='[3]'></a>[3] A. Arnold, O. Lenz, S. Kesselheim, R. Weeber, F. Fahrenberger, D. Rohm, P. Košovan, and C. Holm. ESPResSo 3.1 — molecular dynamics software for coarse-grained models. In M. Griebel and M. A. Schweitzer, editors, Meshfree  Methods for Partial Differential Equations VI, volume 89 of Lecture Notes in Computational Science and Engineering, pages 1–23. Springer Berlin Heidelberg, 2013. <small>DOI:</small><a href=\"https://doi.org/10.1007/978-3-642-32979-1_1\">10.1007/978-3-642-32979-1_1</a>  \n",
    "<a id='[4]'></a>[4] A. Arnold, BA Mann, HJ Limbach, and C. Holm. ESPResSo–An Extensible Simulation Package for Research on Soft Matter Systems. In K. Kremer and V. Macho, editors, *Forschung und wissenschaftliches Rechnen, Beiträge zum Heinz-Billing-Preis 2003*, volume 63, pages 43–59. Gesellschaft für wissenschaftliche Datenverarbeitung mbH Göttingen, 2004. <a href=\"https://www.gwdg.de/documents/20182/31188/gwdg-bericht-63.pdf\">https://www.gwdg.de/documents/20182/31188/gwdg-bericht-63.pdf</a>  \n",
    "<a id='[5]'></a>[5] B. Smit. Phase diagrams of Lennard‐Jones fluids. *Journal of Chemical Physics*, 96:8639, 1992. <small>DOI:</small><a href=\"https://doi.org/10.1063/1.462271\">10.1063/1.462271</a>  \n",
    "<a id='[6]'></a>[6] W. P. Allen and D. J. Tildesley. Computer Simulation of Liquids. Oxford University Press, 2017.  \n",
    "<a id='[7]'></a>[7] L. Verlet, Computer “Experiments” on Classical Fluids. I. Thermodynamical Properties of Lennard-Jones Molecules, *Physical Review*, 159(1):98–103, 1967. <small>DOI:</small><a href=\"https://doi.org/10.1103/PhysRev.159.98\">10.1103/PhysRev.159.98</a>   \n",
    "<a id='[8]'></a>[8] D. Frenkel and B. Smit. Understanding Molecular Simulation: From Algorithms to Applications. Second edition. Academic Press, 2002.  \n",
    "<a id='[9]'></a>[9] Morsali, Goharshadi, Mansoori, Abbaspour. An accurate expression for radial distribution function of the Lennard-Jones fluid. *Chemical Physics*, 310(1–3):11–15, 2005. <small>DOI:</small><a href=\"https://doi.org/10.1016/j.chemphys.2004.09.027\">10.1016/j.chemphys.2004.09.027</a>  \n",
    "<a id='[10]'></a>[10] Matteoli. A simple expression for radial distribution functions of pure fluids and mixtures. *The Journal of Chemical Physics*, 103(11):4672, 1995. <small>DOI:</small><a href=\"https://doi.org/10.1063/1.470654\">10.1063/1.470654</a>  \n",
    "<a id='[11]'></a>[11] Abbaspour, Akbarzadeha, Abroodia. A new and accurate expression for the radial distribution function of confined Lennard-Jones fluid in carbon nanotubes. *RSC Advances*, 5(116): 95781–95787, 2015. <small>DOI:</small><a href=\"https://doi.org/10.1039/C5RA16151G\">10.1039/C5RA16151G</a>  "
   ]
  }
 ],
 "metadata": {
  "kernelspec": {
   "display_name": "Python 3",
   "language": "python",
   "name": "python3"
  },
  "language_info": {
   "codemirror_mode": {
    "name": "ipython",
    "version": 3
   },
   "file_extension": ".py",
   "mimetype": "text/x-python",
   "name": "python",
   "nbconvert_exporter": "python",
   "pygments_lexer": "ipython3",
   "version": "3.8.10"
  }
 },
 "nbformat": 4,
 "nbformat_minor": 5
}
