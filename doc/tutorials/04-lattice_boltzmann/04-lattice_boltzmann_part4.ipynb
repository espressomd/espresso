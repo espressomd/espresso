{
 "cells": [
  {
   "cell_type": "markdown",
   "metadata": {},
   "source": [
    "# Tutorial 4 : The Lattice Boltzmann Method in ESPResSo - Part 4"
   ]
  },
  {
   "cell_type": "markdown",
   "metadata": {},
   "source": [
    "### 6 Poiseuille flow in ESPResSo\n",
    "\n",
    "Poiseuille flow is the flow through a pipe or (in our case) a slit\n",
    "under a homogenous force density, e.g. gravity. In the limit of small Reynolds\n",
    "numbers, the flow can be described with the Stokes equation. \n",
    "We assume the slit being infinitely extended in $y$ and $z$ \n",
    "direction and a force density $f_y$ on the fluid \n",
    "in $y$ direction. No slip-boundary conditions  (i.e. $\\vec{u}=0$)\n",
    "are located at $x = \\pm h/2$.\n",
    "Assuming invariance in $y$ and $z$ direction and a steady state, \n",
    "the Stokes equation is simplified to:\n",
    "\n",
    "\\begin{equation}\n",
    "  \\eta \\partial_x^2 u_y = f_y\n",
    "\\end{equation}\n",
    "\n",
    "where $f_y$ denotes the force density and $\\eta$ the dynamic viscosity.\n",
    "This can be integrated twice and the integration constants are chosen\n",
    "so that $u_y=0$ at $x = \\pm h/2$ to obtain the solution to the\n",
    "planar Poiseuille flow [8]:\n",
    "\n",
    "\\begin{equation}\n",
    "  u_y(x) = \\frac{f_y}{2\\eta} \\left(h^2/4-x^2\\right)\n",
    "\\end{equation}\n",
    "\n",
    "We will simulate a planar Poiseuille flow using a square box, two walls\n",
    "with normal vectors $\\left(\\pm 1, 0, 0 \\right)$, and an external force\n",
    "applied to every node.\n",
    "\n",
    "Use the data to fit a parabolic function. Can you confirm the analytic solution?"
   ]
  },
  {
   "cell_type": "code",
   "execution_count": null,
   "metadata": {},
   "outputs": [],
   "source": [
    "import espressomd\n",
    "espressomd.assert_features(['CUDA', 'LB_BOUNDARIES_GPU'])\n",
    "from espressomd import System, lb, shapes, lbboundaries\n",
    "import numpy as np\n",
    "\n",
    "# System setup\n",
    "box_l = 16.0\n",
    "agrid = 0.5\n",
    "visc = 1.0\n",
    "force_density = 0.001\n",
    "system = System(box_l=[box_l, box_l, box_l])\n",
    "system.set_random_state_PRNG()\n",
    "np.random.seed(seed=system.seed)\n",
    "system.time_step = 0.01\n",
    "system.cell_system.skin = 0.2\n",
    "\n",
    "lbf = lb.LBFluidGPU(agrid=agrid, dens=1, visc=visc, tau=0.01,\n",
    "                    ext_force_density=[0, force_density, 0])\n",
    "system.actors.add(lbf)\n",
    "\n",
    "# Setup boundaries\n",
    "wall_offset = 1.5\n",
    "walls = [lbboundaries.LBBoundary() for k in range(2)]\n",
    "walls[0].set_params(shape=shapes.Wall(normal=[1, 0, 0], dist=wall_offset))\n",
    "walls[1].set_params(shape=shapes.Wall(normal=[-1, 0, 0], dist=-(box_l - wall_offset)))\n",
    "\n",
    "for wall in walls:\n",
    "    system.lbboundaries.add(wall)\n",
    "\n",
    "# Iterate until the flow profile converges (5000 LB updates)\n",
    "system.integrator.run(5000)\n",
    "\n",
    "# Extract fluid velocity along the x-axis\n",
    "node_v_list = []\n",
    "for i in range(int(round(box_l / float(agrid)))):\n",
    "    node_v_list.append(lbf[i, 0, 0].velocity[1])\n",
    "\n",
    "# Write to file\n",
    "with open(\"lb_fluid_velocity.dat\", \"w\") as f:\n",
    "    for line in node_v_list:\n",
    "        f.write(str(line) + \"\\n\")"
   ]
  },
  {
   "cell_type": "markdown",
   "metadata": {},
   "source": [
    "<figure>\n",
    "<img src='figures/poiseuille.png', style=\"width: 500px;\"/>\n",
    "<center>\n",
    "<figcaption>Poiseuille flow in a slit geometry.<br>\n",
    "The solution is available at <tt>/doc/tutorials/04-lattice_boltzmann/scripts/part4_plot.py</tt> </figcaption>\n",
    "</center>\n",
    "</figure>"
   ]
  },
  {
   "cell_type": "markdown",
   "metadata": {},
   "source": [
    "## References\n",
    "\n",
    "[1] S Succi. *The lattice Boltzmann equation for fluid dynamics and beyond. *Clarendon Press, Oxford, 2001.  \n",
    "[2] B. Dünweg and A. J. C. Ladd. *Advanced Computer Simulation Approaches for Soft Matter Sciences III*, chapter II, pages 89–166. Springer, 2009.  \n",
    "[3] B. Dünweg, U. Schiller, and A.J.C. Ladd. Statistical mechanics of the fluctuating lattice-boltzmann equation. *Phys. Rev. E*, 76:36704, 2007.  \n",
    "[4] P. G. de Gennes. *Scaling Concepts in Polymer Physics*. Cornell University Press, Ithaca, NY, 1979.  \n",
    "[5] M. Doi. *Introduction to Polymer Physics.* Clarendon Press, Oxford, 1996.  \n",
    "[6] Michael Rubinstein and Ralph H. Colby. *Polymer Physics.* Oxford University Press, Oxford, UK, 2003.  \n",
    "[7] Daan Frenkel and Berend Smit. *Understanding Molecular Simulation.* Academic Press, San Diego, second edition, 2002.  \n",
    "[8] W. E. Langlois and M. O. Deville. *Exact Solutions to the Equations of Viscous Flow*. In: *Slow Viscous Flow*, Springer, Cham, 2014."
   ]
  }
 ],
 "metadata": {
  "kernelspec": {
   "display_name": "Python 3",
   "language": "python",
   "name": "python3"
  },
  "language_info": {
   "codemirror_mode": {
    "name": "ipython",
    "version": 3
   },
   "file_extension": ".py",
   "mimetype": "text/x-python",
   "name": "python",
   "nbconvert_exporter": "python",
   "pygments_lexer": "ipython3",
   "version": "3.6.8"
  }
 },
 "nbformat": 4,
 "nbformat_minor": 1
}
