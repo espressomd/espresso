{
 "cells": [
  {
   "cell_type": "markdown",
   "metadata": {},
   "source": [
    "# Tutorial 4 : The lattice-Boltzmann method in ESPResSo - Part 4"
   ]
  },
  {
   "cell_type": "markdown",
   "metadata": {},
   "source": [
    "### 6 Poiseuille flow in ESPResSo\n",
    "\n",
    "Poiseuille flow is the flow through a pipe or (in our case) a slit\n",
    "under a homogeneous force density, e.g. gravity. In the limit of small Reynolds\n",
    "numbers, the flow can be described with the Stokes equation. \n",
    "We assume the slit being infinitely extended in $y$ and $z$ \n",
    "direction and a force density $f_y$ on the fluid \n",
    "in $y$ direction. No slip-boundary conditions  (i.e. $\\vec{u}=0$)\n",
    "are located at $x = \\pm h/2$.\n",
    "Assuming invariance in $y$ and $z$ direction and a steady state, \n",
    "the Stokes equation is simplified to:\n",
    "\n",
    "\\begin{equation}\n",
    "  \\mu \\partial_x^2 u_y = f_y\n",
    "\\end{equation}\n",
    "\n",
    "where $f_y$ denotes the force density and $\\mu$ the dynamic viscosity.\n",
    "This can be integrated twice and the integration constants are chosen\n",
    "so that $u_y=0$ at $x = \\pm h/2$ to obtain the solution to the\n",
    "planar Poiseuille flow [8]:\n",
    "\n",
    "\\begin{equation}\n",
    "  u_y(x) = \\frac{f_y}{2\\mu} \\left(h^2/4-x^2\\right)\n",
    "\\end{equation}\n",
    "\n",
    "We will simulate a planar Poiseuille flow using a square box, two walls\n",
    "with normal vectors $\\left(\\pm 1, 0, 0 \\right)$, and an external force density\n",
    "applied to every node.\n",
    "\n",
    "Use the data to fit a parabolic function. Can you confirm the analytic solution?"
   ]
  },
  {
   "cell_type": "code",
   "execution_count": null,
   "metadata": {},
   "outputs": [],
   "source": [
    "import logging\n",
    "import sys\n",
    "\n",
    "import numpy as np\n",
    "\n",
    "import espressomd\n",
    "import espressomd.lb\n",
    "import espressomd.lbboundaries\n",
    "import espressomd.shapes\n",
    "\n",
    "logging.basicConfig(level=logging.INFO, stream=sys.stdout)\n",
    "\n",
    "espressomd.assert_features(['LB_BOUNDARIES_GPU'])\n",
    "\n",
    "# System constants\n",
    "BOX_L = 16.0\n",
    "AGRID = 0.5\n",
    "VISCOSITY = 2.0\n",
    "FORCE_DENSITY = [0.0, 0.001, 0.0]\n",
    "DENSITY = 1.5\n",
    "TIME_STEP = 0.01\n",
    "\n",
    "system = espressomd.System(box_l=[BOX_L]*3)\n",
    "system.time_step = TIME_STEP\n",
    "system.cell_system.skin = 0.4\n",
    "\n",
    "lbf = espressomd.lb.LBFluidGPU(agrid=AGRID, dens=DENSITY, visc=VISCOSITY, tau=TIME_STEP,\n",
    "                    ext_force_density=FORCE_DENSITY)\n",
    "system.actors.add(lbf)\n",
    "\n",
    "logging.info(\"Setup LB boundaries.\")\n",
    "WALL_OFFSET = 2.0 * AGRID\n",
    "top_wall = espressomd.lbboundaries.LBBoundary(shape=espressomd.shapes.Wall(normal=[1, 0, 0], dist=WALL_OFFSET))\n",
    "bottom_wall = espressomd.lbboundaries.LBBoundary(shape=espressomd.shapes.Wall(normal=[-1, 0, 0], dist=-(BOX_L - WALL_OFFSET)))\n",
    "\n",
    "system.lbboundaries.add(top_wall)\n",
    "system.lbboundaries.add(bottom_wall)\n",
    "\n",
    "logging.info(\"Iterate until the flow profile converges (5000 LB updates).\")\n",
    "system.integrator.run(5000)\n",
    "\n",
    "logging.info(\"Extract fluid velocity along the x-axis\")\n",
    "fluid_velocities = np.zeros(lbf.shape[0])\n",
    "for x in range(lbf.shape[0]):\n",
    "    # Average over the nodes in y direction\n",
    "    v_tmp = np.zeros(lbf.shape[1])\n",
    "    for y in range(lbf.shape[1]):\n",
    "        v_tmp[y] = lbf[x, y, 0].velocity[1]\n",
    "    fluid_velocities[x] = np.average(v_tmp)"
   ]
  },
  {
   "cell_type": "markdown",
   "metadata": {},
   "source": [
    "The solution is available at <tt>/doc/tutorials/04-lattice_boltzmann/scripts/04-lattice_boltzmann_part4_solution.py</tt>"
   ]
  },
  {
   "cell_type": "markdown",
   "metadata": {},
   "source": [
    "## References\n",
    "\n",
    "[1] S. Succi. *The lattice Boltzmann equation for fluid dynamics and beyond.* Clarendon Press, Oxford, 2001.  \n",
    "[2] B. Dünweg and A. J. C. Ladd. *Advanced Computer Simulation Approaches for Soft Matter Sciences III*, chapter II, pages 89–166. Springer, 2009.  \n",
    "[3] B. Dünweg, U. Schiller, and A.J.C. Ladd. Statistical mechanics of the fluctuating lattice-Boltzmann equation. *Phys. Rev. E*, 76:36704, 2007.  \n",
    "[4] P. G. de Gennes. *Scaling Concepts in Polymer Physics*. Cornell University Press, Ithaca, NY, 1979.  \n",
    "[5] M. Doi. *Introduction to Polymer Physics.* Clarendon Press, Oxford, 1996.  \n",
    "[6] Michael Rubinstein and Ralph H. Colby. *Polymer Physics.* Oxford University Press, Oxford, UK, 2003.  \n",
    "[7] Daan Frenkel and Berend Smit. *Understanding Molecular Simulation.* Academic Press, San Diego, second edition, 2002.  \n",
    "[8] W. E. Langlois and M. O. Deville. *Exact Solutions to the Equations of Viscous Flow*. In: *Slow Viscous Flow*, Springer, Cham, 2014."
   ]
  }
 ],
 "metadata": {
  "kernelspec": {
   "display_name": "Python 3",
   "language": "python",
   "name": "python3"
  },
  "language_info": {
   "codemirror_mode": {
    "name": "ipython",
    "version": 3
   },
   "file_extension": ".py",
   "mimetype": "text/x-python",
   "name": "python",
   "nbconvert_exporter": "python",
   "pygments_lexer": "ipython3",
   "version": "3.6.8"
  }
 },
 "nbformat": 4,
 "nbformat_minor": 1
}
