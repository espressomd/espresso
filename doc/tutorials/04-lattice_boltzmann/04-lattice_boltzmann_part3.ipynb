{
 "cells": [
  {
   "cell_type": "markdown",
   "metadata": {},
   "source": [
    "# Tutorial 4 : The Lattice Boltzmann Method in ESPResSo - Part 3"
   ]
  },
  {
   "cell_type": "markdown",
   "metadata": {},
   "source": [
    "### 5.2 Step 2: Diffusion of a polymer"
   ]
  },
  {
   "cell_type": "markdown",
   "metadata": {},
   "source": [
    "One of the typical applications of **ESPResSo** is the simulation of polymer chains with a bead-spring-model. For this we need a repulsive interaction between all beads, for which one usually takes a shifted and truncated Lennard-Jones (so called Weeks-Chandler-Andersen) interaction, and additionally a bonded interaction between adjacent beads to hold the polymer together. You have already learned that the command"
   ]
  },
  {
   "cell_type": "markdown",
   "metadata": {},
   "source": [
    "```\n",
    "system.non_bonded_inter[0,0].lennard_jones.set_params(\n",
    "      epsilon = 1.0, sigma = 1.0,\n",
    "      shift = 0.25, cutof = 1.226)\n",
    "```"
   ]
  },
  {
   "cell_type": "markdown",
   "metadata": {},
   "source": [
    "creates a Lennard-Jones interaction with $\\varepsilon=1.$, $\\sigma=1.$,\n",
    "$r_\\text{cut} = 1.125$ and $\\varepsilon_\\text{shift}=0.25$ between particles\n",
    "of type 0, which is the desired \n",
    "repulsive interaction. The command"
   ]
  },
  {
   "cell_type": "markdown",
   "metadata": {},
   "source": [
    "```\n",
    "from espressomd import interactions\n",
    "fene = interactions.FeneBond(k = 7,d_r_max = 2)\n",
    "```"
   ]
  },
  {
   "cell_type": "markdown",
   "metadata": {},
   "source": [
    "creates a <tt>FeneBond</tt> object (see **ESPResSo** manual for the details). Still **ESPResSo** does not know between which beads this interaction should be applied. This can be either be specified explicitly or done with the <tt>polymer</tt> module. This creates a given number of beads, links them with the given bonded interaction and places them following a certain algorithm. We will use the pruned self-avoiding walk: The monomers are set according to a pruned self-avoiding walk (in 3D) with a fixed distance between adjacent bead positions. The syntax is:"
   ]
  },
  {
   "cell_type": "markdown",
   "metadata": {},
   "source": [
    "```\n",
    "from espressomd import polymer\n",
    "# mpc: monomers per chain\n",
    "mpc = 30\n",
    "poly = polymer.Polymer(N_P=1, MPC = mpc, bond=fene, bond_length = 1)\n",
    "```"
   ]
  },
  {
   "cell_type": "markdown",
   "metadata": {},
   "source": [
    "Using a random walk to create a polymer causes trouble: The random walk may \n",
    "cross itself (or closely approach itself) and the LJ potential is very\n",
    "steep. This would raise the potential energy enormously and would make\n",
    "the monomers shoot through the simulation box. The pruned self-avoiding\n",
    "walk should prevent that, but to be sure we perform some MD steps with a capped LJ potential, this means forces above a certain threshold will be set to the threshold in order to prevent the system from exploding. To see how this is done, look at the script <tt>polymer_diffusion.py</tt> (see the code below).\n",
    "It contains a quite long warmup command so that also longer polymers\n",
    "are possible. You can probably make it shorter."
   ]
  },
  {
   "cell_type": "markdown",
   "metadata": {},
   "source": [
    "This allows to quickly change the number of monomers without editing the script. For the warmup a Langevin thermostat is used to keep the temperature constant. Furthermore we want to compute the diffusion constant of the polymer for different numbers of monomers. For this purpose we can again use the multiple tau correlator. Have a look at the **ESPResSo**-script for the single particle diffusion and add the adapted commands for the polymer. Find out how many integration steps are necessary to capture the long-time diffusion regime of the polymer. The script already computes the time averaged hydrodynamic radius and stores it in a file <tt>rh\\_out.dat</tt> whose first column denotes the number of monomers."
   ]
  },
  {
   "cell_type": "code",
   "execution_count": null,
   "metadata": {},
   "outputs": [],
   "source": [
    "from __future__ import print_function, division\n",
    "from espressomd import System, interactions, lb, polymer\n",
    "from espressomd.observables import ComPosition\n",
    "from espressomd.accumulators import Correlator\n",
    "\n",
    "from numpy import savetxt, zeros\n",
    "import numpy as np\n",
    "import sys\n",
    "\n",
    "# Setup constant\n",
    "time_step = 0.01\n",
    "loops = 100\n",
    "step_per_loop = 100\n",
    "\n",
    "# System setup\n",
    "system = System(box_l = [32.0, 32.0, 32.0])\n",
    "system.set_random_state_PRNG()\n",
    "np.random.seed(seed = system.seed)\n",
    "system.cell_system.skin = 0.4\n",
    "\n",
    "mpc = 20 # The number of monomers has been set to be 20 as default\n",
    "         # Change this value for further simulations\n",
    "\n",
    "# Lennard-Jones interaction\n",
    "system.non_bonded_inter[0,0].lennard_jones.set_params(\n",
    "    epsilon=1.0, sigma=1.0, \n",
    "    shift=\"auto\", cutoff=2.0**(1.0/6.0))\n",
    "\n",
    "# Fene interaction\n",
    "fene = interactions.FeneBond(k=7, d_r_max=2)\n",
    "system.bonded_inter.add(fene)\n",
    "\n",
    "\n",
    "# Setup polymer of part_id 0 with fene bond\n",
    "\n",
    "polymer.create_polymer(N_P=1, MPC=mpc, bond=fene, bond_length=1,\n",
    "                       start_pos = [16.0, 16.0, 16.0])\n",
    "\n",
    "\n",
    "print(\"Warming up the polymer chain.\")\n",
    "## For longer chains (>100) an extensive \n",
    "## warmup is neccessary ...\n",
    "system.time_step = 0.002\n",
    "system.thermostat.set_langevin(kT=1.0, gamma=10)\n",
    "\n",
    "for i in range(100):\n",
    "    system.force_cap = float(i) + 1\n",
    "    system.integrator.run(1000)\n",
    "\n",
    "print(\"Warmup finished.\")\n",
    "system.force_cap = 0\n",
    "system.integrator.run(10000)\n",
    "system.time_step = time_step\n",
    "system.integrator.run(50000)\n",
    "\n",
    "system.thermostat.turn_off()\n",
    "\n",
    "system.part[:].v = [0,0,0]\n",
    "\n",
    "lbf = lb.LBFluidGPU(kT=1, seed=123, agrid=1, dens=1, visc=5, tau=time_step)\n",
    "system.actors.add(lbf)\n",
    "system.thermostat.set_lb(LB_fluid=lbf, seed=142, gamma=5)\n",
    "\n",
    "print(\"Warming up the system with LB fluid.\")\n",
    "system.integrator.run(1000)\n",
    "print(\"LB fluid warming finished.\")\n",
    "\n",
    "\n",
    "# configure correlators\n",
    "com_pos = ComPosition(ids=(0,))\n",
    "c = Correlator(obs1 = com_pos, tau_lin=16, tau_max=loops*step_per_loop, delta_N=1,\n",
    "        corr_operation=\"square_distance_componentwise\", compress1=\"discard1\")\n",
    "system.auto_update_accumulators.add(c)\n",
    "\n",
    "print(\"Sampling started.\")\n",
    "for i in range(loops):\n",
    "    system.integrator.run(step_per_loop)\n",
    "    system.analysis.append()\n",
    "    sys.stdout.write(\"\\rSampling: %05i\"%i)\n",
    "    sys.stdout.flush()\n",
    "\n",
    "c.finalize()\n",
    "corrdata = c.result()\n",
    "corr = zeros((corrdata.shape[0],2))\n",
    "corr[:,0] = corrdata[:,0]\n",
    "corr[:,1] = (corrdata[:,2] + corrdata[:,3] + corrdata[:,4]) / 3\n",
    "\n",
    "savetxt(\"./msd_nom\"+str(mpc)+\".dat\", corr)\n",
    "\n",
    "with open(\"./rh_out.dat\",\"a\") as datafile:\n",
    "    rh = system.analysis.calc_rh(chain_start=0, number_of_chains=1, chain_length=mpc-1)\n",
    "    datafile.write(str(mpc)+ \"    \" + str(rh[0])+\"\\n\")\n"
   ]
  },
  {
   "cell_type": "markdown",
   "metadata": {},
   "source": [
    "Run the script for different numbers of monomers and determine the evolution of the diffusion coefficient as a function of the chain length. Compare the results of your ESPResSo simulations with the given Kirkwood-Zimm formula."
   ]
  },
  {
   "cell_type": "markdown",
   "metadata": {},
   "source": [
    "## References"
   ]
  },
  {
   "cell_type": "markdown",
   "metadata": {},
   "source": [
    "[1] S Succi. *The lattice Boltzmann equation for fluid dynamics and beyond. *Clarendon Press, Oxford, 2001.  \n",
    "[2] B. Dünweg and A. J. C. Ladd. *Advanced Computer Simulation Approaches for Soft Matter Sciences III*, chapter II, pages 89–166. Springer, 2009.  \n",
    "[3] B. Dünweg, U. Schiller, and A.J.C. Ladd. Statistical mechanics of the fluctuating lattice-boltzmann equation. *Phys. Rev. E*, 76:36704, 2007.  \n",
    "[4] P. G. de Gennes. *Scaling Concepts in Polymer Physics*. Cornell University Press, Ithaca, NY, 1979.  \n",
    "[5] M. Doi. *Introduction do Polymer Physics.* Clarendon Press, Oxford, 1996.  \n",
    "[6] Michael Rubinstein and Ralph H. Colby. *Polymer Physics.* Oxford University Press, Oxford, UK, 2003.  \n",
    "[7] Daan Frenkel and Berend Smit. *Understanding Molecular Simulation.* Academic Press, San Diego, second edition, 2002."
   ]
  },
  {
   "cell_type": "code",
   "execution_count": null,
   "metadata": {},
   "outputs": [],
   "source": []
  }
 ],
 "metadata": {
  "kernelspec": {
   "display_name": "Python 2",
   "language": "python",
   "name": "python2"
  },
  "language_info": {
   "codemirror_mode": {
    "name": "ipython",
    "version": 2
   },
   "file_extension": ".py",
   "mimetype": "text/x-python",
   "name": "python",
   "nbconvert_exporter": "python",
   "pygments_lexer": "ipython2",
   "version": "2.7.12"
  }
 },
 "nbformat": 4,
 "nbformat_minor": 1
}
