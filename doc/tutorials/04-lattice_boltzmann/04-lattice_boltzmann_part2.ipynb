{
 "cells": [
  {
   "cell_type": "markdown",
   "metadata": {},
   "source": [
    "# Tutorial 4 : The lattice-Boltzmann method in ESPResSo - Part 2"
   ]
  },
  {
   "cell_type": "markdown",
   "metadata": {},
   "source": [
    "## 5 Polymer Diffusion\n",
    "\n",
    "In these exercises we want to use the LBM-MD-Hybrid to reproduce a classic result of polymer physics: the dependence of the diffusion coefficient of a polymer on its chain length. If no hydrodynamic interactions are present, one expects a scaling law $D \\propto N ^{- 1}$ and if they are present, a scaling law $D \\propto N^{- \\nu}$ is expected. Here $\\nu$ is the Flory exponent\n",
    "that plays a very prominent role in polymer physics. It has a value of $\\sim 3/5$ in good\n",
    "solvent conditions in 3D. Discussions on these scaling laws can be found in polymer\n",
    "physics textbooks like [4–6].\n",
    "\n",
    "The reason for the different scaling law is the following: when being transported, every monomer creates a flow field that follows the direction of its motion. This flow field makes it easier for other monomers to follow its motion. This makes a polymer (given it is sufficiently long) diffuse more like a compact object including the fluid inside it, although it does not have clear boundaries. It can be shown that its motion can be described by its\n",
    "hydrodynamic radius. It is defined as:\n",
    "\n",
    "\\begin{equation}\n",
    "  \\left\\langle \\frac{1}{R_h} \\right\\rangle = \\left\\langle \\frac{1}{N^2}\\sum_{i\\neq j} \\frac{1}{\\left| r_i - r_j \\right|} \\right\\rangle\n",
    "\\end{equation}\n",
    "\n",
    "This hydrodynamic radius exhibits the scaling law  $R_h \\propto N^{\\nu}$\n",
    "and the diffusion coefficient of a long polymer is proportional to its inverse $R_h$.\n",
    "\n",
    "For shorter polymers there is a transition region. It can be described\n",
    "by the Kirkwood-Zimm model:\n",
    "\n",
    "\\begin{equation}\n",
    "  D=\\frac{D_0}{N} + \\frac{k_B T}{6 \\pi \\eta } \\left\\langle \\frac{1}{R_h} \\right\\rangle\n",
    "\\end{equation}\n",
    "\n",
    "Here $D_0$ is the monomer diffusion coefficient and $\\eta$ the \n",
    "viscosity of the fluid. For a finite system size the second part of the\n",
    "diffusion is subject of a $1/L$ finite size effect, because\n",
    "hydrodynamic interactions are proportional to the inverse\n",
    "distance and thus long ranged. It can be taken into account\n",
    "by a correction:\n",
    "\n",
    "\\begin{equation}\n",
    "  D=\\frac{D_0}{N} + \\frac{k_B T}{6 \\pi \\eta } \\left\\langle \\frac{1}{R_h} \\right\\rangle \\left( 1- \\left\\langle\\frac{R_h}{L} \\right\\rangle \\right)\n",
    "\\end{equation}\n",
    "\n",
    "It is quite difficult to prove this formula computationally with good accuracy.\n",
    "It will need quite some computational effort and a careful analysis. So please don't be\n",
    "too disappointed if you don't manage to do so.\n",
    "\n",
    "We want to determine the long-time self diffusion coefficient from the mean square\n",
    "displacement of the center-of-mass a single polymer. For large $t$ the mean square displacement is\n",
    "proportional to the time and the diffusion coefficient occurs as a \n",
    "prefactor:\n",
    "\n",
    "\\begin{equation}\n",
    "    D = \\lim_{t\\to\\infty}\\left[ \\frac{1}{6t} \\left\\langle \\left(\\vec{r}(t) - \\vec{r}(0)\\right)^2 \\right\\rangle \\right].\n",
    "\\end{equation}\n",
    "\n",
    "This equation can be\n",
    "found in virtually any simulation textbook, like [7]. We will therefore set up a polymer\n",
    "in an LB fluid, simulate for an appropriate amount of time, calculate the mean square\n",
    "displacement as a function of time and obtain the diffusion coefficient from a linear\n",
    "fit. However we will have a couple of steps inbetween and divide the full problem into\n",
    "subproblems that allow to (hopefully) fully understand the process."
   ]
  },
  {
   "cell_type": "markdown",
   "metadata": {},
   "source": [
    "### 5.1 Step 1: Diffusion of a single particle"
   ]
  },
  {
   "cell_type": "markdown",
   "metadata": {},
   "source": [
    "Our first step is to investigate the diffusion of a single particle that is coupled to an LB fluid by the point coupling method:"
   ]
  },
  {
   "cell_type": "code",
   "execution_count": null,
   "metadata": {},
   "outputs": [],
   "source": [
    "import logging\n",
    "import sys\n",
    "\n",
    "import espressomd\n",
    "import espressomd.accumulators\n",
    "import espressomd.lb\n",
    "import espressomd.observables\n",
    "\n",
    "logging.basicConfig(level=logging.INFO, stream=sys.stdout)\n",
    "\n",
    "\n",
    "# Constants\n",
    "LOOPS = 40000\n",
    "STEPS = 10\n",
    "\n",
    "# System setup\n",
    "system = espressomd.System(box_l=[16] * 3)\n",
    "system.time_step = 0.01\n",
    "system.cell_system.skin = 0.4\n",
    "\n",
    "\n",
    "lbf = espressomd.lb.LBFluidGPU(kT=1, seed=132, agrid=1, dens=1, visc=5, tau=0.01)\n",
    "system.actors.add(lbf)\n",
    "\n",
    "\n",
    "system.part.add(pos=[0, 0, 0])\n",
    "\n",
    "# Setup observable\n",
    "pos = espressomd.observables.ParticlePositions(ids=(0,))\n",
    "\n",
    "# Run for different friction constants\n",
    "lb_gammas = [1.0, 2.0, 4.0, 10.0]\n",
    "msd_results = []\n",
    "\n",
    "for gamma in lb_gammas:\n",
    "    system.auto_update_accumulators.clear()\n",
    "    system.thermostat.turn_off()\n",
    "    system.thermostat.set_lb(LB_fluid=lbf, seed=123, gamma=gamma)\n",
    "    # Equilibrate\n",
    "    logging.info(\"Equilibrating the system.\")\n",
    "    system.integrator.run(1000)\n",
    "    logging.info(\"Equilibration finished.\")\n",
    "    # Setup observable correlator\n",
    "    correlator = espressomd.accumulators.Correlator(obs1=pos, tau_lin=16, tau_max=LOOPS * STEPS, delta_N=1,\n",
    "        corr_operation=\"square_distance_componentwise\", compress1=\"discard1\")\n",
    "    system.auto_update_accumulators.add(correlator)\n",
    "\n",
    "    logging.info(\"Sampling started for gamma = {}.\".format(gamma))\n",
    "    for i in range(LOOPS):\n",
    "        system.integrator.run(STEPS)\n",
    "    correlator.finalize()\n",
    "    msd_results.append(correlator.result())\n",
    "\n",
    "logging.info(\"Sampling finished.\")"
   ]
  },
  {
   "cell_type": "markdown",
   "metadata": {},
   "source": [
    "#### Plotting the results"
   ]
  },
  {
   "cell_type": "code",
   "execution_count": null,
   "metadata": {},
   "outputs": [],
   "source": [
    "%matplotlib notebook\n",
    "import matplotlib.pyplot as plt\n",
    "\n",
    "plt.rcParams.update({'font.size': 22})\n",
    "\n",
    "plt.figure(figsize=(10,10))\n",
    "plt.xlabel('tau [$\\Delta t$]')\n",
    "plt.ylabel('msd [$\\sigma^2$]')\n",
    "for index, r in enumerate(msd_results):\n",
    "    # adding up componentwise MSDs\n",
    "    # We skip the first entry since it's zero by definition and cannot be displayed\n",
    "    # in a loglog plot. Furthermore, we only look at the first 100 entries due to\n",
    "    # lack of good statistics for larger times.\n",
    "    msd = r[1:100, 2] + r[1:100, 3] + r[1:100, 4]\n",
    "    plt.loglog(r[1:100, 0], msd, label=r\"$\\gamma=${}\".format(str(lb_gammas[index])))\n",
    "plt.legend()\n",
    "plt.show()"
   ]
  },
  {
   "cell_type": "markdown",
   "metadata": {},
   "source": [
    "#### Calculating the diffusion coefficient\n",
    "In this script an LB fluid and a single particle are created and thermalized. The\n",
    "random forces on the particle and within the LB fluid will cause the particle to move.\n",
    "The mean squared displacement is calculated during the simulation via a multiple-tau\n",
    "correlator. \n",
    "Can you give an explanation for the quadratic time dependency for short times? Use the function <tt>curve_fit</tt> from the module <tt>scipy.optimize</tt> to produce a fit for the linear regime and determine the diffusion coefficients for the different $\\gamma$s. Calculate the diffusion coefficient for all cases and plot them as a function of γ. What relation do you observe?"
   ]
  },
  {
   "cell_type": "markdown",
   "metadata": {},
   "source": [
    "## References\n",
    "\n",
    "[1] S. Succi. *The lattice Boltzmann equation for fluid dynamics and beyond.* Clarendon Press, Oxford, 2001.  \n",
    "[2] B. Dünweg and A. J. C. Ladd. *Advanced Computer Simulation Approaches for Soft Matter Sciences III*, chapter II, pages 89–166. Springer, 2009.  \n",
    "[3] B. Dünweg, U. Schiller, and A.J.C. Ladd. Statistical mechanics of the fluctuating lattice-Boltzmann equation. *Phys. Rev. E*, 76:36704, 2007.  \n",
    "[4] P. G. de Gennes. *Scaling Concepts in Polymer Physics*. Cornell University Press, Ithaca, NY, 1979.  \n",
    "[5] M. Doi. *Introduction to Polymer Physics.* Clarendon Press, Oxford, 1996.  \n",
    "[6] Michael Rubinstein and Ralph H. Colby. *Polymer Physics.* Oxford University Press, Oxford, UK, 2003.  \n",
    "[7] Daan Frenkel and Berend Smit. *Understanding Molecular Simulation.* Academic Press, San Diego, second edition, 2002."
   ]
  }
 ],
 "metadata": {
  "kernelspec": {
   "display_name": "Python 3",
   "language": "python",
   "name": "python3"
  },
  "language_info": {
   "codemirror_mode": {
    "name": "ipython",
    "version": 3
   },
   "file_extension": ".py",
   "mimetype": "text/x-python",
   "name": "python",
   "nbconvert_exporter": "python",
   "pygments_lexer": "ipython3",
   "version": "3.6.8"
  }
 },
 "nbformat": 4,
 "nbformat_minor": 1
}
