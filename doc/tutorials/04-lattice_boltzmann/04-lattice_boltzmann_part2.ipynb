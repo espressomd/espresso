{
 "cells": [
  {
   "cell_type": "markdown",
   "metadata": {},
   "source": [
    "# Tutorial 4 : The Lattice Boltzmann Method in ESPResSo - Part 2"
   ]
  },
  {
   "cell_type": "markdown",
   "metadata": {},
   "source": [
    "## 5 Polymer Diffusion"
   ]
  },
  {
   "cell_type": "markdown",
   "metadata": {},
   "source": [
    "In these exercises we want to use the LBM-MD-Hybrid to reproduce a classic result of polymer physics: The dependence of the diffusion coefficient of a polymer on its chain length. If no hydrodynamic interactions are present, one expects a scaling law $D \\propto N −1$ and if they are present, a scaling law $D \\propto N −\\nu $ is expected. Here ν is the Flory exponent\n",
    "that plays a very prominent role in polymer physics. It has a value of $∼ 3/5$ in good\n",
    "solvent conditions in 3D. Discussions of these scaling laws can be found in polymer\n",
    "physics textbooks like [4–6].  \n",
    "The reason for the different scaling law is the following: When being transported, every monomer creates a flow field that follows the direction of its motion. This flow field makes it easier for other monomers to follow its motion. This makes a polymer long enough diffuse more like compact object including the fluid inside it, although it does not have clear boundaries. It can be shown that its motion can be described by its\n",
    "hydrodynamic radius. It is defined as:  \n"
   ]
  },
  {
   "cell_type": "markdown",
   "metadata": {},
   "source": [
    "\\begin{equation}\n",
    "  \\langle \\frac{1}{R_h} \\rangle = \\langle \\frac{1}{N^2}\\sum_{i\\neq j} \\frac{1}{\\left| r_i - r_j \\right|} \\rangle\n",
    "\\end{equation}"
   ]
  },
  {
   "cell_type": "markdown",
   "metadata": {},
   "source": [
    "This hydrodynamic radius exhibits the scaling law  $R_h \\propto N^{\\nu}$\n",
    "and the diffusion coefficient of long polymer is proportional to its inverse.  \n",
    "For shorter polymers there is a transition region. It can be described\n",
    "by the Kirkwood-Zimm model:\n",
    "\\begin{equation}\n",
    "  D=\\frac{D_0}{N} + \\frac{k_B T}{6 \\pi \\eta } \\langle \\frac{1}{R_h} \\rangle\n",
    "\\end{equation}"
   ]
  },
  {
   "cell_type": "markdown",
   "metadata": {},
   "source": [
    "Here $D_0$ is the monomer diffusion coefficient and $\\eta$ the \n",
    "viscosity of the fluid. For a finite system size the second part of the\n",
    "diffusion is subject of a $1/L$ finite size effect, because\n",
    "hydrodynamic interactions are proportional to the inverse\n",
    "distance and thus long ranged. It can be taken into account\n",
    "by a correction:"
   ]
  },
  {
   "cell_type": "markdown",
   "metadata": {},
   "source": [
    "\\begin{equation}\n",
    "  D=\\frac{D_0}{N} + \\frac{k_B T}{6 \\pi \\eta } \\langle \\frac{1}{R_h} \\rangle \\left( 1- \\langle\\frac{R_h}{L} \\rangle \\right)\n",
    "\\end{equation}\n",
    "It is quite difficult to prove this formula with good accuracy. It will \n",
    "need quite some computer time and a careful analysis. So please don't be\n",
    "too disappointed if you don't manage to do so.  \n",
    "We want to determine the diffusion coefficient from the mean square\n",
    "distance that a particle travels in the time $t$. For large $t$ it is\n",
    "be proportional to the time and the diffusion coefficient occurs as \n",
    "prefactor: \n",
    "\\begin{equation}\n",
    "  \\frac{\\partial \\langle r^2 \\left(t\\right)\\rangle}{\\partial t} = 2 d D. \n",
    "\\end{equation}\n",
    "Here $d$ denotes the dimensionality of the system, in our case 3.This equation can be\n",
    "found in virtually any simulation textbook, like [7]. We will therefore set up a polymer\n",
    "in an LB fluid, simulate for an appropriate amount of time, calculate the mean square\n",
    "displacement as a function of time and obtain the diffusion coefficient from a linear\n",
    "fit. However we make a couple of steps in between and divide the full problem into\n",
    "subproblems that allow to (hopefully) fully understand the process."
   ]
  },
  {
   "cell_type": "markdown",
   "metadata": {},
   "source": [
    "### 5.1 Step 1: Diffusion of a single particle"
   ]
  },
  {
   "cell_type": "markdown",
   "metadata": {},
   "source": [
    "Our first step is to investigate the diffusion of a single particle that is coupled to an LB fluid by the point coupling method. Take a look at the script <tt>single_particle_diffusion.py</tt>. The script takes the LB-friction coefficient as an argument. Start with an friction coefficient of 1.0:"
   ]
  },
  {
   "cell_type": "code",
   "execution_count": null,
   "metadata": {},
   "outputs": [],
   "source": [
    "# The friction coefficient has to be changed inside the code as sys.argv[1]\n",
    "# does not work in iPython.\n",
    "from espressomd import System, lb\n",
    "from espressomd.observables import ParticlePositions\n",
    "from espressomd.accumulators import Correlator\n",
    "\n",
    "import numpy as np\n",
    "import sys\n",
    "\n",
    "# Constants\n",
    "\n",
    "loops = 40000\n",
    "steps = 10\n",
    "time_step = 0.01\n",
    "runtime = loops*steps*time_step\n",
    "box_l = 16\n",
    "\n",
    "lb_friction = 1.0 # The friction has been set to be 1.0 as default\n",
    "                  # Change this value for further simulations\n",
    "\n",
    "\n",
    "# System setup\n",
    "system = System(box_l = [box_l] * 3)\n",
    "system.set_random_state_PRNG()\n",
    "np.random.seed(seed = system.seed)\n",
    "system.time_step = time_step\n",
    "system.cell_system.skin = 0.4\n",
    "\n",
    "\n",
    "lbf = lb.LBFluidGPU(kT=1, seed=132, agrid=1, dens=1, visc=5, tau=0.01)\n",
    "system.actors.add(lbf)\n",
    "system.thermostat.set_lb(LB_fluid=lbf, seed=123, gamma=lb_friction)\n",
    "\n",
    "system.part.add(pos=[0, 0, 0])\n",
    "\n",
    "\n",
    "## perform a couple of steps to come to equilbrium\n",
    "print(\"Equilibrating the system.\")\n",
    "system.integrator.run(1000)\n",
    "print(\"Equlibration finished.\")\n",
    "\n",
    "# Setup observable correlator\n",
    "pos = ParticlePositions(ids=(0,))\n",
    "c = Correlator(obs1=pos, tau_lin = 16, tau_max = 1000, delta_N = 1,\n",
    "        corr_operation=\"square_distance_componentwise\", compress1=\"discard1\")\n",
    "system.auto_update_accumulators.add(c)\n",
    "\n",
    "print(\"Sampling started.\")\n",
    "for i in range(loops):\n",
    "    system.integrator.run(steps)\n",
    "\n",
    "    if i % 1e2 == 0:\n",
    "        sys.stdout.write(\"\\rSampling: %05i\"%i)\n",
    "        sys.stdout.flush()\n",
    "\n",
    "print(\"Sampling finished.\")\n",
    "\n",
    "c.finalize()\n",
    "corrdata = c.result()\n",
    "corr = np.zeros((corrdata.shape[0],2))\n",
    "corr[:,0] = corrdata[:,0]\n",
    "corr[:,1] = (corrdata[:,2] + corrdata[:,3] + corrdata[:,4]) / 3\n",
    "\n",
    "np.savetxt(\"./msd_\"+str(lb_friction)+\".dat\", corr)\n"
   ]
  },
  {
   "cell_type": "markdown",
   "metadata": {},
   "source": [
    "In this script an LB fluid and a single particle are created and thermalized. The\n",
    "random forces on the particle and within the LB fluid will cause the particle to move.\n",
    "The mean squared displacement is calculated during the simulation via a multiple-tau\n",
    "correlator. Run the simulation script and plot the output data <tt>msd_1.0.dat</tt>. To load the file into a numpy array, one can use <tt>numpy.loadtxt</tt>. Zoom in on the origin of the\n",
    "plot. What do you see for short times? What do you see on a longer time scale? Produce\n",
    "a double-logarithmic plot to assess the power law."
   ]
  },
  {
   "cell_type": "markdown",
   "metadata": {},
   "source": [
    "<figure>\n",
    "<img src='figures/msd.png', style=\"width: 500px;\"/>\n",
    "<center>\n",
    "<figcaption>*Mean squared displacement of a single particle for different values of LB friction\n",
    "coefficient.*</figcaption>\n",
    "</figure>"
   ]
  },
  {
   "cell_type": "markdown",
   "metadata": {},
   "source": [
    "Can you give an explanation for the quadratic time dependency for short times? Use the function <tt>curve_fit</tt> from the module <tt>scipy.optimize</tt> to produce a fit for the linear regime and determine the diffusion coefficient. Run the simulation again with different values for the friction coefficient, e.g., 1, 2, 4, and 10. Calculate the diffusion coefficient for all cases and plot them as a function of γ. What relation do you observe?"
   ]
  },
  {
   "cell_type": "markdown",
   "metadata": {},
   "source": [
    "## References"
   ]
  },
  {
   "cell_type": "markdown",
   "metadata": {},
   "source": [
    "[1] S Succi. *The lattice Boltzmann equation for fluid dynamics and beyond. *Clarendon Press, Oxford, 2001.  \n",
    "[2] B. Dünweg and A. J. C. Ladd. *Advanced Computer Simulation Approaches for Soft Matter Sciences III*, chapter II, pages 89–166. Springer, 2009.  \n",
    "[3] B. Dünweg, U. Schiller, and A.J.C. Ladd. Statistical mechanics of the fluctuating lattice-boltzmann equation. *Phys. Rev. E*, 76:36704, 2007.  \n",
    "[4] P. G. de Gennes. *Scaling Concepts in Polymer Physics*. Cornell University Press, Ithaca, NY, 1979.  \n",
    "[5] M. Doi. *Introduction do Polymer Physics.* Clarendon Press, Oxford, 1996.  \n",
    "[6] Michael Rubinstein and Ralph H. Colby. *Polymer Physics.* Oxford University Press, Oxford, UK, 2003.  \n",
    "[7] Daan Frenkel and Berend Smit. *Understanding Molecular Simulation.* Academic Press, San Diego, second edition, 2002."
   ]
  },
  {
   "cell_type": "code",
   "execution_count": null,
   "metadata": {},
   "outputs": [],
   "source": []
  }
 ],
 "metadata": {
  "kernelspec": {
   "display_name": "Python 2",
   "language": "python",
   "name": "python2"
  },
  "language_info": {
   "codemirror_mode": {
    "name": "ipython",
    "version": 2
   },
   "file_extension": ".py",
   "mimetype": "text/x-python",
   "name": "python",
   "nbconvert_exporter": "python",
   "pygments_lexer": "ipython2",
   "version": "2.7.12"
  }
 },
 "nbformat": 4,
 "nbformat_minor": 1
}
