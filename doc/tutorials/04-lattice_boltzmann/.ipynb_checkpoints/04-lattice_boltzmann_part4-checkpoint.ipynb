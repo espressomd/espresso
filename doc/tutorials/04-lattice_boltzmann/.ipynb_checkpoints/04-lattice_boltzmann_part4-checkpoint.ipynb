{
 "metadata": {
  "name": "",
  "signature": "sha256:683c9a601fd69262d891c9dedcb9c4901b96c54202c9e12b42d4c94e1dd8fbbd"
 },
 "nbformat": 3,
 "nbformat_minor": 0,
 "worksheets": [
  {
   "cells": [
    {
     "cell_type": "heading",
     "level": 4,
     "metadata": {},
     "source": [
      "Tutorial 4 : The Lattice Boltzmann Method in\n",
      "ESPResSo - Part 4"
     ]
    },
    {
     "cell_type": "markdown",
     "metadata": {},
     "source": [
      "### 6 Poiseuille flow ESPResSo"
     ]
    },
    {
     "cell_type": "markdown",
     "metadata": {},
     "source": [
      "Poisseuille flow is the flow through a pipe or (in our case) a slit\n",
      "under a homogenous force density, e.g. gravity. In the limit of small Reynolds\n",
      "numbers, the flow can be described with the Stokes equation. \n",
      "We assume the slit being infinitely extended in $y$ and $z$ \n",
      "direction and a force density $f$ on the fluid \n",
      "in $y$ direction. No slip-boundary conditions  (i.e. $\\vec{u}=0$)\n",
      "are located at $z = \\pm l/2$.\n",
      "Assuming invariance in $y$ and $z$ direction and a steady state \n",
      "the Stokes equation is simplified to:\n",
      "\\begin{equation}\n",
      "  \\eta \\partial_x^2 u_y = f\n",
      "\\end{equation}\n",
      "where $f$ denotes the force density and $\\eta$ the dynamic viscosity.\n",
      "This can be integrated twice and the integration constants are chosen\n",
      "so that $u_y=0$ at $z = \\pm l/2$ and we obtain:\n",
      "\\begin{equation}\n",
      "  u_y = \\frac{f}{2\\eta} \\left(l^2/4-x^2\\right)\n",
      "\\end{equation}\n",
      "With that knowledge investigate the script \\texttt{poisseuille.py}.\n",
      "Note the use of the \\texttt{lbboundaries} module. Two walls are created\n",
      "with normal vectors $\\left(\\pm 1, 0, 0 \\right)$. An external force\n",
      "is applied to every node. After 5000 LB updates the steady state should\n",
      "be reached."
     ]
    },
    {
     "cell_type": "markdown",
     "metadata": {},
     "source": [
      "Task: Write a loop that prints the fluid velocity at the nodes (0,0,0) to (16,0,0) and the node position to a file. Use the <tt>lbf.[node].quantity</tt> method for that. Hint: to write \n",
      "to a file, first open a file and then use the <tt>write()</tt> method to write into it. Do not forget to close the file afterwards. Example:"
     ]
    },
    {
     "cell_type": "raw",
     "metadata": {},
     "source": [
      "f = open(\"file.dat\", \"w\")\n",
      "f.write(\"Hello world!\\n\")\n",
      "f.close()"
     ]
    },
    {
     "cell_type": "markdown",
     "metadata": {},
     "source": [
      "Use the data to fit a parabolic function. Can you confirm the analytic solution?"
     ]
    },
    {
     "cell_type": "code",
     "collapsed": false,
     "input": [
      "## A script to simulate planar Poisseuille flow in Espresso\n",
      "from espressomd import System, lb, shapes, lbboundaries\n",
      "import numpy as np\n",
      "\n",
      "# System setup\n",
      "box_l = 16.0\n",
      "system = System(box_l = [box_l, box_l, box_l])\n",
      "system.set_random_state_PRNG()\n",
      "np.random.seed(seed = system.seed)\n",
      "system.time_step = 0.01\n",
      "system.cell_system.skin = 0.2\n",
      "\n",
      "lbf = lb.LBFluidGPU(agrid=1, dens=1, visc=1, tau=0.01, ext_force_density=[0, 0.001, 0])\n",
      "system.actors.add(lbf)\n",
      "system.thermostat.set_lb(kT=0)\n",
      "\n",
      "# Setup boundaries\n",
      "walls = [lbboundaries.LBBoundary() for k in range(2)]\n",
      "walls[0].set_params(shape=shapes.Wall(normal=[1,0,0], dist = 1.5))\n",
      "walls[1].set_params(shape=shapes.Wall(normal=[-1,0,0], dist = -14.5))\n",
      "\n",
      "for wall in walls:\n",
      "    system.lbboundaries.add(wall)\n",
      "\n",
      "## Perform enough iterations until the flow profile\n",
      "## is static (5000 LB updates):\n",
      "system.integrator.run(5000)\n",
      "\n",
      "## Part of the solution\n",
      "node_v_list = []\n",
      "for i in range(int(box_l)):\n",
      "    node_v_list.append(lbf[i, 0, 0].velocity[1])\n",
      "\n",
      "with open(\"lb_fluid_velocity.dat\", \"w\") as f:\n",
      "    for line in node_v_list:\n",
      "        f.write(str(line)+\"\\n\")"
     ],
     "language": "python",
     "metadata": {},
     "outputs": [],
     "prompt_number": 1
    },
    {
     "cell_type": "markdown",
     "metadata": {},
     "source": [
      "<figure>\n",
      "<img src='figures/poiseuille.png', style=\"width: 500px;\"/>\n",
      "<center>\n",
      "<figcaption>*Poisseuille Flow in a slit Geometry.*</figcaption>\n",
      "</figure>"
     ]
    },
    {
     "cell_type": "markdown",
     "metadata": {},
     "source": [
      "##References"
     ]
    },
    {
     "cell_type": "markdown",
     "metadata": {},
     "source": [
      "[1] S Succi. *The lattice Boltzmann equation for fluid dynamics and beyond. *Clarendon Press, Oxford, 2001.  \n",
      "[2] B. D\u00fcnweg and A. J. C. Ladd. *Advanced Computer Simulation Approaches for Soft Matter Sciences III*, chapter II, pages 89\u2013166. Springer, 2009.  \n",
      "[3] B. D\u00fcnweg, U. Schiller, and A.J.C. Ladd. Statistical mechanics of the fluctuating lattice-boltzmann equation. *Phys. Rev. E*, 76:36704, 2007.  \n",
      "[4] P. G. de Gennes. *Scaling Concepts in Polymer Physics*. Cornell University Press, Ithaca, NY, 1979.  \n",
      "[5] M. Doi. *Introduction do Polymer Physics.* Clarendon Press, Oxford, 1996.  \n",
      "[6] Michael Rubinstein and Ralph H. Colby. *Polymer Physics.* Oxford University Press, Oxford, UK, 2003.  \n",
      "[7] Daan Frenkel and Berend Smit. *Understanding Molecular Simulation.* Academic Press, San Diego, second edition, 2002."
     ]
    },
    {
     "cell_type": "code",
     "collapsed": false,
     "input": [],
     "language": "python",
     "metadata": {},
     "outputs": []
    }
   ],
   "metadata": {}
  }
 ]
}