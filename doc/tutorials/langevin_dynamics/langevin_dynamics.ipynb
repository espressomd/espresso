{
 "cells": [
  {
   "cell_type": "markdown",
   "id": "1c62998e",
   "metadata": {},
   "source": [
    "# Langevin dynamics"
   ]
  },
  {
   "cell_type": "markdown",
   "id": "5d9f1bb5",
   "metadata": {},
   "source": [
    "## Introduction\n",
    "\n",
    "In this tutorial, you are going to learn about Langevin dynamics, as well as two different ways to estimate the diffusion coefficient of particles in a system.\n",
    "Langevin dynamics is a very easy and therefore widely used technique to add Stokes friction and Brownian motion to a simulation setup.\n",
    "\n",
    "Let's consider a single spherical colloidal particle in a fluid. Due to the absence of further particles and external fields, this particle experiences Brownian motion as a result of the interaction with the solvent molecules. While structural relaxation times for molecular fluids are of the order of $10^{-14}\\,\\mathrm{s}$, relevant time scales for Brownian particles are known to be in the order of $10^{-9}\\,\\mathrm{s}$. The distinction between slow and fast degrees of freedom allows us to describe the motion of the colloidal particle in terms of the Langevin equation. This equation of motion describes the apparent random movement of the particle in the fluid and is given by\n",
    "\n",
    "\\begin{equation}\n",
    "    m\\dot{{\\bf v}}(t)=-\\gamma {\\bf v}(t)+{\\bf f}(t),\n",
    "    \\tag{1}\n",
    "\\end{equation}\n",
    "\n",
    "where $m$ denotes the particle mass and ${\\bf v}(t)$ its velocity. Equation (1) arises from Newton's equation of motion considering that the interaction of the spherical Brownian particle with the solvent has two contributions: 1) a friction force, which is proportional to the velocity of the particle, for not too large velocities, with proportionality constant equal to the friction constant $\\gamma$; and 2) a force ${\\bf f}(t)$ rapidly varying in time due to the the random collisions of the solvent molecules with the surface of the Brownian particle.\n",
    "\n",
    "For a macroscopically large spherical particle, $\\gamma$ is given by the Stokes' law\n",
    "\n",
    "$$\n",
    "    \\gamma = 6\\pi\\eta_0a,\n",
    "$$\n",
    "\n",
    "with $\\eta_0$ the shear viscosity of the fluid and $a$ the radius of the Brownian particle. The ensemble average of the fluctuating force ${\\bf f}(t)$ vanishes, \n",
    "\n",
    "$$\n",
    "    \\langle {\\bf f}(t)\\rangle = 0,\n",
    "$$\n",
    "\n",
    "since the systematic interaction with the fluid is made explicit in the friction term. Owing to the separation in time scales, there is no correlation between impacts in any distinct time intervals. Thus, the second moments of ${\\bf f}$ satisfy\n",
    "\n",
    "$$\n",
    "    \\langle f_i(t)f_j(t')\\rangle =2\\gamma k_\\text{B}T \\delta_{i,j}\\delta(t-t'),\n",
    "$$\n",
    "\n",
    "where one can see that the strength of the fluctuation force depends on the friction coefficient and the system temperature $T$.\n",
    "(The Boltzmann constant is denoted as $k_\\text{B}$ and the two $\\delta$s are Dirac delta functions with respect to particle id and time, respectively.)\n",
    "\n",
    "The Langevin equation obviously provides a very straightforward approach to represent both Stokes friction and Brownian motion acting on a particle. However, please be aware that due to its simplicity this technique also has its limitations, i.e., the drag force and diffusion to adjacent particles are uncorrelated and hydrodynamic interactions with the particle's surroundings are neglected. Langevin dynamics should therefore be used with caution, particularly in systems with high particle densities or strong hydrodynamic coupling.\n",
    "\n",
    "In the Langevin equation, only ensemble averaged properties of the random ${\\bf f}$ are specified. Consequently, it doesn't  make sense to look at a single deterministic solution of Eq. (1). Instead, one should measure ensemble averaged quantities that characterize the dynamics of the spherical Brownian particle. The simplest quantity is the so-called mean square displacement (MSD) after time $\\tau$\n",
    "\n",
    "$$\n",
    "    \\mathrm{MSD}(\\tau)=\\langle |{\\bf r}(t+\\tau)-{\\bf r}(t)|^2\\rangle.\n",
    "$$\n",
    "\n",
    "From integration of Eq. (1) in three dimensions and considering that ${\\bf v}(t)=\\dot{{\\bf r}}(t)$, one can obtain that\n",
    "\n",
    "$$\n",
    "    \\mathrm{MSD}(\\tau)=6D\\tau\n",
    "$$\n",
    "\n",
    "for $\\tau\\gg m/\\gamma$, where the diffusion coefficient $D$ is defined as\n",
    "\n",
    "$$\n",
    "    D=\\frac{k_\\text{B}T}{\\gamma}.\n",
    "$$\n",
    "\n",
    "Another common approach to measuring the diffusion coefficient is to use linear response theory, which provides links between time correlation functions and the system's response to weak perturbations, the so-called Green-Kubo relations <a href='#[1]'>[1]</a>. For the (translational) diffusion coefficient, the respective Green-Kubo relation is based on integrating the velocity-autocorrelation function (VACF) and reads\n",
    "\n",
    "\\begin{equation}\n",
    "    D_\\mathrm{GK} = \\frac{1}{d} \\int_0^\\infty \\langle {\\bf v}(t_0) {\\bf v}(t_0 + \\tau) \\rangle \\,\\mathrm{d} \\tau,\n",
    "    \\tag{2}\n",
    "\\end{equation}\n",
    "\n",
    "where $d$ is the dimensionality of the simulated system. In this tutorial, a three-dimensional system setup will be used, therefore $d=3$."
   ]
  },
  {
   "cell_type": "markdown",
   "id": "19512250",
   "metadata": {},
   "source": [
    "## 1. Setting up the observable"
   ]
  },
  {
   "cell_type": "markdown",
   "id": "a6fe7174",
   "metadata": {},
   "source": [
    "Write a function with signature `msd_correlator(pids, tau_max)` that returns a\n",
    "mean-squared displacement correlator that is updated every time step. Here, `pids` should be a list of particle ids and `tau_max` the respective parameter for ESPResSo's multiple-tau correlator. This parameter is the maximum time lag $\\tau$ for which the correlation should be computed. The correlator should be constructed using the `ParticlePositions` observable. For help, you can refer to the documentation of [<tt>observables and correlators</tt>](https://espressomd.github.io/doc/analysis.html#observables-framework)."
   ]
  },
  {
   "cell_type": "code",
   "execution_count": null,
   "id": "781fb43a",
   "metadata": {},
   "outputs": [],
   "source": [
    "# SOLUTION CELL\n",
    "def msd_correlator(pids, tau_max):\n",
    "    pos = espressomd.observables.ParticlePositions(ids=pids)\n",
    "    pos_corr = espressomd.accumulators.Correlator(\n",
    "        obs1=pos, tau_lin=16, tau_max=tau_max, delta_N=1,\n",
    "        corr_operation=\"square_distance_componentwise\", compress1=\"discard1\")\n",
    "    return pos_corr"
   ]
  },
  {
   "cell_type": "code",
   "execution_count": null,
   "id": "3c458ac6",
   "metadata": {},
   "outputs": [],
   "source": []
  },
  {
   "cell_type": "markdown",
   "id": "26d68465",
   "metadata": {},
   "source": [
    "Similarly, write a funtion with signature `vel_correlator(pids, tau_max)` that returns a correlator that calculates the time autocorrelation of the particle velocities."
   ]
  },
  {
   "cell_type": "code",
   "execution_count": null,
   "id": "e7769f12",
   "metadata": {},
   "outputs": [],
   "source": [
    "# SOLUTION CELL\n",
    "def vel_correlator(pids, tau_max):\n",
    "    vel = espressomd.observables.ParticleVelocities(ids=pids)\n",
    "    vel_corr = espressomd.accumulators.Correlator(\n",
    "        obs1=vel, tau_lin=16, tau_max=tau_max, delta_N=1,\n",
    "        corr_operation=\"scalar_product\", compress1=\"discard1\")\n",
    "    return vel_corr"
   ]
  },
  {
   "cell_type": "code",
   "execution_count": null,
   "id": "eee500ce",
   "metadata": {},
   "outputs": [],
   "source": []
  },
  {
   "cell_type": "markdown",
   "id": "cd9580ca",
   "metadata": {},
   "source": [
    "## 2. Simulating Brownian motion"
   ]
  },
  {
   "cell_type": "markdown",
   "id": "c38456fa",
   "metadata": {},
   "source": [
    "We will simulate the diffusion of a single particle that is coupled to an implicit solvent."
   ]
  },
  {
   "cell_type": "code",
   "execution_count": null,
   "id": "9e5d59e0",
   "metadata": {},
   "outputs": [],
   "source": [
    "import numpy as np\n",
    "import logging\n",
    "import sys\n",
    "\n",
    "import espressomd\n",
    "import espressomd.accumulators\n",
    "import espressomd.observables\n",
    "\n",
    "logging.basicConfig(level=logging.INFO, stream=sys.stdout)\n",
    "\n",
    "# Simulation parameters\n",
    "KT = 1.1\n",
    "STEPS = 1000000\n",
    "\n",
    "# System setup\n",
    "system = espressomd.System(box_l=[16] * 3)\n",
    "system.time_step = 0.01\n",
    "system.cell_system.skin = 0.4\n",
    "\n",
    "particle = system.part.add(pos=[0, 0, 0])\n",
    "\n",
    "# Run for different friction coefficients\n",
    "gammas = [1.0, 2.0, 4.0, 10.0]\n",
    "tau_results = []\n",
    "msd_results = []\n",
    "vacf_results = []\n",
    "\n",
    "for gamma in gammas:\n",
    "    system.thermostat.set_langevin(kT=KT, gamma=gamma, seed=42)\n",
    "\n",
    "    logging.info(\"Equilibrating the system.\")\n",
    "    system.integrator.run(1000)\n",
    "    logging.info(\"Equilibration finished.\")\n",
    "\n",
    "    # Register correlators that will measure the MSD and VACF during the simulation\n",
    "    correlator_msd = msd_correlator([particle.id], STEPS)\n",
    "    correlator_vel = vel_correlator([particle.id], STEPS)\n",
    "    system.auto_update_accumulators.add(correlator_msd)\n",
    "    system.auto_update_accumulators.add(correlator_vel)\n",
    "\n",
    "    logging.info(f\"Sampling started for gamma = {gamma:.1f}.\")\n",
    "    system.integrator.run(STEPS)\n",
    "    correlator_msd.finalize()\n",
    "    correlator_vel.finalize()\n",
    "    tau_results.append(correlator_msd.lag_times())\n",
    "    msd_results.append(np.sum(correlator_msd.result().reshape([-1, 3]), axis=1))\n",
    "    vacf_results.append(np.sum(correlator_vel.result().reshape([-1, 1]), axis=1))\n",
    "    # In our setup, both correlators should produce values for the same lag times,\n",
    "    # we therefore do not have to save the lag times twice ...\n",
    "    assert np.array_equal(tau_results[-1], correlator_vel.lag_times())\n",
    "    system.auto_update_accumulators.clear()\n",
    "    system.thermostat.turn_off()\n",
    "\n",
    "logging.info(\"Sampling finished.\")"
   ]
  },
  {
   "cell_type": "markdown",
   "id": "c6bff9e3",
   "metadata": {},
   "source": [
    "## 3. Data analysis\n",
    "### 3.1 Plotting the results"
   ]
  },
  {
   "cell_type": "code",
   "execution_count": null,
   "id": "8dddb4cd",
   "metadata": {},
   "outputs": [],
   "source": [
    "%matplotlib inline\n",
    "import matplotlib.pyplot as plt\n",
    "\n",
    "plt.rcParams.update({'font.size': 18})\n",
    "\n",
    "plt.figure(figsize=(10, 6))\n",
    "plt.xlabel(r'$\\tau$ [$\\Delta t$]')\n",
    "plt.ylabel(r'MSD [$\\sigma^2$]')\n",
    "linestyles = [\"solid\", \"dashdot\", \"dashed\", \"dotted\"]\n",
    "for index, (tau, msd) in enumerate(zip(tau_results, msd_results)):\n",
    "    # We skip the first entry since it's zero by definition and cannot be displayed\n",
    "    # in a loglog plot. Furthermore, we only look at the first 100 entries due to\n",
    "    # the high variance for larger lag times.\n",
    "    plt.loglog(tau[1:100], msd[1:100], label=fr'$\\gamma={gammas[index]:.1f}$')\n",
    "for index, tau in enumerate(tau_results):\n",
    "    plt.loglog(tau[1:100], 6*KT/gammas[index]*tau[1:100], linestyle=linestyles[index],\n",
    "               color=\"gray\", label=fr'theory ($\\gamma={gammas[index]:.1f}$)')\n",
    "plt.legend(ncol=2, columnspacing=0.5, handlelength=1.3)\n",
    "plt.show()"
   ]
  },
  {
   "cell_type": "markdown",
   "id": "8a3c5445",
   "metadata": {},
   "source": [
    "### 3.2 Calculating the diffusion coefficient using the MSD\n",
    "\n",
    "In this script an implicit solvent and a single particle are created and thermalized.\n",
    "The random forces on the particle will cause the particle to move.\n",
    "The mean squared displacement is calculated during the simulation via a multiple-tau\n",
    "correlator. \n",
    "Can you give an explanation for the quadratic time dependency for short times?"
   ]
  },
  {
   "cell_type": "markdown",
   "id": "c1a22a74",
   "metadata": {},
   "source": [
    "The MSD of a Brownian motion can be decomposed in three main regimes <a href='#[2]'>[2]</a>:\n",
    "* for short lag times $\\tau < \\tau_\\mathrm{p}$, the particle motion is not\n",
    "  significantly impeded by solvent collisions: it's in the ballistic mode\n",
    "  (collision-free regime) where $\\operatorname{MSD}(t) \\sim (k_\\mathrm{B}T / \\gamma) t^2$\n",
    "* for long lag times $\\tau > \\tau_\\mathrm{f}$, the particle motion is determined by\n",
    "  numerous collisions with the solvent: it's in the diffusive mode where\n",
    "  $\\operatorname{MSD}(t) \\sim 6t$\n",
    "* for lag times between $\\tau_\\mathrm{p}$ and $\\tau_\\mathrm{f}$, there is a crossover mode\n",
    "\n",
    "The values $\\tau_\\mathrm{p}$ and $\\tau_\\mathrm{f}$ can be obtained manually through visual\n",
    "inspection of the MSD plot, or more accurately by non-linear fitting <a href='#[3]'>[3]</a>.\n",
    "\n",
    "Here, we are interested in the diffusion constant. Hence, we can ignore the\n",
    "ballistic regime and look at the diffusive regime in more detail."
   ]
  },
  {
   "cell_type": "markdown",
   "id": "15a5a347",
   "metadata": {},
   "source": [
    "Use the function [<tt>curve_fit()</tt>](https://docs.scipy.org/doc/scipy/reference/generated/scipy.optimize.curve_fit.html) from the module <tt>scipy.optimize</tt> to produce a fit for the linear regime and determine the diffusion coefficients for the different $\\gamma$s."
   ]
  },
  {
   "cell_type": "markdown",
   "id": "9c365974",
   "metadata": {},
   "source": [
    "For large $t$ the diffusion coefficient can be obtained using the fluctuation-dissipation theorem [1]\n",
    "\n",
    "$$6D = \\lim_{t\\to\\infty} \\frac{\\partial \\operatorname{MSD}(t)}{\\partial t},$$\n",
    "\n",
    "where $D$ is straightforwardly given via the slope of the MSD in the diffusive mode.\n",
    "\n",
    "Your results for the ($\\gamma$-dependent) diffusivity coefficients should be saved in a Python-list `diffusion_msd = [...]`."
   ]
  },
  {
   "cell_type": "code",
   "execution_count": null,
   "id": "226d990a",
   "metadata": {},
   "outputs": [],
   "source": [
    "# SOLUTION CELL\n",
    "import scipy.optimize\n",
    "\n",
    "\n",
    "def linear(x, a, b):\n",
    "    return a * x + b\n",
    "\n",
    "\n",
    "# cutoffs for the diffusive regime (different for each gamma value)\n",
    "tau_f_values = [24, 22, 20, 17]\n",
    "# cutoff for the data series (larger lag times have larger variance due to undersampling)\n",
    "cutoff_limit = 90\n",
    "\n",
    "diffusion_msd = []\n",
    "\n",
    "plt.figure(figsize=(10, 6))\n",
    "plt.xlabel(r'$\\tau$ [$\\Delta t$]')\n",
    "plt.ylabel(r'MSD [$\\sigma^2$]')\n",
    "for index, (tau_f, tau, msd) in enumerate(zip(tau_f_values, tau_results, msd_results)):\n",
    "    (a, b), _ = scipy.optimize.curve_fit(linear, tau[tau_f:cutoff_limit], msd[tau_f:cutoff_limit])\n",
    "    x = np.linspace(tau[tau_f], tau[cutoff_limit - 1], 50)\n",
    "    p = plt.plot(x, linear(x, a, b), '-')\n",
    "    plt.plot(tau[tau_f:cutoff_limit], msd[tau_f:cutoff_limit], 'o', color=p[0].get_color(),\n",
    "             label=fr'$\\gamma=${gammas[index]:.1f}')\n",
    "    diffusion_msd.append(a / 6)\n",
    "\n",
    "plt.legend()\n",
    "plt.show()"
   ]
  },
  {
   "cell_type": "code",
   "execution_count": null,
   "id": "0f9ceeb2",
   "metadata": {},
   "outputs": [],
   "source": []
  },
  {
   "cell_type": "markdown",
   "id": "a1f5394b",
   "metadata": {},
   "source": [
    "### 3.3 Calculating the diffusion coefficient using the Green-Kubo relation\n",
    "\n",
    "We now want to estimate the diffusion coefficient using the Green-Kubo relation given in Eq. (2).\n",
    "This approach is based on integrating the velocity-autocorrelation function, which should therefore be inspected first."
   ]
  },
  {
   "cell_type": "code",
   "execution_count": null,
   "id": "323f3a9c",
   "metadata": {},
   "outputs": [],
   "source": [
    "plt.figure(figsize=(10, 6))\n",
    "plt.xlabel(r\"$\\tau$ [$\\Delta t$]\")\n",
    "plt.ylabel(r\"$\\langle {\\bf v}(t_0) {\\bf v}(t_0 + \\tau) \\rangle$\")\n",
    "plt.xlim([0.004, 2500])\n",
    "plt.ylim([0.001, 5])\n",
    "for index, (tau, vacf) in enumerate(zip(tau_results, vacf_results)):\n",
    "    plt.loglog(tau, vacf, label=fr'$\\gamma={gammas[index]:.1f}$')\n",
    "plt.legend()\n",
    "plt.show()"
   ]
  },
  {
   "cell_type": "markdown",
   "id": "4566922c",
   "metadata": {},
   "source": [
    "We find that the velocity-autocorrelation function quickly decays towards zero. However, owing to the relatively short overall sampling time, only the first part of the correlation function is well-sampled and a lot of noise is found in the tail of the autocorrelation function already early on. The obvious solution would be to increase the sampling time and in a production setting one would definitely have to do so in order to smoothly resolve at least several relaxation times. However, depending on a system's characteristics, under certain conditions it might still be necessary to replace a noisy long-time tail with an analytical expression, fitted to the short-time part of the autocorrelation function (again over at least several decay times; typically one would smoothly transition between numerical short-time data and the analytical tail-fit).\n",
    "\n",
    "A perfect smoothly sampled autocorrelation function could be integrated numerically, using e.g. [<tt>numpy.trapz</tt>](https://numpy.org/doc/stable/reference/generated/numpy.trapz.html).\n",
    "Here, however, we will use the initial part of the velocity-autocorrelation function to obtain a fully analytic data  representation. For a Brownian particle the velocity-autocorrelation is expected to follow a simple exponential decay.\n",
    "\n",
    "Write a Python-function for the exponential decay. Fit your decay-function to the (short-time) correlation data and create a plot to visually verify that the analytic fits are indeed good representations of the data (the exponential decay should be a perfect match in the smooth region of the correlation function). You can copy and modify the plot script given above.\n",
    "\n",
    "You should now estimate the $\\gamma$-dependent diffusion coefficients using the analytically fitted data representations. That is, analytically integrate your decay-function from $0$ to $\\infty$ and use this analytical integral and your fit parameters to calculate the diffusivity via the Green-Kubo expression given in Eq. (2).\n",
    "Save your results again in a Python-list `diffusion_gk = [...]`."
   ]
  },
  {
   "cell_type": "code",
   "execution_count": null,
   "id": "7e367813",
   "metadata": {},
   "outputs": [],
   "source": [
    "# SOLUTION CELL\n",
    "def exp_decay(x, a, b):\n",
    "    return a * np.exp(-x / b)\n",
    "\n",
    "diffusion_gk = []\n",
    "\n",
    "linestyles = [\"solid\", \"dashdot\", \"dashed\", \"dotted\"]\n",
    "plt.figure(figsize=(10, 6))\n",
    "plt.xlabel(r\"$\\tau$ [$\\Delta t$]\")\n",
    "plt.ylabel(r\"$\\langle {\\bf v}(t_0) {\\bf v}(t_0 + \\tau) \\rangle$\")\n",
    "plt.xlim([0.004, 2500])\n",
    "plt.ylim([0.001, 5])\n",
    "for index, (tau, vacf) in enumerate(zip(tau_results, vacf_results)):\n",
    "    plt.loglog(tau, vacf, label=fr\"$\\gamma=${gammas[index]:.1f}\")\n",
    "for index, (tau, vacf) in enumerate(zip(tau_results, vacf_results)):\n",
    "    (a, b), _ = scipy.optimize.curve_fit(exp_decay, tau[:60], vacf[:60])\n",
    "    xs = np.linspace(0.02, 100, 100000)\n",
    "    plt.loglog(xs, exp_decay(xs, a, b), linestyle=linestyles[index],\n",
    "               color=\"gray\", label=fr\"fit($\\gamma=${gammas[index]:.1f})\")\n",
    "    # Analytical calculation: int_0^infinity exp_decay(x, a, b) dx = a * b,\n",
    "    # consequently, the GK relation for the diffusivity is:\n",
    "    diffusion_gk.append(a * b / 3)\n",
    "plt.legend(loc='upper right', ncol=2, columnspacing=0.5, handlelength=1.3, framealpha=1)\n",
    "plt.show()"
   ]
  },
  {
   "cell_type": "code",
   "execution_count": null,
   "id": "d64536e3",
   "metadata": {},
   "outputs": [],
   "source": []
  },
  {
   "cell_type": "markdown",
   "id": "fa13b231",
   "metadata": {},
   "source": [
    "### 3.3 Comparing to the Stokes-Einstein relation"
   ]
  },
  {
   "cell_type": "markdown",
   "id": "085532e1",
   "metadata": {},
   "source": [
    "Plot all diffusion coefficients (`diffusion_msd`, `diffusion_gk`) as a function of $\\gamma$. What relation do you observe?"
   ]
  },
  {
   "cell_type": "markdown",
   "id": "71c096ea",
   "metadata": {},
   "source": [
    "In the diffusive mode, one can derive $D = k_\\mathrm{B}T / \\gamma$ from the Stokes–Einstein relation <a href='#[4]'>[4]</a>. Compare your results to the Stokes-Einstein prediction."
   ]
  },
  {
   "cell_type": "code",
   "execution_count": null,
   "id": "446cdec4",
   "metadata": {},
   "outputs": [],
   "source": [
    "# SOLUTION CELL\n",
    "plt.figure(figsize=(10, 6))\n",
    "plt.xlabel(r'$\\gamma$')\n",
    "plt.ylabel(r'Diffusion coefficient [$\\sigma^2/t$]')\n",
    "x = np.linspace(0.9 * min(gammas), 1.1 * max(gammas), 50)\n",
    "y = KT / x\n",
    "plt.plot(x, y, '-', label=r'$k_\\mathrm{B}T\\gamma^{-1}$')\n",
    "plt.plot(gammas, diffusion_msd, 'o', label=r'$D_\\mathrm{MSD}$')\n",
    "plt.plot(gammas, diffusion_gk, '^', label=r'$D_\\mathrm{GK}$')\n",
    "plt.legend()\n",
    "plt.show()"
   ]
  },
  {
   "cell_type": "code",
   "execution_count": null,
   "id": "45496c31",
   "metadata": {},
   "outputs": [],
   "source": []
  },
  {
   "cell_type": "markdown",
   "id": "3a94e9b5",
   "metadata": {},
   "source": [
    "## References\n",
    "\n",
    "<a id='[1]'></a>[1] R. Kubo. Statistical-Mechanical Theory of Irreversible Processes. I. General Theory and Simple Applications to Magnetic and Conduction Problems. *J. Phys. Soc. Jpn.*, 12, 1957. doi:[10.1143/JPSJ.12.570](https://doi.org/10.1143/JPSJ.12.570)  \n",
    "<a id='[2]'></a>[2] R. Huang, I. Chavez, K. Taute, et al. Direct observation of the full transition from ballistic to diffusive Brownian motion in a liquid. *Nature Phys.*, 7, 2011. doi:[10.1038/nphys1953](https://doi.org/10.1038/nphys1953)  \n",
    "<a id='[3]'></a>[3] M. K. Riahi, I. A. Qattan, J. Hassan, D. Homouz, Identifying short- and long-time modes of the mean-square displacement: An improved nonlinear fitting approach. *AIP Advances*, 9:055112, 2019. doi:[10.1063/1.5098051](https://doi.org/10.1063/1.5098051)  \n",
    "<a id='[4]'></a>[4] R. Huang, I. Chavez, K. Taute, et al. Direct observation of the full transition from ballistic to diffusive Brownian motion in a liquid. *Nature Phys.*, 7, 2011. doi:[10.1038/nphys1953](https://doi.org/10.1038/nphys1953)  "
   ]
  }
 ],
 "metadata": {
  "kernelspec": {
   "display_name": "Python 3",
   "language": "python",
   "name": "python3"
  },
  "language_info": {
   "codemirror_mode": {
    "name": "ipython",
    "version": 3
   },
   "file_extension": ".py",
   "mimetype": "text/x-python",
   "name": "python",
   "nbconvert_exporter": "python",
   "pygments_lexer": "ipython3",
   "version": "3.9.6"
  }
 },
 "nbformat": 4,
 "nbformat_minor": 5
}
