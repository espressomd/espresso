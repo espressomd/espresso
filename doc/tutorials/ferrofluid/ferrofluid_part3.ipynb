{
 "cells": [
  {
   "cell_type": "markdown",
   "id": "8c573e96",
   "metadata": {},
   "source": [
    "# Ferrofluid - Part 3 "
   ]
  },
  {
   "cell_type": "markdown",
   "id": "7d975bc1",
   "metadata": {},
   "source": [
    "## Table of Contents\n",
    "1. [Susceptibility with fluctuation formulas](#Susceptibility-with-fluctuation-formulas)\n",
    "    1. [Derivation of the fluctuation formula](#Derivation-of-the-fluctuation-formula)\n",
    "    2. [Simulation](#Simulation)\n",
    "2. [Magnetization curve of a 3D system](#Magnetization-curve-of-a-3D-system)"
   ]
  },
  {
   "cell_type": "markdown",
   "id": "1d6be862",
   "metadata": {},
   "source": [
    "**Remark**: The equilibration and sampling times used in this tutorial would be not sufficient for scientific  purposes, but they are long enough to get at least a qualitative insight of the behaviour of ferrofluids. They have been shortened so we achieve reasonable computation times for the purpose of a tutorial."
   ]
  },
  {
   "cell_type": "markdown",
   "id": "03d740d7",
   "metadata": {},
   "source": [
    "## Susceptibility with fluctuation formulas"
   ]
  },
  {
   "cell_type": "markdown",
   "id": "70e3ca09",
   "metadata": {},
   "source": [
    "In this part we want to calculate estimators for the initial susceptibility, i.e. the susceptibility at zero external magnetic field. One could carry out several simulations with different external magnetic field strengths and get the initial susceptibility by fitting a line to the results. We want to go a more elegant way by using fluctuation formulas known from statistical mechanics.\n",
    "In three dimensions the initial susceptibility $\\chi_{init}$ can be calculated with zero field simulations through\n",
    "\n",
    "\\begin{equation}\n",
    "    \\chi_\\mathrm{init} = \\frac{V \\cdot \\mu_0}{3 \\cdot k_\\mathrm{B} T} \\left( \\langle \\boldsymbol{M}^2 \\rangle - \\langle \\boldsymbol{M} \\rangle^2 \\right) = \\frac{\\mu_0}{3 \\cdot k_\\mathrm{B} T \\cdot V} \\left( \\langle \\boldsymbol{\\mu}^2 \\rangle - \\langle \\boldsymbol{\\mu} \\rangle^2 \\right)\n",
    "\\end{equation}\n",
    "\n",
    "where $\\boldsymbol{M}$ is the magnetization vector and $\\boldsymbol{\\mu}$ is the total magnetic dipole moment of the system. In direction $i$ it reads\n",
    "\n",
    "\\begin{equation}\n",
    "    M_i = \\frac{1}{V} \\Bigg\\langle \\sum_{j=1}^N \\tilde{\\mu}_j^i \\Bigg\\rangle\n",
    "\\end{equation}\n",
    "\n",
    "where $\\tilde{\\mu}_j^i$ is the $j$ th dipole moment in direction $i$."
   ]
  },
  {
   "cell_type": "markdown",
   "id": "ce772e10",
   "metadata": {},
   "source": [
    "### Derivation of the fluctuation formula"
   ]
  },
  {
   "cell_type": "markdown",
   "id": "7b8e5877",
   "metadata": {},
   "source": [
    "We want to derive the fluctuation formula. We start with the definition of the magnetic susceptibility. In general this reads\n",
    "\n",
    "\\begin{equation}\n",
    "    \\chi \\equiv \\frac{\\partial}{\\partial H} \\langle M_{\\boldsymbol{H}} \\rangle\n",
    "\\end{equation}\n",
    "\n",
    "with $\\langle M_{\\boldsymbol{H}} \\rangle$ the ensemble averaged magnetization in direction of a homogeneous external magnetic field $\\boldsymbol{H}$.\n",
    "\n",
    "In thermal equilibrium the ensemble average of the magnetization reads\n",
    "\n",
    "\\begin{equation}\n",
    "    \\langle M_{\\boldsymbol{H}} \\rangle = \\frac{1}{V Z_\\mathrm{c}} \\left \\lbrack \\sum_{\\alpha} \\mu_{\\boldsymbol{H},\\alpha} e^{ -\\beta E_{\\alpha}(H=0) + \\beta\\mu_0\\mu_{\\boldsymbol{H},\\alpha}H }\\right \\rbrack\n",
    "\\end{equation}\n",
    "\n",
    "with $Z_\\mathrm{c}$ the canonical partition function, $E_{\\alpha}(H=0)$ the energy without an external magnetic field $\\boldsymbol{H}$, $\\beta$ the inverse thermal energy $\\frac{1}{k_\\mathrm{B}T}$, $\\mu_{\\boldsymbol{H},\\alpha}$ the total magnetic dipole moment of the system in direction of the external magnetic field $\\boldsymbol{H}$ in microstate $\\alpha$ and $V$ the system volume.\n",
    "\n",
    "Now we insert the magnetization $\\langle M_{\\boldsymbol{H}} \\rangle$ in the definition of the magnetic susceptibility $\\chi$ and let the derivative operate on the ensemble average. We get the fluctuation formula\n",
    "\n",
    "\\begin{equation}\n",
    "    \\chi = \\frac{\\beta\\mu_0}{V} \\left \\lbrack \\frac{1}{Z_\\mathrm{c}}\\sum_{\\alpha} \\mu_{\\alpha}^2~ e^{ -\\beta E_{\\alpha}(H=0) + \\beta\\mu_0\\mu_{\\boldsymbol{H},\\alpha}H } - \\frac{1}{Z_\\mathrm{c}}\\sum_{\\alpha} \\mu_{\\alpha}~ e^{ -\\beta E_{\\alpha}(H=0) + \\beta\\mu_0\\mu_{\\boldsymbol{H},\\alpha}H }~~ \\frac{1}{Z_\\mathrm{c}}\\sum_{\\alpha'}\\mu_{\\alpha'}~ e^{ -\\beta E_{\\alpha'}(H=0) + \\beta\\mu_0\\mu_{\\boldsymbol{H},\\alpha}H }\\right \\rbrack = \\frac{\\beta\\mu_0}{V} \\left \\lbrack \\langle \\mu_{\\boldsymbol{H}}^2 \\rangle - \\langle \\mu_{\\boldsymbol{H}} \\rangle^2 \\right \\rbrack = \\frac{\\beta\\mu_0}{V} \\left(\\Delta \\mu_{\\boldsymbol{H}}\\right)^2\n",
    "\\end{equation}\n",
    "\n",
    "At zero external magnetic field ($H = 0$) there is no distinct direction for the system, so we can take the fluctuations $\\Delta \\mu$ in all directions and divide it by the dimension. Thus we can use more data points of our simulation for the average and get a more precise estimator for the susceptibility. Thus finally the fluctuation formula for the initial susceptibility in three dimensions reads\n",
    "\n",
    "\\begin{equation}\n",
    "    \\chi_\\mathrm{init} = \\frac{\\beta\\mu_0}{3V} \\left \\lbrack \\langle \\boldsymbol{\\mu}^2 \\rangle - \\langle \\boldsymbol{\\mu} \\rangle^2 \\right \\rbrack = \\frac{V\\beta\\mu_0}{3} \\left \\lbrack \\langle \\boldsymbol{M}^2 \\rangle - \\langle \\boldsymbol{M} \\rangle^2 \\right \\rbrack\n",
    "\\end{equation}\n",
    "\n",
    "where $\\boldsymbol{\\mu}$ and $\\boldsymbol{M}$ are defined above."
   ]
  },
  {
   "cell_type": "markdown",
   "id": "683195d6",
   "metadata": {},
   "source": [
    "### Simulation"
   ]
  },
  {
   "cell_type": "markdown",
   "id": "f6a20c20",
   "metadata": {},
   "source": [
    "In this part we want to consider a three dimensional ferrofluid system and compare our result for the initial susceptibility $\\chi_\\mathrm{init}$ with them of Ref. <a href='#[1]'>[1]</a>."
   ]
  },
  {
   "cell_type": "markdown",
   "id": "9a036d6c",
   "metadata": {},
   "source": [
    "First we import all necessary packages and check for the required **ESPResSo** features"
   ]
  },
  {
   "cell_type": "code",
   "execution_count": null,
   "id": "0da30a6f",
   "metadata": {},
   "outputs": [],
   "source": [
    "import espressomd\n",
    "import espressomd.magnetostatics\n",
    "import espressomd.zn\n",
    "\n",
    "espressomd.assert_features(['DIPOLES', 'DP3M', 'LENNARD_JONES'])\n",
    "\n",
    "%matplotlib inline\n",
    "import matplotlib.pyplot as plt\n",
    "plt.rcParams.update({'font.size': 18})\n",
    "import numpy as np\n",
    "import tqdm"
   ]
  },
  {
   "cell_type": "markdown",
   "id": "0e57cbe2",
   "metadata": {},
   "source": [
    "Now we set up all necessary simulation parameters"
   ]
  },
  {
   "cell_type": "code",
   "execution_count": null,
   "id": "d242a26e",
   "metadata": {},
   "outputs": [],
   "source": [
    "lj_sigma = 1\n",
    "lj_epsilon = 1\n",
    "lj_cut = 2**(1. / 6.) * lj_sigma\n",
    "\n",
    "# magnetic field constant\n",
    "mu_0 = 1.\n",
    "\n",
    "# Particles\n",
    "N = 1000\n",
    "\n",
    "# Volume fraction\n",
    "# phi = rho * 4. / 3. * np.pi * ( lj_sigma / 2 )**3.\n",
    "phi = 0.0262\n",
    "\n",
    "# Dipolar interaction parameter lambda = mu_0 m^2 /(4 pi sigma^3 kT)\n",
    "dip_lambda = 3.\n",
    "\n",
    "# Temperature\n",
    "kT = 1.0\n",
    "\n",
    "# Friction coefficient\n",
    "gamma = 1.0\n",
    "\n",
    "# Time step\n",
    "dt = 0.02\n",
    "\n",
    "# box size 3d\n",
    "box_size = (N * np.pi * 4. / 3. * (lj_sigma / 2.)**3. / phi)**(1. / 3.)"
   ]
  },
  {
   "cell_type": "markdown",
   "id": "afce9ac8",
   "metadata": {},
   "source": [
    "Next we set up the system. As in **part I**, the orientation of the dipole moments is set directly on the particles, whereas the magnitude of the moments is taken into account when determining the prefactor of the dipolar P3M (for more details see **part I**)."
   ]
  },
  {
   "cell_type": "markdown",
   "id": "91a10ae0",
   "metadata": {},
   "source": [
    "**Hint:**\n",
    "It should be noted that we seed both the Langevin thermostat and the random number generator of numpy. Latter means that the initial configuration of our system is the same every time this script is executed. As the time evolution of the system depends not solely on the Langevin thermostat but also on the numeric accuracy and DP3M (the tuned parameters are slightly different every time) it is only partly predefined. You can change the seeds to simulate with a different initial configuration and a guaranteed different time evolution."
   ]
  },
  {
   "cell_type": "code",
   "execution_count": null,
   "id": "6f40c8f9",
   "metadata": {
    "scrolled": true
   },
   "outputs": [],
   "source": [
    "system = espressomd.System(box_l=(box_size, box_size, box_size))\n",
    "system.time_step = dt\n",
    "\n",
    "# Lennard-Jones interaction\n",
    "system.non_bonded_inter[0, 0].lennard_jones.set_params(epsilon=lj_epsilon, sigma=lj_sigma, cutoff=lj_cut, shift=\"auto\")\n",
    "\n",
    "# Random dipole moments\n",
    "np.random.seed(seed=1)\n",
    "dip_phi = 2 * np.pi * np.random.random((N, 1))\n",
    "dip_cos_theta = 2 * np.random.random((N, 1)) - 1\n",
    "dip_sin_theta = np.sin(np.arccos(dip_cos_theta))\n",
    "dip = np.hstack((\n",
    "    dip_sin_theta * np.sin(dip_phi),\n",
    "    dip_sin_theta * np.cos(dip_phi),\n",
    "    dip_cos_theta))\n",
    "\n",
    "# Random positions in system volume\n",
    "pos = box_size * np.random.random((N, 3))\n",
    "\n",
    "# Add particles\n",
    "particles = system.part.add(pos=pos, rotation=N * [(True, True, True)], dip=dip)\n",
    "\n",
    "# Remove overlap between particles by means of the steepest descent method\n",
    "mass = 1.0\n",
    "f_max = 0.01 * lj_sigma * mass / system.time_step**2\n",
    "system.integrator.set_steepest_descent(\n",
    "        f_max=f_max,\n",
    "        gamma=0.1,\n",
    "        max_displacement=0.05)\n",
    "system.integrator.run(5000)\n",
    "assert np.all(np.abs(system.part.all().f) < f_max), \"Overlap removal did not converge!\"\n",
    "\n",
    "# Switch to velocity Verlet integrator\n",
    "system.integrator.set_vv()\n",
    "system.thermostat.set_langevin(kT=kT, gamma=gamma, seed=1)\n",
    "\n",
    "# tune verlet list skin\n",
    "system.cell_system.skin = 0.8\n",
    "\n",
    "# Setup dipolar P3M\n",
    "accuracy = 5E-4\n",
    "system.magnetostatics.solver = espressomd.magnetostatics.DipolarP3M(accuracy=accuracy, prefactor=dip_lambda * lj_sigma**3 * kT)"
   ]
  },
  {
   "cell_type": "markdown",
   "id": "c1217680",
   "metadata": {},
   "source": [
    "Now we equilibrate for a while"
   ]
  },
  {
   "cell_type": "code",
   "execution_count": null,
   "id": "89966f9b",
   "metadata": {
    "scrolled": false
   },
   "outputs": [],
   "source": [
    "equil_rounds = 10\n",
    "equil_steps = 1000\n",
    "for i in tqdm.trange(equil_rounds):\n",
    "    system.integrator.run(equil_steps)"
   ]
  },
  {
   "cell_type": "markdown",
   "id": "5312325f",
   "metadata": {},
   "source": [
    "As we need the magnetization of our system, we use <tt>espressomd.observables.MagneticDipoleMoment</tt> to calculate the total dipole moment of the system which is the magnetization times the volume of the system."
   ]
  },
  {
   "cell_type": "code",
   "execution_count": null,
   "id": "079e7e2e",
   "metadata": {},
   "outputs": [],
   "source": [
    "import espressomd.observables\n",
    "dipm_tot_calc = espressomd.observables.MagneticDipoleMoment(ids=particles.id)"
   ]
  },
  {
   "cell_type": "markdown",
   "id": "516565f9",
   "metadata": {},
   "source": [
    "Now we set the desired number of loops for the sampling"
   ]
  },
  {
   "cell_type": "code",
   "execution_count": null,
   "id": "96d47bec",
   "metadata": {},
   "outputs": [],
   "source": [
    "# Sampling\n",
    "loops = 2000"
   ]
  },
  {
   "cell_type": "markdown",
   "id": "4a789882",
   "metadata": {},
   "source": [
    "and sample the first and second moment of the magnetization or total dipole moment, by averaging over all total dipole moments occurring during the simulation"
   ]
  },
  {
   "cell_type": "code",
   "execution_count": null,
   "id": "bd24f8eb",
   "metadata": {
    "scrolled": false
   },
   "outputs": [],
   "source": [
    "# initialize array that will hold the sampled dipole moments\n",
    "dipms = np.full((loops, 3), np.nan)\n",
    "\n",
    "# sample dipole moment\n",
    "for i in tqdm.trange(loops):\n",
    "    system.integrator.run(10)\n",
    "    dipms[i, :] = dipm_tot_calc.calculate()\n",
    "\n",
    "# calculate average first and second moment of total dipole moment\n",
    "dipm_tot = np.mean(dipms, axis=0)\n",
    "dipm_tot_2 = np.mean(dipms**2, axis=0)"
   ]
  },
  {
   "cell_type": "markdown",
   "id": "11dcebed",
   "metadata": {},
   "source": [
    "For the estimator of the initial susceptibility $\\chi_\\mathrm{init}$ we need the magnitude of one single dipole moment"
   ]
  },
  {
   "cell_type": "code",
   "execution_count": null,
   "id": "3a558280",
   "metadata": {},
   "outputs": [],
   "source": [
    "# dipole moment\n",
    "dipm = np.sqrt(dip_lambda * 4 * np.pi * lj_sigma**3. * kT / mu_0)\n",
    "print(f'dipm = {dipm:.4f}')"
   ]
  },
  {
   "cell_type": "markdown",
   "id": "ae75a205",
   "metadata": {},
   "source": [
    "Now we can calculate $\\chi_\\mathrm{init}$ from our simulation data"
   ]
  },
  {
   "cell_type": "code",
   "execution_count": null,
   "id": "25e7dc1d",
   "metadata": {},
   "outputs": [],
   "source": [
    "# susceptibility in 3d system\n",
    "chi = mu_0 / (system.volume() * 3. * kT) * (np.sum(dipm_tot_2 * dipm**2.) - np.sum(np.square(dipm_tot * dipm)))"
   ]
  },
  {
   "cell_type": "markdown",
   "id": "e051f715",
   "metadata": {},
   "source": [
    "and print the result"
   ]
  },
  {
   "cell_type": "code",
   "execution_count": null,
   "id": "94038144",
   "metadata": {},
   "outputs": [],
   "source": [
    "print(f'chi = {chi:.4f}')"
   ]
  },
  {
   "cell_type": "markdown",
   "id": "2bbff406",
   "metadata": {},
   "source": [
    "Compared with the value $\\chi = 0.822 \\pm 0.017$ of Ref. <a href='#[1]'>[1]</a> (see table 1) it should be very similar."
   ]
  },
  {
   "cell_type": "markdown",
   "id": "eec0dc25",
   "metadata": {},
   "source": [
    "Now we want to compare the result with the theoretical expectations.\n",
    "At first with the simple Langevin susceptibility"
   ]
  },
  {
   "cell_type": "code",
   "execution_count": null,
   "id": "996d77b2",
   "metadata": {},
   "outputs": [],
   "source": [
    "chi_L = 8. * dip_lambda * phi\n",
    "print(f'chi_L = {chi_L:.4f}')"
   ]
  },
  {
   "cell_type": "markdown",
   "id": "4af7309d",
   "metadata": {},
   "source": [
    "and at second with the more advanced one (see Ref. <a href='#[1]'>[1]</a> eq. (6)) which has a cubic accuracy in $\\chi_\\mathrm{L}$ and reads\n",
    "\n",
    "\\begin{equation}\n",
    "    \\chi = \\chi_\\mathrm{L} \\left( 1 + \\frac{\\chi_\\mathrm{L}}{3} + \\frac{\\chi_\\mathrm{L}^2}{144} \\right)\n",
    "\\end{equation}\n",
    "\n"
   ]
  },
  {
   "cell_type": "code",
   "execution_count": null,
   "id": "d0ec4fe3",
   "metadata": {},
   "outputs": [],
   "source": [
    "chi_I = chi_L * (1 + chi_L / 3. + chi_L**2. / 144.)\n",
    "print(f'chi_I = {chi_I:.4f}')"
   ]
  },
  {
   "cell_type": "markdown",
   "id": "affefcc7",
   "metadata": {},
   "source": [
    "Both of them should be smaller than our result, but the second one should be closer to our one. The deviation of the theoretical results to our simulation result can be explained by the fact that in the Langevin model there are no interactions between the particles incorporated at all and the more advanced (mean-field-type) one of Ref. <a href='#[1]'>[1]</a> do not take occurring cluster formations into account but assumes a homogeneous distribution of the particles. For higher values of the volume fraction $\\phi$ and the dipolar interaction parameter $\\lambda$ the deviations will increase as the cluster formation will become more pronounced. "
   ]
  },
  {
   "cell_type": "markdown",
   "id": "297bee8b",
   "metadata": {},
   "source": [
    "## Magnetization curve of a 3D system"
   ]
  },
  {
   "cell_type": "markdown",
   "id": "8e5a6fcf",
   "metadata": {},
   "source": [
    "At the end of this tutorial we now want to sample the magnetization curve of a three dimensional system and compare the results with analytical solutions. Again we will compare with the Langevin function but also with the approximation of Ref. <a href='#[2]'>[2]</a> (see also Ref. <a href='#[1]'>[1]</a> for the right coefficients) which takes the dipole-dipole interaction into account. For this approximation, which is a modified mean-field theory based on the pair correlation function, the Langevin parameter $\\alpha$ is replaced by\n",
    "\n",
    "\\begin{equation}\n",
    "    \\alpha' = \\alpha + \\chi_\\mathrm{L}~L(\\alpha) + \\frac{\\chi_\\mathrm{L}^{2}}{16} L(\\alpha) \\frac{\\mathrm{d} L(\\alpha)}{\\mathrm{d}\\alpha}\n",
    "\\end{equation}\n",
    "\n",
    "where $\\chi_\\mathrm{L}$ is the Langevin susceptibility\n",
    "\n",
    "\\begin{equation}\n",
    "   \\chi_\\mathrm{L} = \\frac{N}{V}\\frac{\\mu_0 \\mu^2}{3k_\\mathrm{B}T} = 8 \\cdot \\lambda \\cdot \\phi\n",
    "\\end{equation}"
   ]
  },
  {
   "cell_type": "markdown",
   "id": "8afb2079",
   "metadata": {},
   "source": [
    "Analogous to **part II** we start at zero external magnetic field and increase the external field successively. At every value of the external field we sample the total dipole moment which is proportional to the magnetization as we have a fixed volume."
   ]
  },
  {
   "cell_type": "markdown",
   "id": "f6c8bfd2",
   "metadata": {},
   "source": [
    "First we create a list of values of the Langevin parameter $\\alpha$. As we already sampled the magnetization at zero external field in the last section, we take this value and continue with the sampling of an external field unequal zero"
   ]
  },
  {
   "cell_type": "code",
   "execution_count": null,
   "id": "57e7d57e",
   "metadata": {},
   "outputs": [],
   "source": [
    "alphas = np.array([0, 0.25, 0.5, 1, 2, 3, 4, 8])"
   ]
  },
  {
   "cell_type": "markdown",
   "id": "ab3dba53",
   "metadata": {},
   "source": [
    "Now for each value in this list we sample the total dipole moment / magnetization of the system for a while. Keep in mind that we only the current orientation of the dipole moments, i.e. the unit vector of the dipole moments, is saved in the particle list but not their magnitude. Thus we have to use $H\\cdot \\mu$ as the external magnetic field, where $\\mu$ is the magnitude of a single magnetic dipole moment.\n",
    "We will apply the field in x-direction using the class <tt>constraints</tt> of **ESPResSo**."
   ]
  },
  {
   "cell_type": "markdown",
   "id": "6a49b59b",
   "metadata": {},
   "source": [
    "As in **part II** we use the same system for every value of the Langevin parameter $\\alpha$. Thus we use that the system is already pre-equilibrated from the previous run so we save some equilibration time. For scientific purposes one would use a new system for every value for the Langevin parameter to ensure that the systems are independent and no correlation effects are measured. Also one would perform more than just one simulation for each value of $\\alpha$ to increase the precision of the results."
   ]
  },
  {
   "cell_type": "markdown",
   "id": "395a4fc0-baaf-48d6-8b88-b8ba42408bfe",
   "metadata": {},
   "source": [
    "Additionally, we will visualize the sampling of the magnetization curve using ZnDraw. Note, that the magnetic field is increasing during the video."
   ]
  },
  {
   "cell_type": "code",
   "execution_count": null,
   "id": "ce9fe0ff",
   "metadata": {},
   "outputs": [],
   "source": [
    "# remove all constraints\n",
    "system.constraints.clear()\n",
    "\n",
    "# array for magnetizations in field direction\n",
    "magnetizations = np.full_like(alphas, np.nan)\n",
    "\n",
    "# use result for alpha=0 from previous chapter\n",
    "magnetizations[0] = np.average(dipm_tot)\n",
    "\n",
    "# number of loops for sampling\n",
    "loops_m = 500\n",
    "\n",
    "for ndx, alpha in enumerate(pbar := tqdm.tqdm(alphas)):\n",
    "    pbar.set_description(f\"Sampling for α={alpha:.2f}\")\n",
    "    if alpha == 0:\n",
    "        continue\n",
    "    # set magnetic field constraint\n",
    "    H_dipm = alpha * kT / mu_0\n",
    "    H_field = [H_dipm, 0, 0]\n",
    "    H_constraint = espressomd.constraints.HomogeneousMagneticField(H=H_field)\n",
    "    system.constraints.add(H_constraint)\n",
    "\n",
    "    # equilibration\n",
    "    for i in range(equil_rounds):\n",
    "        system.integrator.run(equil_steps)\n",
    "\n",
    "    # sampling\n",
    "    magn_temp = np.full(loops_m, np.nan)\n",
    "    for i in range(loops_m):\n",
    "        system.integrator.run(20)\n",
    "        magn_temp[i] = dipm_tot_calc.calculate()[0]\n",
    "\n",
    "    # save average magnetization\n",
    "    magnetizations[ndx] = np.mean(magn_temp)\n",
    "\n",
    "    # remove constraint\n",
    "    if not alpha == alphas[-1]:\n",
    "        system.constraints.clear()"
   ]
  },
  {
   "cell_type": "markdown",
   "id": "72769f36",
   "metadata": {},
   "source": [
    "Now we define the Langevin function and the modified mean-field-approximation of the Langevin parameter of Ref. <a href='#[2]'>[2]</a>"
   ]
  },
  {
   "cell_type": "code",
   "execution_count": null,
   "id": "c8dd236f",
   "metadata": {},
   "outputs": [],
   "source": [
    "# Langevin function\n",
    "def L(y):\n",
    "    return np.cosh(y) / np.sinh(y) - 1 / y"
   ]
  },
  {
   "cell_type": "code",
   "execution_count": null,
   "id": "26c510d3",
   "metadata": {},
   "outputs": [],
   "source": [
    "#  second order mean-field-model from Ref. [2]\n",
    "def alpha_mean_field(alpha, dip_lambda, phi):\n",
    "    chi = 8. * dip_lambda * phi\n",
    "    return alpha + chi * L(alpha) + chi**2. / 16. * L(alpha) * (1. / alpha**2. - 1. / np.sinh(alpha)**2.)"
   ]
  },
  {
   "cell_type": "markdown",
   "id": "d0c5e46d",
   "metadata": {},
   "source": [
    "We also want to plot the linear approximation at $\\alpha = 0$ to see for which values of $\\alpha$ this approximation holds. We use the initial susceptibility calculated in the first chapter of this part as the gradient. As we want the gradient of $M^*$ with respect to $\\alpha$ which fulfills the relation\n",
    "\n",
    "\\begin{equation}\n",
    "    \\frac{\\partial M^*}{\\partial \\alpha} = \\frac{1}{M_\\mathrm{sat}}\\frac{\\partial M}{\\partial \\left( \\frac{\\mu_0\\mu}{k_\\mathrm{B}T} H\\right)} = \\frac{k_\\mathrm{B}T~V}{\\mu_0\\mu^2N}\\frac{\\partial M}{\\partial H} = \\frac{k_\\mathrm{B}T~V}{\\mu_0\\mu^2N}~\\chi\n",
    "\\end{equation}\n",
    "\n",
    "we have to scale our calculated initial susceptibility $\\chi_{init}$ by a factor to get it in our dimensionless units.\n",
    "\n",
    "Now we plot the resulting curves together with our simulation results and the linear approximation"
   ]
  },
  {
   "cell_type": "code",
   "execution_count": null,
   "id": "54e57190",
   "metadata": {},
   "outputs": [],
   "source": [
    "y = np.arange(0.01, 10, 0.1)\n",
    "\n",
    "initial_susceptibility = system.volume() * kT * chi / (N * mu_0 * dipm**2)\n",
    "\n",
    "plt.figure(figsize=(10, 10))\n",
    "plt.ylim(0, 1.)\n",
    "plt.xlabel(r'$\\alpha$', fontsize=20)\n",
    "plt.ylabel(r'$M^*$', fontsize=20)\n",
    "plt.plot(y, L(y), label='Langevin function')\n",
    "plt.plot(y, L(alpha_mean_field(y, dip_lambda, phi)),\n",
    "         label='modified mean-field-theory')\n",
    "plt.plot(alphas, magnetizations / N, 'o', label='simulation results')\n",
    "plt.plot(y, initial_susceptibility * y,\n",
    "         label=r'linear approximation at $\\alpha = 0$')\n",
    "plt.legend(fontsize=20)\n",
    "plt.show()"
   ]
  },
  {
   "cell_type": "markdown",
   "id": "d1652ed8",
   "metadata": {},
   "source": [
    "We can see that the magnetization curve where we used the Langevin parameter of the modified mean-field-theory is closer to our simulation results. Also we can clearly see that the linear approximation holds only for very small values of $\\alpha$.\n",
    "\n",
    "At this point it should be mentioned, that the modified mean-field-model assumes a spatially homogeneous system which is not the case at higher volume fractions $\\phi$ and dipolar interaction parameters $\\lambda$ as the particles form clusters. We can already see this with our simulation results as they visibly deviate from the modified mean-field-model.\n",
    "\n",
    "At sufficiently high volume fractions $\\phi$ and dipolar interaction parameters $\\lambda$ these clusters can be so rigid, that simulations with normal methods are impossible as the relaxation times exceeds normal simulation times by far, resulting in strongly correlated configurations and thus measurements."
   ]
  },
  {
   "cell_type": "markdown",
   "id": "d2333fe6-c427-48b6-92f0-d946f4084b30",
   "metadata": {},
   "source": [
    "## Visualization"
   ]
  },
  {
   "cell_type": "markdown",
   "id": "7fd720f4-858e-4d2e-8d4a-23644ab996e3",
   "metadata": {},
   "source": [
    "Finally, we use ZnDraw to visualize the evolving system for high $\\alpha$. We just need to continue running our system as it is already warmed up for high magnetic field."
   ]
  },
  {
   "cell_type": "code",
   "execution_count": null,
   "id": "8e1d8ade-efa9-4d73-a328-27b0e63993b4",
   "metadata": {},
   "outputs": [],
   "source": [
    "# initializing zndraw visualizer\n",
    "color = {0: \"#7fc454\"}   \n",
    "radii = {0: lj_sigma/2}\n",
    "vis = espressomd.zn.Visualizer(system, colors=color, radii=radii)\n",
    "\n",
    "for _ in range(400):\n",
    "    system.integrator.run(5)\n",
    "    vis.update()"
   ]
  },
  {
   "cell_type": "markdown",
   "id": "81e06b9b",
   "metadata": {},
   "source": [
    "## References\n",
    "<a id='[1]'></a>[1] Zuowei Wang, Christian Holm, and Hanns Walter Müller. Molecular dynamics\n",
    "study on the equilibrium magnetization properties and structure of ferrofluids. In:\n",
    "*Phys. Rev. E* 66: 021405, 2002. <small>DOI:</small><a href=\"https://doi.org/10.1103/PhysRevE.66.021405\">10.1103/PhysRevE.66.021405</a>  \n",
    "<a id='[2]'></a>[2] Alexey O. Ivanov and Olga B. Kuznetsova. Magnetic properties of dense ferrofluids:\n",
    "An influence of interparticle correlations. *Phys. Rev. E* 64: 041405, 2001. <small>DOI:</small><a href=\"https://doi.org/10.1103/PhysRevE.64.041405\">10.1103/PhysRevE.64.041405</a>  "
   ]
  }
 ],
 "metadata": {
  "kernelspec": {
   "display_name": "Python 3",
   "language": "python",
   "name": "python3"
  },
  "language_info": {
   "codemirror_mode": {
    "name": "ipython",
    "version": 3
   },
   "file_extension": ".py",
   "mimetype": "text/x-python",
   "name": "python",
   "nbconvert_exporter": "python",
   "pygments_lexer": "ipython3",
   "version": "3.8.10"
  }
 },
 "nbformat": 4,
 "nbformat_minor": 5
}
