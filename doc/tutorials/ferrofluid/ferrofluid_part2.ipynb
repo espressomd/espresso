{
 "cells": [
  {
   "cell_type": "markdown",
   "id": "a5eaefe4",
   "metadata": {},
   "source": [
    "# Ferrofluid - Part 2"
   ]
  },
  {
   "cell_type": "markdown",
   "id": "fdd2f63f",
   "metadata": {},
   "source": [
    "## Table of Contents\n",
    "1. [Applying an external magnetic field](#Applying-an-external-magnetic-field)\n",
    "2. [Magnetization curve](#Magnetization-curve)"
   ]
  },
  {
   "cell_type": "markdown",
   "id": "ea757679",
   "metadata": {},
   "source": [
    "**Remark**: The equilibration and sampling times used in this tutorial would be not sufficient for scientific  purposes, but they are long enough to get at least a qualitative insight of the behaviour of ferrofluids. They have been shortened so we achieve reasonable computation times for the purpose of a tutorial."
   ]
  },
  {
   "cell_type": "markdown",
   "id": "3be99e8e",
   "metadata": {},
   "source": [
    "## Applying an external magnetic field"
   ]
  },
  {
   "cell_type": "markdown",
   "id": "34fe9898",
   "metadata": {},
   "source": [
    "In this part we want to investigate the influence of a homogeneous external magnetic field exposed to a ferrofluid system."
   ]
  },
  {
   "cell_type": "markdown",
   "id": "60c713c0",
   "metadata": {},
   "source": [
    "We import all necessary packages and check for the required **ESPResSo** features"
   ]
  },
  {
   "cell_type": "code",
   "execution_count": null,
   "id": "81aecd17",
   "metadata": {},
   "outputs": [],
   "source": [
    "import espressomd\n",
    "import espressomd.magnetostatics\n",
    "import espressomd.zn\n",
    "\n",
    "espressomd.assert_features(['DIPOLES', 'DP3M', 'LENNARD_JONES'])\n",
    "\n",
    "%matplotlib inline\n",
    "import matplotlib.pyplot as plt\n",
    "plt.rcParams.update({'font.size': 18})\n",
    "import numpy as np\n",
    "import tqdm"
   ]
  },
  {
   "cell_type": "markdown",
   "id": "59830e32",
   "metadata": {},
   "source": [
    "and set up the simulation parameters where we introduce a new dimensionless parameter \n",
    "\n",
    "\\begin{equation}\n",
    "    \\alpha = \\frac{\\mu B}{k_{\\text{B}}T} = \\frac{\\mu \\mu_0 H}{k_{\\text{B}}T}\n",
    "\\end{equation}\n",
    "\n",
    "which is called **Langevin parameter**. We intentionally choose a relatively high volume fraction $\\phi$ and dipolar interaction parameter $\\lambda$ to clearly see the influence of the dipole-dipole interaction"
   ]
  },
  {
   "cell_type": "code",
   "execution_count": null,
   "id": "501042cb",
   "metadata": {},
   "outputs": [],
   "source": [
    "# Lennard-Jones parameters\n",
    "LJ_SIGMA = 1.\n",
    "LJ_EPSILON = 1.\n",
    "LJ_CUT = 2**(1. / 6.) * LJ_SIGMA\n",
    "\n",
    "# Particles\n",
    "N_PART = 700\n",
    "\n",
    "# Area fraction of the mono-layer\n",
    "PHI = 0.06\n",
    "\n",
    "# Dipolar interaction parameter lambda = MU_0 m^2 /(4 pi sigma^3 kT)\n",
    "DIP_LAMBDA = 4.\n",
    "\n",
    "# Temperature\n",
    "KT = 1.0\n",
    "\n",
    "# Friction coefficient\n",
    "GAMMA = 1.0\n",
    "\n",
    "# Time step\n",
    "TIME_STEP = 0.01\n",
    "\n",
    "# Langevin parameter ALPHA = MU_0 m H / kT\n",
    "ALPHA = 10.\n",
    "\n",
    "# vacuum permeability\n",
    "MU_0 = 1."
   ]
  },
  {
   "cell_type": "markdown",
   "id": "da6c52a6",
   "metadata": {},
   "source": [
    "Now we set up the system. As in **part I**, the orientation of the dipole moments is set directly on the particles, whereas the magnitude of the moments is taken into account when determining the prefactor of the dipolar P3M (for more details see **part I**). \n",
    "\n",
    "**Hint:**\n",
    "It should be noted that we seed both the Langevin thermostat and the random number generator of numpy. The latter means that the initial configuration of our system is the same every time this script will be executed. As the time evolution of the system depends not solely on the Langevin thermostat but also on the numeric accuracy and DP3M as well as DLC (the tuned parameters are slightly different every time) it is only partly predefined. You can change the seeds to simulate with a different initial configuration and a guaranteed different time evolution."
   ]
  },
  {
   "cell_type": "code",
   "execution_count": null,
   "id": "8e48ad19",
   "metadata": {
    "scrolled": true
   },
   "outputs": [],
   "source": [
    "# System setup\n",
    "box_size = (N_PART * np.pi * (LJ_SIGMA / 2.)**2. / PHI)**0.5\n",
    "\n",
    "print(\"Box size\", box_size)\n",
    "# Note that the dipolar P3M and dipolar layer correction need a cubic\n",
    "# simulation box for technical reasons.\n",
    "system = espressomd.System(box_l=(box_size, box_size, box_size))\n",
    "system.time_step = TIME_STEP\n",
    "\n",
    "# Lennard-Jones interaction\n",
    "system.non_bonded_inter[0, 0].lennard_jones.set_params(epsilon=LJ_EPSILON, sigma=LJ_SIGMA, cutoff=LJ_CUT, shift=\"auto\")\n",
    "\n",
    "# Random dipole moments\n",
    "np.random.seed(seed=1)\n",
    "dip_phi = 2. * np.pi * np.random.random((N_PART, 1))\n",
    "dip_cos_theta = 2 * np.random.random((N_PART, 1)) - 1\n",
    "dip_sin_theta = np.sin(np.arccos(dip_cos_theta))\n",
    "dip = np.hstack((\n",
    "    dip_sin_theta * np.sin(dip_phi),\n",
    "    dip_sin_theta * np.cos(dip_phi),\n",
    "    dip_cos_theta))\n",
    "\n",
    "# Random positions in the monolayer\n",
    "pos = box_size * np.hstack((np.random.random((N_PART, 2)), np.zeros((N_PART, 1))))\n",
    "\n",
    "# Add particles\n",
    "particles = system.part.add(pos=pos, rotation=N_PART * [(True, True, True)],\n",
    "                            dip=dip, fix=N_PART * [(False, False, True)])\n",
    "\n",
    "# Remove overlap between particles by means of the steepest descent method\n",
    "MASS = 1.0\n",
    "FMAX = 0.01 * LJ_SIGMA * MASS / system.time_step**2\n",
    "\n",
    "system.integrator.set_steepest_descent(\n",
    "        f_max=FMAX,\n",
    "        gamma=0.1,\n",
    "        max_displacement=0.05)\n",
    "\n",
    "system.integrator.run(5000)\n",
    "assert np.all(np.abs(system.part.all().f) < FMAX), \"Overlap removal did not converge!\"\n",
    "\n",
    "\n",
    "# Switch to velocity Verlet integrator\n",
    "system.integrator.set_vv()\n",
    "system.thermostat.set_langevin(kT=KT, gamma=GAMMA, seed=1)\n",
    "\n",
    "# tune verlet list skin\n",
    "system.cell_system.tune_skin(min_skin=0.4, max_skin=2., tol=0.2, int_steps=100)\n",
    "\n",
    "# Setup dipolar P3M and dipolar layer correction (DLC)\n",
    "dp3m = espressomd.magnetostatics.DipolarP3M(accuracy=5E-4, prefactor=DIP_LAMBDA * LJ_SIGMA**3 * KT)\n",
    "mdlc = espressomd.magnetostatics.DLC(actor=dp3m, maxPWerror=1E-4, gap_size=box_size - LJ_SIGMA)\n",
    "system.magnetostatics.solver = mdlc\n",
    "\n",
    "# tune verlet list skin again\n",
    "system.cell_system.tune_skin(min_skin=0.4, max_skin=2., tol=0.2, int_steps=100)\n",
    "\n",
    "# print skin value\n",
    "print(f'tuned skin = {system.cell_system.skin:.2f}')"
   ]
  },
  {
   "cell_type": "markdown",
   "id": "bc4463b8",
   "metadata": {},
   "source": [
    "We now apply the external magnetic field which is\n",
    "\n",
    "\\begin{equation}\n",
    "    B = \\mu_0 H = \\frac{\\alpha~k_{\\text{B}}T}{\\mu}\n",
    "\\end{equation}\n",
    "\n",
    "As only the current orientation of the dipole moments, i.e. the unit vector of the dipole moments, is saved in the particle list but not their magnitude, we have to use $B\\cdot \\mu$ as the strength of the external magnetic field.\n",
    "We will apply the field in x-direction using the class <tt>constraints</tt> of **ESPResSo**"
   ]
  },
  {
   "cell_type": "code",
   "execution_count": null,
   "id": "f26c40d5",
   "metadata": {},
   "outputs": [],
   "source": [
    "# magnetic field times dipole moment\n",
    "H_dipm = ALPHA * KT / MU_0\n",
    "H_field = [H_dipm, 0, 0]"
   ]
  },
  {
   "cell_type": "markdown",
   "id": "1c865437",
   "metadata": {},
   "source": [
    "## Exercise:\n",
    "Define a homogenous magnetic field constraint using `H_field` and add it to system's contraints.\n"
   ]
  },
  {
   "cell_type": "code",
   "execution_count": null,
   "id": "36ef7920",
   "metadata": {},
   "outputs": [],
   "source": [
    "# SOLUTION CELL\n",
    "H_constraint = espressomd.constraints.HomogeneousMagneticField(H=H_field)\n",
    "system.constraints.add(H_constraint)"
   ]
  },
  {
   "cell_type": "code",
   "execution_count": null,
   "id": "d86a0287",
   "metadata": {},
   "outputs": [],
   "source": []
  },
  {
   "cell_type": "markdown",
   "id": "d298c380",
   "metadata": {},
   "source": [
    "Equilibrate the system."
   ]
  },
  {
   "cell_type": "code",
   "execution_count": null,
   "id": "7750295c",
   "metadata": {
    "scrolled": false
   },
   "outputs": [],
   "source": [
    "# Equilibrate\n",
    "print(\"Equilibration...\")\n",
    "equil_rounds = 10\n",
    "equil_steps = 200\n",
    "for i in tqdm.trange(equil_rounds):\n",
    "    system.integrator.run(equil_steps)"
   ]
  },
  {
   "cell_type": "markdown",
   "id": "1a462730",
   "metadata": {},
   "source": [
    "Now we can visualize the current state and see that the particles mostly create chains oriented in the direction of the external magnetic field. Also some monomers should be present."
   ]
  },
  {
   "cell_type": "code",
   "execution_count": null,
   "id": "1dbeb3e4",
   "metadata": {},
   "outputs": [],
   "source": [
    "plt.figure(figsize=(10, 10))\n",
    "plt.xlim(0, box_size)\n",
    "plt.ylim(0, box_size)\n",
    "plt.xlabel('x-position', fontsize=20)\n",
    "plt.ylabel('y-position', fontsize=20)\n",
    "plt.plot(particles.pos_folded[:, 0], particles.pos_folded[:, 1], 'o')\n",
    "plt.show()"
   ]
  },
  {
   "cell_type": "markdown",
   "id": "eb06ab55",
   "metadata": {},
   "source": [
    "You may want to get an insight of how the system develops in time. We use the ZnDraw visualiser:"
   ]
  },
  {
   "cell_type": "code",
   "execution_count": null,
   "id": "a6807ebd-2f97-476c-94e1-ea5fe1d383a4",
   "metadata": {},
   "outputs": [],
   "source": [
    "color = {0: \"#7fc454\"}   \n",
    "radii = {0: LJ_SIGMA/2}\n",
    "vis = espressomd.zn.Visualizer(system, colors=color, radii=radii)\n",
    "for _ in range(100):\n",
    "    system.integrator.run(50)\n",
    "    vis.update()"
   ]
  },
  {
   "cell_type": "markdown",
   "id": "278cfc7f",
   "metadata": {},
   "source": [
    "In the visualization video we can see that the single chains break and connect to each other during time. Also some monomers are present which break from and connect to chains."
   ]
  },
  {
   "cell_type": "markdown",
   "id": "5d6caf3f",
   "metadata": {},
   "source": [
    "## Magnetization curve"
   ]
  },
  {
   "cell_type": "markdown",
   "id": "496d39cd",
   "metadata": {},
   "source": [
    "An important observable of a ferrofluid system is the magnetization $M$ of the system in direction of an external magnetic field $H$\n",
    "\n",
    "\\begin{equation}\n",
    "    M = \\frac{\\sum_i \\mu_i^H}{V}\n",
    "\\end{equation}\n",
    "\n",
    "where the index $H$ means the component of $\\mu_i$ in direction of the external magnetic field $H$ and the sum runs over all particles. $V$ is the system's volume.\n",
    "\n",
    "The magnetization plotted over the external field $H$ is called magnetization curve. For particles with non-interacting dipole moments there is an analytical solution\n",
    "\n",
    "\\begin{equation}\n",
    "    M = M_{\\text{sat}}\\cdot L(\\alpha)\n",
    "\\end{equation}\n",
    "\n",
    "with $L(\\alpha)$ the Langevin function\n",
    "\n",
    "\\begin{equation}\n",
    "    L(\\alpha) = \\coth(\\alpha)-\\frac{1}{\\alpha}\n",
    "\\end{equation}\n",
    "\n",
    "and $\\alpha$ the Langevin parameter\n",
    "\n",
    "\\begin{equation}\n",
    "    \\alpha=\\frac{\\mu_0\\mu}{k_{\\text{B}}T}H = \\frac{\\mu}{k_{\\text{B}}T}B\n",
    "\\end{equation}\n",
    "\n",
    "$M_{sat}$ is the so called saturation magnetization which is the magnetization of a system where all dipole moments are aligned to each other. Thus it is the maximum of the magnetization. In our case all dipole moments are equal, thus\n",
    "\n",
    "\\begin{equation}\n",
    "    M_{\\text{sat}} = \\frac{N_{\\text{part}}\\cdot\\mu}{V}\n",
    "\\end{equation}\n",
    "\n",
    "\n",
    "For better comparability we now introduce a dimensionless magnetization\n",
    "\n",
    "\\begin{equation}\n",
    "    M^* = \\frac{M}{M_{sat}} = \\frac{\\sum_i \\mu_i^H}{N_{\\text{part}}\\cdot \\mu}\n",
    "\\end{equation}\n",
    "\n",
    "Thus the analytical solution for non-interacting dipole moments $M^*$ is simply the Langevin function.\n",
    "\n",
    "For interacting dipole moments there are only approximations for the magnetization curve available. \n",
    "\n",
    "Here we want to use the approximation of Ref. <a href='#[1]'>[1]</a> for a quasi two dimensional system, which reads with adjusted coefficients (Ref. <a href='#[1]'>[1]</a> used a different dipole-dipole interaction prefactor $\\gamma = 1$)\n",
    "\n",
    "\\begin{equation}\n",
    "    M_{\\parallel}^{\\text{q2D}} = M_{\\text{sat}} L(\\alpha) \\left( 1 + \\mu_0\\frac{1}{8} M_{\\text{sat}} \\frac{\\mathrm{d} L(\\alpha)}{\\mathrm{d}B} \\right)\n",
    "\\end{equation}\n",
    "\n",
    "and\n",
    "\n",
    "\\begin{equation}\n",
    "    M_{\\perp}^{\\text{q2D}} = M_{\\text{sat}} L(\\alpha) \\left( 1 - \\mu_0\\frac{1}{4} M_{\\text{sat}} \\frac{\\mathrm{d} L(\\alpha)}{\\mathrm{d}B} \\right)\n",
    "\\end{equation}\n",
    "\n",
    "\n",
    "\n",
    "for the magnetization with an external magnetic field parallel and perpendicular to the monolayer plane, respectively. Here the dipole-dipole interaction is approximated as a small perturbation and\n",
    "\n",
    "\\begin{equation}\n",
    "    \\frac{\\mathrm{d} L(\\alpha)}{\\mathrm{d}B} = \\left( \\frac{1}{\\alpha^2} - \\frac{1}{\\sinh^2(\\alpha)} \\right) \\cdot \\frac{\\mu}{k_{\\text{B}}T}\n",
    "\\end{equation}\n",
    "\n",
    "By comparing the magnetization curve parallel $M_{\\parallel}^{\\text{q2D}}$ and perpendicular $M_{\\perp}^{\\text{q2D}}$ to the monolayer plane we can see that the magnetization is increased in the case of an external field parallel to the monolayer plane and decreased in the case of an external field perpendicular to the monolayer plane. The latter can be explained by the fact that an orientation of all single dipole moments perpendicular to the monolayer plane results in a configuration with a repulsive dipole-dipole interaction as the particles have no freedom of movement in the direction perpendicular to the monolayer plane. This counteracts the magnetization perpendicular to the monolayer plane.\n",
    "\n",
    "\n",
    "We now want to use **ESPResSo** to get an estimation of how the magnetization curve is affected by the dipole-dipole interaction parallel and perpendicular to the monolayer plane and compare the results with the Langevin curve and the magnetization curves of Ref. <a href='#[1]'>[1]</a>."
   ]
  },
  {
   "cell_type": "markdown",
   "id": "cd2303b7",
   "metadata": {},
   "source": [
    "For the sampling of the magnetization curve we set up a new system, where we decrease the dipolar interaction parameter $\\lambda$ drastically. We do this as we want to compare our results with the approximation of Ref. <a href='#[1]'>[1]</a> which is only valid for small dipole-dipole interaction between the particles (decreasing the volume fraction $\\phi$ would also be an appropriate choice). For smaller dipolar interaction parameters it is possible to increase the time step. We do this to get more uncorrelated measurements."
   ]
  },
  {
   "cell_type": "code",
   "execution_count": null,
   "id": "81805875",
   "metadata": {},
   "outputs": [],
   "source": [
    "# Dipolar interaction parameter lambda = MU_0 m^2 /(4 pi sigma^3 kT)\n",
    "DIP_LAMBDA = 1.\n",
    "\n",
    "# increase time step\n",
    "TIME_STEP = 0.02\n",
    "\n",
    "# dipole moment\n",
    "dipm = np.sqrt(4 * np.pi * DIP_LAMBDA * LJ_SIGMA**3. * KT / MU_0)"
   ]
  },
  {
   "cell_type": "code",
   "execution_count": null,
   "id": "6a10f99b",
   "metadata": {
    "scrolled": true
   },
   "outputs": [],
   "source": [
    "# remove all particles\n",
    "system.part.clear()\n",
    "system.magnetostatics.clear()\n",
    "system.thermostat.turn_off()\n",
    "\n",
    "# Random dipole moments\n",
    "dip_phi = 2. * np.pi * np.random.random((N_PART, 1))\n",
    "dip_cos_theta = 2 * np.random.random((N_PART, 1)) - 1\n",
    "dip_sin_theta = np.sin(np.arccos(dip_cos_theta))\n",
    "dip = np.hstack((\n",
    "    dip_sin_theta * np.sin(dip_phi),\n",
    "    dip_sin_theta * np.cos(dip_phi),\n",
    "    dip_cos_theta))\n",
    "\n",
    "# Random positions in the monolayer\n",
    "pos = box_size * np.hstack((np.random.random((N_PART, 2)), np.zeros((N_PART, 1))))\n",
    "\n",
    "# Add particles\n",
    "particles = system.part.add(pos=pos, rotation=N_PART * [(True, True, True)],\n",
    "                            dip=dip, fix=N_PART * [(False, False, True)])\n",
    "\n",
    "# Remove overlap between particles by means of the steepest descent method\n",
    "system.integrator.set_steepest_descent(f_max=0, gamma=0.1, max_displacement=0.05)\n",
    "\n",
    "while system.analysis.energy()[\"total\"] > 5 * KT * N_PART:\n",
    "    system.integrator.run(20)\n",
    "\n",
    "# Switch to velocity Verlet integrator\n",
    "system.integrator.set_vv()\n",
    "system.thermostat.set_langevin(kT=KT, gamma=GAMMA, seed=1)\n",
    "\n",
    "# tune verlet list skin\n",
    "system.cell_system.tune_skin(min_skin=0.4, max_skin=2., tol=0.2, int_steps=100)\n",
    "\n",
    "# Setup dipolar P3M and dipolar layer correction\n",
    "dp3m = espressomd.magnetostatics.DipolarP3M(accuracy=5E-4, prefactor=DIP_LAMBDA * LJ_SIGMA**3 * KT)\n",
    "mdlc = espressomd.magnetostatics.DLC(actor=dp3m, maxPWerror=1E-4, gap_size=box_size - LJ_SIGMA)\n",
    "system.magnetostatics.solver = mdlc\n",
    "\n",
    "# tune verlet list skin again\n",
    "system.cell_system.tune_skin(min_skin=0.4, max_skin=2., tol=0.2, int_steps=100)"
   ]
  },
  {
   "cell_type": "markdown",
   "id": "d48b29a1",
   "metadata": {},
   "source": [
    "To increase the performance we use the built-in function <tt>MagneticDipoleMoment</tt> to calculate the dipole  moment of the whole system. In our case this is only the orientation as we never set the strength of the dipole moments on our particles. "
   ]
  },
  {
   "cell_type": "markdown",
   "id": "f390dcdc",
   "metadata": {},
   "source": [
    "## Exercise:\n",
    "Import the [magnetic dipole moment observable](https://espressomd.github.io/doc/espressomd.html#espressomd.observables.MagneticDipoleMoment) and define an observable object `dipm_tot`.\n",
    "Use particle slicing to pass all particle ids."
   ]
  },
  {
   "cell_type": "code",
   "execution_count": null,
   "id": "d8aec5f9",
   "metadata": {},
   "outputs": [],
   "source": [
    "# SOLUTION CELL\n",
    "import espressomd.observables\n",
    "dipm_tot = espressomd.observables.MagneticDipoleMoment(ids=particles.id)"
   ]
  },
  {
   "cell_type": "code",
   "execution_count": null,
   "id": "9b93ea6b",
   "metadata": {},
   "outputs": [],
   "source": []
  },
  {
   "cell_type": "markdown",
   "id": "aa6932b9",
   "metadata": {},
   "source": [
    "We use the dimensionless Langevin parameter $\\alpha$ as the parameter for the external magnetic field. As the interesting part of the magnetization curve is the one for small external magnetic field strengths&mdash;for large external magnetic fields the magnetization goes into saturation in all cases&mdash;we increase the spacing between the Langevin parameters $\\alpha$ up to higher values and write them into a list"
   ]
  },
  {
   "cell_type": "code",
   "execution_count": null,
   "id": "4f22e964",
   "metadata": {},
   "outputs": [],
   "source": [
    "alphas = np.array([0, 0.25, 0.5, 1, 2, 3, 4, 8])"
   ]
  },
  {
   "cell_type": "markdown",
   "id": "f8a431d2",
   "metadata": {},
   "source": [
    "For both the magnetization perpendicular and parallel to the monolayer plane we use the same system for every value of the Langevin parameter $\\alpha$. Thus we use that the system is already more or less equilibrated from the previous run so we save some equilibration time. For scientific purposes one would use a new system for every value for the Langevin parameter to ensure that the systems are independent and no correlation effects are measured. Also one would perform more than just one simulation for each value of $\\alpha$ to increase the precision of the results."
   ]
  },
  {
   "cell_type": "markdown",
   "id": "a8a12b9f",
   "metadata": {},
   "source": [
    "Now we sample the magnetization for increasing $\\alpha$ (increasing magnetic field strength) in direction perpendicular to the monolayer plane."
   ]
  },
  {
   "cell_type": "markdown",
   "id": "812d5833",
   "metadata": {},
   "source": [
    "## Exercise:\n",
    "\n",
    "Complete the loop such that for every alpha a magnetic field of strength of the respective `H_dipm` is applied:\n",
    "```python\n",
    "# sampling with magnetic field perpendicular to monolayer plane (in z-direction)\n",
    "\n",
    "# remove all constraints\n",
    "system.constraints.clear()\n",
    "\n",
    "# list of magnetization in field direction\n",
    "magnetization_perp = np.full_like(alphas, np.nan)\n",
    "\n",
    "# number of loops for sampling\n",
    "loops = 500\n",
    "\n",
    "for ndx, alpha in enumerate(pbar := tqdm.tqdm(alphas)):\n",
    "    pbar.set_description(f\"Sampling for α={alpha:.2f}\")\n",
    "    # set magnetic field constraint\n",
    "    H_dipm = alpha * KT\n",
    "    # < exercise >\n",
    "    \n",
    "    # equilibration\n",
    "    for i in range(equil_rounds):\n",
    "        system.integrator.run(equil_steps)\n",
    "    \n",
    "    # sampling\n",
    "    magn_temp = 0.\n",
    "    for i in range(loops):\n",
    "        system.integrator.run(20)\n",
    "        magn_temp += dipm_tot.calculate()[2]\n",
    "    \n",
    "    # save average magnetization\n",
    "    magnetization_perp[ndx] = magn_temp / loops\n",
    "    \n",
    "    # remove constraint\n",
    "    system.constraints.clear()\n",
    "```"
   ]
  },
  {
   "cell_type": "code",
   "execution_count": null,
   "id": "855b3e9b",
   "metadata": {},
   "outputs": [],
   "source": [
    "# SOLUTION CELL\n",
    "# sampling with magnetic field perpendicular to monolayer plane (in z-direction)\n",
    "\n",
    "# remove all constraints\n",
    "system.constraints.clear()\n",
    "\n",
    "# list of magnetization in field direction\n",
    "magnetization_perp = np.full_like(alphas, np.nan)\n",
    "\n",
    "# number of loops for sampling\n",
    "loops = 500\n",
    "\n",
    "for ndx, alpha in enumerate(pbar := tqdm.tqdm(alphas)):\n",
    "    pbar.set_description(f\"Sampling for α={alpha:.2f}\")\n",
    "    # set magnetic field constraint\n",
    "    H_dipm = alpha * KT\n",
    "    H_field = [0, 0, H_dipm]\n",
    "    H_constraint = espressomd.constraints.HomogeneousMagneticField(H=H_field)\n",
    "    system.constraints.add(H_constraint)\n",
    "\n",
    "    # equilibration\n",
    "    for i in range(equil_rounds):\n",
    "        system.integrator.run(equil_steps)\n",
    "\n",
    "    # sampling\n",
    "    magn_temp = 0.\n",
    "    for i in range(loops):\n",
    "        system.integrator.run(20)\n",
    "        magn_temp += dipm_tot.calculate()[2]\n",
    "\n",
    "    # save average magnetization\n",
    "    magnetization_perp[ndx] = magn_temp / loops\n",
    "\n",
    "    # remove constraint\n",
    "    system.constraints.clear()"
   ]
  },
  {
   "cell_type": "code",
   "execution_count": null,
   "id": "9a405ed8",
   "metadata": {},
   "outputs": [],
   "source": []
  },
  {
   "cell_type": "markdown",
   "id": "d5b4e3c7",
   "metadata": {},
   "source": [
    "and now we sample the magnetization for increasing $\\alpha$ or increasing magnetic field in direction parallel to the monolayer plane."
   ]
  },
  {
   "cell_type": "markdown",
   "id": "0fd13c5b",
   "metadata": {},
   "source": [
    "## Exercise:\n",
    "\n",
    "Use the code from the previous exercise as a template.\n",
    "Now sample the magnetization curve for a magnetic field parallel to the quasi-2D layer and store the calculated magnetizations in a list named `magnetization_para` (analogous to `magnetization_perp`).\n",
    "\n",
    "*Hint*: Set up the field in $x$- or $y$-direction and sample the magnetization along the same axis. "
   ]
  },
  {
   "cell_type": "code",
   "execution_count": null,
   "id": "b9f032bc",
   "metadata": {},
   "outputs": [],
   "source": [
    "# SOLUTION CELL\n",
    "# sampling with magnetic field parallel to monolayer plane (in x-direction)\n",
    "\n",
    "# remove all constraints\n",
    "system.constraints.clear()\n",
    "\n",
    "# list of magnetization in field direction\n",
    "magnetization_para = np.full_like(alphas, np.nan)\n",
    "\n",
    "# number of loops for sampling\n",
    "loops = 500\n",
    "\n",
    "for ndx, alpha in enumerate(pbar := tqdm.tqdm(alphas)):\n",
    "    pbar.set_description(f\"Sampling for α={alpha:.2f}\")\n",
    "    # set magnetic field constraint\n",
    "    H_dipm = alpha * KT\n",
    "    H_field = [H_dipm, 0, 0]\n",
    "    H_constraint = espressomd.constraints.HomogeneousMagneticField(H=H_field)\n",
    "    system.constraints.add(H_constraint)\n",
    "\n",
    "    # equilibration\n",
    "    for i in range(equil_rounds):\n",
    "        system.integrator.run(equil_steps)\n",
    "\n",
    "    # sampling\n",
    "    magn_temp = 0\n",
    "    for i in range(loops):\n",
    "        system.integrator.run(20)\n",
    "        magn_temp += dipm_tot.calculate()[0]\n",
    "\n",
    "    # save average magnetization\n",
    "    magnetization_para[ndx] = magn_temp / loops\n",
    "\n",
    "    # remove constraint\n",
    "    system.constraints.clear()"
   ]
  },
  {
   "cell_type": "code",
   "execution_count": null,
   "id": "9179075b",
   "metadata": {},
   "outputs": [],
   "source": []
  },
  {
   "cell_type": "markdown",
   "id": "aa19629f",
   "metadata": {},
   "source": [
    "Now we can compare the resulting magnetization curves with the Langevin curve and the more advanced ones of Ref. <a href='#[1]'>[1]</a> by plotting all of them in one figure."
   ]
  },
  {
   "cell_type": "markdown",
   "id": "61019264",
   "metadata": {},
   "source": [
    "For the approximations of $M_{\\parallel}^{\\text{q2D}}$ and $M_{\\perp}^{\\text{q2D}}$ of Ref. <a href='#[1]'>[1]</a> we need the dipole moment of a single particle. Thus we calculate it from our dipolar interaction parameter $\\lambda$"
   ]
  },
  {
   "cell_type": "code",
   "execution_count": null,
   "id": "f3757779",
   "metadata": {},
   "outputs": [],
   "source": [
    "# dipole moment\n",
    "dipm = np.sqrt(DIP_LAMBDA * 4 * np.pi * LJ_SIGMA**3. * KT / MU_0)\n",
    "print(f'dipole moment = {dipm:.4f}')"
   ]
  },
  {
   "cell_type": "markdown",
   "id": "230204bb",
   "metadata": {},
   "source": [
    "and the saturation magnetization by using\n",
    "\n",
    "\\begin{equation}\n",
    "    M_{\\text{sat}} = \\rho \\mu = \\phi \\frac{4}{\\pi \\sigma^2} \\mu\n",
    "\\end{equation}\n",
    "thus"
   ]
  },
  {
   "cell_type": "code",
   "execution_count": null,
   "id": "7fc0a392",
   "metadata": {},
   "outputs": [],
   "source": [
    "M_sat = PHI * 4. / np.pi * 1. / (LJ_SIGMA**2.) * dipm"
   ]
  },
  {
   "cell_type": "markdown",
   "id": "f7668e3a",
   "metadata": {},
   "source": [
    "Further we need the derivation of the Langevin function after the external field $B$ thus we define the function"
   ]
  },
  {
   "cell_type": "code",
   "execution_count": null,
   "id": "a7cee909",
   "metadata": {},
   "outputs": [],
   "source": [
    "def dL_dB(alpha):\n",
    "    return (1. / (alpha**2) - 1. / np.sinh(alpha)**2) * dipm / (KT)"
   ]
  },
  {
   "cell_type": "markdown",
   "id": "1fa96c47",
   "metadata": {},
   "source": [
    "Now we define the approximated magnetization curves parallel and perpendicular to the monolayer plane"
   ]
  },
  {
   "cell_type": "code",
   "execution_count": null,
   "id": "34a84484",
   "metadata": {},
   "outputs": [],
   "source": [
    "# approximated magnetization curve for a field parallel to the monolayer plane\n",
    "def magnetization_approx_para(alpha):\n",
    "    return L(alpha) * (1. + MU_0 / 8. * M_sat * dL_dB(alpha))"
   ]
  },
  {
   "cell_type": "code",
   "execution_count": null,
   "id": "5a943e33",
   "metadata": {},
   "outputs": [],
   "source": [
    "# approximated magnetization curve for a field perpendicular to the monolayer plane\n",
    "def magnetization_approx_perp(alpha):\n",
    "    return L(alpha) * (1. - MU_0 / 4. * M_sat * dL_dB(alpha))"
   ]
  },
  {
   "cell_type": "markdown",
   "id": "223f0564",
   "metadata": {},
   "source": [
    "Now we define the Langevin function"
   ]
  },
  {
   "cell_type": "code",
   "execution_count": null,
   "id": "af45430b",
   "metadata": {},
   "outputs": [],
   "source": [
    "# Langevin function\n",
    "def L(x):\n",
    "    return (np.cosh(x) / np.sinh(x)) - 1. / x"
   ]
  },
  {
   "cell_type": "markdown",
   "id": "eacebb2f",
   "metadata": {},
   "source": [
    "and plot the three theoretical curves together with our simulation results"
   ]
  },
  {
   "cell_type": "markdown",
   "id": "5cc21f99",
   "metadata": {},
   "source": [
    "## Exercise:\n",
    "\n",
    "The following listing plots the analytical models for the magnetization.\n",
    "Add your sampled magnetization curves (for parallel and perpendicular fields) each normalized by the number of particles $N_{\\text{part}}$.\n",
    "\n",
    "```python\n",
    "# list of the values for alpha (x-axis)\n",
    "x = np.arange(0.01,9, 0.1, dtype=float)\n",
    "\n",
    "plt.figure(figsize=(10,10))\n",
    "plt.xlabel(r'$\\alpha$', fontsize=20)\n",
    "plt.ylabel(r'$M^*$', fontsize=20)\n",
    "plt.plot(x, L(x), label='Langevin function')\n",
    "plt.plot(x, magnetization_approx_perp(x), label=r'q2D approximation $\\perp$')\n",
    "plt.plot(x, magnetization_approx_para(x), label=r'q2D approximation $\\parallel$')\n",
    "# < exercise >\n",
    "plt.legend(fontsize=20)\n",
    "plt.show()\n",
    "```"
   ]
  },
  {
   "cell_type": "code",
   "execution_count": null,
   "id": "c83872cd",
   "metadata": {},
   "outputs": [],
   "source": [
    "# SOLUTION CELL\n",
    "# list of the values for alpha (x-axis)\n",
    "x = np.arange(0.01, 9, 0.1, dtype=float)\n",
    "\n",
    "plt.figure(figsize=(10, 10))\n",
    "plt.xlabel(r'$\\alpha$', fontsize=20)\n",
    "plt.ylabel(r'$M^*$', fontsize=20)\n",
    "plt.plot(x, L(x), label='Langevin function')\n",
    "plt.plot(x, magnetization_approx_perp(x), label=r'q2D approximation $\\perp$')\n",
    "plt.plot(x, magnetization_approx_para(x), label=r'q2D approximation $\\parallel$')\n",
    "plt.plot(alphas, magnetization_perp / N_PART, 'o', label=r'simulation results $\\perp$')\n",
    "plt.plot(alphas, magnetization_para / N_PART, 'o', label=r'simulation results $\\parallel$')\n",
    "plt.legend(fontsize=20)\n",
    "plt.show()"
   ]
  },
  {
   "cell_type": "code",
   "execution_count": null,
   "id": "a71b83e2",
   "metadata": {},
   "outputs": [],
   "source": []
  },
  {
   "cell_type": "markdown",
   "id": "ab839910",
   "metadata": {},
   "source": [
    "We can see that the simulation results are better represented by the curves of Ref. <a href='#[1]'>[1]</a> compared to the Langevin function. This was to be expected as the Langevin function is the magnetization curve of the real three dimensional system without dipole-dipole interaction. We can also see that the magnetization is smaller in the case of an external magnetic field perpendicular to the monolayer plane compared to the parallel case.\n",
    "\n",
    "Feel free to experiment with different dipolar interaction parameters $\\lambda$ up to around 4 and different area fractions $\\phi$ up to around 0.4. For higher values the here used simple sampling method is not applicable as the particles form clusters of very high relaxation times exceeding normal simulation times by far. Therefore more advanced methods are necessary to increase the sampling performance.\n",
    "\n",
    "It should also be noted that perhaps thereby one has to decrease the time step as for higher values of the dipolar interaction parameter and the area fraction the interaction between the particles is stronger."
   ]
  },
  {
   "cell_type": "markdown",
   "id": "64ca6d17",
   "metadata": {},
   "source": [
    "## References\n",
    "<a id='[1]'></a>[1] Tamás Kristóf and István Szalai. Magnetic properties in monolayers of a model\n",
    "polydisperse ferrofluid. *Phys. Rev. E* 72: 041105, 2005. <small>DOI:</small><a href=\"https://doi.org/10.1103/PhysRevE.72.041105\">10.1103/PhysRevE.72.041105</a>"
   ]
  }
 ],
 "metadata": {
  "kernelspec": {
   "display_name": "Python 3",
   "language": "python",
   "name": "python3"
  },
  "language_info": {
   "codemirror_mode": {
    "name": "ipython",
    "version": 3
   },
   "file_extension": ".py",
   "mimetype": "text/x-python",
   "name": "python",
   "nbconvert_exporter": "python",
   "pygments_lexer": "ipython3",
   "version": "3.8.10"
  }
 },
 "nbformat": 4,
 "nbformat_minor": 5
}
