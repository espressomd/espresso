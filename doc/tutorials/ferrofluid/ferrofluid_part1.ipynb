{
 "cells": [
  {
   "cell_type": "markdown",
   "id": "2f9d7d77",
   "metadata": {},
   "source": [
    "# Ferrofluid - Part 1"
   ]
  },
  {
   "cell_type": "markdown",
   "id": "0a9f6cb8",
   "metadata": {},
   "source": [
    "## Table of Contents\n",
    "1. [Introduction](#Introduction)\n",
    "2. [The Model](#The-Model)\n",
    "3. [Structure of this tutorial](#Structure-of-this-tutorial)\n",
    "4. [Compiling ESPResSo for this Tutorial](#Compiling-ESPResSo-for-this-Tutorial)\n",
    "5. [A Monolayer-Ferrofluid System in ESPResSo](#A-Monolayer-Ferrofluid-System-in-ESPResSo)\n",
    "    1. [Setup](#Setup)\n",
    "    2. [Sampling](#Sampling)\n",
    "    3. [Sampling with animation](#Sampling-with-animation)\n",
    "    4. [Sampling without animation](#Sampling-without-animation)\n",
    "    5. [Cluster distribution](#Cluster-distribution)"
   ]
  },
  {
   "cell_type": "markdown",
   "id": "7223c854",
   "metadata": {},
   "source": [
    "## Introduction"
   ]
  },
  {
   "cell_type": "markdown",
   "id": "12322446",
   "metadata": {},
   "source": [
    "Ferrofluids are colloidal suspensions of ferromagnetic single-domain particles in a liquid carrier. As the single particles contain only one magnetic domain, they can be seen as small permanent magnets. To prevent agglomeration of the particles, due to van-der-Waals or magnetic attraction, they are usually sterically or electrostatically stabilized (see <a href='#fig_1'>figure 1</a>). The former is achieved by adsorption of long chain molecules onto the particle surface, the latter by adsorption of charged coating particles. The size of the ferromagnetic particles are in the region of 10 nm. With the surfactant layer added they can reach a size of a few hundred nanometers. Have in mind that if we refer to the particle diameter $\\sigma$ we mean the diameter of the magnetic core plus two times the thickness of the surfactant layer.\n",
    "\n",
    "Some of the liquid properties, like the viscosity, the phase behavior or the optical birefringence can be altered via an external magnetic field or simply the fluid can be guided by such an\n",
    "field. Thus ferrofluids possess a wide range of biomedical applications like  magnetic drug\n",
    "targeting or magnetic thermoablation and technical applications like fine positioning systems or adaptive bearings and\n",
    "dampers.\n",
    "In <a href='#fig_2'>figure 2</a> the picture of a ferrofluid exposed to the magnetic field of a permanent magnet is shown. The famous energy minimizing thorn-like surface is clearly visible."
   ]
  },
  {
   "cell_type": "markdown",
   "id": "eb5f20dd",
   "metadata": {},
   "source": [
    "<a id='fig_1'></a><figure>\n",
    "<img src=\"figures/Electro-Steric_Stabilization.jpg\" style=\"float: center; width: 49%\">\n",
    "<center>\n",
    "<figcaption>Figure 1: Schematic representation of electrostatically stabilization (picture top) and steric stabilization (picture bottom) <a href='#[3]'>[3]</a></figcaption>\n",
    "</center>\n",
    "</figure>"
   ]
  },
  {
   "cell_type": "markdown",
   "id": "4f88bc70",
   "metadata": {},
   "source": [
    "<a id='fig_2'></a><figure>\n",
    "<img src='figures/Ferrofluid_Magnet_under_glass_edit.jpg' alt='ferrofluid on glass plate under which a strong magnet is placed' style='width: 600px;'/>\n",
    "<center>\n",
    "<figcaption>Figure 2: Real Ferrofluid exposed to an external magnetic field (neodymium magnet) <a href='#[4]'>[4]</a></figcaption>\n",
    "</center>\n",
    "</figure>"
   ]
  },
  {
   "cell_type": "markdown",
   "id": "095339c1",
   "metadata": {},
   "source": [
    "## The Model"
   ]
  },
  {
   "cell_type": "markdown",
   "id": "7f35fe0f",
   "metadata": {},
   "source": [
    "For simplicity in this tutorial we simulate spherical particles in a monodisperse ferrofluid system which means all particles have the same diameter $\\sigma$ and dipole moment $\\mu$. The point dipole moment is placed at the center of the particles and is constant both in magnitude and direction (in the coordinate system of the particle). This can be justified as the Néel relaxation times are usually negligible for the usual sizes of ferrofluid particles.\n",
    "Thus the magnetic interaction potential between two single particles is the dipole-dipole interaction potential which reads\n",
    "\n",
    "\\begin{equation*}\n",
    "\t\tu_{\\text{DD}}(\\vec{r}_{ij}, \\vec{\\mu}_i, \\vec{\\mu}_j) = \\gamma \\left(\\frac{\\vec{\\mu}_i \\cdot \\vec{\\mu}_j}{r_{ij}^3} - 3\\frac{(\\vec{\\mu}_i \\cdot \\vec{r}_{ij}) \\cdot (\\vec{\\mu}_j \\cdot \\vec{r}_{ij})}{r_{ij}^5}\\right)\n",
    "\\end{equation*}\n",
    "\n",
    "with $\\gamma = \\frac{\\mu_0}{4 \\pi}$ and $\\mu_0$ the vacuum permeability.\n",
    "\n",
    "For the steric interaction in this tutorial we use the purely repulsive Weeks-Chandler-Andersen (WCA) potential which is a Lennard-Jones potential with cut-off radius $r_{\\text{cut}}$ at the minimum of the potential $r_{\\text{cut}} = r_{\\text{min}} = 2^{\\frac{1}{6}}\\cdot \\sigma$ and shifted by $\\varepsilon_{ij}$ such that the potential is continuous at the cut-off radius. Thus the potential has the shape\n",
    "\n",
    "\\begin{equation*}\n",
    "\t\tu_{\\text{sr}}^{\\text{WCA}}(r_{ij}) = \\left\\{\n",
    "\t\t\\begin{array}{ll}\n",
    "\t\t4\\varepsilon_{ij}\\left[ \\left( \\frac{\\sigma}{r_{ij}} \\right)^{12} - \\left( \\frac{\\sigma}{r_{ij}} \\right)^6 \\right] + \\varepsilon_{ij} & r_{ij} < r_{\\text{cut}} \\\\\n",
    "\t\t0 & r_{ij} \\geq r_{\\text{cut}} \\\\\n",
    "\t\t\\end{array}\n",
    "\t\t\\right.\n",
    "\\end{equation*}\n",
    "\n",
    "where $r_{ij}$ are the distances between two particles.\n",
    "The purely repulsive character of the potential can be justified by the fact that the particles in real ferrofluids are sterically or electrostatically stabilized against agglomeration.\n",
    "\n",
    "The whole interaction potential reads\n",
    "\n",
    "\\begin{equation*}\n",
    "\t\tu(\\vec{r}_{ij}, \\vec{\\mu}_i, \\vec{\\mu}_j) = u_{\\text{sr}}(\\vec{r}_{ij}) + u_{\\text{DD}}(\\vec{r}_{ij}, \\vec{\\mu}_i, \\vec{\\mu}_j)\n",
    "\\end{equation*}\n",
    "\n",
    "The liquid carrier of the system is simulated through a Langevin thermostat.\n",
    "        \n",
    "For ferrofluid systems there are three important parameters. The first is the volume fraction in three dimensions or the area fraction in two dimensions or quasi two dimensions. The second is the dipolar interaction parameter $\\lambda$\n",
    "\n",
    "\\begin{equation}\n",
    "    \\lambda = \\frac{\\tilde{u}_{\\text{DD}}}{u_T} = \\gamma \\frac{\\mu^2}{k_{\\text{B}}T\\sigma^3}\n",
    "\\end{equation}\n",
    "\n",
    "where $u_\\mathrm{T} = k_{\\text{B}}T$ is the thermal energy and $\\tilde{u}_{DD}$ is the absolute value of the dipole-dipole interaction energy at close contact (cc) and head-to-tail configuration (htt) (see <a href='#fig_4'>figure 4</a>) per particle, i.e. in formulas it reads\n",
    "\n",
    "\\begin{equation}\n",
    "    \\tilde{u}_{\\text{DD}} = \\frac{ \\left| u_{\\text{DD}}^{\\text{htt, cc}} \\right| }{2}\n",
    "\\end{equation}\n",
    "\n",
    "The third parameter takes a possible external magnetic field into account and is called Langevin parameter $\\alpha$. It is the ratio between the energy of a dipole moment in the external magnetic field $B$ and the thermal energy\n",
    "\n",
    "\\begin{equation}\n",
    "    \\alpha = \\frac{\\mu_0 \\mu}{k_{\\text{B}} T}B\n",
    "\\end{equation}\n",
    "\n"
   ]
  },
  {
   "cell_type": "markdown",
   "id": "62b95d9c",
   "metadata": {},
   "source": [
    "<a id='fig_4'></a><figure>\n",
    "<img src='figures/headtotailconf.png' alt='schematic representation of head to tail configuration' style='width: 200px;'/>\n",
    "<center>\n",
    "<figcaption>Figure 4: Schematic representation of the head-to-tail configuration of two magnetic particles at close contact.</figcaption>\n",
    "</center>\n",
    "</figure>"
   ]
  },
  {
   "cell_type": "markdown",
   "id": "07fddbbd",
   "metadata": {},
   "source": [
    "## Structure of this tutorial"
   ]
  },
  {
   "cell_type": "markdown",
   "id": "598960a8",
   "metadata": {},
   "source": [
    "The aim of this tutorial is to introduce the basic features of **ESPResSo** for ferrofluids or dipolar fluids in general. In **part I** and **part II** we will do this for a monolayer-ferrofluid, in **part III** for a three dimensional system. In **part I** we will examine the clusters which are present in all interesting ferrofluid systems. In **part II** we will examine the influence of the dipole-dipole-interaction on the magnetization curve of a ferrofluid. In **part III** we calculate estimators for the initial susceptibility using fluctuation formulas and sample the magnetization curve.\n",
    "\n",
    "We assume the reader is familiar with the basic concepts of Python and MD simulations."
   ]
  },
  {
   "cell_type": "markdown",
   "id": "5b064e1c",
   "metadata": {},
   "source": [
    "**Remark**: The equilibration and sampling times used in this tutorial would be not sufficient for scientific  purposes, but they are long enough to get at least a qualitative insight of the behaviour of ferrofluids. They have been shortened so we achieve reasonable computation times for the purpose of a tutorial."
   ]
  },
  {
   "cell_type": "markdown",
   "id": "b6d5a65e",
   "metadata": {},
   "source": [
    "## Compiling ESPResSo for this Tutorial"
   ]
  },
  {
   "cell_type": "markdown",
   "id": "4ed10bf7",
   "metadata": {},
   "source": [
    "For this tutorial the following features of **ESPResSo** are needed"
   ]
  },
  {
   "cell_type": "markdown",
   "id": "72cfad3e",
   "metadata": {},
   "source": [
    "```c++\n",
    "#define DIPOLES\n",
    "#define DP3M\n",
    "#define LENNARD_JONES\n",
    "```"
   ]
  },
  {
   "cell_type": "markdown",
   "id": "a1082056",
   "metadata": {},
   "source": [
    "Please uncomment them in the <tt>myconfig.hpp</tt> and compile **ESPResSo** using this <tt>myconfig.hpp</tt>."
   ]
  },
  {
   "cell_type": "markdown",
   "id": "a0bffbeb",
   "metadata": {},
   "source": [
    "## A Monolayer-Ferrofluid System in ESPResSo"
   ]
  },
  {
   "cell_type": "markdown",
   "id": "73e23bff",
   "metadata": {},
   "source": [
    "For interesting ferrofluid systems, where the fraction of ferromagnetic particles in the liquid carrier and their dipole moment are not vanishingly small, the ferromagnetic particles form clusters of different shapes and sizes. If the fraction and/or dipole moments are big enough the clusters can interconnect with each other and form a whole space occupying network.\n",
    "In this part we want to investigate the number of clusters as well as their shape and size in our simulated monolayer ferrofluid system. It should be noted that a monolayer is a quasi three dimensional system (q2D), i.e. two dimensional for the positions and three dimensional for the orientation of the dipole moments."
   ]
  },
  {
   "cell_type": "markdown",
   "id": "2adaed01",
   "metadata": {},
   "source": [
    "### Setup"
   ]
  },
  {
   "cell_type": "markdown",
   "id": "f704b1a3",
   "metadata": {},
   "source": [
    "We start with checking for the presence of ESPResSo features and importing all necessary packages."
   ]
  },
  {
   "cell_type": "code",
   "execution_count": null,
   "id": "73f18167",
   "metadata": {},
   "outputs": [],
   "source": [
    "import espressomd\n",
    "import espressomd.magnetostatics\n",
    "import espressomd.cluster_analysis\n",
    "import espressomd.pair_criteria\n",
    "\n",
    "espressomd.assert_features(['DIPOLES', 'DP3M', 'LENNARD_JONES'])\n",
    "\n",
    "import numpy as np\n",
    "import tqdm\n",
    "%matplotlib inline\n",
    "import matplotlib.pyplot as plt\n",
    "import matplotlib.ticker as ticker\n",
    "plt.rcParams.update({'font.size': 18})"
   ]
  },
  {
   "cell_type": "markdown",
   "id": "126c83a4",
   "metadata": {},
   "source": [
    "Now we set up all simulation parameters. "
   ]
  },
  {
   "cell_type": "code",
   "execution_count": null,
   "id": "6d82f2ed",
   "metadata": {},
   "outputs": [],
   "source": [
    "# Lennard-Jones parameters\n",
    "LJ_SIGMA = 1\n",
    "LJ_EPSILON = 1\n",
    "LJ_CUT = 2**(1. / 6.) * LJ_SIGMA\n",
    "\n",
    "# Particles\n",
    "N_PART = 1200\n",
    "\n",
    "# Area fraction of the mono-layer\n",
    "PHI = 0.1\n",
    "\n",
    "# Dipolar interaction parameter lambda = mu_0 m^2 /(4 pi sigma^3 KT)\n",
    "DIP_LAMBDA = 4\n",
    "\n",
    "# Temperature\n",
    "KT = 1.0\n",
    "\n",
    "# Friction coefficient\n",
    "GAMMA = 1.0\n",
    "\n",
    "# Time step\n",
    "TIME_STEP = 0.01"
   ]
  },
  {
   "cell_type": "markdown",
   "id": "b145e612",
   "metadata": {},
   "source": [
    "Note that we declared a <tt>lj_cut</tt>. This will be used as the cut-off radius of the Lennard-Jones potential to obtain a purely repulsive WCA potential.\n",
    "\n",
    "Now we set up the system. The length of the simulation box is calculated using the desired area fraction and the area all particles occupy. Then we create the **ESPResSo** system and pass the simulation step. For the Verlet list skin parameter we use the built-in tuning algorithm of **ESPResSo**."
   ]
  },
  {
   "cell_type": "markdown",
   "id": "136aa645",
   "metadata": {},
   "source": [
    "## Exercise:\n",
    "How large does `BOX_SIZE` have to be for a system of `N_PART` particles with a volume (area) fraction `PHI`?\n",
    "Define `BOX_SIZE`."
   ]
  },
  {
   "cell_type": "markdown",
   "id": "db35f94d",
   "metadata": {},
   "source": [
    "$$\n",
    "L_{\\text{box}} = \\sqrt{\\frac{N A_{\\text{sphere}}}{\\varphi}}\n",
    "$$"
   ]
  },
  {
   "cell_type": "code",
   "execution_count": null,
   "id": "403f2e97",
   "metadata": {},
   "outputs": [],
   "source": [
    "# SOLUTION CELL\n",
    "BOX_SIZE = (N_PART * np.pi * (LJ_SIGMA / 2.)**2 / PHI)**0.5"
   ]
  },
  {
   "cell_type": "code",
   "execution_count": null,
   "id": "be1feaa4",
   "metadata": {},
   "outputs": [],
   "source": [
    "# System setup\n",
    "# BOX_SIZE = ...\n",
    "\n",
    "\n",
    "print(\"Box size\", BOX_SIZE)\n",
    "# Note that the dipolar P3M and dipolar layer correction need a cubic\n",
    "# simulation box for technical reasons.\n",
    "system = espressomd.System(box_l=(BOX_SIZE, BOX_SIZE, BOX_SIZE))\n",
    "system.time_step = TIME_STEP"
   ]
  },
  {
   "cell_type": "markdown",
   "id": "1db596a3",
   "metadata": {},
   "source": [
    "Now we set up the interaction between the particles as a non-bonded interaction and use the Lennard-Jones potential as the interaction potential. Here we use the above mentioned cut-off radius to get a purely repulsive interaction. "
   ]
  },
  {
   "cell_type": "code",
   "execution_count": null,
   "id": "89b93a20",
   "metadata": {},
   "outputs": [],
   "source": [
    "# Lennard-Jones interaction\n",
    "system.non_bonded_inter[0, 0].lennard_jones.set_params(epsilon=LJ_EPSILON, sigma=LJ_SIGMA, cutoff=LJ_CUT, shift=\"auto\")"
   ]
  },
  {
   "cell_type": "markdown",
   "id": "6cb78efb",
   "metadata": {},
   "source": [
    "Now we generate random positions and orientations of the particles and their dipole moments. \n",
    "\n",
    "**Hint:**\n",
    "It should be noted that we seed the random number generator of numpy. Thus the initial configuration of our system is the same every time this script will be executed. You can change it to another one to simulate with a different initial configuration."
   ]
  },
  {
   "cell_type": "markdown",
   "id": "c49729f7",
   "metadata": {},
   "source": [
    "## Exercise:\n",
    "How does one set up randomly oriented dipole moments?\n",
    "*Hint*: Think of the way that different methods could introduce a bias in the distribution of the orientations.\n",
    "\n",
    "Create a variable `dip` as a `N_PART x 3` numpy array, which contains the randomly distributed dipole moments."
   ]
  },
  {
   "cell_type": "code",
   "execution_count": null,
   "id": "20547b95",
   "metadata": {},
   "outputs": [],
   "source": [
    "# SOLUTION CELL\n",
    "# Random dipole moments\n",
    "np.random.seed(seed=1)\n",
    "dip_phi = 2. * np.pi * np.random.random((N_PART, 1))\n",
    "dip_cos_theta = 2 * np.random.random((N_PART, 1)) - 1\n",
    "dip_sin_theta = np.sin(np.arccos(dip_cos_theta))\n",
    "dip = np.hstack((\n",
    "    dip_sin_theta * np.sin(dip_phi),\n",
    "    dip_sin_theta * np.cos(dip_phi),\n",
    "    dip_cos_theta))"
   ]
  },
  {
   "cell_type": "code",
   "execution_count": null,
   "id": "31d7e504",
   "metadata": {},
   "outputs": [],
   "source": [
    "# Random dipole moments\n",
    "# ...\n",
    "# dip = ...\n",
    "\n",
    "# Random positions in the monolayer\n",
    "pos = BOX_SIZE * np.hstack((np.random.random((N_PART, 2)), np.zeros((N_PART, 1))))"
   ]
  },
  {
   "cell_type": "markdown",
   "id": "c5617300",
   "metadata": {},
   "source": [
    "Now we add the particles with their positions and orientations to our system.\n",
    "Thereby we activate all degrees of freedom for the orientation of the dipole moments.\n",
    "As we want a two dimensional system we only allow the particles to translate\n",
    "in $x$- and $y$-direction and not in $z$-direction by using the <tt>fix</tt> argument."
   ]
  },
  {
   "cell_type": "code",
   "execution_count": null,
   "id": "523fb464",
   "metadata": {},
   "outputs": [],
   "source": [
    "# Add particles\n",
    "system.part.add(pos=pos, rotation=N_PART * [(True, True, True)],\n",
    "                dip=dip, fix=N_PART * [(False, False, True)])"
   ]
  },
  {
   "cell_type": "markdown",
   "id": "f227c6ed",
   "metadata": {},
   "source": [
    "Be aware that we do not set the magnitude of the magnetic dipole moments to the particles. As in our case all particles have the same dipole moment it is possible to rewrite the dipole-dipole interaction potential to\n",
    "\n",
    "\\begin{equation}\n",
    "    u_{\\text{DD}}(\\vec{r}_{ij}, \\vec{\\mu}_i, \\vec{\\mu}_j) =  \\gamma \\mu^2 \\left(\\frac{\\vec{\\hat{\\mu}}_i \\cdot \\vec{\\hat{\\mu}}_j}{r_{ij}^3} - 3\\frac{(\\vec{\\hat{\\mu}}_i \\cdot \\vec{r}_{ij}) \\cdot (\\vec{\\hat{\\mu}}_j \\cdot \\vec{r}_{ij})}{r_{ij}^5}\\right)\n",
    "\\end{equation}\n",
    "\n",
    "where $\\vec{\\hat{\\mu}}_i$ is the unit vector of the dipole moment $i$ and $\\mu$ is the magnitude of the dipole moments.\n",
    "Thus we can only prescribe the initial orientation of the dipole moment to the particles and take the magnitude of the moments into account when calculating the dipole-dipole interaction with Dipolar P3M, by modifying the original Dipolar P3M prefactor $\\gamma$ such that\n",
    "\n",
    "\\begin{equation}\n",
    "    \\tilde{\\gamma} = \\gamma \\mu^2 = \\frac{\\mu_0}{4\\pi}\\mu^2 = \\lambda \\sigma^3 k_{\\text{B}}T\n",
    "\\end{equation}\n",
    "\n",
    "Of course it would also be possible to prescribe the whole dipole moment vectors to every particle and leave the prefactor of Dipolar P3M unchanged ($\\gamma$). In fact we have to do this if we want to simulate polydisperse systems."
   ]
  },
  {
   "cell_type": "markdown",
   "id": "a900d33f",
   "metadata": {},
   "source": [
    "Now we choose the steepest descent integrator to remove possible overlaps of the particles."
   ]
  },
  {
   "cell_type": "code",
   "execution_count": null,
   "id": "cf428a28",
   "metadata": {},
   "outputs": [],
   "source": [
    "# Set integrator to steepest descent method\n",
    "system.integrator.set_steepest_descent(\n",
    "    f_max=0, gamma=0.1, max_displacement=0.05)"
   ]
  },
  {
   "cell_type": "markdown",
   "id": "8499b618",
   "metadata": {},
   "source": [
    "## Exercise:\n",
    "\n",
    "Perform a steepest descent energy minimization.\n",
    "Track the relative energy change $E_{\\text{rel}}$ per minimization loop (where the integrator is run for 10 steps) and terminate once $E_{\\text{rel}} \\le 0.05$, i.e. when there is less than a 5% difference in the relative energy change in between iterations."
   ]
  },
  {
   "cell_type": "code",
   "execution_count": null,
   "id": "dcbcb568",
   "metadata": {},
   "outputs": [],
   "source": [
    "# SOLUTION CELL\n",
    "import sys\n",
    "\n",
    "energy = system.analysis.energy()['total']\n",
    "relative_energy_change = 1.0\n",
    "while relative_energy_change > 0.05:\n",
    "    system.integrator.run(10)\n",
    "    energy_new = system.analysis.energy()['total']\n",
    "    # Prevent division by zero errors:\n",
    "    if energy < sys.float_info.epsilon:\n",
    "        break\n",
    "    relative_energy_change = (energy - energy_new) / energy\n",
    "    print(f'Minimization, relative change in energy: {relative_energy_change:.4f}')\n",
    "    energy = energy_new"
   ]
  },
  {
   "cell_type": "code",
   "execution_count": null,
   "id": "63fdafa0",
   "metadata": {},
   "outputs": [],
   "source": []
  },
  {
   "cell_type": "markdown",
   "id": "7d476671",
   "metadata": {},
   "source": [
    "For the simulation of our system we choose the velocity Verlet integrator.\n",
    "After that we set up the thermostat which is, in our case, a Langevin thermostat to simulate in an NVT ensemble.\n",
    "\n",
    "**Hint:**\n",
    "It should be noted that we seed the Langevin thermostat, thus the time evolution of the system is partly predefined.\n",
    "Partly because of the numeric accuracy and the automatic tuning algorithms of Dipolar P3M and DLC where the resulting parameters are slightly different every time.\n",
    "You can change the seed to get a guaranteed different time evolution."
   ]
  },
  {
   "cell_type": "code",
   "execution_count": null,
   "id": "767d6139",
   "metadata": {},
   "outputs": [],
   "source": [
    "# Switch to velocity Verlet integrator\n",
    "system.integrator.set_vv()\n",
    "system.thermostat.set_langevin(kT=KT, gamma=GAMMA, seed=1)"
   ]
  },
  {
   "cell_type": "markdown",
   "id": "6453d4e2",
   "metadata": {},
   "source": [
    "To calculate the dipole-dipole interaction we use the dipolar P3M method\n",
    "(see Ref. <a href='#[1]'>[1]</a>) which is based on the Ewald summation.\n",
    "By default the boundary conditions of the system are set to conducting which\n",
    "means the dielectric constant is set to infinity for the surrounding medium.\n",
    "As we want to simulate a two dimensional system we additionally use the dipolar\n",
    "layer correction (DLC) (see Ref. <a href='#[2]'>[2]</a>).\n",
    "As we attach <tt>DipolarP3M</tt> to our system, a tuning function is started automatically\n",
    "which tries to find the optimal parameters for dipolar P3M and prints them to the screen.\n",
    "The last line of the output is the value of the tuned skin."
   ]
  },
  {
   "cell_type": "code",
   "execution_count": null,
   "id": "fd12b1f6",
   "metadata": {
    "scrolled": true
   },
   "outputs": [],
   "source": [
    "CI_DP3M_PARAMS = {} # debug variable for continuous integration, can be left empty\n",
    "# Setup dipolar P3M and dipolar layer correction\n",
    "dp3m = espressomd.magnetostatics.DipolarP3M(accuracy=5E-4, prefactor=DIP_LAMBDA * LJ_SIGMA**3 * KT, **CI_DP3M_PARAMS)\n",
    "mdlc = espressomd.magnetostatics.DLC(actor=dp3m, maxPWerror=1E-4, gap_size=BOX_SIZE - LJ_SIGMA)\n",
    "system.magnetostatics.solver = mdlc\n",
    "\n",
    "# tune verlet list skin\n",
    "system.cell_system.tune_skin(min_skin=0.4, max_skin=2., tol=0.2, int_steps=100)\n",
    "\n",
    "# print skin value\n",
    "print(f'tuned skin = {system.cell_system.skin:.2f}')"
   ]
  },
  {
   "cell_type": "markdown",
   "id": "b8da8cb2",
   "metadata": {},
   "source": [
    "Now we equilibrate the dipole-dipole interaction for some time"
   ]
  },
  {
   "cell_type": "code",
   "execution_count": null,
   "id": "95c4a8b6",
   "metadata": {
    "scrolled": true
   },
   "outputs": [],
   "source": [
    "# equilibrate\n",
    "EQUIL_ROUNDS = 20\n",
    "EQUIL_STEPS = 1000\n",
    "for i in tqdm.trange(EQUIL_ROUNDS):\n",
    "    system.integrator.run(EQUIL_STEPS)"
   ]
  },
  {
   "cell_type": "markdown",
   "id": "a6c4c46b",
   "metadata": {},
   "source": [
    "## Sampling"
   ]
  },
  {
   "cell_type": "markdown",
   "id": "af0906f5",
   "metadata": {},
   "source": [
    "The system will be sampled over 100 loops."
   ]
  },
  {
   "cell_type": "code",
   "execution_count": null,
   "id": "73683c82",
   "metadata": {},
   "outputs": [],
   "source": [
    "LOOPS = 100"
   ]
  },
  {
   "cell_type": "markdown",
   "id": "516c2f33",
   "metadata": {},
   "source": [
    "As the system is two dimensional, we can simply do a scatter plot to get a visual representation of a system state. To get a better insight of how a ferrofluid system develops during time we will create a video of the development of our system during the sampling. If you only want to sample the system simply go to [Sampling without animation](#Sampling-without-animation)"
   ]
  },
  {
   "cell_type": "markdown",
   "id": "60dc1653",
   "metadata": {},
   "source": [
    "### Sampling with animation"
   ]
  },
  {
   "cell_type": "markdown",
   "id": "5f7fe3a7",
   "metadata": {},
   "source": [
    "To get an animation of the system development we have to create a function which will save the video and embed it in an html string."
   ]
  },
  {
   "cell_type": "code",
   "execution_count": null,
   "id": "ed0ee691",
   "metadata": {},
   "outputs": [],
   "source": [
    "import matplotlib.animation as animation\n",
    "import tempfile\n",
    "import base64\n",
    "\n",
    "VIDEO_TAG = \"\"\"<video controls>\n",
    " <source src=\"data:video/x-m4v;base64,{0}\" type=\"video/mp4\">\n",
    " Your browser does not support the video tag.\n",
    "</video>\"\"\"\n",
    "\n",
    "\n",
    "def anim_to_html(anim):\n",
    "    if not hasattr(anim, '_encoded_video'):\n",
    "        with tempfile.NamedTemporaryFile(suffix='.mp4') as f:\n",
    "            anim.save(f.name, fps=20, extra_args=['-vcodec', 'libx264'])\n",
    "            with open(f.name, \"rb\") as g:\n",
    "                video = g.read()\n",
    "        anim._encoded_video = base64.b64encode(video).decode('ascii')\n",
    "        plt.close(anim._fig)\n",
    "    return VIDEO_TAG.format(anim._encoded_video)\n",
    "\n",
    "\n",
    "animation.Animation._repr_html_ = anim_to_html\n",
    "\n",
    "\n",
    "def init():\n",
    "    # Set x and y range\n",
    "    ax.set_ylim(0, BOX_SIZE)\n",
    "    ax.set_xlim(0, BOX_SIZE)\n",
    "    x_data, y_data = [], []\n",
    "    part.set_data(x_data, y_data)\n",
    "    return part,"
   ]
  },
  {
   "cell_type": "markdown",
   "id": "89d9844a",
   "metadata": {},
   "source": [
    "## Exercise:\n",
    "\n",
    "In the following an animation loop is defined, however it is incomplete.\n",
    "Extend the code such that in every loop the system is integrated for 100 steps.\n",
    "Afterwards `x_data` and `y_data` have to be populated by the folded $x$- and $y$- positions of the particles.\n",
    "\n",
    "(You may copy and paste the incomplete code template to the empty cell below.)\n",
    "\n",
    "```python\n",
    "def run(i):\n",
    "    # < excercise >\n",
    "    \n",
    "    # Save current system state as a plot\n",
    "    x_data, y_data = # < excercise >\n",
    "    ax.figure.canvas.draw()\n",
    "    part.set_data(x_data, y_data)\n",
    "    print(f'progress: {(i + 1) * 100. / LOOPS:3.0f}%', end='\\r')\n",
    "    return part,\n",
    "```"
   ]
  },
  {
   "cell_type": "code",
   "execution_count": null,
   "id": "91004d62",
   "metadata": {},
   "outputs": [],
   "source": [
    "# SOLUTION CELL\n",
    "def run(i):\n",
    "    system.integrator.run(100)\n",
    "\n",
    "    # Save current system state as a plot\n",
    "    x_data, y_data = system.part.all().pos_folded[:, 0], system.part.all().pos_folded[:, 1]\n",
    "    ax.figure.canvas.draw()\n",
    "    part.set_data(x_data, y_data)\n",
    "    print(f'progress: {(i + 1) * 100. / LOOPS:3.0f}%', end='\\r')\n",
    "    return part,"
   ]
  },
  {
   "cell_type": "code",
   "execution_count": null,
   "id": "95caca0c",
   "metadata": {},
   "outputs": [],
   "source": []
  },
  {
   "cell_type": "markdown",
   "id": "0f7e9093",
   "metadata": {},
   "source": [
    "Now we use the <tt>animation</tt> class of <tt>matplotlib</tt> to save snapshots of the system as frames of a video which is then displayed after the sampling is finished. Between two frames are 100 integration steps.\n",
    "\n",
    "In the video chain-like and ring-like clusters should be visible, as well as some isolated monomers."
   ]
  },
  {
   "cell_type": "code",
   "execution_count": null,
   "id": "3d11e830",
   "metadata": {
    "scrolled": true
   },
   "outputs": [],
   "source": [
    "fig, ax = plt.subplots(figsize=(10, 10))\n",
    "part, = ax.plot([], [], 'o')\n",
    "\n",
    "animation.FuncAnimation(fig, run, frames=LOOPS, blit=True, interval=0, repeat=False, init_func=init)"
   ]
  },
  {
   "cell_type": "markdown",
   "id": "a7ab793c",
   "metadata": {},
   "source": [
    "## Cluster analysis\n",
    "\n",
    "To quantify the number of clusters and their respective sizes, we now want to perform a cluster analysis.\n",
    "For that we can use ESPREsSo's [cluster analysis class](https://espressomd.github.io/doc/analysis.html?highlight=cluster%20analysis#cluster-analysis)."
   ]
  },
  {
   "cell_type": "markdown",
   "id": "2f6d201a",
   "metadata": {},
   "source": [
    "## Exercise:\n",
    "\n",
    "Setup a cluster analysis object (`ClusterStructure` class) and assign its instance to the variable `cluster_structure`.\n",
    "As criterion for the cluster analysis use a distance criterion where particles are assumed to be\n",
    "part of a cluster if the nearest neighbors are closer than $1.3\\sigma_{\\text{LJ}}$."
   ]
  },
  {
   "cell_type": "code",
   "execution_count": null,
   "id": "fd562d2e",
   "metadata": {},
   "outputs": [],
   "source": [
    "# SOLUTION CELL\n",
    "# Setup cluster analysis\n",
    "cluster_structure = espressomd.cluster_analysis.ClusterStructure(pair_criterion=espressomd.pair_criteria.DistanceCriterion(cut_off=1.3 * LJ_SIGMA))"
   ]
  },
  {
   "cell_type": "code",
   "execution_count": null,
   "id": "559d15d5",
   "metadata": {},
   "outputs": [],
   "source": []
  },
  {
   "cell_type": "markdown",
   "id": "7eb0941f",
   "metadata": {},
   "source": [
    "Now we sample our system for some time and do a cluster analysis in order to get an estimator of the cluster observables."
   ]
  },
  {
   "cell_type": "markdown",
   "id": "12ebaed0",
   "metadata": {},
   "source": [
    "For the cluster analysis we create two empty lists. The first for the number of clusters and the second for their respective sizes."
   ]
  },
  {
   "cell_type": "code",
   "execution_count": null,
   "id": "0fbeabc7",
   "metadata": {},
   "outputs": [],
   "source": [
    "n_clusters = []\n",
    "cluster_sizes = []"
   ]
  },
  {
   "cell_type": "markdown",
   "id": "6b8d8e7f",
   "metadata": {},
   "source": [
    "### Sampling without animation"
   ]
  },
  {
   "cell_type": "markdown",
   "id": "2098e033",
   "metadata": {},
   "source": [
    "The following code just samples the system and does a cluster analysis every <tt>loops</tt> (100 by default) simulation steps."
   ]
  },
  {
   "cell_type": "markdown",
   "id": "98b99dd6",
   "metadata": {},
   "source": [
    "## Exercise:\n",
    "\n",
    "Write an integration loop which runs a cluster analysis on the system, saving the number of clusters `n_clusters` and the size distribution `cluster_sizes`.\n",
    "Take the following as a starting point:\n",
    "\n",
    "```python\n",
    "for i in tqdm.trange(LOOPS):\n",
    "    # Run cluster analysis\n",
    "    cluster_structure.run_for_all_pairs()\n",
    "\n",
    "    # Gather statistics:\n",
    "    n_clusters.append(# < excercise >)\n",
    "    for c in cluster_structure.clusters:\n",
    "        cluster_sizes.append(# < excercise >)\n",
    "    system.integrator.run(100)\n",
    "```"
   ]
  },
  {
   "cell_type": "code",
   "execution_count": null,
   "id": "95b9de2c",
   "metadata": {
    "scrolled": true
   },
   "outputs": [],
   "source": [
    "# SOLUTION CELL\n",
    "for i in tqdm.trange(LOOPS):\n",
    "    # Run cluster analysis\n",
    "    cluster_structure.run_for_all_pairs()\n",
    "\n",
    "    # Gather statistics:\n",
    "    n_clusters.append(len(cluster_structure.clusters))\n",
    "    for c in cluster_structure.clusters:\n",
    "        cluster_sizes.append(c[1].size())\n",
    "    system.integrator.run(100)"
   ]
  },
  {
   "cell_type": "code",
   "execution_count": null,
   "id": "5095587f",
   "metadata": {},
   "outputs": [],
   "source": []
  },
  {
   "cell_type": "markdown",
   "id": "0042827e",
   "metadata": {},
   "source": [
    "You may want to get a visualization of the current state of the system. For that we plot the particle positions folded to the simulation box using <tt>matplotlib</tt>."
   ]
  },
  {
   "cell_type": "code",
   "execution_count": null,
   "id": "387aa7fd",
   "metadata": {},
   "outputs": [],
   "source": [
    "plt.figure(figsize=(10, 10))\n",
    "plt.xlim(0, BOX_SIZE)\n",
    "plt.ylim(0, BOX_SIZE)\n",
    "plt.xlabel('x-position', fontsize=20)\n",
    "plt.ylabel('y-position', fontsize=20)\n",
    "plt.plot(system.part.all().pos_folded[:, 0], system.part.all().pos_folded[:, 1], 'o')\n",
    "plt.show()"
   ]
  },
  {
   "cell_type": "markdown",
   "id": "8efa5ff5",
   "metadata": {},
   "source": [
    "In the plot chain-like and ring-like clusters should be visible. Some of them are connected via Y- or X-links to each other. Also some monomers should be present."
   ]
  },
  {
   "cell_type": "markdown",
   "id": "4c0828ea",
   "metadata": {},
   "source": [
    "## Cluster distribution"
   ]
  },
  {
   "cell_type": "markdown",
   "id": "562c7f07",
   "metadata": {},
   "source": [
    "After having sampled our system we now can calculate estimators for the expectation value of the cluster sizes and their distribution."
   ]
  },
  {
   "cell_type": "markdown",
   "id": "1c6be57c",
   "metadata": {},
   "source": [
    "##  Exercise:\n",
    "\n",
    "Use `numpy` to calculate a histogram of the cluster sizes and assign it to the variable `size_dist`.\n",
    "Take only clusters up to a size of 19 particles into account.\n",
    "\n",
    "*Hint*: In order not to count clusters with size 20 or more, one may include an additional bin containing these.\n",
    "The reason for that is that `numpy` defines the histogram bins as half-open intervals with the open border at the upper bin edge.\n",
    "Consequently clusters of larger sizes are attributed to the last bin.\n",
    "By not using the last bin in the plot below, these clusters can effectively be neglected."
   ]
  },
  {
   "cell_type": "code",
   "execution_count": null,
   "id": "40ec5f37",
   "metadata": {},
   "outputs": [],
   "source": [
    "# SOLUTION CELL\n",
    "size_dist = np.histogram(cluster_sizes, range=(2, 21), bins=19)"
   ]
  },
  {
   "cell_type": "code",
   "execution_count": null,
   "id": "9e14aff6",
   "metadata": {},
   "outputs": [],
   "source": []
  },
  {
   "cell_type": "markdown",
   "id": "0a018911",
   "metadata": {},
   "source": [
    "Now we can plot this histogram and should see the number of clusters decreasing roughly\n",
    "exponentially with the cluster size, i.e. the number of monomers in the cluster."
   ]
  },
  {
   "cell_type": "code",
   "execution_count": null,
   "id": "bd36fb0a",
   "metadata": {},
   "outputs": [],
   "source": [
    "import scipy.optimize\n",
    "\n",
    "def kernel(x, a, b):\n",
    "    return a * np.exp(-np.abs(b) * x)\n",
    "\n",
    "xdata = size_dist[1][:-2]\n",
    "ydata = size_dist[0][:-1] / float(LOOPS)\n",
    "popt, _ = scipy.optimize.curve_fit(kernel, xdata[2:], ydata[2:])\n",
    "xdata_fit = np.linspace(np.min(xdata), np.max(xdata), 100)\n",
    "ydata_fit = kernel(xdata_fit, *popt)\n",
    "\n",
    "plt.figure(figsize=(10, 6))\n",
    "plt.plot(xdata_fit, ydata_fit, label='Exponential fit')\n",
    "plt.plot(xdata, ydata, 'o', label='Simulation results')\n",
    "plt.xlabel('Cluster size', fontsize=20)\n",
    "plt.ylabel('Probability density function', fontsize=20)\n",
    "plt.legend()\n",
    "plt.gca().get_xaxis().set_major_locator(ticker.MaxNLocator(integer=True))\n",
    "plt.show()"
   ]
  },
  {
   "cell_type": "markdown",
   "id": "13bafd6c",
   "metadata": {},
   "source": [
    "## References\n",
    "<a id='[1]'></a>[1] Juan J. Cerdà, V. Ballenegger, O. Lenz, and Ch. Holm. P3M algorithm for dipolar interactions. *Journal of Chemical Physics*, 129:234104, 2008.  \n",
    "<a id='[2]'></a>[2] A. Bródka. Ewald summation method with electrostatic layer correction for\n",
    "interactions of point dipoles in slab geometry. *Chemical Physics Letters* 400(1&ndash;3): 62&ndash;67, 2004. <small>DOI:</small><a href=\"https://doi.org/10.1016/j.cplett.2004.10.086\">10.1016/j.cplett.2004.10.086</a>"
   ]
  },
  {
   "cell_type": "markdown",
   "id": "abac8fb7",
   "metadata": {},
   "source": [
    "Image sources:\n",
    "\n",
    "<a id='[3]'></a>[3] <a href=\"https://commons.wikimedia.org/wiki/User:Ayouril\">Ayouril</a>, <a href=\"https://commons.wikimedia.org/wiki/File:Electro-Steric_Stabilization.jpg\">Electro-Steric Stabilization</a>, <a href=\"https://creativecommons.org/licenses/by-sa/3.0/legalcode\" rel=\"license\">CC BY-SA 3.0</a> \n",
    "\n",
    "<a id='[4]'></a>[4] <a href=\"https://en.wikipedia.org/wiki/User:Gmaxwell\">Gregory F. Maxwell</a> &lt;<a href=\"mailto:gmaxwell@gmail.com\">gmaxwell@gmail.com</a>&gt; <a href=\"https://en.wikipedia.org/wiki/Pretty_Good_Privacy\">PGP</a>:<a href=\"http://pgp.nic.ad.jp/pks/lookup?op=vindex&amp;search=0xB0413BFA\">0xB0413BFA</a>, <a href=\"https://commons.wikimedia.org/wiki/File:Ferrofluid_Magnet_under_glass_edit.jpg#file\">Ferrofluid Magnet under glass edit</a>, <a href=\"https://creativecommons.org/licenses/by-sa/3.0/legalcode\" rel=\"license\">CC BY-SA 3.0</a> "
   ]
  }
 ],
 "metadata": {
  "kernelspec": {
   "display_name": "Python 3",
   "language": "python",
   "name": "python3"
  },
  "language_info": {
   "codemirror_mode": {
    "name": "ipython",
    "version": 3
   },
   "file_extension": ".py",
   "mimetype": "text/x-python",
   "name": "python",
   "nbconvert_exporter": "python",
   "pygments_lexer": "ipython3",
   "version": "3.8.10"
  }
 },
 "nbformat": 4,
 "nbformat_minor": 5
}
